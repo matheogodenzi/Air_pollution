{
 "cells": [
  {
   "cell_type": "markdown",
   "id": "b1037a30-d9d5-4bce-8927-ca5a1135bd36",
   "metadata": {},
   "source": [
    "# Weekdays vs Weekends"
   ]
  },
  {
   "cell_type": "markdown",
   "id": "3bb14ee4-2ea9-4b1a-8067-1c48f66f2925",
   "metadata": {
    "jp-MarkdownHeadingCollapsed": true
   },
   "source": [
    "## Libraries import"
   ]
  },
  {
   "cell_type": "code",
   "execution_count": 1,
   "id": "da44021c-19c1-49b5-9af0-f244bf0853b9",
   "metadata": {},
   "outputs": [
    {
     "name": "stderr",
     "output_type": "stream",
     "text": [
      "-- \u001b[1mAttaching core tidyverse packages\u001b[22m ---------------------------------------------------------------- tidyverse 2.0.0 --\n",
      "\u001b[32mv\u001b[39m \u001b[34mdplyr    \u001b[39m 1.1.2     \u001b[32mv\u001b[39m \u001b[34mreadr    \u001b[39m 2.1.4\n",
      "\u001b[32mv\u001b[39m \u001b[34mforcats  \u001b[39m 1.0.0     \u001b[32mv\u001b[39m \u001b[34mstringr  \u001b[39m 1.5.1\n",
      "\u001b[32mv\u001b[39m \u001b[34mggplot2  \u001b[39m 3.4.2     \u001b[32mv\u001b[39m \u001b[34mtibble   \u001b[39m 3.2.1\n",
      "\u001b[32mv\u001b[39m \u001b[34mlubridate\u001b[39m 1.9.2     \u001b[32mv\u001b[39m \u001b[34mtidyr    \u001b[39m 1.3.0\n",
      "\u001b[32mv\u001b[39m \u001b[34mpurrr    \u001b[39m 1.0.1     \n",
      "-- \u001b[1mConflicts\u001b[22m ---------------------------------------------------------------------------------- tidyverse_conflicts() --\n",
      "\u001b[31mx\u001b[39m \u001b[34mdplyr\u001b[39m::\u001b[32mfilter()\u001b[39m masks \u001b[34mstats\u001b[39m::filter()\n",
      "\u001b[31mx\u001b[39m \u001b[34mdplyr\u001b[39m::\u001b[32mlag()\u001b[39m    masks \u001b[34mstats\u001b[39m::lag()\n",
      "\u001b[36mi\u001b[39m Use the conflicted package (\u001b[3m\u001b[34m<http://conflicted.r-lib.org/>\u001b[39m\u001b[23m) to force all conflicts to become errors\n"
     ]
    }
   ],
   "source": [
    "library(tidyverse)\n",
    "library(dplyr)\n",
    "library(ggplot2)"
   ]
  },
  {
   "cell_type": "code",
   "execution_count": 2,
   "id": "cc08e5b0-9b16-4284-9bc2-50eb3cae079a",
   "metadata": {},
   "outputs": [
    {
     "data": {
      "text/html": [
       "'C'"
      ],
      "text/latex": [
       "'C'"
      ],
      "text/markdown": [
       "'C'"
      ],
      "text/plain": [
       "[1] \"C\""
      ]
     },
     "metadata": {},
     "output_type": "display_data"
    }
   ],
   "source": [
    "Sys.setlocale(\"LC_TIME\",\"C\")\n",
    "options(stringsAsFactors=FALSE)\n",
    "theme_set(theme_bw()) # just my preference for plots"
   ]
  },
  {
   "cell_type": "markdown",
   "id": "dd884af6-4093-42b5-8957-cb3e9754f09b",
   "metadata": {},
   "source": [
    "## Data import and structuring"
   ]
  },
  {
   "cell_type": "code",
   "execution_count": 4,
   "id": "2f32b6e3-1591-4aaf-843e-6bf5fe729105",
   "metadata": {},
   "outputs": [],
   "source": [
    "read_met <- function(filename) {\n",
    "  data <- read_table(filename, skip=15, \n",
    "    col_names= c(\"year\", \"month\", \"day\", \"hour\", \"minute\", \"WIRI\", \"WIGE\"),\n",
    "    col_types = paste(collapse = \"\", c(rep(\"i\", 5), rep(\"n\", 2))))\n",
    "  data %>%\n",
    "    mutate(datetime = make_datetime(year, month, day, hour, minute, tz = \"CEST\"),\n",
    "           year     = year(datetime),\n",
    "           month    = month(datetime),\n",
    "           day      = day(datetime),\n",
    "           hour     = hour(datetime),\n",
    "           minute   = minute(datetime),\n",
    "           WIRI     = ifelse(WIRI <= -9999, NA, WIRI),\n",
    "           WIGE     = ifelse(WIGE <= -9999, NA, WIGE))\n",
    "}"
   ]
  },
  {
   "cell_type": "code",
   "execution_count": 5,
   "id": "efb6228b-474b-4ab9-83e2-68d71cae04fa",
   "metadata": {},
   "outputs": [],
   "source": [
    "month2season <- function(month) {\n",
    "  ## month is an integer (1-12)\n",
    "  ## a factor with levels {\"Winter : DJF\", \"Spring : MAM\", \"Summer : JJA\", \"Autumn : SON\"} is returned\n",
    "  seasons <- c(\"Winter\", \"Spring\", \"Summer\", \"Autumn\")\n",
    "  index <- findInterval(month %% 12, seq(0, 12, 3))\n",
    "  factor(seasons[index], seasons)\n",
    "}\n",
    "\n",
    "wday2type <- function(wday) {\n",
    "  ## wday is an integer with 1 = Monday, 2 = Tuesday, ... and 7 = Sunday\n",
    "  c(\"Weekday\", \"Weekend\")[(unclass(wday) - 1) %/% 5 + 1]\n",
    "}"
   ]
  },
  {
   "cell_type": "code",
   "execution_count": 6,
   "id": "657ca3b9-6124-41f7-adb7-b84251bf4830",
   "metadata": {},
   "outputs": [],
   "source": [
    "read_tseries <- function(filename, timecolumn = \"Date/time\", timeformat = \"%d.%m.%Y %H:%M\", tz = \"Etc/GMT-1\", delta = 3600) {\n",
    "  ## read the table, strip units in column names, rename time column\n",
    "  ##   and change data type of time column from a string of characters to\n",
    "  ##   a numeric type so that we can perform operations on it\n",
    "\n",
    "  data <- read_delim(filename, skip = 5, delim = \";\", locale = locale(encoding = \"Latin1\"), show_col_types = FALSE)\n",
    "\n",
    "  out <- data %>%\n",
    "    rename_with(.fn = function(x) sub(\"[ ].*$\", \"\", x)) %>% # strip units for simplification\n",
    "    rename(datetime = !!timecolumn) %>%\n",
    "    mutate(datetime = parse_date_time(datetime, !!timeformat, !!tz) - !!delta) %>%\n",
    "    mutate(year = year(datetime),\n",
    "           month = month(datetime),\n",
    "           day = day(datetime),\n",
    "           hour = hour(datetime),\n",
    "           dayofwk = wday(datetime, label = TRUE, week_start = 1),\n",
    "           daytype = wday2type(dayofwk),\n",
    "           season = month2season(month),\n",
    "           .after = datetime)\n",
    "}"
   ]
  },
  {
   "cell_type": "code",
   "execution_count": 7,
   "id": "d60ad706-b82b-4492-8780-140e7e9e2e7c",
   "metadata": {},
   "outputs": [
    {
     "name": "stderr",
     "output_type": "stream",
     "text": [
      "\u001b[1m\u001b[22mJoining with `by = join_by(site, datetime, year, month, day, hour, dayofwk, daytype, season, O3, NO2, PM10, NOX, TEMP,\n",
      "PREC, RAD)`\n"
     ]
    }
   ],
   "source": [
    "datapath <- file.path(\"Data\")\n",
    "\n",
    "all_data_df <- full_join(\n",
    "  bind_cols(site=\"DAV\", read_tseries(file.path(datapath, \"DAV.csv\"))),\n",
    "  bind_cols(site=\"BAS\", read_tseries(file.path(datapath, \"BAS.csv\")))\n",
    ")\n",
    "\n",
    "#all_data_df"
   ]
  },
  {
   "cell_type": "code",
   "execution_count": 8,
   "id": "db1f154f-07a0-435a-b2dd-091d2dac8246",
   "metadata": {},
   "outputs": [],
   "source": [
    "all_data_lf <- all_data_df %>%\n",
    "  pivot_longer(-c(site, datetime, season, year, month, day, hour, dayofwk, daytype),  # id columns\n",
    "               names_to = \"variable\",\n",
    "               values_to = \"value\")"
   ]
  },
  {
   "cell_type": "markdown",
   "id": "29a07264-c221-497c-a0de-32ab5779f803",
   "metadata": {},
   "source": [
    "## Pollutants' results "
   ]
  },
  {
   "cell_type": "code",
   "execution_count": 9,
   "id": "660d034c-c0e9-461b-ad69-7eadabbb02e9",
   "metadata": {},
   "outputs": [
    {
     "data": {
      "image/png": "[encoded data removed]",
      "text/plain": [
       "plot without title"
      ]
     },
     "metadata": {
      "image/png": {
       "height": 420,
       "width": 420
      }
     },
     "output_type": "display_data"
    }
   ],
   "source": [
    "# both sites on the same graph\n",
    "daytype<-all_data_lf %>%\n",
    "  filter(!is.na(value) & !is.na(season) & !variable %in% c(\"CPC\", \"EC\", \"NOX\", \"PREC\"))\n",
    "  \n",
    "daytype_plot<-ggplot(daytype) +\n",
    "  facet_grid(variable ~ season, scales = \"free_y\", labeller = labeller(\n",
    "    variable = c(\n",
    "      \"NO2\" =  \"NO2 [ug/m3]\",\n",
    "      \"O3\" = \"O3 [ug/m3]\",\n",
    "      \"PM10\" = \"PM10 [ug/m3]\",\n",
    "      \"PM2.5\" = \"PM2.5 [ug/m3]\",\n",
    "      \"PREC\" = \"PREC [mm]\",\n",
    "      \"RAD\" = \"RAD [W/m2]\",\n",
    "      \"SO2\" = \"SO2 [ug/m3]\",\n",
    "      \"TEMP\" = \"TEMP [C]\"\n",
    "    )\n",
    "  )) + \n",
    "  geom_boxplot(\n",
    "    aes(x = daytype, y = value, color = site),\n",
    "    outlier.size = 0.5, \n",
    "    outlier.shape = 3\n",
    "  ) +\n",
    "    labs(\n",
    "    x = \"\",  # Label for the x-axis\n",
    "    y = \"\",  # Label for the y-axis\n",
    "    title = \"Day Type Differences through all Seasons\"  # Title for the plot\n",
    "  ) +\n",
    "  theme_minimal() +\n",
    "  theme(axis.text.x = element_text(angle = 45, hjust = 1))\n",
    "\n",
    "daytype_plot\n",
    "\n",
    "ggsave(\"outputs/daytype.jpeg\", plot = daytype_plot, width = 9, height = 9, dpi = 300)"
   ]
  },
  {
   "cell_type": "markdown",
   "id": "077ab5f5-f8df-4e5c-9547-c32d270de98c",
   "metadata": {},
   "source": [
    "## Precipitation analysis"
   ]
  },
  {
   "cell_type": "code",
   "execution_count": 10,
   "id": "cd896664-2a4b-43ab-be67-0fa09e657c6d",
   "metadata": {},
   "outputs": [
    {
     "name": "stderr",
     "output_type": "stream",
     "text": [
      "\u001b[1m\u001b[22m`summarise()` has grouped output by 'daytype', 'variable', 'season'. You can override using the `.groups` argument.\n",
      "Warning message:\n",
      "\"\u001b[1m\u001b[22mThe `size` argument of `element_rect()` is deprecated as of ggplot2 3.4.0.\n",
      "\u001b[36mi\u001b[39m Please use the `linewidth` argument instead.\"\n"
     ]
    },
    {
     "data": {
      "image/png": "[encoded data removed]",
      "text/plain": [
       "plot without title"
      ]
     },
     "metadata": {
      "image/png": {
       "height": 420,
       "width": 420
      }
     },
     "output_type": "display_data"
    }
   ],
   "source": [
    "Precipitation_data <- all_data_lf %>%\n",
    "  filter(!is.na(value) & variable == \"PREC\" & !is.na(season)) %>%\n",
    "  group_by(daytype, variable, season, site) %>%\n",
    "  summarise(\n",
    "    mean_value = mean(value, na.rm = TRUE),\n",
    "    sd_value = sd(value, na.rm = TRUE),\n",
    "    n = sum(!is.na(value)),  # Sample size (excluding NA)\n",
    "    se_value = sd_value / sqrt(n),  # Standard error\n",
    "    ci_value = qt(0.975, df = n - 1) * se_value  # 95% Confidence Interval\n",
    "  )\n",
    "\n",
    "precipitations_plot_1 <-ggplot(Precipitation_data,\n",
    "    aes(\n",
    "    x = daytype, \n",
    "    y = mean_value, \n",
    "    color = site,\n",
    "    fill=site\n",
    "  )\n",
    ") +\n",
    "  facet_grid(variable ~ season, scales = \"free_y\") +\n",
    "  # Adjust the dodge width for bars and error bars to avoid superimposition\n",
    "  geom_bar(\n",
    "    stat = \"identity\", \n",
    "    show.legend = TRUE, \n",
    "    position = position_dodge(width = 0.8),  # Separate bars for each site\n",
    "    width = 0.35  # Adjust bar width to avoid overlap\n",
    "  ) +  # Mean values as bars\n",
    "  geom_errorbar(\n",
    "    aes(ymin = mean_value - ci_value, ymax = mean_value + ci_value), \n",
    "    width = 0.2, \n",
    "    position = position_dodge(width = 0.8),  # Align error bars with the bars for each site\n",
    "    color = \"black\"\n",
    "  ) +  # 95% CI error bars\n",
    "  labs(\n",
    "    x = \"Day Type\",  # Label for the x-axis\n",
    "    y = \"Log10 of Precipitation (mm)\",  # Label for the y-axis\n",
    "    title = \"Hourly Mean Precipitation by Day Type and Season\"  # Title for the plot\n",
    "  ) +\n",
    "  scale_y_continuous(\"Hourly mean precipitation (mm)\", expand = expansion(mult = c(0, 0.1))) +\n",
    "  theme_minimal() +\n",
    "  theme(\n",
    "    axis.text.x = element_text(angle = 45, hjust = 1),\n",
    "    strip.text.y = element_text(size = 12, face = \"bold\"),  # Make facet labels bolder\n",
    "    panel.border = element_rect(color = \"black\", fill = NA, size = 1)  # Add box around each facet\n",
    "  )\n",
    "\n",
    "precipitations_plot_1\n",
    "\n",
    "ggsave(\"outputs/precipitations_DayType_sites.jpeg\", plot = precipitations_plot_1, width = 6, height = 5, dpi = 300)\n"
   ]
  },
  {
   "cell_type": "code",
   "execution_count": 11,
   "id": "2268f25e-ae1e-4900-8db4-e2766385123e",
   "metadata": {},
   "outputs": [
    {
     "name": "stderr",
     "output_type": "stream",
     "text": [
      "Warning message:\n",
      "\"\u001b[1m\u001b[22mTransformation introduced infinite values in continuous y-axis\"\n",
      "Warning message:\n",
      "\"\u001b[1m\u001b[22mRemoved 15456 rows containing non-finite values (`stat_boxplot()`).\"\n",
      "Warning message:\n",
      "\"\u001b[1m\u001b[22mTransformation introduced infinite values in continuous y-axis\"\n",
      "Warning message:\n",
      "\"\u001b[1m\u001b[22mRemoved 15456 rows containing non-finite values (`stat_boxplot()`).\"\n"
     ]
    },
    {
     "data": {
      "image/png": "[encoded data removed]",
      "text/plain": [
       "plot without title"
      ]
     },
     "metadata": {
      "image/png": {
       "height": 420,
       "width": 420
      }
     },
     "output_type": "display_data"
    }
   ],
   "source": [
    "library(ggplot2)\n",
    "library(dplyr)\n",
    "\n",
    "# Filter the data for the PREC variable\n",
    "daytype <- all_data_lf %>%\n",
    "  filter(!is.na(value) & !is.na(season) & variable == \"PREC\")\n",
    "\n",
    "# Create the plot for PREC only, with a log y scale and clear separation of seasons\n",
    "daytype_plot <- ggplot(daytype) +\n",
    "  facet_grid(~ season, scales = \"free_y\", labeller = labeller(\n",
    "    variable = c(\n",
    "      \"PREC\" = \"PREC [mm]\"\n",
    "    )\n",
    "  )) + \n",
    "  # Add the rectangle around each season facet\n",
    "  geom_boxplot(\n",
    "    aes(x = daytype, y = value, color = site),\n",
    "    outlier.size = 0.5, \n",
    "    outlier.shape = 3,\n",
    "    position = position_dodge(width = 0.7)  # Separate the boxplots for each season\n",
    "  ) +\n",
    "  scale_y_log10() +  # Apply log scale to y-axis\n",
    "  labs(\n",
    "    x = \"Day Type\",  # Label for the x-axis\n",
    "    y = \"Log10 of Precipitation (mm)\",  # Label for the y-axis\n",
    "    title = \"Precipitation Distribution by Day Type and Season\"  # Title for the plot\n",
    "  ) +\n",
    "  theme_minimal() +\n",
    "  theme(\n",
    "    axis.text.x = element_text(angle = 45, hjust = 1),\n",
    "    strip.text.y = element_text(size = 12, face = \"bold\"),  # Make facet labels bolder\n",
    "    panel.border = element_rect(color = \"black\", fill = NA, size = 1)  # Add box around each facet\n",
    "  )\n",
    "\n",
    "# Print the plot\n",
    "daytype_plot\n",
    "\n",
    "# Save the plot\n",
    "ggsave(\"outputs/daytype_prec_log_separated_seasons_with_boxes.jpeg\", plot = daytype_plot, width = 6, height = 5, dpi = 300)\n"
   ]
  },
  {
   "cell_type": "markdown",
   "id": "e7548926-41b1-403c-807a-4e32ae04ac17",
   "metadata": {},
   "source": [
    "### Accumulated precipitations"
   ]
  },
  {
   "cell_type": "code",
   "execution_count": 12,
   "id": "ffc746a7-4e46-4f71-8128-a3089d14004d",
   "metadata": {},
   "outputs": [
    {
     "data": {
      "image/png": "[encoded data removed]",
      "text/plain": [
       "plot without title"
      ]
     },
     "metadata": {
      "image/png": {
       "height": 420,
       "width": 420
      }
     },
     "output_type": "display_data"
    }
   ],
   "source": [
    "# Filter out NA values and calculate cumulative sum using reframe()\n",
    "Precipitation_cumsum_data <- all_data_lf %>%\n",
    "  filter(!is.na(value) & variable == \"PREC\" & !is.na(season)) %>%\n",
    "  group_by(daytype, season, site) %>%\n",
    "  reframe(\n",
    "    cumsum_value = cumsum(value)  # Compute cumulative sum for each group\n",
    "  )\n",
    "\n",
    "# Create the plot\n",
    "precipitations_plot_2 <- ggplot(Precipitation_cumsum_data, aes(\n",
    "    x = daytype, \n",
    "    y = cumsum_value, \n",
    "    color = site,\n",
    "    fill = site\n",
    "  )) +\n",
    "  facet_grid(~ season, scales = \"free_y\") +\n",
    "  geom_bar(\n",
    "    stat = \"identity\", \n",
    "    show.legend = TRUE, \n",
    "    position = position_dodge(width = 0.8),  # Separate bars for each site\n",
    "    width = 0.35  # Adjust bar width to avoid overlap\n",
    "  ) +\n",
    "  scale_y_continuous(\"Precipitation (mm)\", expand = expansion(mult = c(0, 0.1))) +  # Adjust label to reflect cumulative values\n",
    "  theme_minimal() +\n",
    "    labs(\n",
    "    x = \"Day Type\",  # Label for the x-axis\n",
    "    y = \"Precipitation (mm)\",  # Label for the y-axis\n",
    "    title = \"Accumulated Precipitation by Day Type and Season\"  # Title for the plot\n",
    "  ) +\n",
    "  theme(\n",
    "    axis.text.x = element_text(angle = 45, hjust = 1),\n",
    "    strip.text.y = element_text(size = 12, face = \"bold\"),  # Make facet labels bolder\n",
    "    panel.border = element_rect(color = \"black\", fill = NA, size = 1)  # Add box around each facet\n",
    "  )\n",
    "\n",
    "# Print the plot\n",
    "precipitations_plot_2\n",
    "\n",
    "ggsave(\"outputs/accumulated_precipitations_1.jpeg\", plot = precipitations_plot_2, width = 6, height = 5, dpi = 300)\n"
   ]
  },
  {
   "cell_type": "markdown",
   "id": "a14f013c-9278-46a9-97cf-7054236a77f6",
   "metadata": {},
   "source": [
    "## Wind analysis "
   ]
  },
  {
   "cell_type": "code",
   "execution_count": null,
   "id": "4df76fc5-6fbc-4d76-86a7-fc315a10cb31",
   "metadata": {},
   "outputs": [],
   "source": []
  }
 ],
 "metadata": {
  "kernelspec": {
   "display_name": "R",
   "language": "R",
   "name": "ir"
  },
  "language_info": {
   "codemirror_mode": "r",
   "file_extension": ".r",
   "mimetype": "text/x-r-source",
   "name": "R",
   "pygments_lexer": "r",
   "version": "4.1.3"
  }
 },
 "nbformat": 4,
 "nbformat_minor": 5
}
