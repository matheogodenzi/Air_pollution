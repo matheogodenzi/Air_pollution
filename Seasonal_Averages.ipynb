{
 "cells": [
  {
   "cell_type": "markdown",
   "id": "5faacad4-57ec-40d3-9509-c64538b6fa0c",
   "metadata": {},
   "source": [
    "# Seasonal Averages"
   ]
  },
  {
   "cell_type": "code",
   "execution_count": 1,
   "id": "75a0b645-81cb-4240-9f98-033e8e8cfc9e",
   "metadata": {},
   "outputs": [
    {
     "name": "stderr",
     "output_type": "stream",
     "text": [
      "-- \u001b[1mAttaching core tidyverse packages\u001b[22m ---------------------------------------------------------------- tidyverse 2.0.0 --\n",
      "\u001b[32mv\u001b[39m \u001b[34mdplyr    \u001b[39m 1.1.2     \u001b[32mv\u001b[39m \u001b[34mreadr    \u001b[39m 2.1.4\n",
      "\u001b[32mv\u001b[39m \u001b[34mforcats  \u001b[39m 1.0.0     \u001b[32mv\u001b[39m \u001b[34mstringr  \u001b[39m 1.5.1\n",
      "\u001b[32mv\u001b[39m \u001b[34mggplot2  \u001b[39m 3.4.2     \u001b[32mv\u001b[39m \u001b[34mtibble   \u001b[39m 3.2.1\n",
      "\u001b[32mv\u001b[39m \u001b[34mlubridate\u001b[39m 1.9.2     \u001b[32mv\u001b[39m \u001b[34mtidyr    \u001b[39m 1.3.0\n",
      "\u001b[32mv\u001b[39m \u001b[34mpurrr    \u001b[39m 1.0.1     \n",
      "-- \u001b[1mConflicts\u001b[22m ---------------------------------------------------------------------------------- tidyverse_conflicts() --\n",
      "\u001b[31mx\u001b[39m \u001b[34mdplyr\u001b[39m::\u001b[32mfilter()\u001b[39m masks \u001b[34mstats\u001b[39m::filter()\n",
      "\u001b[31mx\u001b[39m \u001b[34mdplyr\u001b[39m::\u001b[32mlag()\u001b[39m    masks \u001b[34mstats\u001b[39m::lag()\n",
      "\u001b[36mi\u001b[39m Use the conflicted package (\u001b[3m\u001b[34m<http://conflicted.r-lib.org/>\u001b[39m\u001b[23m) to force all conflicts to become errors\n"
     ]
    }
   ],
   "source": [
    "library(tidyverse)"
   ]
  },
  {
   "cell_type": "code",
   "execution_count": 2,
   "id": "9732bbb0-329d-40cc-9bed-e585a13ecabf",
   "metadata": {},
   "outputs": [
    {
     "data": {
      "text/html": [
       "'C'"
      ],
      "text/latex": [
       "'C'"
      ],
      "text/markdown": [
       "'C'"
      ],
      "text/plain": [
       "[1] \"C\""
      ]
     },
     "metadata": {},
     "output_type": "display_data"
    }
   ],
   "source": [
    "Sys.setlocale(\"LC_TIME\",\"C\")\n",
    "options(stringsAsFactors=FALSE)\n",
    "theme_set(theme_bw()) # just my preference for plots"
   ]
  },
  {
   "cell_type": "code",
   "execution_count": 3,
   "id": "28b6452b-cb94-4771-9c8b-0e1b26526e1d",
   "metadata": {},
   "outputs": [],
   "source": [
    "read_met <- function(filename) {\n",
    "  data <- read_table(filename, skip=15, \n",
    "    col_names= c(\"year\", \"month\", \"day\", \"hour\", \"minute\", \"WIRI\", \"WIGE\"),\n",
    "    col_types = paste(collapse = \"\", c(rep(\"i\", 5), rep(\"n\", 2))))\n",
    "  data %>%\n",
    "    mutate(datetime = make_datetime(year, month, day, hour, minute, tz = \"CEST\"),\n",
    "           year     = year(datetime),\n",
    "           month    = month(datetime),\n",
    "           day      = day(datetime),\n",
    "           hour     = hour(datetime),\n",
    "           minute   = minute(datetime),\n",
    "           WIRI     = ifelse(WIRI <= -9999, NA, WIRI),\n",
    "           WIGE     = ifelse(WIGE <= -9999, NA, WIGE))\n",
    "}"
   ]
  },
  {
   "cell_type": "code",
   "execution_count": 4,
   "id": "480c6a24-cc23-4c7d-9d5b-607c51be608f",
   "metadata": {},
   "outputs": [],
   "source": [
    "month2season <- function(month) {\n",
    "  ## month is an integer (1-12)\n",
    "  ## a factor with levels {\"Winter : DJF\", \"Spring : MAM\", \"Summer : JJA\", \"Autumn : SON\"} is returned\n",
    "  seasons <- c(\"Winter\", \"Spring\", \"Summer\", \"Autumn\")\n",
    "  index <- findInterval(month %% 12, seq(0, 12, 3))\n",
    "  factor(seasons[index], seasons)\n",
    "}\n",
    "\n",
    "wday2type <- function(wday) {\n",
    "  ## wday is an integer with 1 = Monday, 2 = Tuesday, ... and 7 = Sunday\n",
    "  c(\"Weekday\", \"Weekend\")[(unclass(wday) - 1) %/% 5 + 1]\n",
    "}"
   ]
  },
  {
   "cell_type": "code",
   "execution_count": 5,
   "id": "a7ce8561-9613-4a66-af23-eb5ed8cc40e2",
   "metadata": {},
   "outputs": [],
   "source": [
    "read_tseries <- function(filename, timecolumn = \"Date/time\", timeformat = \"%d.%m.%Y %H:%M\", tz = \"Etc/GMT-1\", delta = 3600) {\n",
    "  ## read the table, strip units in column names, rename time column\n",
    "  ##   and change data type of time column from a string of characters to\n",
    "  ##   a numeric type so that we can perform operations on it\n",
    "\n",
    "  data <- read_delim(filename, skip = 5, delim = \";\", locale = locale(encoding = \"Latin1\"), show_col_types = FALSE)\n",
    "\n",
    "  out <- data %>%\n",
    "    rename_with(.fn = function(x) sub(\"[ ].*$\", \"\", x)) %>% # strip units for simplification\n",
    "    rename(datetime = !!timecolumn) %>%\n",
    "    mutate(datetime = parse_date_time(datetime, !!timeformat, !!tz) - !!delta) %>%\n",
    "    mutate(year = year(datetime),\n",
    "           month = month(datetime),\n",
    "           day = day(datetime),\n",
    "           hour = hour(datetime),\n",
    "           dayofwk = wday(datetime, label = TRUE, week_start = 1),\n",
    "           daytype = wday2type(dayofwk),\n",
    "           season = month2season(month),\n",
    "           .after = datetime)\n",
    "}"
   ]
  },
  {
   "cell_type": "code",
   "execution_count": 7,
   "id": "8736aaf9-67cc-4c00-a297-631166c60dfd",
   "metadata": {},
   "outputs": [
    {
     "name": "stderr",
     "output_type": "stream",
     "text": [
      "\u001b[1m\u001b[22mJoining with `by = join_by(site, datetime, year, month, day, hour, dayofwk, daytype, season, O3, NO2, PM10, NOX, TEMP,\n",
      "PREC, RAD)`\n"
     ]
    }
   ],
   "source": [
    "datapath <- file.path(\"Data\")\n",
    "\n",
    "all_data_df <- full_join(\n",
    "  bind_cols(site=\"DAV\", read_tseries(file.path(datapath, \"DAV.csv\"))),\n",
    "  bind_cols(site=\"BAS\", read_tseries(file.path(datapath, \"BAS.csv\")))\n",
    ")"
   ]
  },
  {
   "cell_type": "code",
   "execution_count": 8,
   "id": "b4b5de00-6795-499e-85fb-16feaf446839",
   "metadata": {},
   "outputs": [
    {
     "data": {
      "text/html": [
       "<table class=\"dataframe\">\n",
       "<caption>A tibble: 17568 × 20</caption>\n",
       "<thead>\n",
       "\t<tr><th scope=col>site</th><th scope=col>datetime</th><th scope=col>year</th><th scope=col>month</th><th scope=col>day</th><th scope=col>hour</th><th scope=col>dayofwk</th><th scope=col>daytype</th><th scope=col>season</th><th scope=col>O3</th><th scope=col>NO2</th><th scope=col>PM10</th><th scope=col>NOX</th><th scope=col>TEMP</th><th scope=col>PREC</th><th scope=col>RAD</th><th scope=col>SO2</th><th scope=col>PM2.5</th><th scope=col>EC</th><th scope=col>CPC</th></tr>\n",
       "\t<tr><th scope=col>&lt;chr&gt;</th><th scope=col>&lt;dttm&gt;</th><th scope=col>&lt;dbl&gt;</th><th scope=col>&lt;dbl&gt;</th><th scope=col>&lt;int&gt;</th><th scope=col>&lt;int&gt;</th><th scope=col>&lt;ord&gt;</th><th scope=col>&lt;chr&gt;</th><th scope=col>&lt;fct&gt;</th><th scope=col>&lt;dbl&gt;</th><th scope=col>&lt;dbl&gt;</th><th scope=col>&lt;dbl&gt;</th><th scope=col>&lt;dbl&gt;</th><th scope=col>&lt;dbl&gt;</th><th scope=col>&lt;dbl&gt;</th><th scope=col>&lt;dbl&gt;</th><th scope=col>&lt;dbl&gt;</th><th scope=col>&lt;dbl&gt;</th><th scope=col>&lt;dbl&gt;</th><th scope=col>&lt;dbl&gt;</th></tr>\n",
       "</thead>\n",
       "<tbody>\n",
       "\t<tr><td>DAV</td><td>2024-01-01 00:00:00</td><td>2024</td><td>1</td><td>1</td><td> 0</td><td>Mon</td><td>Weekday</td><td>Winter</td><td>57.7</td><td>1.9</td><td>1.2</td><td>1.9</td><td>-2.2</td><td>0</td><td> -0.6</td><td>NA</td><td>NA</td><td>NA</td><td>NA</td></tr>\n",
       "\t<tr><td>DAV</td><td>2024-01-01 01:00:00</td><td>2024</td><td>1</td><td>1</td><td> 1</td><td>Mon</td><td>Weekday</td><td>Winter</td><td>55.2</td><td>2.1</td><td>1.5</td><td>2.1</td><td>-2.8</td><td>0</td><td> -0.7</td><td>NA</td><td>NA</td><td>NA</td><td>NA</td></tr>\n",
       "\t<tr><td>DAV</td><td>2024-01-01 02:00:00</td><td>2024</td><td>1</td><td>1</td><td> 2</td><td>Mon</td><td>Weekday</td><td>Winter</td><td>49.9</td><td>3.7</td><td>2.2</td><td>3.7</td><td>-3.3</td><td>0</td><td> -0.7</td><td>NA</td><td>NA</td><td>NA</td><td>NA</td></tr>\n",
       "\t<tr><td>DAV</td><td>2024-01-01 03:00:00</td><td>2024</td><td>1</td><td>1</td><td> 3</td><td>Mon</td><td>Weekday</td><td>Winter</td><td>52.1</td><td>4.5</td><td>3.0</td><td>4.6</td><td>-4.2</td><td>0</td><td> -1.1</td><td>NA</td><td>NA</td><td>NA</td><td>NA</td></tr>\n",
       "\t<tr><td>DAV</td><td>2024-01-01 04:00:00</td><td>2024</td><td>1</td><td>1</td><td> 4</td><td>Mon</td><td>Weekday</td><td>Winter</td><td>65.8</td><td>0.7</td><td>0.2</td><td>0.7</td><td>-5.2</td><td>0</td><td> -1.3</td><td>NA</td><td>NA</td><td>NA</td><td>NA</td></tr>\n",
       "\t<tr><td>DAV</td><td>2024-01-01 05:00:00</td><td>2024</td><td>1</td><td>1</td><td> 5</td><td>Mon</td><td>Weekday</td><td>Winter</td><td>67.1</td><td>0.7</td><td>0.4</td><td>0.7</td><td>-5.6</td><td>0</td><td> -0.8</td><td>NA</td><td>NA</td><td>NA</td><td>NA</td></tr>\n",
       "\t<tr><td>DAV</td><td>2024-01-01 06:00:00</td><td>2024</td><td>1</td><td>1</td><td> 6</td><td>Mon</td><td>Weekday</td><td>Winter</td><td>64.0</td><td>3.4</td><td>0.3</td><td>3.5</td><td>-5.7</td><td>0</td><td> -0.6</td><td>NA</td><td>NA</td><td>NA</td><td>NA</td></tr>\n",
       "\t<tr><td>DAV</td><td>2024-01-01 07:00:00</td><td>2024</td><td>1</td><td>1</td><td> 7</td><td>Mon</td><td>Weekday</td><td>Winter</td><td>58.4</td><td>5.4</td><td>0.3</td><td>5.4</td><td>-5.9</td><td>0</td><td> -0.6</td><td>NA</td><td>NA</td><td>NA</td><td>NA</td></tr>\n",
       "\t<tr><td>DAV</td><td>2024-01-01 08:00:00</td><td>2024</td><td>1</td><td>1</td><td> 8</td><td>Mon</td><td>Weekday</td><td>Winter</td><td>61.8</td><td>1.7</td><td>0.3</td><td>1.8</td><td>-5.7</td><td>0</td><td> 22.6</td><td>NA</td><td>NA</td><td>NA</td><td>NA</td></tr>\n",
       "\t<tr><td>DAV</td><td>2024-01-01 09:00:00</td><td>2024</td><td>1</td><td>1</td><td> 9</td><td>Mon</td><td>Weekday</td><td>Winter</td><td>59.0</td><td>2.9</td><td>0.4</td><td>3.4</td><td>-5.3</td><td>0</td><td> 73.9</td><td>NA</td><td>NA</td><td>NA</td><td>NA</td></tr>\n",
       "\t<tr><td>DAV</td><td>2024-01-01 10:00:00</td><td>2024</td><td>1</td><td>1</td><td>10</td><td>Mon</td><td>Weekday</td><td>Winter</td><td>57.8</td><td>3.4</td><td>0.5</td><td>4.4</td><td>-4.3</td><td>0</td><td>169.3</td><td>NA</td><td>NA</td><td>NA</td><td>NA</td></tr>\n",
       "\t<tr><td>DAV</td><td>2024-01-01 11:00:00</td><td>2024</td><td>1</td><td>1</td><td>11</td><td>Mon</td><td>Weekday</td><td>Winter</td><td>53.2</td><td>4.9</td><td>0.7</td><td>7.2</td><td>-3.3</td><td>0</td><td>301.3</td><td>NA</td><td>NA</td><td>NA</td><td>NA</td></tr>\n",
       "\t<tr><td>DAV</td><td>2024-01-01 12:00:00</td><td>2024</td><td>1</td><td>1</td><td>12</td><td>Mon</td><td>Weekday</td><td>Winter</td><td>61.4</td><td>1.8</td><td>0.4</td><td>2.5</td><td>-2.3</td><td>0</td><td>272.5</td><td>NA</td><td>NA</td><td>NA</td><td>NA</td></tr>\n",
       "\t<tr><td>DAV</td><td>2024-01-01 13:00:00</td><td>2024</td><td>1</td><td>1</td><td>13</td><td>Mon</td><td>Weekday</td><td>Winter</td><td>63.6</td><td>1.4</td><td>0.5</td><td>1.7</td><td>-2.4</td><td>0</td><td>129.9</td><td>NA</td><td>NA</td><td>NA</td><td>NA</td></tr>\n",
       "\t<tr><td>DAV</td><td>2024-01-01 14:00:00</td><td>2024</td><td>1</td><td>1</td><td>14</td><td>Mon</td><td>Weekday</td><td>Winter</td><td>62.6</td><td>4.3</td><td>0.6</td><td>5.2</td><td>-2.3</td><td>0</td><td>118.1</td><td>NA</td><td>NA</td><td>NA</td><td>NA</td></tr>\n",
       "\t<tr><td>DAV</td><td>2024-01-01 15:00:00</td><td>2024</td><td>1</td><td>1</td><td>15</td><td>Mon</td><td>Weekday</td><td>Winter</td><td>55.4</td><td>5.8</td><td>0.8</td><td>6.7</td><td>-2.5</td><td>0</td><td> 59.1</td><td>NA</td><td>NA</td><td>NA</td><td>NA</td></tr>\n",
       "\t<tr><td>DAV</td><td>2024-01-01 16:00:00</td><td>2024</td><td>1</td><td>1</td><td>16</td><td>Mon</td><td>Weekday</td><td>Winter</td><td>60.7</td><td>2.8</td><td>0.8</td><td>3.0</td><td>-3.4</td><td>0</td><td> 13.2</td><td>NA</td><td>NA</td><td>NA</td><td>NA</td></tr>\n",
       "\t<tr><td>DAV</td><td>2024-01-01 17:00:00</td><td>2024</td><td>1</td><td>1</td><td>17</td><td>Mon</td><td>Weekday</td><td>Winter</td><td>61.7</td><td>1.6</td><td>1.1</td><td>1.7</td><td>-4.9</td><td>0</td><td> -1.1</td><td>NA</td><td>NA</td><td>NA</td><td>NA</td></tr>\n",
       "\t<tr><td>DAV</td><td>2024-01-01 18:00:00</td><td>2024</td><td>1</td><td>1</td><td>18</td><td>Mon</td><td>Weekday</td><td>Winter</td><td>68.0</td><td>1.4</td><td>0.6</td><td>1.4</td><td>-5.3</td><td>0</td><td> -1.0</td><td>NA</td><td>NA</td><td>NA</td><td>NA</td></tr>\n",
       "\t<tr><td>DAV</td><td>2024-01-01 19:00:00</td><td>2024</td><td>1</td><td>1</td><td>19</td><td>Mon</td><td>Weekday</td><td>Winter</td><td>68.7</td><td>0.8</td><td>0.5</td><td>0.9</td><td>-5.7</td><td>0</td><td> -1.0</td><td>NA</td><td>NA</td><td>NA</td><td>NA</td></tr>\n",
       "\t<tr><td>DAV</td><td>2024-01-01 20:00:00</td><td>2024</td><td>1</td><td>1</td><td>20</td><td>Mon</td><td>Weekday</td><td>Winter</td><td>68.5</td><td>1.3</td><td>0.6</td><td>1.4</td><td>-5.8</td><td>0</td><td> -0.9</td><td>NA</td><td>NA</td><td>NA</td><td>NA</td></tr>\n",
       "\t<tr><td>DAV</td><td>2024-01-01 21:00:00</td><td>2024</td><td>1</td><td>1</td><td>21</td><td>Mon</td><td>Weekday</td><td>Winter</td><td>65.8</td><td>2.3</td><td>2.4</td><td>2.8</td><td>-6.4</td><td>0</td><td> -0.9</td><td>NA</td><td>NA</td><td>NA</td><td>NA</td></tr>\n",
       "\t<tr><td>DAV</td><td>2024-01-01 22:00:00</td><td>2024</td><td>1</td><td>1</td><td>22</td><td>Mon</td><td>Weekday</td><td>Winter</td><td>71.4</td><td>0.4</td><td>0.3</td><td>0.5</td><td>-5.6</td><td>0</td><td> -0.9</td><td>NA</td><td>NA</td><td>NA</td><td>NA</td></tr>\n",
       "\t<tr><td>DAV</td><td>2024-01-01 23:00:00</td><td>2024</td><td>1</td><td>1</td><td>23</td><td>Mon</td><td>Weekday</td><td>Winter</td><td>70.3</td><td>0.4</td><td>0.3</td><td>0.5</td><td>-6.8</td><td>0</td><td> -1.1</td><td>NA</td><td>NA</td><td>NA</td><td>NA</td></tr>\n",
       "\t<tr><td>DAV</td><td>2024-01-02 00:00:00</td><td>2024</td><td>1</td><td>2</td><td> 0</td><td>Tue</td><td>Weekday</td><td>Winter</td><td>72.2</td><td>0.7</td><td>0.2</td><td>0.8</td><td>-6.6</td><td>0</td><td> -0.5</td><td>NA</td><td>NA</td><td>NA</td><td>NA</td></tr>\n",
       "\t<tr><td>DAV</td><td>2024-01-02 01:00:00</td><td>2024</td><td>1</td><td>2</td><td> 1</td><td>Tue</td><td>Weekday</td><td>Winter</td><td>75.6</td><td>0.2</td><td>0.2</td><td>0.3</td><td>-6.0</td><td>0</td><td> -0.7</td><td>NA</td><td>NA</td><td>NA</td><td>NA</td></tr>\n",
       "\t<tr><td>DAV</td><td>2024-01-02 02:00:00</td><td>2024</td><td>1</td><td>2</td><td> 2</td><td>Tue</td><td>Weekday</td><td>Winter</td><td>75.9</td><td>0.5</td><td>0.4</td><td>0.6</td><td>-5.9</td><td>0</td><td> -0.7</td><td>NA</td><td>NA</td><td>NA</td><td>NA</td></tr>\n",
       "\t<tr><td>DAV</td><td>2024-01-02 03:00:00</td><td>2024</td><td>1</td><td>2</td><td> 3</td><td>Tue</td><td>Weekday</td><td>Winter</td><td>71.8</td><td>2.3</td><td>0.4</td><td>2.6</td><td>-6.6</td><td>0</td><td> -0.2</td><td>NA</td><td>NA</td><td>NA</td><td>NA</td></tr>\n",
       "\t<tr><td>DAV</td><td>2024-01-02 04:00:00</td><td>2024</td><td>1</td><td>2</td><td> 4</td><td>Tue</td><td>Weekday</td><td>Winter</td><td>73.8</td><td>1.2</td><td>0.2</td><td>1.2</td><td>-6.1</td><td>0</td><td> -0.1</td><td>NA</td><td>NA</td><td>NA</td><td>NA</td></tr>\n",
       "\t<tr><td>DAV</td><td>2024-01-02 05:00:00</td><td>2024</td><td>1</td><td>2</td><td> 5</td><td>Tue</td><td>Weekday</td><td>Winter</td><td>70.4</td><td>3.6</td><td>0.2</td><td>3.7</td><td>-5.8</td><td>0</td><td>  0.0</td><td>NA</td><td>NA</td><td>NA</td><td>NA</td></tr>\n",
       "\t<tr><td>...</td><td>...</td><td>...</td><td>...</td><td>...</td><td>...</td><td>...</td><td>...</td><td>...</td><td>...</td><td>...</td><td>...</td><td>...</td><td>...</td><td>...</td><td>...</td><td>...</td><td>...</td><td>...</td><td>...</td></tr>\n",
       "\t<tr><td>BAS</td><td>2024-12-30 18:00:00</td><td>2024</td><td>12</td><td>30</td><td>18</td><td>Mon</td><td>Weekday</td><td>Winter</td><td> 5.8</td><td>32.1</td><td>14.4</td><td>34.4</td><td>-0.5</td><td>0</td><td>  0.0</td><td>0.3</td><td>16.8</td><td>0.6</td><td> 5815.7</td></tr>\n",
       "\t<tr><td>BAS</td><td>2024-12-30 19:00:00</td><td>2024</td><td>12</td><td>30</td><td>19</td><td>Mon</td><td>Weekday</td><td>Winter</td><td> 7.3</td><td>30.6</td><td>13.9</td><td>33.0</td><td>-0.7</td><td>0</td><td>  0.0</td><td>0.4</td><td>16.4</td><td>0.6</td><td> 6715.2</td></tr>\n",
       "\t<tr><td>BAS</td><td>2024-12-30 20:00:00</td><td>2024</td><td>12</td><td>30</td><td>20</td><td>Mon</td><td>Weekday</td><td>Winter</td><td> 6.3</td><td>30.0</td><td>13.6</td><td>31.9</td><td>-1.0</td><td>0</td><td>  0.0</td><td>0.5</td><td>16.3</td><td>0.7</td><td> 6380.9</td></tr>\n",
       "\t<tr><td>BAS</td><td>2024-12-30 21:00:00</td><td>2024</td><td>12</td><td>30</td><td>21</td><td>Mon</td><td>Weekday</td><td>Winter</td><td> 7.2</td><td>24.3</td><td>13.9</td><td>25.5</td><td>-2.0</td><td>0</td><td>  0.0</td><td>0.3</td><td>16.7</td><td>0.7</td><td> 5976.5</td></tr>\n",
       "\t<tr><td>BAS</td><td>2024-12-30 22:00:00</td><td>2024</td><td>12</td><td>30</td><td>22</td><td>Mon</td><td>Weekday</td><td>Winter</td><td> 8.4</td><td>20.6</td><td>13.3</td><td>21.5</td><td>-2.8</td><td>0</td><td>  0.0</td><td>0.3</td><td>16.3</td><td>0.7</td><td> 5303.4</td></tr>\n",
       "\t<tr><td>BAS</td><td>2024-12-30 23:00:00</td><td>2024</td><td>12</td><td>30</td><td>23</td><td>Mon</td><td>Weekday</td><td>Winter</td><td> 8.0</td><td>21.1</td><td>13.6</td><td>22.0</td><td>-3.2</td><td>0</td><td>  0.0</td><td>0.2</td><td>16.4</td><td>0.7</td><td> 5421.7</td></tr>\n",
       "\t<tr><td>BAS</td><td>2024-12-31 00:00:00</td><td>2024</td><td>12</td><td>31</td><td> 0</td><td>Tue</td><td>Weekday</td><td>Winter</td><td> 8.4</td><td>19.4</td><td>17.9</td><td>20.3</td><td>-3.6</td><td>0</td><td>  0.0</td><td>0.2</td><td>17.7</td><td>0.7</td><td> 5047.5</td></tr>\n",
       "\t<tr><td>BAS</td><td>2024-12-31 01:00:00</td><td>2024</td><td>12</td><td>31</td><td> 1</td><td>Tue</td><td>Weekday</td><td>Winter</td><td> 9.9</td><td>18.6</td><td>16.2</td><td>19.1</td><td>-3.8</td><td>0</td><td>  0.0</td><td>0.2</td><td>16.5</td><td>0.7</td><td> 4840.7</td></tr>\n",
       "\t<tr><td>BAS</td><td>2024-12-31 02:00:00</td><td>2024</td><td>12</td><td>31</td><td> 2</td><td>Tue</td><td>Weekday</td><td>Winter</td><td>10.7</td><td>18.9</td><td>17.2</td><td>19.7</td><td>-3.7</td><td>0</td><td>  0.0</td><td>0.3</td><td>17.5</td><td>0.6</td><td> 4575.8</td></tr>\n",
       "\t<tr><td>BAS</td><td>2024-12-31 03:00:00</td><td>2024</td><td>12</td><td>31</td><td> 3</td><td>Tue</td><td>Weekday</td><td>Winter</td><td>11.7</td><td>20.4</td><td>15.3</td><td>21.3</td><td>-3.0</td><td>0</td><td>  0.0</td><td>0.5</td><td>15.6</td><td>0.6</td><td> 4708.3</td></tr>\n",
       "\t<tr><td>BAS</td><td>2024-12-31 04:00:00</td><td>2024</td><td>12</td><td>31</td><td> 4</td><td>Tue</td><td>Weekday</td><td>Winter</td><td> 9.6</td><td>24.2</td><td>15.1</td><td>25.8</td><td>-3.0</td><td>0</td><td>  0.0</td><td>0.7</td><td>15.4</td><td>0.5</td><td> 5278.4</td></tr>\n",
       "\t<tr><td>BAS</td><td>2024-12-31 05:00:00</td><td>2024</td><td>12</td><td>31</td><td> 5</td><td>Tue</td><td>Weekday</td><td>Winter</td><td> 8.2</td><td>26.7</td><td>15.7</td><td>29.0</td><td>-2.9</td><td>0</td><td>  0.0</td><td>0.8</td><td>15.8</td><td>0.5</td><td> 5976.5</td></tr>\n",
       "\t<tr><td>BAS</td><td>2024-12-31 06:00:00</td><td>2024</td><td>12</td><td>31</td><td> 6</td><td>Tue</td><td>Weekday</td><td>Winter</td><td> 6.6</td><td>29.4</td><td>16.3</td><td>33.0</td><td>-2.7</td><td>0</td><td>  0.0</td><td>0.9</td><td>16.4</td><td>0.4</td><td> 6841.4</td></tr>\n",
       "\t<tr><td>BAS</td><td>2024-12-31 07:00:00</td><td>2024</td><td>12</td><td>31</td><td> 7</td><td>Tue</td><td>Weekday</td><td>Winter</td><td> 5.4</td><td>30.7</td><td>17.4</td><td>35.6</td><td>-2.7</td><td>0</td><td>  0.0</td><td>0.7</td><td>17.3</td><td>0.4</td><td> 6987.3</td></tr>\n",
       "\t<tr><td>BAS</td><td>2024-12-31 08:00:00</td><td>2024</td><td>12</td><td>31</td><td> 8</td><td>Tue</td><td>Weekday</td><td>Winter</td><td> 7.4</td><td>29.1</td><td>18.3</td><td>36.0</td><td>-2.6</td><td>0</td><td> 10.2</td><td>0.7</td><td>18.3</td><td>0.4</td><td> 7431.9</td></tr>\n",
       "\t<tr><td>BAS</td><td>2024-12-31 09:00:00</td><td>2024</td><td>12</td><td>31</td><td> 9</td><td>Tue</td><td>Weekday</td><td>Winter</td><td>13.9</td><td>23.7</td><td>19.6</td><td>37.2</td><td>-2.0</td><td>0</td><td>105.3</td><td>0.8</td><td>19.1</td><td>0.4</td><td> 7305.2</td></tr>\n",
       "\t<tr><td>BAS</td><td>2024-12-31 10:00:00</td><td>2024</td><td>12</td><td>31</td><td>10</td><td>Tue</td><td>Weekday</td><td>Winter</td><td>18.1</td><td>21.4</td><td>19.4</td><td>39.4</td><td>-0.8</td><td>0</td><td>218.5</td><td>0.9</td><td>18.9</td><td>0.5</td><td> 8069.0</td></tr>\n",
       "\t<tr><td>BAS</td><td>2024-12-31 11:00:00</td><td>2024</td><td>12</td><td>31</td><td>11</td><td>Tue</td><td>Weekday</td><td>Winter</td><td>20.7</td><td>21.2</td><td>19.5</td><td>41.4</td><td> 0.5</td><td>0</td><td>293.2</td><td>1.1</td><td>18.5</td><td>0.5</td><td> 9086.4</td></tr>\n",
       "\t<tr><td>BAS</td><td>2024-12-31 12:00:00</td><td>2024</td><td>12</td><td>31</td><td>12</td><td>Tue</td><td>Weekday</td><td>Winter</td><td>22.8</td><td>20.5</td><td>19.3</td><td>38.7</td><td> 1.8</td><td>0</td><td>317.5</td><td>1.2</td><td>18.5</td><td>0.5</td><td> 8997.9</td></tr>\n",
       "\t<tr><td>BAS</td><td>2024-12-31 13:00:00</td><td>2024</td><td>12</td><td>31</td><td>13</td><td>Tue</td><td>Weekday</td><td>Winter</td><td>22.8</td><td>21.9</td><td>21.2</td><td>39.8</td><td> 2.9</td><td>0</td><td>298.8</td><td>1.5</td><td>19.9</td><td>0.5</td><td> 9252.1</td></tr>\n",
       "\t<tr><td>BAS</td><td>2024-12-31 14:00:00</td><td>2024</td><td>12</td><td>31</td><td>14</td><td>Tue</td><td>Weekday</td><td>Winter</td><td>22.6</td><td>25.4</td><td>21.6</td><td>42.3</td><td> 3.5</td><td>0</td><td>228.5</td><td>1.4</td><td>19.7</td><td>0.5</td><td> 9734.4</td></tr>\n",
       "\t<tr><td>BAS</td><td>2024-12-31 15:00:00</td><td>2024</td><td>12</td><td>31</td><td>15</td><td>Tue</td><td>Weekday</td><td>Winter</td><td>17.0</td><td>29.0</td><td>23.6</td><td>43.9</td><td> 2.9</td><td>0</td><td> 84.5</td><td>1.5</td><td>22.1</td><td>0.6</td><td>10111.0</td></tr>\n",
       "\t<tr><td>BAS</td><td>2024-12-31 16:00:00</td><td>2024</td><td>12</td><td>31</td><td>16</td><td>Tue</td><td>Weekday</td><td>Winter</td><td> 8.8</td><td>33.6</td><td>24.5</td><td>44.1</td><td> 1.6</td><td>0</td><td> 25.7</td><td>1.7</td><td>23.9</td><td>0.8</td><td>10303.5</td></tr>\n",
       "\t<tr><td>BAS</td><td>2024-12-31 17:00:00</td><td>2024</td><td>12</td><td>31</td><td>17</td><td>Tue</td><td>Weekday</td><td>Winter</td><td> 3.4</td><td>37.9</td><td>25.5</td><td>46.5</td><td> 0.5</td><td>0</td><td>  0.0</td><td>1.4</td><td>24.8</td><td>0.9</td><td>11511.7</td></tr>\n",
       "\t<tr><td>BAS</td><td>2024-12-31 18:00:00</td><td>2024</td><td>12</td><td>31</td><td>18</td><td>Tue</td><td>Weekday</td><td>Winter</td><td> 2.7</td><td>37.7</td><td>31.1</td><td>53.6</td><td>-0.3</td><td>0</td><td>  0.0</td><td>1.3</td><td>30.4</td><td>1.2</td><td>14463.4</td></tr>\n",
       "\t<tr><td>BAS</td><td>2024-12-31 19:00:00</td><td>2024</td><td>12</td><td>31</td><td>19</td><td>Tue</td><td>Weekday</td><td>Winter</td><td> 4.1</td><td>37.3</td><td>42.5</td><td>65.4</td><td>-1.3</td><td>0</td><td>  0.0</td><td>1.1</td><td>40.6</td><td>1.7</td><td>20669.3</td></tr>\n",
       "\t<tr><td>BAS</td><td>2024-12-31 20:00:00</td><td>2024</td><td>12</td><td>31</td><td>20</td><td>Tue</td><td>Weekday</td><td>Winter</td><td> 3.0</td><td>36.5</td><td>37.1</td><td>55.1</td><td>-1.1</td><td>0</td><td>  0.0</td><td>1.6</td><td>36.3</td><td>1.4</td><td>19038.3</td></tr>\n",
       "\t<tr><td>BAS</td><td>2024-12-31 21:00:00</td><td>2024</td><td>12</td><td>31</td><td>21</td><td>Tue</td><td>Weekday</td><td>Winter</td><td> 2.2</td><td>35.0</td><td>36.2</td><td>51.6</td><td>-1.4</td><td>0</td><td>  0.0</td><td>1.1</td><td>36.1</td><td>1.2</td><td>15172.2</td></tr>\n",
       "\t<tr><td>BAS</td><td>2024-12-31 22:00:00</td><td>2024</td><td>12</td><td>31</td><td>22</td><td>Tue</td><td>Weekday</td><td>Winter</td><td> 2.6</td><td>34.3</td><td>36.7</td><td>48.5</td><td>-1.8</td><td>0</td><td>  0.0</td><td>1.4</td><td>36.3</td><td>1.2</td><td>16183.8</td></tr>\n",
       "\t<tr><td>BAS</td><td>2024-12-31 23:00:00</td><td>2024</td><td>12</td><td>31</td><td>23</td><td>Tue</td><td>Weekday</td><td>Winter</td><td> 3.0</td><td>34.2</td><td>38.7</td><td>42.5</td><td>-2.1</td><td>0</td><td>  0.0</td><td>1.3</td><td>38.8</td><td>1.1</td><td>15483.7</td></tr>\n",
       "</tbody>\n",
       "</table>\n"
      ],
      "text/latex": [
       "A tibble: 17568 × 20\n",
       "\\begin{tabular}{llllllllllllllllllll}\n",
       " site & datetime & year & month & day & hour & dayofwk & daytype & season & O3 & NO2 & PM10 & NOX & TEMP & PREC & RAD & SO2 & PM2.5 & EC & CPC\\\\\n",
       " <chr> & <dttm> & <dbl> & <dbl> & <int> & <int> & <ord> & <chr> & <fct> & <dbl> & <dbl> & <dbl> & <dbl> & <dbl> & <dbl> & <dbl> & <dbl> & <dbl> & <dbl> & <dbl>\\\\\n",
       "\\hline\n",
       "\t DAV & 2024-01-01 00:00:00 & 2024 & 1 & 1 &  0 & Mon & Weekday & Winter & 57.7 & 1.9 & 1.2 & 1.9 & -2.2 & 0 &  -0.6 & NA & NA & NA & NA\\\\\n",
       "\t DAV & 2024-01-01 01:00:00 & 2024 & 1 & 1 &  1 & Mon & Weekday & Winter & 55.2 & 2.1 & 1.5 & 2.1 & -2.8 & 0 &  -0.7 & NA & NA & NA & NA\\\\\n",
       "\t DAV & 2024-01-01 02:00:00 & 2024 & 1 & 1 &  2 & Mon & Weekday & Winter & 49.9 & 3.7 & 2.2 & 3.7 & -3.3 & 0 &  -0.7 & NA & NA & NA & NA\\\\\n",
       "\t DAV & 2024-01-01 03:00:00 & 2024 & 1 & 1 &  3 & Mon & Weekday & Winter & 52.1 & 4.5 & 3.0 & 4.6 & -4.2 & 0 &  -1.1 & NA & NA & NA & NA\\\\\n",
       "\t DAV & 2024-01-01 04:00:00 & 2024 & 1 & 1 &  4 & Mon & Weekday & Winter & 65.8 & 0.7 & 0.2 & 0.7 & -5.2 & 0 &  -1.3 & NA & NA & NA & NA\\\\\n",
       "\t DAV & 2024-01-01 05:00:00 & 2024 & 1 & 1 &  5 & Mon & Weekday & Winter & 67.1 & 0.7 & 0.4 & 0.7 & -5.6 & 0 &  -0.8 & NA & NA & NA & NA\\\\\n",
       "\t DAV & 2024-01-01 06:00:00 & 2024 & 1 & 1 &  6 & Mon & Weekday & Winter & 64.0 & 3.4 & 0.3 & 3.5 & -5.7 & 0 &  -0.6 & NA & NA & NA & NA\\\\\n",
       "\t DAV & 2024-01-01 07:00:00 & 2024 & 1 & 1 &  7 & Mon & Weekday & Winter & 58.4 & 5.4 & 0.3 & 5.4 & -5.9 & 0 &  -0.6 & NA & NA & NA & NA\\\\\n",
       "\t DAV & 2024-01-01 08:00:00 & 2024 & 1 & 1 &  8 & Mon & Weekday & Winter & 61.8 & 1.7 & 0.3 & 1.8 & -5.7 & 0 &  22.6 & NA & NA & NA & NA\\\\\n",
       "\t DAV & 2024-01-01 09:00:00 & 2024 & 1 & 1 &  9 & Mon & Weekday & Winter & 59.0 & 2.9 & 0.4 & 3.4 & -5.3 & 0 &  73.9 & NA & NA & NA & NA\\\\\n",
       "\t DAV & 2024-01-01 10:00:00 & 2024 & 1 & 1 & 10 & Mon & Weekday & Winter & 57.8 & 3.4 & 0.5 & 4.4 & -4.3 & 0 & 169.3 & NA & NA & NA & NA\\\\\n",
       "\t DAV & 2024-01-01 11:00:00 & 2024 & 1 & 1 & 11 & Mon & Weekday & Winter & 53.2 & 4.9 & 0.7 & 7.2 & -3.3 & 0 & 301.3 & NA & NA & NA & NA\\\\\n",
       "\t DAV & 2024-01-01 12:00:00 & 2024 & 1 & 1 & 12 & Mon & Weekday & Winter & 61.4 & 1.8 & 0.4 & 2.5 & -2.3 & 0 & 272.5 & NA & NA & NA & NA\\\\\n",
       "\t DAV & 2024-01-01 13:00:00 & 2024 & 1 & 1 & 13 & Mon & Weekday & Winter & 63.6 & 1.4 & 0.5 & 1.7 & -2.4 & 0 & 129.9 & NA & NA & NA & NA\\\\\n",
       "\t DAV & 2024-01-01 14:00:00 & 2024 & 1 & 1 & 14 & Mon & Weekday & Winter & 62.6 & 4.3 & 0.6 & 5.2 & -2.3 & 0 & 118.1 & NA & NA & NA & NA\\\\\n",
       "\t DAV & 2024-01-01 15:00:00 & 2024 & 1 & 1 & 15 & Mon & Weekday & Winter & 55.4 & 5.8 & 0.8 & 6.7 & -2.5 & 0 &  59.1 & NA & NA & NA & NA\\\\\n",
       "\t DAV & 2024-01-01 16:00:00 & 2024 & 1 & 1 & 16 & Mon & Weekday & Winter & 60.7 & 2.8 & 0.8 & 3.0 & -3.4 & 0 &  13.2 & NA & NA & NA & NA\\\\\n",
       "\t DAV & 2024-01-01 17:00:00 & 2024 & 1 & 1 & 17 & Mon & Weekday & Winter & 61.7 & 1.6 & 1.1 & 1.7 & -4.9 & 0 &  -1.1 & NA & NA & NA & NA\\\\\n",
       "\t DAV & 2024-01-01 18:00:00 & 2024 & 1 & 1 & 18 & Mon & Weekday & Winter & 68.0 & 1.4 & 0.6 & 1.4 & -5.3 & 0 &  -1.0 & NA & NA & NA & NA\\\\\n",
       "\t DAV & 2024-01-01 19:00:00 & 2024 & 1 & 1 & 19 & Mon & Weekday & Winter & 68.7 & 0.8 & 0.5 & 0.9 & -5.7 & 0 &  -1.0 & NA & NA & NA & NA\\\\\n",
       "\t DAV & 2024-01-01 20:00:00 & 2024 & 1 & 1 & 20 & Mon & Weekday & Winter & 68.5 & 1.3 & 0.6 & 1.4 & -5.8 & 0 &  -0.9 & NA & NA & NA & NA\\\\\n",
       "\t DAV & 2024-01-01 21:00:00 & 2024 & 1 & 1 & 21 & Mon & Weekday & Winter & 65.8 & 2.3 & 2.4 & 2.8 & -6.4 & 0 &  -0.9 & NA & NA & NA & NA\\\\\n",
       "\t DAV & 2024-01-01 22:00:00 & 2024 & 1 & 1 & 22 & Mon & Weekday & Winter & 71.4 & 0.4 & 0.3 & 0.5 & -5.6 & 0 &  -0.9 & NA & NA & NA & NA\\\\\n",
       "\t DAV & 2024-01-01 23:00:00 & 2024 & 1 & 1 & 23 & Mon & Weekday & Winter & 70.3 & 0.4 & 0.3 & 0.5 & -6.8 & 0 &  -1.1 & NA & NA & NA & NA\\\\\n",
       "\t DAV & 2024-01-02 00:00:00 & 2024 & 1 & 2 &  0 & Tue & Weekday & Winter & 72.2 & 0.7 & 0.2 & 0.8 & -6.6 & 0 &  -0.5 & NA & NA & NA & NA\\\\\n",
       "\t DAV & 2024-01-02 01:00:00 & 2024 & 1 & 2 &  1 & Tue & Weekday & Winter & 75.6 & 0.2 & 0.2 & 0.3 & -6.0 & 0 &  -0.7 & NA & NA & NA & NA\\\\\n",
       "\t DAV & 2024-01-02 02:00:00 & 2024 & 1 & 2 &  2 & Tue & Weekday & Winter & 75.9 & 0.5 & 0.4 & 0.6 & -5.9 & 0 &  -0.7 & NA & NA & NA & NA\\\\\n",
       "\t DAV & 2024-01-02 03:00:00 & 2024 & 1 & 2 &  3 & Tue & Weekday & Winter & 71.8 & 2.3 & 0.4 & 2.6 & -6.6 & 0 &  -0.2 & NA & NA & NA & NA\\\\\n",
       "\t DAV & 2024-01-02 04:00:00 & 2024 & 1 & 2 &  4 & Tue & Weekday & Winter & 73.8 & 1.2 & 0.2 & 1.2 & -6.1 & 0 &  -0.1 & NA & NA & NA & NA\\\\\n",
       "\t DAV & 2024-01-02 05:00:00 & 2024 & 1 & 2 &  5 & Tue & Weekday & Winter & 70.4 & 3.6 & 0.2 & 3.7 & -5.8 & 0 &   0.0 & NA & NA & NA & NA\\\\\n",
       "\t ... & ... & ... & ... & ... & ... & ... & ... & ... & ... & ... & ... & ... & ... & ... & ... & ... & ... & ... & ...\\\\\n",
       "\t BAS & 2024-12-30 18:00:00 & 2024 & 12 & 30 & 18 & Mon & Weekday & Winter &  5.8 & 32.1 & 14.4 & 34.4 & -0.5 & 0 &   0.0 & 0.3 & 16.8 & 0.6 &  5815.7\\\\\n",
       "\t BAS & 2024-12-30 19:00:00 & 2024 & 12 & 30 & 19 & Mon & Weekday & Winter &  7.3 & 30.6 & 13.9 & 33.0 & -0.7 & 0 &   0.0 & 0.4 & 16.4 & 0.6 &  6715.2\\\\\n",
       "\t BAS & 2024-12-30 20:00:00 & 2024 & 12 & 30 & 20 & Mon & Weekday & Winter &  6.3 & 30.0 & 13.6 & 31.9 & -1.0 & 0 &   0.0 & 0.5 & 16.3 & 0.7 &  6380.9\\\\\n",
       "\t BAS & 2024-12-30 21:00:00 & 2024 & 12 & 30 & 21 & Mon & Weekday & Winter &  7.2 & 24.3 & 13.9 & 25.5 & -2.0 & 0 &   0.0 & 0.3 & 16.7 & 0.7 &  5976.5\\\\\n",
       "\t BAS & 2024-12-30 22:00:00 & 2024 & 12 & 30 & 22 & Mon & Weekday & Winter &  8.4 & 20.6 & 13.3 & 21.5 & -2.8 & 0 &   0.0 & 0.3 & 16.3 & 0.7 &  5303.4\\\\\n",
       "\t BAS & 2024-12-30 23:00:00 & 2024 & 12 & 30 & 23 & Mon & Weekday & Winter &  8.0 & 21.1 & 13.6 & 22.0 & -3.2 & 0 &   0.0 & 0.2 & 16.4 & 0.7 &  5421.7\\\\\n",
       "\t BAS & 2024-12-31 00:00:00 & 2024 & 12 & 31 &  0 & Tue & Weekday & Winter &  8.4 & 19.4 & 17.9 & 20.3 & -3.6 & 0 &   0.0 & 0.2 & 17.7 & 0.7 &  5047.5\\\\\n",
       "\t BAS & 2024-12-31 01:00:00 & 2024 & 12 & 31 &  1 & Tue & Weekday & Winter &  9.9 & 18.6 & 16.2 & 19.1 & -3.8 & 0 &   0.0 & 0.2 & 16.5 & 0.7 &  4840.7\\\\\n",
       "\t BAS & 2024-12-31 02:00:00 & 2024 & 12 & 31 &  2 & Tue & Weekday & Winter & 10.7 & 18.9 & 17.2 & 19.7 & -3.7 & 0 &   0.0 & 0.3 & 17.5 & 0.6 &  4575.8\\\\\n",
       "\t BAS & 2024-12-31 03:00:00 & 2024 & 12 & 31 &  3 & Tue & Weekday & Winter & 11.7 & 20.4 & 15.3 & 21.3 & -3.0 & 0 &   0.0 & 0.5 & 15.6 & 0.6 &  4708.3\\\\\n",
       "\t BAS & 2024-12-31 04:00:00 & 2024 & 12 & 31 &  4 & Tue & Weekday & Winter &  9.6 & 24.2 & 15.1 & 25.8 & -3.0 & 0 &   0.0 & 0.7 & 15.4 & 0.5 &  5278.4\\\\\n",
       "\t BAS & 2024-12-31 05:00:00 & 2024 & 12 & 31 &  5 & Tue & Weekday & Winter &  8.2 & 26.7 & 15.7 & 29.0 & -2.9 & 0 &   0.0 & 0.8 & 15.8 & 0.5 &  5976.5\\\\\n",
       "\t BAS & 2024-12-31 06:00:00 & 2024 & 12 & 31 &  6 & Tue & Weekday & Winter &  6.6 & 29.4 & 16.3 & 33.0 & -2.7 & 0 &   0.0 & 0.9 & 16.4 & 0.4 &  6841.4\\\\\n",
       "\t BAS & 2024-12-31 07:00:00 & 2024 & 12 & 31 &  7 & Tue & Weekday & Winter &  5.4 & 30.7 & 17.4 & 35.6 & -2.7 & 0 &   0.0 & 0.7 & 17.3 & 0.4 &  6987.3\\\\\n",
       "\t BAS & 2024-12-31 08:00:00 & 2024 & 12 & 31 &  8 & Tue & Weekday & Winter &  7.4 & 29.1 & 18.3 & 36.0 & -2.6 & 0 &  10.2 & 0.7 & 18.3 & 0.4 &  7431.9\\\\\n",
       "\t BAS & 2024-12-31 09:00:00 & 2024 & 12 & 31 &  9 & Tue & Weekday & Winter & 13.9 & 23.7 & 19.6 & 37.2 & -2.0 & 0 & 105.3 & 0.8 & 19.1 & 0.4 &  7305.2\\\\\n",
       "\t BAS & 2024-12-31 10:00:00 & 2024 & 12 & 31 & 10 & Tue & Weekday & Winter & 18.1 & 21.4 & 19.4 & 39.4 & -0.8 & 0 & 218.5 & 0.9 & 18.9 & 0.5 &  8069.0\\\\\n",
       "\t BAS & 2024-12-31 11:00:00 & 2024 & 12 & 31 & 11 & Tue & Weekday & Winter & 20.7 & 21.2 & 19.5 & 41.4 &  0.5 & 0 & 293.2 & 1.1 & 18.5 & 0.5 &  9086.4\\\\\n",
       "\t BAS & 2024-12-31 12:00:00 & 2024 & 12 & 31 & 12 & Tue & Weekday & Winter & 22.8 & 20.5 & 19.3 & 38.7 &  1.8 & 0 & 317.5 & 1.2 & 18.5 & 0.5 &  8997.9\\\\\n",
       "\t BAS & 2024-12-31 13:00:00 & 2024 & 12 & 31 & 13 & Tue & Weekday & Winter & 22.8 & 21.9 & 21.2 & 39.8 &  2.9 & 0 & 298.8 & 1.5 & 19.9 & 0.5 &  9252.1\\\\\n",
       "\t BAS & 2024-12-31 14:00:00 & 2024 & 12 & 31 & 14 & Tue & Weekday & Winter & 22.6 & 25.4 & 21.6 & 42.3 &  3.5 & 0 & 228.5 & 1.4 & 19.7 & 0.5 &  9734.4\\\\\n",
       "\t BAS & 2024-12-31 15:00:00 & 2024 & 12 & 31 & 15 & Tue & Weekday & Winter & 17.0 & 29.0 & 23.6 & 43.9 &  2.9 & 0 &  84.5 & 1.5 & 22.1 & 0.6 & 10111.0\\\\\n",
       "\t BAS & 2024-12-31 16:00:00 & 2024 & 12 & 31 & 16 & Tue & Weekday & Winter &  8.8 & 33.6 & 24.5 & 44.1 &  1.6 & 0 &  25.7 & 1.7 & 23.9 & 0.8 & 10303.5\\\\\n",
       "\t BAS & 2024-12-31 17:00:00 & 2024 & 12 & 31 & 17 & Tue & Weekday & Winter &  3.4 & 37.9 & 25.5 & 46.5 &  0.5 & 0 &   0.0 & 1.4 & 24.8 & 0.9 & 11511.7\\\\\n",
       "\t BAS & 2024-12-31 18:00:00 & 2024 & 12 & 31 & 18 & Tue & Weekday & Winter &  2.7 & 37.7 & 31.1 & 53.6 & -0.3 & 0 &   0.0 & 1.3 & 30.4 & 1.2 & 14463.4\\\\\n",
       "\t BAS & 2024-12-31 19:00:00 & 2024 & 12 & 31 & 19 & Tue & Weekday & Winter &  4.1 & 37.3 & 42.5 & 65.4 & -1.3 & 0 &   0.0 & 1.1 & 40.6 & 1.7 & 20669.3\\\\\n",
       "\t BAS & 2024-12-31 20:00:00 & 2024 & 12 & 31 & 20 & Tue & Weekday & Winter &  3.0 & 36.5 & 37.1 & 55.1 & -1.1 & 0 &   0.0 & 1.6 & 36.3 & 1.4 & 19038.3\\\\\n",
       "\t BAS & 2024-12-31 21:00:00 & 2024 & 12 & 31 & 21 & Tue & Weekday & Winter &  2.2 & 35.0 & 36.2 & 51.6 & -1.4 & 0 &   0.0 & 1.1 & 36.1 & 1.2 & 15172.2\\\\\n",
       "\t BAS & 2024-12-31 22:00:00 & 2024 & 12 & 31 & 22 & Tue & Weekday & Winter &  2.6 & 34.3 & 36.7 & 48.5 & -1.8 & 0 &   0.0 & 1.4 & 36.3 & 1.2 & 16183.8\\\\\n",
       "\t BAS & 2024-12-31 23:00:00 & 2024 & 12 & 31 & 23 & Tue & Weekday & Winter &  3.0 & 34.2 & 38.7 & 42.5 & -2.1 & 0 &   0.0 & 1.3 & 38.8 & 1.1 & 15483.7\\\\\n",
       "\\end{tabular}\n"
      ],
      "text/markdown": [
       "\n",
       "A tibble: 17568 × 20\n",
       "\n",
       "| site &lt;chr&gt; | datetime &lt;dttm&gt; | year &lt;dbl&gt; | month &lt;dbl&gt; | day &lt;int&gt; | hour &lt;int&gt; | dayofwk &lt;ord&gt; | daytype &lt;chr&gt; | season &lt;fct&gt; | O3 &lt;dbl&gt; | NO2 &lt;dbl&gt; | PM10 &lt;dbl&gt; | NOX &lt;dbl&gt; | TEMP &lt;dbl&gt; | PREC &lt;dbl&gt; | RAD &lt;dbl&gt; | SO2 &lt;dbl&gt; | PM2.5 &lt;dbl&gt; | EC &lt;dbl&gt; | CPC &lt;dbl&gt; |\n",
       "|---|---|---|---|---|---|---|---|---|---|---|---|---|---|---|---|---|---|---|---|\n",
       "| DAV | 2024-01-01 00:00:00 | 2024 | 1 | 1 |  0 | Mon | Weekday | Winter | 57.7 | 1.9 | 1.2 | 1.9 | -2.2 | 0 |  -0.6 | NA | NA | NA | NA |\n",
       "| DAV | 2024-01-01 01:00:00 | 2024 | 1 | 1 |  1 | Mon | Weekday | Winter | 55.2 | 2.1 | 1.5 | 2.1 | -2.8 | 0 |  -0.7 | NA | NA | NA | NA |\n",
       "| DAV | 2024-01-01 02:00:00 | 2024 | 1 | 1 |  2 | Mon | Weekday | Winter | 49.9 | 3.7 | 2.2 | 3.7 | -3.3 | 0 |  -0.7 | NA | NA | NA | NA |\n",
       "| DAV | 2024-01-01 03:00:00 | 2024 | 1 | 1 |  3 | Mon | Weekday | Winter | 52.1 | 4.5 | 3.0 | 4.6 | -4.2 | 0 |  -1.1 | NA | NA | NA | NA |\n",
       "| DAV | 2024-01-01 04:00:00 | 2024 | 1 | 1 |  4 | Mon | Weekday | Winter | 65.8 | 0.7 | 0.2 | 0.7 | -5.2 | 0 |  -1.3 | NA | NA | NA | NA |\n",
       "| DAV | 2024-01-01 05:00:00 | 2024 | 1 | 1 |  5 | Mon | Weekday | Winter | 67.1 | 0.7 | 0.4 | 0.7 | -5.6 | 0 |  -0.8 | NA | NA | NA | NA |\n",
       "| DAV | 2024-01-01 06:00:00 | 2024 | 1 | 1 |  6 | Mon | Weekday | Winter | 64.0 | 3.4 | 0.3 | 3.5 | -5.7 | 0 |  -0.6 | NA | NA | NA | NA |\n",
       "| DAV | 2024-01-01 07:00:00 | 2024 | 1 | 1 |  7 | Mon | Weekday | Winter | 58.4 | 5.4 | 0.3 | 5.4 | -5.9 | 0 |  -0.6 | NA | NA | NA | NA |\n",
       "| DAV | 2024-01-01 08:00:00 | 2024 | 1 | 1 |  8 | Mon | Weekday | Winter | 61.8 | 1.7 | 0.3 | 1.8 | -5.7 | 0 |  22.6 | NA | NA | NA | NA |\n",
       "| DAV | 2024-01-01 09:00:00 | 2024 | 1 | 1 |  9 | Mon | Weekday | Winter | 59.0 | 2.9 | 0.4 | 3.4 | -5.3 | 0 |  73.9 | NA | NA | NA | NA |\n",
       "| DAV | 2024-01-01 10:00:00 | 2024 | 1 | 1 | 10 | Mon | Weekday | Winter | 57.8 | 3.4 | 0.5 | 4.4 | -4.3 | 0 | 169.3 | NA | NA | NA | NA |\n",
       "| DAV | 2024-01-01 11:00:00 | 2024 | 1 | 1 | 11 | Mon | Weekday | Winter | 53.2 | 4.9 | 0.7 | 7.2 | -3.3 | 0 | 301.3 | NA | NA | NA | NA |\n",
       "| DAV | 2024-01-01 12:00:00 | 2024 | 1 | 1 | 12 | Mon | Weekday | Winter | 61.4 | 1.8 | 0.4 | 2.5 | -2.3 | 0 | 272.5 | NA | NA | NA | NA |\n",
       "| DAV | 2024-01-01 13:00:00 | 2024 | 1 | 1 | 13 | Mon | Weekday | Winter | 63.6 | 1.4 | 0.5 | 1.7 | -2.4 | 0 | 129.9 | NA | NA | NA | NA |\n",
       "| DAV | 2024-01-01 14:00:00 | 2024 | 1 | 1 | 14 | Mon | Weekday | Winter | 62.6 | 4.3 | 0.6 | 5.2 | -2.3 | 0 | 118.1 | NA | NA | NA | NA |\n",
       "| DAV | 2024-01-01 15:00:00 | 2024 | 1 | 1 | 15 | Mon | Weekday | Winter | 55.4 | 5.8 | 0.8 | 6.7 | -2.5 | 0 |  59.1 | NA | NA | NA | NA |\n",
       "| DAV | 2024-01-01 16:00:00 | 2024 | 1 | 1 | 16 | Mon | Weekday | Winter | 60.7 | 2.8 | 0.8 | 3.0 | -3.4 | 0 |  13.2 | NA | NA | NA | NA |\n",
       "| DAV | 2024-01-01 17:00:00 | 2024 | 1 | 1 | 17 | Mon | Weekday | Winter | 61.7 | 1.6 | 1.1 | 1.7 | -4.9 | 0 |  -1.1 | NA | NA | NA | NA |\n",
       "| DAV | 2024-01-01 18:00:00 | 2024 | 1 | 1 | 18 | Mon | Weekday | Winter | 68.0 | 1.4 | 0.6 | 1.4 | -5.3 | 0 |  -1.0 | NA | NA | NA | NA |\n",
       "| DAV | 2024-01-01 19:00:00 | 2024 | 1 | 1 | 19 | Mon | Weekday | Winter | 68.7 | 0.8 | 0.5 | 0.9 | -5.7 | 0 |  -1.0 | NA | NA | NA | NA |\n",
       "| DAV | 2024-01-01 20:00:00 | 2024 | 1 | 1 | 20 | Mon | Weekday | Winter | 68.5 | 1.3 | 0.6 | 1.4 | -5.8 | 0 |  -0.9 | NA | NA | NA | NA |\n",
       "| DAV | 2024-01-01 21:00:00 | 2024 | 1 | 1 | 21 | Mon | Weekday | Winter | 65.8 | 2.3 | 2.4 | 2.8 | -6.4 | 0 |  -0.9 | NA | NA | NA | NA |\n",
       "| DAV | 2024-01-01 22:00:00 | 2024 | 1 | 1 | 22 | Mon | Weekday | Winter | 71.4 | 0.4 | 0.3 | 0.5 | -5.6 | 0 |  -0.9 | NA | NA | NA | NA |\n",
       "| DAV | 2024-01-01 23:00:00 | 2024 | 1 | 1 | 23 | Mon | Weekday | Winter | 70.3 | 0.4 | 0.3 | 0.5 | -6.8 | 0 |  -1.1 | NA | NA | NA | NA |\n",
       "| DAV | 2024-01-02 00:00:00 | 2024 | 1 | 2 |  0 | Tue | Weekday | Winter | 72.2 | 0.7 | 0.2 | 0.8 | -6.6 | 0 |  -0.5 | NA | NA | NA | NA |\n",
       "| DAV | 2024-01-02 01:00:00 | 2024 | 1 | 2 |  1 | Tue | Weekday | Winter | 75.6 | 0.2 | 0.2 | 0.3 | -6.0 | 0 |  -0.7 | NA | NA | NA | NA |\n",
       "| DAV | 2024-01-02 02:00:00 | 2024 | 1 | 2 |  2 | Tue | Weekday | Winter | 75.9 | 0.5 | 0.4 | 0.6 | -5.9 | 0 |  -0.7 | NA | NA | NA | NA |\n",
       "| DAV | 2024-01-02 03:00:00 | 2024 | 1 | 2 |  3 | Tue | Weekday | Winter | 71.8 | 2.3 | 0.4 | 2.6 | -6.6 | 0 |  -0.2 | NA | NA | NA | NA |\n",
       "| DAV | 2024-01-02 04:00:00 | 2024 | 1 | 2 |  4 | Tue | Weekday | Winter | 73.8 | 1.2 | 0.2 | 1.2 | -6.1 | 0 |  -0.1 | NA | NA | NA | NA |\n",
       "| DAV | 2024-01-02 05:00:00 | 2024 | 1 | 2 |  5 | Tue | Weekday | Winter | 70.4 | 3.6 | 0.2 | 3.7 | -5.8 | 0 |   0.0 | NA | NA | NA | NA |\n",
       "| ... | ... | ... | ... | ... | ... | ... | ... | ... | ... | ... | ... | ... | ... | ... | ... | ... | ... | ... | ... |\n",
       "| BAS | 2024-12-30 18:00:00 | 2024 | 12 | 30 | 18 | Mon | Weekday | Winter |  5.8 | 32.1 | 14.4 | 34.4 | -0.5 | 0 |   0.0 | 0.3 | 16.8 | 0.6 |  5815.7 |\n",
       "| BAS | 2024-12-30 19:00:00 | 2024 | 12 | 30 | 19 | Mon | Weekday | Winter |  7.3 | 30.6 | 13.9 | 33.0 | -0.7 | 0 |   0.0 | 0.4 | 16.4 | 0.6 |  6715.2 |\n",
       "| BAS | 2024-12-30 20:00:00 | 2024 | 12 | 30 | 20 | Mon | Weekday | Winter |  6.3 | 30.0 | 13.6 | 31.9 | -1.0 | 0 |   0.0 | 0.5 | 16.3 | 0.7 |  6380.9 |\n",
       "| BAS | 2024-12-30 21:00:00 | 2024 | 12 | 30 | 21 | Mon | Weekday | Winter |  7.2 | 24.3 | 13.9 | 25.5 | -2.0 | 0 |   0.0 | 0.3 | 16.7 | 0.7 |  5976.5 |\n",
       "| BAS | 2024-12-30 22:00:00 | 2024 | 12 | 30 | 22 | Mon | Weekday | Winter |  8.4 | 20.6 | 13.3 | 21.5 | -2.8 | 0 |   0.0 | 0.3 | 16.3 | 0.7 |  5303.4 |\n",
       "| BAS | 2024-12-30 23:00:00 | 2024 | 12 | 30 | 23 | Mon | Weekday | Winter |  8.0 | 21.1 | 13.6 | 22.0 | -3.2 | 0 |   0.0 | 0.2 | 16.4 | 0.7 |  5421.7 |\n",
       "| BAS | 2024-12-31 00:00:00 | 2024 | 12 | 31 |  0 | Tue | Weekday | Winter |  8.4 | 19.4 | 17.9 | 20.3 | -3.6 | 0 |   0.0 | 0.2 | 17.7 | 0.7 |  5047.5 |\n",
       "| BAS | 2024-12-31 01:00:00 | 2024 | 12 | 31 |  1 | Tue | Weekday | Winter |  9.9 | 18.6 | 16.2 | 19.1 | -3.8 | 0 |   0.0 | 0.2 | 16.5 | 0.7 |  4840.7 |\n",
       "| BAS | 2024-12-31 02:00:00 | 2024 | 12 | 31 |  2 | Tue | Weekday | Winter | 10.7 | 18.9 | 17.2 | 19.7 | -3.7 | 0 |   0.0 | 0.3 | 17.5 | 0.6 |  4575.8 |\n",
       "| BAS | 2024-12-31 03:00:00 | 2024 | 12 | 31 |  3 | Tue | Weekday | Winter | 11.7 | 20.4 | 15.3 | 21.3 | -3.0 | 0 |   0.0 | 0.5 | 15.6 | 0.6 |  4708.3 |\n",
       "| BAS | 2024-12-31 04:00:00 | 2024 | 12 | 31 |  4 | Tue | Weekday | Winter |  9.6 | 24.2 | 15.1 | 25.8 | -3.0 | 0 |   0.0 | 0.7 | 15.4 | 0.5 |  5278.4 |\n",
       "| BAS | 2024-12-31 05:00:00 | 2024 | 12 | 31 |  5 | Tue | Weekday | Winter |  8.2 | 26.7 | 15.7 | 29.0 | -2.9 | 0 |   0.0 | 0.8 | 15.8 | 0.5 |  5976.5 |\n",
       "| BAS | 2024-12-31 06:00:00 | 2024 | 12 | 31 |  6 | Tue | Weekday | Winter |  6.6 | 29.4 | 16.3 | 33.0 | -2.7 | 0 |   0.0 | 0.9 | 16.4 | 0.4 |  6841.4 |\n",
       "| BAS | 2024-12-31 07:00:00 | 2024 | 12 | 31 |  7 | Tue | Weekday | Winter |  5.4 | 30.7 | 17.4 | 35.6 | -2.7 | 0 |   0.0 | 0.7 | 17.3 | 0.4 |  6987.3 |\n",
       "| BAS | 2024-12-31 08:00:00 | 2024 | 12 | 31 |  8 | Tue | Weekday | Winter |  7.4 | 29.1 | 18.3 | 36.0 | -2.6 | 0 |  10.2 | 0.7 | 18.3 | 0.4 |  7431.9 |\n",
       "| BAS | 2024-12-31 09:00:00 | 2024 | 12 | 31 |  9 | Tue | Weekday | Winter | 13.9 | 23.7 | 19.6 | 37.2 | -2.0 | 0 | 105.3 | 0.8 | 19.1 | 0.4 |  7305.2 |\n",
       "| BAS | 2024-12-31 10:00:00 | 2024 | 12 | 31 | 10 | Tue | Weekday | Winter | 18.1 | 21.4 | 19.4 | 39.4 | -0.8 | 0 | 218.5 | 0.9 | 18.9 | 0.5 |  8069.0 |\n",
       "| BAS | 2024-12-31 11:00:00 | 2024 | 12 | 31 | 11 | Tue | Weekday | Winter | 20.7 | 21.2 | 19.5 | 41.4 |  0.5 | 0 | 293.2 | 1.1 | 18.5 | 0.5 |  9086.4 |\n",
       "| BAS | 2024-12-31 12:00:00 | 2024 | 12 | 31 | 12 | Tue | Weekday | Winter | 22.8 | 20.5 | 19.3 | 38.7 |  1.8 | 0 | 317.5 | 1.2 | 18.5 | 0.5 |  8997.9 |\n",
       "| BAS | 2024-12-31 13:00:00 | 2024 | 12 | 31 | 13 | Tue | Weekday | Winter | 22.8 | 21.9 | 21.2 | 39.8 |  2.9 | 0 | 298.8 | 1.5 | 19.9 | 0.5 |  9252.1 |\n",
       "| BAS | 2024-12-31 14:00:00 | 2024 | 12 | 31 | 14 | Tue | Weekday | Winter | 22.6 | 25.4 | 21.6 | 42.3 |  3.5 | 0 | 228.5 | 1.4 | 19.7 | 0.5 |  9734.4 |\n",
       "| BAS | 2024-12-31 15:00:00 | 2024 | 12 | 31 | 15 | Tue | Weekday | Winter | 17.0 | 29.0 | 23.6 | 43.9 |  2.9 | 0 |  84.5 | 1.5 | 22.1 | 0.6 | 10111.0 |\n",
       "| BAS | 2024-12-31 16:00:00 | 2024 | 12 | 31 | 16 | Tue | Weekday | Winter |  8.8 | 33.6 | 24.5 | 44.1 |  1.6 | 0 |  25.7 | 1.7 | 23.9 | 0.8 | 10303.5 |\n",
       "| BAS | 2024-12-31 17:00:00 | 2024 | 12 | 31 | 17 | Tue | Weekday | Winter |  3.4 | 37.9 | 25.5 | 46.5 |  0.5 | 0 |   0.0 | 1.4 | 24.8 | 0.9 | 11511.7 |\n",
       "| BAS | 2024-12-31 18:00:00 | 2024 | 12 | 31 | 18 | Tue | Weekday | Winter |  2.7 | 37.7 | 31.1 | 53.6 | -0.3 | 0 |   0.0 | 1.3 | 30.4 | 1.2 | 14463.4 |\n",
       "| BAS | 2024-12-31 19:00:00 | 2024 | 12 | 31 | 19 | Tue | Weekday | Winter |  4.1 | 37.3 | 42.5 | 65.4 | -1.3 | 0 |   0.0 | 1.1 | 40.6 | 1.7 | 20669.3 |\n",
       "| BAS | 2024-12-31 20:00:00 | 2024 | 12 | 31 | 20 | Tue | Weekday | Winter |  3.0 | 36.5 | 37.1 | 55.1 | -1.1 | 0 |   0.0 | 1.6 | 36.3 | 1.4 | 19038.3 |\n",
       "| BAS | 2024-12-31 21:00:00 | 2024 | 12 | 31 | 21 | Tue | Weekday | Winter |  2.2 | 35.0 | 36.2 | 51.6 | -1.4 | 0 |   0.0 | 1.1 | 36.1 | 1.2 | 15172.2 |\n",
       "| BAS | 2024-12-31 22:00:00 | 2024 | 12 | 31 | 22 | Tue | Weekday | Winter |  2.6 | 34.3 | 36.7 | 48.5 | -1.8 | 0 |   0.0 | 1.4 | 36.3 | 1.2 | 16183.8 |\n",
       "| BAS | 2024-12-31 23:00:00 | 2024 | 12 | 31 | 23 | Tue | Weekday | Winter |  3.0 | 34.2 | 38.7 | 42.5 | -2.1 | 0 |   0.0 | 1.3 | 38.8 | 1.1 | 15483.7 |\n",
       "\n"
      ],
      "text/plain": [
       "      site datetime            year month day hour dayofwk daytype season O3  \n",
       "1     DAV  2024-01-01 00:00:00 2024 1     1    0   Mon     Weekday Winter 57.7\n",
       "2     DAV  2024-01-01 01:00:00 2024 1     1    1   Mon     Weekday Winter 55.2\n",
       "3     DAV  2024-01-01 02:00:00 2024 1     1    2   Mon     Weekday Winter 49.9\n",
       "4     DAV  2024-01-01 03:00:00 2024 1     1    3   Mon     Weekday Winter 52.1\n",
       "5     DAV  2024-01-01 04:00:00 2024 1     1    4   Mon     Weekday Winter 65.8\n",
       "6     DAV  2024-01-01 05:00:00 2024 1     1    5   Mon     Weekday Winter 67.1\n",
       "7     DAV  2024-01-01 06:00:00 2024 1     1    6   Mon     Weekday Winter 64.0\n",
       "8     DAV  2024-01-01 07:00:00 2024 1     1    7   Mon     Weekday Winter 58.4\n",
       "9     DAV  2024-01-01 08:00:00 2024 1     1    8   Mon     Weekday Winter 61.8\n",
       "10    DAV  2024-01-01 09:00:00 2024 1     1    9   Mon     Weekday Winter 59.0\n",
       "11    DAV  2024-01-01 10:00:00 2024 1     1   10   Mon     Weekday Winter 57.8\n",
       "12    DAV  2024-01-01 11:00:00 2024 1     1   11   Mon     Weekday Winter 53.2\n",
       "13    DAV  2024-01-01 12:00:00 2024 1     1   12   Mon     Weekday Winter 61.4\n",
       "14    DAV  2024-01-01 13:00:00 2024 1     1   13   Mon     Weekday Winter 63.6\n",
       "15    DAV  2024-01-01 14:00:00 2024 1     1   14   Mon     Weekday Winter 62.6\n",
       "16    DAV  2024-01-01 15:00:00 2024 1     1   15   Mon     Weekday Winter 55.4\n",
       "17    DAV  2024-01-01 16:00:00 2024 1     1   16   Mon     Weekday Winter 60.7\n",
       "18    DAV  2024-01-01 17:00:00 2024 1     1   17   Mon     Weekday Winter 61.7\n",
       "19    DAV  2024-01-01 18:00:00 2024 1     1   18   Mon     Weekday Winter 68.0\n",
       "20    DAV  2024-01-01 19:00:00 2024 1     1   19   Mon     Weekday Winter 68.7\n",
       "21    DAV  2024-01-01 20:00:00 2024 1     1   20   Mon     Weekday Winter 68.5\n",
       "22    DAV  2024-01-01 21:00:00 2024 1     1   21   Mon     Weekday Winter 65.8\n",
       "23    DAV  2024-01-01 22:00:00 2024 1     1   22   Mon     Weekday Winter 71.4\n",
       "24    DAV  2024-01-01 23:00:00 2024 1     1   23   Mon     Weekday Winter 70.3\n",
       "25    DAV  2024-01-02 00:00:00 2024 1     2    0   Tue     Weekday Winter 72.2\n",
       "26    DAV  2024-01-02 01:00:00 2024 1     2    1   Tue     Weekday Winter 75.6\n",
       "27    DAV  2024-01-02 02:00:00 2024 1     2    2   Tue     Weekday Winter 75.9\n",
       "28    DAV  2024-01-02 03:00:00 2024 1     2    3   Tue     Weekday Winter 71.8\n",
       "29    DAV  2024-01-02 04:00:00 2024 1     2    4   Tue     Weekday Winter 73.8\n",
       "30    DAV  2024-01-02 05:00:00 2024 1     2    5   Tue     Weekday Winter 70.4\n",
       "...   ...  ...                 ...  ...   ... ...  ...     ...     ...    ... \n",
       "17539 BAS  2024-12-30 18:00:00 2024 12    30  18   Mon     Weekday Winter  5.8\n",
       "17540 BAS  2024-12-30 19:00:00 2024 12    30  19   Mon     Weekday Winter  7.3\n",
       "17541 BAS  2024-12-30 20:00:00 2024 12    30  20   Mon     Weekday Winter  6.3\n",
       "17542 BAS  2024-12-30 21:00:00 2024 12    30  21   Mon     Weekday Winter  7.2\n",
       "17543 BAS  2024-12-30 22:00:00 2024 12    30  22   Mon     Weekday Winter  8.4\n",
       "17544 BAS  2024-12-30 23:00:00 2024 12    30  23   Mon     Weekday Winter  8.0\n",
       "17545 BAS  2024-12-31 00:00:00 2024 12    31   0   Tue     Weekday Winter  8.4\n",
       "17546 BAS  2024-12-31 01:00:00 2024 12    31   1   Tue     Weekday Winter  9.9\n",
       "17547 BAS  2024-12-31 02:00:00 2024 12    31   2   Tue     Weekday Winter 10.7\n",
       "17548 BAS  2024-12-31 03:00:00 2024 12    31   3   Tue     Weekday Winter 11.7\n",
       "17549 BAS  2024-12-31 04:00:00 2024 12    31   4   Tue     Weekday Winter  9.6\n",
       "17550 BAS  2024-12-31 05:00:00 2024 12    31   5   Tue     Weekday Winter  8.2\n",
       "17551 BAS  2024-12-31 06:00:00 2024 12    31   6   Tue     Weekday Winter  6.6\n",
       "17552 BAS  2024-12-31 07:00:00 2024 12    31   7   Tue     Weekday Winter  5.4\n",
       "17553 BAS  2024-12-31 08:00:00 2024 12    31   8   Tue     Weekday Winter  7.4\n",
       "17554 BAS  2024-12-31 09:00:00 2024 12    31   9   Tue     Weekday Winter 13.9\n",
       "17555 BAS  2024-12-31 10:00:00 2024 12    31  10   Tue     Weekday Winter 18.1\n",
       "17556 BAS  2024-12-31 11:00:00 2024 12    31  11   Tue     Weekday Winter 20.7\n",
       "17557 BAS  2024-12-31 12:00:00 2024 12    31  12   Tue     Weekday Winter 22.8\n",
       "17558 BAS  2024-12-31 13:00:00 2024 12    31  13   Tue     Weekday Winter 22.8\n",
       "17559 BAS  2024-12-31 14:00:00 2024 12    31  14   Tue     Weekday Winter 22.6\n",
       "17560 BAS  2024-12-31 15:00:00 2024 12    31  15   Tue     Weekday Winter 17.0\n",
       "17561 BAS  2024-12-31 16:00:00 2024 12    31  16   Tue     Weekday Winter  8.8\n",
       "17562 BAS  2024-12-31 17:00:00 2024 12    31  17   Tue     Weekday Winter  3.4\n",
       "17563 BAS  2024-12-31 18:00:00 2024 12    31  18   Tue     Weekday Winter  2.7\n",
       "17564 BAS  2024-12-31 19:00:00 2024 12    31  19   Tue     Weekday Winter  4.1\n",
       "17565 BAS  2024-12-31 20:00:00 2024 12    31  20   Tue     Weekday Winter  3.0\n",
       "17566 BAS  2024-12-31 21:00:00 2024 12    31  21   Tue     Weekday Winter  2.2\n",
       "17567 BAS  2024-12-31 22:00:00 2024 12    31  22   Tue     Weekday Winter  2.6\n",
       "17568 BAS  2024-12-31 23:00:00 2024 12    31  23   Tue     Weekday Winter  3.0\n",
       "      NO2  PM10 NOX  TEMP PREC RAD   SO2 PM2.5 EC  CPC    \n",
       "1     1.9  1.2  1.9  -2.2 0     -0.6 NA  NA    NA  NA     \n",
       "2     2.1  1.5  2.1  -2.8 0     -0.7 NA  NA    NA  NA     \n",
       "3     3.7  2.2  3.7  -3.3 0     -0.7 NA  NA    NA  NA     \n",
       "4     4.5  3.0  4.6  -4.2 0     -1.1 NA  NA    NA  NA     \n",
       "5     0.7  0.2  0.7  -5.2 0     -1.3 NA  NA    NA  NA     \n",
       "6     0.7  0.4  0.7  -5.6 0     -0.8 NA  NA    NA  NA     \n",
       "7     3.4  0.3  3.5  -5.7 0     -0.6 NA  NA    NA  NA     \n",
       "8     5.4  0.3  5.4  -5.9 0     -0.6 NA  NA    NA  NA     \n",
       "9     1.7  0.3  1.8  -5.7 0     22.6 NA  NA    NA  NA     \n",
       "10    2.9  0.4  3.4  -5.3 0     73.9 NA  NA    NA  NA     \n",
       "11    3.4  0.5  4.4  -4.3 0    169.3 NA  NA    NA  NA     \n",
       "12    4.9  0.7  7.2  -3.3 0    301.3 NA  NA    NA  NA     \n",
       "13    1.8  0.4  2.5  -2.3 0    272.5 NA  NA    NA  NA     \n",
       "14    1.4  0.5  1.7  -2.4 0    129.9 NA  NA    NA  NA     \n",
       "15    4.3  0.6  5.2  -2.3 0    118.1 NA  NA    NA  NA     \n",
       "16    5.8  0.8  6.7  -2.5 0     59.1 NA  NA    NA  NA     \n",
       "17    2.8  0.8  3.0  -3.4 0     13.2 NA  NA    NA  NA     \n",
       "18    1.6  1.1  1.7  -4.9 0     -1.1 NA  NA    NA  NA     \n",
       "19    1.4  0.6  1.4  -5.3 0     -1.0 NA  NA    NA  NA     \n",
       "20    0.8  0.5  0.9  -5.7 0     -1.0 NA  NA    NA  NA     \n",
       "21    1.3  0.6  1.4  -5.8 0     -0.9 NA  NA    NA  NA     \n",
       "22    2.3  2.4  2.8  -6.4 0     -0.9 NA  NA    NA  NA     \n",
       "23    0.4  0.3  0.5  -5.6 0     -0.9 NA  NA    NA  NA     \n",
       "24    0.4  0.3  0.5  -6.8 0     -1.1 NA  NA    NA  NA     \n",
       "25    0.7  0.2  0.8  -6.6 0     -0.5 NA  NA    NA  NA     \n",
       "26    0.2  0.2  0.3  -6.0 0     -0.7 NA  NA    NA  NA     \n",
       "27    0.5  0.4  0.6  -5.9 0     -0.7 NA  NA    NA  NA     \n",
       "28    2.3  0.4  2.6  -6.6 0     -0.2 NA  NA    NA  NA     \n",
       "29    1.2  0.2  1.2  -6.1 0     -0.1 NA  NA    NA  NA     \n",
       "30    3.6  0.2  3.7  -5.8 0      0.0 NA  NA    NA  NA     \n",
       "...   ...  ...  ...  ...  ...  ...   ... ...   ... ...    \n",
       "17539 32.1 14.4 34.4 -0.5 0      0.0 0.3 16.8  0.6  5815.7\n",
       "17540 30.6 13.9 33.0 -0.7 0      0.0 0.4 16.4  0.6  6715.2\n",
       "17541 30.0 13.6 31.9 -1.0 0      0.0 0.5 16.3  0.7  6380.9\n",
       "17542 24.3 13.9 25.5 -2.0 0      0.0 0.3 16.7  0.7  5976.5\n",
       "17543 20.6 13.3 21.5 -2.8 0      0.0 0.3 16.3  0.7  5303.4\n",
       "17544 21.1 13.6 22.0 -3.2 0      0.0 0.2 16.4  0.7  5421.7\n",
       "17545 19.4 17.9 20.3 -3.6 0      0.0 0.2 17.7  0.7  5047.5\n",
       "17546 18.6 16.2 19.1 -3.8 0      0.0 0.2 16.5  0.7  4840.7\n",
       "17547 18.9 17.2 19.7 -3.7 0      0.0 0.3 17.5  0.6  4575.8\n",
       "17548 20.4 15.3 21.3 -3.0 0      0.0 0.5 15.6  0.6  4708.3\n",
       "17549 24.2 15.1 25.8 -3.0 0      0.0 0.7 15.4  0.5  5278.4\n",
       "17550 26.7 15.7 29.0 -2.9 0      0.0 0.8 15.8  0.5  5976.5\n",
       "17551 29.4 16.3 33.0 -2.7 0      0.0 0.9 16.4  0.4  6841.4\n",
       "17552 30.7 17.4 35.6 -2.7 0      0.0 0.7 17.3  0.4  6987.3\n",
       "17553 29.1 18.3 36.0 -2.6 0     10.2 0.7 18.3  0.4  7431.9\n",
       "17554 23.7 19.6 37.2 -2.0 0    105.3 0.8 19.1  0.4  7305.2\n",
       "17555 21.4 19.4 39.4 -0.8 0    218.5 0.9 18.9  0.5  8069.0\n",
       "17556 21.2 19.5 41.4  0.5 0    293.2 1.1 18.5  0.5  9086.4\n",
       "17557 20.5 19.3 38.7  1.8 0    317.5 1.2 18.5  0.5  8997.9\n",
       "17558 21.9 21.2 39.8  2.9 0    298.8 1.5 19.9  0.5  9252.1\n",
       "17559 25.4 21.6 42.3  3.5 0    228.5 1.4 19.7  0.5  9734.4\n",
       "17560 29.0 23.6 43.9  2.9 0     84.5 1.5 22.1  0.6 10111.0\n",
       "17561 33.6 24.5 44.1  1.6 0     25.7 1.7 23.9  0.8 10303.5\n",
       "17562 37.9 25.5 46.5  0.5 0      0.0 1.4 24.8  0.9 11511.7\n",
       "17563 37.7 31.1 53.6 -0.3 0      0.0 1.3 30.4  1.2 14463.4\n",
       "17564 37.3 42.5 65.4 -1.3 0      0.0 1.1 40.6  1.7 20669.3\n",
       "17565 36.5 37.1 55.1 -1.1 0      0.0 1.6 36.3  1.4 19038.3\n",
       "17566 35.0 36.2 51.6 -1.4 0      0.0 1.1 36.1  1.2 15172.2\n",
       "17567 34.3 36.7 48.5 -1.8 0      0.0 1.4 36.3  1.2 16183.8\n",
       "17568 34.2 38.7 42.5 -2.1 0      0.0 1.3 38.8  1.1 15483.7"
      ]
     },
     "metadata": {},
     "output_type": "display_data"
    }
   ],
   "source": [
    "all_data_df"
   ]
  },
  {
   "cell_type": "code",
   "execution_count": 9,
   "id": "4fd5fb04-6930-490c-80ea-bdafedd33355",
   "metadata": {},
   "outputs": [],
   "source": [
    "write.csv(all_data_df, \"DATA/DAV-BAS.csv\")"
   ]
  },
  {
   "cell_type": "code",
   "execution_count": 10,
   "id": "e7c6f4f6-ce82-4d36-9710-653a6363cb64",
   "metadata": {},
   "outputs": [],
   "source": [
    "all_data_lf <- all_data_df %>%\n",
    "  pivot_longer(-c(site, datetime, season, year, month, day, hour, dayofwk, daytype),  # id columns\n",
    "               names_to = \"variable\",\n",
    "               values_to = \"value\")"
   ]
  },
  {
   "cell_type": "markdown",
   "id": "ff638572-e92d-4bbf-a96f-564de2f94336",
   "metadata": {},
   "source": [
    "## Seasonal variations"
   ]
  },
  {
   "cell_type": "code",
   "execution_count": 11,
   "id": "c3d18241-69ff-4134-801b-971a5b95b4b3",
   "metadata": {},
   "outputs": [
    {
     "data": {
      "text/html": [
       "<table class=\"dataframe\">\n",
       "<caption>A tibble: 193248 × 11</caption>\n",
       "<thead>\n",
       "\t<tr><th scope=col>site</th><th scope=col>datetime</th><th scope=col>year</th><th scope=col>month</th><th scope=col>day</th><th scope=col>hour</th><th scope=col>dayofwk</th><th scope=col>daytype</th><th scope=col>season</th><th scope=col>variable</th><th scope=col>value</th></tr>\n",
       "\t<tr><th scope=col>&lt;chr&gt;</th><th scope=col>&lt;dttm&gt;</th><th scope=col>&lt;dbl&gt;</th><th scope=col>&lt;dbl&gt;</th><th scope=col>&lt;int&gt;</th><th scope=col>&lt;int&gt;</th><th scope=col>&lt;ord&gt;</th><th scope=col>&lt;chr&gt;</th><th scope=col>&lt;fct&gt;</th><th scope=col>&lt;chr&gt;</th><th scope=col>&lt;dbl&gt;</th></tr>\n",
       "</thead>\n",
       "<tbody>\n",
       "\t<tr><td>DAV</td><td>2024-01-01 00:00:00</td><td>2024</td><td>1</td><td>1</td><td>0</td><td>Mon</td><td>Weekday</td><td>Winter</td><td>O3   </td><td>57.7</td></tr>\n",
       "\t<tr><td>DAV</td><td>2024-01-01 00:00:00</td><td>2024</td><td>1</td><td>1</td><td>0</td><td>Mon</td><td>Weekday</td><td>Winter</td><td>NO2  </td><td> 1.9</td></tr>\n",
       "\t<tr><td>DAV</td><td>2024-01-01 00:00:00</td><td>2024</td><td>1</td><td>1</td><td>0</td><td>Mon</td><td>Weekday</td><td>Winter</td><td>PM10 </td><td> 1.2</td></tr>\n",
       "\t<tr><td>DAV</td><td>2024-01-01 00:00:00</td><td>2024</td><td>1</td><td>1</td><td>0</td><td>Mon</td><td>Weekday</td><td>Winter</td><td>NOX  </td><td> 1.9</td></tr>\n",
       "\t<tr><td>DAV</td><td>2024-01-01 00:00:00</td><td>2024</td><td>1</td><td>1</td><td>0</td><td>Mon</td><td>Weekday</td><td>Winter</td><td>TEMP </td><td>-2.2</td></tr>\n",
       "\t<tr><td>DAV</td><td>2024-01-01 00:00:00</td><td>2024</td><td>1</td><td>1</td><td>0</td><td>Mon</td><td>Weekday</td><td>Winter</td><td>PREC </td><td> 0.0</td></tr>\n",
       "\t<tr><td>DAV</td><td>2024-01-01 00:00:00</td><td>2024</td><td>1</td><td>1</td><td>0</td><td>Mon</td><td>Weekday</td><td>Winter</td><td>RAD  </td><td>-0.6</td></tr>\n",
       "\t<tr><td>DAV</td><td>2024-01-01 00:00:00</td><td>2024</td><td>1</td><td>1</td><td>0</td><td>Mon</td><td>Weekday</td><td>Winter</td><td>SO2  </td><td>  NA</td></tr>\n",
       "\t<tr><td>DAV</td><td>2024-01-01 00:00:00</td><td>2024</td><td>1</td><td>1</td><td>0</td><td>Mon</td><td>Weekday</td><td>Winter</td><td>PM2.5</td><td>  NA</td></tr>\n",
       "\t<tr><td>DAV</td><td>2024-01-01 00:00:00</td><td>2024</td><td>1</td><td>1</td><td>0</td><td>Mon</td><td>Weekday</td><td>Winter</td><td>EC   </td><td>  NA</td></tr>\n",
       "\t<tr><td>DAV</td><td>2024-01-01 00:00:00</td><td>2024</td><td>1</td><td>1</td><td>0</td><td>Mon</td><td>Weekday</td><td>Winter</td><td>CPC  </td><td>  NA</td></tr>\n",
       "\t<tr><td>DAV</td><td>2024-01-01 01:00:00</td><td>2024</td><td>1</td><td>1</td><td>1</td><td>Mon</td><td>Weekday</td><td>Winter</td><td>O3   </td><td>55.2</td></tr>\n",
       "\t<tr><td>DAV</td><td>2024-01-01 01:00:00</td><td>2024</td><td>1</td><td>1</td><td>1</td><td>Mon</td><td>Weekday</td><td>Winter</td><td>NO2  </td><td> 2.1</td></tr>\n",
       "\t<tr><td>DAV</td><td>2024-01-01 01:00:00</td><td>2024</td><td>1</td><td>1</td><td>1</td><td>Mon</td><td>Weekday</td><td>Winter</td><td>PM10 </td><td> 1.5</td></tr>\n",
       "\t<tr><td>DAV</td><td>2024-01-01 01:00:00</td><td>2024</td><td>1</td><td>1</td><td>1</td><td>Mon</td><td>Weekday</td><td>Winter</td><td>NOX  </td><td> 2.1</td></tr>\n",
       "\t<tr><td>DAV</td><td>2024-01-01 01:00:00</td><td>2024</td><td>1</td><td>1</td><td>1</td><td>Mon</td><td>Weekday</td><td>Winter</td><td>TEMP </td><td>-2.8</td></tr>\n",
       "\t<tr><td>DAV</td><td>2024-01-01 01:00:00</td><td>2024</td><td>1</td><td>1</td><td>1</td><td>Mon</td><td>Weekday</td><td>Winter</td><td>PREC </td><td> 0.0</td></tr>\n",
       "\t<tr><td>DAV</td><td>2024-01-01 01:00:00</td><td>2024</td><td>1</td><td>1</td><td>1</td><td>Mon</td><td>Weekday</td><td>Winter</td><td>RAD  </td><td>-0.7</td></tr>\n",
       "\t<tr><td>DAV</td><td>2024-01-01 01:00:00</td><td>2024</td><td>1</td><td>1</td><td>1</td><td>Mon</td><td>Weekday</td><td>Winter</td><td>SO2  </td><td>  NA</td></tr>\n",
       "\t<tr><td>DAV</td><td>2024-01-01 01:00:00</td><td>2024</td><td>1</td><td>1</td><td>1</td><td>Mon</td><td>Weekday</td><td>Winter</td><td>PM2.5</td><td>  NA</td></tr>\n",
       "\t<tr><td>DAV</td><td>2024-01-01 01:00:00</td><td>2024</td><td>1</td><td>1</td><td>1</td><td>Mon</td><td>Weekday</td><td>Winter</td><td>EC   </td><td>  NA</td></tr>\n",
       "\t<tr><td>DAV</td><td>2024-01-01 01:00:00</td><td>2024</td><td>1</td><td>1</td><td>1</td><td>Mon</td><td>Weekday</td><td>Winter</td><td>CPC  </td><td>  NA</td></tr>\n",
       "\t<tr><td>DAV</td><td>2024-01-01 02:00:00</td><td>2024</td><td>1</td><td>1</td><td>2</td><td>Mon</td><td>Weekday</td><td>Winter</td><td>O3   </td><td>49.9</td></tr>\n",
       "\t<tr><td>DAV</td><td>2024-01-01 02:00:00</td><td>2024</td><td>1</td><td>1</td><td>2</td><td>Mon</td><td>Weekday</td><td>Winter</td><td>NO2  </td><td> 3.7</td></tr>\n",
       "\t<tr><td>DAV</td><td>2024-01-01 02:00:00</td><td>2024</td><td>1</td><td>1</td><td>2</td><td>Mon</td><td>Weekday</td><td>Winter</td><td>PM10 </td><td> 2.2</td></tr>\n",
       "\t<tr><td>DAV</td><td>2024-01-01 02:00:00</td><td>2024</td><td>1</td><td>1</td><td>2</td><td>Mon</td><td>Weekday</td><td>Winter</td><td>NOX  </td><td> 3.7</td></tr>\n",
       "\t<tr><td>DAV</td><td>2024-01-01 02:00:00</td><td>2024</td><td>1</td><td>1</td><td>2</td><td>Mon</td><td>Weekday</td><td>Winter</td><td>TEMP </td><td>-3.3</td></tr>\n",
       "\t<tr><td>DAV</td><td>2024-01-01 02:00:00</td><td>2024</td><td>1</td><td>1</td><td>2</td><td>Mon</td><td>Weekday</td><td>Winter</td><td>PREC </td><td> 0.0</td></tr>\n",
       "\t<tr><td>DAV</td><td>2024-01-01 02:00:00</td><td>2024</td><td>1</td><td>1</td><td>2</td><td>Mon</td><td>Weekday</td><td>Winter</td><td>RAD  </td><td>-0.7</td></tr>\n",
       "\t<tr><td>DAV</td><td>2024-01-01 02:00:00</td><td>2024</td><td>1</td><td>1</td><td>2</td><td>Mon</td><td>Weekday</td><td>Winter</td><td>SO2  </td><td>  NA</td></tr>\n",
       "\t<tr><td>...</td><td>...</td><td>...</td><td>...</td><td>...</td><td>...</td><td>...</td><td>...</td><td>...</td><td>...</td><td>...</td></tr>\n",
       "\t<tr><td>BAS</td><td>2024-12-31 21:00:00</td><td>2024</td><td>12</td><td>31</td><td>21</td><td>Tue</td><td>Weekday</td><td>Winter</td><td>NOX  </td><td>   51.6</td></tr>\n",
       "\t<tr><td>BAS</td><td>2024-12-31 21:00:00</td><td>2024</td><td>12</td><td>31</td><td>21</td><td>Tue</td><td>Weekday</td><td>Winter</td><td>TEMP </td><td>   -1.4</td></tr>\n",
       "\t<tr><td>BAS</td><td>2024-12-31 21:00:00</td><td>2024</td><td>12</td><td>31</td><td>21</td><td>Tue</td><td>Weekday</td><td>Winter</td><td>PREC </td><td>    0.0</td></tr>\n",
       "\t<tr><td>BAS</td><td>2024-12-31 21:00:00</td><td>2024</td><td>12</td><td>31</td><td>21</td><td>Tue</td><td>Weekday</td><td>Winter</td><td>RAD  </td><td>    0.0</td></tr>\n",
       "\t<tr><td>BAS</td><td>2024-12-31 21:00:00</td><td>2024</td><td>12</td><td>31</td><td>21</td><td>Tue</td><td>Weekday</td><td>Winter</td><td>SO2  </td><td>    1.1</td></tr>\n",
       "\t<tr><td>BAS</td><td>2024-12-31 21:00:00</td><td>2024</td><td>12</td><td>31</td><td>21</td><td>Tue</td><td>Weekday</td><td>Winter</td><td>PM2.5</td><td>   36.1</td></tr>\n",
       "\t<tr><td>BAS</td><td>2024-12-31 21:00:00</td><td>2024</td><td>12</td><td>31</td><td>21</td><td>Tue</td><td>Weekday</td><td>Winter</td><td>EC   </td><td>    1.2</td></tr>\n",
       "\t<tr><td>BAS</td><td>2024-12-31 21:00:00</td><td>2024</td><td>12</td><td>31</td><td>21</td><td>Tue</td><td>Weekday</td><td>Winter</td><td>CPC  </td><td>15172.2</td></tr>\n",
       "\t<tr><td>BAS</td><td>2024-12-31 22:00:00</td><td>2024</td><td>12</td><td>31</td><td>22</td><td>Tue</td><td>Weekday</td><td>Winter</td><td>O3   </td><td>    2.6</td></tr>\n",
       "\t<tr><td>BAS</td><td>2024-12-31 22:00:00</td><td>2024</td><td>12</td><td>31</td><td>22</td><td>Tue</td><td>Weekday</td><td>Winter</td><td>NO2  </td><td>   34.3</td></tr>\n",
       "\t<tr><td>BAS</td><td>2024-12-31 22:00:00</td><td>2024</td><td>12</td><td>31</td><td>22</td><td>Tue</td><td>Weekday</td><td>Winter</td><td>PM10 </td><td>   36.7</td></tr>\n",
       "\t<tr><td>BAS</td><td>2024-12-31 22:00:00</td><td>2024</td><td>12</td><td>31</td><td>22</td><td>Tue</td><td>Weekday</td><td>Winter</td><td>NOX  </td><td>   48.5</td></tr>\n",
       "\t<tr><td>BAS</td><td>2024-12-31 22:00:00</td><td>2024</td><td>12</td><td>31</td><td>22</td><td>Tue</td><td>Weekday</td><td>Winter</td><td>TEMP </td><td>   -1.8</td></tr>\n",
       "\t<tr><td>BAS</td><td>2024-12-31 22:00:00</td><td>2024</td><td>12</td><td>31</td><td>22</td><td>Tue</td><td>Weekday</td><td>Winter</td><td>PREC </td><td>    0.0</td></tr>\n",
       "\t<tr><td>BAS</td><td>2024-12-31 22:00:00</td><td>2024</td><td>12</td><td>31</td><td>22</td><td>Tue</td><td>Weekday</td><td>Winter</td><td>RAD  </td><td>    0.0</td></tr>\n",
       "\t<tr><td>BAS</td><td>2024-12-31 22:00:00</td><td>2024</td><td>12</td><td>31</td><td>22</td><td>Tue</td><td>Weekday</td><td>Winter</td><td>SO2  </td><td>    1.4</td></tr>\n",
       "\t<tr><td>BAS</td><td>2024-12-31 22:00:00</td><td>2024</td><td>12</td><td>31</td><td>22</td><td>Tue</td><td>Weekday</td><td>Winter</td><td>PM2.5</td><td>   36.3</td></tr>\n",
       "\t<tr><td>BAS</td><td>2024-12-31 22:00:00</td><td>2024</td><td>12</td><td>31</td><td>22</td><td>Tue</td><td>Weekday</td><td>Winter</td><td>EC   </td><td>    1.2</td></tr>\n",
       "\t<tr><td>BAS</td><td>2024-12-31 22:00:00</td><td>2024</td><td>12</td><td>31</td><td>22</td><td>Tue</td><td>Weekday</td><td>Winter</td><td>CPC  </td><td>16183.8</td></tr>\n",
       "\t<tr><td>BAS</td><td>2024-12-31 23:00:00</td><td>2024</td><td>12</td><td>31</td><td>23</td><td>Tue</td><td>Weekday</td><td>Winter</td><td>O3   </td><td>    3.0</td></tr>\n",
       "\t<tr><td>BAS</td><td>2024-12-31 23:00:00</td><td>2024</td><td>12</td><td>31</td><td>23</td><td>Tue</td><td>Weekday</td><td>Winter</td><td>NO2  </td><td>   34.2</td></tr>\n",
       "\t<tr><td>BAS</td><td>2024-12-31 23:00:00</td><td>2024</td><td>12</td><td>31</td><td>23</td><td>Tue</td><td>Weekday</td><td>Winter</td><td>PM10 </td><td>   38.7</td></tr>\n",
       "\t<tr><td>BAS</td><td>2024-12-31 23:00:00</td><td>2024</td><td>12</td><td>31</td><td>23</td><td>Tue</td><td>Weekday</td><td>Winter</td><td>NOX  </td><td>   42.5</td></tr>\n",
       "\t<tr><td>BAS</td><td>2024-12-31 23:00:00</td><td>2024</td><td>12</td><td>31</td><td>23</td><td>Tue</td><td>Weekday</td><td>Winter</td><td>TEMP </td><td>   -2.1</td></tr>\n",
       "\t<tr><td>BAS</td><td>2024-12-31 23:00:00</td><td>2024</td><td>12</td><td>31</td><td>23</td><td>Tue</td><td>Weekday</td><td>Winter</td><td>PREC </td><td>    0.0</td></tr>\n",
       "\t<tr><td>BAS</td><td>2024-12-31 23:00:00</td><td>2024</td><td>12</td><td>31</td><td>23</td><td>Tue</td><td>Weekday</td><td>Winter</td><td>RAD  </td><td>    0.0</td></tr>\n",
       "\t<tr><td>BAS</td><td>2024-12-31 23:00:00</td><td>2024</td><td>12</td><td>31</td><td>23</td><td>Tue</td><td>Weekday</td><td>Winter</td><td>SO2  </td><td>    1.3</td></tr>\n",
       "\t<tr><td>BAS</td><td>2024-12-31 23:00:00</td><td>2024</td><td>12</td><td>31</td><td>23</td><td>Tue</td><td>Weekday</td><td>Winter</td><td>PM2.5</td><td>   38.8</td></tr>\n",
       "\t<tr><td>BAS</td><td>2024-12-31 23:00:00</td><td>2024</td><td>12</td><td>31</td><td>23</td><td>Tue</td><td>Weekday</td><td>Winter</td><td>EC   </td><td>    1.1</td></tr>\n",
       "\t<tr><td>BAS</td><td>2024-12-31 23:00:00</td><td>2024</td><td>12</td><td>31</td><td>23</td><td>Tue</td><td>Weekday</td><td>Winter</td><td>CPC  </td><td>15483.7</td></tr>\n",
       "</tbody>\n",
       "</table>\n"
      ],
      "text/latex": [
       "A tibble: 193248 × 11\n",
       "\\begin{tabular}{lllllllllll}\n",
       " site & datetime & year & month & day & hour & dayofwk & daytype & season & variable & value\\\\\n",
       " <chr> & <dttm> & <dbl> & <dbl> & <int> & <int> & <ord> & <chr> & <fct> & <chr> & <dbl>\\\\\n",
       "\\hline\n",
       "\t DAV & 2024-01-01 00:00:00 & 2024 & 1 & 1 & 0 & Mon & Weekday & Winter & O3    & 57.7\\\\\n",
       "\t DAV & 2024-01-01 00:00:00 & 2024 & 1 & 1 & 0 & Mon & Weekday & Winter & NO2   &  1.9\\\\\n",
       "\t DAV & 2024-01-01 00:00:00 & 2024 & 1 & 1 & 0 & Mon & Weekday & Winter & PM10  &  1.2\\\\\n",
       "\t DAV & 2024-01-01 00:00:00 & 2024 & 1 & 1 & 0 & Mon & Weekday & Winter & NOX   &  1.9\\\\\n",
       "\t DAV & 2024-01-01 00:00:00 & 2024 & 1 & 1 & 0 & Mon & Weekday & Winter & TEMP  & -2.2\\\\\n",
       "\t DAV & 2024-01-01 00:00:00 & 2024 & 1 & 1 & 0 & Mon & Weekday & Winter & PREC  &  0.0\\\\\n",
       "\t DAV & 2024-01-01 00:00:00 & 2024 & 1 & 1 & 0 & Mon & Weekday & Winter & RAD   & -0.6\\\\\n",
       "\t DAV & 2024-01-01 00:00:00 & 2024 & 1 & 1 & 0 & Mon & Weekday & Winter & SO2   &   NA\\\\\n",
       "\t DAV & 2024-01-01 00:00:00 & 2024 & 1 & 1 & 0 & Mon & Weekday & Winter & PM2.5 &   NA\\\\\n",
       "\t DAV & 2024-01-01 00:00:00 & 2024 & 1 & 1 & 0 & Mon & Weekday & Winter & EC    &   NA\\\\\n",
       "\t DAV & 2024-01-01 00:00:00 & 2024 & 1 & 1 & 0 & Mon & Weekday & Winter & CPC   &   NA\\\\\n",
       "\t DAV & 2024-01-01 01:00:00 & 2024 & 1 & 1 & 1 & Mon & Weekday & Winter & O3    & 55.2\\\\\n",
       "\t DAV & 2024-01-01 01:00:00 & 2024 & 1 & 1 & 1 & Mon & Weekday & Winter & NO2   &  2.1\\\\\n",
       "\t DAV & 2024-01-01 01:00:00 & 2024 & 1 & 1 & 1 & Mon & Weekday & Winter & PM10  &  1.5\\\\\n",
       "\t DAV & 2024-01-01 01:00:00 & 2024 & 1 & 1 & 1 & Mon & Weekday & Winter & NOX   &  2.1\\\\\n",
       "\t DAV & 2024-01-01 01:00:00 & 2024 & 1 & 1 & 1 & Mon & Weekday & Winter & TEMP  & -2.8\\\\\n",
       "\t DAV & 2024-01-01 01:00:00 & 2024 & 1 & 1 & 1 & Mon & Weekday & Winter & PREC  &  0.0\\\\\n",
       "\t DAV & 2024-01-01 01:00:00 & 2024 & 1 & 1 & 1 & Mon & Weekday & Winter & RAD   & -0.7\\\\\n",
       "\t DAV & 2024-01-01 01:00:00 & 2024 & 1 & 1 & 1 & Mon & Weekday & Winter & SO2   &   NA\\\\\n",
       "\t DAV & 2024-01-01 01:00:00 & 2024 & 1 & 1 & 1 & Mon & Weekday & Winter & PM2.5 &   NA\\\\\n",
       "\t DAV & 2024-01-01 01:00:00 & 2024 & 1 & 1 & 1 & Mon & Weekday & Winter & EC    &   NA\\\\\n",
       "\t DAV & 2024-01-01 01:00:00 & 2024 & 1 & 1 & 1 & Mon & Weekday & Winter & CPC   &   NA\\\\\n",
       "\t DAV & 2024-01-01 02:00:00 & 2024 & 1 & 1 & 2 & Mon & Weekday & Winter & O3    & 49.9\\\\\n",
       "\t DAV & 2024-01-01 02:00:00 & 2024 & 1 & 1 & 2 & Mon & Weekday & Winter & NO2   &  3.7\\\\\n",
       "\t DAV & 2024-01-01 02:00:00 & 2024 & 1 & 1 & 2 & Mon & Weekday & Winter & PM10  &  2.2\\\\\n",
       "\t DAV & 2024-01-01 02:00:00 & 2024 & 1 & 1 & 2 & Mon & Weekday & Winter & NOX   &  3.7\\\\\n",
       "\t DAV & 2024-01-01 02:00:00 & 2024 & 1 & 1 & 2 & Mon & Weekday & Winter & TEMP  & -3.3\\\\\n",
       "\t DAV & 2024-01-01 02:00:00 & 2024 & 1 & 1 & 2 & Mon & Weekday & Winter & PREC  &  0.0\\\\\n",
       "\t DAV & 2024-01-01 02:00:00 & 2024 & 1 & 1 & 2 & Mon & Weekday & Winter & RAD   & -0.7\\\\\n",
       "\t DAV & 2024-01-01 02:00:00 & 2024 & 1 & 1 & 2 & Mon & Weekday & Winter & SO2   &   NA\\\\\n",
       "\t ... & ... & ... & ... & ... & ... & ... & ... & ... & ... & ...\\\\\n",
       "\t BAS & 2024-12-31 21:00:00 & 2024 & 12 & 31 & 21 & Tue & Weekday & Winter & NOX   &    51.6\\\\\n",
       "\t BAS & 2024-12-31 21:00:00 & 2024 & 12 & 31 & 21 & Tue & Weekday & Winter & TEMP  &    -1.4\\\\\n",
       "\t BAS & 2024-12-31 21:00:00 & 2024 & 12 & 31 & 21 & Tue & Weekday & Winter & PREC  &     0.0\\\\\n",
       "\t BAS & 2024-12-31 21:00:00 & 2024 & 12 & 31 & 21 & Tue & Weekday & Winter & RAD   &     0.0\\\\\n",
       "\t BAS & 2024-12-31 21:00:00 & 2024 & 12 & 31 & 21 & Tue & Weekday & Winter & SO2   &     1.1\\\\\n",
       "\t BAS & 2024-12-31 21:00:00 & 2024 & 12 & 31 & 21 & Tue & Weekday & Winter & PM2.5 &    36.1\\\\\n",
       "\t BAS & 2024-12-31 21:00:00 & 2024 & 12 & 31 & 21 & Tue & Weekday & Winter & EC    &     1.2\\\\\n",
       "\t BAS & 2024-12-31 21:00:00 & 2024 & 12 & 31 & 21 & Tue & Weekday & Winter & CPC   & 15172.2\\\\\n",
       "\t BAS & 2024-12-31 22:00:00 & 2024 & 12 & 31 & 22 & Tue & Weekday & Winter & O3    &     2.6\\\\\n",
       "\t BAS & 2024-12-31 22:00:00 & 2024 & 12 & 31 & 22 & Tue & Weekday & Winter & NO2   &    34.3\\\\\n",
       "\t BAS & 2024-12-31 22:00:00 & 2024 & 12 & 31 & 22 & Tue & Weekday & Winter & PM10  &    36.7\\\\\n",
       "\t BAS & 2024-12-31 22:00:00 & 2024 & 12 & 31 & 22 & Tue & Weekday & Winter & NOX   &    48.5\\\\\n",
       "\t BAS & 2024-12-31 22:00:00 & 2024 & 12 & 31 & 22 & Tue & Weekday & Winter & TEMP  &    -1.8\\\\\n",
       "\t BAS & 2024-12-31 22:00:00 & 2024 & 12 & 31 & 22 & Tue & Weekday & Winter & PREC  &     0.0\\\\\n",
       "\t BAS & 2024-12-31 22:00:00 & 2024 & 12 & 31 & 22 & Tue & Weekday & Winter & RAD   &     0.0\\\\\n",
       "\t BAS & 2024-12-31 22:00:00 & 2024 & 12 & 31 & 22 & Tue & Weekday & Winter & SO2   &     1.4\\\\\n",
       "\t BAS & 2024-12-31 22:00:00 & 2024 & 12 & 31 & 22 & Tue & Weekday & Winter & PM2.5 &    36.3\\\\\n",
       "\t BAS & 2024-12-31 22:00:00 & 2024 & 12 & 31 & 22 & Tue & Weekday & Winter & EC    &     1.2\\\\\n",
       "\t BAS & 2024-12-31 22:00:00 & 2024 & 12 & 31 & 22 & Tue & Weekday & Winter & CPC   & 16183.8\\\\\n",
       "\t BAS & 2024-12-31 23:00:00 & 2024 & 12 & 31 & 23 & Tue & Weekday & Winter & O3    &     3.0\\\\\n",
       "\t BAS & 2024-12-31 23:00:00 & 2024 & 12 & 31 & 23 & Tue & Weekday & Winter & NO2   &    34.2\\\\\n",
       "\t BAS & 2024-12-31 23:00:00 & 2024 & 12 & 31 & 23 & Tue & Weekday & Winter & PM10  &    38.7\\\\\n",
       "\t BAS & 2024-12-31 23:00:00 & 2024 & 12 & 31 & 23 & Tue & Weekday & Winter & NOX   &    42.5\\\\\n",
       "\t BAS & 2024-12-31 23:00:00 & 2024 & 12 & 31 & 23 & Tue & Weekday & Winter & TEMP  &    -2.1\\\\\n",
       "\t BAS & 2024-12-31 23:00:00 & 2024 & 12 & 31 & 23 & Tue & Weekday & Winter & PREC  &     0.0\\\\\n",
       "\t BAS & 2024-12-31 23:00:00 & 2024 & 12 & 31 & 23 & Tue & Weekday & Winter & RAD   &     0.0\\\\\n",
       "\t BAS & 2024-12-31 23:00:00 & 2024 & 12 & 31 & 23 & Tue & Weekday & Winter & SO2   &     1.3\\\\\n",
       "\t BAS & 2024-12-31 23:00:00 & 2024 & 12 & 31 & 23 & Tue & Weekday & Winter & PM2.5 &    38.8\\\\\n",
       "\t BAS & 2024-12-31 23:00:00 & 2024 & 12 & 31 & 23 & Tue & Weekday & Winter & EC    &     1.1\\\\\n",
       "\t BAS & 2024-12-31 23:00:00 & 2024 & 12 & 31 & 23 & Tue & Weekday & Winter & CPC   & 15483.7\\\\\n",
       "\\end{tabular}\n"
      ],
      "text/markdown": [
       "\n",
       "A tibble: 193248 × 11\n",
       "\n",
       "| site &lt;chr&gt; | datetime &lt;dttm&gt; | year &lt;dbl&gt; | month &lt;dbl&gt; | day &lt;int&gt; | hour &lt;int&gt; | dayofwk &lt;ord&gt; | daytype &lt;chr&gt; | season &lt;fct&gt; | variable &lt;chr&gt; | value &lt;dbl&gt; |\n",
       "|---|---|---|---|---|---|---|---|---|---|---|\n",
       "| DAV | 2024-01-01 00:00:00 | 2024 | 1 | 1 | 0 | Mon | Weekday | Winter | O3    | 57.7 |\n",
       "| DAV | 2024-01-01 00:00:00 | 2024 | 1 | 1 | 0 | Mon | Weekday | Winter | NO2   |  1.9 |\n",
       "| DAV | 2024-01-01 00:00:00 | 2024 | 1 | 1 | 0 | Mon | Weekday | Winter | PM10  |  1.2 |\n",
       "| DAV | 2024-01-01 00:00:00 | 2024 | 1 | 1 | 0 | Mon | Weekday | Winter | NOX   |  1.9 |\n",
       "| DAV | 2024-01-01 00:00:00 | 2024 | 1 | 1 | 0 | Mon | Weekday | Winter | TEMP  | -2.2 |\n",
       "| DAV | 2024-01-01 00:00:00 | 2024 | 1 | 1 | 0 | Mon | Weekday | Winter | PREC  |  0.0 |\n",
       "| DAV | 2024-01-01 00:00:00 | 2024 | 1 | 1 | 0 | Mon | Weekday | Winter | RAD   | -0.6 |\n",
       "| DAV | 2024-01-01 00:00:00 | 2024 | 1 | 1 | 0 | Mon | Weekday | Winter | SO2   |   NA |\n",
       "| DAV | 2024-01-01 00:00:00 | 2024 | 1 | 1 | 0 | Mon | Weekday | Winter | PM2.5 |   NA |\n",
       "| DAV | 2024-01-01 00:00:00 | 2024 | 1 | 1 | 0 | Mon | Weekday | Winter | EC    |   NA |\n",
       "| DAV | 2024-01-01 00:00:00 | 2024 | 1 | 1 | 0 | Mon | Weekday | Winter | CPC   |   NA |\n",
       "| DAV | 2024-01-01 01:00:00 | 2024 | 1 | 1 | 1 | Mon | Weekday | Winter | O3    | 55.2 |\n",
       "| DAV | 2024-01-01 01:00:00 | 2024 | 1 | 1 | 1 | Mon | Weekday | Winter | NO2   |  2.1 |\n",
       "| DAV | 2024-01-01 01:00:00 | 2024 | 1 | 1 | 1 | Mon | Weekday | Winter | PM10  |  1.5 |\n",
       "| DAV | 2024-01-01 01:00:00 | 2024 | 1 | 1 | 1 | Mon | Weekday | Winter | NOX   |  2.1 |\n",
       "| DAV | 2024-01-01 01:00:00 | 2024 | 1 | 1 | 1 | Mon | Weekday | Winter | TEMP  | -2.8 |\n",
       "| DAV | 2024-01-01 01:00:00 | 2024 | 1 | 1 | 1 | Mon | Weekday | Winter | PREC  |  0.0 |\n",
       "| DAV | 2024-01-01 01:00:00 | 2024 | 1 | 1 | 1 | Mon | Weekday | Winter | RAD   | -0.7 |\n",
       "| DAV | 2024-01-01 01:00:00 | 2024 | 1 | 1 | 1 | Mon | Weekday | Winter | SO2   |   NA |\n",
       "| DAV | 2024-01-01 01:00:00 | 2024 | 1 | 1 | 1 | Mon | Weekday | Winter | PM2.5 |   NA |\n",
       "| DAV | 2024-01-01 01:00:00 | 2024 | 1 | 1 | 1 | Mon | Weekday | Winter | EC    |   NA |\n",
       "| DAV | 2024-01-01 01:00:00 | 2024 | 1 | 1 | 1 | Mon | Weekday | Winter | CPC   |   NA |\n",
       "| DAV | 2024-01-01 02:00:00 | 2024 | 1 | 1 | 2 | Mon | Weekday | Winter | O3    | 49.9 |\n",
       "| DAV | 2024-01-01 02:00:00 | 2024 | 1 | 1 | 2 | Mon | Weekday | Winter | NO2   |  3.7 |\n",
       "| DAV | 2024-01-01 02:00:00 | 2024 | 1 | 1 | 2 | Mon | Weekday | Winter | PM10  |  2.2 |\n",
       "| DAV | 2024-01-01 02:00:00 | 2024 | 1 | 1 | 2 | Mon | Weekday | Winter | NOX   |  3.7 |\n",
       "| DAV | 2024-01-01 02:00:00 | 2024 | 1 | 1 | 2 | Mon | Weekday | Winter | TEMP  | -3.3 |\n",
       "| DAV | 2024-01-01 02:00:00 | 2024 | 1 | 1 | 2 | Mon | Weekday | Winter | PREC  |  0.0 |\n",
       "| DAV | 2024-01-01 02:00:00 | 2024 | 1 | 1 | 2 | Mon | Weekday | Winter | RAD   | -0.7 |\n",
       "| DAV | 2024-01-01 02:00:00 | 2024 | 1 | 1 | 2 | Mon | Weekday | Winter | SO2   |   NA |\n",
       "| ... | ... | ... | ... | ... | ... | ... | ... | ... | ... | ... |\n",
       "| BAS | 2024-12-31 21:00:00 | 2024 | 12 | 31 | 21 | Tue | Weekday | Winter | NOX   |    51.6 |\n",
       "| BAS | 2024-12-31 21:00:00 | 2024 | 12 | 31 | 21 | Tue | Weekday | Winter | TEMP  |    -1.4 |\n",
       "| BAS | 2024-12-31 21:00:00 | 2024 | 12 | 31 | 21 | Tue | Weekday | Winter | PREC  |     0.0 |\n",
       "| BAS | 2024-12-31 21:00:00 | 2024 | 12 | 31 | 21 | Tue | Weekday | Winter | RAD   |     0.0 |\n",
       "| BAS | 2024-12-31 21:00:00 | 2024 | 12 | 31 | 21 | Tue | Weekday | Winter | SO2   |     1.1 |\n",
       "| BAS | 2024-12-31 21:00:00 | 2024 | 12 | 31 | 21 | Tue | Weekday | Winter | PM2.5 |    36.1 |\n",
       "| BAS | 2024-12-31 21:00:00 | 2024 | 12 | 31 | 21 | Tue | Weekday | Winter | EC    |     1.2 |\n",
       "| BAS | 2024-12-31 21:00:00 | 2024 | 12 | 31 | 21 | Tue | Weekday | Winter | CPC   | 15172.2 |\n",
       "| BAS | 2024-12-31 22:00:00 | 2024 | 12 | 31 | 22 | Tue | Weekday | Winter | O3    |     2.6 |\n",
       "| BAS | 2024-12-31 22:00:00 | 2024 | 12 | 31 | 22 | Tue | Weekday | Winter | NO2   |    34.3 |\n",
       "| BAS | 2024-12-31 22:00:00 | 2024 | 12 | 31 | 22 | Tue | Weekday | Winter | PM10  |    36.7 |\n",
       "| BAS | 2024-12-31 22:00:00 | 2024 | 12 | 31 | 22 | Tue | Weekday | Winter | NOX   |    48.5 |\n",
       "| BAS | 2024-12-31 22:00:00 | 2024 | 12 | 31 | 22 | Tue | Weekday | Winter | TEMP  |    -1.8 |\n",
       "| BAS | 2024-12-31 22:00:00 | 2024 | 12 | 31 | 22 | Tue | Weekday | Winter | PREC  |     0.0 |\n",
       "| BAS | 2024-12-31 22:00:00 | 2024 | 12 | 31 | 22 | Tue | Weekday | Winter | RAD   |     0.0 |\n",
       "| BAS | 2024-12-31 22:00:00 | 2024 | 12 | 31 | 22 | Tue | Weekday | Winter | SO2   |     1.4 |\n",
       "| BAS | 2024-12-31 22:00:00 | 2024 | 12 | 31 | 22 | Tue | Weekday | Winter | PM2.5 |    36.3 |\n",
       "| BAS | 2024-12-31 22:00:00 | 2024 | 12 | 31 | 22 | Tue | Weekday | Winter | EC    |     1.2 |\n",
       "| BAS | 2024-12-31 22:00:00 | 2024 | 12 | 31 | 22 | Tue | Weekday | Winter | CPC   | 16183.8 |\n",
       "| BAS | 2024-12-31 23:00:00 | 2024 | 12 | 31 | 23 | Tue | Weekday | Winter | O3    |     3.0 |\n",
       "| BAS | 2024-12-31 23:00:00 | 2024 | 12 | 31 | 23 | Tue | Weekday | Winter | NO2   |    34.2 |\n",
       "| BAS | 2024-12-31 23:00:00 | 2024 | 12 | 31 | 23 | Tue | Weekday | Winter | PM10  |    38.7 |\n",
       "| BAS | 2024-12-31 23:00:00 | 2024 | 12 | 31 | 23 | Tue | Weekday | Winter | NOX   |    42.5 |\n",
       "| BAS | 2024-12-31 23:00:00 | 2024 | 12 | 31 | 23 | Tue | Weekday | Winter | TEMP  |    -2.1 |\n",
       "| BAS | 2024-12-31 23:00:00 | 2024 | 12 | 31 | 23 | Tue | Weekday | Winter | PREC  |     0.0 |\n",
       "| BAS | 2024-12-31 23:00:00 | 2024 | 12 | 31 | 23 | Tue | Weekday | Winter | RAD   |     0.0 |\n",
       "| BAS | 2024-12-31 23:00:00 | 2024 | 12 | 31 | 23 | Tue | Weekday | Winter | SO2   |     1.3 |\n",
       "| BAS | 2024-12-31 23:00:00 | 2024 | 12 | 31 | 23 | Tue | Weekday | Winter | PM2.5 |    38.8 |\n",
       "| BAS | 2024-12-31 23:00:00 | 2024 | 12 | 31 | 23 | Tue | Weekday | Winter | EC    |     1.1 |\n",
       "| BAS | 2024-12-31 23:00:00 | 2024 | 12 | 31 | 23 | Tue | Weekday | Winter | CPC   | 15483.7 |\n",
       "\n"
      ],
      "text/plain": [
       "       site datetime            year month day hour dayofwk daytype season\n",
       "1      DAV  2024-01-01 00:00:00 2024 1     1   0    Mon     Weekday Winter\n",
       "2      DAV  2024-01-01 00:00:00 2024 1     1   0    Mon     Weekday Winter\n",
       "3      DAV  2024-01-01 00:00:00 2024 1     1   0    Mon     Weekday Winter\n",
       "4      DAV  2024-01-01 00:00:00 2024 1     1   0    Mon     Weekday Winter\n",
       "5      DAV  2024-01-01 00:00:00 2024 1     1   0    Mon     Weekday Winter\n",
       "6      DAV  2024-01-01 00:00:00 2024 1     1   0    Mon     Weekday Winter\n",
       "7      DAV  2024-01-01 00:00:00 2024 1     1   0    Mon     Weekday Winter\n",
       "8      DAV  2024-01-01 00:00:00 2024 1     1   0    Mon     Weekday Winter\n",
       "9      DAV  2024-01-01 00:00:00 2024 1     1   0    Mon     Weekday Winter\n",
       "10     DAV  2024-01-01 00:00:00 2024 1     1   0    Mon     Weekday Winter\n",
       "11     DAV  2024-01-01 00:00:00 2024 1     1   0    Mon     Weekday Winter\n",
       "12     DAV  2024-01-01 01:00:00 2024 1     1   1    Mon     Weekday Winter\n",
       "13     DAV  2024-01-01 01:00:00 2024 1     1   1    Mon     Weekday Winter\n",
       "14     DAV  2024-01-01 01:00:00 2024 1     1   1    Mon     Weekday Winter\n",
       "15     DAV  2024-01-01 01:00:00 2024 1     1   1    Mon     Weekday Winter\n",
       "16     DAV  2024-01-01 01:00:00 2024 1     1   1    Mon     Weekday Winter\n",
       "17     DAV  2024-01-01 01:00:00 2024 1     1   1    Mon     Weekday Winter\n",
       "18     DAV  2024-01-01 01:00:00 2024 1     1   1    Mon     Weekday Winter\n",
       "19     DAV  2024-01-01 01:00:00 2024 1     1   1    Mon     Weekday Winter\n",
       "20     DAV  2024-01-01 01:00:00 2024 1     1   1    Mon     Weekday Winter\n",
       "21     DAV  2024-01-01 01:00:00 2024 1     1   1    Mon     Weekday Winter\n",
       "22     DAV  2024-01-01 01:00:00 2024 1     1   1    Mon     Weekday Winter\n",
       "23     DAV  2024-01-01 02:00:00 2024 1     1   2    Mon     Weekday Winter\n",
       "24     DAV  2024-01-01 02:00:00 2024 1     1   2    Mon     Weekday Winter\n",
       "25     DAV  2024-01-01 02:00:00 2024 1     1   2    Mon     Weekday Winter\n",
       "26     DAV  2024-01-01 02:00:00 2024 1     1   2    Mon     Weekday Winter\n",
       "27     DAV  2024-01-01 02:00:00 2024 1     1   2    Mon     Weekday Winter\n",
       "28     DAV  2024-01-01 02:00:00 2024 1     1   2    Mon     Weekday Winter\n",
       "29     DAV  2024-01-01 02:00:00 2024 1     1   2    Mon     Weekday Winter\n",
       "30     DAV  2024-01-01 02:00:00 2024 1     1   2    Mon     Weekday Winter\n",
       "...    ...  ...                 ...  ...   ... ...  ...     ...     ...   \n",
       "193219 BAS  2024-12-31 21:00:00 2024 12    31  21   Tue     Weekday Winter\n",
       "193220 BAS  2024-12-31 21:00:00 2024 12    31  21   Tue     Weekday Winter\n",
       "193221 BAS  2024-12-31 21:00:00 2024 12    31  21   Tue     Weekday Winter\n",
       "193222 BAS  2024-12-31 21:00:00 2024 12    31  21   Tue     Weekday Winter\n",
       "193223 BAS  2024-12-31 21:00:00 2024 12    31  21   Tue     Weekday Winter\n",
       "193224 BAS  2024-12-31 21:00:00 2024 12    31  21   Tue     Weekday Winter\n",
       "193225 BAS  2024-12-31 21:00:00 2024 12    31  21   Tue     Weekday Winter\n",
       "193226 BAS  2024-12-31 21:00:00 2024 12    31  21   Tue     Weekday Winter\n",
       "193227 BAS  2024-12-31 22:00:00 2024 12    31  22   Tue     Weekday Winter\n",
       "193228 BAS  2024-12-31 22:00:00 2024 12    31  22   Tue     Weekday Winter\n",
       "193229 BAS  2024-12-31 22:00:00 2024 12    31  22   Tue     Weekday Winter\n",
       "193230 BAS  2024-12-31 22:00:00 2024 12    31  22   Tue     Weekday Winter\n",
       "193231 BAS  2024-12-31 22:00:00 2024 12    31  22   Tue     Weekday Winter\n",
       "193232 BAS  2024-12-31 22:00:00 2024 12    31  22   Tue     Weekday Winter\n",
       "193233 BAS  2024-12-31 22:00:00 2024 12    31  22   Tue     Weekday Winter\n",
       "193234 BAS  2024-12-31 22:00:00 2024 12    31  22   Tue     Weekday Winter\n",
       "193235 BAS  2024-12-31 22:00:00 2024 12    31  22   Tue     Weekday Winter\n",
       "193236 BAS  2024-12-31 22:00:00 2024 12    31  22   Tue     Weekday Winter\n",
       "193237 BAS  2024-12-31 22:00:00 2024 12    31  22   Tue     Weekday Winter\n",
       "193238 BAS  2024-12-31 23:00:00 2024 12    31  23   Tue     Weekday Winter\n",
       "193239 BAS  2024-12-31 23:00:00 2024 12    31  23   Tue     Weekday Winter\n",
       "193240 BAS  2024-12-31 23:00:00 2024 12    31  23   Tue     Weekday Winter\n",
       "193241 BAS  2024-12-31 23:00:00 2024 12    31  23   Tue     Weekday Winter\n",
       "193242 BAS  2024-12-31 23:00:00 2024 12    31  23   Tue     Weekday Winter\n",
       "193243 BAS  2024-12-31 23:00:00 2024 12    31  23   Tue     Weekday Winter\n",
       "193244 BAS  2024-12-31 23:00:00 2024 12    31  23   Tue     Weekday Winter\n",
       "193245 BAS  2024-12-31 23:00:00 2024 12    31  23   Tue     Weekday Winter\n",
       "193246 BAS  2024-12-31 23:00:00 2024 12    31  23   Tue     Weekday Winter\n",
       "193247 BAS  2024-12-31 23:00:00 2024 12    31  23   Tue     Weekday Winter\n",
       "193248 BAS  2024-12-31 23:00:00 2024 12    31  23   Tue     Weekday Winter\n",
       "       variable value  \n",
       "1      O3       57.7   \n",
       "2      NO2       1.9   \n",
       "3      PM10      1.2   \n",
       "4      NOX       1.9   \n",
       "5      TEMP     -2.2   \n",
       "6      PREC      0.0   \n",
       "7      RAD      -0.6   \n",
       "8      SO2        NA   \n",
       "9      PM2.5      NA   \n",
       "10     EC         NA   \n",
       "11     CPC        NA   \n",
       "12     O3       55.2   \n",
       "13     NO2       2.1   \n",
       "14     PM10      1.5   \n",
       "15     NOX       2.1   \n",
       "16     TEMP     -2.8   \n",
       "17     PREC      0.0   \n",
       "18     RAD      -0.7   \n",
       "19     SO2        NA   \n",
       "20     PM2.5      NA   \n",
       "21     EC         NA   \n",
       "22     CPC        NA   \n",
       "23     O3       49.9   \n",
       "24     NO2       3.7   \n",
       "25     PM10      2.2   \n",
       "26     NOX       3.7   \n",
       "27     TEMP     -3.3   \n",
       "28     PREC      0.0   \n",
       "29     RAD      -0.7   \n",
       "30     SO2        NA   \n",
       "...    ...      ...    \n",
       "193219 NOX         51.6\n",
       "193220 TEMP        -1.4\n",
       "193221 PREC         0.0\n",
       "193222 RAD          0.0\n",
       "193223 SO2          1.1\n",
       "193224 PM2.5       36.1\n",
       "193225 EC           1.2\n",
       "193226 CPC      15172.2\n",
       "193227 O3           2.6\n",
       "193228 NO2         34.3\n",
       "193229 PM10        36.7\n",
       "193230 NOX         48.5\n",
       "193231 TEMP        -1.8\n",
       "193232 PREC         0.0\n",
       "193233 RAD          0.0\n",
       "193234 SO2          1.4\n",
       "193235 PM2.5       36.3\n",
       "193236 EC           1.2\n",
       "193237 CPC      16183.8\n",
       "193238 O3           3.0\n",
       "193239 NO2         34.2\n",
       "193240 PM10        38.7\n",
       "193241 NOX         42.5\n",
       "193242 TEMP        -2.1\n",
       "193243 PREC         0.0\n",
       "193244 RAD          0.0\n",
       "193245 SO2          1.3\n",
       "193246 PM2.5       38.8\n",
       "193247 EC           1.1\n",
       "193248 CPC      15483.7"
      ]
     },
     "metadata": {},
     "output_type": "display_data"
    }
   ],
   "source": [
    "all_data_lf"
   ]
  },
  {
   "cell_type": "code",
   "execution_count": 18,
   "id": "e6a18af3-1cab-4eac-b9aa-4287816778f3",
   "metadata": {},
   "outputs": [
    {
     "name": "stderr",
     "output_type": "stream",
     "text": [
      "Warning message:\n",
      "\"\u001b[1m\u001b[22mRemoved 17568 rows containing missing values (`geom_line()`).\"\n"
     ]
    },
    {
     "data": {
      "image/png": "[encoded data removed]",
      "text/plain": [
       "plot without title"
      ]
     },
     "metadata": {
      "image/png": {
       "height": 420,
       "width": 420
      }
     },
     "output_type": "display_data"
    }
   ],
   "source": [
    "  ggplot(all_data_lf)+                                        # `lf` is the data frame\n",
    "  facet_grid(variable~site, scale=\"free_y\")+         # panels created out of these variables\n",
    "  geom_line(aes(datetime, value, color=site))+       # plot `value` vs. `time` as lines\n",
    "  scale_x_datetime(\"2024\", date_labels = \"%b\") +\n",
    "  theme(axis.text.x=element_text(angle=30, hjust=1)) # rotate x-axis labels\n",
    "\n",
    "## geom_line counts the segments and not the actual number of NA values removed"
   ]
  },
  {
   "cell_type": "code",
   "execution_count": 19,
   "id": "e5172b6e-9f30-441f-a44a-5522e6deda9b",
   "metadata": {},
   "outputs": [
    {
     "data": {
      "text/html": [
       "36281"
      ],
      "text/latex": [
       "36281"
      ],
      "text/markdown": [
       "36281"
      ],
      "text/plain": [
       "[1] 36281"
      ]
     },
     "metadata": {},
     "output_type": "display_data"
    }
   ],
   "source": [
    "## There are more NA values than segments because we have consecutive Na Values\n",
    "sum(is.na(all_data_lf$value))"
   ]
  },
  {
   "cell_type": "code",
   "execution_count": 21,
   "id": "46821d9e-aa38-481e-b8b5-c2086c72ca2e",
   "metadata": {},
   "outputs": [
    {
     "data": {
      "text/html": [
       "36281"
      ],
      "text/latex": [
       "36281"
      ],
      "text/markdown": [
       "36281"
      ],
      "text/plain": [
       "[1] 36281"
      ]
     },
     "metadata": {},
     "output_type": "display_data"
    }
   ],
   "source": [
    "sum(is.na(all_data_lf$value))"
   ]
  },
  {
   "cell_type": "code",
   "execution_count": 25,
   "id": "39e33150-b357-4d98-b980-24df98389103",
   "metadata": {},
   "outputs": [
    {
     "data": {
      "text/html": [
       "<style>\n",
       ".dl-inline {width: auto; margin:0; padding: 0}\n",
       ".dl-inline>dt, .dl-inline>dd {float: none; width: auto; display: inline-block}\n",
       ".dl-inline>dt::after {content: \":\\0020\"; padding-right: .5ex}\n",
       ".dl-inline>dt:not(:first-of-type) {padding-left: .5ex}\n",
       "</style><dl class=dl-inline><dt>site</dt><dd>0</dd><dt>datetime</dt><dd>0</dd><dt>year</dt><dd>0</dd><dt>month</dt><dd>0</dd><dt>day</dt><dd>0</dd><dt>hour</dt><dd>0</dd><dt>dayofwk</dt><dd>0</dd><dt>daytype</dt><dd>0</dd><dt>season</dt><dd>0</dd><dt>O3</dt><dd>85</dd><dt>NO2</dt><dd>96</dd><dt>PM10</dt><dd>211</dd><dt>NOX</dt><dd>96</dd><dt>TEMP</dt><dd>0</dd><dt>PREC</dt><dd>73</dd><dt>RAD</dt><dd>0</dd><dt>SO2</dt><dd>8852</dd><dt>PM2.5</dt><dd>9065</dd><dt>EC</dt><dd>8832</dd><dt>CPC</dt><dd>8971</dd></dl>\n"
      ],
      "text/latex": [
       "\\begin{description*}\n",
       "\\item[site] 0\n",
       "\\item[datetime] 0\n",
       "\\item[year] 0\n",
       "\\item[month] 0\n",
       "\\item[day] 0\n",
       "\\item[hour] 0\n",
       "\\item[dayofwk] 0\n",
       "\\item[daytype] 0\n",
       "\\item[season] 0\n",
       "\\item[O3] 85\n",
       "\\item[NO2] 96\n",
       "\\item[PM10] 211\n",
       "\\item[NOX] 96\n",
       "\\item[TEMP] 0\n",
       "\\item[PREC] 73\n",
       "\\item[RAD] 0\n",
       "\\item[SO2] 8852\n",
       "\\item[PM2.5] 9065\n",
       "\\item[EC] 8832\n",
       "\\item[CPC] 8971\n",
       "\\end{description*}\n"
      ],
      "text/markdown": [
       "site\n",
       ":   0datetime\n",
       ":   0year\n",
       ":   0month\n",
       ":   0day\n",
       ":   0hour\n",
       ":   0dayofwk\n",
       ":   0daytype\n",
       ":   0season\n",
       ":   0O3\n",
       ":   85NO2\n",
       ":   96PM10\n",
       ":   211NOX\n",
       ":   96TEMP\n",
       ":   0PREC\n",
       ":   73RAD\n",
       ":   0SO2\n",
       ":   8852PM2.5\n",
       ":   9065EC\n",
       ":   8832CPC\n",
       ":   8971\n",
       "\n"
      ],
      "text/plain": [
       "    site datetime     year    month      day     hour  dayofwk  daytype \n",
       "       0        0        0        0        0        0        0        0 \n",
       "  season       O3      NO2     PM10      NOX     TEMP     PREC      RAD \n",
       "       0       85       96      211       96        0       73        0 \n",
       "     SO2    PM2.5       EC      CPC \n",
       "    8852     9065     8832     8971 "
      ]
     },
     "metadata": {},
     "output_type": "display_data"
    }
   ],
   "source": [
    "colSums(is.na(all_data_df))"
   ]
  },
  {
   "cell_type": "code",
   "execution_count": 26,
   "id": "9bfceb09-29a9-41f8-b19e-1befed541501",
   "metadata": {},
   "outputs": [
    {
     "data": {
      "text/html": [
       "<style>\n",
       ".dl-inline {width: auto; margin:0; padding: 0}\n",
       ".dl-inline>dt, .dl-inline>dd {float: none; width: auto; display: inline-block}\n",
       ".dl-inline>dt::after {content: \":\\0020\"; padding-right: .5ex}\n",
       ".dl-inline>dt:not(:first-of-type) {padding-left: .5ex}\n",
       "</style><dl class=dl-inline><dt>site</dt><dd>0</dd><dt>datetime</dt><dd>0</dd><dt>year</dt><dd>0</dd><dt>month</dt><dd>0</dd><dt>day</dt><dd>0</dd><dt>hour</dt><dd>0</dd><dt>dayofwk</dt><dd>0</dd><dt>daytype</dt><dd>0</dd><dt>season</dt><dd>0</dd><dt>O3</dt><dd>67</dd><dt>NO2</dt><dd>74</dd><dt>PM10</dt><dd>113</dd><dt>NOX</dt><dd>74</dd><dt>TEMP</dt><dd>0</dd><dt>PREC</dt><dd>72</dd><dt>RAD</dt><dd>0</dd><dt>SO2</dt><dd>68</dd><dt>PM2.5</dt><dd>281</dd><dt>EC</dt><dd>48</dd><dt>CPC</dt><dd>187</dd></dl>\n"
      ],
      "text/latex": [
       "\\begin{description*}\n",
       "\\item[site] 0\n",
       "\\item[datetime] 0\n",
       "\\item[year] 0\n",
       "\\item[month] 0\n",
       "\\item[day] 0\n",
       "\\item[hour] 0\n",
       "\\item[dayofwk] 0\n",
       "\\item[daytype] 0\n",
       "\\item[season] 0\n",
       "\\item[O3] 67\n",
       "\\item[NO2] 74\n",
       "\\item[PM10] 113\n",
       "\\item[NOX] 74\n",
       "\\item[TEMP] 0\n",
       "\\item[PREC] 72\n",
       "\\item[RAD] 0\n",
       "\\item[SO2] 68\n",
       "\\item[PM2.5] 281\n",
       "\\item[EC] 48\n",
       "\\item[CPC] 187\n",
       "\\end{description*}\n"
      ],
      "text/markdown": [
       "site\n",
       ":   0datetime\n",
       ":   0year\n",
       ":   0month\n",
       ":   0day\n",
       ":   0hour\n",
       ":   0dayofwk\n",
       ":   0daytype\n",
       ":   0season\n",
       ":   0O3\n",
       ":   67NO2\n",
       ":   74PM10\n",
       ":   113NOX\n",
       ":   74TEMP\n",
       ":   0PREC\n",
       ":   72RAD\n",
       ":   0SO2\n",
       ":   68PM2.5\n",
       ":   281EC\n",
       ":   48CPC\n",
       ":   187\n",
       "\n"
      ],
      "text/plain": [
       "    site datetime     year    month      day     hour  dayofwk  daytype \n",
       "       0        0        0        0        0        0        0        0 \n",
       "  season       O3      NO2     PM10      NOX     TEMP     PREC      RAD \n",
       "       0       67       74      113       74        0       72        0 \n",
       "     SO2    PM2.5       EC      CPC \n",
       "      68      281       48      187 "
      ]
     },
     "metadata": {},
     "output_type": "display_data"
    }
   ],
   "source": [
    "subset_data <- all_data_df[grep(\"BAS\", all_data_df$site), ]  # Select rows containing \"BAS\"\n",
    "na_count_BAS <- colSums(is.na(subset_data))  # Count NA values per column\n",
    "na_count_BAS"
   ]
  },
  {
   "cell_type": "code",
   "execution_count": 27,
   "id": "28701e2d-d554-4778-819d-09aa999ed53e",
   "metadata": {},
   "outputs": [
    {
     "data": {
      "text/html": [
       "<style>\n",
       ".dl-inline {width: auto; margin:0; padding: 0}\n",
       ".dl-inline>dt, .dl-inline>dd {float: none; width: auto; display: inline-block}\n",
       ".dl-inline>dt::after {content: \":\\0020\"; padding-right: .5ex}\n",
       ".dl-inline>dt:not(:first-of-type) {padding-left: .5ex}\n",
       "</style><dl class=dl-inline><dt>site</dt><dd>0</dd><dt>datetime</dt><dd>0</dd><dt>year</dt><dd>0</dd><dt>month</dt><dd>0</dd><dt>day</dt><dd>0</dd><dt>hour</dt><dd>0</dd><dt>dayofwk</dt><dd>0</dd><dt>daytype</dt><dd>0</dd><dt>season</dt><dd>0</dd><dt>O3</dt><dd>67</dd><dt>NO2</dt><dd>74</dd><dt>PM10</dt><dd>113</dd><dt>NOX</dt><dd>74</dd><dt>TEMP</dt><dd>0</dd><dt>PREC</dt><dd>72</dd><dt>RAD</dt><dd>0</dd><dt>SO2</dt><dd>68</dd><dt>PM2.5</dt><dd>281</dd><dt>EC</dt><dd>48</dd><dt>CPC</dt><dd>187</dd></dl>\n"
      ],
      "text/latex": [
       "\\begin{description*}\n",
       "\\item[site] 0\n",
       "\\item[datetime] 0\n",
       "\\item[year] 0\n",
       "\\item[month] 0\n",
       "\\item[day] 0\n",
       "\\item[hour] 0\n",
       "\\item[dayofwk] 0\n",
       "\\item[daytype] 0\n",
       "\\item[season] 0\n",
       "\\item[O3] 67\n",
       "\\item[NO2] 74\n",
       "\\item[PM10] 113\n",
       "\\item[NOX] 74\n",
       "\\item[TEMP] 0\n",
       "\\item[PREC] 72\n",
       "\\item[RAD] 0\n",
       "\\item[SO2] 68\n",
       "\\item[PM2.5] 281\n",
       "\\item[EC] 48\n",
       "\\item[CPC] 187\n",
       "\\end{description*}\n"
      ],
      "text/markdown": [
       "site\n",
       ":   0datetime\n",
       ":   0year\n",
       ":   0month\n",
       ":   0day\n",
       ":   0hour\n",
       ":   0dayofwk\n",
       ":   0daytype\n",
       ":   0season\n",
       ":   0O3\n",
       ":   67NO2\n",
       ":   74PM10\n",
       ":   113NOX\n",
       ":   74TEMP\n",
       ":   0PREC\n",
       ":   72RAD\n",
       ":   0SO2\n",
       ":   68PM2.5\n",
       ":   281EC\n",
       ":   48CPC\n",
       ":   187\n",
       "\n"
      ],
      "text/plain": [
       "    site datetime     year    month      day     hour  dayofwk  daytype \n",
       "       0        0        0        0        0        0        0        0 \n",
       "  season       O3      NO2     PM10      NOX     TEMP     PREC      RAD \n",
       "       0       67       74      113       74        0       72        0 \n",
       "     SO2    PM2.5       EC      CPC \n",
       "      68      281       48      187 "
      ]
     },
     "metadata": {},
     "output_type": "display_data"
    }
   ],
   "source": [
    "subset_data <- all_data_df[grep(\"BAS\", all_data_df$site), ]  # Select rows containing \"BAS\"\n",
    "na_count_BAS <- colSums(is.na(subset_data))  # Count NA values per column\n",
    "na_count_BAS"
   ]
  },
  {
   "cell_type": "code",
   "execution_count": 28,
   "id": "e57726cc-4c85-4665-b5e7-aadbfcb6716f",
   "metadata": {},
   "outputs": [
    {
     "name": "stderr",
     "output_type": "stream",
     "text": [
      "Warning message:\n",
      "\"\u001b[1m\u001b[22mRemoved 36281 rows containing non-finite values (`stat_boxplot()`).\"\n"
     ]
    },
    {
     "data": {
      "image/png": "[encoded data removed]",
      "text/plain": [
       "plot without title"
      ]
     },
     "metadata": {
      "image/png": {
       "height": 420,
       "width": 420
      }
     },
     "output_type": "display_data"
    }
   ],
   "source": [
    "all_data_lf %>% \n",
    "  mutate(month = factor(month)) %>%\n",
    "  ggplot +\n",
    "  facet_grid(variable ~ site, scale = \"free_y\") +\n",
    "  geom_boxplot(aes(month, value), outlier.size = 0.5, outlier.shape = 3)"
   ]
  },
  {
   "cell_type": "markdown",
   "id": "de54011f-9577-439b-94de-c33d10c4df4d",
   "metadata": {},
   "source": [
    "## Weekdays vs Weekends"
   ]
  },
  {
   "cell_type": "code",
   "execution_count": 29,
   "id": "ecd45345-3bfb-491f-acb1-5c68017e9790",
   "metadata": {},
   "outputs": [
    {
     "data": {
      "image/png": "[encoded data removed]",
      "text/plain": [
       "plot without title"
      ]
     },
     "metadata": {
      "image/png": {
       "height": 420,
       "width": 420
      }
     },
     "output_type": "display_data"
    }
   ],
   "source": [
    "# DAVOS \n",
    "all_data_lf %>%\n",
    "  filter(site==\"DAV\" & !is.na(value) & !is.na(season)) %>%\n",
    "  ggplot +\n",
    "  facet_grid(variable ~ season, scale = \"free_y\") +\n",
    "  geom_boxplot(aes(daytype, value), outlier.size = 0.5, outlier.shape = 3)"
   ]
  },
  {
   "cell_type": "code",
   "execution_count": 30,
   "id": "20f659d4-ed6c-4087-a2e8-16fa6a13ec22",
   "metadata": {},
   "outputs": [
    {
     "data": {
      "image/png": "[encoded data removed]",
      "text/plain": [
       "plot without title"
      ]
     },
     "metadata": {
      "image/png": {
       "height": 420,
       "width": 420
      }
     },
     "output_type": "display_data"
    }
   ],
   "source": [
    "# BASEL\n",
    "all_data_lf %>%\n",
    "  filter(site == \"BAS\" & !is.na(value) & !is.na(season)) %>%\n",
    "  ggplot +\n",
    "  facet_grid(variable ~ season, scale = \"free_y\") +\n",
    "  geom_boxplot(aes(daytype, value), outlier.size = 0.5, outlier.shape = 3)"
   ]
  },
  {
   "cell_type": "markdown",
   "id": "79faa447-c64a-4597-a8e3-e09541e82388",
   "metadata": {},
   "source": [
    "## Precipitation average variations"
   ]
  },
  {
   "cell_type": "code",
   "execution_count": 35,
   "id": "e6f2a354-0d67-455f-b408-cd8342c80cb7",
   "metadata": {},
   "outputs": [
    {
     "name": "stderr",
     "output_type": "stream",
     "text": [
      "\u001b[1m\u001b[22m`summarise()` has grouped output by 'daytype', 'variable'. You can override using the `.groups` argument.\n"
     ]
    },
    {
     "data": {
      "image/png": "[encoded data removed]",
      "text/plain": [
       "plot without title"
      ]
     },
     "metadata": {
      "image/png": {
       "height": 420,
       "width": 420
      }
     },
     "output_type": "display_data"
    }
   ],
   "source": [
    "# precipitation average in DAVOS\n",
    "all_data_lf %>%\n",
    "  filter(site == \"DAV\" & !is.na(value) & variable == \"PREC\" & !is.na(season)) %>%\n",
    "  group_by(daytype, variable, season) %>%\n",
    "  summarise(\n",
    "    mean_value = mean(value, na.rm = TRUE),\n",
    "    sd_value = sd(value, na.rm = TRUE),\n",
    "    n = sum(!is.na(value)),  # Sample size (excluding NA)\n",
    "    se_value = sd_value / sqrt(n),  # Standard error\n",
    "    ci_value = qt(0.975, df = n - 1) * se_value  # 95% Confidence Interval\n",
    "  ) %>%\n",
    "  ggplot(aes(daytype, mean_value)) +\n",
    "  facet_grid(variable ~ season, scales = \"free_y\") +\n",
    "  geom_bar(stat = \"identity\", show.legend = FALSE, fill = \"steelblue\") +  # Mean values as bars\n",
    "  geom_errorbar(aes(ymin = mean_value - ci_value, ymax = mean_value + ci_value), \n",
    "                width = 0.2, color = \"black\") +  # 95% CI error bars\n",
    "  scale_y_continuous(\"Daily mean precipitation (mm)\", expand = expansion(mult = c(0, 0.1))) +\n",
    "  theme_minimal()\n"
   ]
  },
  {
   "cell_type": "code",
   "execution_count": 36,
   "id": "217d43ab-0d5a-4fcb-8556-ebc101a1f484",
   "metadata": {},
   "outputs": [
    {
     "name": "stderr",
     "output_type": "stream",
     "text": [
      "\u001b[1m\u001b[22m`summarise()` has grouped output by 'daytype', 'variable'. You can override using the `.groups` argument.\n"
     ]
    },
    {
     "data": {
      "image/png": "[encoded data removed]",
      "text/plain": [
       "plot without title"
      ]
     },
     "metadata": {
      "image/png": {
       "height": 420,
       "width": 420
      }
     },
     "output_type": "display_data"
    }
   ],
   "source": [
    "#  precipitation average in BASEL\n",
    "all_data_lf %>%\n",
    "  filter(site == \"BAS\" & !is.na(value) & variable == \"PREC\" & !is.na(season)) %>%\n",
    "  group_by(daytype, variable, season) %>%\n",
    "  summarise(\n",
    "    mean_value = mean(value, na.rm = TRUE),\n",
    "    sd_value = sd(value, na.rm = TRUE),\n",
    "    n = sum(!is.na(value)),  # Sample size (excluding NA)\n",
    "    se_value = sd_value / sqrt(n),  # Standard error\n",
    "    ci_value = qt(0.975, df = n - 1) * se_value  # 95% Confidence Interval\n",
    "  ) %>%\n",
    "  ggplot(aes(daytype, mean_value)) +\n",
    "  facet_grid(variable ~ season, scales = \"free_y\") +\n",
    "  geom_bar(stat = \"identity\", show.legend = FALSE, fill = \"steelblue\") +  # Mean values as bars\n",
    "  geom_errorbar(aes(ymin = mean_value - ci_value, ymax = mean_value + ci_value), \n",
    "                width = 0.2, color = \"black\") +  # 95% CI error bars\n",
    "  scale_y_continuous(\"Daily mean precipitation (mm)\", expand = expansion(mult = c(0, 0.1))) +\n",
    "  theme_minimal()\n"
   ]
  },
  {
   "cell_type": "markdown",
   "id": "1094f6d5-64f9-4224-9535-479650a2837e",
   "metadata": {},
   "source": [
    "## Cummulative precipitaiton variations"
   ]
  },
  {
   "cell_type": "code",
   "execution_count": 41,
   "id": "eb0b9426-afeb-4bda-aafc-7dec7e09987d",
   "metadata": {},
   "outputs": [
    {
     "data": {
      "image/png": "[encoded data removed]",
      "text/plain": [
       "plot without title"
      ]
     },
     "metadata": {
      "image/png": {
       "height": 420,
       "width": 420
      }
     },
     "output_type": "display_data"
    }
   ],
   "source": [
    "#DAVOS\n",
    "all_data_lf %>%\n",
    "  filter(site==\"DAV\" & !is.na(value) & variable==\"PREC\" & !is.na(season)) %>%\n",
    "  ggplot +\n",
    "  facet_grid(variable ~ season, scale = \"free_y\") +\n",
    "  geom_bar(aes(daytype, value), stat=\"summary\", fun=\"cumsum\", show.legend = FALSE) +\n",
    "  scale_y_continuous(\"Cumulative sum of precipitation (mm)\", expand=expansion(mult=c(0, 0.1)))\n"
   ]
  },
  {
   "cell_type": "code",
   "execution_count": 42,
   "id": "b036b4ff-b500-491a-83d8-8d925fb4d6a9",
   "metadata": {},
   "outputs": [
    {
     "data": {
      "image/png": "[encoded data removed]",
      "text/plain": [
       "plot without title"
      ]
     },
     "metadata": {
      "image/png": {
       "height": 420,
       "width": 420
      }
     },
     "output_type": "display_data"
    }
   ],
   "source": [
    "#BASEL\n",
    "all_data_lf %>%\n",
    "  filter(site==\"BAS\" & !is.na(value) & variable==\"PREC\" & !is.na(season)) %>%\n",
    "  ggplot +\n",
    "  facet_grid(variable ~ season, scale = \"free_y\") +\n",
    "  geom_bar(aes(daytype, value), stat=\"summary\", fun=\"cumsum\", show.legend = FALSE) +\n",
    "  scale_y_continuous(\"Cumulative sum of precipitation (mm)\", expand=expansion(mult=c(0, 0.1)))"
   ]
  },
  {
   "cell_type": "code",
   "execution_count": null,
   "id": "650dea47-cbbe-410e-9dee-35b1da3c734e",
   "metadata": {},
   "outputs": [],
   "source": []
  }
 ],
 "metadata": {
  "kernelspec": {
   "display_name": "R",
   "language": "R",
   "name": "ir"
  },
  "language_info": {
   "codemirror_mode": "r",
   "file_extension": ".r",
   "mimetype": "text/x-r-source",
   "name": "R",
   "pygments_lexer": "r",
   "version": "4.1.3"
  }
 },
 "nbformat": 4,
 "nbformat_minor": 5
}
