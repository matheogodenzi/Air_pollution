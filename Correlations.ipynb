{
 "cells": [
  {
   "cell_type": "markdown",
   "id": "2817d025-48fd-419c-9c5d-41d6065bfcde",
   "metadata": {},
   "source": [
    "# Correlations"
   ]
  },
  {
   "cell_type": "code",
   "execution_count": 5,
   "id": "9f365930-5476-4de1-942b-b7c428e7d40e",
   "metadata": {},
   "outputs": [
    {
     "name": "stderr",
     "output_type": "stream",
     "text": [
      "-- \u001b[1mAttaching core tidyverse packages\u001b[22m ---------------------------------------------------------------- tidyverse 2.0.0 --\n",
      "\u001b[32mv\u001b[39m \u001b[34mdplyr    \u001b[39m 1.1.2     \u001b[32mv\u001b[39m \u001b[34mreadr    \u001b[39m 2.1.4\n",
      "\u001b[32mv\u001b[39m \u001b[34mforcats  \u001b[39m 1.0.0     \u001b[32mv\u001b[39m \u001b[34mstringr  \u001b[39m 1.5.1\n",
      "\u001b[32mv\u001b[39m \u001b[34mggplot2  \u001b[39m 3.4.2     \u001b[32mv\u001b[39m \u001b[34mtibble   \u001b[39m 3.2.1\n",
      "\u001b[32mv\u001b[39m \u001b[34mlubridate\u001b[39m 1.9.2     \u001b[32mv\u001b[39m \u001b[34mtidyr    \u001b[39m 1.3.0\n",
      "\u001b[32mv\u001b[39m \u001b[34mpurrr    \u001b[39m 1.0.1     \n",
      "-- \u001b[1mConflicts\u001b[22m ---------------------------------------------------------------------------------- tidyverse_conflicts() --\n",
      "\u001b[31mx\u001b[39m \u001b[34mdplyr\u001b[39m::\u001b[32mfilter()\u001b[39m masks \u001b[34mstats\u001b[39m::filter()\n",
      "\u001b[31mx\u001b[39m \u001b[34mdplyr\u001b[39m::\u001b[32mlag()\u001b[39m    masks \u001b[34mstats\u001b[39m::lag()\n",
      "\u001b[36mi\u001b[39m Use the conflicted package (\u001b[3m\u001b[34m<http://conflicted.r-lib.org/>\u001b[39m\u001b[23m) to force all conflicts to become errors\n"
     ]
    }
   ],
   "source": [
    "library(tidyverse)\n",
    "library(tidyr)\n",
    "library(dplyr)\n",
    "library(ggplot2)\n",
    "library(readxl)\n",
    "library(openxlsx)"
   ]
  },
  {
   "cell_type": "markdown",
   "id": "32e979c8-9ef4-4ea5-9c38-562d58e5937c",
   "metadata": {},
   "source": [
    "## importing data"
   ]
  },
  {
   "cell_type": "code",
   "execution_count": 7,
   "id": "e1b2fcd6-447c-470c-a1f8-681d88ce539a",
   "metadata": {},
   "outputs": [],
   "source": [
    "# Read a CSV file into a data frame\n",
    "df <- read.csv(\"Data/All_dat_df.csv\")"
   ]
  },
  {
   "cell_type": "code",
   "execution_count": 8,
   "id": "f63ab078-a8d3-4b77-bbac-119b57bb8ad9",
   "metadata": {},
   "outputs": [
    {
     "data": {
      "text/html": [
       "<table class=\"dataframe\">\n",
       "<caption>A data.frame: 6 × 22</caption>\n",
       "<thead>\n",
       "\t<tr><th></th><th scope=col>site</th><th scope=col>datetime</th><th scope=col>year</th><th scope=col>month</th><th scope=col>day</th><th scope=col>hour</th><th scope=col>dayofwk</th><th scope=col>daytype</th><th scope=col>season</th><th scope=col>O3</th><th scope=col>...</th><th scope=col>NOX</th><th scope=col>TEMP</th><th scope=col>PREC</th><th scope=col>RAD</th><th scope=col>SO2</th><th scope=col>PM2.5</th><th scope=col>EC</th><th scope=col>CPC</th><th scope=col>avg_wind_speed</th><th scope=col>avg_wind_direction</th></tr>\n",
       "\t<tr><th></th><th scope=col>&lt;chr&gt;</th><th scope=col>&lt;chr&gt;</th><th scope=col>&lt;int&gt;</th><th scope=col>&lt;int&gt;</th><th scope=col>&lt;int&gt;</th><th scope=col>&lt;int&gt;</th><th scope=col>&lt;chr&gt;</th><th scope=col>&lt;chr&gt;</th><th scope=col>&lt;chr&gt;</th><th scope=col>&lt;dbl&gt;</th><th scope=col>...</th><th scope=col>&lt;dbl&gt;</th><th scope=col>&lt;dbl&gt;</th><th scope=col>&lt;dbl&gt;</th><th scope=col>&lt;dbl&gt;</th><th scope=col>&lt;dbl&gt;</th><th scope=col>&lt;dbl&gt;</th><th scope=col>&lt;dbl&gt;</th><th scope=col>&lt;dbl&gt;</th><th scope=col>&lt;dbl&gt;</th><th scope=col>&lt;dbl&gt;</th></tr>\n",
       "</thead>\n",
       "<tbody>\n",
       "\t<tr><th scope=row>1</th><td>DAV</td><td>2024-01-01 00:00:00</td><td>2024</td><td>1</td><td>1</td><td>0</td><td>Mon</td><td>Weekday</td><td>Winter</td><td>57.7</td><td>...</td><td>1.9</td><td>-2.2</td><td>0</td><td>-0.6</td><td>NA</td><td>NA</td><td>NA</td><td>NA</td><td>1.0980000</td><td> 36.25794</td></tr>\n",
       "\t<tr><th scope=row>2</th><td>DAV</td><td>2024-01-01 01:00:00</td><td>2024</td><td>1</td><td>1</td><td>1</td><td>Mon</td><td>Weekday</td><td>Winter</td><td>55.2</td><td>...</td><td>2.1</td><td>-2.8</td><td>0</td><td>-0.7</td><td>NA</td><td>NA</td><td>NA</td><td>NA</td><td>0.9216667</td><td> 40.71351</td></tr>\n",
       "\t<tr><th scope=row>3</th><td>DAV</td><td>2024-01-01 02:00:00</td><td>2024</td><td>1</td><td>1</td><td>2</td><td>Mon</td><td>Weekday</td><td>Winter</td><td>49.9</td><td>...</td><td>3.7</td><td>-3.3</td><td>0</td><td>-0.7</td><td>NA</td><td>NA</td><td>NA</td><td>NA</td><td>0.6716667</td><td>150.12313</td></tr>\n",
       "\t<tr><th scope=row>4</th><td>DAV</td><td>2024-01-01 03:00:00</td><td>2024</td><td>1</td><td>1</td><td>3</td><td>Mon</td><td>Weekday</td><td>Winter</td><td>52.1</td><td>...</td><td>4.6</td><td>-4.2</td><td>0</td><td>-1.1</td><td>NA</td><td>NA</td><td>NA</td><td>NA</td><td>0.5250000</td><td> 40.87731</td></tr>\n",
       "\t<tr><th scope=row>5</th><td>DAV</td><td>2024-01-01 04:00:00</td><td>2024</td><td>1</td><td>1</td><td>4</td><td>Mon</td><td>Weekday</td><td>Winter</td><td>65.8</td><td>...</td><td>0.7</td><td>-5.2</td><td>0</td><td>-1.3</td><td>NA</td><td>NA</td><td>NA</td><td>NA</td><td>1.4700000</td><td>186.90946</td></tr>\n",
       "\t<tr><th scope=row>6</th><td>DAV</td><td>2024-01-01 05:00:00</td><td>2024</td><td>1</td><td>1</td><td>5</td><td>Mon</td><td>Weekday</td><td>Winter</td><td>67.1</td><td>...</td><td>0.7</td><td>-5.6</td><td>0</td><td>-0.8</td><td>NA</td><td>NA</td><td>NA</td><td>NA</td><td>1.9350000</td><td>184.88936</td></tr>\n",
       "</tbody>\n",
       "</table>\n"
      ],
      "text/latex": [
       "A data.frame: 6 × 22\n",
       "\\begin{tabular}{r|lllllllllllllllllllll}\n",
       "  & site & datetime & year & month & day & hour & dayofwk & daytype & season & O3 & ... & NOX & TEMP & PREC & RAD & SO2 & PM2.5 & EC & CPC & avg\\_wind\\_speed & avg\\_wind\\_direction\\\\\n",
       "  & <chr> & <chr> & <int> & <int> & <int> & <int> & <chr> & <chr> & <chr> & <dbl> & ... & <dbl> & <dbl> & <dbl> & <dbl> & <dbl> & <dbl> & <dbl> & <dbl> & <dbl> & <dbl>\\\\\n",
       "\\hline\n",
       "\t1 & DAV & 2024-01-01 00:00:00 & 2024 & 1 & 1 & 0 & Mon & Weekday & Winter & 57.7 & ... & 1.9 & -2.2 & 0 & -0.6 & NA & NA & NA & NA & 1.0980000 &  36.25794\\\\\n",
       "\t2 & DAV & 2024-01-01 01:00:00 & 2024 & 1 & 1 & 1 & Mon & Weekday & Winter & 55.2 & ... & 2.1 & -2.8 & 0 & -0.7 & NA & NA & NA & NA & 0.9216667 &  40.71351\\\\\n",
       "\t3 & DAV & 2024-01-01 02:00:00 & 2024 & 1 & 1 & 2 & Mon & Weekday & Winter & 49.9 & ... & 3.7 & -3.3 & 0 & -0.7 & NA & NA & NA & NA & 0.6716667 & 150.12313\\\\\n",
       "\t4 & DAV & 2024-01-01 03:00:00 & 2024 & 1 & 1 & 3 & Mon & Weekday & Winter & 52.1 & ... & 4.6 & -4.2 & 0 & -1.1 & NA & NA & NA & NA & 0.5250000 &  40.87731\\\\\n",
       "\t5 & DAV & 2024-01-01 04:00:00 & 2024 & 1 & 1 & 4 & Mon & Weekday & Winter & 65.8 & ... & 0.7 & -5.2 & 0 & -1.3 & NA & NA & NA & NA & 1.4700000 & 186.90946\\\\\n",
       "\t6 & DAV & 2024-01-01 05:00:00 & 2024 & 1 & 1 & 5 & Mon & Weekday & Winter & 67.1 & ... & 0.7 & -5.6 & 0 & -0.8 & NA & NA & NA & NA & 1.9350000 & 184.88936\\\\\n",
       "\\end{tabular}\n"
      ],
      "text/markdown": [
       "\n",
       "A data.frame: 6 × 22\n",
       "\n",
       "| <!--/--> | site &lt;chr&gt; | datetime &lt;chr&gt; | year &lt;int&gt; | month &lt;int&gt; | day &lt;int&gt; | hour &lt;int&gt; | dayofwk &lt;chr&gt; | daytype &lt;chr&gt; | season &lt;chr&gt; | O3 &lt;dbl&gt; | ... ... | NOX &lt;dbl&gt; | TEMP &lt;dbl&gt; | PREC &lt;dbl&gt; | RAD &lt;dbl&gt; | SO2 &lt;dbl&gt; | PM2.5 &lt;dbl&gt; | EC &lt;dbl&gt; | CPC &lt;dbl&gt; | avg_wind_speed &lt;dbl&gt; | avg_wind_direction &lt;dbl&gt; |\n",
       "|---|---|---|---|---|---|---|---|---|---|---|---|---|---|---|---|---|---|---|---|---|---|\n",
       "| 1 | DAV | 2024-01-01 00:00:00 | 2024 | 1 | 1 | 0 | Mon | Weekday | Winter | 57.7 | ... | 1.9 | -2.2 | 0 | -0.6 | NA | NA | NA | NA | 1.0980000 |  36.25794 |\n",
       "| 2 | DAV | 2024-01-01 01:00:00 | 2024 | 1 | 1 | 1 | Mon | Weekday | Winter | 55.2 | ... | 2.1 | -2.8 | 0 | -0.7 | NA | NA | NA | NA | 0.9216667 |  40.71351 |\n",
       "| 3 | DAV | 2024-01-01 02:00:00 | 2024 | 1 | 1 | 2 | Mon | Weekday | Winter | 49.9 | ... | 3.7 | -3.3 | 0 | -0.7 | NA | NA | NA | NA | 0.6716667 | 150.12313 |\n",
       "| 4 | DAV | 2024-01-01 03:00:00 | 2024 | 1 | 1 | 3 | Mon | Weekday | Winter | 52.1 | ... | 4.6 | -4.2 | 0 | -1.1 | NA | NA | NA | NA | 0.5250000 |  40.87731 |\n",
       "| 5 | DAV | 2024-01-01 04:00:00 | 2024 | 1 | 1 | 4 | Mon | Weekday | Winter | 65.8 | ... | 0.7 | -5.2 | 0 | -1.3 | NA | NA | NA | NA | 1.4700000 | 186.90946 |\n",
       "| 6 | DAV | 2024-01-01 05:00:00 | 2024 | 1 | 1 | 5 | Mon | Weekday | Winter | 67.1 | ... | 0.7 | -5.6 | 0 | -0.8 | NA | NA | NA | NA | 1.9350000 | 184.88936 |\n",
       "\n"
      ],
      "text/plain": [
       "  site datetime            year month day hour dayofwk daytype season O3   ...\n",
       "1 DAV  2024-01-01 00:00:00 2024 1     1   0    Mon     Weekday Winter 57.7 ...\n",
       "2 DAV  2024-01-01 01:00:00 2024 1     1   1    Mon     Weekday Winter 55.2 ...\n",
       "3 DAV  2024-01-01 02:00:00 2024 1     1   2    Mon     Weekday Winter 49.9 ...\n",
       "4 DAV  2024-01-01 03:00:00 2024 1     1   3    Mon     Weekday Winter 52.1 ...\n",
       "5 DAV  2024-01-01 04:00:00 2024 1     1   4    Mon     Weekday Winter 65.8 ...\n",
       "6 DAV  2024-01-01 05:00:00 2024 1     1   5    Mon     Weekday Winter 67.1 ...\n",
       "  NOX TEMP PREC RAD  SO2 PM2.5 EC CPC avg_wind_speed avg_wind_direction\n",
       "1 1.9 -2.2 0    -0.6 NA  NA    NA NA  1.0980000       36.25794         \n",
       "2 2.1 -2.8 0    -0.7 NA  NA    NA NA  0.9216667       40.71351         \n",
       "3 3.7 -3.3 0    -0.7 NA  NA    NA NA  0.6716667      150.12313         \n",
       "4 4.6 -4.2 0    -1.1 NA  NA    NA NA  0.5250000       40.87731         \n",
       "5 0.7 -5.2 0    -1.3 NA  NA    NA NA  1.4700000      186.90946         \n",
       "6 0.7 -5.6 0    -0.8 NA  NA    NA NA  1.9350000      184.88936         "
      ]
     },
     "metadata": {},
     "output_type": "display_data"
    }
   ],
   "source": [
    "head(df)"
   ]
  },
  {
   "cell_type": "code",
   "execution_count": null,
   "id": "790056df-6dfd-4544-aea5-54fdca846eea",
   "metadata": {},
   "outputs": [],
   "source": []
  }
 ],
 "metadata": {
  "kernelspec": {
   "display_name": "R",
   "language": "R",
   "name": "ir"
  },
  "language_info": {
   "codemirror_mode": "r",
   "file_extension": ".r",
   "mimetype": "text/x-r-source",
   "name": "R",
   "pygments_lexer": "r",
   "version": "4.1.3"
  }
 },
 "nbformat": 4,
 "nbformat_minor": 5
}
