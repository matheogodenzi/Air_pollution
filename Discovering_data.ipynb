{
 "cells": [
  {
   "cell_type": "markdown",
   "id": "cb4208e1-5f3f-4c15-bf31-f8a2b284e53f",
   "metadata": {},
   "source": [
    "# Data Viz"
   ]
  },
  {
   "cell_type": "code",
   "execution_count": 1,
   "id": "ac740f7d-a0a2-43a8-b5d9-81aed9435bb0",
   "metadata": {},
   "outputs": [],
   "source": [
    "## ------------------------Installing libraries------------------------------------------------\n",
    "# Install from CRAN\n",
    "#install.packages(\"tidyverse\")\n",
    "#install.packages(\"lubridate\")\n",
    "#install.packages(\"openxlsx\")\n",
    "#install.packages(\"Hmisc\")"
   ]
  },
  {
   "cell_type": "code",
   "execution_count": 3,
   "id": "48ec2943-c46f-4534-837a-28670342f09b",
   "metadata": {},
   "outputs": [
    {
     "name": "stderr",
     "output_type": "stream",
     "text": [
      "── \u001b[1mAttaching core tidyverse packages\u001b[22m ──────────────────────────────────────────────────────────────── tidyverse 2.0.0 ──\n",
      "\u001b[32m✔\u001b[39m \u001b[34mdplyr    \u001b[39m 1.1.4     \u001b[32m✔\u001b[39m \u001b[34mpurrr    \u001b[39m 1.0.4\n",
      "\u001b[32m✔\u001b[39m \u001b[34mforcats  \u001b[39m 1.0.0     \u001b[32m✔\u001b[39m \u001b[34mstringr  \u001b[39m 1.5.1\n",
      "\u001b[32m✔\u001b[39m \u001b[34mggplot2  \u001b[39m 3.5.2     \u001b[32m✔\u001b[39m \u001b[34mtibble   \u001b[39m 3.2.1\n",
      "\u001b[32m✔\u001b[39m \u001b[34mlubridate\u001b[39m 1.9.4     \u001b[32m✔\u001b[39m \u001b[34mtidyr    \u001b[39m 1.3.1\n",
      "── \u001b[1mConflicts\u001b[22m ────────────────────────────────────────────────────────────────────────────────── tidyverse_conflicts() ──\n",
      "\u001b[31m✖\u001b[39m \u001b[34mdplyr\u001b[39m::\u001b[32mfilter()\u001b[39m masks \u001b[34mstats\u001b[39m::filter()\n",
      "\u001b[31m✖\u001b[39m \u001b[34mdplyr\u001b[39m::\u001b[32mlag()\u001b[39m    masks \u001b[34mstats\u001b[39m::lag()\n",
      "\u001b[36mℹ\u001b[39m Use the conflicted package (\u001b[3m\u001b[34m<http://conflicted.r-lib.org/>\u001b[39m\u001b[23m) to force all conflicts to become errors\n"
     ]
    }
   ],
   "source": [
    "##______________________________ LOADING LIBRARIES________________________\n",
    "library(readr)\n",
    "library(tidyverse)\n",
    "library(lubridate)\n",
    "library(ggplot2)\n",
    "library(openxlsx)"
   ]
  },
  {
   "cell_type": "code",
   "execution_count": 4,
   "id": "c18cd1e2-44eb-4925-ab6c-6b89edd8b3f4",
   "metadata": {},
   "outputs": [],
   "source": [
    "# Functions\n",
    "\n",
    "## This function reads csv data files\n",
    "read_data <- function(filename, delim_f, skip_f) {\n",
    "    \n",
    "    ## Read data file\n",
    "    data <- read_delim(filename, delim=delim_f, skip=skip_f,\n",
    "                   col_names=c(\"datetime\",\"O3\",\"NO2\",\"SO2\",\"CO\",\"PM10\",\"TEMP\",\"PREC\",\"RAD\"), show_col_types = FALSE)\n",
    "    # show_col_types = TRUE shows the column types to explicit what each column contains\n",
    "\n",
    "    return(data)\n",
    "}"
   ]
  },
  {
   "cell_type": "code",
   "execution_count": 5,
   "id": "a6e2c4d3-8bf0-40c7-8e81-0d363b64af9c",
   "metadata": {},
   "outputs": [
    {
     "name": "stderr",
     "output_type": "stream",
     "text": [
      "Warning message in Sys.setlocale(\"LC_ALL\", \"English\"):\n",
      "\"using locale code page other than 65001 (\"UTF-8\") may cause problems\"\n"
     ]
    },
    {
     "data": {
      "text/html": [
       "'LC_COLLATE=English_United States.1252;LC_CTYPE=English_United States.1252;LC_MONETARY=English_United States.1252;LC_NUMERIC=C;LC_TIME=English_United States.1252'"
      ],
      "text/latex": [
       "'LC\\_COLLATE=English\\_United States.1252;LC\\_CTYPE=English\\_United States.1252;LC\\_MONETARY=English\\_United States.1252;LC\\_NUMERIC=C;LC\\_TIME=English\\_United States.1252'"
      ],
      "text/markdown": [
       "'LC_COLLATE=English_United States.1252;LC_CTYPE=English_United States.1252;LC_MONETARY=English_United States.1252;LC_NUMERIC=C;LC_TIME=English_United States.1252'"
      ],
      "text/plain": [
       "[1] \"LC_COLLATE=English_United States.1252;LC_CTYPE=English_United States.1252;LC_MONETARY=English_United States.1252;LC_NUMERIC=C;LC_TIME=English_United States.1252\""
      ]
     },
     "metadata": {},
     "output_type": "display_data"
    }
   ],
   "source": [
    "## Specify settings\n",
    "#Sys.setlocale(\"LC_TIME\",\"C\")\n",
    "Sys.setlocale(\"LC_ALL\",\"English\")\n",
    "options(stringsAsFactors=FALSE)\n",
    "theme_set(theme_bw()) # just my preference for plots"
   ]
  },
  {
   "cell_type": "code",
   "execution_count": 6,
   "id": "64b89d0d-df2b-4bd9-a9ed-7e90f9720019",
   "metadata": {},
   "outputs": [
    {
     "data": {
      "text/html": [
       "TRUE"
      ],
      "text/latex": [
       "TRUE"
      ],
      "text/markdown": [
       "TRUE"
      ],
      "text/plain": [
       "[1] TRUE"
      ]
     },
     "metadata": {},
     "output_type": "display_data"
    },
    {
     "data": {
      "text/html": [
       "TRUE"
      ],
      "text/latex": [
       "TRUE"
      ],
      "text/markdown": [
       "TRUE"
      ],
      "text/plain": [
       "[1] TRUE"
      ]
     },
     "metadata": {},
     "output_type": "display_data"
    }
   ],
   "source": [
    "## ------------------LOADING DATA------------------------------------------------------\n",
    "## Define input file (located in same directory)\n",
    "BASEL <- \"./Data/BAS.csv\"\n",
    "file.exists(BASEL)\n",
    "\n",
    "DAVOS <- \"./Data/DAV.csv\"\n",
    "file.exists(DAVOS)"
   ]
  },
  {
   "cell_type": "code",
   "execution_count": 7,
   "id": "eba3cc4c-080e-4952-af91-18012c95380f",
   "metadata": {},
   "outputs": [],
   "source": [
    "##____________________READING DATA_____________\n",
    "#DAVOS_data <- read_data(DAVOS, \";\", 6)\n",
    "DAVOS_data <- read_delim(DAVOS, delim=\";\", skip=6,\n",
    "               col_names=c(\"datetime\",\"O3\",\"NO2\",\"PM10\",\"NOx\",\"TEMP\",\"PREC\",\"RAD\"), show_col_types = FALSE)\n",
    "# BASEL_data <- read_data(BASEL, \";\", 6)\n",
    "## Read data file\n",
    "BASEL_data <- read_delim(BASEL, delim=\";\", skip=6,\n",
    "               col_names=c(\"datetime\",\"O3\",\"NO2\",\"SO2\",\"PM10\",\"PM2.5\",\"EC\", \"CPC\", \"NOx\",\"TEMP\",\"PREC\",\"RAD\"), show_col_types = FALSE)\n",
    "# show_col_types = TRUE shows the column types to explicit what each column contains\n"
   ]
  },
  {
   "cell_type": "code",
   "execution_count": 8,
   "id": "37aa1d32-46ab-4c26-af6d-9365bbaa1d93",
   "metadata": {},
   "outputs": [
    {
     "name": "stdout",
     "output_type": "stream",
     "text": [
      "Davos dataset:\n",
      "spc_tbl_ [8,784 x 8] (S3: spec_tbl_df/tbl_df/tbl/data.frame)\n",
      " $ datetime: chr [1:8784] \"01.01.2024 01:00\" \"01.01.2024 02:00\" \"01.01.2024 03:00\" \"01.01.2024 04:00\" ...\n",
      " $ O3      : num [1:8784] 57.7 55.2 49.9 52.1 65.8 67.1 64 58.4 61.8 59 ...\n",
      " $ NO2     : num [1:8784] 1.9 2.1 3.7 4.5 0.7 0.7 3.4 5.4 1.7 2.9 ...\n",
      " $ PM10    : num [1:8784] 1.2 1.5 2.2 3 0.2 0.4 0.3 0.3 0.3 0.4 ...\n",
      " $ NOx     : num [1:8784] 1.9 2.1 3.7 4.6 0.7 0.7 3.5 5.4 1.8 3.4 ...\n",
      " $ TEMP    : num [1:8784] -2.2 -2.8 -3.3 -4.2 -5.2 -5.6 -5.7 -5.9 -5.7 -5.3 ...\n",
      " $ PREC    : num [1:8784] 0 0 0 0 0 0 0 0 0 0 ...\n",
      " $ RAD     : num [1:8784] -0.6 -0.7 -0.7 -1.1 -1.3 -0.8 -0.6 -0.6 22.6 73.9 ...\n",
      " - attr(*, \"spec\")=\n",
      "  .. cols(\n",
      "  ..   datetime = \u001b[31mcol_character()\u001b[39m,\n",
      "  ..   O3 = \u001b[32mcol_double()\u001b[39m,\n",
      "  ..   NO2 = \u001b[32mcol_double()\u001b[39m,\n",
      "  ..   PM10 = \u001b[32mcol_double()\u001b[39m,\n",
      "  ..   NOx = \u001b[32mcol_double()\u001b[39m,\n",
      "  ..   TEMP = \u001b[32mcol_double()\u001b[39m,\n",
      "  ..   PREC = \u001b[32mcol_double()\u001b[39m,\n",
      "  ..   RAD = \u001b[32mcol_double()\u001b[39m\n",
      "  .. )\n",
      " - attr(*, \"problems\")=<externalptr> \n",
      "\n",
      "Basel dataset:\n",
      "spc_tbl_ [8,784 x 12] (S3: spec_tbl_df/tbl_df/tbl/data.frame)\n",
      " $ datetime: chr [1:8784] \"01.01.2024 01:00\" \"01.01.2024 02:00\" \"01.01.2024 03:00\" \"01.01.2024 04:00\" ...\n",
      " $ O3      : num [1:8784] 60.2 70 70.3 67 66.5 67.1 70.1 71.7 64.6 67.6 ...\n",
      " $ NO2     : num [1:8784] 7.5 1.9 1.5 1.3 2 2.7 2 1.5 2.6 2.1 ...\n",
      " $ SO2     : num [1:8784] 1.6 0.7 0.4 0.3 0.3 0.3 0.2 0.2 0.2 0.2 ...\n",
      " $ PM10    : num [1:8784] 35.8 7.2 3.7 2 2.9 4.6 3.1 4.6 4.8 5.7 ...\n",
      " $ PM2.5   : num [1:8784] 25.2 4.4 1.8 1 1.4 2.1 1.5 2.1 2.1 2.5 ...\n",
      " $ EC      : num [1:8784] 0.4 0.1 0 0 0.1 0.1 0 0 0 0.1 ...\n",
      " $ CPC     : num [1:8784] 10341 2394 1341 1173 1308 ...\n",
      " $ NOx     : num [1:8784] 8.7 2.5 2.1 2 2.7 3.3 2.8 2.3 3.4 2.9 ...\n",
      " $ TEMP    : num [1:8784] 5.5 6.6 5.7 5.7 5.7 5.9 6.1 6.6 5.5 6.8 ...\n",
      " $ PREC    : num [1:8784] 0 0 1.4 0 0 0 0 0 0 0 ...\n",
      " $ RAD     : num [1:8784] 0 0 0 0 0.2 0 0 0 14.5 95.5 ...\n",
      " - attr(*, \"spec\")=\n",
      "  .. cols(\n",
      "  ..   datetime = \u001b[31mcol_character()\u001b[39m,\n",
      "  ..   O3 = \u001b[32mcol_double()\u001b[39m,\n",
      "  ..   NO2 = \u001b[32mcol_double()\u001b[39m,\n",
      "  ..   SO2 = \u001b[32mcol_double()\u001b[39m,\n",
      "  ..   PM10 = \u001b[32mcol_double()\u001b[39m,\n",
      "  ..   PM2.5 = \u001b[32mcol_double()\u001b[39m,\n",
      "  ..   EC = \u001b[32mcol_double()\u001b[39m,\n",
      "  ..   CPC = \u001b[32mcol_double()\u001b[39m,\n",
      "  ..   NOx = \u001b[32mcol_double()\u001b[39m,\n",
      "  ..   TEMP = \u001b[32mcol_double()\u001b[39m,\n",
      "  ..   PREC = \u001b[32mcol_double()\u001b[39m,\n",
      "  ..   RAD = \u001b[32mcol_double()\u001b[39m\n",
      "  .. )\n",
      " - attr(*, \"problems\")=<externalptr> \n"
     ]
    }
   ],
   "source": [
    "## ------------------------------------------------------------------------\n",
    "## View information stored in object\n",
    "cat(\"Davos dataset:\\n\")\n",
    "str(DAVOS_data)\n",
    "\n",
    "cat(\"\\nBasel dataset:\\n\")\n",
    "str(BASEL_data)"
   ]
  },
  {
   "cell_type": "code",
   "execution_count": 9,
   "id": "e9ba7f0f-aaf6-40cc-975f-0d77fb1e9f72",
   "metadata": {},
   "outputs": [
    {
     "name": "stdout",
     "output_type": "stream",
     "text": [
      "DAVOS:\n"
     ]
    },
    {
     "data": {
      "text/html": [
       "<table class=\"dataframe\">\n",
       "<caption>A tibble: 6 × 8</caption>\n",
       "<thead>\n",
       "\t<tr><th scope=col>datetime</th><th scope=col>O3</th><th scope=col>NO2</th><th scope=col>PM10</th><th scope=col>NOx</th><th scope=col>TEMP</th><th scope=col>PREC</th><th scope=col>RAD</th></tr>\n",
       "\t<tr><th scope=col>&lt;chr&gt;</th><th scope=col>&lt;dbl&gt;</th><th scope=col>&lt;dbl&gt;</th><th scope=col>&lt;dbl&gt;</th><th scope=col>&lt;dbl&gt;</th><th scope=col>&lt;dbl&gt;</th><th scope=col>&lt;dbl&gt;</th><th scope=col>&lt;dbl&gt;</th></tr>\n",
       "</thead>\n",
       "<tbody>\n",
       "\t<tr><td>01.01.2024 01:00</td><td>57.7</td><td>1.9</td><td>1.2</td><td>1.9</td><td>-2.2</td><td>0</td><td>-0.6</td></tr>\n",
       "\t<tr><td>01.01.2024 02:00</td><td>55.2</td><td>2.1</td><td>1.5</td><td>2.1</td><td>-2.8</td><td>0</td><td>-0.7</td></tr>\n",
       "\t<tr><td>01.01.2024 03:00</td><td>49.9</td><td>3.7</td><td>2.2</td><td>3.7</td><td>-3.3</td><td>0</td><td>-0.7</td></tr>\n",
       "\t<tr><td>01.01.2024 04:00</td><td>52.1</td><td>4.5</td><td>3.0</td><td>4.6</td><td>-4.2</td><td>0</td><td>-1.1</td></tr>\n",
       "\t<tr><td>01.01.2024 05:00</td><td>65.8</td><td>0.7</td><td>0.2</td><td>0.7</td><td>-5.2</td><td>0</td><td>-1.3</td></tr>\n",
       "\t<tr><td>01.01.2024 06:00</td><td>67.1</td><td>0.7</td><td>0.4</td><td>0.7</td><td>-5.6</td><td>0</td><td>-0.8</td></tr>\n",
       "</tbody>\n",
       "</table>\n"
      ],
      "text/latex": [
       "A tibble: 6 × 8\n",
       "\\begin{tabular}{llllllll}\n",
       " datetime & O3 & NO2 & PM10 & NOx & TEMP & PREC & RAD\\\\\n",
       " <chr> & <dbl> & <dbl> & <dbl> & <dbl> & <dbl> & <dbl> & <dbl>\\\\\n",
       "\\hline\n",
       "\t 01.01.2024 01:00 & 57.7 & 1.9 & 1.2 & 1.9 & -2.2 & 0 & -0.6\\\\\n",
       "\t 01.01.2024 02:00 & 55.2 & 2.1 & 1.5 & 2.1 & -2.8 & 0 & -0.7\\\\\n",
       "\t 01.01.2024 03:00 & 49.9 & 3.7 & 2.2 & 3.7 & -3.3 & 0 & -0.7\\\\\n",
       "\t 01.01.2024 04:00 & 52.1 & 4.5 & 3.0 & 4.6 & -4.2 & 0 & -1.1\\\\\n",
       "\t 01.01.2024 05:00 & 65.8 & 0.7 & 0.2 & 0.7 & -5.2 & 0 & -1.3\\\\\n",
       "\t 01.01.2024 06:00 & 67.1 & 0.7 & 0.4 & 0.7 & -5.6 & 0 & -0.8\\\\\n",
       "\\end{tabular}\n"
      ],
      "text/markdown": [
       "\n",
       "A tibble: 6 × 8\n",
       "\n",
       "| datetime &lt;chr&gt; | O3 &lt;dbl&gt; | NO2 &lt;dbl&gt; | PM10 &lt;dbl&gt; | NOx &lt;dbl&gt; | TEMP &lt;dbl&gt; | PREC &lt;dbl&gt; | RAD &lt;dbl&gt; |\n",
       "|---|---|---|---|---|---|---|---|\n",
       "| 01.01.2024 01:00 | 57.7 | 1.9 | 1.2 | 1.9 | -2.2 | 0 | -0.6 |\n",
       "| 01.01.2024 02:00 | 55.2 | 2.1 | 1.5 | 2.1 | -2.8 | 0 | -0.7 |\n",
       "| 01.01.2024 03:00 | 49.9 | 3.7 | 2.2 | 3.7 | -3.3 | 0 | -0.7 |\n",
       "| 01.01.2024 04:00 | 52.1 | 4.5 | 3.0 | 4.6 | -4.2 | 0 | -1.1 |\n",
       "| 01.01.2024 05:00 | 65.8 | 0.7 | 0.2 | 0.7 | -5.2 | 0 | -1.3 |\n",
       "| 01.01.2024 06:00 | 67.1 | 0.7 | 0.4 | 0.7 | -5.6 | 0 | -0.8 |\n",
       "\n"
      ],
      "text/plain": [
       "  datetime         O3   NO2 PM10 NOx TEMP PREC RAD \n",
       "1 01.01.2024 01:00 57.7 1.9 1.2  1.9 -2.2 0    -0.6\n",
       "2 01.01.2024 02:00 55.2 2.1 1.5  2.1 -2.8 0    -0.7\n",
       "3 01.01.2024 03:00 49.9 3.7 2.2  3.7 -3.3 0    -0.7\n",
       "4 01.01.2024 04:00 52.1 4.5 3.0  4.6 -4.2 0    -1.1\n",
       "5 01.01.2024 05:00 65.8 0.7 0.2  0.7 -5.2 0    -1.3\n",
       "6 01.01.2024 06:00 67.1 0.7 0.4  0.7 -5.6 0    -0.8"
      ]
     },
     "metadata": {},
     "output_type": "display_data"
    },
    {
     "name": "stdout",
     "output_type": "stream",
     "text": [
      "\n",
      "BASEL:\n"
     ]
    },
    {
     "data": {
      "text/html": [
       "<table class=\"dataframe\">\n",
       "<caption>A tibble: 6 × 12</caption>\n",
       "<thead>\n",
       "\t<tr><th scope=col>datetime</th><th scope=col>O3</th><th scope=col>NO2</th><th scope=col>SO2</th><th scope=col>PM10</th><th scope=col>PM2.5</th><th scope=col>EC</th><th scope=col>CPC</th><th scope=col>NOx</th><th scope=col>TEMP</th><th scope=col>PREC</th><th scope=col>RAD</th></tr>\n",
       "\t<tr><th scope=col>&lt;chr&gt;</th><th scope=col>&lt;dbl&gt;</th><th scope=col>&lt;dbl&gt;</th><th scope=col>&lt;dbl&gt;</th><th scope=col>&lt;dbl&gt;</th><th scope=col>&lt;dbl&gt;</th><th scope=col>&lt;dbl&gt;</th><th scope=col>&lt;dbl&gt;</th><th scope=col>&lt;dbl&gt;</th><th scope=col>&lt;dbl&gt;</th><th scope=col>&lt;dbl&gt;</th><th scope=col>&lt;dbl&gt;</th></tr>\n",
       "</thead>\n",
       "<tbody>\n",
       "\t<tr><td>01.01.2024 01:00</td><td>60.2</td><td>7.5</td><td>1.6</td><td>35.8</td><td>25.2</td><td>0.4</td><td>10340.6</td><td>8.7</td><td>5.5</td><td>0.0</td><td>0.0</td></tr>\n",
       "\t<tr><td>01.01.2024 02:00</td><td>70.0</td><td>1.9</td><td>0.7</td><td> 7.2</td><td> 4.4</td><td>0.1</td><td> 2394.0</td><td>2.5</td><td>6.6</td><td>0.0</td><td>0.0</td></tr>\n",
       "\t<tr><td>01.01.2024 03:00</td><td>70.3</td><td>1.5</td><td>0.4</td><td> 3.7</td><td> 1.8</td><td>0.0</td><td> 1341.2</td><td>2.1</td><td>5.7</td><td>1.4</td><td>0.0</td></tr>\n",
       "\t<tr><td>01.01.2024 04:00</td><td>67.0</td><td>1.3</td><td>0.3</td><td> 2.0</td><td> 1.0</td><td>0.0</td><td> 1172.6</td><td>2.0</td><td>5.7</td><td>0.0</td><td>0.0</td></tr>\n",
       "\t<tr><td>01.01.2024 05:00</td><td>66.5</td><td>2.0</td><td>0.3</td><td> 2.9</td><td> 1.4</td><td>0.1</td><td> 1308.0</td><td>2.7</td><td>5.7</td><td>0.0</td><td>0.2</td></tr>\n",
       "\t<tr><td>01.01.2024 06:00</td><td>67.1</td><td>2.7</td><td>0.3</td><td> 4.6</td><td> 2.1</td><td>0.1</td><td> 1455.6</td><td>3.3</td><td>5.9</td><td>0.0</td><td>0.0</td></tr>\n",
       "</tbody>\n",
       "</table>\n"
      ],
      "text/latex": [
       "A tibble: 6 × 12\n",
       "\\begin{tabular}{llllllllllll}\n",
       " datetime & O3 & NO2 & SO2 & PM10 & PM2.5 & EC & CPC & NOx & TEMP & PREC & RAD\\\\\n",
       " <chr> & <dbl> & <dbl> & <dbl> & <dbl> & <dbl> & <dbl> & <dbl> & <dbl> & <dbl> & <dbl> & <dbl>\\\\\n",
       "\\hline\n",
       "\t 01.01.2024 01:00 & 60.2 & 7.5 & 1.6 & 35.8 & 25.2 & 0.4 & 10340.6 & 8.7 & 5.5 & 0.0 & 0.0\\\\\n",
       "\t 01.01.2024 02:00 & 70.0 & 1.9 & 0.7 &  7.2 &  4.4 & 0.1 &  2394.0 & 2.5 & 6.6 & 0.0 & 0.0\\\\\n",
       "\t 01.01.2024 03:00 & 70.3 & 1.5 & 0.4 &  3.7 &  1.8 & 0.0 &  1341.2 & 2.1 & 5.7 & 1.4 & 0.0\\\\\n",
       "\t 01.01.2024 04:00 & 67.0 & 1.3 & 0.3 &  2.0 &  1.0 & 0.0 &  1172.6 & 2.0 & 5.7 & 0.0 & 0.0\\\\\n",
       "\t 01.01.2024 05:00 & 66.5 & 2.0 & 0.3 &  2.9 &  1.4 & 0.1 &  1308.0 & 2.7 & 5.7 & 0.0 & 0.2\\\\\n",
       "\t 01.01.2024 06:00 & 67.1 & 2.7 & 0.3 &  4.6 &  2.1 & 0.1 &  1455.6 & 3.3 & 5.9 & 0.0 & 0.0\\\\\n",
       "\\end{tabular}\n"
      ],
      "text/markdown": [
       "\n",
       "A tibble: 6 × 12\n",
       "\n",
       "| datetime &lt;chr&gt; | O3 &lt;dbl&gt; | NO2 &lt;dbl&gt; | SO2 &lt;dbl&gt; | PM10 &lt;dbl&gt; | PM2.5 &lt;dbl&gt; | EC &lt;dbl&gt; | CPC &lt;dbl&gt; | NOx &lt;dbl&gt; | TEMP &lt;dbl&gt; | PREC &lt;dbl&gt; | RAD &lt;dbl&gt; |\n",
       "|---|---|---|---|---|---|---|---|---|---|---|---|\n",
       "| 01.01.2024 01:00 | 60.2 | 7.5 | 1.6 | 35.8 | 25.2 | 0.4 | 10340.6 | 8.7 | 5.5 | 0.0 | 0.0 |\n",
       "| 01.01.2024 02:00 | 70.0 | 1.9 | 0.7 |  7.2 |  4.4 | 0.1 |  2394.0 | 2.5 | 6.6 | 0.0 | 0.0 |\n",
       "| 01.01.2024 03:00 | 70.3 | 1.5 | 0.4 |  3.7 |  1.8 | 0.0 |  1341.2 | 2.1 | 5.7 | 1.4 | 0.0 |\n",
       "| 01.01.2024 04:00 | 67.0 | 1.3 | 0.3 |  2.0 |  1.0 | 0.0 |  1172.6 | 2.0 | 5.7 | 0.0 | 0.0 |\n",
       "| 01.01.2024 05:00 | 66.5 | 2.0 | 0.3 |  2.9 |  1.4 | 0.1 |  1308.0 | 2.7 | 5.7 | 0.0 | 0.2 |\n",
       "| 01.01.2024 06:00 | 67.1 | 2.7 | 0.3 |  4.6 |  2.1 | 0.1 |  1455.6 | 3.3 | 5.9 | 0.0 | 0.0 |\n",
       "\n"
      ],
      "text/plain": [
       "  datetime         O3   NO2 SO2 PM10 PM2.5 EC  CPC     NOx TEMP PREC RAD\n",
       "1 01.01.2024 01:00 60.2 7.5 1.6 35.8 25.2  0.4 10340.6 8.7 5.5  0.0  0.0\n",
       "2 01.01.2024 02:00 70.0 1.9 0.7  7.2  4.4  0.1  2394.0 2.5 6.6  0.0  0.0\n",
       "3 01.01.2024 03:00 70.3 1.5 0.4  3.7  1.8  0.0  1341.2 2.1 5.7  1.4  0.0\n",
       "4 01.01.2024 04:00 67.0 1.3 0.3  2.0  1.0  0.0  1172.6 2.0 5.7  0.0  0.0\n",
       "5 01.01.2024 05:00 66.5 2.0 0.3  2.9  1.4  0.1  1308.0 2.7 5.7  0.0  0.2\n",
       "6 01.01.2024 06:00 67.1 2.7 0.3  4.6  2.1  0.1  1455.6 3.3 5.9  0.0  0.0"
      ]
     },
     "metadata": {},
     "output_type": "display_data"
    }
   ],
   "source": [
    "## ------------------------------------------------------------------------\n",
    "## View first 6 lines\n",
    "cat(\"DAVOS:\\n\")\n",
    "head(DAVOS_data)\n",
    "cat(\"\\nBASEL:\\n\")\n",
    "head(BASEL_data)"
   ]
  },
  {
   "cell_type": "code",
   "execution_count": 10,
   "id": "20f793b6-27dd-415e-97bb-f4634ff48f08",
   "metadata": {},
   "outputs": [
    {
     "ename": "ERROR",
     "evalue": "Error in C_force_tz(to_posixct(time), tz, roll_dst): CCTZ: Unrecognized output timezone: \"Etc/GMT-1\"\n",
     "output_type": "error",
     "traceback": [
      "Error in C_force_tz(to_posixct(time), tz, roll_dst): CCTZ: Unrecognized output timezone: \"Etc/GMT-1\"\nTraceback:\n",
      "1. .local_parse(x[to_parse], TRUE)",
      "2. .parse_date_time(x, formats, tz = tz, quiet = quiet, locale = locale)",
      "3. .strptime(x, formats[[1]], tz = tz, quiet = quiet, locale = locale)",
      "4. force_tz(out, tzone = tz)",
      "5. force_tz.default(out, tzone = tz)",
      "6. timechange::time_force_tz(time, tz = tzone, roll_dst = roll_dst)",
      "7. .force_tz(time, tz, tzout, roll_dst)",
      "8. from_posixct(C_force_tz(to_posixct(time), tz, roll_dst), time)",
      "9. C_force_tz(to_posixct(time), tz, roll_dst)",
      "10. .handleSimpleError(function (cnd) \n  . {\n  .     watcher$capture_plot_and_output()\n  .     cnd <- sanitize_call(cnd)\n  .     watcher$push(cnd)\n  .     switch(on_error, continue = invokeRestart(\"eval_continue\"), \n  .         stop = invokeRestart(\"eval_stop\"), error = NULL)\n  . }, \"CCTZ: Unrecognized output timezone: \\\"Etc/GMT-1\\\"\", base::quote(C_force_tz(to_posixct(time), \n  .     tz, roll_dst)))"
     ]
    }
   ],
   "source": [
    "# Parse the datetime with the 'Europe/Paris' timezone\n",
    "# Parse the datetime column (assuming it's named correctly)\n",
    "##data[[\"datetime\"]] <- parse_date_time(data[[\"datetime\"]], \"%d.%m.%Y %H:%M\", tz = \"Europe/Paris\")\n",
    "\n",
    "# Using $ to access the datetime column \n",
    "## TO DO only once\n",
    "DAVOS_data$datetime <- parse_date_time(DAVOS_data$datetime, \"%d.%m.%Y %H:%M\", tz = \"Etc/GMT-1\")"
   ]
  },
  {
   "cell_type": "code",
   "execution_count": null,
   "id": "2c3e1f23-24cb-4cbe-b042-6bdcce548791",
   "metadata": {},
   "outputs": [],
   "source": [
    "# Extract the month\n",
    "DAVOS_data[[\"month\"]] <- month(DAVOS_data[[\"datetime\"]])\n",
    "\n",
    "# Extract the date (without time)\n",
    "DAVOS_data[[\"date\"]] <- date(DAVOS_data[[\"datetime\"]])\n",
    "\n",
    "# Check the results\n",
    "head(DAVOS_data)"
   ]
  },
  {
   "cell_type": "code",
   "execution_count": null,
   "id": "2759c9ce-6a49-4095-bb92-8446916878c9",
   "metadata": {},
   "outputs": [],
   "source": [
    "## ---- fig.width=8, fig.height=5------------------------------------------\n",
    "ggplot(DAVOS_data)+\n",
    "  geom_line(aes(datetime, O3))"
   ]
  },
  {
   "cell_type": "code",
   "execution_count": null,
   "id": "0b998713-f7c6-4a79-8196-368b56e671a5",
   "metadata": {},
   "outputs": [],
   "source": [
    "# Parse the datetime with the 'Europe/Paris' timezone\n",
    "# Parse the datetime column (assuming it's named correctly)\n",
    "##data[[\"datetime\"]] <- parse_date_time(data[[\"datetime\"]], \"%d.%m.%Y %H:%M\", tz = \"CEST\")\n",
    "\n",
    "# Using $ to access the datetime column\n",
    "BASEL_data$datetime <- parse_date_time(BASEL_data$datetime, \"%d.%m.%Y %H:%M\", tz = \"Etc/GMT-1\")"
   ]
  },
  {
   "cell_type": "code",
   "execution_count": null,
   "id": "5946b27d-1710-4dfb-81d6-e8f76ace296e",
   "metadata": {},
   "outputs": [],
   "source": [
    "#checking table rows \n",
    "invalid_rows <- which(is.na(BASEL_data$datetime))\n",
    "invalid_rows\n",
    "invalid_dates <- BASEL_data[is.na(BASEL_data$datetime), ]\n",
    "invalid_dates"
   ]
  },
  {
   "cell_type": "code",
   "execution_count": null,
   "id": "c5b9b145-50b3-4e7c-acb1-6f92e193578c",
   "metadata": {},
   "outputs": [],
   "source": [
    "# Extract the month\n",
    "BASEL_data[[\"month\"]] <- month(BASEL_data[[\"datetime\"]])\n",
    "\n",
    "# Extract the date (without time)\n",
    "BASEL_data[[\"date\"]] <- date(BASEL_data[[\"datetime\"]])\n",
    "\n",
    "# Check the results\n",
    "head(BASEL_data)"
   ]
  },
  {
   "cell_type": "markdown",
   "id": "6f8e96c9-4bc2-45da-8b9c-25555c4a87d2",
   "metadata": {},
   "source": [
    "## Problem 3"
   ]
  },
  {
   "cell_type": "code",
   "execution_count": null,
   "id": "bcd07196-683f-4e96-8637-96ff71d8aa64",
   "metadata": {},
   "outputs": [],
   "source": [
    "reg_val <- \"./Data/Regulatory_values.xlsx\"\n",
    "file.exists(reg_val)\n",
    "\n",
    "limits.daily <- read.xlsx(reg_val, sheet = 1)"
   ]
  },
  {
   "cell_type": "code",
   "execution_count": null,
   "id": "256559a8-deda-4d79-895d-deadf49bf831",
   "metadata": {},
   "outputs": [],
   "source": [
    "# Second option\n",
    "limits.daily <- tibble(value=c(100,80,8,50),\n",
    "                       variable=c(\"SO2\",\"NO2\",\"CO\",\"PM10\"))"
   ]
  },
  {
   "cell_type": "code",
   "execution_count": 11,
   "id": "6df2e166-ce75-41b9-8408-c85e8114f6d1",
   "metadata": {},
   "outputs": [
    {
     "ename": "ERROR",
     "evalue": "Error: objet 'limits.daily' introuvable\n",
     "output_type": "error",
     "traceback": [
      "Error: objet 'limits.daily' introuvable\nTraceback:\n"
     ]
    }
   ],
   "source": [
    "limits.daily"
   ]
  },
  {
   "cell_type": "code",
   "execution_count": 12,
   "id": "aa891d5f-c221-40a7-a0b8-dad489ff451c",
   "metadata": {},
   "outputs": [
    {
     "data": {
      "text/html": [
       "'C'"
      ],
      "text/latex": [
       "'C'"
      ],
      "text/markdown": [
       "'C'"
      ],
      "text/plain": [
       "[1] \"C\""
      ]
     },
     "metadata": {},
     "output_type": "display_data"
    }
   ],
   "source": [
    "Sys.setlocale(\"LC_TIME\",\"C\")\n",
    "options(stringsAsFactors=FALSE)\n",
    "options(dplyr.summarise.inform = FALSE)\n",
    "theme_set(theme_bw()) # just my preference for plots"
   ]
  },
  {
   "cell_type": "code",
   "execution_count": 13,
   "id": "2e893f41-2c02-4830-b72c-38214bebb991",
   "metadata": {},
   "outputs": [],
   "source": [
    "month2season <- function(month) {\n",
    "  ## month is an integer (1-12)\n",
    "  ## a factor with levels {\"Winter : DJF\", \"Spring : MAM\", \"Summer : JJA\", \"Autumn : SON\"} is returned\n",
    "  seasons <- c(\"Winter\", \"Spring\", \"Summer\", \"Autumn\")\n",
    "  index <- findInterval(month %% 12, seq(0, 12, 3))\n",
    "  factor(seasons[index], seasons)\n",
    "}\n",
    "\n",
    "wday2type <- function(wday) {\n",
    "  ## wday is an integer with 1 = Monday, 2 = Tuesday, ... and 7 = Sunday\n",
    "  c(\"Weekday\", \"Weekend\")[(unclass(wday) - 1) %/% 5 + 1]\n",
    "}"
   ]
  },
  {
   "cell_type": "code",
   "execution_count": 55,
   "id": "3917c697-57d2-423c-a6ca-bd58207e1e35",
   "metadata": {},
   "outputs": [
    {
     "data": {
      "text/html": [
       "<style>\n",
       ".list-inline {list-style: none; margin:0; padding: 0}\n",
       ".list-inline>li {display: inline-block}\n",
       ".list-inline>li:not(:last-child)::after {content: \"\\00b7\"; padding: 0 .5ex}\n",
       "</style>\n",
       "<ol class=list-inline><li>Winter</li><li>Winter</li><li>Spring</li></ol>\n",
       "\n",
       "<details>\n",
       "\t<summary style=display:list-item;cursor:pointer>\n",
       "\t\t<strong>Levels</strong>:\n",
       "\t</summary>\n",
       "\t<style>\n",
       "\t.list-inline {list-style: none; margin:0; padding: 0}\n",
       "\t.list-inline>li {display: inline-block}\n",
       "\t.list-inline>li:not(:last-child)::after {content: \"\\00b7\"; padding: 0 .5ex}\n",
       "\t</style>\n",
       "\t<ol class=list-inline><li>'Winter'</li><li>'Spring'</li><li>'Summer'</li><li>'Autumn'</li></ol>\n",
       "</details>"
      ],
      "text/latex": [
       "\\begin{enumerate*}\n",
       "\\item Winter\n",
       "\\item Winter\n",
       "\\item Spring\n",
       "\\end{enumerate*}\n",
       "\n",
       "\\emph{Levels}: \\begin{enumerate*}\n",
       "\\item 'Winter'\n",
       "\\item 'Spring'\n",
       "\\item 'Summer'\n",
       "\\item 'Autumn'\n",
       "\\end{enumerate*}\n"
      ],
      "text/markdown": [
       "1. Winter\n",
       "2. Winter\n",
       "3. Spring\n",
       "\n",
       "\n",
       "\n",
       "**Levels**: 1. 'Winter'\n",
       "2. 'Spring'\n",
       "3. 'Summer'\n",
       "4. 'Autumn'\n",
       "\n",
       "\n"
      ],
      "text/plain": [
       "[1] Winter Winter Spring\n",
       "Levels: Winter Spring Summer Autumn"
      ]
     },
     "metadata": {},
     "output_type": "display_data"
    }
   ],
   "source": [
    "month2season(c(1, 2, 3))"
   ]
  },
  {
   "cell_type": "code",
   "execution_count": 56,
   "id": "509c34d3-4d8e-44da-98d6-9e9bb180c5de",
   "metadata": {},
   "outputs": [],
   "source": [
    "read_tseries <- function(filename, timecolumn = \"Date/time\", timeformat = \"%d.%m.%Y %H:%M\", tz = \"Etc/GMT-1\", delta = 3600) {\n",
    "  ## read the table, strip units in column names, rename time column\n",
    "  ##   and change data type of time column from a string of characters to\n",
    "  ##   a numeric type so that we can perform operations on it\n",
    "\n",
    "  data <- read_delim(filename, skip = 5, delim = \";\", locale = locale(encoding = \"Latin1\"), show_col_types = FALSE)\n",
    "\n",
    "  out <- data %>%\n",
    "    rename_with(.fn = function(x) sub(\"[ ].*$\", \"\", x)) %>% # strip units for simplification\n",
    "    rename(datetime = !!timecolumn) %>%\n",
    "    mutate(datetime = parse_date_time(datetime, !!timeformat, !!tz) - !!delta) %>%\n",
    "    mutate(year = year(datetime),\n",
    "           month = month(datetime),\n",
    "           day = day(datetime),\n",
    "           hour = hour(datetime),\n",
    "           dayofwk = wday(datetime, label = TRUE, week_start = 1),\n",
    "           daytype = wday2type(dayofwk),\n",
    "           season = month2season(month),\n",
    "           .after = datetime)\n",
    "}"
   ]
  },
  {
   "cell_type": "code",
   "execution_count": 57,
   "id": "40ebaada-6c1f-4072-861b-dabce3e543b0",
   "metadata": {},
   "outputs": [],
   "source": [
    "all_data_df <- read.csv(\"Data/All_dat_df.csv\")"
   ]
  },
  {
   "cell_type": "code",
   "execution_count": 58,
   "id": "f5bf7f96-4625-4e8b-bb36-ea4301466566",
   "metadata": {},
   "outputs": [
    {
     "data": {
      "text/html": [
       "<table class=\"dataframe\">\n",
       "<caption>A data.frame: 17568 × 22</caption>\n",
       "<thead>\n",
       "\t<tr><th scope=col>site</th><th scope=col>datetime</th><th scope=col>year</th><th scope=col>month</th><th scope=col>day</th><th scope=col>hour</th><th scope=col>dayofwk</th><th scope=col>daytype</th><th scope=col>season</th><th scope=col>O3</th><th scope=col>...</th><th scope=col>NOX</th><th scope=col>TEMP</th><th scope=col>PREC</th><th scope=col>RAD</th><th scope=col>SO2</th><th scope=col>PM2.5</th><th scope=col>EC</th><th scope=col>CPC</th><th scope=col>avg_wind_speed</th><th scope=col>avg_wind_direction</th></tr>\n",
       "\t<tr><th scope=col>&lt;chr&gt;</th><th scope=col>&lt;chr&gt;</th><th scope=col>&lt;int&gt;</th><th scope=col>&lt;int&gt;</th><th scope=col>&lt;int&gt;</th><th scope=col>&lt;int&gt;</th><th scope=col>&lt;chr&gt;</th><th scope=col>&lt;chr&gt;</th><th scope=col>&lt;chr&gt;</th><th scope=col>&lt;dbl&gt;</th><th scope=col>...</th><th scope=col>&lt;dbl&gt;</th><th scope=col>&lt;dbl&gt;</th><th scope=col>&lt;dbl&gt;</th><th scope=col>&lt;dbl&gt;</th><th scope=col>&lt;dbl&gt;</th><th scope=col>&lt;dbl&gt;</th><th scope=col>&lt;dbl&gt;</th><th scope=col>&lt;dbl&gt;</th><th scope=col>&lt;dbl&gt;</th><th scope=col>&lt;dbl&gt;</th></tr>\n",
       "</thead>\n",
       "<tbody>\n",
       "\t<tr><td>DAV</td><td>2024-01-01 00:00:00</td><td>2024</td><td>1</td><td>1</td><td> 0</td><td>Mon</td><td>Weekday</td><td>Winter</td><td>57.7</td><td>...</td><td>1.9</td><td>-2.2</td><td>0</td><td> -0.6</td><td>NA</td><td>NA</td><td>NA</td><td>NA</td><td>1.0980000</td><td> 36.25794</td></tr>\n",
       "\t<tr><td>DAV</td><td>2024-01-01 01:00:00</td><td>2024</td><td>1</td><td>1</td><td> 1</td><td>Mon</td><td>Weekday</td><td>Winter</td><td>55.2</td><td>...</td><td>2.1</td><td>-2.8</td><td>0</td><td> -0.7</td><td>NA</td><td>NA</td><td>NA</td><td>NA</td><td>0.9216667</td><td> 40.71351</td></tr>\n",
       "\t<tr><td>DAV</td><td>2024-01-01 02:00:00</td><td>2024</td><td>1</td><td>1</td><td> 2</td><td>Mon</td><td>Weekday</td><td>Winter</td><td>49.9</td><td>...</td><td>3.7</td><td>-3.3</td><td>0</td><td> -0.7</td><td>NA</td><td>NA</td><td>NA</td><td>NA</td><td>0.6716667</td><td>150.12313</td></tr>\n",
       "\t<tr><td>DAV</td><td>2024-01-01 03:00:00</td><td>2024</td><td>1</td><td>1</td><td> 3</td><td>Mon</td><td>Weekday</td><td>Winter</td><td>52.1</td><td>...</td><td>4.6</td><td>-4.2</td><td>0</td><td> -1.1</td><td>NA</td><td>NA</td><td>NA</td><td>NA</td><td>0.5250000</td><td> 40.87731</td></tr>\n",
       "\t<tr><td>DAV</td><td>2024-01-01 04:00:00</td><td>2024</td><td>1</td><td>1</td><td> 4</td><td>Mon</td><td>Weekday</td><td>Winter</td><td>65.8</td><td>...</td><td>0.7</td><td>-5.2</td><td>0</td><td> -1.3</td><td>NA</td><td>NA</td><td>NA</td><td>NA</td><td>1.4700000</td><td>186.90946</td></tr>\n",
       "\t<tr><td>DAV</td><td>2024-01-01 05:00:00</td><td>2024</td><td>1</td><td>1</td><td> 5</td><td>Mon</td><td>Weekday</td><td>Winter</td><td>67.1</td><td>...</td><td>0.7</td><td>-5.6</td><td>0</td><td> -0.8</td><td>NA</td><td>NA</td><td>NA</td><td>NA</td><td>1.9350000</td><td>184.88936</td></tr>\n",
       "\t<tr><td>DAV</td><td>2024-01-01 06:00:00</td><td>2024</td><td>1</td><td>1</td><td> 6</td><td>Mon</td><td>Weekday</td><td>Winter</td><td>64.0</td><td>...</td><td>3.5</td><td>-5.7</td><td>0</td><td> -0.6</td><td>NA</td><td>NA</td><td>NA</td><td>NA</td><td>1.7316667</td><td>173.35654</td></tr>\n",
       "\t<tr><td>DAV</td><td>2024-01-01 07:00:00</td><td>2024</td><td>1</td><td>1</td><td> 7</td><td>Mon</td><td>Weekday</td><td>Winter</td><td>58.4</td><td>...</td><td>5.4</td><td>-5.9</td><td>0</td><td> -0.6</td><td>NA</td><td>NA</td><td>NA</td><td>NA</td><td>0.9916667</td><td> 77.91124</td></tr>\n",
       "\t<tr><td>DAV</td><td>2024-01-01 08:00:00</td><td>2024</td><td>1</td><td>1</td><td> 8</td><td>Mon</td><td>Weekday</td><td>Winter</td><td>61.8</td><td>...</td><td>1.8</td><td>-5.7</td><td>0</td><td> 22.6</td><td>NA</td><td>NA</td><td>NA</td><td>NA</td><td>0.7516667</td><td> 86.64809</td></tr>\n",
       "\t<tr><td>DAV</td><td>2024-01-01 09:00:00</td><td>2024</td><td>1</td><td>1</td><td> 9</td><td>Mon</td><td>Weekday</td><td>Winter</td><td>59.0</td><td>...</td><td>3.4</td><td>-5.3</td><td>0</td><td> 73.9</td><td>NA</td><td>NA</td><td>NA</td><td>NA</td><td>0.7900000</td><td> 85.80590</td></tr>\n",
       "\t<tr><td>DAV</td><td>2024-01-01 10:00:00</td><td>2024</td><td>1</td><td>1</td><td>10</td><td>Mon</td><td>Weekday</td><td>Winter</td><td>57.8</td><td>...</td><td>4.4</td><td>-4.3</td><td>0</td><td>169.3</td><td>NA</td><td>NA</td><td>NA</td><td>NA</td><td>0.8850000</td><td>157.54918</td></tr>\n",
       "\t<tr><td>DAV</td><td>2024-01-01 11:00:00</td><td>2024</td><td>1</td><td>1</td><td>11</td><td>Mon</td><td>Weekday</td><td>Winter</td><td>53.2</td><td>...</td><td>7.2</td><td>-3.3</td><td>0</td><td>301.3</td><td>NA</td><td>NA</td><td>NA</td><td>NA</td><td>0.6216667</td><td> 98.98506</td></tr>\n",
       "\t<tr><td>DAV</td><td>2024-01-01 12:00:00</td><td>2024</td><td>1</td><td>1</td><td>12</td><td>Mon</td><td>Weekday</td><td>Winter</td><td>61.4</td><td>...</td><td>2.5</td><td>-2.3</td><td>0</td><td>272.5</td><td>NA</td><td>NA</td><td>NA</td><td>NA</td><td>0.4666667</td><td>322.75850</td></tr>\n",
       "\t<tr><td>DAV</td><td>2024-01-01 13:00:00</td><td>2024</td><td>1</td><td>1</td><td>13</td><td>Mon</td><td>Weekday</td><td>Winter</td><td>63.6</td><td>...</td><td>1.7</td><td>-2.4</td><td>0</td><td>129.9</td><td>NA</td><td>NA</td><td>NA</td><td>NA</td><td>0.4383333</td><td> 79.96265</td></tr>\n",
       "\t<tr><td>DAV</td><td>2024-01-01 14:00:00</td><td>2024</td><td>1</td><td>1</td><td>14</td><td>Mon</td><td>Weekday</td><td>Winter</td><td>62.6</td><td>...</td><td>5.2</td><td>-2.3</td><td>0</td><td>118.1</td><td>NA</td><td>NA</td><td>NA</td><td>NA</td><td>1.1950000</td><td>185.89344</td></tr>\n",
       "\t<tr><td>DAV</td><td>2024-01-01 15:00:00</td><td>2024</td><td>1</td><td>1</td><td>15</td><td>Mon</td><td>Weekday</td><td>Winter</td><td>55.4</td><td>...</td><td>6.7</td><td>-2.5</td><td>0</td><td> 59.1</td><td>NA</td><td>NA</td><td>NA</td><td>NA</td><td>0.6633333</td><td>168.14505</td></tr>\n",
       "\t<tr><td>DAV</td><td>2024-01-01 16:00:00</td><td>2024</td><td>1</td><td>1</td><td>16</td><td>Mon</td><td>Weekday</td><td>Winter</td><td>60.7</td><td>...</td><td>3.0</td><td>-3.4</td><td>0</td><td> 13.2</td><td>NA</td><td>NA</td><td>NA</td><td>NA</td><td>1.0850000</td><td>179.34838</td></tr>\n",
       "\t<tr><td>DAV</td><td>2024-01-01 17:00:00</td><td>2024</td><td>1</td><td>1</td><td>17</td><td>Mon</td><td>Weekday</td><td>Winter</td><td>61.7</td><td>...</td><td>1.7</td><td>-4.9</td><td>0</td><td> -1.1</td><td>NA</td><td>NA</td><td>NA</td><td>NA</td><td>1.1616667</td><td>181.85148</td></tr>\n",
       "\t<tr><td>DAV</td><td>2024-01-01 18:00:00</td><td>2024</td><td>1</td><td>1</td><td>18</td><td>Mon</td><td>Weekday</td><td>Winter</td><td>68.0</td><td>...</td><td>1.4</td><td>-5.3</td><td>0</td><td> -1.0</td><td>NA</td><td>NA</td><td>NA</td><td>NA</td><td>1.7083333</td><td>180.82385</td></tr>\n",
       "\t<tr><td>DAV</td><td>2024-01-01 19:00:00</td><td>2024</td><td>1</td><td>1</td><td>19</td><td>Mon</td><td>Weekday</td><td>Winter</td><td>68.7</td><td>...</td><td>0.9</td><td>-5.7</td><td>0</td><td> -1.0</td><td>NA</td><td>NA</td><td>NA</td><td>NA</td><td>2.0450000</td><td>193.55360</td></tr>\n",
       "\t<tr><td>DAV</td><td>2024-01-01 20:00:00</td><td>2024</td><td>1</td><td>1</td><td>20</td><td>Mon</td><td>Weekday</td><td>Winter</td><td>68.5</td><td>...</td><td>1.4</td><td>-5.8</td><td>0</td><td> -0.9</td><td>NA</td><td>NA</td><td>NA</td><td>NA</td><td>2.3150000</td><td>186.84761</td></tr>\n",
       "\t<tr><td>DAV</td><td>2024-01-01 21:00:00</td><td>2024</td><td>1</td><td>1</td><td>21</td><td>Mon</td><td>Weekday</td><td>Winter</td><td>65.8</td><td>...</td><td>2.8</td><td>-6.4</td><td>0</td><td> -0.9</td><td>NA</td><td>NA</td><td>NA</td><td>NA</td><td>2.0133333</td><td>198.15078</td></tr>\n",
       "\t<tr><td>DAV</td><td>2024-01-01 22:00:00</td><td>2024</td><td>1</td><td>1</td><td>22</td><td>Mon</td><td>Weekday</td><td>Winter</td><td>71.4</td><td>...</td><td>0.5</td><td>-5.6</td><td>0</td><td> -0.9</td><td>NA</td><td>NA</td><td>NA</td><td>NA</td><td>2.1716667</td><td>182.04527</td></tr>\n",
       "\t<tr><td>DAV</td><td>2024-01-01 23:00:00</td><td>2024</td><td>1</td><td>1</td><td>23</td><td>Mon</td><td>Weekday</td><td>Winter</td><td>70.3</td><td>...</td><td>0.5</td><td>-6.8</td><td>0</td><td> -1.1</td><td>NA</td><td>NA</td><td>NA</td><td>NA</td><td>2.0683333</td><td>194.34817</td></tr>\n",
       "\t<tr><td>DAV</td><td>2024-01-02 00:00:00</td><td>2024</td><td>1</td><td>2</td><td> 0</td><td>Tue</td><td>Weekday</td><td>Winter</td><td>72.2</td><td>...</td><td>0.8</td><td>-6.6</td><td>0</td><td> -0.5</td><td>NA</td><td>NA</td><td>NA</td><td>NA</td><td>1.8516667</td><td>198.40336</td></tr>\n",
       "\t<tr><td>DAV</td><td>2024-01-02 01:00:00</td><td>2024</td><td>1</td><td>2</td><td> 1</td><td>Tue</td><td>Weekday</td><td>Winter</td><td>75.6</td><td>...</td><td>0.3</td><td>-6.0</td><td>0</td><td> -0.7</td><td>NA</td><td>NA</td><td>NA</td><td>NA</td><td>2.2266667</td><td>189.30669</td></tr>\n",
       "\t<tr><td>DAV</td><td>2024-01-02 02:00:00</td><td>2024</td><td>1</td><td>2</td><td> 2</td><td>Tue</td><td>Weekday</td><td>Winter</td><td>75.9</td><td>...</td><td>0.6</td><td>-5.9</td><td>0</td><td> -0.7</td><td>NA</td><td>NA</td><td>NA</td><td>NA</td><td>2.1283333</td><td>194.93503</td></tr>\n",
       "\t<tr><td>DAV</td><td>2024-01-02 03:00:00</td><td>2024</td><td>1</td><td>2</td><td> 3</td><td>Tue</td><td>Weekday</td><td>Winter</td><td>71.8</td><td>...</td><td>2.6</td><td>-6.6</td><td>0</td><td> -0.2</td><td>NA</td><td>NA</td><td>NA</td><td>NA</td><td>1.3366667</td><td>200.71398</td></tr>\n",
       "\t<tr><td>DAV</td><td>2024-01-02 04:00:00</td><td>2024</td><td>1</td><td>2</td><td> 4</td><td>Tue</td><td>Weekday</td><td>Winter</td><td>73.8</td><td>...</td><td>1.2</td><td>-6.1</td><td>0</td><td> -0.1</td><td>NA</td><td>NA</td><td>NA</td><td>NA</td><td>1.1633333</td><td>208.18114</td></tr>\n",
       "\t<tr><td>DAV</td><td>2024-01-02 05:00:00</td><td>2024</td><td>1</td><td>2</td><td> 5</td><td>Tue</td><td>Weekday</td><td>Winter</td><td>70.4</td><td>...</td><td>3.7</td><td>-5.8</td><td>0</td><td>  0.0</td><td>NA</td><td>NA</td><td>NA</td><td>NA</td><td>1.3300000</td><td>209.46590</td></tr>\n",
       "\t<tr><td>...</td><td>...</td><td>...</td><td>...</td><td>...</td><td>...</td><td>...</td><td>...</td><td>...</td><td>...</td><td></td><td>...</td><td>...</td><td>...</td><td>...</td><td>...</td><td>...</td><td>...</td><td>...</td><td>...</td><td>...</td></tr>\n",
       "\t<tr><td>BAS</td><td>2024-12-30 18:00:00</td><td>2024</td><td>12</td><td>30</td><td>18</td><td>Mon</td><td>Weekday</td><td>Winter</td><td> 5.8</td><td>...</td><td>34.4</td><td>-0.5</td><td>0</td><td>  0.0</td><td>0.3</td><td>16.8</td><td>0.6</td><td> 5815.7</td><td>1.1666667</td><td> 91.85523</td></tr>\n",
       "\t<tr><td>BAS</td><td>2024-12-30 19:00:00</td><td>2024</td><td>12</td><td>30</td><td>19</td><td>Mon</td><td>Weekday</td><td>Winter</td><td> 7.3</td><td>...</td><td>33.0</td><td>-0.7</td><td>0</td><td>  0.0</td><td>0.4</td><td>16.4</td><td>0.6</td><td> 6715.2</td><td>1.8000000</td><td> 86.83350</td></tr>\n",
       "\t<tr><td>BAS</td><td>2024-12-30 20:00:00</td><td>2024</td><td>12</td><td>30</td><td>20</td><td>Mon</td><td>Weekday</td><td>Winter</td><td> 6.3</td><td>...</td><td>31.9</td><td>-1.0</td><td>0</td><td>  0.0</td><td>0.5</td><td>16.3</td><td>0.7</td><td> 6380.9</td><td>1.5833333</td><td>113.64453</td></tr>\n",
       "\t<tr><td>BAS</td><td>2024-12-30 21:00:00</td><td>2024</td><td>12</td><td>30</td><td>21</td><td>Mon</td><td>Weekday</td><td>Winter</td><td> 7.2</td><td>...</td><td>25.5</td><td>-2.0</td><td>0</td><td>  0.0</td><td>0.3</td><td>16.7</td><td>0.7</td><td> 5976.5</td><td>1.1500000</td><td>155.53655</td></tr>\n",
       "\t<tr><td>BAS</td><td>2024-12-30 22:00:00</td><td>2024</td><td>12</td><td>30</td><td>22</td><td>Mon</td><td>Weekday</td><td>Winter</td><td> 8.4</td><td>...</td><td>21.5</td><td>-2.8</td><td>0</td><td>  0.0</td><td>0.3</td><td>16.3</td><td>0.7</td><td> 5303.4</td><td>1.3500000</td><td>165.85923</td></tr>\n",
       "\t<tr><td>BAS</td><td>2024-12-30 23:00:00</td><td>2024</td><td>12</td><td>30</td><td>23</td><td>Mon</td><td>Weekday</td><td>Winter</td><td> 8.0</td><td>...</td><td>22.0</td><td>-3.2</td><td>0</td><td>  0.0</td><td>0.2</td><td>16.4</td><td>0.7</td><td> 5421.7</td><td>1.3666667</td><td>166.81517</td></tr>\n",
       "\t<tr><td>BAS</td><td>2024-12-31 00:00:00</td><td>2024</td><td>12</td><td>31</td><td> 0</td><td>Tue</td><td>Weekday</td><td>Winter</td><td> 8.4</td><td>...</td><td>20.3</td><td>-3.6</td><td>0</td><td>  0.0</td><td>0.2</td><td>17.7</td><td>0.7</td><td> 5047.5</td><td>1.3166667</td><td>179.83210</td></tr>\n",
       "\t<tr><td>BAS</td><td>2024-12-31 01:00:00</td><td>2024</td><td>12</td><td>31</td><td> 1</td><td>Tue</td><td>Weekday</td><td>Winter</td><td> 9.9</td><td>...</td><td>19.1</td><td>-3.8</td><td>0</td><td>  0.0</td><td>0.2</td><td>16.5</td><td>0.7</td><td> 4840.7</td><td>1.4833333</td><td>177.16810</td></tr>\n",
       "\t<tr><td>BAS</td><td>2024-12-31 02:00:00</td><td>2024</td><td>12</td><td>31</td><td> 2</td><td>Tue</td><td>Weekday</td><td>Winter</td><td>10.7</td><td>...</td><td>19.7</td><td>-3.7</td><td>0</td><td>  0.0</td><td>0.3</td><td>17.5</td><td>0.6</td><td> 4575.8</td><td>1.5666667</td><td>165.98139</td></tr>\n",
       "\t<tr><td>BAS</td><td>2024-12-31 03:00:00</td><td>2024</td><td>12</td><td>31</td><td> 3</td><td>Tue</td><td>Weekday</td><td>Winter</td><td>11.7</td><td>...</td><td>21.3</td><td>-3.0</td><td>0</td><td>  0.0</td><td>0.5</td><td>15.6</td><td>0.6</td><td> 4708.3</td><td>1.6833333</td><td>144.58769</td></tr>\n",
       "\t<tr><td>BAS</td><td>2024-12-31 04:00:00</td><td>2024</td><td>12</td><td>31</td><td> 4</td><td>Tue</td><td>Weekday</td><td>Winter</td><td> 9.6</td><td>...</td><td>25.8</td><td>-3.0</td><td>0</td><td>  0.0</td><td>0.7</td><td>15.4</td><td>0.5</td><td> 5278.4</td><td>1.4166667</td><td>119.31700</td></tr>\n",
       "\t<tr><td>BAS</td><td>2024-12-31 05:00:00</td><td>2024</td><td>12</td><td>31</td><td> 5</td><td>Tue</td><td>Weekday</td><td>Winter</td><td> 8.2</td><td>...</td><td>29.0</td><td>-2.9</td><td>0</td><td>  0.0</td><td>0.8</td><td>15.8</td><td>0.5</td><td> 5976.5</td><td>1.8833333</td><td>108.66569</td></tr>\n",
       "\t<tr><td>BAS</td><td>2024-12-31 06:00:00</td><td>2024</td><td>12</td><td>31</td><td> 6</td><td>Tue</td><td>Weekday</td><td>Winter</td><td> 6.6</td><td>...</td><td>33.0</td><td>-2.7</td><td>0</td><td>  0.0</td><td>0.9</td><td>16.4</td><td>0.4</td><td> 6841.4</td><td>2.6666667</td><td>101.66642</td></tr>\n",
       "\t<tr><td>BAS</td><td>2024-12-31 07:00:00</td><td>2024</td><td>12</td><td>31</td><td> 7</td><td>Tue</td><td>Weekday</td><td>Winter</td><td> 5.4</td><td>...</td><td>35.6</td><td>-2.7</td><td>0</td><td>  0.0</td><td>0.7</td><td>17.3</td><td>0.4</td><td> 6987.3</td><td>2.9166667</td><td> 98.49990</td></tr>\n",
       "\t<tr><td>BAS</td><td>2024-12-31 08:00:00</td><td>2024</td><td>12</td><td>31</td><td> 8</td><td>Tue</td><td>Weekday</td><td>Winter</td><td> 7.4</td><td>...</td><td>36.0</td><td>-2.6</td><td>0</td><td> 10.2</td><td>0.7</td><td>18.3</td><td>0.4</td><td> 7431.9</td><td>3.1666667</td><td> 94.83291</td></tr>\n",
       "\t<tr><td>BAS</td><td>2024-12-31 09:00:00</td><td>2024</td><td>12</td><td>31</td><td> 9</td><td>Tue</td><td>Weekday</td><td>Winter</td><td>13.9</td><td>...</td><td>37.2</td><td>-2.0</td><td>0</td><td>105.3</td><td>0.8</td><td>19.1</td><td>0.4</td><td> 7305.2</td><td>3.5666667</td><td> 96.33355</td></tr>\n",
       "\t<tr><td>BAS</td><td>2024-12-31 10:00:00</td><td>2024</td><td>12</td><td>31</td><td>10</td><td>Tue</td><td>Weekday</td><td>Winter</td><td>18.1</td><td>...</td><td>39.4</td><td>-0.8</td><td>0</td><td>218.5</td><td>0.9</td><td>18.9</td><td>0.5</td><td> 8069.0</td><td>3.2666667</td><td>100.83326</td></tr>\n",
       "\t<tr><td>BAS</td><td>2024-12-31 11:00:00</td><td>2024</td><td>12</td><td>31</td><td>11</td><td>Tue</td><td>Weekday</td><td>Winter</td><td>20.7</td><td>...</td><td>41.4</td><td> 0.5</td><td>0</td><td>293.2</td><td>1.1</td><td>18.5</td><td>0.5</td><td> 9086.4</td><td>2.2500000</td><td>102.49990</td></tr>\n",
       "\t<tr><td>BAS</td><td>2024-12-31 12:00:00</td><td>2024</td><td>12</td><td>31</td><td>12</td><td>Tue</td><td>Weekday</td><td>Winter</td><td>22.8</td><td>...</td><td>38.7</td><td> 1.8</td><td>0</td><td>317.5</td><td>1.2</td><td>18.5</td><td>0.5</td><td> 8997.9</td><td>1.8333333</td><td>104.00534</td></tr>\n",
       "\t<tr><td>BAS</td><td>2024-12-31 13:00:00</td><td>2024</td><td>12</td><td>31</td><td>13</td><td>Tue</td><td>Weekday</td><td>Winter</td><td>22.8</td><td>...</td><td>39.8</td><td> 2.9</td><td>0</td><td>298.8</td><td>1.5</td><td>19.9</td><td>0.5</td><td> 9252.1</td><td>1.5500000</td><td>107.83309</td></tr>\n",
       "\t<tr><td>BAS</td><td>2024-12-31 14:00:00</td><td>2024</td><td>12</td><td>31</td><td>14</td><td>Tue</td><td>Weekday</td><td>Winter</td><td>22.6</td><td>...</td><td>42.3</td><td> 3.5</td><td>0</td><td>228.5</td><td>1.4</td><td>19.7</td><td>0.5</td><td> 9734.4</td><td>1.2166667</td><td> 98.83455</td></tr>\n",
       "\t<tr><td>BAS</td><td>2024-12-31 15:00:00</td><td>2024</td><td>12</td><td>31</td><td>15</td><td>Tue</td><td>Weekday</td><td>Winter</td><td>17.0</td><td>...</td><td>43.9</td><td> 2.9</td><td>0</td><td> 84.5</td><td>1.5</td><td>22.1</td><td>0.6</td><td>10111.0</td><td>1.7500000</td><td>105.16678</td></tr>\n",
       "\t<tr><td>BAS</td><td>2024-12-31 16:00:00</td><td>2024</td><td>12</td><td>31</td><td>16</td><td>Tue</td><td>Weekday</td><td>Winter</td><td> 8.8</td><td>...</td><td>44.1</td><td> 1.6</td><td>0</td><td> 25.7</td><td>1.7</td><td>23.9</td><td>0.8</td><td>10303.5</td><td>2.4333333</td><td>106.00041</td></tr>\n",
       "\t<tr><td>BAS</td><td>2024-12-31 17:00:00</td><td>2024</td><td>12</td><td>31</td><td>17</td><td>Tue</td><td>Weekday</td><td>Winter</td><td> 3.4</td><td>...</td><td>46.5</td><td> 0.5</td><td>0</td><td>  0.0</td><td>1.4</td><td>24.8</td><td>0.9</td><td>11511.7</td><td>2.5333333</td><td>105.83349</td></tr>\n",
       "\t<tr><td>BAS</td><td>2024-12-31 18:00:00</td><td>2024</td><td>12</td><td>31</td><td>18</td><td>Tue</td><td>Weekday</td><td>Winter</td><td> 2.7</td><td>...</td><td>53.6</td><td>-0.3</td><td>0</td><td>  0.0</td><td>1.3</td><td>30.4</td><td>1.2</td><td>14463.4</td><td>1.4166667</td><td>107.64486</td></tr>\n",
       "\t<tr><td>BAS</td><td>2024-12-31 19:00:00</td><td>2024</td><td>12</td><td>31</td><td>19</td><td>Tue</td><td>Weekday</td><td>Winter</td><td> 4.1</td><td>...</td><td>65.4</td><td>-1.3</td><td>0</td><td>  0.0</td><td>1.1</td><td>40.6</td><td>1.7</td><td>20669.3</td><td>0.6166667</td><td>133.35846</td></tr>\n",
       "\t<tr><td>BAS</td><td>2024-12-31 20:00:00</td><td>2024</td><td>12</td><td>31</td><td>20</td><td>Tue</td><td>Weekday</td><td>Winter</td><td> 3.0</td><td>...</td><td>55.1</td><td>-1.1</td><td>0</td><td>  0.0</td><td>1.6</td><td>36.3</td><td>1.4</td><td>19038.3</td><td>1.7166667</td><td>107.66862</td></tr>\n",
       "\t<tr><td>BAS</td><td>2024-12-31 21:00:00</td><td>2024</td><td>12</td><td>31</td><td>21</td><td>Tue</td><td>Weekday</td><td>Winter</td><td> 2.2</td><td>...</td><td>51.6</td><td>-1.4</td><td>0</td><td>  0.0</td><td>1.1</td><td>36.1</td><td>1.2</td><td>15172.2</td><td>2.7000000</td><td>102.50091</td></tr>\n",
       "\t<tr><td>BAS</td><td>2024-12-31 22:00:00</td><td>2024</td><td>12</td><td>31</td><td>22</td><td>Tue</td><td>Weekday</td><td>Winter</td><td> 2.6</td><td>...</td><td>48.5</td><td>-1.8</td><td>0</td><td>  0.0</td><td>1.4</td><td>36.3</td><td>1.2</td><td>16183.8</td><td>2.7500000</td><td>106.49881</td></tr>\n",
       "\t<tr><td>BAS</td><td>2024-12-31 23:00:00</td><td>2024</td><td>12</td><td>31</td><td>23</td><td>Tue</td><td>Weekday</td><td>Winter</td><td> 3.0</td><td>...</td><td>42.5</td><td>-2.1</td><td>0</td><td>  0.0</td><td>1.3</td><td>38.8</td><td>1.1</td><td>15483.7</td><td>1.6166667</td><td>107.16517</td></tr>\n",
       "</tbody>\n",
       "</table>\n"
      ],
      "text/latex": [
       "A data.frame: 17568 × 22\n",
       "\\begin{tabular}{lllllllllllllllllllll}\n",
       " site & datetime & year & month & day & hour & dayofwk & daytype & season & O3 & ... & NOX & TEMP & PREC & RAD & SO2 & PM2.5 & EC & CPC & avg\\_wind\\_speed & avg\\_wind\\_direction\\\\\n",
       " <chr> & <chr> & <int> & <int> & <int> & <int> & <chr> & <chr> & <chr> & <dbl> & ... & <dbl> & <dbl> & <dbl> & <dbl> & <dbl> & <dbl> & <dbl> & <dbl> & <dbl> & <dbl>\\\\\n",
       "\\hline\n",
       "\t DAV & 2024-01-01 00:00:00 & 2024 & 1 & 1 &  0 & Mon & Weekday & Winter & 57.7 & ... & 1.9 & -2.2 & 0 &  -0.6 & NA & NA & NA & NA & 1.0980000 &  36.25794\\\\\n",
       "\t DAV & 2024-01-01 01:00:00 & 2024 & 1 & 1 &  1 & Mon & Weekday & Winter & 55.2 & ... & 2.1 & -2.8 & 0 &  -0.7 & NA & NA & NA & NA & 0.9216667 &  40.71351\\\\\n",
       "\t DAV & 2024-01-01 02:00:00 & 2024 & 1 & 1 &  2 & Mon & Weekday & Winter & 49.9 & ... & 3.7 & -3.3 & 0 &  -0.7 & NA & NA & NA & NA & 0.6716667 & 150.12313\\\\\n",
       "\t DAV & 2024-01-01 03:00:00 & 2024 & 1 & 1 &  3 & Mon & Weekday & Winter & 52.1 & ... & 4.6 & -4.2 & 0 &  -1.1 & NA & NA & NA & NA & 0.5250000 &  40.87731\\\\\n",
       "\t DAV & 2024-01-01 04:00:00 & 2024 & 1 & 1 &  4 & Mon & Weekday & Winter & 65.8 & ... & 0.7 & -5.2 & 0 &  -1.3 & NA & NA & NA & NA & 1.4700000 & 186.90946\\\\\n",
       "\t DAV & 2024-01-01 05:00:00 & 2024 & 1 & 1 &  5 & Mon & Weekday & Winter & 67.1 & ... & 0.7 & -5.6 & 0 &  -0.8 & NA & NA & NA & NA & 1.9350000 & 184.88936\\\\\n",
       "\t DAV & 2024-01-01 06:00:00 & 2024 & 1 & 1 &  6 & Mon & Weekday & Winter & 64.0 & ... & 3.5 & -5.7 & 0 &  -0.6 & NA & NA & NA & NA & 1.7316667 & 173.35654\\\\\n",
       "\t DAV & 2024-01-01 07:00:00 & 2024 & 1 & 1 &  7 & Mon & Weekday & Winter & 58.4 & ... & 5.4 & -5.9 & 0 &  -0.6 & NA & NA & NA & NA & 0.9916667 &  77.91124\\\\\n",
       "\t DAV & 2024-01-01 08:00:00 & 2024 & 1 & 1 &  8 & Mon & Weekday & Winter & 61.8 & ... & 1.8 & -5.7 & 0 &  22.6 & NA & NA & NA & NA & 0.7516667 &  86.64809\\\\\n",
       "\t DAV & 2024-01-01 09:00:00 & 2024 & 1 & 1 &  9 & Mon & Weekday & Winter & 59.0 & ... & 3.4 & -5.3 & 0 &  73.9 & NA & NA & NA & NA & 0.7900000 &  85.80590\\\\\n",
       "\t DAV & 2024-01-01 10:00:00 & 2024 & 1 & 1 & 10 & Mon & Weekday & Winter & 57.8 & ... & 4.4 & -4.3 & 0 & 169.3 & NA & NA & NA & NA & 0.8850000 & 157.54918\\\\\n",
       "\t DAV & 2024-01-01 11:00:00 & 2024 & 1 & 1 & 11 & Mon & Weekday & Winter & 53.2 & ... & 7.2 & -3.3 & 0 & 301.3 & NA & NA & NA & NA & 0.6216667 &  98.98506\\\\\n",
       "\t DAV & 2024-01-01 12:00:00 & 2024 & 1 & 1 & 12 & Mon & Weekday & Winter & 61.4 & ... & 2.5 & -2.3 & 0 & 272.5 & NA & NA & NA & NA & 0.4666667 & 322.75850\\\\\n",
       "\t DAV & 2024-01-01 13:00:00 & 2024 & 1 & 1 & 13 & Mon & Weekday & Winter & 63.6 & ... & 1.7 & -2.4 & 0 & 129.9 & NA & NA & NA & NA & 0.4383333 &  79.96265\\\\\n",
       "\t DAV & 2024-01-01 14:00:00 & 2024 & 1 & 1 & 14 & Mon & Weekday & Winter & 62.6 & ... & 5.2 & -2.3 & 0 & 118.1 & NA & NA & NA & NA & 1.1950000 & 185.89344\\\\\n",
       "\t DAV & 2024-01-01 15:00:00 & 2024 & 1 & 1 & 15 & Mon & Weekday & Winter & 55.4 & ... & 6.7 & -2.5 & 0 &  59.1 & NA & NA & NA & NA & 0.6633333 & 168.14505\\\\\n",
       "\t DAV & 2024-01-01 16:00:00 & 2024 & 1 & 1 & 16 & Mon & Weekday & Winter & 60.7 & ... & 3.0 & -3.4 & 0 &  13.2 & NA & NA & NA & NA & 1.0850000 & 179.34838\\\\\n",
       "\t DAV & 2024-01-01 17:00:00 & 2024 & 1 & 1 & 17 & Mon & Weekday & Winter & 61.7 & ... & 1.7 & -4.9 & 0 &  -1.1 & NA & NA & NA & NA & 1.1616667 & 181.85148\\\\\n",
       "\t DAV & 2024-01-01 18:00:00 & 2024 & 1 & 1 & 18 & Mon & Weekday & Winter & 68.0 & ... & 1.4 & -5.3 & 0 &  -1.0 & NA & NA & NA & NA & 1.7083333 & 180.82385\\\\\n",
       "\t DAV & 2024-01-01 19:00:00 & 2024 & 1 & 1 & 19 & Mon & Weekday & Winter & 68.7 & ... & 0.9 & -5.7 & 0 &  -1.0 & NA & NA & NA & NA & 2.0450000 & 193.55360\\\\\n",
       "\t DAV & 2024-01-01 20:00:00 & 2024 & 1 & 1 & 20 & Mon & Weekday & Winter & 68.5 & ... & 1.4 & -5.8 & 0 &  -0.9 & NA & NA & NA & NA & 2.3150000 & 186.84761\\\\\n",
       "\t DAV & 2024-01-01 21:00:00 & 2024 & 1 & 1 & 21 & Mon & Weekday & Winter & 65.8 & ... & 2.8 & -6.4 & 0 &  -0.9 & NA & NA & NA & NA & 2.0133333 & 198.15078\\\\\n",
       "\t DAV & 2024-01-01 22:00:00 & 2024 & 1 & 1 & 22 & Mon & Weekday & Winter & 71.4 & ... & 0.5 & -5.6 & 0 &  -0.9 & NA & NA & NA & NA & 2.1716667 & 182.04527\\\\\n",
       "\t DAV & 2024-01-01 23:00:00 & 2024 & 1 & 1 & 23 & Mon & Weekday & Winter & 70.3 & ... & 0.5 & -6.8 & 0 &  -1.1 & NA & NA & NA & NA & 2.0683333 & 194.34817\\\\\n",
       "\t DAV & 2024-01-02 00:00:00 & 2024 & 1 & 2 &  0 & Tue & Weekday & Winter & 72.2 & ... & 0.8 & -6.6 & 0 &  -0.5 & NA & NA & NA & NA & 1.8516667 & 198.40336\\\\\n",
       "\t DAV & 2024-01-02 01:00:00 & 2024 & 1 & 2 &  1 & Tue & Weekday & Winter & 75.6 & ... & 0.3 & -6.0 & 0 &  -0.7 & NA & NA & NA & NA & 2.2266667 & 189.30669\\\\\n",
       "\t DAV & 2024-01-02 02:00:00 & 2024 & 1 & 2 &  2 & Tue & Weekday & Winter & 75.9 & ... & 0.6 & -5.9 & 0 &  -0.7 & NA & NA & NA & NA & 2.1283333 & 194.93503\\\\\n",
       "\t DAV & 2024-01-02 03:00:00 & 2024 & 1 & 2 &  3 & Tue & Weekday & Winter & 71.8 & ... & 2.6 & -6.6 & 0 &  -0.2 & NA & NA & NA & NA & 1.3366667 & 200.71398\\\\\n",
       "\t DAV & 2024-01-02 04:00:00 & 2024 & 1 & 2 &  4 & Tue & Weekday & Winter & 73.8 & ... & 1.2 & -6.1 & 0 &  -0.1 & NA & NA & NA & NA & 1.1633333 & 208.18114\\\\\n",
       "\t DAV & 2024-01-02 05:00:00 & 2024 & 1 & 2 &  5 & Tue & Weekday & Winter & 70.4 & ... & 3.7 & -5.8 & 0 &   0.0 & NA & NA & NA & NA & 1.3300000 & 209.46590\\\\\n",
       "\t ... & ... & ... & ... & ... & ... & ... & ... & ... & ... &  & ... & ... & ... & ... & ... & ... & ... & ... & ... & ...\\\\\n",
       "\t BAS & 2024-12-30 18:00:00 & 2024 & 12 & 30 & 18 & Mon & Weekday & Winter &  5.8 & ... & 34.4 & -0.5 & 0 &   0.0 & 0.3 & 16.8 & 0.6 &  5815.7 & 1.1666667 &  91.85523\\\\\n",
       "\t BAS & 2024-12-30 19:00:00 & 2024 & 12 & 30 & 19 & Mon & Weekday & Winter &  7.3 & ... & 33.0 & -0.7 & 0 &   0.0 & 0.4 & 16.4 & 0.6 &  6715.2 & 1.8000000 &  86.83350\\\\\n",
       "\t BAS & 2024-12-30 20:00:00 & 2024 & 12 & 30 & 20 & Mon & Weekday & Winter &  6.3 & ... & 31.9 & -1.0 & 0 &   0.0 & 0.5 & 16.3 & 0.7 &  6380.9 & 1.5833333 & 113.64453\\\\\n",
       "\t BAS & 2024-12-30 21:00:00 & 2024 & 12 & 30 & 21 & Mon & Weekday & Winter &  7.2 & ... & 25.5 & -2.0 & 0 &   0.0 & 0.3 & 16.7 & 0.7 &  5976.5 & 1.1500000 & 155.53655\\\\\n",
       "\t BAS & 2024-12-30 22:00:00 & 2024 & 12 & 30 & 22 & Mon & Weekday & Winter &  8.4 & ... & 21.5 & -2.8 & 0 &   0.0 & 0.3 & 16.3 & 0.7 &  5303.4 & 1.3500000 & 165.85923\\\\\n",
       "\t BAS & 2024-12-30 23:00:00 & 2024 & 12 & 30 & 23 & Mon & Weekday & Winter &  8.0 & ... & 22.0 & -3.2 & 0 &   0.0 & 0.2 & 16.4 & 0.7 &  5421.7 & 1.3666667 & 166.81517\\\\\n",
       "\t BAS & 2024-12-31 00:00:00 & 2024 & 12 & 31 &  0 & Tue & Weekday & Winter &  8.4 & ... & 20.3 & -3.6 & 0 &   0.0 & 0.2 & 17.7 & 0.7 &  5047.5 & 1.3166667 & 179.83210\\\\\n",
       "\t BAS & 2024-12-31 01:00:00 & 2024 & 12 & 31 &  1 & Tue & Weekday & Winter &  9.9 & ... & 19.1 & -3.8 & 0 &   0.0 & 0.2 & 16.5 & 0.7 &  4840.7 & 1.4833333 & 177.16810\\\\\n",
       "\t BAS & 2024-12-31 02:00:00 & 2024 & 12 & 31 &  2 & Tue & Weekday & Winter & 10.7 & ... & 19.7 & -3.7 & 0 &   0.0 & 0.3 & 17.5 & 0.6 &  4575.8 & 1.5666667 & 165.98139\\\\\n",
       "\t BAS & 2024-12-31 03:00:00 & 2024 & 12 & 31 &  3 & Tue & Weekday & Winter & 11.7 & ... & 21.3 & -3.0 & 0 &   0.0 & 0.5 & 15.6 & 0.6 &  4708.3 & 1.6833333 & 144.58769\\\\\n",
       "\t BAS & 2024-12-31 04:00:00 & 2024 & 12 & 31 &  4 & Tue & Weekday & Winter &  9.6 & ... & 25.8 & -3.0 & 0 &   0.0 & 0.7 & 15.4 & 0.5 &  5278.4 & 1.4166667 & 119.31700\\\\\n",
       "\t BAS & 2024-12-31 05:00:00 & 2024 & 12 & 31 &  5 & Tue & Weekday & Winter &  8.2 & ... & 29.0 & -2.9 & 0 &   0.0 & 0.8 & 15.8 & 0.5 &  5976.5 & 1.8833333 & 108.66569\\\\\n",
       "\t BAS & 2024-12-31 06:00:00 & 2024 & 12 & 31 &  6 & Tue & Weekday & Winter &  6.6 & ... & 33.0 & -2.7 & 0 &   0.0 & 0.9 & 16.4 & 0.4 &  6841.4 & 2.6666667 & 101.66642\\\\\n",
       "\t BAS & 2024-12-31 07:00:00 & 2024 & 12 & 31 &  7 & Tue & Weekday & Winter &  5.4 & ... & 35.6 & -2.7 & 0 &   0.0 & 0.7 & 17.3 & 0.4 &  6987.3 & 2.9166667 &  98.49990\\\\\n",
       "\t BAS & 2024-12-31 08:00:00 & 2024 & 12 & 31 &  8 & Tue & Weekday & Winter &  7.4 & ... & 36.0 & -2.6 & 0 &  10.2 & 0.7 & 18.3 & 0.4 &  7431.9 & 3.1666667 &  94.83291\\\\\n",
       "\t BAS & 2024-12-31 09:00:00 & 2024 & 12 & 31 &  9 & Tue & Weekday & Winter & 13.9 & ... & 37.2 & -2.0 & 0 & 105.3 & 0.8 & 19.1 & 0.4 &  7305.2 & 3.5666667 &  96.33355\\\\\n",
       "\t BAS & 2024-12-31 10:00:00 & 2024 & 12 & 31 & 10 & Tue & Weekday & Winter & 18.1 & ... & 39.4 & -0.8 & 0 & 218.5 & 0.9 & 18.9 & 0.5 &  8069.0 & 3.2666667 & 100.83326\\\\\n",
       "\t BAS & 2024-12-31 11:00:00 & 2024 & 12 & 31 & 11 & Tue & Weekday & Winter & 20.7 & ... & 41.4 &  0.5 & 0 & 293.2 & 1.1 & 18.5 & 0.5 &  9086.4 & 2.2500000 & 102.49990\\\\\n",
       "\t BAS & 2024-12-31 12:00:00 & 2024 & 12 & 31 & 12 & Tue & Weekday & Winter & 22.8 & ... & 38.7 &  1.8 & 0 & 317.5 & 1.2 & 18.5 & 0.5 &  8997.9 & 1.8333333 & 104.00534\\\\\n",
       "\t BAS & 2024-12-31 13:00:00 & 2024 & 12 & 31 & 13 & Tue & Weekday & Winter & 22.8 & ... & 39.8 &  2.9 & 0 & 298.8 & 1.5 & 19.9 & 0.5 &  9252.1 & 1.5500000 & 107.83309\\\\\n",
       "\t BAS & 2024-12-31 14:00:00 & 2024 & 12 & 31 & 14 & Tue & Weekday & Winter & 22.6 & ... & 42.3 &  3.5 & 0 & 228.5 & 1.4 & 19.7 & 0.5 &  9734.4 & 1.2166667 &  98.83455\\\\\n",
       "\t BAS & 2024-12-31 15:00:00 & 2024 & 12 & 31 & 15 & Tue & Weekday & Winter & 17.0 & ... & 43.9 &  2.9 & 0 &  84.5 & 1.5 & 22.1 & 0.6 & 10111.0 & 1.7500000 & 105.16678\\\\\n",
       "\t BAS & 2024-12-31 16:00:00 & 2024 & 12 & 31 & 16 & Tue & Weekday & Winter &  8.8 & ... & 44.1 &  1.6 & 0 &  25.7 & 1.7 & 23.9 & 0.8 & 10303.5 & 2.4333333 & 106.00041\\\\\n",
       "\t BAS & 2024-12-31 17:00:00 & 2024 & 12 & 31 & 17 & Tue & Weekday & Winter &  3.4 & ... & 46.5 &  0.5 & 0 &   0.0 & 1.4 & 24.8 & 0.9 & 11511.7 & 2.5333333 & 105.83349\\\\\n",
       "\t BAS & 2024-12-31 18:00:00 & 2024 & 12 & 31 & 18 & Tue & Weekday & Winter &  2.7 & ... & 53.6 & -0.3 & 0 &   0.0 & 1.3 & 30.4 & 1.2 & 14463.4 & 1.4166667 & 107.64486\\\\\n",
       "\t BAS & 2024-12-31 19:00:00 & 2024 & 12 & 31 & 19 & Tue & Weekday & Winter &  4.1 & ... & 65.4 & -1.3 & 0 &   0.0 & 1.1 & 40.6 & 1.7 & 20669.3 & 0.6166667 & 133.35846\\\\\n",
       "\t BAS & 2024-12-31 20:00:00 & 2024 & 12 & 31 & 20 & Tue & Weekday & Winter &  3.0 & ... & 55.1 & -1.1 & 0 &   0.0 & 1.6 & 36.3 & 1.4 & 19038.3 & 1.7166667 & 107.66862\\\\\n",
       "\t BAS & 2024-12-31 21:00:00 & 2024 & 12 & 31 & 21 & Tue & Weekday & Winter &  2.2 & ... & 51.6 & -1.4 & 0 &   0.0 & 1.1 & 36.1 & 1.2 & 15172.2 & 2.7000000 & 102.50091\\\\\n",
       "\t BAS & 2024-12-31 22:00:00 & 2024 & 12 & 31 & 22 & Tue & Weekday & Winter &  2.6 & ... & 48.5 & -1.8 & 0 &   0.0 & 1.4 & 36.3 & 1.2 & 16183.8 & 2.7500000 & 106.49881\\\\\n",
       "\t BAS & 2024-12-31 23:00:00 & 2024 & 12 & 31 & 23 & Tue & Weekday & Winter &  3.0 & ... & 42.5 & -2.1 & 0 &   0.0 & 1.3 & 38.8 & 1.1 & 15483.7 & 1.6166667 & 107.16517\\\\\n",
       "\\end{tabular}\n"
      ],
      "text/markdown": [
       "\n",
       "A data.frame: 17568 × 22\n",
       "\n",
       "| site &lt;chr&gt; | datetime &lt;chr&gt; | year &lt;int&gt; | month &lt;int&gt; | day &lt;int&gt; | hour &lt;int&gt; | dayofwk &lt;chr&gt; | daytype &lt;chr&gt; | season &lt;chr&gt; | O3 &lt;dbl&gt; | ... ... | NOX &lt;dbl&gt; | TEMP &lt;dbl&gt; | PREC &lt;dbl&gt; | RAD &lt;dbl&gt; | SO2 &lt;dbl&gt; | PM2.5 &lt;dbl&gt; | EC &lt;dbl&gt; | CPC &lt;dbl&gt; | avg_wind_speed &lt;dbl&gt; | avg_wind_direction &lt;dbl&gt; |\n",
       "|---|---|---|---|---|---|---|---|---|---|---|---|---|---|---|---|---|---|---|---|---|\n",
       "| DAV | 2024-01-01 00:00:00 | 2024 | 1 | 1 |  0 | Mon | Weekday | Winter | 57.7 | ... | 1.9 | -2.2 | 0 |  -0.6 | NA | NA | NA | NA | 1.0980000 |  36.25794 |\n",
       "| DAV | 2024-01-01 01:00:00 | 2024 | 1 | 1 |  1 | Mon | Weekday | Winter | 55.2 | ... | 2.1 | -2.8 | 0 |  -0.7 | NA | NA | NA | NA | 0.9216667 |  40.71351 |\n",
       "| DAV | 2024-01-01 02:00:00 | 2024 | 1 | 1 |  2 | Mon | Weekday | Winter | 49.9 | ... | 3.7 | -3.3 | 0 |  -0.7 | NA | NA | NA | NA | 0.6716667 | 150.12313 |\n",
       "| DAV | 2024-01-01 03:00:00 | 2024 | 1 | 1 |  3 | Mon | Weekday | Winter | 52.1 | ... | 4.6 | -4.2 | 0 |  -1.1 | NA | NA | NA | NA | 0.5250000 |  40.87731 |\n",
       "| DAV | 2024-01-01 04:00:00 | 2024 | 1 | 1 |  4 | Mon | Weekday | Winter | 65.8 | ... | 0.7 | -5.2 | 0 |  -1.3 | NA | NA | NA | NA | 1.4700000 | 186.90946 |\n",
       "| DAV | 2024-01-01 05:00:00 | 2024 | 1 | 1 |  5 | Mon | Weekday | Winter | 67.1 | ... | 0.7 | -5.6 | 0 |  -0.8 | NA | NA | NA | NA | 1.9350000 | 184.88936 |\n",
       "| DAV | 2024-01-01 06:00:00 | 2024 | 1 | 1 |  6 | Mon | Weekday | Winter | 64.0 | ... | 3.5 | -5.7 | 0 |  -0.6 | NA | NA | NA | NA | 1.7316667 | 173.35654 |\n",
       "| DAV | 2024-01-01 07:00:00 | 2024 | 1 | 1 |  7 | Mon | Weekday | Winter | 58.4 | ... | 5.4 | -5.9 | 0 |  -0.6 | NA | NA | NA | NA | 0.9916667 |  77.91124 |\n",
       "| DAV | 2024-01-01 08:00:00 | 2024 | 1 | 1 |  8 | Mon | Weekday | Winter | 61.8 | ... | 1.8 | -5.7 | 0 |  22.6 | NA | NA | NA | NA | 0.7516667 |  86.64809 |\n",
       "| DAV | 2024-01-01 09:00:00 | 2024 | 1 | 1 |  9 | Mon | Weekday | Winter | 59.0 | ... | 3.4 | -5.3 | 0 |  73.9 | NA | NA | NA | NA | 0.7900000 |  85.80590 |\n",
       "| DAV | 2024-01-01 10:00:00 | 2024 | 1 | 1 | 10 | Mon | Weekday | Winter | 57.8 | ... | 4.4 | -4.3 | 0 | 169.3 | NA | NA | NA | NA | 0.8850000 | 157.54918 |\n",
       "| DAV | 2024-01-01 11:00:00 | 2024 | 1 | 1 | 11 | Mon | Weekday | Winter | 53.2 | ... | 7.2 | -3.3 | 0 | 301.3 | NA | NA | NA | NA | 0.6216667 |  98.98506 |\n",
       "| DAV | 2024-01-01 12:00:00 | 2024 | 1 | 1 | 12 | Mon | Weekday | Winter | 61.4 | ... | 2.5 | -2.3 | 0 | 272.5 | NA | NA | NA | NA | 0.4666667 | 322.75850 |\n",
       "| DAV | 2024-01-01 13:00:00 | 2024 | 1 | 1 | 13 | Mon | Weekday | Winter | 63.6 | ... | 1.7 | -2.4 | 0 | 129.9 | NA | NA | NA | NA | 0.4383333 |  79.96265 |\n",
       "| DAV | 2024-01-01 14:00:00 | 2024 | 1 | 1 | 14 | Mon | Weekday | Winter | 62.6 | ... | 5.2 | -2.3 | 0 | 118.1 | NA | NA | NA | NA | 1.1950000 | 185.89344 |\n",
       "| DAV | 2024-01-01 15:00:00 | 2024 | 1 | 1 | 15 | Mon | Weekday | Winter | 55.4 | ... | 6.7 | -2.5 | 0 |  59.1 | NA | NA | NA | NA | 0.6633333 | 168.14505 |\n",
       "| DAV | 2024-01-01 16:00:00 | 2024 | 1 | 1 | 16 | Mon | Weekday | Winter | 60.7 | ... | 3.0 | -3.4 | 0 |  13.2 | NA | NA | NA | NA | 1.0850000 | 179.34838 |\n",
       "| DAV | 2024-01-01 17:00:00 | 2024 | 1 | 1 | 17 | Mon | Weekday | Winter | 61.7 | ... | 1.7 | -4.9 | 0 |  -1.1 | NA | NA | NA | NA | 1.1616667 | 181.85148 |\n",
       "| DAV | 2024-01-01 18:00:00 | 2024 | 1 | 1 | 18 | Mon | Weekday | Winter | 68.0 | ... | 1.4 | -5.3 | 0 |  -1.0 | NA | NA | NA | NA | 1.7083333 | 180.82385 |\n",
       "| DAV | 2024-01-01 19:00:00 | 2024 | 1 | 1 | 19 | Mon | Weekday | Winter | 68.7 | ... | 0.9 | -5.7 | 0 |  -1.0 | NA | NA | NA | NA | 2.0450000 | 193.55360 |\n",
       "| DAV | 2024-01-01 20:00:00 | 2024 | 1 | 1 | 20 | Mon | Weekday | Winter | 68.5 | ... | 1.4 | -5.8 | 0 |  -0.9 | NA | NA | NA | NA | 2.3150000 | 186.84761 |\n",
       "| DAV | 2024-01-01 21:00:00 | 2024 | 1 | 1 | 21 | Mon | Weekday | Winter | 65.8 | ... | 2.8 | -6.4 | 0 |  -0.9 | NA | NA | NA | NA | 2.0133333 | 198.15078 |\n",
       "| DAV | 2024-01-01 22:00:00 | 2024 | 1 | 1 | 22 | Mon | Weekday | Winter | 71.4 | ... | 0.5 | -5.6 | 0 |  -0.9 | NA | NA | NA | NA | 2.1716667 | 182.04527 |\n",
       "| DAV | 2024-01-01 23:00:00 | 2024 | 1 | 1 | 23 | Mon | Weekday | Winter | 70.3 | ... | 0.5 | -6.8 | 0 |  -1.1 | NA | NA | NA | NA | 2.0683333 | 194.34817 |\n",
       "| DAV | 2024-01-02 00:00:00 | 2024 | 1 | 2 |  0 | Tue | Weekday | Winter | 72.2 | ... | 0.8 | -6.6 | 0 |  -0.5 | NA | NA | NA | NA | 1.8516667 | 198.40336 |\n",
       "| DAV | 2024-01-02 01:00:00 | 2024 | 1 | 2 |  1 | Tue | Weekday | Winter | 75.6 | ... | 0.3 | -6.0 | 0 |  -0.7 | NA | NA | NA | NA | 2.2266667 | 189.30669 |\n",
       "| DAV | 2024-01-02 02:00:00 | 2024 | 1 | 2 |  2 | Tue | Weekday | Winter | 75.9 | ... | 0.6 | -5.9 | 0 |  -0.7 | NA | NA | NA | NA | 2.1283333 | 194.93503 |\n",
       "| DAV | 2024-01-02 03:00:00 | 2024 | 1 | 2 |  3 | Tue | Weekday | Winter | 71.8 | ... | 2.6 | -6.6 | 0 |  -0.2 | NA | NA | NA | NA | 1.3366667 | 200.71398 |\n",
       "| DAV | 2024-01-02 04:00:00 | 2024 | 1 | 2 |  4 | Tue | Weekday | Winter | 73.8 | ... | 1.2 | -6.1 | 0 |  -0.1 | NA | NA | NA | NA | 1.1633333 | 208.18114 |\n",
       "| DAV | 2024-01-02 05:00:00 | 2024 | 1 | 2 |  5 | Tue | Weekday | Winter | 70.4 | ... | 3.7 | -5.8 | 0 |   0.0 | NA | NA | NA | NA | 1.3300000 | 209.46590 |\n",
       "| ... | ... | ... | ... | ... | ... | ... | ... | ... | ... | <!----> | ... | ... | ... | ... | ... | ... | ... | ... | ... | ... |\n",
       "| BAS | 2024-12-30 18:00:00 | 2024 | 12 | 30 | 18 | Mon | Weekday | Winter |  5.8 | ... | 34.4 | -0.5 | 0 |   0.0 | 0.3 | 16.8 | 0.6 |  5815.7 | 1.1666667 |  91.85523 |\n",
       "| BAS | 2024-12-30 19:00:00 | 2024 | 12 | 30 | 19 | Mon | Weekday | Winter |  7.3 | ... | 33.0 | -0.7 | 0 |   0.0 | 0.4 | 16.4 | 0.6 |  6715.2 | 1.8000000 |  86.83350 |\n",
       "| BAS | 2024-12-30 20:00:00 | 2024 | 12 | 30 | 20 | Mon | Weekday | Winter |  6.3 | ... | 31.9 | -1.0 | 0 |   0.0 | 0.5 | 16.3 | 0.7 |  6380.9 | 1.5833333 | 113.64453 |\n",
       "| BAS | 2024-12-30 21:00:00 | 2024 | 12 | 30 | 21 | Mon | Weekday | Winter |  7.2 | ... | 25.5 | -2.0 | 0 |   0.0 | 0.3 | 16.7 | 0.7 |  5976.5 | 1.1500000 | 155.53655 |\n",
       "| BAS | 2024-12-30 22:00:00 | 2024 | 12 | 30 | 22 | Mon | Weekday | Winter |  8.4 | ... | 21.5 | -2.8 | 0 |   0.0 | 0.3 | 16.3 | 0.7 |  5303.4 | 1.3500000 | 165.85923 |\n",
       "| BAS | 2024-12-30 23:00:00 | 2024 | 12 | 30 | 23 | Mon | Weekday | Winter |  8.0 | ... | 22.0 | -3.2 | 0 |   0.0 | 0.2 | 16.4 | 0.7 |  5421.7 | 1.3666667 | 166.81517 |\n",
       "| BAS | 2024-12-31 00:00:00 | 2024 | 12 | 31 |  0 | Tue | Weekday | Winter |  8.4 | ... | 20.3 | -3.6 | 0 |   0.0 | 0.2 | 17.7 | 0.7 |  5047.5 | 1.3166667 | 179.83210 |\n",
       "| BAS | 2024-12-31 01:00:00 | 2024 | 12 | 31 |  1 | Tue | Weekday | Winter |  9.9 | ... | 19.1 | -3.8 | 0 |   0.0 | 0.2 | 16.5 | 0.7 |  4840.7 | 1.4833333 | 177.16810 |\n",
       "| BAS | 2024-12-31 02:00:00 | 2024 | 12 | 31 |  2 | Tue | Weekday | Winter | 10.7 | ... | 19.7 | -3.7 | 0 |   0.0 | 0.3 | 17.5 | 0.6 |  4575.8 | 1.5666667 | 165.98139 |\n",
       "| BAS | 2024-12-31 03:00:00 | 2024 | 12 | 31 |  3 | Tue | Weekday | Winter | 11.7 | ... | 21.3 | -3.0 | 0 |   0.0 | 0.5 | 15.6 | 0.6 |  4708.3 | 1.6833333 | 144.58769 |\n",
       "| BAS | 2024-12-31 04:00:00 | 2024 | 12 | 31 |  4 | Tue | Weekday | Winter |  9.6 | ... | 25.8 | -3.0 | 0 |   0.0 | 0.7 | 15.4 | 0.5 |  5278.4 | 1.4166667 | 119.31700 |\n",
       "| BAS | 2024-12-31 05:00:00 | 2024 | 12 | 31 |  5 | Tue | Weekday | Winter |  8.2 | ... | 29.0 | -2.9 | 0 |   0.0 | 0.8 | 15.8 | 0.5 |  5976.5 | 1.8833333 | 108.66569 |\n",
       "| BAS | 2024-12-31 06:00:00 | 2024 | 12 | 31 |  6 | Tue | Weekday | Winter |  6.6 | ... | 33.0 | -2.7 | 0 |   0.0 | 0.9 | 16.4 | 0.4 |  6841.4 | 2.6666667 | 101.66642 |\n",
       "| BAS | 2024-12-31 07:00:00 | 2024 | 12 | 31 |  7 | Tue | Weekday | Winter |  5.4 | ... | 35.6 | -2.7 | 0 |   0.0 | 0.7 | 17.3 | 0.4 |  6987.3 | 2.9166667 |  98.49990 |\n",
       "| BAS | 2024-12-31 08:00:00 | 2024 | 12 | 31 |  8 | Tue | Weekday | Winter |  7.4 | ... | 36.0 | -2.6 | 0 |  10.2 | 0.7 | 18.3 | 0.4 |  7431.9 | 3.1666667 |  94.83291 |\n",
       "| BAS | 2024-12-31 09:00:00 | 2024 | 12 | 31 |  9 | Tue | Weekday | Winter | 13.9 | ... | 37.2 | -2.0 | 0 | 105.3 | 0.8 | 19.1 | 0.4 |  7305.2 | 3.5666667 |  96.33355 |\n",
       "| BAS | 2024-12-31 10:00:00 | 2024 | 12 | 31 | 10 | Tue | Weekday | Winter | 18.1 | ... | 39.4 | -0.8 | 0 | 218.5 | 0.9 | 18.9 | 0.5 |  8069.0 | 3.2666667 | 100.83326 |\n",
       "| BAS | 2024-12-31 11:00:00 | 2024 | 12 | 31 | 11 | Tue | Weekday | Winter | 20.7 | ... | 41.4 |  0.5 | 0 | 293.2 | 1.1 | 18.5 | 0.5 |  9086.4 | 2.2500000 | 102.49990 |\n",
       "| BAS | 2024-12-31 12:00:00 | 2024 | 12 | 31 | 12 | Tue | Weekday | Winter | 22.8 | ... | 38.7 |  1.8 | 0 | 317.5 | 1.2 | 18.5 | 0.5 |  8997.9 | 1.8333333 | 104.00534 |\n",
       "| BAS | 2024-12-31 13:00:00 | 2024 | 12 | 31 | 13 | Tue | Weekday | Winter | 22.8 | ... | 39.8 |  2.9 | 0 | 298.8 | 1.5 | 19.9 | 0.5 |  9252.1 | 1.5500000 | 107.83309 |\n",
       "| BAS | 2024-12-31 14:00:00 | 2024 | 12 | 31 | 14 | Tue | Weekday | Winter | 22.6 | ... | 42.3 |  3.5 | 0 | 228.5 | 1.4 | 19.7 | 0.5 |  9734.4 | 1.2166667 |  98.83455 |\n",
       "| BAS | 2024-12-31 15:00:00 | 2024 | 12 | 31 | 15 | Tue | Weekday | Winter | 17.0 | ... | 43.9 |  2.9 | 0 |  84.5 | 1.5 | 22.1 | 0.6 | 10111.0 | 1.7500000 | 105.16678 |\n",
       "| BAS | 2024-12-31 16:00:00 | 2024 | 12 | 31 | 16 | Tue | Weekday | Winter |  8.8 | ... | 44.1 |  1.6 | 0 |  25.7 | 1.7 | 23.9 | 0.8 | 10303.5 | 2.4333333 | 106.00041 |\n",
       "| BAS | 2024-12-31 17:00:00 | 2024 | 12 | 31 | 17 | Tue | Weekday | Winter |  3.4 | ... | 46.5 |  0.5 | 0 |   0.0 | 1.4 | 24.8 | 0.9 | 11511.7 | 2.5333333 | 105.83349 |\n",
       "| BAS | 2024-12-31 18:00:00 | 2024 | 12 | 31 | 18 | Tue | Weekday | Winter |  2.7 | ... | 53.6 | -0.3 | 0 |   0.0 | 1.3 | 30.4 | 1.2 | 14463.4 | 1.4166667 | 107.64486 |\n",
       "| BAS | 2024-12-31 19:00:00 | 2024 | 12 | 31 | 19 | Tue | Weekday | Winter |  4.1 | ... | 65.4 | -1.3 | 0 |   0.0 | 1.1 | 40.6 | 1.7 | 20669.3 | 0.6166667 | 133.35846 |\n",
       "| BAS | 2024-12-31 20:00:00 | 2024 | 12 | 31 | 20 | Tue | Weekday | Winter |  3.0 | ... | 55.1 | -1.1 | 0 |   0.0 | 1.6 | 36.3 | 1.4 | 19038.3 | 1.7166667 | 107.66862 |\n",
       "| BAS | 2024-12-31 21:00:00 | 2024 | 12 | 31 | 21 | Tue | Weekday | Winter |  2.2 | ... | 51.6 | -1.4 | 0 |   0.0 | 1.1 | 36.1 | 1.2 | 15172.2 | 2.7000000 | 102.50091 |\n",
       "| BAS | 2024-12-31 22:00:00 | 2024 | 12 | 31 | 22 | Tue | Weekday | Winter |  2.6 | ... | 48.5 | -1.8 | 0 |   0.0 | 1.4 | 36.3 | 1.2 | 16183.8 | 2.7500000 | 106.49881 |\n",
       "| BAS | 2024-12-31 23:00:00 | 2024 | 12 | 31 | 23 | Tue | Weekday | Winter |  3.0 | ... | 42.5 | -2.1 | 0 |   0.0 | 1.3 | 38.8 | 1.1 | 15483.7 | 1.6166667 | 107.16517 |\n",
       "\n"
      ],
      "text/plain": [
       "      site datetime            year month day hour dayofwk daytype season O3  \n",
       "1     DAV  2024-01-01 00:00:00 2024 1     1    0   Mon     Weekday Winter 57.7\n",
       "2     DAV  2024-01-01 01:00:00 2024 1     1    1   Mon     Weekday Winter 55.2\n",
       "3     DAV  2024-01-01 02:00:00 2024 1     1    2   Mon     Weekday Winter 49.9\n",
       "4     DAV  2024-01-01 03:00:00 2024 1     1    3   Mon     Weekday Winter 52.1\n",
       "5     DAV  2024-01-01 04:00:00 2024 1     1    4   Mon     Weekday Winter 65.8\n",
       "6     DAV  2024-01-01 05:00:00 2024 1     1    5   Mon     Weekday Winter 67.1\n",
       "7     DAV  2024-01-01 06:00:00 2024 1     1    6   Mon     Weekday Winter 64.0\n",
       "8     DAV  2024-01-01 07:00:00 2024 1     1    7   Mon     Weekday Winter 58.4\n",
       "9     DAV  2024-01-01 08:00:00 2024 1     1    8   Mon     Weekday Winter 61.8\n",
       "10    DAV  2024-01-01 09:00:00 2024 1     1    9   Mon     Weekday Winter 59.0\n",
       "11    DAV  2024-01-01 10:00:00 2024 1     1   10   Mon     Weekday Winter 57.8\n",
       "12    DAV  2024-01-01 11:00:00 2024 1     1   11   Mon     Weekday Winter 53.2\n",
       "13    DAV  2024-01-01 12:00:00 2024 1     1   12   Mon     Weekday Winter 61.4\n",
       "14    DAV  2024-01-01 13:00:00 2024 1     1   13   Mon     Weekday Winter 63.6\n",
       "15    DAV  2024-01-01 14:00:00 2024 1     1   14   Mon     Weekday Winter 62.6\n",
       "16    DAV  2024-01-01 15:00:00 2024 1     1   15   Mon     Weekday Winter 55.4\n",
       "17    DAV  2024-01-01 16:00:00 2024 1     1   16   Mon     Weekday Winter 60.7\n",
       "18    DAV  2024-01-01 17:00:00 2024 1     1   17   Mon     Weekday Winter 61.7\n",
       "19    DAV  2024-01-01 18:00:00 2024 1     1   18   Mon     Weekday Winter 68.0\n",
       "20    DAV  2024-01-01 19:00:00 2024 1     1   19   Mon     Weekday Winter 68.7\n",
       "21    DAV  2024-01-01 20:00:00 2024 1     1   20   Mon     Weekday Winter 68.5\n",
       "22    DAV  2024-01-01 21:00:00 2024 1     1   21   Mon     Weekday Winter 65.8\n",
       "23    DAV  2024-01-01 22:00:00 2024 1     1   22   Mon     Weekday Winter 71.4\n",
       "24    DAV  2024-01-01 23:00:00 2024 1     1   23   Mon     Weekday Winter 70.3\n",
       "25    DAV  2024-01-02 00:00:00 2024 1     2    0   Tue     Weekday Winter 72.2\n",
       "26    DAV  2024-01-02 01:00:00 2024 1     2    1   Tue     Weekday Winter 75.6\n",
       "27    DAV  2024-01-02 02:00:00 2024 1     2    2   Tue     Weekday Winter 75.9\n",
       "28    DAV  2024-01-02 03:00:00 2024 1     2    3   Tue     Weekday Winter 71.8\n",
       "29    DAV  2024-01-02 04:00:00 2024 1     2    4   Tue     Weekday Winter 73.8\n",
       "30    DAV  2024-01-02 05:00:00 2024 1     2    5   Tue     Weekday Winter 70.4\n",
       "...   ...  ...                 ...  ...   ... ...  ...     ...     ...    ... \n",
       "17539 BAS  2024-12-30 18:00:00 2024 12    30  18   Mon     Weekday Winter  5.8\n",
       "17540 BAS  2024-12-30 19:00:00 2024 12    30  19   Mon     Weekday Winter  7.3\n",
       "17541 BAS  2024-12-30 20:00:00 2024 12    30  20   Mon     Weekday Winter  6.3\n",
       "17542 BAS  2024-12-30 21:00:00 2024 12    30  21   Mon     Weekday Winter  7.2\n",
       "17543 BAS  2024-12-30 22:00:00 2024 12    30  22   Mon     Weekday Winter  8.4\n",
       "17544 BAS  2024-12-30 23:00:00 2024 12    30  23   Mon     Weekday Winter  8.0\n",
       "17545 BAS  2024-12-31 00:00:00 2024 12    31   0   Tue     Weekday Winter  8.4\n",
       "17546 BAS  2024-12-31 01:00:00 2024 12    31   1   Tue     Weekday Winter  9.9\n",
       "17547 BAS  2024-12-31 02:00:00 2024 12    31   2   Tue     Weekday Winter 10.7\n",
       "17548 BAS  2024-12-31 03:00:00 2024 12    31   3   Tue     Weekday Winter 11.7\n",
       "17549 BAS  2024-12-31 04:00:00 2024 12    31   4   Tue     Weekday Winter  9.6\n",
       "17550 BAS  2024-12-31 05:00:00 2024 12    31   5   Tue     Weekday Winter  8.2\n",
       "17551 BAS  2024-12-31 06:00:00 2024 12    31   6   Tue     Weekday Winter  6.6\n",
       "17552 BAS  2024-12-31 07:00:00 2024 12    31   7   Tue     Weekday Winter  5.4\n",
       "17553 BAS  2024-12-31 08:00:00 2024 12    31   8   Tue     Weekday Winter  7.4\n",
       "17554 BAS  2024-12-31 09:00:00 2024 12    31   9   Tue     Weekday Winter 13.9\n",
       "17555 BAS  2024-12-31 10:00:00 2024 12    31  10   Tue     Weekday Winter 18.1\n",
       "17556 BAS  2024-12-31 11:00:00 2024 12    31  11   Tue     Weekday Winter 20.7\n",
       "17557 BAS  2024-12-31 12:00:00 2024 12    31  12   Tue     Weekday Winter 22.8\n",
       "17558 BAS  2024-12-31 13:00:00 2024 12    31  13   Tue     Weekday Winter 22.8\n",
       "17559 BAS  2024-12-31 14:00:00 2024 12    31  14   Tue     Weekday Winter 22.6\n",
       "17560 BAS  2024-12-31 15:00:00 2024 12    31  15   Tue     Weekday Winter 17.0\n",
       "17561 BAS  2024-12-31 16:00:00 2024 12    31  16   Tue     Weekday Winter  8.8\n",
       "17562 BAS  2024-12-31 17:00:00 2024 12    31  17   Tue     Weekday Winter  3.4\n",
       "17563 BAS  2024-12-31 18:00:00 2024 12    31  18   Tue     Weekday Winter  2.7\n",
       "17564 BAS  2024-12-31 19:00:00 2024 12    31  19   Tue     Weekday Winter  4.1\n",
       "17565 BAS  2024-12-31 20:00:00 2024 12    31  20   Tue     Weekday Winter  3.0\n",
       "17566 BAS  2024-12-31 21:00:00 2024 12    31  21   Tue     Weekday Winter  2.2\n",
       "17567 BAS  2024-12-31 22:00:00 2024 12    31  22   Tue     Weekday Winter  2.6\n",
       "17568 BAS  2024-12-31 23:00:00 2024 12    31  23   Tue     Weekday Winter  3.0\n",
       "      ... NOX  TEMP PREC RAD   SO2 PM2.5 EC  CPC     avg_wind_speed\n",
       "1     ... 1.9  -2.2 0     -0.6 NA  NA    NA  NA      1.0980000     \n",
       "2     ... 2.1  -2.8 0     -0.7 NA  NA    NA  NA      0.9216667     \n",
       "3     ... 3.7  -3.3 0     -0.7 NA  NA    NA  NA      0.6716667     \n",
       "4     ... 4.6  -4.2 0     -1.1 NA  NA    NA  NA      0.5250000     \n",
       "5     ... 0.7  -5.2 0     -1.3 NA  NA    NA  NA      1.4700000     \n",
       "6     ... 0.7  -5.6 0     -0.8 NA  NA    NA  NA      1.9350000     \n",
       "7     ... 3.5  -5.7 0     -0.6 NA  NA    NA  NA      1.7316667     \n",
       "8     ... 5.4  -5.9 0     -0.6 NA  NA    NA  NA      0.9916667     \n",
       "9     ... 1.8  -5.7 0     22.6 NA  NA    NA  NA      0.7516667     \n",
       "10    ... 3.4  -5.3 0     73.9 NA  NA    NA  NA      0.7900000     \n",
       "11    ... 4.4  -4.3 0    169.3 NA  NA    NA  NA      0.8850000     \n",
       "12    ... 7.2  -3.3 0    301.3 NA  NA    NA  NA      0.6216667     \n",
       "13    ... 2.5  -2.3 0    272.5 NA  NA    NA  NA      0.4666667     \n",
       "14    ... 1.7  -2.4 0    129.9 NA  NA    NA  NA      0.4383333     \n",
       "15    ... 5.2  -2.3 0    118.1 NA  NA    NA  NA      1.1950000     \n",
       "16    ... 6.7  -2.5 0     59.1 NA  NA    NA  NA      0.6633333     \n",
       "17    ... 3.0  -3.4 0     13.2 NA  NA    NA  NA      1.0850000     \n",
       "18    ... 1.7  -4.9 0     -1.1 NA  NA    NA  NA      1.1616667     \n",
       "19    ... 1.4  -5.3 0     -1.0 NA  NA    NA  NA      1.7083333     \n",
       "20    ... 0.9  -5.7 0     -1.0 NA  NA    NA  NA      2.0450000     \n",
       "21    ... 1.4  -5.8 0     -0.9 NA  NA    NA  NA      2.3150000     \n",
       "22    ... 2.8  -6.4 0     -0.9 NA  NA    NA  NA      2.0133333     \n",
       "23    ... 0.5  -5.6 0     -0.9 NA  NA    NA  NA      2.1716667     \n",
       "24    ... 0.5  -6.8 0     -1.1 NA  NA    NA  NA      2.0683333     \n",
       "25    ... 0.8  -6.6 0     -0.5 NA  NA    NA  NA      1.8516667     \n",
       "26    ... 0.3  -6.0 0     -0.7 NA  NA    NA  NA      2.2266667     \n",
       "27    ... 0.6  -5.9 0     -0.7 NA  NA    NA  NA      2.1283333     \n",
       "28    ... 2.6  -6.6 0     -0.2 NA  NA    NA  NA      1.3366667     \n",
       "29    ... 1.2  -6.1 0     -0.1 NA  NA    NA  NA      1.1633333     \n",
       "30    ... 3.7  -5.8 0      0.0 NA  NA    NA  NA      1.3300000     \n",
       "...       ...  ...  ...  ...   ... ...   ... ...     ...           \n",
       "17539 ... 34.4 -0.5 0      0.0 0.3 16.8  0.6  5815.7 1.1666667     \n",
       "17540 ... 33.0 -0.7 0      0.0 0.4 16.4  0.6  6715.2 1.8000000     \n",
       "17541 ... 31.9 -1.0 0      0.0 0.5 16.3  0.7  6380.9 1.5833333     \n",
       "17542 ... 25.5 -2.0 0      0.0 0.3 16.7  0.7  5976.5 1.1500000     \n",
       "17543 ... 21.5 -2.8 0      0.0 0.3 16.3  0.7  5303.4 1.3500000     \n",
       "17544 ... 22.0 -3.2 0      0.0 0.2 16.4  0.7  5421.7 1.3666667     \n",
       "17545 ... 20.3 -3.6 0      0.0 0.2 17.7  0.7  5047.5 1.3166667     \n",
       "17546 ... 19.1 -3.8 0      0.0 0.2 16.5  0.7  4840.7 1.4833333     \n",
       "17547 ... 19.7 -3.7 0      0.0 0.3 17.5  0.6  4575.8 1.5666667     \n",
       "17548 ... 21.3 -3.0 0      0.0 0.5 15.6  0.6  4708.3 1.6833333     \n",
       "17549 ... 25.8 -3.0 0      0.0 0.7 15.4  0.5  5278.4 1.4166667     \n",
       "17550 ... 29.0 -2.9 0      0.0 0.8 15.8  0.5  5976.5 1.8833333     \n",
       "17551 ... 33.0 -2.7 0      0.0 0.9 16.4  0.4  6841.4 2.6666667     \n",
       "17552 ... 35.6 -2.7 0      0.0 0.7 17.3  0.4  6987.3 2.9166667     \n",
       "17553 ... 36.0 -2.6 0     10.2 0.7 18.3  0.4  7431.9 3.1666667     \n",
       "17554 ... 37.2 -2.0 0    105.3 0.8 19.1  0.4  7305.2 3.5666667     \n",
       "17555 ... 39.4 -0.8 0    218.5 0.9 18.9  0.5  8069.0 3.2666667     \n",
       "17556 ... 41.4  0.5 0    293.2 1.1 18.5  0.5  9086.4 2.2500000     \n",
       "17557 ... 38.7  1.8 0    317.5 1.2 18.5  0.5  8997.9 1.8333333     \n",
       "17558 ... 39.8  2.9 0    298.8 1.5 19.9  0.5  9252.1 1.5500000     \n",
       "17559 ... 42.3  3.5 0    228.5 1.4 19.7  0.5  9734.4 1.2166667     \n",
       "17560 ... 43.9  2.9 0     84.5 1.5 22.1  0.6 10111.0 1.7500000     \n",
       "17561 ... 44.1  1.6 0     25.7 1.7 23.9  0.8 10303.5 2.4333333     \n",
       "17562 ... 46.5  0.5 0      0.0 1.4 24.8  0.9 11511.7 2.5333333     \n",
       "17563 ... 53.6 -0.3 0      0.0 1.3 30.4  1.2 14463.4 1.4166667     \n",
       "17564 ... 65.4 -1.3 0      0.0 1.1 40.6  1.7 20669.3 0.6166667     \n",
       "17565 ... 55.1 -1.1 0      0.0 1.6 36.3  1.4 19038.3 1.7166667     \n",
       "17566 ... 51.6 -1.4 0      0.0 1.1 36.1  1.2 15172.2 2.7000000     \n",
       "17567 ... 48.5 -1.8 0      0.0 1.4 36.3  1.2 16183.8 2.7500000     \n",
       "17568 ... 42.5 -2.1 0      0.0 1.3 38.8  1.1 15483.7 1.6166667     \n",
       "      avg_wind_direction\n",
       "1      36.25794         \n",
       "2      40.71351         \n",
       "3     150.12313         \n",
       "4      40.87731         \n",
       "5     186.90946         \n",
       "6     184.88936         \n",
       "7     173.35654         \n",
       "8      77.91124         \n",
       "9      86.64809         \n",
       "10     85.80590         \n",
       "11    157.54918         \n",
       "12     98.98506         \n",
       "13    322.75850         \n",
       "14     79.96265         \n",
       "15    185.89344         \n",
       "16    168.14505         \n",
       "17    179.34838         \n",
       "18    181.85148         \n",
       "19    180.82385         \n",
       "20    193.55360         \n",
       "21    186.84761         \n",
       "22    198.15078         \n",
       "23    182.04527         \n",
       "24    194.34817         \n",
       "25    198.40336         \n",
       "26    189.30669         \n",
       "27    194.93503         \n",
       "28    200.71398         \n",
       "29    208.18114         \n",
       "30    209.46590         \n",
       "...   ...               \n",
       "17539  91.85523         \n",
       "17540  86.83350         \n",
       "17541 113.64453         \n",
       "17542 155.53655         \n",
       "17543 165.85923         \n",
       "17544 166.81517         \n",
       "17545 179.83210         \n",
       "17546 177.16810         \n",
       "17547 165.98139         \n",
       "17548 144.58769         \n",
       "17549 119.31700         \n",
       "17550 108.66569         \n",
       "17551 101.66642         \n",
       "17552  98.49990         \n",
       "17553  94.83291         \n",
       "17554  96.33355         \n",
       "17555 100.83326         \n",
       "17556 102.49990         \n",
       "17557 104.00534         \n",
       "17558 107.83309         \n",
       "17559  98.83455         \n",
       "17560 105.16678         \n",
       "17561 106.00041         \n",
       "17562 105.83349         \n",
       "17563 107.64486         \n",
       "17564 133.35846         \n",
       "17565 107.66862         \n",
       "17566 102.50091         \n",
       "17567 106.49881         \n",
       "17568 107.16517         "
      ]
     },
     "metadata": {},
     "output_type": "display_data"
    }
   ],
   "source": [
    "all_data_df"
   ]
  },
  {
   "cell_type": "code",
   "execution_count": 59,
   "id": "9c521f82-cf90-41a1-b3f3-b85cd87489b8",
   "metadata": {},
   "outputs": [],
   "source": [
    "write.csv(all_data_df, \"DATA/DAV-BAS.csv\")"
   ]
  },
  {
   "cell_type": "code",
   "execution_count": 60,
   "id": "902f666b-ee6b-440f-8cde-468dc3515387",
   "metadata": {},
   "outputs": [],
   "source": [
    "all_data_lf <- all_data_df %>%\n",
    "  pivot_longer(-c(site, datetime, season, year, month, day, hour, dayofwk, daytype),  # id columns\n",
    "               names_to = \"variable\",\n",
    "               values_to = \"value\")"
   ]
  },
  {
   "cell_type": "code",
   "execution_count": 64,
   "id": "42ec5e63-7d7b-4f27-bea9-f7943ccd7e84",
   "metadata": {},
   "outputs": [
    {
     "data": {
      "text/html": [
       "<table class=\"dataframe\">\n",
       "<caption>A tibble: 228384 × 12</caption>\n",
       "<thead>\n",
       "\t<tr><th scope=col>site</th><th scope=col>datetime</th><th scope=col>year</th><th scope=col>month</th><th scope=col>day</th><th scope=col>hour</th><th scope=col>dayofwk</th><th scope=col>daytype</th><th scope=col>season</th><th scope=col>variable</th><th scope=col>value</th><th scope=col>datetime1</th></tr>\n",
       "\t<tr><th scope=col>&lt;chr&gt;</th><th scope=col>&lt;chr&gt;</th><th scope=col>&lt;int&gt;</th><th scope=col>&lt;int&gt;</th><th scope=col>&lt;int&gt;</th><th scope=col>&lt;int&gt;</th><th scope=col>&lt;chr&gt;</th><th scope=col>&lt;chr&gt;</th><th scope=col>&lt;chr&gt;</th><th scope=col>&lt;chr&gt;</th><th scope=col>&lt;dbl&gt;</th><th scope=col>&lt;dttm&gt;</th></tr>\n",
       "</thead>\n",
       "<tbody>\n",
       "\t<tr><td>DAV</td><td>2024-01-01 00:00:00</td><td>2024</td><td>1</td><td>1</td><td>0</td><td>Mon</td><td>Weekday</td><td>Winter</td><td>O3                </td><td>57.7000000</td><td>2024-01-01</td></tr>\n",
       "\t<tr><td>DAV</td><td>2024-01-01 00:00:00</td><td>2024</td><td>1</td><td>1</td><td>0</td><td>Mon</td><td>Weekday</td><td>Winter</td><td>NO2               </td><td> 1.9000000</td><td>2024-01-01</td></tr>\n",
       "\t<tr><td>DAV</td><td>2024-01-01 00:00:00</td><td>2024</td><td>1</td><td>1</td><td>0</td><td>Mon</td><td>Weekday</td><td>Winter</td><td>PM10              </td><td> 1.2000000</td><td>2024-01-01</td></tr>\n",
       "\t<tr><td>DAV</td><td>2024-01-01 00:00:00</td><td>2024</td><td>1</td><td>1</td><td>0</td><td>Mon</td><td>Weekday</td><td>Winter</td><td>NOX               </td><td> 1.9000000</td><td>2024-01-01</td></tr>\n",
       "\t<tr><td>DAV</td><td>2024-01-01 00:00:00</td><td>2024</td><td>1</td><td>1</td><td>0</td><td>Mon</td><td>Weekday</td><td>Winter</td><td>TEMP              </td><td>-2.2000000</td><td>2024-01-01</td></tr>\n",
       "\t<tr><td>DAV</td><td>2024-01-01 00:00:00</td><td>2024</td><td>1</td><td>1</td><td>0</td><td>Mon</td><td>Weekday</td><td>Winter</td><td>PREC              </td><td> 0.0000000</td><td>2024-01-01</td></tr>\n",
       "\t<tr><td>DAV</td><td>2024-01-01 00:00:00</td><td>2024</td><td>1</td><td>1</td><td>0</td><td>Mon</td><td>Weekday</td><td>Winter</td><td>RAD               </td><td>-0.6000000</td><td>2024-01-01</td></tr>\n",
       "\t<tr><td>DAV</td><td>2024-01-01 00:00:00</td><td>2024</td><td>1</td><td>1</td><td>0</td><td>Mon</td><td>Weekday</td><td>Winter</td><td>SO2               </td><td>        NA</td><td>2024-01-01</td></tr>\n",
       "\t<tr><td>DAV</td><td>2024-01-01 00:00:00</td><td>2024</td><td>1</td><td>1</td><td>0</td><td>Mon</td><td>Weekday</td><td>Winter</td><td>PM2.5             </td><td>        NA</td><td>2024-01-01</td></tr>\n",
       "\t<tr><td>DAV</td><td>2024-01-01 00:00:00</td><td>2024</td><td>1</td><td>1</td><td>0</td><td>Mon</td><td>Weekday</td><td>Winter</td><td>EC                </td><td>        NA</td><td>2024-01-01</td></tr>\n",
       "\t<tr><td>DAV</td><td>2024-01-01 00:00:00</td><td>2024</td><td>1</td><td>1</td><td>0</td><td>Mon</td><td>Weekday</td><td>Winter</td><td>CPC               </td><td>        NA</td><td>2024-01-01</td></tr>\n",
       "\t<tr><td>DAV</td><td>2024-01-01 00:00:00</td><td>2024</td><td>1</td><td>1</td><td>0</td><td>Mon</td><td>Weekday</td><td>Winter</td><td>avg_wind_speed    </td><td> 1.0980000</td><td>2024-01-01</td></tr>\n",
       "\t<tr><td>DAV</td><td>2024-01-01 00:00:00</td><td>2024</td><td>1</td><td>1</td><td>0</td><td>Mon</td><td>Weekday</td><td>Winter</td><td>avg_wind_direction</td><td>36.2579399</td><td>2024-01-01</td></tr>\n",
       "\t<tr><td>DAV</td><td>2024-01-01 01:00:00</td><td>2024</td><td>1</td><td>1</td><td>1</td><td>Mon</td><td>Weekday</td><td>Winter</td><td>O3                </td><td>55.2000000</td><td>2024-01-01</td></tr>\n",
       "\t<tr><td>DAV</td><td>2024-01-01 01:00:00</td><td>2024</td><td>1</td><td>1</td><td>1</td><td>Mon</td><td>Weekday</td><td>Winter</td><td>NO2               </td><td> 2.1000000</td><td>2024-01-01</td></tr>\n",
       "\t<tr><td>DAV</td><td>2024-01-01 01:00:00</td><td>2024</td><td>1</td><td>1</td><td>1</td><td>Mon</td><td>Weekday</td><td>Winter</td><td>PM10              </td><td> 1.5000000</td><td>2024-01-01</td></tr>\n",
       "\t<tr><td>DAV</td><td>2024-01-01 01:00:00</td><td>2024</td><td>1</td><td>1</td><td>1</td><td>Mon</td><td>Weekday</td><td>Winter</td><td>NOX               </td><td> 2.1000000</td><td>2024-01-01</td></tr>\n",
       "\t<tr><td>DAV</td><td>2024-01-01 01:00:00</td><td>2024</td><td>1</td><td>1</td><td>1</td><td>Mon</td><td>Weekday</td><td>Winter</td><td>TEMP              </td><td>-2.8000000</td><td>2024-01-01</td></tr>\n",
       "\t<tr><td>DAV</td><td>2024-01-01 01:00:00</td><td>2024</td><td>1</td><td>1</td><td>1</td><td>Mon</td><td>Weekday</td><td>Winter</td><td>PREC              </td><td> 0.0000000</td><td>2024-01-01</td></tr>\n",
       "\t<tr><td>DAV</td><td>2024-01-01 01:00:00</td><td>2024</td><td>1</td><td>1</td><td>1</td><td>Mon</td><td>Weekday</td><td>Winter</td><td>RAD               </td><td>-0.7000000</td><td>2024-01-01</td></tr>\n",
       "\t<tr><td>DAV</td><td>2024-01-01 01:00:00</td><td>2024</td><td>1</td><td>1</td><td>1</td><td>Mon</td><td>Weekday</td><td>Winter</td><td>SO2               </td><td>        NA</td><td>2024-01-01</td></tr>\n",
       "\t<tr><td>DAV</td><td>2024-01-01 01:00:00</td><td>2024</td><td>1</td><td>1</td><td>1</td><td>Mon</td><td>Weekday</td><td>Winter</td><td>PM2.5             </td><td>        NA</td><td>2024-01-01</td></tr>\n",
       "\t<tr><td>DAV</td><td>2024-01-01 01:00:00</td><td>2024</td><td>1</td><td>1</td><td>1</td><td>Mon</td><td>Weekday</td><td>Winter</td><td>EC                </td><td>        NA</td><td>2024-01-01</td></tr>\n",
       "\t<tr><td>DAV</td><td>2024-01-01 01:00:00</td><td>2024</td><td>1</td><td>1</td><td>1</td><td>Mon</td><td>Weekday</td><td>Winter</td><td>CPC               </td><td>        NA</td><td>2024-01-01</td></tr>\n",
       "\t<tr><td>DAV</td><td>2024-01-01 01:00:00</td><td>2024</td><td>1</td><td>1</td><td>1</td><td>Mon</td><td>Weekday</td><td>Winter</td><td>avg_wind_speed    </td><td> 0.9216667</td><td>2024-01-01</td></tr>\n",
       "\t<tr><td>DAV</td><td>2024-01-01 01:00:00</td><td>2024</td><td>1</td><td>1</td><td>1</td><td>Mon</td><td>Weekday</td><td>Winter</td><td>avg_wind_direction</td><td>40.7135091</td><td>2024-01-01</td></tr>\n",
       "\t<tr><td>DAV</td><td>2024-01-01 02:00:00</td><td>2024</td><td>1</td><td>1</td><td>2</td><td>Mon</td><td>Weekday</td><td>Winter</td><td>O3                </td><td>49.9000000</td><td>2024-01-01</td></tr>\n",
       "\t<tr><td>DAV</td><td>2024-01-01 02:00:00</td><td>2024</td><td>1</td><td>1</td><td>2</td><td>Mon</td><td>Weekday</td><td>Winter</td><td>NO2               </td><td> 3.7000000</td><td>2024-01-01</td></tr>\n",
       "\t<tr><td>DAV</td><td>2024-01-01 02:00:00</td><td>2024</td><td>1</td><td>1</td><td>2</td><td>Mon</td><td>Weekday</td><td>Winter</td><td>PM10              </td><td> 2.2000000</td><td>2024-01-01</td></tr>\n",
       "\t<tr><td>DAV</td><td>2024-01-01 02:00:00</td><td>2024</td><td>1</td><td>1</td><td>2</td><td>Mon</td><td>Weekday</td><td>Winter</td><td>NOX               </td><td> 3.7000000</td><td>2024-01-01</td></tr>\n",
       "\t<tr><td>...</td><td>...</td><td>...</td><td>...</td><td>...</td><td>...</td><td>...</td><td>...</td><td>...</td><td>...</td><td>...</td><td>...</td></tr>\n",
       "\t<tr><td>BAS</td><td>2024-12-31 21:00:00</td><td>2024</td><td>12</td><td>31</td><td>21</td><td>Tue</td><td>Weekday</td><td>Winter</td><td>EC                </td><td>    1.200000</td><td>2024-12-31</td></tr>\n",
       "\t<tr><td>BAS</td><td>2024-12-31 21:00:00</td><td>2024</td><td>12</td><td>31</td><td>21</td><td>Tue</td><td>Weekday</td><td>Winter</td><td>CPC               </td><td>15172.200000</td><td>2024-12-31</td></tr>\n",
       "\t<tr><td>BAS</td><td>2024-12-31 21:00:00</td><td>2024</td><td>12</td><td>31</td><td>21</td><td>Tue</td><td>Weekday</td><td>Winter</td><td>avg_wind_speed    </td><td>    2.700000</td><td>2024-12-31</td></tr>\n",
       "\t<tr><td>BAS</td><td>2024-12-31 21:00:00</td><td>2024</td><td>12</td><td>31</td><td>21</td><td>Tue</td><td>Weekday</td><td>Winter</td><td>avg_wind_direction</td><td>  102.500915</td><td>2024-12-31</td></tr>\n",
       "\t<tr><td>BAS</td><td>2024-12-31 22:00:00</td><td>2024</td><td>12</td><td>31</td><td>22</td><td>Tue</td><td>Weekday</td><td>Winter</td><td>O3                </td><td>    2.600000</td><td>2024-12-31</td></tr>\n",
       "\t<tr><td>BAS</td><td>2024-12-31 22:00:00</td><td>2024</td><td>12</td><td>31</td><td>22</td><td>Tue</td><td>Weekday</td><td>Winter</td><td>NO2               </td><td>   34.300000</td><td>2024-12-31</td></tr>\n",
       "\t<tr><td>BAS</td><td>2024-12-31 22:00:00</td><td>2024</td><td>12</td><td>31</td><td>22</td><td>Tue</td><td>Weekday</td><td>Winter</td><td>PM10              </td><td>   36.700000</td><td>2024-12-31</td></tr>\n",
       "\t<tr><td>BAS</td><td>2024-12-31 22:00:00</td><td>2024</td><td>12</td><td>31</td><td>22</td><td>Tue</td><td>Weekday</td><td>Winter</td><td>NOX               </td><td>   48.500000</td><td>2024-12-31</td></tr>\n",
       "\t<tr><td>BAS</td><td>2024-12-31 22:00:00</td><td>2024</td><td>12</td><td>31</td><td>22</td><td>Tue</td><td>Weekday</td><td>Winter</td><td>TEMP              </td><td>   -1.800000</td><td>2024-12-31</td></tr>\n",
       "\t<tr><td>BAS</td><td>2024-12-31 22:00:00</td><td>2024</td><td>12</td><td>31</td><td>22</td><td>Tue</td><td>Weekday</td><td>Winter</td><td>PREC              </td><td>    0.000000</td><td>2024-12-31</td></tr>\n",
       "\t<tr><td>BAS</td><td>2024-12-31 22:00:00</td><td>2024</td><td>12</td><td>31</td><td>22</td><td>Tue</td><td>Weekday</td><td>Winter</td><td>RAD               </td><td>    0.000000</td><td>2024-12-31</td></tr>\n",
       "\t<tr><td>BAS</td><td>2024-12-31 22:00:00</td><td>2024</td><td>12</td><td>31</td><td>22</td><td>Tue</td><td>Weekday</td><td>Winter</td><td>SO2               </td><td>    1.400000</td><td>2024-12-31</td></tr>\n",
       "\t<tr><td>BAS</td><td>2024-12-31 22:00:00</td><td>2024</td><td>12</td><td>31</td><td>22</td><td>Tue</td><td>Weekday</td><td>Winter</td><td>PM2.5             </td><td>   36.300000</td><td>2024-12-31</td></tr>\n",
       "\t<tr><td>BAS</td><td>2024-12-31 22:00:00</td><td>2024</td><td>12</td><td>31</td><td>22</td><td>Tue</td><td>Weekday</td><td>Winter</td><td>EC                </td><td>    1.200000</td><td>2024-12-31</td></tr>\n",
       "\t<tr><td>BAS</td><td>2024-12-31 22:00:00</td><td>2024</td><td>12</td><td>31</td><td>22</td><td>Tue</td><td>Weekday</td><td>Winter</td><td>CPC               </td><td>16183.800000</td><td>2024-12-31</td></tr>\n",
       "\t<tr><td>BAS</td><td>2024-12-31 22:00:00</td><td>2024</td><td>12</td><td>31</td><td>22</td><td>Tue</td><td>Weekday</td><td>Winter</td><td>avg_wind_speed    </td><td>    2.750000</td><td>2024-12-31</td></tr>\n",
       "\t<tr><td>BAS</td><td>2024-12-31 22:00:00</td><td>2024</td><td>12</td><td>31</td><td>22</td><td>Tue</td><td>Weekday</td><td>Winter</td><td>avg_wind_direction</td><td>  106.498805</td><td>2024-12-31</td></tr>\n",
       "\t<tr><td>BAS</td><td>2024-12-31 23:00:00</td><td>2024</td><td>12</td><td>31</td><td>23</td><td>Tue</td><td>Weekday</td><td>Winter</td><td>O3                </td><td>    3.000000</td><td>2024-12-31</td></tr>\n",
       "\t<tr><td>BAS</td><td>2024-12-31 23:00:00</td><td>2024</td><td>12</td><td>31</td><td>23</td><td>Tue</td><td>Weekday</td><td>Winter</td><td>NO2               </td><td>   34.200000</td><td>2024-12-31</td></tr>\n",
       "\t<tr><td>BAS</td><td>2024-12-31 23:00:00</td><td>2024</td><td>12</td><td>31</td><td>23</td><td>Tue</td><td>Weekday</td><td>Winter</td><td>PM10              </td><td>   38.700000</td><td>2024-12-31</td></tr>\n",
       "\t<tr><td>BAS</td><td>2024-12-31 23:00:00</td><td>2024</td><td>12</td><td>31</td><td>23</td><td>Tue</td><td>Weekday</td><td>Winter</td><td>NOX               </td><td>   42.500000</td><td>2024-12-31</td></tr>\n",
       "\t<tr><td>BAS</td><td>2024-12-31 23:00:00</td><td>2024</td><td>12</td><td>31</td><td>23</td><td>Tue</td><td>Weekday</td><td>Winter</td><td>TEMP              </td><td>   -2.100000</td><td>2024-12-31</td></tr>\n",
       "\t<tr><td>BAS</td><td>2024-12-31 23:00:00</td><td>2024</td><td>12</td><td>31</td><td>23</td><td>Tue</td><td>Weekday</td><td>Winter</td><td>PREC              </td><td>    0.000000</td><td>2024-12-31</td></tr>\n",
       "\t<tr><td>BAS</td><td>2024-12-31 23:00:00</td><td>2024</td><td>12</td><td>31</td><td>23</td><td>Tue</td><td>Weekday</td><td>Winter</td><td>RAD               </td><td>    0.000000</td><td>2024-12-31</td></tr>\n",
       "\t<tr><td>BAS</td><td>2024-12-31 23:00:00</td><td>2024</td><td>12</td><td>31</td><td>23</td><td>Tue</td><td>Weekday</td><td>Winter</td><td>SO2               </td><td>    1.300000</td><td>2024-12-31</td></tr>\n",
       "\t<tr><td>BAS</td><td>2024-12-31 23:00:00</td><td>2024</td><td>12</td><td>31</td><td>23</td><td>Tue</td><td>Weekday</td><td>Winter</td><td>PM2.5             </td><td>   38.800000</td><td>2024-12-31</td></tr>\n",
       "\t<tr><td>BAS</td><td>2024-12-31 23:00:00</td><td>2024</td><td>12</td><td>31</td><td>23</td><td>Tue</td><td>Weekday</td><td>Winter</td><td>EC                </td><td>    1.100000</td><td>2024-12-31</td></tr>\n",
       "\t<tr><td>BAS</td><td>2024-12-31 23:00:00</td><td>2024</td><td>12</td><td>31</td><td>23</td><td>Tue</td><td>Weekday</td><td>Winter</td><td>CPC               </td><td>15483.700000</td><td>2024-12-31</td></tr>\n",
       "\t<tr><td>BAS</td><td>2024-12-31 23:00:00</td><td>2024</td><td>12</td><td>31</td><td>23</td><td>Tue</td><td>Weekday</td><td>Winter</td><td>avg_wind_speed    </td><td>    1.616667</td><td>2024-12-31</td></tr>\n",
       "\t<tr><td>BAS</td><td>2024-12-31 23:00:00</td><td>2024</td><td>12</td><td>31</td><td>23</td><td>Tue</td><td>Weekday</td><td>Winter</td><td>avg_wind_direction</td><td>  107.165169</td><td>2024-12-31</td></tr>\n",
       "</tbody>\n",
       "</table>\n"
      ],
      "text/latex": [
       "A tibble: 228384 × 12\n",
       "\\begin{tabular}{llllllllllll}\n",
       " site & datetime & year & month & day & hour & dayofwk & daytype & season & variable & value & datetime1\\\\\n",
       " <chr> & <chr> & <int> & <int> & <int> & <int> & <chr> & <chr> & <chr> & <chr> & <dbl> & <dttm>\\\\\n",
       "\\hline\n",
       "\t DAV & 2024-01-01 00:00:00 & 2024 & 1 & 1 & 0 & Mon & Weekday & Winter & O3                 & 57.7000000 & 2024-01-01\\\\\n",
       "\t DAV & 2024-01-01 00:00:00 & 2024 & 1 & 1 & 0 & Mon & Weekday & Winter & NO2                &  1.9000000 & 2024-01-01\\\\\n",
       "\t DAV & 2024-01-01 00:00:00 & 2024 & 1 & 1 & 0 & Mon & Weekday & Winter & PM10               &  1.2000000 & 2024-01-01\\\\\n",
       "\t DAV & 2024-01-01 00:00:00 & 2024 & 1 & 1 & 0 & Mon & Weekday & Winter & NOX                &  1.9000000 & 2024-01-01\\\\\n",
       "\t DAV & 2024-01-01 00:00:00 & 2024 & 1 & 1 & 0 & Mon & Weekday & Winter & TEMP               & -2.2000000 & 2024-01-01\\\\\n",
       "\t DAV & 2024-01-01 00:00:00 & 2024 & 1 & 1 & 0 & Mon & Weekday & Winter & PREC               &  0.0000000 & 2024-01-01\\\\\n",
       "\t DAV & 2024-01-01 00:00:00 & 2024 & 1 & 1 & 0 & Mon & Weekday & Winter & RAD                & -0.6000000 & 2024-01-01\\\\\n",
       "\t DAV & 2024-01-01 00:00:00 & 2024 & 1 & 1 & 0 & Mon & Weekday & Winter & SO2                &         NA & 2024-01-01\\\\\n",
       "\t DAV & 2024-01-01 00:00:00 & 2024 & 1 & 1 & 0 & Mon & Weekday & Winter & PM2.5              &         NA & 2024-01-01\\\\\n",
       "\t DAV & 2024-01-01 00:00:00 & 2024 & 1 & 1 & 0 & Mon & Weekday & Winter & EC                 &         NA & 2024-01-01\\\\\n",
       "\t DAV & 2024-01-01 00:00:00 & 2024 & 1 & 1 & 0 & Mon & Weekday & Winter & CPC                &         NA & 2024-01-01\\\\\n",
       "\t DAV & 2024-01-01 00:00:00 & 2024 & 1 & 1 & 0 & Mon & Weekday & Winter & avg\\_wind\\_speed     &  1.0980000 & 2024-01-01\\\\\n",
       "\t DAV & 2024-01-01 00:00:00 & 2024 & 1 & 1 & 0 & Mon & Weekday & Winter & avg\\_wind\\_direction & 36.2579399 & 2024-01-01\\\\\n",
       "\t DAV & 2024-01-01 01:00:00 & 2024 & 1 & 1 & 1 & Mon & Weekday & Winter & O3                 & 55.2000000 & 2024-01-01\\\\\n",
       "\t DAV & 2024-01-01 01:00:00 & 2024 & 1 & 1 & 1 & Mon & Weekday & Winter & NO2                &  2.1000000 & 2024-01-01\\\\\n",
       "\t DAV & 2024-01-01 01:00:00 & 2024 & 1 & 1 & 1 & Mon & Weekday & Winter & PM10               &  1.5000000 & 2024-01-01\\\\\n",
       "\t DAV & 2024-01-01 01:00:00 & 2024 & 1 & 1 & 1 & Mon & Weekday & Winter & NOX                &  2.1000000 & 2024-01-01\\\\\n",
       "\t DAV & 2024-01-01 01:00:00 & 2024 & 1 & 1 & 1 & Mon & Weekday & Winter & TEMP               & -2.8000000 & 2024-01-01\\\\\n",
       "\t DAV & 2024-01-01 01:00:00 & 2024 & 1 & 1 & 1 & Mon & Weekday & Winter & PREC               &  0.0000000 & 2024-01-01\\\\\n",
       "\t DAV & 2024-01-01 01:00:00 & 2024 & 1 & 1 & 1 & Mon & Weekday & Winter & RAD                & -0.7000000 & 2024-01-01\\\\\n",
       "\t DAV & 2024-01-01 01:00:00 & 2024 & 1 & 1 & 1 & Mon & Weekday & Winter & SO2                &         NA & 2024-01-01\\\\\n",
       "\t DAV & 2024-01-01 01:00:00 & 2024 & 1 & 1 & 1 & Mon & Weekday & Winter & PM2.5              &         NA & 2024-01-01\\\\\n",
       "\t DAV & 2024-01-01 01:00:00 & 2024 & 1 & 1 & 1 & Mon & Weekday & Winter & EC                 &         NA & 2024-01-01\\\\\n",
       "\t DAV & 2024-01-01 01:00:00 & 2024 & 1 & 1 & 1 & Mon & Weekday & Winter & CPC                &         NA & 2024-01-01\\\\\n",
       "\t DAV & 2024-01-01 01:00:00 & 2024 & 1 & 1 & 1 & Mon & Weekday & Winter & avg\\_wind\\_speed     &  0.9216667 & 2024-01-01\\\\\n",
       "\t DAV & 2024-01-01 01:00:00 & 2024 & 1 & 1 & 1 & Mon & Weekday & Winter & avg\\_wind\\_direction & 40.7135091 & 2024-01-01\\\\\n",
       "\t DAV & 2024-01-01 02:00:00 & 2024 & 1 & 1 & 2 & Mon & Weekday & Winter & O3                 & 49.9000000 & 2024-01-01\\\\\n",
       "\t DAV & 2024-01-01 02:00:00 & 2024 & 1 & 1 & 2 & Mon & Weekday & Winter & NO2                &  3.7000000 & 2024-01-01\\\\\n",
       "\t DAV & 2024-01-01 02:00:00 & 2024 & 1 & 1 & 2 & Mon & Weekday & Winter & PM10               &  2.2000000 & 2024-01-01\\\\\n",
       "\t DAV & 2024-01-01 02:00:00 & 2024 & 1 & 1 & 2 & Mon & Weekday & Winter & NOX                &  3.7000000 & 2024-01-01\\\\\n",
       "\t ... & ... & ... & ... & ... & ... & ... & ... & ... & ... & ... & ...\\\\\n",
       "\t BAS & 2024-12-31 21:00:00 & 2024 & 12 & 31 & 21 & Tue & Weekday & Winter & EC                 &     1.200000 & 2024-12-31\\\\\n",
       "\t BAS & 2024-12-31 21:00:00 & 2024 & 12 & 31 & 21 & Tue & Weekday & Winter & CPC                & 15172.200000 & 2024-12-31\\\\\n",
       "\t BAS & 2024-12-31 21:00:00 & 2024 & 12 & 31 & 21 & Tue & Weekday & Winter & avg\\_wind\\_speed     &     2.700000 & 2024-12-31\\\\\n",
       "\t BAS & 2024-12-31 21:00:00 & 2024 & 12 & 31 & 21 & Tue & Weekday & Winter & avg\\_wind\\_direction &   102.500915 & 2024-12-31\\\\\n",
       "\t BAS & 2024-12-31 22:00:00 & 2024 & 12 & 31 & 22 & Tue & Weekday & Winter & O3                 &     2.600000 & 2024-12-31\\\\\n",
       "\t BAS & 2024-12-31 22:00:00 & 2024 & 12 & 31 & 22 & Tue & Weekday & Winter & NO2                &    34.300000 & 2024-12-31\\\\\n",
       "\t BAS & 2024-12-31 22:00:00 & 2024 & 12 & 31 & 22 & Tue & Weekday & Winter & PM10               &    36.700000 & 2024-12-31\\\\\n",
       "\t BAS & 2024-12-31 22:00:00 & 2024 & 12 & 31 & 22 & Tue & Weekday & Winter & NOX                &    48.500000 & 2024-12-31\\\\\n",
       "\t BAS & 2024-12-31 22:00:00 & 2024 & 12 & 31 & 22 & Tue & Weekday & Winter & TEMP               &    -1.800000 & 2024-12-31\\\\\n",
       "\t BAS & 2024-12-31 22:00:00 & 2024 & 12 & 31 & 22 & Tue & Weekday & Winter & PREC               &     0.000000 & 2024-12-31\\\\\n",
       "\t BAS & 2024-12-31 22:00:00 & 2024 & 12 & 31 & 22 & Tue & Weekday & Winter & RAD                &     0.000000 & 2024-12-31\\\\\n",
       "\t BAS & 2024-12-31 22:00:00 & 2024 & 12 & 31 & 22 & Tue & Weekday & Winter & SO2                &     1.400000 & 2024-12-31\\\\\n",
       "\t BAS & 2024-12-31 22:00:00 & 2024 & 12 & 31 & 22 & Tue & Weekday & Winter & PM2.5              &    36.300000 & 2024-12-31\\\\\n",
       "\t BAS & 2024-12-31 22:00:00 & 2024 & 12 & 31 & 22 & Tue & Weekday & Winter & EC                 &     1.200000 & 2024-12-31\\\\\n",
       "\t BAS & 2024-12-31 22:00:00 & 2024 & 12 & 31 & 22 & Tue & Weekday & Winter & CPC                & 16183.800000 & 2024-12-31\\\\\n",
       "\t BAS & 2024-12-31 22:00:00 & 2024 & 12 & 31 & 22 & Tue & Weekday & Winter & avg\\_wind\\_speed     &     2.750000 & 2024-12-31\\\\\n",
       "\t BAS & 2024-12-31 22:00:00 & 2024 & 12 & 31 & 22 & Tue & Weekday & Winter & avg\\_wind\\_direction &   106.498805 & 2024-12-31\\\\\n",
       "\t BAS & 2024-12-31 23:00:00 & 2024 & 12 & 31 & 23 & Tue & Weekday & Winter & O3                 &     3.000000 & 2024-12-31\\\\\n",
       "\t BAS & 2024-12-31 23:00:00 & 2024 & 12 & 31 & 23 & Tue & Weekday & Winter & NO2                &    34.200000 & 2024-12-31\\\\\n",
       "\t BAS & 2024-12-31 23:00:00 & 2024 & 12 & 31 & 23 & Tue & Weekday & Winter & PM10               &    38.700000 & 2024-12-31\\\\\n",
       "\t BAS & 2024-12-31 23:00:00 & 2024 & 12 & 31 & 23 & Tue & Weekday & Winter & NOX                &    42.500000 & 2024-12-31\\\\\n",
       "\t BAS & 2024-12-31 23:00:00 & 2024 & 12 & 31 & 23 & Tue & Weekday & Winter & TEMP               &    -2.100000 & 2024-12-31\\\\\n",
       "\t BAS & 2024-12-31 23:00:00 & 2024 & 12 & 31 & 23 & Tue & Weekday & Winter & PREC               &     0.000000 & 2024-12-31\\\\\n",
       "\t BAS & 2024-12-31 23:00:00 & 2024 & 12 & 31 & 23 & Tue & Weekday & Winter & RAD                &     0.000000 & 2024-12-31\\\\\n",
       "\t BAS & 2024-12-31 23:00:00 & 2024 & 12 & 31 & 23 & Tue & Weekday & Winter & SO2                &     1.300000 & 2024-12-31\\\\\n",
       "\t BAS & 2024-12-31 23:00:00 & 2024 & 12 & 31 & 23 & Tue & Weekday & Winter & PM2.5              &    38.800000 & 2024-12-31\\\\\n",
       "\t BAS & 2024-12-31 23:00:00 & 2024 & 12 & 31 & 23 & Tue & Weekday & Winter & EC                 &     1.100000 & 2024-12-31\\\\\n",
       "\t BAS & 2024-12-31 23:00:00 & 2024 & 12 & 31 & 23 & Tue & Weekday & Winter & CPC                & 15483.700000 & 2024-12-31\\\\\n",
       "\t BAS & 2024-12-31 23:00:00 & 2024 & 12 & 31 & 23 & Tue & Weekday & Winter & avg\\_wind\\_speed     &     1.616667 & 2024-12-31\\\\\n",
       "\t BAS & 2024-12-31 23:00:00 & 2024 & 12 & 31 & 23 & Tue & Weekday & Winter & avg\\_wind\\_direction &   107.165169 & 2024-12-31\\\\\n",
       "\\end{tabular}\n"
      ],
      "text/markdown": [
       "\n",
       "A tibble: 228384 × 12\n",
       "\n",
       "| site &lt;chr&gt; | datetime &lt;chr&gt; | year &lt;int&gt; | month &lt;int&gt; | day &lt;int&gt; | hour &lt;int&gt; | dayofwk &lt;chr&gt; | daytype &lt;chr&gt; | season &lt;chr&gt; | variable &lt;chr&gt; | value &lt;dbl&gt; | datetime1 &lt;dttm&gt; |\n",
       "|---|---|---|---|---|---|---|---|---|---|---|---|\n",
       "| DAV | 2024-01-01 00:00:00 | 2024 | 1 | 1 | 0 | Mon | Weekday | Winter | O3                 | 57.7000000 | 2024-01-01 |\n",
       "| DAV | 2024-01-01 00:00:00 | 2024 | 1 | 1 | 0 | Mon | Weekday | Winter | NO2                |  1.9000000 | 2024-01-01 |\n",
       "| DAV | 2024-01-01 00:00:00 | 2024 | 1 | 1 | 0 | Mon | Weekday | Winter | PM10               |  1.2000000 | 2024-01-01 |\n",
       "| DAV | 2024-01-01 00:00:00 | 2024 | 1 | 1 | 0 | Mon | Weekday | Winter | NOX                |  1.9000000 | 2024-01-01 |\n",
       "| DAV | 2024-01-01 00:00:00 | 2024 | 1 | 1 | 0 | Mon | Weekday | Winter | TEMP               | -2.2000000 | 2024-01-01 |\n",
       "| DAV | 2024-01-01 00:00:00 | 2024 | 1 | 1 | 0 | Mon | Weekday | Winter | PREC               |  0.0000000 | 2024-01-01 |\n",
       "| DAV | 2024-01-01 00:00:00 | 2024 | 1 | 1 | 0 | Mon | Weekday | Winter | RAD                | -0.6000000 | 2024-01-01 |\n",
       "| DAV | 2024-01-01 00:00:00 | 2024 | 1 | 1 | 0 | Mon | Weekday | Winter | SO2                |         NA | 2024-01-01 |\n",
       "| DAV | 2024-01-01 00:00:00 | 2024 | 1 | 1 | 0 | Mon | Weekday | Winter | PM2.5              |         NA | 2024-01-01 |\n",
       "| DAV | 2024-01-01 00:00:00 | 2024 | 1 | 1 | 0 | Mon | Weekday | Winter | EC                 |         NA | 2024-01-01 |\n",
       "| DAV | 2024-01-01 00:00:00 | 2024 | 1 | 1 | 0 | Mon | Weekday | Winter | CPC                |         NA | 2024-01-01 |\n",
       "| DAV | 2024-01-01 00:00:00 | 2024 | 1 | 1 | 0 | Mon | Weekday | Winter | avg_wind_speed     |  1.0980000 | 2024-01-01 |\n",
       "| DAV | 2024-01-01 00:00:00 | 2024 | 1 | 1 | 0 | Mon | Weekday | Winter | avg_wind_direction | 36.2579399 | 2024-01-01 |\n",
       "| DAV | 2024-01-01 01:00:00 | 2024 | 1 | 1 | 1 | Mon | Weekday | Winter | O3                 | 55.2000000 | 2024-01-01 |\n",
       "| DAV | 2024-01-01 01:00:00 | 2024 | 1 | 1 | 1 | Mon | Weekday | Winter | NO2                |  2.1000000 | 2024-01-01 |\n",
       "| DAV | 2024-01-01 01:00:00 | 2024 | 1 | 1 | 1 | Mon | Weekday | Winter | PM10               |  1.5000000 | 2024-01-01 |\n",
       "| DAV | 2024-01-01 01:00:00 | 2024 | 1 | 1 | 1 | Mon | Weekday | Winter | NOX                |  2.1000000 | 2024-01-01 |\n",
       "| DAV | 2024-01-01 01:00:00 | 2024 | 1 | 1 | 1 | Mon | Weekday | Winter | TEMP               | -2.8000000 | 2024-01-01 |\n",
       "| DAV | 2024-01-01 01:00:00 | 2024 | 1 | 1 | 1 | Mon | Weekday | Winter | PREC               |  0.0000000 | 2024-01-01 |\n",
       "| DAV | 2024-01-01 01:00:00 | 2024 | 1 | 1 | 1 | Mon | Weekday | Winter | RAD                | -0.7000000 | 2024-01-01 |\n",
       "| DAV | 2024-01-01 01:00:00 | 2024 | 1 | 1 | 1 | Mon | Weekday | Winter | SO2                |         NA | 2024-01-01 |\n",
       "| DAV | 2024-01-01 01:00:00 | 2024 | 1 | 1 | 1 | Mon | Weekday | Winter | PM2.5              |         NA | 2024-01-01 |\n",
       "| DAV | 2024-01-01 01:00:00 | 2024 | 1 | 1 | 1 | Mon | Weekday | Winter | EC                 |         NA | 2024-01-01 |\n",
       "| DAV | 2024-01-01 01:00:00 | 2024 | 1 | 1 | 1 | Mon | Weekday | Winter | CPC                |         NA | 2024-01-01 |\n",
       "| DAV | 2024-01-01 01:00:00 | 2024 | 1 | 1 | 1 | Mon | Weekday | Winter | avg_wind_speed     |  0.9216667 | 2024-01-01 |\n",
       "| DAV | 2024-01-01 01:00:00 | 2024 | 1 | 1 | 1 | Mon | Weekday | Winter | avg_wind_direction | 40.7135091 | 2024-01-01 |\n",
       "| DAV | 2024-01-01 02:00:00 | 2024 | 1 | 1 | 2 | Mon | Weekday | Winter | O3                 | 49.9000000 | 2024-01-01 |\n",
       "| DAV | 2024-01-01 02:00:00 | 2024 | 1 | 1 | 2 | Mon | Weekday | Winter | NO2                |  3.7000000 | 2024-01-01 |\n",
       "| DAV | 2024-01-01 02:00:00 | 2024 | 1 | 1 | 2 | Mon | Weekday | Winter | PM10               |  2.2000000 | 2024-01-01 |\n",
       "| DAV | 2024-01-01 02:00:00 | 2024 | 1 | 1 | 2 | Mon | Weekday | Winter | NOX                |  3.7000000 | 2024-01-01 |\n",
       "| ... | ... | ... | ... | ... | ... | ... | ... | ... | ... | ... | ... |\n",
       "| BAS | 2024-12-31 21:00:00 | 2024 | 12 | 31 | 21 | Tue | Weekday | Winter | EC                 |     1.200000 | 2024-12-31 |\n",
       "| BAS | 2024-12-31 21:00:00 | 2024 | 12 | 31 | 21 | Tue | Weekday | Winter | CPC                | 15172.200000 | 2024-12-31 |\n",
       "| BAS | 2024-12-31 21:00:00 | 2024 | 12 | 31 | 21 | Tue | Weekday | Winter | avg_wind_speed     |     2.700000 | 2024-12-31 |\n",
       "| BAS | 2024-12-31 21:00:00 | 2024 | 12 | 31 | 21 | Tue | Weekday | Winter | avg_wind_direction |   102.500915 | 2024-12-31 |\n",
       "| BAS | 2024-12-31 22:00:00 | 2024 | 12 | 31 | 22 | Tue | Weekday | Winter | O3                 |     2.600000 | 2024-12-31 |\n",
       "| BAS | 2024-12-31 22:00:00 | 2024 | 12 | 31 | 22 | Tue | Weekday | Winter | NO2                |    34.300000 | 2024-12-31 |\n",
       "| BAS | 2024-12-31 22:00:00 | 2024 | 12 | 31 | 22 | Tue | Weekday | Winter | PM10               |    36.700000 | 2024-12-31 |\n",
       "| BAS | 2024-12-31 22:00:00 | 2024 | 12 | 31 | 22 | Tue | Weekday | Winter | NOX                |    48.500000 | 2024-12-31 |\n",
       "| BAS | 2024-12-31 22:00:00 | 2024 | 12 | 31 | 22 | Tue | Weekday | Winter | TEMP               |    -1.800000 | 2024-12-31 |\n",
       "| BAS | 2024-12-31 22:00:00 | 2024 | 12 | 31 | 22 | Tue | Weekday | Winter | PREC               |     0.000000 | 2024-12-31 |\n",
       "| BAS | 2024-12-31 22:00:00 | 2024 | 12 | 31 | 22 | Tue | Weekday | Winter | RAD                |     0.000000 | 2024-12-31 |\n",
       "| BAS | 2024-12-31 22:00:00 | 2024 | 12 | 31 | 22 | Tue | Weekday | Winter | SO2                |     1.400000 | 2024-12-31 |\n",
       "| BAS | 2024-12-31 22:00:00 | 2024 | 12 | 31 | 22 | Tue | Weekday | Winter | PM2.5              |    36.300000 | 2024-12-31 |\n",
       "| BAS | 2024-12-31 22:00:00 | 2024 | 12 | 31 | 22 | Tue | Weekday | Winter | EC                 |     1.200000 | 2024-12-31 |\n",
       "| BAS | 2024-12-31 22:00:00 | 2024 | 12 | 31 | 22 | Tue | Weekday | Winter | CPC                | 16183.800000 | 2024-12-31 |\n",
       "| BAS | 2024-12-31 22:00:00 | 2024 | 12 | 31 | 22 | Tue | Weekday | Winter | avg_wind_speed     |     2.750000 | 2024-12-31 |\n",
       "| BAS | 2024-12-31 22:00:00 | 2024 | 12 | 31 | 22 | Tue | Weekday | Winter | avg_wind_direction |   106.498805 | 2024-12-31 |\n",
       "| BAS | 2024-12-31 23:00:00 | 2024 | 12 | 31 | 23 | Tue | Weekday | Winter | O3                 |     3.000000 | 2024-12-31 |\n",
       "| BAS | 2024-12-31 23:00:00 | 2024 | 12 | 31 | 23 | Tue | Weekday | Winter | NO2                |    34.200000 | 2024-12-31 |\n",
       "| BAS | 2024-12-31 23:00:00 | 2024 | 12 | 31 | 23 | Tue | Weekday | Winter | PM10               |    38.700000 | 2024-12-31 |\n",
       "| BAS | 2024-12-31 23:00:00 | 2024 | 12 | 31 | 23 | Tue | Weekday | Winter | NOX                |    42.500000 | 2024-12-31 |\n",
       "| BAS | 2024-12-31 23:00:00 | 2024 | 12 | 31 | 23 | Tue | Weekday | Winter | TEMP               |    -2.100000 | 2024-12-31 |\n",
       "| BAS | 2024-12-31 23:00:00 | 2024 | 12 | 31 | 23 | Tue | Weekday | Winter | PREC               |     0.000000 | 2024-12-31 |\n",
       "| BAS | 2024-12-31 23:00:00 | 2024 | 12 | 31 | 23 | Tue | Weekday | Winter | RAD                |     0.000000 | 2024-12-31 |\n",
       "| BAS | 2024-12-31 23:00:00 | 2024 | 12 | 31 | 23 | Tue | Weekday | Winter | SO2                |     1.300000 | 2024-12-31 |\n",
       "| BAS | 2024-12-31 23:00:00 | 2024 | 12 | 31 | 23 | Tue | Weekday | Winter | PM2.5              |    38.800000 | 2024-12-31 |\n",
       "| BAS | 2024-12-31 23:00:00 | 2024 | 12 | 31 | 23 | Tue | Weekday | Winter | EC                 |     1.100000 | 2024-12-31 |\n",
       "| BAS | 2024-12-31 23:00:00 | 2024 | 12 | 31 | 23 | Tue | Weekday | Winter | CPC                | 15483.700000 | 2024-12-31 |\n",
       "| BAS | 2024-12-31 23:00:00 | 2024 | 12 | 31 | 23 | Tue | Weekday | Winter | avg_wind_speed     |     1.616667 | 2024-12-31 |\n",
       "| BAS | 2024-12-31 23:00:00 | 2024 | 12 | 31 | 23 | Tue | Weekday | Winter | avg_wind_direction |   107.165169 | 2024-12-31 |\n",
       "\n"
      ],
      "text/plain": [
       "       site datetime            year month day hour dayofwk daytype season\n",
       "1      DAV  2024-01-01 00:00:00 2024 1     1   0    Mon     Weekday Winter\n",
       "2      DAV  2024-01-01 00:00:00 2024 1     1   0    Mon     Weekday Winter\n",
       "3      DAV  2024-01-01 00:00:00 2024 1     1   0    Mon     Weekday Winter\n",
       "4      DAV  2024-01-01 00:00:00 2024 1     1   0    Mon     Weekday Winter\n",
       "5      DAV  2024-01-01 00:00:00 2024 1     1   0    Mon     Weekday Winter\n",
       "6      DAV  2024-01-01 00:00:00 2024 1     1   0    Mon     Weekday Winter\n",
       "7      DAV  2024-01-01 00:00:00 2024 1     1   0    Mon     Weekday Winter\n",
       "8      DAV  2024-01-01 00:00:00 2024 1     1   0    Mon     Weekday Winter\n",
       "9      DAV  2024-01-01 00:00:00 2024 1     1   0    Mon     Weekday Winter\n",
       "10     DAV  2024-01-01 00:00:00 2024 1     1   0    Mon     Weekday Winter\n",
       "11     DAV  2024-01-01 00:00:00 2024 1     1   0    Mon     Weekday Winter\n",
       "12     DAV  2024-01-01 00:00:00 2024 1     1   0    Mon     Weekday Winter\n",
       "13     DAV  2024-01-01 00:00:00 2024 1     1   0    Mon     Weekday Winter\n",
       "14     DAV  2024-01-01 01:00:00 2024 1     1   1    Mon     Weekday Winter\n",
       "15     DAV  2024-01-01 01:00:00 2024 1     1   1    Mon     Weekday Winter\n",
       "16     DAV  2024-01-01 01:00:00 2024 1     1   1    Mon     Weekday Winter\n",
       "17     DAV  2024-01-01 01:00:00 2024 1     1   1    Mon     Weekday Winter\n",
       "18     DAV  2024-01-01 01:00:00 2024 1     1   1    Mon     Weekday Winter\n",
       "19     DAV  2024-01-01 01:00:00 2024 1     1   1    Mon     Weekday Winter\n",
       "20     DAV  2024-01-01 01:00:00 2024 1     1   1    Mon     Weekday Winter\n",
       "21     DAV  2024-01-01 01:00:00 2024 1     1   1    Mon     Weekday Winter\n",
       "22     DAV  2024-01-01 01:00:00 2024 1     1   1    Mon     Weekday Winter\n",
       "23     DAV  2024-01-01 01:00:00 2024 1     1   1    Mon     Weekday Winter\n",
       "24     DAV  2024-01-01 01:00:00 2024 1     1   1    Mon     Weekday Winter\n",
       "25     DAV  2024-01-01 01:00:00 2024 1     1   1    Mon     Weekday Winter\n",
       "26     DAV  2024-01-01 01:00:00 2024 1     1   1    Mon     Weekday Winter\n",
       "27     DAV  2024-01-01 02:00:00 2024 1     1   2    Mon     Weekday Winter\n",
       "28     DAV  2024-01-01 02:00:00 2024 1     1   2    Mon     Weekday Winter\n",
       "29     DAV  2024-01-01 02:00:00 2024 1     1   2    Mon     Weekday Winter\n",
       "30     DAV  2024-01-01 02:00:00 2024 1     1   2    Mon     Weekday Winter\n",
       "...    ...  ...                 ...  ...   ... ...  ...     ...     ...   \n",
       "228355 BAS  2024-12-31 21:00:00 2024 12    31  21   Tue     Weekday Winter\n",
       "228356 BAS  2024-12-31 21:00:00 2024 12    31  21   Tue     Weekday Winter\n",
       "228357 BAS  2024-12-31 21:00:00 2024 12    31  21   Tue     Weekday Winter\n",
       "228358 BAS  2024-12-31 21:00:00 2024 12    31  21   Tue     Weekday Winter\n",
       "228359 BAS  2024-12-31 22:00:00 2024 12    31  22   Tue     Weekday Winter\n",
       "228360 BAS  2024-12-31 22:00:00 2024 12    31  22   Tue     Weekday Winter\n",
       "228361 BAS  2024-12-31 22:00:00 2024 12    31  22   Tue     Weekday Winter\n",
       "228362 BAS  2024-12-31 22:00:00 2024 12    31  22   Tue     Weekday Winter\n",
       "228363 BAS  2024-12-31 22:00:00 2024 12    31  22   Tue     Weekday Winter\n",
       "228364 BAS  2024-12-31 22:00:00 2024 12    31  22   Tue     Weekday Winter\n",
       "228365 BAS  2024-12-31 22:00:00 2024 12    31  22   Tue     Weekday Winter\n",
       "228366 BAS  2024-12-31 22:00:00 2024 12    31  22   Tue     Weekday Winter\n",
       "228367 BAS  2024-12-31 22:00:00 2024 12    31  22   Tue     Weekday Winter\n",
       "228368 BAS  2024-12-31 22:00:00 2024 12    31  22   Tue     Weekday Winter\n",
       "228369 BAS  2024-12-31 22:00:00 2024 12    31  22   Tue     Weekday Winter\n",
       "228370 BAS  2024-12-31 22:00:00 2024 12    31  22   Tue     Weekday Winter\n",
       "228371 BAS  2024-12-31 22:00:00 2024 12    31  22   Tue     Weekday Winter\n",
       "228372 BAS  2024-12-31 23:00:00 2024 12    31  23   Tue     Weekday Winter\n",
       "228373 BAS  2024-12-31 23:00:00 2024 12    31  23   Tue     Weekday Winter\n",
       "228374 BAS  2024-12-31 23:00:00 2024 12    31  23   Tue     Weekday Winter\n",
       "228375 BAS  2024-12-31 23:00:00 2024 12    31  23   Tue     Weekday Winter\n",
       "228376 BAS  2024-12-31 23:00:00 2024 12    31  23   Tue     Weekday Winter\n",
       "228377 BAS  2024-12-31 23:00:00 2024 12    31  23   Tue     Weekday Winter\n",
       "228378 BAS  2024-12-31 23:00:00 2024 12    31  23   Tue     Weekday Winter\n",
       "228379 BAS  2024-12-31 23:00:00 2024 12    31  23   Tue     Weekday Winter\n",
       "228380 BAS  2024-12-31 23:00:00 2024 12    31  23   Tue     Weekday Winter\n",
       "228381 BAS  2024-12-31 23:00:00 2024 12    31  23   Tue     Weekday Winter\n",
       "228382 BAS  2024-12-31 23:00:00 2024 12    31  23   Tue     Weekday Winter\n",
       "228383 BAS  2024-12-31 23:00:00 2024 12    31  23   Tue     Weekday Winter\n",
       "228384 BAS  2024-12-31 23:00:00 2024 12    31  23   Tue     Weekday Winter\n",
       "       variable           value        datetime1 \n",
       "1      O3                 57.7000000   2024-01-01\n",
       "2      NO2                 1.9000000   2024-01-01\n",
       "3      PM10                1.2000000   2024-01-01\n",
       "4      NOX                 1.9000000   2024-01-01\n",
       "5      TEMP               -2.2000000   2024-01-01\n",
       "6      PREC                0.0000000   2024-01-01\n",
       "7      RAD                -0.6000000   2024-01-01\n",
       "8      SO2                        NA   2024-01-01\n",
       "9      PM2.5                      NA   2024-01-01\n",
       "10     EC                         NA   2024-01-01\n",
       "11     CPC                        NA   2024-01-01\n",
       "12     avg_wind_speed      1.0980000   2024-01-01\n",
       "13     avg_wind_direction 36.2579399   2024-01-01\n",
       "14     O3                 55.2000000   2024-01-01\n",
       "15     NO2                 2.1000000   2024-01-01\n",
       "16     PM10                1.5000000   2024-01-01\n",
       "17     NOX                 2.1000000   2024-01-01\n",
       "18     TEMP               -2.8000000   2024-01-01\n",
       "19     PREC                0.0000000   2024-01-01\n",
       "20     RAD                -0.7000000   2024-01-01\n",
       "21     SO2                        NA   2024-01-01\n",
       "22     PM2.5                      NA   2024-01-01\n",
       "23     EC                         NA   2024-01-01\n",
       "24     CPC                        NA   2024-01-01\n",
       "25     avg_wind_speed      0.9216667   2024-01-01\n",
       "26     avg_wind_direction 40.7135091   2024-01-01\n",
       "27     O3                 49.9000000   2024-01-01\n",
       "28     NO2                 3.7000000   2024-01-01\n",
       "29     PM10                2.2000000   2024-01-01\n",
       "30     NOX                 3.7000000   2024-01-01\n",
       "...    ...                ...          ...       \n",
       "228355 EC                     1.200000 2024-12-31\n",
       "228356 CPC                15172.200000 2024-12-31\n",
       "228357 avg_wind_speed         2.700000 2024-12-31\n",
       "228358 avg_wind_direction   102.500915 2024-12-31\n",
       "228359 O3                     2.600000 2024-12-31\n",
       "228360 NO2                   34.300000 2024-12-31\n",
       "228361 PM10                  36.700000 2024-12-31\n",
       "228362 NOX                   48.500000 2024-12-31\n",
       "228363 TEMP                  -1.800000 2024-12-31\n",
       "228364 PREC                   0.000000 2024-12-31\n",
       "228365 RAD                    0.000000 2024-12-31\n",
       "228366 SO2                    1.400000 2024-12-31\n",
       "228367 PM2.5                 36.300000 2024-12-31\n",
       "228368 EC                     1.200000 2024-12-31\n",
       "228369 CPC                16183.800000 2024-12-31\n",
       "228370 avg_wind_speed         2.750000 2024-12-31\n",
       "228371 avg_wind_direction   106.498805 2024-12-31\n",
       "228372 O3                     3.000000 2024-12-31\n",
       "228373 NO2                   34.200000 2024-12-31\n",
       "228374 PM10                  38.700000 2024-12-31\n",
       "228375 NOX                   42.500000 2024-12-31\n",
       "228376 TEMP                  -2.100000 2024-12-31\n",
       "228377 PREC                   0.000000 2024-12-31\n",
       "228378 RAD                    0.000000 2024-12-31\n",
       "228379 SO2                    1.300000 2024-12-31\n",
       "228380 PM2.5                 38.800000 2024-12-31\n",
       "228381 EC                     1.100000 2024-12-31\n",
       "228382 CPC                15483.700000 2024-12-31\n",
       "228383 avg_wind_speed         1.616667 2024-12-31\n",
       "228384 avg_wind_direction   107.165169 2024-12-31"
      ]
     },
     "metadata": {},
     "output_type": "display_data"
    }
   ],
   "source": [
    "all_data_lf$datetime1 <- as.POSIXct(all_data_lf$datetime)\n",
    "all_data_lf"
   ]
  },
  {
   "cell_type": "code",
   "execution_count": 65,
   "id": "58c34533-cf84-4fd1-9a52-2cd925a67213",
   "metadata": {},
   "outputs": [
    {
     "data": {
      "image/png": "[encoded data removed]",
      "text/plain": [
       "plot without title"
      ]
     },
     "metadata": {
      "image/png": {
       "height": 420,
       "width": 420
      }
     },
     "output_type": "display_data"
    }
   ],
   "source": [
    "  ggplot(all_data_lf)+                                        # `lf` is the data frame\n",
    "  facet_grid(variable~site, scale=\"free_y\")+         # panels created out of these variables\n",
    "  geom_line(aes(datetime1, value, color=site))+       # plot `value` vs. `time` as lines\n",
    "  scale_x_datetime(\"2024\", date_labels = \"%b\") +\n",
    "  theme(axis.text.x=element_text(angle=30, hjust=1)) # rotate x-axis labels\n",
    "\n",
    "## geom_line counts the segments and not the actual number of NA values removed"
   ]
  },
  {
   "cell_type": "code",
   "execution_count": 2,
   "id": "f2ec5c5b-cd0b-40d2-8dde-923666268507",
   "metadata": {},
   "outputs": [
    {
     "ename": "ERROR",
     "evalue": "Error in all_data_lf %>% filter(variable == \"NOX\", site == \"DAV\", month == : impossible de trouver la fonction \"%>%\"\n",
     "output_type": "error",
     "traceback": [
      "Error in all_data_lf %>% filter(variable == \"NOX\", site == \"DAV\", month == : impossible de trouver la fonction \"%>%\"\nTraceback:\n"
     ]
    }
   ],
   "source": [
    "plot <-all_data_lf %>%\n",
    " filter(variable==\"NOX\", site == \"DAV\", month==1)%>%# `lf` is the data frame\n",
    "ggplot+\n",
    "geom_line(aes(datetime1, value, color=site))+       # plot `value` vs. `time` as lines\n",
    "  scale_x_datetime(date_labels = \"%d\", date_breaks = \"1 day\") +\n",
    "  theme(axis.text.x=element_text(angle=30, hjust=1))+ # rotate x-axis labels\n",
    "labs( \n",
    "    x= \"days\", \n",
    "    y = \"NOX\" )\n",
    "plot\n",
    "## geom_line counts the segments and not the actual number of NA values removed"
   ]
  },
  {
   "cell_type": "markdown",
   "id": "97ef5e1a-dc99-4925-9c80-9e3356b4a245",
   "metadata": {},
   "source": [
    "## function that allows to extract dates of extreme values "
   ]
  },
  {
   "cell_type": "code",
   "execution_count": 80,
   "id": "43cb07ae-cc18-4809-a58c-1d892662bdb7",
   "metadata": {},
   "outputs": [
    {
     "name": "stdout",
     "output_type": "stream",
     "text": [
      "                  6.8                   7.3                   5.6 \n",
      "\"2024-03-15 09:00:00\" \"2024-04-14 07:00:00\" \"2024-05-14 07:00:00\" \n",
      "                 10.9                  13.2                   7.7 \n",
      "\"2024-05-30 02:00:00\" \"2024-08-01 21:00:00\" \"2024-09-15 18:00:00\" \n",
      "                 22.7 \n",
      "\"2024-11-05 15:00:00\" \n"
     ]
    }
   ],
   "source": [
    "library(dplyr)\n",
    "\n",
    "high_SO2_dates <- all_data_lf %>%\n",
    "  filter(variable == \"SO2\", value > 5) %>%\n",
    "  pull(datetime, value)  # or select(datetime1) if you want a data frame\n",
    "\n",
    "print(high_SO2_dates)\n"
   ]
  },
  {
   "cell_type": "code",
   "execution_count": 81,
   "id": "cb7bd730-9eb4-45b6-99ce-739fc2c3369e",
   "metadata": {},
   "outputs": [
    {
     "data": {
      "text/html": [
       "36281"
      ],
      "text/latex": [
       "36281"
      ],
      "text/markdown": [
       "36281"
      ],
      "text/plain": [
       "[1] 36281"
      ]
     },
     "metadata": {},
     "output_type": "display_data"
    }
   ],
   "source": [
    "## There are more NA values than segments because we have consecutive Na Values\n",
    "sum(is.na(all_data_lf$value))"
   ]
  },
  {
   "cell_type": "markdown",
   "id": "9e1fb43c-a8e9-406c-ba8c-171e3d566041",
   "metadata": {},
   "source": [
    "## checking data completeness"
   ]
  },
  {
   "cell_type": "code",
   "execution_count": 82,
   "id": "e7227f66-2f70-4d88-84de-df1ec8c5bad3",
   "metadata": {},
   "outputs": [
    {
     "data": {
      "text/html": [
       "<style>\n",
       ".dl-inline {width: auto; margin:0; padding: 0}\n",
       ".dl-inline>dt, .dl-inline>dd {float: none; width: auto; display: inline-block}\n",
       ".dl-inline>dt::after {content: \":\\0020\"; padding-right: .5ex}\n",
       ".dl-inline>dt:not(:first-of-type) {padding-left: .5ex}\n",
       "</style><dl class=dl-inline><dt>datetime</dt><dd>0</dd><dt>O3</dt><dd>18</dd><dt>NO2</dt><dd>22</dd><dt>PM10</dt><dd>98</dd><dt>NOx</dt><dd>22</dd><dt>TEMP</dt><dd>0</dd><dt>PREC</dt><dd>1</dd><dt>RAD</dt><dd>0</dd><dt>month</dt><dd>0</dd><dt>date</dt><dd>0</dd></dl>\n"
      ],
      "text/latex": [
       "\\begin{description*}\n",
       "\\item[datetime] 0\n",
       "\\item[O3] 18\n",
       "\\item[NO2] 22\n",
       "\\item[PM10] 98\n",
       "\\item[NOx] 22\n",
       "\\item[TEMP] 0\n",
       "\\item[PREC] 1\n",
       "\\item[RAD] 0\n",
       "\\item[month] 0\n",
       "\\item[date] 0\n",
       "\\end{description*}\n"
      ],
      "text/markdown": [
       "datetime\n",
       ":   0O3\n",
       ":   18NO2\n",
       ":   22PM10\n",
       ":   98NOx\n",
       ":   22TEMP\n",
       ":   0PREC\n",
       ":   1RAD\n",
       ":   0month\n",
       ":   0date\n",
       ":   0\n",
       "\n"
      ],
      "text/plain": [
       "datetime       O3      NO2     PM10      NOx     TEMP     PREC      RAD \n",
       "       0       18       22       98       22        0        1        0 \n",
       "   month     date \n",
       "       0        0 "
      ]
     },
     "metadata": {},
     "output_type": "display_data"
    }
   ],
   "source": [
    "colSums(is.na(DAVOS_data))"
   ]
  },
  {
   "cell_type": "code",
   "execution_count": 83,
   "id": "f8c205c8-099e-42a5-bbaf-723230dc7733",
   "metadata": {},
   "outputs": [
    {
     "data": {
      "text/html": [
       "<style>\n",
       ".dl-inline {width: auto; margin:0; padding: 0}\n",
       ".dl-inline>dt, .dl-inline>dd {float: none; width: auto; display: inline-block}\n",
       ".dl-inline>dt::after {content: \":\\0020\"; padding-right: .5ex}\n",
       ".dl-inline>dt:not(:first-of-type) {padding-left: .5ex}\n",
       "</style><dl class=dl-inline><dt>datetime</dt><dd>0</dd><dt>O3</dt><dd>67</dd><dt>NO2</dt><dd>74</dd><dt>SO2</dt><dd>68</dd><dt>PM10</dt><dd>113</dd><dt>PM2.5</dt><dd>281</dd><dt>EC</dt><dd>48</dd><dt>CPC</dt><dd>187</dd><dt>NOx</dt><dd>74</dd><dt>TEMP</dt><dd>0</dd><dt>PREC</dt><dd>72</dd><dt>RAD</dt><dd>0</dd><dt>month</dt><dd>0</dd><dt>date</dt><dd>0</dd></dl>\n"
      ],
      "text/latex": [
       "\\begin{description*}\n",
       "\\item[datetime] 0\n",
       "\\item[O3] 67\n",
       "\\item[NO2] 74\n",
       "\\item[SO2] 68\n",
       "\\item[PM10] 113\n",
       "\\item[PM2.5] 281\n",
       "\\item[EC] 48\n",
       "\\item[CPC] 187\n",
       "\\item[NOx] 74\n",
       "\\item[TEMP] 0\n",
       "\\item[PREC] 72\n",
       "\\item[RAD] 0\n",
       "\\item[month] 0\n",
       "\\item[date] 0\n",
       "\\end{description*}\n"
      ],
      "text/markdown": [
       "datetime\n",
       ":   0O3\n",
       ":   67NO2\n",
       ":   74SO2\n",
       ":   68PM10\n",
       ":   113PM2.5\n",
       ":   281EC\n",
       ":   48CPC\n",
       ":   187NOx\n",
       ":   74TEMP\n",
       ":   0PREC\n",
       ":   72RAD\n",
       ":   0month\n",
       ":   0date\n",
       ":   0\n",
       "\n"
      ],
      "text/plain": [
       "datetime       O3      NO2      SO2     PM10    PM2.5       EC      CPC \n",
       "       0       67       74       68      113      281       48      187 \n",
       "     NOx     TEMP     PREC      RAD    month     date \n",
       "      74        0       72        0        0        0 "
      ]
     },
     "metadata": {},
     "output_type": "display_data"
    }
   ],
   "source": [
    "colSums(is.na(BASEL_data))"
   ]
  },
  {
   "cell_type": "code",
   "execution_count": 84,
   "id": "d0467266-f1d7-4562-83ab-4f320e04bccd",
   "metadata": {},
   "outputs": [
    {
     "data": {
      "text/html": [
       "<style>\n",
       ".dl-inline {width: auto; margin:0; padding: 0}\n",
       ".dl-inline>dt, .dl-inline>dd {float: none; width: auto; display: inline-block}\n",
       ".dl-inline>dt::after {content: \":\\0020\"; padding-right: .5ex}\n",
       ".dl-inline>dt:not(:first-of-type) {padding-left: .5ex}\n",
       "</style><dl class=dl-inline><dt>site</dt><dd>0</dd><dt>datetime</dt><dd>0</dd><dt>year</dt><dd>0</dd><dt>month</dt><dd>0</dd><dt>day</dt><dd>0</dd><dt>hour</dt><dd>0</dd><dt>dayofwk</dt><dd>0</dd><dt>daytype</dt><dd>0</dd><dt>season</dt><dd>0</dd><dt>O3</dt><dd>85</dd><dt>NO2</dt><dd>96</dd><dt>PM10</dt><dd>211</dd><dt>NOX</dt><dd>96</dd><dt>TEMP</dt><dd>0</dd><dt>PREC</dt><dd>73</dd><dt>RAD</dt><dd>0</dd><dt>SO2</dt><dd>8852</dd><dt>PM2.5</dt><dd>9065</dd><dt>EC</dt><dd>8832</dd><dt>CPC</dt><dd>8971</dd><dt>avg_wind_speed</dt><dd>0</dd><dt>avg_wind_direction</dt><dd>0</dd></dl>\n"
      ],
      "text/latex": [
       "\\begin{description*}\n",
       "\\item[site] 0\n",
       "\\item[datetime] 0\n",
       "\\item[year] 0\n",
       "\\item[month] 0\n",
       "\\item[day] 0\n",
       "\\item[hour] 0\n",
       "\\item[dayofwk] 0\n",
       "\\item[daytype] 0\n",
       "\\item[season] 0\n",
       "\\item[O3] 85\n",
       "\\item[NO2] 96\n",
       "\\item[PM10] 211\n",
       "\\item[NOX] 96\n",
       "\\item[TEMP] 0\n",
       "\\item[PREC] 73\n",
       "\\item[RAD] 0\n",
       "\\item[SO2] 8852\n",
       "\\item[PM2.5] 9065\n",
       "\\item[EC] 8832\n",
       "\\item[CPC] 8971\n",
       "\\item[avg\\textbackslash{}\\_wind\\textbackslash{}\\_speed] 0\n",
       "\\item[avg\\textbackslash{}\\_wind\\textbackslash{}\\_direction] 0\n",
       "\\end{description*}\n"
      ],
      "text/markdown": [
       "site\n",
       ":   0datetime\n",
       ":   0year\n",
       ":   0month\n",
       ":   0day\n",
       ":   0hour\n",
       ":   0dayofwk\n",
       ":   0daytype\n",
       ":   0season\n",
       ":   0O3\n",
       ":   85NO2\n",
       ":   96PM10\n",
       ":   211NOX\n",
       ":   96TEMP\n",
       ":   0PREC\n",
       ":   73RAD\n",
       ":   0SO2\n",
       ":   8852PM2.5\n",
       ":   9065EC\n",
       ":   8832CPC\n",
       ":   8971avg_wind_speed\n",
       ":   0avg_wind_direction\n",
       ":   0\n",
       "\n"
      ],
      "text/plain": [
       "              site           datetime               year              month \n",
       "                 0                  0                  0                  0 \n",
       "               day               hour            dayofwk            daytype \n",
       "                 0                  0                  0                  0 \n",
       "            season                 O3                NO2               PM10 \n",
       "                 0                 85                 96                211 \n",
       "               NOX               TEMP               PREC                RAD \n",
       "                96                  0                 73                  0 \n",
       "               SO2              PM2.5                 EC                CPC \n",
       "              8852               9065               8832               8971 \n",
       "    avg_wind_speed avg_wind_direction \n",
       "                 0                  0 "
      ]
     },
     "metadata": {},
     "output_type": "display_data"
    }
   ],
   "source": [
    "colSums(is.na(all_data_df))"
   ]
  },
  {
   "cell_type": "code",
   "execution_count": 85,
   "id": "2703f316-2221-4157-ba4c-3356689f7e50",
   "metadata": {},
   "outputs": [
    {
     "name": "stderr",
     "output_type": "stream",
     "text": [
      "Warning message:\n",
      "\"\u001b[1m\u001b[22mRemoved 36281 rows containing non-finite values (`stat_boxplot()`).\"\n"
     ]
    },
    {
     "data": {
      "image/png": "[encoded data removed]",
      "text/plain": [
       "plot without title"
      ]
     },
     "metadata": {
      "image/png": {
       "height": 420,
       "width": 420
      }
     },
     "output_type": "display_data"
    }
   ],
   "source": [
    "all_data_lf %>% \n",
    "  mutate(month = factor(month)) %>%\n",
    "  ggplot +\n",
    "  facet_grid(variable ~ site, scale = \"free_y\") +\n",
    "  geom_boxplot(aes(month, value), outlier.size = 0.5, outlier.shape = 3)"
   ]
  },
  {
   "cell_type": "code",
   "execution_count": 86,
   "id": "434cad2e-03d6-4e5b-8698-d67b1ccf57ec",
   "metadata": {},
   "outputs": [
    {
     "data": {
      "image/png": "[encoded data removed]",
      "text/plain": [
       "plot without title"
      ]
     },
     "metadata": {
      "image/png": {
       "height": 420,
       "width": 420
      }
     },
     "output_type": "display_data"
    }
   ],
   "source": [
    "# DAVOS \n",
    "all_data_lf %>%\n",
    "  filter(site==\"DAV\" & !is.na(value) & !is.na(season)) %>%\n",
    "  ggplot +\n",
    "  facet_grid(variable ~ season, scale = \"free_y\") +\n",
    "  geom_boxplot(aes(daytype, value), outlier.size = 0.5, outlier.shape = 3)"
   ]
  },
  {
   "cell_type": "code",
   "execution_count": 87,
   "id": "f58cd8bc-fd73-4aec-bc54-d505a5a02983",
   "metadata": {},
   "outputs": [
    {
     "data": {
      "image/png": "[encoded data removed]",
      "text/plain": [
       "plot without title"
      ]
     },
     "metadata": {
      "image/png": {
       "height": 420,
       "width": 420
      }
     },
     "output_type": "display_data"
    }
   ],
   "source": [
    "# BASEL\n",
    "all_data_lf %>%\n",
    "  filter(site == \"BAS\" & !is.na(value) & !is.na(season)) %>%\n",
    "  ggplot +\n",
    "  facet_grid(variable ~ season, scale = \"free_y\") +\n",
    "  geom_boxplot(aes(daytype, value), outlier.size = 0.5, outlier.shape = 3)"
   ]
  },
  {
   "cell_type": "code",
   "execution_count": 88,
   "id": "b0bc9b91-bff2-4062-ba8c-0da00352e51e",
   "metadata": {},
   "outputs": [
    {
     "data": {
      "image/png": "[encoded data removed]",
      "text/plain": [
       "plot without title"
      ]
     },
     "metadata": {
      "image/png": {
       "height": 420,
       "width": 420
      }
     },
     "output_type": "display_data"
    }
   ],
   "source": [
    "#DAVOS\n",
    "all_data_lf %>%\n",
    "  filter(site==\"DAV\" & !is.na(value) & variable==\"PREC\" & !is.na(season)) %>%\n",
    "  ggplot +\n",
    "  facet_grid(variable ~ season, scale = \"free_y\") +\n",
    "  geom_bar(aes(daytype, value), stat=\"summary\", fun=\"mean\", show.legend = FALSE) +\n",
    "  scale_y_continuous(\"Daily mean precipitation (mm)\", expand=expansion(mult=c(0, 0.1)))"
   ]
  },
  {
   "cell_type": "code",
   "execution_count": 89,
   "id": "35e0cd7f-eea8-45c7-8969-1f6f13547d9e",
   "metadata": {},
   "outputs": [
    {
     "data": {
      "image/png": "[encoded data removed]",
      "text/plain": [
       "plot without title"
      ]
     },
     "metadata": {
      "image/png": {
       "height": 420,
       "width": 420
      }
     },
     "output_type": "display_data"
    }
   ],
   "source": [
    "#DAVOS\n",
    "all_data_lf %>%\n",
    "  filter(site==\"DAV\" & !is.na(value) & variable==\"PREC\" & !is.na(season)) %>%\n",
    "  ggplot +\n",
    "  facet_grid(variable ~ season, scale = \"free_y\") +\n",
    "  geom_bar(aes(daytype, value), stat=\"summary\", fun=\"mean\", show.legend = FALSE) +\n",
    "  scale_y_continuous(\"Daily mean precipitation (mm)\", expand=expansion(mult=c(0, 0.1)))"
   ]
  },
  {
   "cell_type": "code",
   "execution_count": 90,
   "id": "d77c7321-9869-4d89-a385-3f11cedd16db",
   "metadata": {},
   "outputs": [
    {
     "data": {
      "image/png": "[encoded data removed]",
      "text/plain": [
       "plot without title"
      ]
     },
     "metadata": {
      "image/png": {
       "height": 420,
       "width": 420
      }
     },
     "output_type": "display_data"
    }
   ],
   "source": [
    "# BASEL\n",
    "all_data_lf %>%\n",
    "  filter(site==\"BAS\" & !is.na(value) & variable==\"PREC\" & !is.na(season)) %>%\n",
    "  ggplot +\n",
    "  facet_grid(variable ~ season, scale = \"free_y\") +\n",
    "  geom_bar(aes(daytype, value), stat=\"summary\", fun=\"mean\", show.legend = FALSE) +\n",
    "  scale_y_continuous(\"Daily mean precipitation (mm)\", expand=expansion(mult=c(0, 0.1)))"
   ]
  },
  {
   "cell_type": "markdown",
   "id": "c8522980-132c-442c-a75e-b1a49c069f10",
   "metadata": {},
   "source": [
    "## Diurnal variations"
   ]
  },
  {
   "cell_type": "code",
   "execution_count": 91,
   "id": "01fbb3d6-f099-4365-a41d-3661c442ec1e",
   "metadata": {},
   "outputs": [],
   "source": [
    "Percentile <- function(perc) function(x) \n",
    "  ## `perc` is the percentile which should be computed for the numeric vector `x`\n",
    "  quantile(x, perc*1e-2, na.rm=TRUE)"
   ]
  },
  {
   "cell_type": "code",
   "execution_count": 92,
   "id": "42b579f9-6870-4227-8a36-8e10d22db558",
   "metadata": {},
   "outputs": [
    {
     "data": {
      "image/png": "[encoded data removed]",
      "text/plain": [
       "plot without title"
      ]
     },
     "metadata": {
      "image/png": {
       "height": 420,
       "width": 420
      }
     },
     "output_type": "display_data"
    }
   ],
   "source": [
    "all_data_lf %>%\n",
    "  filter(site==\"DAV\" & !is.na(value) & !is.na(season)) %>%\n",
    "  ggplot(aes(x=hour, y=value, group=daytype, color=daytype)) +\n",
    "  facet_grid(variable ~ season, scale = \"free_y\", drop=TRUE) +\n",
    "  geom_line(stat=\"summary\", fun=\"median\")+\n",
    "  geom_errorbar(stat=\"summary\",\n",
    "                fun.min=Percentile(25),\n",
    "                fun.max=Percentile(75))+\n",
    "  ggtitle(\"DAVOS\")"
   ]
  },
  {
   "cell_type": "code",
   "execution_count": 93,
   "id": "f29ae628-9411-4f98-ab8b-7440b67e4196",
   "metadata": {},
   "outputs": [
    {
     "data": {
      "image/png": "[encoded data removed]",
      "text/plain": [
       "plot without title"
      ]
     },
     "metadata": {
      "image/png": {
       "height": 420,
       "width": 420
      }
     },
     "output_type": "display_data"
    }
   ],
   "source": [
    "all_data_lf %>%\n",
    "  filter(site==\"BAS\" & !is.na(value) & !is.na(season)) %>%\n",
    "  ggplot(aes(x=hour, y=value, group=daytype, color=daytype)) +\n",
    "  facet_grid(variable ~ season, scale = \"free_y\", drop=TRUE) +\n",
    "  geom_line(stat=\"summary\", fun=\"median\")+\n",
    "  geom_errorbar(stat=\"summary\",\n",
    "                fun.min=Percentile(25),\n",
    "                fun.max=Percentile(75))+\n",
    "  ggtitle(\"BASEL\")"
   ]
  },
  {
   "cell_type": "code",
   "execution_count": 94,
   "id": "bbc80905-dfee-4c70-a93f-70b112d10f23",
   "metadata": {},
   "outputs": [
    {
     "name": "stderr",
     "output_type": "stream",
     "text": [
      "Warning message:\n",
      "\"\u001b[1m\u001b[22mRemoved 85 rows containing non-finite values (`stat_summary()`).\"\n",
      "Warning message:\n",
      "\"\u001b[1m\u001b[22mRemoved 85 rows containing non-finite values (`stat_summary()`).\"\n"
     ]
    },
    {
     "data": {
      "image/png": "[encoded data removed]",
      "text/plain": [
       "plot without title"
      ]
     },
     "metadata": {
      "image/png": {
       "height": 420,
       "width": 420
      }
     },
     "output_type": "display_data"
    }
   ],
   "source": [
    "all_data_lf %>%\n",
    "  filter(variable==\"O3\" & !is.na(season)) %>%\n",
    "  ggplot(aes(x=hour, y=value, group=daytype, color=daytype)) +\n",
    "  facet_grid(site ~ season, drop=TRUE) +\n",
    "  geom_line(stat=\"summary\", fun=\"median\")+\n",
    "  geom_errorbar(stat=\"summary\",\n",
    "                fun.min=Percentile(25),\n",
    "                fun.max=Percentile(75))+\n",
    "  ggtitle(\"O3\")"
   ]
  },
  {
   "cell_type": "code",
   "execution_count": 95,
   "id": "fd4cb593-7e3e-4b1f-bf8b-6a0ffc782e91",
   "metadata": {},
   "outputs": [
    {
     "name": "stderr",
     "output_type": "stream",
     "text": [
      "Warning message:\n",
      "\"\u001b[1m\u001b[22mRemoved 85 rows containing non-finite values (`stat_summary()`).\"\n",
      "Warning message:\n",
      "\"\u001b[1m\u001b[22mRemoved 85 rows containing non-finite values (`stat_summary()`).\"\n"
     ]
    },
    {
     "data": {
      "image/png": "[encoded data removed]",
      "text/plain": [
       "plot without title"
      ]
     },
     "metadata": {
      "image/png": {
       "height": 420,
       "width": 420
      }
     },
     "output_type": "display_data"
    }
   ],
   "source": [
    "all_data_lf %>%\n",
    "  filter(variable==\"O3\"& !is.na(season)) %>%\n",
    "  ggplot(aes(x=hour, y=value, group=site, color=site)) +\n",
    "  facet_grid(season ~ dayofwk, drop=TRUE) +\n",
    "  geom_line(stat=\"summary\", fun=\"median\")+\n",
    "  geom_errorbar(stat=\"summary\",\n",
    "                fun.min=Percentile(25),\n",
    "                fun.max=Percentile(75))+\n",
    "  ggtitle(\"O3\")"
   ]
  },
  {
   "cell_type": "code",
   "execution_count": 96,
   "id": "05932952-0af6-4b68-b351-b0fe786f1d6f",
   "metadata": {},
   "outputs": [],
   "source": [
    "Ox_lf <- all_data_lf %>% \n",
    "  filter(variable %in% c(\"O3\", \"NO2\") & season==\"Summer\") %>%\n",
    "  pivot_wider(names_from = variable, values_from = value) %>%\n",
    "  mutate(Ox = O3 + NO2) %>%\n",
    "  select(-NO2) %>%\n",
    "  gather(variable, value, c(O3, Ox))"
   ]
  },
  {
   "cell_type": "code",
   "execution_count": 97,
   "id": "fc86e48f-daf6-486c-b831-9d801f691ba3",
   "metadata": {},
   "outputs": [
    {
     "name": "stderr",
     "output_type": "stream",
     "text": [
      "Warning message:\n",
      "\"\u001b[1m\u001b[22mRemoved 27 rows containing non-finite values (`stat_summary()`).\"\n",
      "Warning message:\n",
      "\"\u001b[1m\u001b[22mRemoved 27 rows containing non-finite values (`stat_summary()`).\"\n"
     ]
    },
    {
     "data": {
      "image/png": "[encoded data removed]",
      "text/plain": [
       "plot without title"
      ]
     },
     "metadata": {
      "image/png": {
       "height": 420,
       "width": 420
      }
     },
     "output_type": "display_data"
    }
   ],
   "source": [
    "Ox_lf %>%\n",
    "  ggplot(aes(x=hour, y=value, group=variable, color=variable)) +\n",
    "  facet_grid(site ~ daytype, drop=TRUE) +\n",
    "  geom_line(stat=\"summary\", fun=\"median\")+\n",
    "  geom_errorbar(stat=\"summary\",\n",
    "                fun.min=Percentile(25),\n",
    "                fun.max=Percentile(75))+\n",
    "  ggtitle(\"Summer sum of oxidants\")"
   ]
  },
  {
   "cell_type": "code",
   "execution_count": 98,
   "id": "5d469b59-793d-4cb7-a842-9b57ce5403f7",
   "metadata": {},
   "outputs": [
    {
     "name": "stderr",
     "output_type": "stream",
     "text": [
      "Warning message:\n",
      "\"\u001b[1m\u001b[22mRemoved 17 rows containing non-finite values (`stat_summary()`).\"\n",
      "Warning message:\n",
      "\"\u001b[1m\u001b[22mRemoved 17 rows containing non-finite values (`stat_summary()`).\"\n"
     ]
    },
    {
     "data": {
      "image/png": "[encoded data removed]",
      "text/plain": [
       "plot without title"
      ]
     },
     "metadata": {
      "image/png": {
       "height": 420,
       "width": 420
      }
     },
     "output_type": "display_data"
    }
   ],
   "source": [
    "Ox_lf %>% \n",
    "  pivot_wider(names_from = variable, values_from = value) %>%\n",
    "  mutate(ratio = 1 - O3/Ox) %>%\n",
    "  ggplot(aes(x=hour, y=ratio)) +\n",
    "  facet_grid(site ~ daytype, drop=TRUE) +\n",
    "  geom_line(stat=\"summary\", fun=\"median\")+\n",
    "  geom_errorbar(stat=\"summary\",\n",
    "                fun.min=Percentile(25),\n",
    "                fun.max=Percentile(75)) +\n",
    "  scale_y_continuous(expression(NO[2]/O[x]), limits=c(0, 1))"
   ]
  },
  {
   "cell_type": "markdown",
   "id": "5d8aefef-4f52-4bbb-a956-284d0ceecaa4",
   "metadata": {},
   "source": [
    "# Limit values"
   ]
  },
  {
   "cell_type": "code",
   "execution_count": 99,
   "id": "f4f7f261-a5a5-40b0-8f15-7297201e0126",
   "metadata": {},
   "outputs": [
    {
     "data": {
      "text/html": [
       "TRUE"
      ],
      "text/latex": [
       "TRUE"
      ],
      "text/markdown": [
       "TRUE"
      ],
      "text/plain": [
       "[1] TRUE"
      ]
     },
     "metadata": {},
     "output_type": "display_data"
    },
    {
     "data": {
      "text/html": [
       "<table class=\"dataframe\">\n",
       "<caption>A data.frame: 6 × 4</caption>\n",
       "<thead>\n",
       "\t<tr><th></th><th scope=col>Pollutants</th><th scope=col>Annual.mean.[ug/m3]</th><th scope=col>24h.mean.[ug/m3]</th><th scope=col>Hourly.mean.[ug/m3]</th></tr>\n",
       "\t<tr><th></th><th scope=col>&lt;chr&gt;</th><th scope=col>&lt;dbl&gt;</th><th scope=col>&lt;dbl&gt;</th><th scope=col>&lt;dbl&gt;</th></tr>\n",
       "</thead>\n",
       "<tbody>\n",
       "\t<tr><th scope=row>1</th><td>O3   </td><td>NA</td><td> NA</td><td>120</td></tr>\n",
       "\t<tr><th scope=row>2</th><td>NO2  </td><td>30</td><td> 80</td><td> NA</td></tr>\n",
       "\t<tr><th scope=row>3</th><td>PM10 </td><td>20</td><td> 50</td><td> NA</td></tr>\n",
       "\t<tr><th scope=row>4</th><td>PM2,5</td><td>10</td><td> NA</td><td> NA</td></tr>\n",
       "\t<tr><th scope=row>5</th><td>SO2  </td><td>30</td><td>100</td><td> NA</td></tr>\n",
       "\t<tr><th scope=row>6</th><td>CO   </td><td>NA</td><td>  8</td><td> NA</td></tr>\n",
       "</tbody>\n",
       "</table>\n"
      ],
      "text/latex": [
       "A data.frame: 6 × 4\n",
       "\\begin{tabular}{r|llll}\n",
       "  & Pollutants & Annual.mean.{[}ug/m3{]} & 24h.mean.{[}ug/m3{]} & Hourly.mean.{[}ug/m3{]}\\\\\n",
       "  & <chr> & <dbl> & <dbl> & <dbl>\\\\\n",
       "\\hline\n",
       "\t1 & O3    & NA &  NA & 120\\\\\n",
       "\t2 & NO2   & 30 &  80 &  NA\\\\\n",
       "\t3 & PM10  & 20 &  50 &  NA\\\\\n",
       "\t4 & PM2,5 & 10 &  NA &  NA\\\\\n",
       "\t5 & SO2   & 30 & 100 &  NA\\\\\n",
       "\t6 & CO    & NA &   8 &  NA\\\\\n",
       "\\end{tabular}\n"
      ],
      "text/markdown": [
       "\n",
       "A data.frame: 6 × 4\n",
       "\n",
       "| <!--/--> | Pollutants &lt;chr&gt; | Annual.mean.[ug/m3] &lt;dbl&gt; | 24h.mean.[ug/m3] &lt;dbl&gt; | Hourly.mean.[ug/m3] &lt;dbl&gt; |\n",
       "|---|---|---|---|---|\n",
       "| 1 | O3    | NA |  NA | 120 |\n",
       "| 2 | NO2   | 30 |  80 |  NA |\n",
       "| 3 | PM10  | 20 |  50 |  NA |\n",
       "| 4 | PM2,5 | 10 |  NA |  NA |\n",
       "| 5 | SO2   | 30 | 100 |  NA |\n",
       "| 6 | CO    | NA |   8 |  NA |\n",
       "\n"
      ],
      "text/plain": [
       "  Pollutants Annual.mean.[ug/m3] 24h.mean.[ug/m3] Hourly.mean.[ug/m3]\n",
       "1 O3         NA                   NA              120                \n",
       "2 NO2        30                   80               NA                \n",
       "3 PM10       20                   50               NA                \n",
       "4 PM2,5      10                   NA               NA                \n",
       "5 SO2        30                  100               NA                \n",
       "6 CO         NA                    8               NA                "
      ]
     },
     "metadata": {},
     "output_type": "display_data"
    }
   ],
   "source": [
    "reg_val <- \"./Data/Regulatory_values.xlsx\"\n",
    "file.exists(reg_val)\n",
    "\n",
    "Regulatory_values <- read.xlsx(reg_val, sheet = 1)\n",
    "Regulatory_values"
   ]
  },
  {
   "cell_type": "code",
   "execution_count": 100,
   "id": "3a4802a4-f4af-42b7-aaa1-d0a8d779f3eb",
   "metadata": {},
   "outputs": [],
   "source": [
    "limits.yearly<- tibble(value=c(30, 20, 10, 30),\n",
    "                       variable=c(\"NO2\",\"PM10\", \"PM2.5\", \"SO2\"))"
   ]
  },
  {
   "cell_type": "code",
   "execution_count": 101,
   "id": "50b3846c-56e7-4d65-b171-f462a95fe433",
   "metadata": {},
   "outputs": [],
   "source": [
    "limits.daily <- tibble(value=c(80, 50, 100),\n",
    "                       variable=c(\"NO2\",\"PM10\", \"SO2\"))"
   ]
  },
  {
   "cell_type": "code",
   "execution_count": 102,
   "id": "f2ca9f92-2a2e-42ca-8637-9aa04b16cdb6",
   "metadata": {},
   "outputs": [],
   "source": [
    "limits.hourly<- tibble(value=c(120),\n",
    "                       variable=c(\"O3\"))"
   ]
  },
  {
   "cell_type": "code",
   "execution_count": 103,
   "id": "99f3d42d-f75c-4d94-af53-81b06501c7df",
   "metadata": {},
   "outputs": [],
   "source": [
    "## Mean threshold definition\n",
    "threshold <- 75"
   ]
  },
  {
   "cell_type": "markdown",
   "id": "31462f35-7005-4177-aa20-14c02ecf22af",
   "metadata": {},
   "source": [
    "## Daily limit values"
   ]
  },
  {
   "cell_type": "code",
   "execution_count": 104,
   "id": "6d24ddd8-519a-4456-bf3b-2994e97e162e",
   "metadata": {},
   "outputs": [],
   "source": [
    "daily_lf <- all_data_lf %>%\n",
    "  filter(variable %in% limits.daily[[\"variable\"]]) %>% # select variables\n",
    "  mutate(date = date(datetime)) %>%                   # get the date value\n",
    "  group_by(site, date, variable) %>%\n",
    "  summarize(percent.recovery_daily = length(na.omit(value))/length(value)*1e2,\n",
    "            value = mean(value, na.rm=TRUE)) %>%\n",
    "  ungroup()                                            # undo grouping for future use"
   ]
  },
  {
   "cell_type": "code",
   "execution_count": 105,
   "id": "5077ac91-36b4-46ed-bb74-fa55725ac1f6",
   "metadata": {
    "scrolled": true
   },
   "outputs": [
    {
     "data": {
      "text/html": [
       "<table class=\"dataframe\">\n",
       "<caption>A tibble: 2196 × 5</caption>\n",
       "<thead>\n",
       "\t<tr><th scope=col>site</th><th scope=col>date</th><th scope=col>variable</th><th scope=col>percent.recovery_daily</th><th scope=col>value</th></tr>\n",
       "\t<tr><th scope=col>&lt;chr&gt;</th><th scope=col>&lt;date&gt;</th><th scope=col>&lt;chr&gt;</th><th scope=col>&lt;dbl&gt;</th><th scope=col>&lt;dbl&gt;</th></tr>\n",
       "</thead>\n",
       "<tbody>\n",
       "\t<tr><td>BAS</td><td>2024-01-01</td><td>NO2 </td><td>100.00000</td><td> 6.7166667</td></tr>\n",
       "\t<tr><td>BAS</td><td>2024-01-01</td><td>PM10</td><td>100.00000</td><td> 7.0083333</td></tr>\n",
       "\t<tr><td>BAS</td><td>2024-01-01</td><td>SO2 </td><td>100.00000</td><td> 0.5291667</td></tr>\n",
       "\t<tr><td>BAS</td><td>2024-01-02</td><td>NO2 </td><td>100.00000</td><td> 5.7750000</td></tr>\n",
       "\t<tr><td>BAS</td><td>2024-01-02</td><td>PM10</td><td>100.00000</td><td> 2.4958333</td></tr>\n",
       "\t<tr><td>BAS</td><td>2024-01-02</td><td>SO2 </td><td>100.00000</td><td> 1.0291667</td></tr>\n",
       "\t<tr><td>BAS</td><td>2024-01-03</td><td>NO2 </td><td>100.00000</td><td> 1.2416667</td></tr>\n",
       "\t<tr><td>BAS</td><td>2024-01-03</td><td>PM10</td><td>100.00000</td><td> 2.8958333</td></tr>\n",
       "\t<tr><td>BAS</td><td>2024-01-03</td><td>SO2 </td><td>100.00000</td><td> 0.1166667</td></tr>\n",
       "\t<tr><td>BAS</td><td>2024-01-04</td><td>NO2 </td><td> 95.83333</td><td> 9.3652174</td></tr>\n",
       "\t<tr><td>BAS</td><td>2024-01-04</td><td>PM10</td><td>100.00000</td><td> 6.7833333</td></tr>\n",
       "\t<tr><td>BAS</td><td>2024-01-04</td><td>SO2 </td><td> 95.83333</td><td> 0.3043478</td></tr>\n",
       "\t<tr><td>BAS</td><td>2024-01-05</td><td>NO2 </td><td>100.00000</td><td>32.8916667</td></tr>\n",
       "\t<tr><td>BAS</td><td>2024-01-05</td><td>PM10</td><td>100.00000</td><td>14.3000000</td></tr>\n",
       "\t<tr><td>BAS</td><td>2024-01-05</td><td>SO2 </td><td>100.00000</td><td> 1.5708333</td></tr>\n",
       "\t<tr><td>BAS</td><td>2024-01-06</td><td>NO2 </td><td>100.00000</td><td> 8.1958333</td></tr>\n",
       "\t<tr><td>BAS</td><td>2024-01-06</td><td>PM10</td><td>100.00000</td><td> 8.6291667</td></tr>\n",
       "\t<tr><td>BAS</td><td>2024-01-06</td><td>SO2 </td><td>100.00000</td><td> 0.2791667</td></tr>\n",
       "\t<tr><td>BAS</td><td>2024-01-07</td><td>NO2 </td><td>100.00000</td><td>12.9583333</td></tr>\n",
       "\t<tr><td>BAS</td><td>2024-01-07</td><td>PM10</td><td>100.00000</td><td> 6.5916667</td></tr>\n",
       "\t<tr><td>BAS</td><td>2024-01-07</td><td>SO2 </td><td>100.00000</td><td> 0.2583333</td></tr>\n",
       "\t<tr><td>BAS</td><td>2024-01-08</td><td>NO2 </td><td>100.00000</td><td>12.2833333</td></tr>\n",
       "\t<tr><td>BAS</td><td>2024-01-08</td><td>PM10</td><td>100.00000</td><td> 8.6708333</td></tr>\n",
       "\t<tr><td>BAS</td><td>2024-01-08</td><td>SO2 </td><td>100.00000</td><td> 0.2375000</td></tr>\n",
       "\t<tr><td>BAS</td><td>2024-01-09</td><td>NO2 </td><td>100.00000</td><td>21.4500000</td></tr>\n",
       "\t<tr><td>BAS</td><td>2024-01-09</td><td>PM10</td><td>100.00000</td><td>20.8000000</td></tr>\n",
       "\t<tr><td>BAS</td><td>2024-01-09</td><td>SO2 </td><td>100.00000</td><td> 0.5083333</td></tr>\n",
       "\t<tr><td>BAS</td><td>2024-01-10</td><td>NO2 </td><td>100.00000</td><td>40.3000000</td></tr>\n",
       "\t<tr><td>BAS</td><td>2024-01-10</td><td>PM10</td><td>100.00000</td><td>36.8875000</td></tr>\n",
       "\t<tr><td>BAS</td><td>2024-01-10</td><td>SO2 </td><td>100.00000</td><td> 0.8000000</td></tr>\n",
       "\t<tr><td>...</td><td>...</td><td>...</td><td>...</td><td>...</td></tr>\n",
       "\t<tr><td>DAV</td><td>2024-12-22</td><td>NO2 </td><td>100</td><td>2.1708333</td></tr>\n",
       "\t<tr><td>DAV</td><td>2024-12-22</td><td>PM10</td><td>100</td><td>1.2333333</td></tr>\n",
       "\t<tr><td>DAV</td><td>2024-12-22</td><td>SO2 </td><td>  0</td><td>      NaN</td></tr>\n",
       "\t<tr><td>DAV</td><td>2024-12-23</td><td>NO2 </td><td>100</td><td>1.6250000</td></tr>\n",
       "\t<tr><td>DAV</td><td>2024-12-23</td><td>PM10</td><td>100</td><td>1.9541667</td></tr>\n",
       "\t<tr><td>DAV</td><td>2024-12-23</td><td>SO2 </td><td>  0</td><td>      NaN</td></tr>\n",
       "\t<tr><td>DAV</td><td>2024-12-24</td><td>NO2 </td><td>100</td><td>1.8875000</td></tr>\n",
       "\t<tr><td>DAV</td><td>2024-12-24</td><td>PM10</td><td>100</td><td>1.8666667</td></tr>\n",
       "\t<tr><td>DAV</td><td>2024-12-24</td><td>SO2 </td><td>  0</td><td>      NaN</td></tr>\n",
       "\t<tr><td>DAV</td><td>2024-12-25</td><td>NO2 </td><td>100</td><td>1.6000000</td></tr>\n",
       "\t<tr><td>DAV</td><td>2024-12-25</td><td>PM10</td><td>100</td><td>0.4833333</td></tr>\n",
       "\t<tr><td>DAV</td><td>2024-12-25</td><td>SO2 </td><td>  0</td><td>      NaN</td></tr>\n",
       "\t<tr><td>DAV</td><td>2024-12-26</td><td>NO2 </td><td>100</td><td>1.5833333</td></tr>\n",
       "\t<tr><td>DAV</td><td>2024-12-26</td><td>PM10</td><td>100</td><td>0.4041667</td></tr>\n",
       "\t<tr><td>DAV</td><td>2024-12-26</td><td>SO2 </td><td>  0</td><td>      NaN</td></tr>\n",
       "\t<tr><td>DAV</td><td>2024-12-27</td><td>NO2 </td><td>100</td><td>1.5625000</td></tr>\n",
       "\t<tr><td>DAV</td><td>2024-12-27</td><td>PM10</td><td>100</td><td>0.3583333</td></tr>\n",
       "\t<tr><td>DAV</td><td>2024-12-27</td><td>SO2 </td><td>  0</td><td>      NaN</td></tr>\n",
       "\t<tr><td>DAV</td><td>2024-12-28</td><td>NO2 </td><td>100</td><td>1.3708333</td></tr>\n",
       "\t<tr><td>DAV</td><td>2024-12-28</td><td>PM10</td><td>100</td><td>0.2458333</td></tr>\n",
       "\t<tr><td>DAV</td><td>2024-12-28</td><td>SO2 </td><td>  0</td><td>      NaN</td></tr>\n",
       "\t<tr><td>DAV</td><td>2024-12-29</td><td>NO2 </td><td>100</td><td>1.1458333</td></tr>\n",
       "\t<tr><td>DAV</td><td>2024-12-29</td><td>PM10</td><td>100</td><td>0.2833333</td></tr>\n",
       "\t<tr><td>DAV</td><td>2024-12-29</td><td>SO2 </td><td>  0</td><td>      NaN</td></tr>\n",
       "\t<tr><td>DAV</td><td>2024-12-30</td><td>NO2 </td><td>100</td><td>1.3166667</td></tr>\n",
       "\t<tr><td>DAV</td><td>2024-12-30</td><td>PM10</td><td>100</td><td>0.4083333</td></tr>\n",
       "\t<tr><td>DAV</td><td>2024-12-30</td><td>SO2 </td><td>  0</td><td>      NaN</td></tr>\n",
       "\t<tr><td>DAV</td><td>2024-12-31</td><td>NO2 </td><td>100</td><td>0.9750000</td></tr>\n",
       "\t<tr><td>DAV</td><td>2024-12-31</td><td>PM10</td><td>100</td><td>0.5333333</td></tr>\n",
       "\t<tr><td>DAV</td><td>2024-12-31</td><td>SO2 </td><td>  0</td><td>      NaN</td></tr>\n",
       "</tbody>\n",
       "</table>\n"
      ],
      "text/latex": [
       "A tibble: 2196 × 5\n",
       "\\begin{tabular}{lllll}\n",
       " site & date & variable & percent.recovery\\_daily & value\\\\\n",
       " <chr> & <date> & <chr> & <dbl> & <dbl>\\\\\n",
       "\\hline\n",
       "\t BAS & 2024-01-01 & NO2  & 100.00000 &  6.7166667\\\\\n",
       "\t BAS & 2024-01-01 & PM10 & 100.00000 &  7.0083333\\\\\n",
       "\t BAS & 2024-01-01 & SO2  & 100.00000 &  0.5291667\\\\\n",
       "\t BAS & 2024-01-02 & NO2  & 100.00000 &  5.7750000\\\\\n",
       "\t BAS & 2024-01-02 & PM10 & 100.00000 &  2.4958333\\\\\n",
       "\t BAS & 2024-01-02 & SO2  & 100.00000 &  1.0291667\\\\\n",
       "\t BAS & 2024-01-03 & NO2  & 100.00000 &  1.2416667\\\\\n",
       "\t BAS & 2024-01-03 & PM10 & 100.00000 &  2.8958333\\\\\n",
       "\t BAS & 2024-01-03 & SO2  & 100.00000 &  0.1166667\\\\\n",
       "\t BAS & 2024-01-04 & NO2  &  95.83333 &  9.3652174\\\\\n",
       "\t BAS & 2024-01-04 & PM10 & 100.00000 &  6.7833333\\\\\n",
       "\t BAS & 2024-01-04 & SO2  &  95.83333 &  0.3043478\\\\\n",
       "\t BAS & 2024-01-05 & NO2  & 100.00000 & 32.8916667\\\\\n",
       "\t BAS & 2024-01-05 & PM10 & 100.00000 & 14.3000000\\\\\n",
       "\t BAS & 2024-01-05 & SO2  & 100.00000 &  1.5708333\\\\\n",
       "\t BAS & 2024-01-06 & NO2  & 100.00000 &  8.1958333\\\\\n",
       "\t BAS & 2024-01-06 & PM10 & 100.00000 &  8.6291667\\\\\n",
       "\t BAS & 2024-01-06 & SO2  & 100.00000 &  0.2791667\\\\\n",
       "\t BAS & 2024-01-07 & NO2  & 100.00000 & 12.9583333\\\\\n",
       "\t BAS & 2024-01-07 & PM10 & 100.00000 &  6.5916667\\\\\n",
       "\t BAS & 2024-01-07 & SO2  & 100.00000 &  0.2583333\\\\\n",
       "\t BAS & 2024-01-08 & NO2  & 100.00000 & 12.2833333\\\\\n",
       "\t BAS & 2024-01-08 & PM10 & 100.00000 &  8.6708333\\\\\n",
       "\t BAS & 2024-01-08 & SO2  & 100.00000 &  0.2375000\\\\\n",
       "\t BAS & 2024-01-09 & NO2  & 100.00000 & 21.4500000\\\\\n",
       "\t BAS & 2024-01-09 & PM10 & 100.00000 & 20.8000000\\\\\n",
       "\t BAS & 2024-01-09 & SO2  & 100.00000 &  0.5083333\\\\\n",
       "\t BAS & 2024-01-10 & NO2  & 100.00000 & 40.3000000\\\\\n",
       "\t BAS & 2024-01-10 & PM10 & 100.00000 & 36.8875000\\\\\n",
       "\t BAS & 2024-01-10 & SO2  & 100.00000 &  0.8000000\\\\\n",
       "\t ... & ... & ... & ... & ...\\\\\n",
       "\t DAV & 2024-12-22 & NO2  & 100 & 2.1708333\\\\\n",
       "\t DAV & 2024-12-22 & PM10 & 100 & 1.2333333\\\\\n",
       "\t DAV & 2024-12-22 & SO2  &   0 &       NaN\\\\\n",
       "\t DAV & 2024-12-23 & NO2  & 100 & 1.6250000\\\\\n",
       "\t DAV & 2024-12-23 & PM10 & 100 & 1.9541667\\\\\n",
       "\t DAV & 2024-12-23 & SO2  &   0 &       NaN\\\\\n",
       "\t DAV & 2024-12-24 & NO2  & 100 & 1.8875000\\\\\n",
       "\t DAV & 2024-12-24 & PM10 & 100 & 1.8666667\\\\\n",
       "\t DAV & 2024-12-24 & SO2  &   0 &       NaN\\\\\n",
       "\t DAV & 2024-12-25 & NO2  & 100 & 1.6000000\\\\\n",
       "\t DAV & 2024-12-25 & PM10 & 100 & 0.4833333\\\\\n",
       "\t DAV & 2024-12-25 & SO2  &   0 &       NaN\\\\\n",
       "\t DAV & 2024-12-26 & NO2  & 100 & 1.5833333\\\\\n",
       "\t DAV & 2024-12-26 & PM10 & 100 & 0.4041667\\\\\n",
       "\t DAV & 2024-12-26 & SO2  &   0 &       NaN\\\\\n",
       "\t DAV & 2024-12-27 & NO2  & 100 & 1.5625000\\\\\n",
       "\t DAV & 2024-12-27 & PM10 & 100 & 0.3583333\\\\\n",
       "\t DAV & 2024-12-27 & SO2  &   0 &       NaN\\\\\n",
       "\t DAV & 2024-12-28 & NO2  & 100 & 1.3708333\\\\\n",
       "\t DAV & 2024-12-28 & PM10 & 100 & 0.2458333\\\\\n",
       "\t DAV & 2024-12-28 & SO2  &   0 &       NaN\\\\\n",
       "\t DAV & 2024-12-29 & NO2  & 100 & 1.1458333\\\\\n",
       "\t DAV & 2024-12-29 & PM10 & 100 & 0.2833333\\\\\n",
       "\t DAV & 2024-12-29 & SO2  &   0 &       NaN\\\\\n",
       "\t DAV & 2024-12-30 & NO2  & 100 & 1.3166667\\\\\n",
       "\t DAV & 2024-12-30 & PM10 & 100 & 0.4083333\\\\\n",
       "\t DAV & 2024-12-30 & SO2  &   0 &       NaN\\\\\n",
       "\t DAV & 2024-12-31 & NO2  & 100 & 0.9750000\\\\\n",
       "\t DAV & 2024-12-31 & PM10 & 100 & 0.5333333\\\\\n",
       "\t DAV & 2024-12-31 & SO2  &   0 &       NaN\\\\\n",
       "\\end{tabular}\n"
      ],
      "text/markdown": [
       "\n",
       "A tibble: 2196 × 5\n",
       "\n",
       "| site &lt;chr&gt; | date &lt;date&gt; | variable &lt;chr&gt; | percent.recovery_daily &lt;dbl&gt; | value &lt;dbl&gt; |\n",
       "|---|---|---|---|---|\n",
       "| BAS | 2024-01-01 | NO2  | 100.00000 |  6.7166667 |\n",
       "| BAS | 2024-01-01 | PM10 | 100.00000 |  7.0083333 |\n",
       "| BAS | 2024-01-01 | SO2  | 100.00000 |  0.5291667 |\n",
       "| BAS | 2024-01-02 | NO2  | 100.00000 |  5.7750000 |\n",
       "| BAS | 2024-01-02 | PM10 | 100.00000 |  2.4958333 |\n",
       "| BAS | 2024-01-02 | SO2  | 100.00000 |  1.0291667 |\n",
       "| BAS | 2024-01-03 | NO2  | 100.00000 |  1.2416667 |\n",
       "| BAS | 2024-01-03 | PM10 | 100.00000 |  2.8958333 |\n",
       "| BAS | 2024-01-03 | SO2  | 100.00000 |  0.1166667 |\n",
       "| BAS | 2024-01-04 | NO2  |  95.83333 |  9.3652174 |\n",
       "| BAS | 2024-01-04 | PM10 | 100.00000 |  6.7833333 |\n",
       "| BAS | 2024-01-04 | SO2  |  95.83333 |  0.3043478 |\n",
       "| BAS | 2024-01-05 | NO2  | 100.00000 | 32.8916667 |\n",
       "| BAS | 2024-01-05 | PM10 | 100.00000 | 14.3000000 |\n",
       "| BAS | 2024-01-05 | SO2  | 100.00000 |  1.5708333 |\n",
       "| BAS | 2024-01-06 | NO2  | 100.00000 |  8.1958333 |\n",
       "| BAS | 2024-01-06 | PM10 | 100.00000 |  8.6291667 |\n",
       "| BAS | 2024-01-06 | SO2  | 100.00000 |  0.2791667 |\n",
       "| BAS | 2024-01-07 | NO2  | 100.00000 | 12.9583333 |\n",
       "| BAS | 2024-01-07 | PM10 | 100.00000 |  6.5916667 |\n",
       "| BAS | 2024-01-07 | SO2  | 100.00000 |  0.2583333 |\n",
       "| BAS | 2024-01-08 | NO2  | 100.00000 | 12.2833333 |\n",
       "| BAS | 2024-01-08 | PM10 | 100.00000 |  8.6708333 |\n",
       "| BAS | 2024-01-08 | SO2  | 100.00000 |  0.2375000 |\n",
       "| BAS | 2024-01-09 | NO2  | 100.00000 | 21.4500000 |\n",
       "| BAS | 2024-01-09 | PM10 | 100.00000 | 20.8000000 |\n",
       "| BAS | 2024-01-09 | SO2  | 100.00000 |  0.5083333 |\n",
       "| BAS | 2024-01-10 | NO2  | 100.00000 | 40.3000000 |\n",
       "| BAS | 2024-01-10 | PM10 | 100.00000 | 36.8875000 |\n",
       "| BAS | 2024-01-10 | SO2  | 100.00000 |  0.8000000 |\n",
       "| ... | ... | ... | ... | ... |\n",
       "| DAV | 2024-12-22 | NO2  | 100 | 2.1708333 |\n",
       "| DAV | 2024-12-22 | PM10 | 100 | 1.2333333 |\n",
       "| DAV | 2024-12-22 | SO2  |   0 |       NaN |\n",
       "| DAV | 2024-12-23 | NO2  | 100 | 1.6250000 |\n",
       "| DAV | 2024-12-23 | PM10 | 100 | 1.9541667 |\n",
       "| DAV | 2024-12-23 | SO2  |   0 |       NaN |\n",
       "| DAV | 2024-12-24 | NO2  | 100 | 1.8875000 |\n",
       "| DAV | 2024-12-24 | PM10 | 100 | 1.8666667 |\n",
       "| DAV | 2024-12-24 | SO2  |   0 |       NaN |\n",
       "| DAV | 2024-12-25 | NO2  | 100 | 1.6000000 |\n",
       "| DAV | 2024-12-25 | PM10 | 100 | 0.4833333 |\n",
       "| DAV | 2024-12-25 | SO2  |   0 |       NaN |\n",
       "| DAV | 2024-12-26 | NO2  | 100 | 1.5833333 |\n",
       "| DAV | 2024-12-26 | PM10 | 100 | 0.4041667 |\n",
       "| DAV | 2024-12-26 | SO2  |   0 |       NaN |\n",
       "| DAV | 2024-12-27 | NO2  | 100 | 1.5625000 |\n",
       "| DAV | 2024-12-27 | PM10 | 100 | 0.3583333 |\n",
       "| DAV | 2024-12-27 | SO2  |   0 |       NaN |\n",
       "| DAV | 2024-12-28 | NO2  | 100 | 1.3708333 |\n",
       "| DAV | 2024-12-28 | PM10 | 100 | 0.2458333 |\n",
       "| DAV | 2024-12-28 | SO2  |   0 |       NaN |\n",
       "| DAV | 2024-12-29 | NO2  | 100 | 1.1458333 |\n",
       "| DAV | 2024-12-29 | PM10 | 100 | 0.2833333 |\n",
       "| DAV | 2024-12-29 | SO2  |   0 |       NaN |\n",
       "| DAV | 2024-12-30 | NO2  | 100 | 1.3166667 |\n",
       "| DAV | 2024-12-30 | PM10 | 100 | 0.4083333 |\n",
       "| DAV | 2024-12-30 | SO2  |   0 |       NaN |\n",
       "| DAV | 2024-12-31 | NO2  | 100 | 0.9750000 |\n",
       "| DAV | 2024-12-31 | PM10 | 100 | 0.5333333 |\n",
       "| DAV | 2024-12-31 | SO2  |   0 |       NaN |\n",
       "\n"
      ],
      "text/plain": [
       "     site date       variable percent.recovery_daily value     \n",
       "1    BAS  2024-01-01 NO2      100.00000               6.7166667\n",
       "2    BAS  2024-01-01 PM10     100.00000               7.0083333\n",
       "3    BAS  2024-01-01 SO2      100.00000               0.5291667\n",
       "4    BAS  2024-01-02 NO2      100.00000               5.7750000\n",
       "5    BAS  2024-01-02 PM10     100.00000               2.4958333\n",
       "6    BAS  2024-01-02 SO2      100.00000               1.0291667\n",
       "7    BAS  2024-01-03 NO2      100.00000               1.2416667\n",
       "8    BAS  2024-01-03 PM10     100.00000               2.8958333\n",
       "9    BAS  2024-01-03 SO2      100.00000               0.1166667\n",
       "10   BAS  2024-01-04 NO2       95.83333               9.3652174\n",
       "11   BAS  2024-01-04 PM10     100.00000               6.7833333\n",
       "12   BAS  2024-01-04 SO2       95.83333               0.3043478\n",
       "13   BAS  2024-01-05 NO2      100.00000              32.8916667\n",
       "14   BAS  2024-01-05 PM10     100.00000              14.3000000\n",
       "15   BAS  2024-01-05 SO2      100.00000               1.5708333\n",
       "16   BAS  2024-01-06 NO2      100.00000               8.1958333\n",
       "17   BAS  2024-01-06 PM10     100.00000               8.6291667\n",
       "18   BAS  2024-01-06 SO2      100.00000               0.2791667\n",
       "19   BAS  2024-01-07 NO2      100.00000              12.9583333\n",
       "20   BAS  2024-01-07 PM10     100.00000               6.5916667\n",
       "21   BAS  2024-01-07 SO2      100.00000               0.2583333\n",
       "22   BAS  2024-01-08 NO2      100.00000              12.2833333\n",
       "23   BAS  2024-01-08 PM10     100.00000               8.6708333\n",
       "24   BAS  2024-01-08 SO2      100.00000               0.2375000\n",
       "25   BAS  2024-01-09 NO2      100.00000              21.4500000\n",
       "26   BAS  2024-01-09 PM10     100.00000              20.8000000\n",
       "27   BAS  2024-01-09 SO2      100.00000               0.5083333\n",
       "28   BAS  2024-01-10 NO2      100.00000              40.3000000\n",
       "29   BAS  2024-01-10 PM10     100.00000              36.8875000\n",
       "30   BAS  2024-01-10 SO2      100.00000               0.8000000\n",
       "...  ...  ...        ...      ...                    ...       \n",
       "2167 DAV  2024-12-22 NO2      100                    2.1708333 \n",
       "2168 DAV  2024-12-22 PM10     100                    1.2333333 \n",
       "2169 DAV  2024-12-22 SO2        0                          NaN \n",
       "2170 DAV  2024-12-23 NO2      100                    1.6250000 \n",
       "2171 DAV  2024-12-23 PM10     100                    1.9541667 \n",
       "2172 DAV  2024-12-23 SO2        0                          NaN \n",
       "2173 DAV  2024-12-24 NO2      100                    1.8875000 \n",
       "2174 DAV  2024-12-24 PM10     100                    1.8666667 \n",
       "2175 DAV  2024-12-24 SO2        0                          NaN \n",
       "2176 DAV  2024-12-25 NO2      100                    1.6000000 \n",
       "2177 DAV  2024-12-25 PM10     100                    0.4833333 \n",
       "2178 DAV  2024-12-25 SO2        0                          NaN \n",
       "2179 DAV  2024-12-26 NO2      100                    1.5833333 \n",
       "2180 DAV  2024-12-26 PM10     100                    0.4041667 \n",
       "2181 DAV  2024-12-26 SO2        0                          NaN \n",
       "2182 DAV  2024-12-27 NO2      100                    1.5625000 \n",
       "2183 DAV  2024-12-27 PM10     100                    0.3583333 \n",
       "2184 DAV  2024-12-27 SO2        0                          NaN \n",
       "2185 DAV  2024-12-28 NO2      100                    1.3708333 \n",
       "2186 DAV  2024-12-28 PM10     100                    0.2458333 \n",
       "2187 DAV  2024-12-28 SO2        0                          NaN \n",
       "2188 DAV  2024-12-29 NO2      100                    1.1458333 \n",
       "2189 DAV  2024-12-29 PM10     100                    0.2833333 \n",
       "2190 DAV  2024-12-29 SO2        0                          NaN \n",
       "2191 DAV  2024-12-30 NO2      100                    1.3166667 \n",
       "2192 DAV  2024-12-30 PM10     100                    0.4083333 \n",
       "2193 DAV  2024-12-30 SO2        0                          NaN \n",
       "2194 DAV  2024-12-31 NO2      100                    0.9750000 \n",
       "2195 DAV  2024-12-31 PM10     100                    0.5333333 \n",
       "2196 DAV  2024-12-31 SO2        0                          NaN "
      ]
     },
     "metadata": {},
     "output_type": "display_data"
    }
   ],
   "source": [
    "daily_lf"
   ]
  },
  {
   "cell_type": "code",
   "execution_count": 106,
   "id": "28b12ea8-8b18-42a6-856b-35d9b56be1a7",
   "metadata": {},
   "outputs": [
    {
     "data": {
      "text/html": [
       "<table class=\"dataframe\">\n",
       "<caption>A tibble: 5 × 3</caption>\n",
       "<thead>\n",
       "\t<tr><th scope=col>site</th><th scope=col>variable</th><th scope=col>n</th></tr>\n",
       "\t<tr><th scope=col>&lt;chr&gt;</th><th scope=col>&lt;chr&gt;</th><th scope=col>&lt;int&gt;</th></tr>\n",
       "</thead>\n",
       "<tbody>\n",
       "\t<tr><td>BAS</td><td>NO2 </td><td>  4</td></tr>\n",
       "\t<tr><td>BAS</td><td>PM10</td><td>  5</td></tr>\n",
       "\t<tr><td>BAS</td><td>SO2 </td><td>  2</td></tr>\n",
       "\t<tr><td>DAV</td><td>PM10</td><td>  4</td></tr>\n",
       "\t<tr><td>DAV</td><td>SO2 </td><td>366</td></tr>\n",
       "</tbody>\n",
       "</table>\n"
      ],
      "text/latex": [
       "A tibble: 5 × 3\n",
       "\\begin{tabular}{lll}\n",
       " site & variable & n\\\\\n",
       " <chr> & <chr> & <int>\\\\\n",
       "\\hline\n",
       "\t BAS & NO2  &   4\\\\\n",
       "\t BAS & PM10 &   5\\\\\n",
       "\t BAS & SO2  &   2\\\\\n",
       "\t DAV & PM10 &   4\\\\\n",
       "\t DAV & SO2  & 366\\\\\n",
       "\\end{tabular}\n"
      ],
      "text/markdown": [
       "\n",
       "A tibble: 5 × 3\n",
       "\n",
       "| site &lt;chr&gt; | variable &lt;chr&gt; | n &lt;int&gt; |\n",
       "|---|---|---|\n",
       "| BAS | NO2  |   4 |\n",
       "| BAS | PM10 |   5 |\n",
       "| BAS | SO2  |   2 |\n",
       "| DAV | PM10 |   4 |\n",
       "| DAV | SO2  | 366 |\n",
       "\n"
      ],
      "text/plain": [
       "  site variable n  \n",
       "1 BAS  NO2        4\n",
       "2 BAS  PM10       5\n",
       "3 BAS  SO2        2\n",
       "4 DAV  PM10       4\n",
       "5 DAV  SO2      366"
      ]
     },
     "metadata": {},
     "output_type": "display_data"
    }
   ],
   "source": [
    "# looking at the data that has less than 75% of valid datapoionts\n",
    "daily_lf %>%\n",
    "  filter(percent.recovery_daily < threshold) %>%\n",
    "  count(site, variable)"
   ]
  },
  {
   "cell_type": "code",
   "execution_count": 107,
   "id": "0a114fc7-734d-45af-9791-8974d3294785",
   "metadata": {},
   "outputs": [
    {
     "data": {
      "text/html": [
       "<table class=\"dataframe\">\n",
       "<caption>A tibble: 9 × 5</caption>\n",
       "<thead>\n",
       "\t<tr><th scope=col>site</th><th scope=col>date</th><th scope=col>variable</th><th scope=col>percent.recovery_daily</th><th scope=col>value</th></tr>\n",
       "\t<tr><th scope=col>&lt;chr&gt;</th><th scope=col>&lt;date&gt;</th><th scope=col>&lt;chr&gt;</th><th scope=col>&lt;dbl&gt;</th><th scope=col>&lt;dbl&gt;</th></tr>\n",
       "</thead>\n",
       "<tbody>\n",
       "\t<tr><td>BAS</td><td>2024-10-14</td><td>PM10</td><td> 0.00000</td><td>     NaN</td></tr>\n",
       "\t<tr><td>BAS</td><td>2024-10-21</td><td>PM10</td><td> 0.00000</td><td>     NaN</td></tr>\n",
       "\t<tr><td>BAS</td><td>2024-10-31</td><td>PM10</td><td> 0.00000</td><td>     NaN</td></tr>\n",
       "\t<tr><td>BAS</td><td>2024-12-01</td><td>PM10</td><td>58.33333</td><td>14.64286</td></tr>\n",
       "\t<tr><td>BAS</td><td>2024-12-29</td><td>PM10</td><td>50.00000</td><td>16.20000</td></tr>\n",
       "\t<tr><td>DAV</td><td>2024-10-01</td><td>PM10</td><td> 0.00000</td><td>     NaN</td></tr>\n",
       "\t<tr><td>DAV</td><td>2024-10-14</td><td>PM10</td><td> 0.00000</td><td>     NaN</td></tr>\n",
       "\t<tr><td>DAV</td><td>2024-10-21</td><td>PM10</td><td> 0.00000</td><td>     NaN</td></tr>\n",
       "\t<tr><td>DAV</td><td>2024-10-31</td><td>PM10</td><td> 0.00000</td><td>     NaN</td></tr>\n",
       "</tbody>\n",
       "</table>\n"
      ],
      "text/latex": [
       "A tibble: 9 × 5\n",
       "\\begin{tabular}{lllll}\n",
       " site & date & variable & percent.recovery\\_daily & value\\\\\n",
       " <chr> & <date> & <chr> & <dbl> & <dbl>\\\\\n",
       "\\hline\n",
       "\t BAS & 2024-10-14 & PM10 &  0.00000 &      NaN\\\\\n",
       "\t BAS & 2024-10-21 & PM10 &  0.00000 &      NaN\\\\\n",
       "\t BAS & 2024-10-31 & PM10 &  0.00000 &      NaN\\\\\n",
       "\t BAS & 2024-12-01 & PM10 & 58.33333 & 14.64286\\\\\n",
       "\t BAS & 2024-12-29 & PM10 & 50.00000 & 16.20000\\\\\n",
       "\t DAV & 2024-10-01 & PM10 &  0.00000 &      NaN\\\\\n",
       "\t DAV & 2024-10-14 & PM10 &  0.00000 &      NaN\\\\\n",
       "\t DAV & 2024-10-21 & PM10 &  0.00000 &      NaN\\\\\n",
       "\t DAV & 2024-10-31 & PM10 &  0.00000 &      NaN\\\\\n",
       "\\end{tabular}\n"
      ],
      "text/markdown": [
       "\n",
       "A tibble: 9 × 5\n",
       "\n",
       "| site &lt;chr&gt; | date &lt;date&gt; | variable &lt;chr&gt; | percent.recovery_daily &lt;dbl&gt; | value &lt;dbl&gt; |\n",
       "|---|---|---|---|---|\n",
       "| BAS | 2024-10-14 | PM10 |  0.00000 |      NaN |\n",
       "| BAS | 2024-10-21 | PM10 |  0.00000 |      NaN |\n",
       "| BAS | 2024-10-31 | PM10 |  0.00000 |      NaN |\n",
       "| BAS | 2024-12-01 | PM10 | 58.33333 | 14.64286 |\n",
       "| BAS | 2024-12-29 | PM10 | 50.00000 | 16.20000 |\n",
       "| DAV | 2024-10-01 | PM10 |  0.00000 |      NaN |\n",
       "| DAV | 2024-10-14 | PM10 |  0.00000 |      NaN |\n",
       "| DAV | 2024-10-21 | PM10 |  0.00000 |      NaN |\n",
       "| DAV | 2024-10-31 | PM10 |  0.00000 |      NaN |\n",
       "\n"
      ],
      "text/plain": [
       "  site date       variable percent.recovery_daily value   \n",
       "1 BAS  2024-10-14 PM10      0.00000                    NaN\n",
       "2 BAS  2024-10-21 PM10      0.00000                    NaN\n",
       "3 BAS  2024-10-31 PM10      0.00000                    NaN\n",
       "4 BAS  2024-12-01 PM10     58.33333               14.64286\n",
       "5 BAS  2024-12-29 PM10     50.00000               16.20000\n",
       "6 DAV  2024-10-01 PM10      0.00000                    NaN\n",
       "7 DAV  2024-10-14 PM10      0.00000                    NaN\n",
       "8 DAV  2024-10-21 PM10      0.00000                    NaN\n",
       "9 DAV  2024-10-31 PM10      0.00000                    NaN"
      ]
     },
     "metadata": {},
     "output_type": "display_data"
    }
   ],
   "source": [
    "filter(daily_lf, percent.recovery_daily < threshold & variable==\"PM10\") "
   ]
  },
  {
   "cell_type": "code",
   "execution_count": 108,
   "id": "46f02939-68d4-48b9-9e86-d3f41596e48b",
   "metadata": {},
   "outputs": [
    {
     "data": {
      "image/png": "[encoded data removed]",
      "text/plain": [
       "plot without title"
      ]
     },
     "metadata": {
      "image/png": {
       "height": 420,
       "width": 420
      }
     },
     "output_type": "display_data"
    }
   ],
   "source": [
    "limit_values_overshoot <- daily_lf %>%\n",
    "  filter(percent.recovery_daily >= threshold) %>%\n",
    "  ggplot+\n",
    "  facet_grid(variable~site, scale=\"free_y\")+  \n",
    "  geom_line(aes(x=date, y=value))+\n",
    "  geom_hline(data=limits.daily, mapping=aes(yintercept=value), linetype=2, color=\"red\")+\n",
    "  scale_x_date(name = \"\", date_labels = \"%b\") +\n",
    "  theme(axis.text.x=element_text(angle=30, hjust=1))+\n",
    "  labs(\n",
    "    x = \"Months\",  # Label for the x-axis\n",
    "    y = \"environmental variables (ug/m3)\",  # Label for the y-axis\n",
    "    title = \"Regulatory Values Exceedance\"  # Title for the plot\n",
    "  )\n",
    "\n",
    "limit_values_overshoot\n",
    "ggsave(\"outputs/limit_values_overshoot.jpeg\", plot = limit_values_overshoot, width = 6, height = 5, dpi = 300)"
   ]
  },
  {
   "cell_type": "code",
   "execution_count": 109,
   "id": "5b493f7e-9d32-42a7-9107-182139fea9a5",
   "metadata": {},
   "outputs": [
    {
     "data": {
      "image/png": "[encoded data removed]",
      "text/plain": [
       "plot without title"
      ]
     },
     "metadata": {
      "image/png": {
       "height": 420,
       "width": 420
      }
     },
     "output_type": "display_data"
    }
   ],
   "source": [
    "daily_lf %>%\n",
    "  filter(percent.recovery_daily >= threshold) %>%\n",
    "  ggplot+\n",
    "  facet_grid(variable~site, scale=\"free_y\")+  \n",
    "  geom_line(aes(x=value), stat=\"ecdf\")+\n",
    "  geom_point(aes(x=value), stat=\"ecdf\")+\n",
    "  geom_vline(data=limits.daily, mapping=aes(xintercept=value), linetype=2)"
   ]
  },
  {
   "cell_type": "markdown",
   "id": "f2830274-ca95-4ef9-a247-c7ec89c0b637",
   "metadata": {},
   "source": [
    "## Tables of interest for daily exceeding values"
   ]
  },
  {
   "cell_type": "code",
   "execution_count": 110,
   "id": "47554583-eaa9-4917-9090-bd17c60637b6",
   "metadata": {},
   "outputs": [
    {
     "data": {
      "text/html": [
       "<style>\n",
       ".dl-inline {width: auto; margin:0; padding: 0}\n",
       ".dl-inline>dt, .dl-inline>dd {float: none; width: auto; display: inline-block}\n",
       ".dl-inline>dt::after {content: \":\\0020\"; padding-right: .5ex}\n",
       ".dl-inline>dt:not(:first-of-type) {padding-left: .5ex}\n",
       "</style><dl class=dl-inline><dt>NO2</dt><dd>80</dd><dt>PM10</dt><dd>50</dd><dt>SO2</dt><dd>100</dd></dl>\n"
      ],
      "text/latex": [
       "\\begin{description*}\n",
       "\\item[NO2] 80\n",
       "\\item[PM10] 50\n",
       "\\item[SO2] 100\n",
       "\\end{description*}\n"
      ],
      "text/markdown": [
       "NO2\n",
       ":   80PM10\n",
       ":   50SO2\n",
       ":   100\n",
       "\n"
      ],
      "text/plain": [
       " NO2 PM10  SO2 \n",
       "  80   50  100 "
      ]
     },
     "metadata": {},
     "output_type": "display_data"
    }
   ],
   "source": [
    "(limits.vec <- with(limits.daily, setNames(value, variable)))"
   ]
  },
  {
   "cell_type": "code",
   "execution_count": 111,
   "id": "e8f5d6f2-92e3-4768-8367-794d56408571",
   "metadata": {},
   "outputs": [],
   "source": [
    "exceedances <- daily_lf %>%\n",
    "  filter(percent.recovery_daily >= threshold &\n",
    "         value > limits.vec[as.character(variable)])"
   ]
  },
  {
   "cell_type": "code",
   "execution_count": 112,
   "id": "0c206e0d-cf7c-4f24-8c23-ca3f76a4f684",
   "metadata": {},
   "outputs": [
    {
     "data": {
      "text/html": [
       "<table class=\"dataframe\">\n",
       "<caption>A tibble: 3 × 5</caption>\n",
       "<thead>\n",
       "\t<tr><th scope=col>site</th><th scope=col>date</th><th scope=col>variable</th><th scope=col>percent.recovery_daily</th><th scope=col>value</th></tr>\n",
       "\t<tr><th scope=col>&lt;chr&gt;</th><th scope=col>&lt;date&gt;</th><th scope=col>&lt;chr&gt;</th><th scope=col>&lt;dbl&gt;</th><th scope=col>&lt;dbl&gt;</th></tr>\n",
       "</thead>\n",
       "<tbody>\n",
       "\t<tr><td>DAV</td><td>2024-03-29</td><td>PM10</td><td>100</td><td>133.76250</td></tr>\n",
       "\t<tr><td>DAV</td><td>2024-03-30</td><td>PM10</td><td>100</td><td>107.39583</td></tr>\n",
       "\t<tr><td>DAV</td><td>2024-06-19</td><td>PM10</td><td>100</td><td> 51.05417</td></tr>\n",
       "</tbody>\n",
       "</table>\n"
      ],
      "text/latex": [
       "A tibble: 3 × 5\n",
       "\\begin{tabular}{lllll}\n",
       " site & date & variable & percent.recovery\\_daily & value\\\\\n",
       " <chr> & <date> & <chr> & <dbl> & <dbl>\\\\\n",
       "\\hline\n",
       "\t DAV & 2024-03-29 & PM10 & 100 & 133.76250\\\\\n",
       "\t DAV & 2024-03-30 & PM10 & 100 & 107.39583\\\\\n",
       "\t DAV & 2024-06-19 & PM10 & 100 &  51.05417\\\\\n",
       "\\end{tabular}\n"
      ],
      "text/markdown": [
       "\n",
       "A tibble: 3 × 5\n",
       "\n",
       "| site &lt;chr&gt; | date &lt;date&gt; | variable &lt;chr&gt; | percent.recovery_daily &lt;dbl&gt; | value &lt;dbl&gt; |\n",
       "|---|---|---|---|---|\n",
       "| DAV | 2024-03-29 | PM10 | 100 | 133.76250 |\n",
       "| DAV | 2024-03-30 | PM10 | 100 | 107.39583 |\n",
       "| DAV | 2024-06-19 | PM10 | 100 |  51.05417 |\n",
       "\n"
      ],
      "text/plain": [
       "  site date       variable percent.recovery_daily value    \n",
       "1 DAV  2024-03-29 PM10     100                    133.76250\n",
       "2 DAV  2024-03-30 PM10     100                    107.39583\n",
       "3 DAV  2024-06-19 PM10     100                     51.05417"
      ]
     },
     "metadata": {},
     "output_type": "display_data"
    }
   ],
   "source": [
    "tail(exceedances, 3)"
   ]
  },
  {
   "cell_type": "code",
   "execution_count": 113,
   "id": "0e723de5-314a-4d5d-aba7-3a3d9ca8243f",
   "metadata": {},
   "outputs": [
    {
     "data": {
      "text/html": [
       "<table class=\"dataframe\">\n",
       "<caption>A tibble: 1 × 3</caption>\n",
       "<thead>\n",
       "\t<tr><th scope=col>site</th><th scope=col>variable</th><th scope=col>n</th></tr>\n",
       "\t<tr><th scope=col>&lt;chr&gt;</th><th scope=col>&lt;chr&gt;</th><th scope=col>&lt;int&gt;</th></tr>\n",
       "</thead>\n",
       "<tbody>\n",
       "\t<tr><td>DAV</td><td>PM10</td><td>3</td></tr>\n",
       "</tbody>\n",
       "</table>\n"
      ],
      "text/latex": [
       "A tibble: 1 × 3\n",
       "\\begin{tabular}{lll}\n",
       " site & variable & n\\\\\n",
       " <chr> & <chr> & <int>\\\\\n",
       "\\hline\n",
       "\t DAV & PM10 & 3\\\\\n",
       "\\end{tabular}\n"
      ],
      "text/markdown": [
       "\n",
       "A tibble: 1 × 3\n",
       "\n",
       "| site &lt;chr&gt; | variable &lt;chr&gt; | n &lt;int&gt; |\n",
       "|---|---|---|\n",
       "| DAV | PM10 | 3 |\n",
       "\n"
      ],
      "text/plain": [
       "  site variable n\n",
       "1 DAV  PM10     3"
      ]
     },
     "metadata": {},
     "output_type": "display_data"
    }
   ],
   "source": [
    "exceedances %>%\n",
    "  count(site, variable)"
   ]
  },
  {
   "cell_type": "code",
   "execution_count": 114,
   "id": "630f89e3-3641-4e98-8e49-fb4031243810",
   "metadata": {},
   "outputs": [
    {
     "data": {
      "text/html": [
       "<table class=\"dataframe\">\n",
       "<caption>A tibble: 2 × 4</caption>\n",
       "<thead>\n",
       "\t<tr><th scope=col>site</th><th scope=col>variable</th><th scope=col>month</th><th scope=col>n</th></tr>\n",
       "\t<tr><th scope=col>&lt;chr&gt;</th><th scope=col>&lt;chr&gt;</th><th scope=col>&lt;chr&gt;</th><th scope=col>&lt;int&gt;</th></tr>\n",
       "</thead>\n",
       "<tbody>\n",
       "\t<tr><td>DAV</td><td>PM10</td><td>June </td><td>1</td></tr>\n",
       "\t<tr><td>DAV</td><td>PM10</td><td>March</td><td>2</td></tr>\n",
       "</tbody>\n",
       "</table>\n"
      ],
      "text/latex": [
       "A tibble: 2 × 4\n",
       "\\begin{tabular}{llll}\n",
       " site & variable & month & n\\\\\n",
       " <chr> & <chr> & <chr> & <int>\\\\\n",
       "\\hline\n",
       "\t DAV & PM10 & June  & 1\\\\\n",
       "\t DAV & PM10 & March & 2\\\\\n",
       "\\end{tabular}\n"
      ],
      "text/markdown": [
       "\n",
       "A tibble: 2 × 4\n",
       "\n",
       "| site &lt;chr&gt; | variable &lt;chr&gt; | month &lt;chr&gt; | n &lt;int&gt; |\n",
       "|---|---|---|---|\n",
       "| DAV | PM10 | June  | 1 |\n",
       "| DAV | PM10 | March | 2 |\n",
       "\n"
      ],
      "text/plain": [
       "  site variable month n\n",
       "1 DAV  PM10     June  1\n",
       "2 DAV  PM10     March 2"
      ]
     },
     "metadata": {},
     "output_type": "display_data"
    }
   ],
   "source": [
    "exceedances %>%\n",
    "  mutate(month = months(date)) %>%\n",
    "  count(site, variable, month)"
   ]
  },
  {
   "cell_type": "markdown",
   "id": "0fb5fe0e-f446-46bf-ad5d-0b7ab5361d67",
   "metadata": {},
   "source": [
    "## Yearly limit values"
   ]
  },
  {
   "cell_type": "code",
   "execution_count": 115,
   "id": "7462f422-37b7-464c-8656-4b242ce08ed1",
   "metadata": {},
   "outputs": [],
   "source": [
    "yearly_lf <- all_data_lf %>%\n",
    "  filter(variable %in% limits.yearly[[\"variable\"]]) %>% # select variables\n",
    "  mutate(date = date(datetime)) %>%                   # get the date value\n",
    "  group_by(site, variable) %>%\n",
    "  summarize(percent.recovery_yearly = length(na.omit(value))/length(value)*1e2,\n",
    "            value = mean(value, na.rm=TRUE)) %>%\n",
    "  ungroup()                                            # undo grouping for future use"
   ]
  },
  {
   "cell_type": "code",
   "execution_count": 116,
   "id": "db5b6b45-3811-4641-b664-38a013b93647",
   "metadata": {},
   "outputs": [
    {
     "data": {
      "text/html": [
       "<table class=\"dataframe\">\n",
       "<caption>A tibble: 8 × 4</caption>\n",
       "<thead>\n",
       "\t<tr><th scope=col>site</th><th scope=col>variable</th><th scope=col>percent.recovery_yearly</th><th scope=col>value</th></tr>\n",
       "\t<tr><th scope=col>&lt;chr&gt;</th><th scope=col>&lt;chr&gt;</th><th scope=col>&lt;dbl&gt;</th><th scope=col>&lt;dbl&gt;</th></tr>\n",
       "</thead>\n",
       "<tbody>\n",
       "\t<tr><td>BAS</td><td>NO2  </td><td>99.15756</td><td>12.5449024</td></tr>\n",
       "\t<tr><td>BAS</td><td>PM10 </td><td>98.71357</td><td>11.1924922</td></tr>\n",
       "\t<tr><td>BAS</td><td>PM2.5</td><td>96.80100</td><td> 7.7528755</td></tr>\n",
       "\t<tr><td>BAS</td><td>SO2  </td><td>99.22587</td><td> 0.5051514</td></tr>\n",
       "\t<tr><td>DAV</td><td>NO2  </td><td>99.74954</td><td> 1.9491326</td></tr>\n",
       "\t<tr><td>DAV</td><td>PM10 </td><td>98.88434</td><td> 5.1367833</td></tr>\n",
       "\t<tr><td>DAV</td><td>PM2.5</td><td> 0.00000</td><td>       NaN</td></tr>\n",
       "\t<tr><td>DAV</td><td>SO2  </td><td> 0.00000</td><td>       NaN</td></tr>\n",
       "</tbody>\n",
       "</table>\n"
      ],
      "text/latex": [
       "A tibble: 8 × 4\n",
       "\\begin{tabular}{llll}\n",
       " site & variable & percent.recovery\\_yearly & value\\\\\n",
       " <chr> & <chr> & <dbl> & <dbl>\\\\\n",
       "\\hline\n",
       "\t BAS & NO2   & 99.15756 & 12.5449024\\\\\n",
       "\t BAS & PM10  & 98.71357 & 11.1924922\\\\\n",
       "\t BAS & PM2.5 & 96.80100 &  7.7528755\\\\\n",
       "\t BAS & SO2   & 99.22587 &  0.5051514\\\\\n",
       "\t DAV & NO2   & 99.74954 &  1.9491326\\\\\n",
       "\t DAV & PM10  & 98.88434 &  5.1367833\\\\\n",
       "\t DAV & PM2.5 &  0.00000 &        NaN\\\\\n",
       "\t DAV & SO2   &  0.00000 &        NaN\\\\\n",
       "\\end{tabular}\n"
      ],
      "text/markdown": [
       "\n",
       "A tibble: 8 × 4\n",
       "\n",
       "| site &lt;chr&gt; | variable &lt;chr&gt; | percent.recovery_yearly &lt;dbl&gt; | value &lt;dbl&gt; |\n",
       "|---|---|---|---|\n",
       "| BAS | NO2   | 99.15756 | 12.5449024 |\n",
       "| BAS | PM10  | 98.71357 | 11.1924922 |\n",
       "| BAS | PM2.5 | 96.80100 |  7.7528755 |\n",
       "| BAS | SO2   | 99.22587 |  0.5051514 |\n",
       "| DAV | NO2   | 99.74954 |  1.9491326 |\n",
       "| DAV | PM10  | 98.88434 |  5.1367833 |\n",
       "| DAV | PM2.5 |  0.00000 |        NaN |\n",
       "| DAV | SO2   |  0.00000 |        NaN |\n",
       "\n"
      ],
      "text/plain": [
       "  site variable percent.recovery_yearly value     \n",
       "1 BAS  NO2      99.15756                12.5449024\n",
       "2 BAS  PM10     98.71357                11.1924922\n",
       "3 BAS  PM2.5    96.80100                 7.7528755\n",
       "4 BAS  SO2      99.22587                 0.5051514\n",
       "5 DAV  NO2      99.74954                 1.9491326\n",
       "6 DAV  PM10     98.88434                 5.1367833\n",
       "7 DAV  PM2.5     0.00000                       NaN\n",
       "8 DAV  SO2       0.00000                       NaN"
      ]
     },
     "metadata": {},
     "output_type": "display_data"
    }
   ],
   "source": [
    "yearly_lf"
   ]
  },
  {
   "cell_type": "markdown",
   "id": "74ec76db-bd35-4a5d-acde-eeb124b25ccd",
   "metadata": {},
   "source": [
    "yearly_lf %>%\n",
    "  filter(percent.recovery_yearly >= threshold) %>%\n",
    "  ggplot+\n",
    "  facet_grid(variable~site, scale=\"free_y\")+  \n",
    "  geom_line(aes(y=value))+\n",
    "  geom_hline(data=limits.yearly, mapping=aes(yintercept=value), linetype=2, color=\"red\")+\n",
    "  scale_x_date(name = \"\", date_labels = \"%b\") +\n",
    "  theme(axis.text.x=element_text(angle=30, hjust=1))"
   ]
  },
  {
   "cell_type": "markdown",
   "id": "861fe10f-a232-49c6-a5b4-a770b17c19ec",
   "metadata": {},
   "source": [
    "Yearly values are never exceeded. TODO : create a table in overleaf to compare the obtained results to the limit values"
   ]
  },
  {
   "cell_type": "markdown",
   "id": "73082f95-3eff-4a2c-9044-698536bb3364",
   "metadata": {},
   "source": [
    "## Hourly values"
   ]
  },
  {
   "cell_type": "code",
   "execution_count": 117,
   "id": "7b681336-5e9e-4160-99e0-d10891b30b72",
   "metadata": {},
   "outputs": [],
   "source": [
    "hourly_lf <- all_data_lf %>%\n",
    "  filter(variable %in% limits.hourly[[\"variable\"]]) %>% # select variables\n",
    "  #mutate(date = date(datetime)) %>%                   # get the date value\n",
    "  group_by(site, datetime, variable) %>%\n",
    "  summarize(percent.recovery_hourly = length(na.omit(value))/length(value)*1e2,\n",
    "            value = mean(value, na.rm=TRUE)) %>%\n",
    "  ungroup()                                            # undo grouping for future use"
   ]
  },
  {
   "cell_type": "code",
   "execution_count": 118,
   "id": "9db78980-a2b3-48a1-9193-e9a85a7f8147",
   "metadata": {
    "scrolled": true
   },
   "outputs": [
    {
     "data": {
      "text/html": [
       "<table class=\"dataframe\">\n",
       "<caption>A tibble: 17568 × 5</caption>\n",
       "<thead>\n",
       "\t<tr><th scope=col>site</th><th scope=col>datetime</th><th scope=col>variable</th><th scope=col>percent.recovery_hourly</th><th scope=col>value</th></tr>\n",
       "\t<tr><th scope=col>&lt;chr&gt;</th><th scope=col>&lt;chr&gt;</th><th scope=col>&lt;chr&gt;</th><th scope=col>&lt;dbl&gt;</th><th scope=col>&lt;dbl&gt;</th></tr>\n",
       "</thead>\n",
       "<tbody>\n",
       "\t<tr><td>BAS</td><td>2024-01-01 00:00:00</td><td>O3</td><td>100</td><td>60.2</td></tr>\n",
       "\t<tr><td>BAS</td><td>2024-01-01 01:00:00</td><td>O3</td><td>100</td><td>70.0</td></tr>\n",
       "\t<tr><td>BAS</td><td>2024-01-01 02:00:00</td><td>O3</td><td>100</td><td>70.3</td></tr>\n",
       "\t<tr><td>BAS</td><td>2024-01-01 03:00:00</td><td>O3</td><td>100</td><td>67.0</td></tr>\n",
       "\t<tr><td>BAS</td><td>2024-01-01 04:00:00</td><td>O3</td><td>100</td><td>66.5</td></tr>\n",
       "\t<tr><td>BAS</td><td>2024-01-01 05:00:00</td><td>O3</td><td>100</td><td>67.1</td></tr>\n",
       "\t<tr><td>BAS</td><td>2024-01-01 06:00:00</td><td>O3</td><td>100</td><td>70.1</td></tr>\n",
       "\t<tr><td>BAS</td><td>2024-01-01 07:00:00</td><td>O3</td><td>100</td><td>71.7</td></tr>\n",
       "\t<tr><td>BAS</td><td>2024-01-01 08:00:00</td><td>O3</td><td>100</td><td>64.6</td></tr>\n",
       "\t<tr><td>BAS</td><td>2024-01-01 09:00:00</td><td>O3</td><td>100</td><td>67.6</td></tr>\n",
       "\t<tr><td>BAS</td><td>2024-01-01 10:00:00</td><td>O3</td><td>100</td><td>68.9</td></tr>\n",
       "\t<tr><td>BAS</td><td>2024-01-01 11:00:00</td><td>O3</td><td>100</td><td>71.2</td></tr>\n",
       "\t<tr><td>BAS</td><td>2024-01-01 12:00:00</td><td>O3</td><td>100</td><td>71.6</td></tr>\n",
       "\t<tr><td>BAS</td><td>2024-01-01 13:00:00</td><td>O3</td><td>100</td><td>70.7</td></tr>\n",
       "\t<tr><td>BAS</td><td>2024-01-01 14:00:00</td><td>O3</td><td>100</td><td>69.9</td></tr>\n",
       "\t<tr><td>BAS</td><td>2024-01-01 15:00:00</td><td>O3</td><td>100</td><td>67.9</td></tr>\n",
       "\t<tr><td>BAS</td><td>2024-01-01 16:00:00</td><td>O3</td><td>100</td><td>64.6</td></tr>\n",
       "\t<tr><td>BAS</td><td>2024-01-01 17:00:00</td><td>O3</td><td>100</td><td>60.5</td></tr>\n",
       "\t<tr><td>BAS</td><td>2024-01-01 18:00:00</td><td>O3</td><td>100</td><td>63.6</td></tr>\n",
       "\t<tr><td>BAS</td><td>2024-01-01 19:00:00</td><td>O3</td><td>100</td><td>61.2</td></tr>\n",
       "\t<tr><td>BAS</td><td>2024-01-01 20:00:00</td><td>O3</td><td>100</td><td>31.9</td></tr>\n",
       "\t<tr><td>BAS</td><td>2024-01-01 21:00:00</td><td>O3</td><td>100</td><td>22.6</td></tr>\n",
       "\t<tr><td>BAS</td><td>2024-01-01 22:00:00</td><td>O3</td><td>100</td><td>27.4</td></tr>\n",
       "\t<tr><td>BAS</td><td>2024-01-01 23:00:00</td><td>O3</td><td>100</td><td>16.2</td></tr>\n",
       "\t<tr><td>BAS</td><td>2024-01-02 00:00:00</td><td>O3</td><td>100</td><td>27.3</td></tr>\n",
       "\t<tr><td>BAS</td><td>2024-01-02 01:00:00</td><td>O3</td><td>100</td><td>34.4</td></tr>\n",
       "\t<tr><td>BAS</td><td>2024-01-02 02:00:00</td><td>O3</td><td>100</td><td>25.2</td></tr>\n",
       "\t<tr><td>BAS</td><td>2024-01-02 03:00:00</td><td>O3</td><td>100</td><td>22.9</td></tr>\n",
       "\t<tr><td>BAS</td><td>2024-01-02 04:00:00</td><td>O3</td><td>100</td><td>25.0</td></tr>\n",
       "\t<tr><td>BAS</td><td>2024-01-02 05:00:00</td><td>O3</td><td>100</td><td>59.9</td></tr>\n",
       "\t<tr><td>...</td><td>...</td><td>...</td><td>...</td><td>...</td></tr>\n",
       "\t<tr><td>DAV</td><td>2024-12-30 18:00:00</td><td>O3</td><td>100</td><td>75.6</td></tr>\n",
       "\t<tr><td>DAV</td><td>2024-12-30 19:00:00</td><td>O3</td><td>100</td><td>78.3</td></tr>\n",
       "\t<tr><td>DAV</td><td>2024-12-30 20:00:00</td><td>O3</td><td>100</td><td>79.0</td></tr>\n",
       "\t<tr><td>DAV</td><td>2024-12-30 21:00:00</td><td>O3</td><td>100</td><td>79.2</td></tr>\n",
       "\t<tr><td>DAV</td><td>2024-12-30 22:00:00</td><td>O3</td><td>100</td><td>79.9</td></tr>\n",
       "\t<tr><td>DAV</td><td>2024-12-30 23:00:00</td><td>O3</td><td>100</td><td>79.4</td></tr>\n",
       "\t<tr><td>DAV</td><td>2024-12-31 00:00:00</td><td>O3</td><td>100</td><td>79.2</td></tr>\n",
       "\t<tr><td>DAV</td><td>2024-12-31 01:00:00</td><td>O3</td><td>100</td><td>80.8</td></tr>\n",
       "\t<tr><td>DAV</td><td>2024-12-31 02:00:00</td><td>O3</td><td>100</td><td>81.0</td></tr>\n",
       "\t<tr><td>DAV</td><td>2024-12-31 03:00:00</td><td>O3</td><td>100</td><td>81.1</td></tr>\n",
       "\t<tr><td>DAV</td><td>2024-12-31 04:00:00</td><td>O3</td><td>100</td><td>80.9</td></tr>\n",
       "\t<tr><td>DAV</td><td>2024-12-31 05:00:00</td><td>O3</td><td>100</td><td>81.5</td></tr>\n",
       "\t<tr><td>DAV</td><td>2024-12-31 06:00:00</td><td>O3</td><td>100</td><td>80.4</td></tr>\n",
       "\t<tr><td>DAV</td><td>2024-12-31 07:00:00</td><td>O3</td><td>100</td><td>79.5</td></tr>\n",
       "\t<tr><td>DAV</td><td>2024-12-31 08:00:00</td><td>O3</td><td>100</td><td>80.1</td></tr>\n",
       "\t<tr><td>DAV</td><td>2024-12-31 09:00:00</td><td>O3</td><td>100</td><td>79.0</td></tr>\n",
       "\t<tr><td>DAV</td><td>2024-12-31 10:00:00</td><td>O3</td><td>100</td><td>77.8</td></tr>\n",
       "\t<tr><td>DAV</td><td>2024-12-31 11:00:00</td><td>O3</td><td>100</td><td>76.7</td></tr>\n",
       "\t<tr><td>DAV</td><td>2024-12-31 12:00:00</td><td>O3</td><td>100</td><td>78.6</td></tr>\n",
       "\t<tr><td>DAV</td><td>2024-12-31 13:00:00</td><td>O3</td><td>100</td><td>77.9</td></tr>\n",
       "\t<tr><td>DAV</td><td>2024-12-31 14:00:00</td><td>O3</td><td>100</td><td>77.4</td></tr>\n",
       "\t<tr><td>DAV</td><td>2024-12-31 15:00:00</td><td>O3</td><td>100</td><td>76.8</td></tr>\n",
       "\t<tr><td>DAV</td><td>2024-12-31 16:00:00</td><td>O3</td><td>100</td><td>77.6</td></tr>\n",
       "\t<tr><td>DAV</td><td>2024-12-31 17:00:00</td><td>O3</td><td>100</td><td>76.6</td></tr>\n",
       "\t<tr><td>DAV</td><td>2024-12-31 18:00:00</td><td>O3</td><td>100</td><td>77.4</td></tr>\n",
       "\t<tr><td>DAV</td><td>2024-12-31 19:00:00</td><td>O3</td><td>100</td><td>74.0</td></tr>\n",
       "\t<tr><td>DAV</td><td>2024-12-31 20:00:00</td><td>O3</td><td>100</td><td>76.1</td></tr>\n",
       "\t<tr><td>DAV</td><td>2024-12-31 21:00:00</td><td>O3</td><td>100</td><td>77.8</td></tr>\n",
       "\t<tr><td>DAV</td><td>2024-12-31 22:00:00</td><td>O3</td><td>100</td><td>78.0</td></tr>\n",
       "\t<tr><td>DAV</td><td>2024-12-31 23:00:00</td><td>O3</td><td>100</td><td>77.4</td></tr>\n",
       "</tbody>\n",
       "</table>\n"
      ],
      "text/latex": [
       "A tibble: 17568 × 5\n",
       "\\begin{tabular}{lllll}\n",
       " site & datetime & variable & percent.recovery\\_hourly & value\\\\\n",
       " <chr> & <chr> & <chr> & <dbl> & <dbl>\\\\\n",
       "\\hline\n",
       "\t BAS & 2024-01-01 00:00:00 & O3 & 100 & 60.2\\\\\n",
       "\t BAS & 2024-01-01 01:00:00 & O3 & 100 & 70.0\\\\\n",
       "\t BAS & 2024-01-01 02:00:00 & O3 & 100 & 70.3\\\\\n",
       "\t BAS & 2024-01-01 03:00:00 & O3 & 100 & 67.0\\\\\n",
       "\t BAS & 2024-01-01 04:00:00 & O3 & 100 & 66.5\\\\\n",
       "\t BAS & 2024-01-01 05:00:00 & O3 & 100 & 67.1\\\\\n",
       "\t BAS & 2024-01-01 06:00:00 & O3 & 100 & 70.1\\\\\n",
       "\t BAS & 2024-01-01 07:00:00 & O3 & 100 & 71.7\\\\\n",
       "\t BAS & 2024-01-01 08:00:00 & O3 & 100 & 64.6\\\\\n",
       "\t BAS & 2024-01-01 09:00:00 & O3 & 100 & 67.6\\\\\n",
       "\t BAS & 2024-01-01 10:00:00 & O3 & 100 & 68.9\\\\\n",
       "\t BAS & 2024-01-01 11:00:00 & O3 & 100 & 71.2\\\\\n",
       "\t BAS & 2024-01-01 12:00:00 & O3 & 100 & 71.6\\\\\n",
       "\t BAS & 2024-01-01 13:00:00 & O3 & 100 & 70.7\\\\\n",
       "\t BAS & 2024-01-01 14:00:00 & O3 & 100 & 69.9\\\\\n",
       "\t BAS & 2024-01-01 15:00:00 & O3 & 100 & 67.9\\\\\n",
       "\t BAS & 2024-01-01 16:00:00 & O3 & 100 & 64.6\\\\\n",
       "\t BAS & 2024-01-01 17:00:00 & O3 & 100 & 60.5\\\\\n",
       "\t BAS & 2024-01-01 18:00:00 & O3 & 100 & 63.6\\\\\n",
       "\t BAS & 2024-01-01 19:00:00 & O3 & 100 & 61.2\\\\\n",
       "\t BAS & 2024-01-01 20:00:00 & O3 & 100 & 31.9\\\\\n",
       "\t BAS & 2024-01-01 21:00:00 & O3 & 100 & 22.6\\\\\n",
       "\t BAS & 2024-01-01 22:00:00 & O3 & 100 & 27.4\\\\\n",
       "\t BAS & 2024-01-01 23:00:00 & O3 & 100 & 16.2\\\\\n",
       "\t BAS & 2024-01-02 00:00:00 & O3 & 100 & 27.3\\\\\n",
       "\t BAS & 2024-01-02 01:00:00 & O3 & 100 & 34.4\\\\\n",
       "\t BAS & 2024-01-02 02:00:00 & O3 & 100 & 25.2\\\\\n",
       "\t BAS & 2024-01-02 03:00:00 & O3 & 100 & 22.9\\\\\n",
       "\t BAS & 2024-01-02 04:00:00 & O3 & 100 & 25.0\\\\\n",
       "\t BAS & 2024-01-02 05:00:00 & O3 & 100 & 59.9\\\\\n",
       "\t ... & ... & ... & ... & ...\\\\\n",
       "\t DAV & 2024-12-30 18:00:00 & O3 & 100 & 75.6\\\\\n",
       "\t DAV & 2024-12-30 19:00:00 & O3 & 100 & 78.3\\\\\n",
       "\t DAV & 2024-12-30 20:00:00 & O3 & 100 & 79.0\\\\\n",
       "\t DAV & 2024-12-30 21:00:00 & O3 & 100 & 79.2\\\\\n",
       "\t DAV & 2024-12-30 22:00:00 & O3 & 100 & 79.9\\\\\n",
       "\t DAV & 2024-12-30 23:00:00 & O3 & 100 & 79.4\\\\\n",
       "\t DAV & 2024-12-31 00:00:00 & O3 & 100 & 79.2\\\\\n",
       "\t DAV & 2024-12-31 01:00:00 & O3 & 100 & 80.8\\\\\n",
       "\t DAV & 2024-12-31 02:00:00 & O3 & 100 & 81.0\\\\\n",
       "\t DAV & 2024-12-31 03:00:00 & O3 & 100 & 81.1\\\\\n",
       "\t DAV & 2024-12-31 04:00:00 & O3 & 100 & 80.9\\\\\n",
       "\t DAV & 2024-12-31 05:00:00 & O3 & 100 & 81.5\\\\\n",
       "\t DAV & 2024-12-31 06:00:00 & O3 & 100 & 80.4\\\\\n",
       "\t DAV & 2024-12-31 07:00:00 & O3 & 100 & 79.5\\\\\n",
       "\t DAV & 2024-12-31 08:00:00 & O3 & 100 & 80.1\\\\\n",
       "\t DAV & 2024-12-31 09:00:00 & O3 & 100 & 79.0\\\\\n",
       "\t DAV & 2024-12-31 10:00:00 & O3 & 100 & 77.8\\\\\n",
       "\t DAV & 2024-12-31 11:00:00 & O3 & 100 & 76.7\\\\\n",
       "\t DAV & 2024-12-31 12:00:00 & O3 & 100 & 78.6\\\\\n",
       "\t DAV & 2024-12-31 13:00:00 & O3 & 100 & 77.9\\\\\n",
       "\t DAV & 2024-12-31 14:00:00 & O3 & 100 & 77.4\\\\\n",
       "\t DAV & 2024-12-31 15:00:00 & O3 & 100 & 76.8\\\\\n",
       "\t DAV & 2024-12-31 16:00:00 & O3 & 100 & 77.6\\\\\n",
       "\t DAV & 2024-12-31 17:00:00 & O3 & 100 & 76.6\\\\\n",
       "\t DAV & 2024-12-31 18:00:00 & O3 & 100 & 77.4\\\\\n",
       "\t DAV & 2024-12-31 19:00:00 & O3 & 100 & 74.0\\\\\n",
       "\t DAV & 2024-12-31 20:00:00 & O3 & 100 & 76.1\\\\\n",
       "\t DAV & 2024-12-31 21:00:00 & O3 & 100 & 77.8\\\\\n",
       "\t DAV & 2024-12-31 22:00:00 & O3 & 100 & 78.0\\\\\n",
       "\t DAV & 2024-12-31 23:00:00 & O3 & 100 & 77.4\\\\\n",
       "\\end{tabular}\n"
      ],
      "text/markdown": [
       "\n",
       "A tibble: 17568 × 5\n",
       "\n",
       "| site &lt;chr&gt; | datetime &lt;chr&gt; | variable &lt;chr&gt; | percent.recovery_hourly &lt;dbl&gt; | value &lt;dbl&gt; |\n",
       "|---|---|---|---|---|\n",
       "| BAS | 2024-01-01 00:00:00 | O3 | 100 | 60.2 |\n",
       "| BAS | 2024-01-01 01:00:00 | O3 | 100 | 70.0 |\n",
       "| BAS | 2024-01-01 02:00:00 | O3 | 100 | 70.3 |\n",
       "| BAS | 2024-01-01 03:00:00 | O3 | 100 | 67.0 |\n",
       "| BAS | 2024-01-01 04:00:00 | O3 | 100 | 66.5 |\n",
       "| BAS | 2024-01-01 05:00:00 | O3 | 100 | 67.1 |\n",
       "| BAS | 2024-01-01 06:00:00 | O3 | 100 | 70.1 |\n",
       "| BAS | 2024-01-01 07:00:00 | O3 | 100 | 71.7 |\n",
       "| BAS | 2024-01-01 08:00:00 | O3 | 100 | 64.6 |\n",
       "| BAS | 2024-01-01 09:00:00 | O3 | 100 | 67.6 |\n",
       "| BAS | 2024-01-01 10:00:00 | O3 | 100 | 68.9 |\n",
       "| BAS | 2024-01-01 11:00:00 | O3 | 100 | 71.2 |\n",
       "| BAS | 2024-01-01 12:00:00 | O3 | 100 | 71.6 |\n",
       "| BAS | 2024-01-01 13:00:00 | O3 | 100 | 70.7 |\n",
       "| BAS | 2024-01-01 14:00:00 | O3 | 100 | 69.9 |\n",
       "| BAS | 2024-01-01 15:00:00 | O3 | 100 | 67.9 |\n",
       "| BAS | 2024-01-01 16:00:00 | O3 | 100 | 64.6 |\n",
       "| BAS | 2024-01-01 17:00:00 | O3 | 100 | 60.5 |\n",
       "| BAS | 2024-01-01 18:00:00 | O3 | 100 | 63.6 |\n",
       "| BAS | 2024-01-01 19:00:00 | O3 | 100 | 61.2 |\n",
       "| BAS | 2024-01-01 20:00:00 | O3 | 100 | 31.9 |\n",
       "| BAS | 2024-01-01 21:00:00 | O3 | 100 | 22.6 |\n",
       "| BAS | 2024-01-01 22:00:00 | O3 | 100 | 27.4 |\n",
       "| BAS | 2024-01-01 23:00:00 | O3 | 100 | 16.2 |\n",
       "| BAS | 2024-01-02 00:00:00 | O3 | 100 | 27.3 |\n",
       "| BAS | 2024-01-02 01:00:00 | O3 | 100 | 34.4 |\n",
       "| BAS | 2024-01-02 02:00:00 | O3 | 100 | 25.2 |\n",
       "| BAS | 2024-01-02 03:00:00 | O3 | 100 | 22.9 |\n",
       "| BAS | 2024-01-02 04:00:00 | O3 | 100 | 25.0 |\n",
       "| BAS | 2024-01-02 05:00:00 | O3 | 100 | 59.9 |\n",
       "| ... | ... | ... | ... | ... |\n",
       "| DAV | 2024-12-30 18:00:00 | O3 | 100 | 75.6 |\n",
       "| DAV | 2024-12-30 19:00:00 | O3 | 100 | 78.3 |\n",
       "| DAV | 2024-12-30 20:00:00 | O3 | 100 | 79.0 |\n",
       "| DAV | 2024-12-30 21:00:00 | O3 | 100 | 79.2 |\n",
       "| DAV | 2024-12-30 22:00:00 | O3 | 100 | 79.9 |\n",
       "| DAV | 2024-12-30 23:00:00 | O3 | 100 | 79.4 |\n",
       "| DAV | 2024-12-31 00:00:00 | O3 | 100 | 79.2 |\n",
       "| DAV | 2024-12-31 01:00:00 | O3 | 100 | 80.8 |\n",
       "| DAV | 2024-12-31 02:00:00 | O3 | 100 | 81.0 |\n",
       "| DAV | 2024-12-31 03:00:00 | O3 | 100 | 81.1 |\n",
       "| DAV | 2024-12-31 04:00:00 | O3 | 100 | 80.9 |\n",
       "| DAV | 2024-12-31 05:00:00 | O3 | 100 | 81.5 |\n",
       "| DAV | 2024-12-31 06:00:00 | O3 | 100 | 80.4 |\n",
       "| DAV | 2024-12-31 07:00:00 | O3 | 100 | 79.5 |\n",
       "| DAV | 2024-12-31 08:00:00 | O3 | 100 | 80.1 |\n",
       "| DAV | 2024-12-31 09:00:00 | O3 | 100 | 79.0 |\n",
       "| DAV | 2024-12-31 10:00:00 | O3 | 100 | 77.8 |\n",
       "| DAV | 2024-12-31 11:00:00 | O3 | 100 | 76.7 |\n",
       "| DAV | 2024-12-31 12:00:00 | O3 | 100 | 78.6 |\n",
       "| DAV | 2024-12-31 13:00:00 | O3 | 100 | 77.9 |\n",
       "| DAV | 2024-12-31 14:00:00 | O3 | 100 | 77.4 |\n",
       "| DAV | 2024-12-31 15:00:00 | O3 | 100 | 76.8 |\n",
       "| DAV | 2024-12-31 16:00:00 | O3 | 100 | 77.6 |\n",
       "| DAV | 2024-12-31 17:00:00 | O3 | 100 | 76.6 |\n",
       "| DAV | 2024-12-31 18:00:00 | O3 | 100 | 77.4 |\n",
       "| DAV | 2024-12-31 19:00:00 | O3 | 100 | 74.0 |\n",
       "| DAV | 2024-12-31 20:00:00 | O3 | 100 | 76.1 |\n",
       "| DAV | 2024-12-31 21:00:00 | O3 | 100 | 77.8 |\n",
       "| DAV | 2024-12-31 22:00:00 | O3 | 100 | 78.0 |\n",
       "| DAV | 2024-12-31 23:00:00 | O3 | 100 | 77.4 |\n",
       "\n"
      ],
      "text/plain": [
       "      site datetime            variable percent.recovery_hourly value\n",
       "1     BAS  2024-01-01 00:00:00 O3       100                     60.2 \n",
       "2     BAS  2024-01-01 01:00:00 O3       100                     70.0 \n",
       "3     BAS  2024-01-01 02:00:00 O3       100                     70.3 \n",
       "4     BAS  2024-01-01 03:00:00 O3       100                     67.0 \n",
       "5     BAS  2024-01-01 04:00:00 O3       100                     66.5 \n",
       "6     BAS  2024-01-01 05:00:00 O3       100                     67.1 \n",
       "7     BAS  2024-01-01 06:00:00 O3       100                     70.1 \n",
       "8     BAS  2024-01-01 07:00:00 O3       100                     71.7 \n",
       "9     BAS  2024-01-01 08:00:00 O3       100                     64.6 \n",
       "10    BAS  2024-01-01 09:00:00 O3       100                     67.6 \n",
       "11    BAS  2024-01-01 10:00:00 O3       100                     68.9 \n",
       "12    BAS  2024-01-01 11:00:00 O3       100                     71.2 \n",
       "13    BAS  2024-01-01 12:00:00 O3       100                     71.6 \n",
       "14    BAS  2024-01-01 13:00:00 O3       100                     70.7 \n",
       "15    BAS  2024-01-01 14:00:00 O3       100                     69.9 \n",
       "16    BAS  2024-01-01 15:00:00 O3       100                     67.9 \n",
       "17    BAS  2024-01-01 16:00:00 O3       100                     64.6 \n",
       "18    BAS  2024-01-01 17:00:00 O3       100                     60.5 \n",
       "19    BAS  2024-01-01 18:00:00 O3       100                     63.6 \n",
       "20    BAS  2024-01-01 19:00:00 O3       100                     61.2 \n",
       "21    BAS  2024-01-01 20:00:00 O3       100                     31.9 \n",
       "22    BAS  2024-01-01 21:00:00 O3       100                     22.6 \n",
       "23    BAS  2024-01-01 22:00:00 O3       100                     27.4 \n",
       "24    BAS  2024-01-01 23:00:00 O3       100                     16.2 \n",
       "25    BAS  2024-01-02 00:00:00 O3       100                     27.3 \n",
       "26    BAS  2024-01-02 01:00:00 O3       100                     34.4 \n",
       "27    BAS  2024-01-02 02:00:00 O3       100                     25.2 \n",
       "28    BAS  2024-01-02 03:00:00 O3       100                     22.9 \n",
       "29    BAS  2024-01-02 04:00:00 O3       100                     25.0 \n",
       "30    BAS  2024-01-02 05:00:00 O3       100                     59.9 \n",
       "...   ...  ...                 ...      ...                     ...  \n",
       "17539 DAV  2024-12-30 18:00:00 O3       100                     75.6 \n",
       "17540 DAV  2024-12-30 19:00:00 O3       100                     78.3 \n",
       "17541 DAV  2024-12-30 20:00:00 O3       100                     79.0 \n",
       "17542 DAV  2024-12-30 21:00:00 O3       100                     79.2 \n",
       "17543 DAV  2024-12-30 22:00:00 O3       100                     79.9 \n",
       "17544 DAV  2024-12-30 23:00:00 O3       100                     79.4 \n",
       "17545 DAV  2024-12-31 00:00:00 O3       100                     79.2 \n",
       "17546 DAV  2024-12-31 01:00:00 O3       100                     80.8 \n",
       "17547 DAV  2024-12-31 02:00:00 O3       100                     81.0 \n",
       "17548 DAV  2024-12-31 03:00:00 O3       100                     81.1 \n",
       "17549 DAV  2024-12-31 04:00:00 O3       100                     80.9 \n",
       "17550 DAV  2024-12-31 05:00:00 O3       100                     81.5 \n",
       "17551 DAV  2024-12-31 06:00:00 O3       100                     80.4 \n",
       "17552 DAV  2024-12-31 07:00:00 O3       100                     79.5 \n",
       "17553 DAV  2024-12-31 08:00:00 O3       100                     80.1 \n",
       "17554 DAV  2024-12-31 09:00:00 O3       100                     79.0 \n",
       "17555 DAV  2024-12-31 10:00:00 O3       100                     77.8 \n",
       "17556 DAV  2024-12-31 11:00:00 O3       100                     76.7 \n",
       "17557 DAV  2024-12-31 12:00:00 O3       100                     78.6 \n",
       "17558 DAV  2024-12-31 13:00:00 O3       100                     77.9 \n",
       "17559 DAV  2024-12-31 14:00:00 O3       100                     77.4 \n",
       "17560 DAV  2024-12-31 15:00:00 O3       100                     76.8 \n",
       "17561 DAV  2024-12-31 16:00:00 O3       100                     77.6 \n",
       "17562 DAV  2024-12-31 17:00:00 O3       100                     76.6 \n",
       "17563 DAV  2024-12-31 18:00:00 O3       100                     77.4 \n",
       "17564 DAV  2024-12-31 19:00:00 O3       100                     74.0 \n",
       "17565 DAV  2024-12-31 20:00:00 O3       100                     76.1 \n",
       "17566 DAV  2024-12-31 21:00:00 O3       100                     77.8 \n",
       "17567 DAV  2024-12-31 22:00:00 O3       100                     78.0 \n",
       "17568 DAV  2024-12-31 23:00:00 O3       100                     77.4 "
      ]
     },
     "metadata": {},
     "output_type": "display_data"
    }
   ],
   "source": [
    "hourly_lf"
   ]
  },
  {
   "cell_type": "code",
   "execution_count": 119,
   "id": "fcbb5216-90a3-4299-b1b4-b0e271c75a2d",
   "metadata": {},
   "outputs": [],
   "source": [
    "hourly_lf$datetime <- as.POSIXct(hourly_lf$datetime)"
   ]
  },
  {
   "cell_type": "code",
   "execution_count": 120,
   "id": "88ba0e82-789b-41df-b263-3bdc04b09aad",
   "metadata": {},
   "outputs": [
    {
     "data": {
      "image/png": "[encoded data removed]",
      "text/plain": [
       "plot without title"
      ]
     },
     "metadata": {
      "image/png": {
       "height": 420,
       "width": 420
      }
     },
     "output_type": "display_data"
    }
   ],
   "source": [
    "hourly_lf %>%\n",
    "  filter(percent.recovery_hourly >= threshold) %>%\n",
    "  ggplot(aes(x = datetime, y = value)) +        \n",
    "  facet_grid(variable ~ site, scale = \"free_y\") +  \n",
    "  geom_line() +                                 \n",
    "  geom_hline(data = limits.hourly, aes(yintercept = value), linetype = 2, color = \"red\") + \n",
    "  scale_x_datetime(name = \"\", date_labels = \"%b\") +  # Use scale_x_datetime here\n",
    "  theme(axis.text.x = element_text(angle = 30, hjust = 1))"
   ]
  },
  {
   "cell_type": "code",
   "execution_count": 121,
   "id": "88a3873b-17ae-4a35-aee8-ffc1400ed43f",
   "metadata": {},
   "outputs": [
    {
     "data": {
      "image/png": "[encoded data removed]",
      "text/plain": [
       "plot without title"
      ]
     },
     "metadata": {
      "image/png": {
       "height": 420,
       "width": 420
      }
     },
     "output_type": "display_data"
    }
   ],
   "source": [
    "hourly_lf %>%\n",
    "  filter(percent.recovery_hourly >= threshold) %>%\n",
    "  ggplot+\n",
    "  facet_grid(variable~site, scale=\"free_y\")+  \n",
    "  geom_line(aes(x=value), stat=\"ecdf\")+\n",
    "  geom_point(aes(x=value), stat=\"ecdf\")+\n",
    "  geom_vline(data=limits.hourly, mapping=aes(xintercept=value), linetype=2)"
   ]
  },
  {
   "cell_type": "markdown",
   "id": "5a9a0139-eabb-4f30-8154-548063e1c589",
   "metadata": {},
   "source": [
    "## Tables of hourly exceeding values"
   ]
  },
  {
   "cell_type": "code",
   "execution_count": 122,
   "id": "8caa492a-bd8d-4b88-b164-14a362e0a2fc",
   "metadata": {},
   "outputs": [
    {
     "data": {
      "text/html": [
       "<strong>O3:</strong> 120"
      ],
      "text/latex": [
       "\\textbf{O3:} 120"
      ],
      "text/markdown": [
       "**O3:** 120"
      ],
      "text/plain": [
       " O3 \n",
       "120 "
      ]
     },
     "metadata": {},
     "output_type": "display_data"
    }
   ],
   "source": [
    "(hourly_limits.vec <- with(limits.hourly, setNames(value, variable)))"
   ]
  },
  {
   "cell_type": "code",
   "execution_count": 123,
   "id": "c18960aa-1361-48c4-8284-daf834a4cb48",
   "metadata": {},
   "outputs": [],
   "source": [
    "hourly_exceedances <- hourly_lf %>%\n",
    "  filter(percent.recovery_hourly >= threshold &\n",
    "         value > hourly_limits.vec[as.character(variable)])"
   ]
  },
  {
   "cell_type": "code",
   "execution_count": 124,
   "id": "a096fe24-f72d-4f0e-b044-674ecfb25e42",
   "metadata": {},
   "outputs": [
    {
     "data": {
      "text/html": [
       "<table class=\"dataframe\">\n",
       "<caption>A tibble: 6 × 5</caption>\n",
       "<thead>\n",
       "\t<tr><th scope=col>site</th><th scope=col>datetime</th><th scope=col>variable</th><th scope=col>percent.recovery_hourly</th><th scope=col>value</th></tr>\n",
       "\t<tr><th scope=col>&lt;chr&gt;</th><th scope=col>&lt;dttm&gt;</th><th scope=col>&lt;chr&gt;</th><th scope=col>&lt;dbl&gt;</th><th scope=col>&lt;dbl&gt;</th></tr>\n",
       "</thead>\n",
       "<tbody>\n",
       "\t<tr><td>BAS</td><td>2024-04-13</td><td>O3</td><td>100</td><td>123.2</td></tr>\n",
       "\t<tr><td>BAS</td><td>2024-04-13</td><td>O3</td><td>100</td><td>129.9</td></tr>\n",
       "\t<tr><td>BAS</td><td>2024-04-13</td><td>O3</td><td>100</td><td>134.7</td></tr>\n",
       "\t<tr><td>BAS</td><td>2024-04-13</td><td>O3</td><td>100</td><td>134.0</td></tr>\n",
       "\t<tr><td>BAS</td><td>2024-04-13</td><td>O3</td><td>100</td><td>138.0</td></tr>\n",
       "\t<tr><td>BAS</td><td>2024-05-10</td><td>O3</td><td>100</td><td>121.8</td></tr>\n",
       "</tbody>\n",
       "</table>\n"
      ],
      "text/latex": [
       "A tibble: 6 × 5\n",
       "\\begin{tabular}{lllll}\n",
       " site & datetime & variable & percent.recovery\\_hourly & value\\\\\n",
       " <chr> & <dttm> & <chr> & <dbl> & <dbl>\\\\\n",
       "\\hline\n",
       "\t BAS & 2024-04-13 & O3 & 100 & 123.2\\\\\n",
       "\t BAS & 2024-04-13 & O3 & 100 & 129.9\\\\\n",
       "\t BAS & 2024-04-13 & O3 & 100 & 134.7\\\\\n",
       "\t BAS & 2024-04-13 & O3 & 100 & 134.0\\\\\n",
       "\t BAS & 2024-04-13 & O3 & 100 & 138.0\\\\\n",
       "\t BAS & 2024-05-10 & O3 & 100 & 121.8\\\\\n",
       "\\end{tabular}\n"
      ],
      "text/markdown": [
       "\n",
       "A tibble: 6 × 5\n",
       "\n",
       "| site &lt;chr&gt; | datetime &lt;dttm&gt; | variable &lt;chr&gt; | percent.recovery_hourly &lt;dbl&gt; | value &lt;dbl&gt; |\n",
       "|---|---|---|---|---|\n",
       "| BAS | 2024-04-13 | O3 | 100 | 123.2 |\n",
       "| BAS | 2024-04-13 | O3 | 100 | 129.9 |\n",
       "| BAS | 2024-04-13 | O3 | 100 | 134.7 |\n",
       "| BAS | 2024-04-13 | O3 | 100 | 134.0 |\n",
       "| BAS | 2024-04-13 | O3 | 100 | 138.0 |\n",
       "| BAS | 2024-05-10 | O3 | 100 | 121.8 |\n",
       "\n"
      ],
      "text/plain": [
       "  site datetime   variable percent.recovery_hourly value\n",
       "1 BAS  2024-04-13 O3       100                     123.2\n",
       "2 BAS  2024-04-13 O3       100                     129.9\n",
       "3 BAS  2024-04-13 O3       100                     134.7\n",
       "4 BAS  2024-04-13 O3       100                     134.0\n",
       "5 BAS  2024-04-13 O3       100                     138.0\n",
       "6 BAS  2024-05-10 O3       100                     121.8"
      ]
     },
     "metadata": {},
     "output_type": "display_data"
    }
   ],
   "source": [
    "head(hourly_exceedances)"
   ]
  },
  {
   "cell_type": "code",
   "execution_count": 125,
   "id": "6354b6df-1c0c-40e7-9a85-8717857826f9",
   "metadata": {},
   "outputs": [
    {
     "data": {
      "text/html": [
       "<table class=\"dataframe\">\n",
       "<caption>A tibble: 6 × 5</caption>\n",
       "<thead>\n",
       "\t<tr><th scope=col>site</th><th scope=col>datetime</th><th scope=col>variable</th><th scope=col>percent.recovery_hourly</th><th scope=col>value</th></tr>\n",
       "\t<tr><th scope=col>&lt;chr&gt;</th><th scope=col>&lt;dttm&gt;</th><th scope=col>&lt;chr&gt;</th><th scope=col>&lt;dbl&gt;</th><th scope=col>&lt;dbl&gt;</th></tr>\n",
       "</thead>\n",
       "<tbody>\n",
       "\t<tr><td>BAS</td><td>2024-09-01</td><td>O3</td><td>100</td><td>125.3</td></tr>\n",
       "\t<tr><td>BAS</td><td>2024-09-01</td><td>O3</td><td>100</td><td>131.4</td></tr>\n",
       "\t<tr><td>BAS</td><td>2024-09-01</td><td>O3</td><td>100</td><td>133.6</td></tr>\n",
       "\t<tr><td>BAS</td><td>2024-09-01</td><td>O3</td><td>100</td><td>139.8</td></tr>\n",
       "\t<tr><td>BAS</td><td>2024-09-01</td><td>O3</td><td>100</td><td>126.0</td></tr>\n",
       "\t<tr><td>BAS</td><td>2024-09-01</td><td>O3</td><td>100</td><td>121.4</td></tr>\n",
       "</tbody>\n",
       "</table>\n"
      ],
      "text/latex": [
       "A tibble: 6 × 5\n",
       "\\begin{tabular}{lllll}\n",
       " site & datetime & variable & percent.recovery\\_hourly & value\\\\\n",
       " <chr> & <dttm> & <chr> & <dbl> & <dbl>\\\\\n",
       "\\hline\n",
       "\t BAS & 2024-09-01 & O3 & 100 & 125.3\\\\\n",
       "\t BAS & 2024-09-01 & O3 & 100 & 131.4\\\\\n",
       "\t BAS & 2024-09-01 & O3 & 100 & 133.6\\\\\n",
       "\t BAS & 2024-09-01 & O3 & 100 & 139.8\\\\\n",
       "\t BAS & 2024-09-01 & O3 & 100 & 126.0\\\\\n",
       "\t BAS & 2024-09-01 & O3 & 100 & 121.4\\\\\n",
       "\\end{tabular}\n"
      ],
      "text/markdown": [
       "\n",
       "A tibble: 6 × 5\n",
       "\n",
       "| site &lt;chr&gt; | datetime &lt;dttm&gt; | variable &lt;chr&gt; | percent.recovery_hourly &lt;dbl&gt; | value &lt;dbl&gt; |\n",
       "|---|---|---|---|---|\n",
       "| BAS | 2024-09-01 | O3 | 100 | 125.3 |\n",
       "| BAS | 2024-09-01 | O3 | 100 | 131.4 |\n",
       "| BAS | 2024-09-01 | O3 | 100 | 133.6 |\n",
       "| BAS | 2024-09-01 | O3 | 100 | 139.8 |\n",
       "| BAS | 2024-09-01 | O3 | 100 | 126.0 |\n",
       "| BAS | 2024-09-01 | O3 | 100 | 121.4 |\n",
       "\n"
      ],
      "text/plain": [
       "  site datetime   variable percent.recovery_hourly value\n",
       "1 BAS  2024-09-01 O3       100                     125.3\n",
       "2 BAS  2024-09-01 O3       100                     131.4\n",
       "3 BAS  2024-09-01 O3       100                     133.6\n",
       "4 BAS  2024-09-01 O3       100                     139.8\n",
       "5 BAS  2024-09-01 O3       100                     126.0\n",
       "6 BAS  2024-09-01 O3       100                     121.4"
      ]
     },
     "metadata": {},
     "output_type": "display_data"
    }
   ],
   "source": [
    "tail(hourly_exceedances)"
   ]
  },
  {
   "cell_type": "code",
   "execution_count": 126,
   "id": "cf192c4b-d535-497b-8cbb-44f5cf325153",
   "metadata": {},
   "outputs": [
    {
     "data": {
      "text/html": [
       "<table class=\"dataframe\">\n",
       "<caption>A tibble: 1 × 3</caption>\n",
       "<thead>\n",
       "\t<tr><th scope=col>site</th><th scope=col>variable</th><th scope=col>n</th></tr>\n",
       "\t<tr><th scope=col>&lt;chr&gt;</th><th scope=col>&lt;chr&gt;</th><th scope=col>&lt;int&gt;</th></tr>\n",
       "</thead>\n",
       "<tbody>\n",
       "\t<tr><td>BAS</td><td>O3</td><td>109</td></tr>\n",
       "</tbody>\n",
       "</table>\n"
      ],
      "text/latex": [
       "A tibble: 1 × 3\n",
       "\\begin{tabular}{lll}\n",
       " site & variable & n\\\\\n",
       " <chr> & <chr> & <int>\\\\\n",
       "\\hline\n",
       "\t BAS & O3 & 109\\\\\n",
       "\\end{tabular}\n"
      ],
      "text/markdown": [
       "\n",
       "A tibble: 1 × 3\n",
       "\n",
       "| site &lt;chr&gt; | variable &lt;chr&gt; | n &lt;int&gt; |\n",
       "|---|---|---|\n",
       "| BAS | O3 | 109 |\n",
       "\n"
      ],
      "text/plain": [
       "  site variable n  \n",
       "1 BAS  O3       109"
      ]
     },
     "metadata": {},
     "output_type": "display_data"
    }
   ],
   "source": [
    "hourly_exceedances %>%\n",
    "  count(site, variable)"
   ]
  },
  {
   "cell_type": "code",
   "execution_count": 127,
   "id": "8203f722-126f-4964-8761-c2c89ae6c133",
   "metadata": {},
   "outputs": [
    {
     "data": {
      "text/html": [
       "<table class=\"dataframe\">\n",
       "<caption>A tibble: 6 × 4</caption>\n",
       "<thead>\n",
       "\t<tr><th scope=col>site</th><th scope=col>variable</th><th scope=col>month</th><th scope=col>n</th></tr>\n",
       "\t<tr><th scope=col>&lt;chr&gt;</th><th scope=col>&lt;chr&gt;</th><th scope=col>&lt;chr&gt;</th><th scope=col>&lt;int&gt;</th></tr>\n",
       "</thead>\n",
       "<tbody>\n",
       "\t<tr><td>BAS</td><td>O3</td><td>April    </td><td> 5</td></tr>\n",
       "\t<tr><td>BAS</td><td>O3</td><td>August   </td><td>52</td></tr>\n",
       "\t<tr><td>BAS</td><td>O3</td><td>July     </td><td>24</td></tr>\n",
       "\t<tr><td>BAS</td><td>O3</td><td>June     </td><td> 7</td></tr>\n",
       "\t<tr><td>BAS</td><td>O3</td><td>May      </td><td>15</td></tr>\n",
       "\t<tr><td>BAS</td><td>O3</td><td>September</td><td> 6</td></tr>\n",
       "</tbody>\n",
       "</table>\n"
      ],
      "text/latex": [
       "A tibble: 6 × 4\n",
       "\\begin{tabular}{llll}\n",
       " site & variable & month & n\\\\\n",
       " <chr> & <chr> & <chr> & <int>\\\\\n",
       "\\hline\n",
       "\t BAS & O3 & April     &  5\\\\\n",
       "\t BAS & O3 & August    & 52\\\\\n",
       "\t BAS & O3 & July      & 24\\\\\n",
       "\t BAS & O3 & June      &  7\\\\\n",
       "\t BAS & O3 & May       & 15\\\\\n",
       "\t BAS & O3 & September &  6\\\\\n",
       "\\end{tabular}\n"
      ],
      "text/markdown": [
       "\n",
       "A tibble: 6 × 4\n",
       "\n",
       "| site &lt;chr&gt; | variable &lt;chr&gt; | month &lt;chr&gt; | n &lt;int&gt; |\n",
       "|---|---|---|---|\n",
       "| BAS | O3 | April     |  5 |\n",
       "| BAS | O3 | August    | 52 |\n",
       "| BAS | O3 | July      | 24 |\n",
       "| BAS | O3 | June      |  7 |\n",
       "| BAS | O3 | May       | 15 |\n",
       "| BAS | O3 | September |  6 |\n",
       "\n"
      ],
      "text/plain": [
       "  site variable month     n \n",
       "1 BAS  O3       April      5\n",
       "2 BAS  O3       August    52\n",
       "3 BAS  O3       July      24\n",
       "4 BAS  O3       June       7\n",
       "5 BAS  O3       May       15\n",
       "6 BAS  O3       September  6"
      ]
     },
     "metadata": {},
     "output_type": "display_data"
    }
   ],
   "source": [
    "hourly_exceedances %>%\n",
    "  mutate(month = months(datetime)) %>%\n",
    "  count(site, variable, month)"
   ]
  },
  {
   "cell_type": "code",
   "execution_count": null,
   "id": "c392da57-e373-4a14-9b79-6656c208dee0",
   "metadata": {},
   "outputs": [],
   "source": []
  },
  {
   "cell_type": "code",
   "execution_count": null,
   "id": "d1f91196-01a8-41d9-90c6-a00832e5237e",
   "metadata": {},
   "outputs": [],
   "source": []
  },
  {
   "cell_type": "code",
   "execution_count": null,
   "id": "94bfd09d-5562-40a4-877c-78c6bdaac793",
   "metadata": {},
   "outputs": [],
   "source": []
  },
  {
   "cell_type": "code",
   "execution_count": null,
   "id": "cda09c1b-5132-491f-b8a2-9654d80d0c96",
   "metadata": {},
   "outputs": [],
   "source": []
  },
  {
   "cell_type": "code",
   "execution_count": null,
   "id": "576d8eb5-3b4c-4def-b2ca-a0b7f50c414f",
   "metadata": {},
   "outputs": [],
   "source": []
  }
 ],
 "metadata": {
  "kernelspec": {
   "display_name": "R",
   "language": "R",
   "name": "ir"
  },
  "language_info": {
   "codemirror_mode": "r",
   "file_extension": ".r",
   "mimetype": "text/x-r-source",
   "name": "R",
   "pygments_lexer": "r",
   "version": "4.1.3"
  }
 },
 "nbformat": 4,
 "nbformat_minor": 5
}
