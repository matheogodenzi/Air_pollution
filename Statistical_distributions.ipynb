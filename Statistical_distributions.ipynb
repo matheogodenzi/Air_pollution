{
 "cells": [
  {
   "cell_type": "markdown",
   "id": "066305d4-7f5c-4d1f-8fef-a82a69ba7c49",
   "metadata": {},
   "source": [
    "# Statistical distributions"
   ]
  },
  {
   "cell_type": "code",
   "execution_count": 6,
   "id": "e5d48a7b-fccb-4b3d-9c89-d8350995c06f",
   "metadata": {},
   "outputs": [
    {
     "ename": "ERROR",
     "evalue": "Error in library(fitdistrplus): aucun package nommé 'fitdistrplus' n'est trouvé\n",
     "output_type": "error",
     "traceback": [
      "Error in library(fitdistrplus): aucun package nommé 'fitdistrplus' n'est trouvé\nTraceback:\n",
      "1. library(fitdistrplus)"
     ]
    }
   ],
   "source": [
    "library(tidyverse)\n",
    "library(tidyr)\n",
    "library(dplyr)\n",
    "library(ggplot2)\n",
    "library(readxl)\n",
    "library(openxlsx)\n",
    "library(lattice)\n",
    "\n",
    "library(fitdistrplus)"
   ]
  },
  {
   "cell_type": "code",
   "execution_count": 7,
   "id": "1792f75c-0b15-4aaf-a512-c005e6c1f181",
   "metadata": {},
   "outputs": [
    {
     "name": "stderr",
     "output_type": "stream",
     "text": [
      "Installation du package dans 'C:/Users/matheo/Documents/R/win-library/4.1'\n",
      "(car 'lib' n'est pas spécifié)\n",
      "\n",
      "Warning message:\n",
      "\"unable to access index for repository https://cran.r-project.org/src/contrib:\n",
      "  impossible d'ouvrir le fichier de destination 'C:\\Users\\matheo\\AppData\\Local\\Temp\\RtmpUpT2D9\\file47c427ab1c5a', à cause de 'No such file or directory'\"\n",
      "Warning message:\n",
      "\"le package 'fitdistrplus' n'est pas disponible for this version of R\n",
      "\n",
      "Une version de ce package pour votre version de R est peut-être disponible ailleurs,\n",
      "Voyez des idées à\n",
      "https://cran.r-project.org/doc/manuals/r-patched/R-admin.html#Installing-packages\"\n",
      "Warning message:\n",
      "\"unable to access index for repository https://cran.r-project.org/bin/windows/contrib/4.1:\n",
      "  impossible d'ouvrir le fichier de destination 'C:\\Users\\matheo\\AppData\\Local\\Temp\\RtmpUpT2D9\\file47c442307d7f', à cause de 'No such file or directory'\"\n"
     ]
    }
   ],
   "source": [
    "install.packages(\"fitdistrplus\")"
   ]
  },
  {
   "cell_type": "code",
   "execution_count": 9,
   "id": "3416420b-2bb7-436f-961c-7ec6c9d218da",
   "metadata": {},
   "outputs": [
    {
     "data": {
      "text/plain": [
       "               _                           \n",
       "platform       x86_64-w64-mingw32          \n",
       "arch           x86_64                      \n",
       "os             mingw32                     \n",
       "system         x86_64, mingw32             \n",
       "status                                     \n",
       "major          4                           \n",
       "minor          1.3                         \n",
       "year           2022                        \n",
       "month          03                          \n",
       "day            10                          \n",
       "svn rev        81868                       \n",
       "language       R                           \n",
       "version.string R version 4.1.3 (2022-03-10)\n",
       "nickname       One Push-Up                 "
      ]
     },
     "metadata": {},
     "output_type": "display_data"
    }
   ],
   "source": [
    "version"
   ]
  },
  {
   "cell_type": "code",
   "execution_count": 2,
   "id": "b02275ed-0c81-4dbd-82e2-eb7e517bac7a",
   "metadata": {},
   "outputs": [],
   "source": [
    "# Read a CSV file into a data frame\n",
    "df <- read.csv(\"Data/All_dat_df.csv\")"
   ]
  },
  {
   "cell_type": "code",
   "execution_count": 3,
   "id": "df79238d-4e55-49bb-aab0-22ef3eb521bb",
   "metadata": {},
   "outputs": [
    {
     "data": {
      "text/html": [
       "<style>\n",
       ".list-inline {list-style: none; margin:0; padding: 0}\n",
       ".list-inline>li {display: inline-block}\n",
       ".list-inline>li:not(:last-child)::after {content: \"\\00b7\"; padding: 0 .5ex}\n",
       "</style>\n",
       "<ol class=list-inline><li>'site'</li><li>'datetime'</li><li>'year'</li><li>'month'</li><li>'day'</li><li>'hour'</li><li>'dayofwk'</li><li>'daytype'</li><li>'season'</li><li>'O3'</li><li>'NO2'</li><li>'PM10'</li><li>'NOX'</li><li>'TEMP'</li><li>'PREC'</li><li>'RAD'</li><li>'SO2'</li><li>'PM2.5'</li><li>'EC'</li><li>'CPC'</li><li>'avg_wind_speed'</li><li>'avg_wind_direction'</li></ol>\n"
      ],
      "text/latex": [
       "\\begin{enumerate*}\n",
       "\\item 'site'\n",
       "\\item 'datetime'\n",
       "\\item 'year'\n",
       "\\item 'month'\n",
       "\\item 'day'\n",
       "\\item 'hour'\n",
       "\\item 'dayofwk'\n",
       "\\item 'daytype'\n",
       "\\item 'season'\n",
       "\\item 'O3'\n",
       "\\item 'NO2'\n",
       "\\item 'PM10'\n",
       "\\item 'NOX'\n",
       "\\item 'TEMP'\n",
       "\\item 'PREC'\n",
       "\\item 'RAD'\n",
       "\\item 'SO2'\n",
       "\\item 'PM2.5'\n",
       "\\item 'EC'\n",
       "\\item 'CPC'\n",
       "\\item 'avg\\_wind\\_speed'\n",
       "\\item 'avg\\_wind\\_direction'\n",
       "\\end{enumerate*}\n"
      ],
      "text/markdown": [
       "1. 'site'\n",
       "2. 'datetime'\n",
       "3. 'year'\n",
       "4. 'month'\n",
       "5. 'day'\n",
       "6. 'hour'\n",
       "7. 'dayofwk'\n",
       "8. 'daytype'\n",
       "9. 'season'\n",
       "10. 'O3'\n",
       "11. 'NO2'\n",
       "12. 'PM10'\n",
       "13. 'NOX'\n",
       "14. 'TEMP'\n",
       "15. 'PREC'\n",
       "16. 'RAD'\n",
       "17. 'SO2'\n",
       "18. 'PM2.5'\n",
       "19. 'EC'\n",
       "20. 'CPC'\n",
       "21. 'avg_wind_speed'\n",
       "22. 'avg_wind_direction'\n",
       "\n",
       "\n"
      ],
      "text/plain": [
       " [1] \"site\"               \"datetime\"           \"year\"              \n",
       " [4] \"month\"              \"day\"                \"hour\"              \n",
       " [7] \"dayofwk\"            \"daytype\"            \"season\"            \n",
       "[10] \"O3\"                 \"NO2\"                \"PM10\"              \n",
       "[13] \"NOX\"                \"TEMP\"               \"PREC\"              \n",
       "[16] \"RAD\"                \"SO2\"                \"PM2.5\"             \n",
       "[19] \"EC\"                 \"CPC\"                \"avg_wind_speed\"    \n",
       "[22] \"avg_wind_direction\""
      ]
     },
     "metadata": {},
     "output_type": "display_data"
    }
   ],
   "source": [
    "# Access column names\n",
    "colnames(df)\n",
    "variables <- c('O3','NO2','PM10','NOX','TEMP','PREC','RAD','SO2','PM2.5','EC','CPC','avg_wind_speed','avg_wind_direction')"
   ]
  },
  {
   "cell_type": "code",
   "execution_count": 4,
   "id": "da7a14c5-bbbc-4a8b-8e16-1a5e1109681d",
   "metadata": {},
   "outputs": [
    {
     "name": "stderr",
     "output_type": "stream",
     "text": [
      "Warning message:\n",
      "\"\u001b[1m\u001b[22mThere were 1487 warnings in `summarize()`.\n",
      "The first warning was:\n",
      "\u001b[1m\u001b[22m\u001b[36mi\u001b[39m In argument: `value = max(value, na.rm = TRUE)`.\n",
      "\u001b[36mi\u001b[39m In group 170: `site = \"BAS\"`, `year = 2024`, `month = 1`, `day = 14`, `season = \"Winter\"`, `variable = \"CPC\"`.\n",
      "Caused by warning in `max()`:\n",
      "\u001b[33m!\u001b[39m aucun argument pour max ; -Inf est renvoyé\n",
      "\u001b[1m\u001b[22m\u001b[36mi\u001b[39m Run `dplyr::last_dplyr_warnings()` to see the 1486 remaining warnings.\"\n"
     ]
    }
   ],
   "source": [
    "lf <- pivot_longer(df, all_of(variables), names_to = \"variable\", values_to = \"value\")\n",
    "daily.max <- lf %>%\n",
    "  group_by(site, year, month, day, season, variable) %>%\n",
    "  summarize(value = max(value, na.rm=TRUE), .groups = \"drop\") %>%\n",
    "  pivot_wider(names_from = variable, values_from = value)"
   ]
  },
  {
   "cell_type": "code",
   "execution_count": 10,
   "id": "30c87eb7-ba64-4af2-9076-b37329d926f5",
   "metadata": {},
   "outputs": [
    {
     "data": {
      "text/plain": [
       "               _                           \n",
       "platform       x86_64-w64-mingw32          \n",
       "arch           x86_64                      \n",
       "os             mingw32                     \n",
       "system         x86_64, mingw32             \n",
       "status                                     \n",
       "major          4                           \n",
       "minor          1.3                         \n",
       "year           2022                        \n",
       "month          03                          \n",
       "day            10                          \n",
       "svn rev        81868                       \n",
       "language       R                           \n",
       "version.string R version 4.1.3 (2022-03-10)\n",
       "nickname       One Push-Up                 "
      ]
     },
     "metadata": {},
     "output_type": "display_data"
    }
   ],
   "source": [
    "version"
   ]
  },
  {
   "cell_type": "code",
   "execution_count": null,
   "id": "644d1092-fbb9-49b1-baa0-6e5e3a714a2c",
   "metadata": {},
   "outputs": [],
   "source": []
  }
 ],
 "metadata": {
  "kernelspec": {
   "display_name": "R",
   "language": "R",
   "name": "ir"
  },
  "language_info": {
   "codemirror_mode": "r",
   "file_extension": ".r",
   "mimetype": "text/x-r-source",
   "name": "R",
   "pygments_lexer": "r",
   "version": "4.1.3"
  }
 },
 "nbformat": 4,
 "nbformat_minor": 5
}
