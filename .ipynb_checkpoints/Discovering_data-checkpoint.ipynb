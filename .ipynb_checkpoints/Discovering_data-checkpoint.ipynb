{
 "cells": [
  {
   "cell_type": "markdown",
   "id": "cb4208e1-5f3f-4c15-bf31-f8a2b284e53f",
   "metadata": {},
   "source": [
    "# Data Viz"
   ]
  },
  {
   "cell_type": "code",
   "execution_count": 1,
   "id": "ac740f7d-a0a2-43a8-b5d9-81aed9435bb0",
   "metadata": {},
   "outputs": [],
   "source": [
    "## ------------------------Installing libraries------------------------------------------------\n",
    "# Install from CRAN\n",
    "#install.packages(\"tidyverse\")\n",
    "#install.packages(\"lubridate\")"
   ]
  },
  {
   "cell_type": "code",
   "execution_count": 2,
   "id": "48ec2943-c46f-4534-837a-28670342f09b",
   "metadata": {},
   "outputs": [
    {
     "name": "stderr",
     "output_type": "stream",
     "text": [
      "-- \u001b[1mAttaching core tidyverse packages\u001b[22m ---------------------------------------------------------------- tidyverse 2.0.0 --\n",
      "\u001b[32mv\u001b[39m \u001b[34mdplyr    \u001b[39m 1.1.2     \u001b[32mv\u001b[39m \u001b[34mpurrr    \u001b[39m 1.0.1\n",
      "\u001b[32mv\u001b[39m \u001b[34mforcats  \u001b[39m 1.0.0     \u001b[32mv\u001b[39m \u001b[34mstringr  \u001b[39m 1.5.1\n",
      "\u001b[32mv\u001b[39m \u001b[34mggplot2  \u001b[39m 3.4.2     \u001b[32mv\u001b[39m \u001b[34mtibble   \u001b[39m 3.2.1\n",
      "\u001b[32mv\u001b[39m \u001b[34mlubridate\u001b[39m 1.9.2     \u001b[32mv\u001b[39m \u001b[34mtidyr    \u001b[39m 1.3.0\n",
      "-- \u001b[1mConflicts\u001b[22m ---------------------------------------------------------------------------------- tidyverse_conflicts() --\n",
      "\u001b[31mx\u001b[39m \u001b[34mdplyr\u001b[39m::\u001b[32mfilter()\u001b[39m masks \u001b[34mstats\u001b[39m::filter()\n",
      "\u001b[31mx\u001b[39m \u001b[34mdplyr\u001b[39m::\u001b[32mlag()\u001b[39m    masks \u001b[34mstats\u001b[39m::lag()\n",
      "\u001b[36mi\u001b[39m Use the conflicted package (\u001b[3m\u001b[34m<http://conflicted.r-lib.org/>\u001b[39m\u001b[23m) to force all conflicts to become errors\n"
     ]
    }
   ],
   "source": [
    "##______________________________ LOADING LIBRARIES________________________\n",
    "library(readr)\n",
    "library(tidyverse)\n",
    "library(lubridate)\n",
    "library(ggplot2)"
   ]
  },
  {
   "cell_type": "code",
   "execution_count": 21,
   "id": "c18cd1e2-44eb-4925-ab6c-6b89edd8b3f4",
   "metadata": {},
   "outputs": [],
   "source": [
    "# Functions\n",
    "\n",
    "## This function reads csv data files\n",
    "read_data <- function(filename, delim_f, skip_f) {\n",
    "    \n",
    "    ## Read data file\n",
    "    data <- read_delim(filename, delim=delim_f, skip=skip_f,\n",
    "                   col_names=c(\"datetime\",\"O3\",\"NO2\",\"SO2\",\"CO\",\"PM10\",\"TEMP\",\"PREC\",\"RAD\"), show_col_types = FALSE)\n",
    "    # show_col_types = TRUE shows the column types to explicit what each column contains\n",
    "\n",
    "    return(data)\n",
    "}"
   ]
  },
  {
   "cell_type": "code",
   "execution_count": 22,
   "id": "a6e2c4d3-8bf0-40c7-8e81-0d363b64af9c",
   "metadata": {},
   "outputs": [
    {
     "data": {
      "text/html": [
       "'C'"
      ],
      "text/latex": [
       "'C'"
      ],
      "text/markdown": [
       "'C'"
      ],
      "text/plain": [
       "[1] \"C\""
      ]
     },
     "metadata": {},
     "output_type": "display_data"
    }
   ],
   "source": [
    "## Specify settings\n",
    "Sys.setlocale(\"LC_TIME\",\"C\")\n",
    "options(stringsAsFactors=FALSE)\n",
    "theme_set(theme_bw()) # just my preference for plots"
   ]
  },
  {
   "cell_type": "code",
   "execution_count": 23,
   "id": "64b89d0d-df2b-4bd9-a9ed-7e90f9720019",
   "metadata": {},
   "outputs": [
    {
     "data": {
      "text/html": [
       "TRUE"
      ],
      "text/latex": [
       "TRUE"
      ],
      "text/markdown": [
       "TRUE"
      ],
      "text/plain": [
       "[1] TRUE"
      ]
     },
     "metadata": {},
     "output_type": "display_data"
    },
    {
     "data": {
      "text/html": [
       "TRUE"
      ],
      "text/latex": [
       "TRUE"
      ],
      "text/markdown": [
       "TRUE"
      ],
      "text/plain": [
       "[1] TRUE"
      ]
     },
     "metadata": {},
     "output_type": "display_data"
    }
   ],
   "source": [
    "## ------------------LOADING DATA------------------------------------------------------\n",
    "## Define input file (located in same directory)\n",
    "BASEL <- \"./Data/BAS(1).csv\"\n",
    "file.exists(BASEL)\n",
    "\n",
    "DAVOS <- \"./Data/DAV.csv\"\n",
    "file.exists(DAVOS)"
   ]
  },
  {
   "cell_type": "code",
   "execution_count": 50,
   "id": "eba3cc4c-080e-4952-af91-18012c95380f",
   "metadata": {},
   "outputs": [],
   "source": [
    "##____________________READING DATA_____________\n",
    "#DAVOS_data <- read_data(DAVOS, \";\", 6)\n",
    "DAVOS_data <- read_delim(DAVOS, delim=\";\", skip=6,\n",
    "               col_names=c(\"datetime\",\"O3\",\"NO2\",\"PM10\",\"NOx\",\"TEMP\",\"PREC\",\"RAD\"), show_col_types = FALSE)\n",
    "# BASEL_data <- read_data(BASEL, \";\", 6)\n",
    "## Read data file\n",
    "BASEL_data <- read_delim(BASEL, delim=\";\", skip=6,\n",
    "               col_names=c(\"datetime\",\"O3\",\"NO2\",\"SO2\",\"PM10\",\"PM2.5\",\"EC\", \"CPC\", \"NOx\",\"TEMP\",\"PREC\",\"RAD\"), show_col_types = FALSE)\n",
    "# show_col_types = TRUE shows the column types to explicit what each column contains\n"
   ]
  },
  {
   "cell_type": "code",
   "execution_count": 51,
   "id": "37aa1d32-46ab-4c26-af6d-9365bbaa1d93",
   "metadata": {},
   "outputs": [
    {
     "name": "stdout",
     "output_type": "stream",
     "text": [
      "Davos dataset:\n",
      "spc_tbl_ [8,784 x 8] (S3: spec_tbl_df/tbl_df/tbl/data.frame)\n",
      " $ datetime: chr [1:8784] \"01.01.2024 01:00\" \"01.01.2024 02:00\" \"01.01.2024 03:00\" \"01.01.2024 04:00\" ...\n",
      " $ O3      : num [1:8784] 57.7 55.2 49.9 52.1 65.8 67.1 64 58.4 61.8 59 ...\n",
      " $ NO2     : num [1:8784] 1.9 2.1 3.7 4.5 0.7 0.7 3.4 5.4 1.7 2.9 ...\n",
      " $ PM10    : num [1:8784] 1.2 1.5 2.2 3 0.2 0.4 0.3 0.3 0.3 0.4 ...\n",
      " $ NOx     : num [1:8784] 1.9 2.1 3.7 4.6 0.7 0.7 3.5 5.4 1.8 3.4 ...\n",
      " $ TEMP    : num [1:8784] -2.2 -2.8 -3.3 -4.2 -5.2 -5.6 -5.7 -5.9 -5.7 -5.3 ...\n",
      " $ PREC    : num [1:8784] 0 0 0 0 0 0 0 0 0 0 ...\n",
      " $ RAD     : num [1:8784] -0.6 -0.7 -0.7 -1.1 -1.3 -0.8 -0.6 -0.6 22.6 73.9 ...\n",
      " - attr(*, \"spec\")=\n",
      "  .. cols(\n",
      "  ..   datetime = \u001b[31mcol_character()\u001b[39m,\n",
      "  ..   O3 = \u001b[32mcol_double()\u001b[39m,\n",
      "  ..   NO2 = \u001b[32mcol_double()\u001b[39m,\n",
      "  ..   PM10 = \u001b[32mcol_double()\u001b[39m,\n",
      "  ..   NOx = \u001b[32mcol_double()\u001b[39m,\n",
      "  ..   TEMP = \u001b[32mcol_double()\u001b[39m,\n",
      "  ..   PREC = \u001b[32mcol_double()\u001b[39m,\n",
      "  ..   RAD = \u001b[32mcol_double()\u001b[39m\n",
      "  .. )\n",
      " - attr(*, \"problems\")=<externalptr> \n",
      "\n",
      "Basel dataset:\n",
      "spc_tbl_ [8,784 x 12] (S3: spec_tbl_df/tbl_df/tbl/data.frame)\n",
      " $ datetime: chr [1:8784] \"01.01.2024 01:00\" \"01.01.2024 02:00\" \"01.01.2024 03:00\" \"01.01.2024 04:00\" ...\n",
      " $ O3      : num [1:8784] 60.2 70 70.3 67 66.5 67.1 70.1 71.7 64.6 67.6 ...\n",
      " $ NO2     : num [1:8784] 7.5 1.9 1.5 1.3 2 2.7 2 1.5 2.6 2.1 ...\n",
      " $ SO2     : num [1:8784] 1.6 0.7 0.4 0.3 0.3 0.3 0.2 0.2 0.2 0.2 ...\n",
      " $ PM10    : num [1:8784] 35.8 7.2 3.7 2 2.9 4.6 3.1 4.6 4.8 5.7 ...\n",
      " $ PM2.5   : num [1:8784] 25.2 4.4 1.8 1 1.4 2.1 1.5 2.1 2.1 2.5 ...\n",
      " $ EC      : num [1:8784] 0.4 0.1 0 0 0.1 0.1 0 0 0 0.1 ...\n",
      " $ CPC     : num [1:8784] 10341 2394 1341 1173 1308 ...\n",
      " $ NOx     : num [1:8784] 8.7 2.5 2.1 2 2.7 3.3 2.8 2.3 3.4 2.9 ...\n",
      " $ TEMP    : num [1:8784] 5.5 6.6 5.7 5.7 5.7 5.9 6.1 6.6 5.5 6.8 ...\n",
      " $ PREC    : num [1:8784] 0 0 1.4 0 0 0 0 0 0 0 ...\n",
      " $ RAD     : num [1:8784] 0 0 0 0 0.2 0 0 0 14.5 95.5 ...\n",
      " - attr(*, \"spec\")=\n",
      "  .. cols(\n",
      "  ..   datetime = \u001b[31mcol_character()\u001b[39m,\n",
      "  ..   O3 = \u001b[32mcol_double()\u001b[39m,\n",
      "  ..   NO2 = \u001b[32mcol_double()\u001b[39m,\n",
      "  ..   SO2 = \u001b[32mcol_double()\u001b[39m,\n",
      "  ..   PM10 = \u001b[32mcol_double()\u001b[39m,\n",
      "  ..   PM2.5 = \u001b[32mcol_double()\u001b[39m,\n",
      "  ..   EC = \u001b[32mcol_double()\u001b[39m,\n",
      "  ..   CPC = \u001b[32mcol_double()\u001b[39m,\n",
      "  ..   NOx = \u001b[32mcol_double()\u001b[39m,\n",
      "  ..   TEMP = \u001b[32mcol_double()\u001b[39m,\n",
      "  ..   PREC = \u001b[32mcol_double()\u001b[39m,\n",
      "  ..   RAD = \u001b[32mcol_double()\u001b[39m\n",
      "  .. )\n",
      " - attr(*, \"problems\")=<externalptr> \n"
     ]
    }
   ],
   "source": [
    "## ------------------------------------------------------------------------\n",
    "## View information stored in object\n",
    "cat(\"Davos dataset:\\n\")\n",
    "str(DAVOS_data)\n",
    "\n",
    "cat(\"\\nBasel dataset:\\n\")\n",
    "str(BASEL_data)"
   ]
  },
  {
   "cell_type": "code",
   "execution_count": 52,
   "id": "e9ba7f0f-aaf6-40cc-975f-0d77fb1e9f72",
   "metadata": {},
   "outputs": [
    {
     "name": "stdout",
     "output_type": "stream",
     "text": [
      "DAVOS:\n"
     ]
    },
    {
     "data": {
      "text/html": [
       "<table class=\"dataframe\">\n",
       "<caption>A tibble: 6 × 8</caption>\n",
       "<thead>\n",
       "\t<tr><th scope=col>datetime</th><th scope=col>O3</th><th scope=col>NO2</th><th scope=col>PM10</th><th scope=col>NOx</th><th scope=col>TEMP</th><th scope=col>PREC</th><th scope=col>RAD</th></tr>\n",
       "\t<tr><th scope=col>&lt;chr&gt;</th><th scope=col>&lt;dbl&gt;</th><th scope=col>&lt;dbl&gt;</th><th scope=col>&lt;dbl&gt;</th><th scope=col>&lt;dbl&gt;</th><th scope=col>&lt;dbl&gt;</th><th scope=col>&lt;dbl&gt;</th><th scope=col>&lt;dbl&gt;</th></tr>\n",
       "</thead>\n",
       "<tbody>\n",
       "\t<tr><td>01.01.2024 01:00</td><td>57.7</td><td>1.9</td><td>1.2</td><td>1.9</td><td>-2.2</td><td>0</td><td>-0.6</td></tr>\n",
       "\t<tr><td>01.01.2024 02:00</td><td>55.2</td><td>2.1</td><td>1.5</td><td>2.1</td><td>-2.8</td><td>0</td><td>-0.7</td></tr>\n",
       "\t<tr><td>01.01.2024 03:00</td><td>49.9</td><td>3.7</td><td>2.2</td><td>3.7</td><td>-3.3</td><td>0</td><td>-0.7</td></tr>\n",
       "\t<tr><td>01.01.2024 04:00</td><td>52.1</td><td>4.5</td><td>3.0</td><td>4.6</td><td>-4.2</td><td>0</td><td>-1.1</td></tr>\n",
       "\t<tr><td>01.01.2024 05:00</td><td>65.8</td><td>0.7</td><td>0.2</td><td>0.7</td><td>-5.2</td><td>0</td><td>-1.3</td></tr>\n",
       "\t<tr><td>01.01.2024 06:00</td><td>67.1</td><td>0.7</td><td>0.4</td><td>0.7</td><td>-5.6</td><td>0</td><td>-0.8</td></tr>\n",
       "</tbody>\n",
       "</table>\n"
      ],
      "text/latex": [
       "A tibble: 6 × 8\n",
       "\\begin{tabular}{llllllll}\n",
       " datetime & O3 & NO2 & PM10 & NOx & TEMP & PREC & RAD\\\\\n",
       " <chr> & <dbl> & <dbl> & <dbl> & <dbl> & <dbl> & <dbl> & <dbl>\\\\\n",
       "\\hline\n",
       "\t 01.01.2024 01:00 & 57.7 & 1.9 & 1.2 & 1.9 & -2.2 & 0 & -0.6\\\\\n",
       "\t 01.01.2024 02:00 & 55.2 & 2.1 & 1.5 & 2.1 & -2.8 & 0 & -0.7\\\\\n",
       "\t 01.01.2024 03:00 & 49.9 & 3.7 & 2.2 & 3.7 & -3.3 & 0 & -0.7\\\\\n",
       "\t 01.01.2024 04:00 & 52.1 & 4.5 & 3.0 & 4.6 & -4.2 & 0 & -1.1\\\\\n",
       "\t 01.01.2024 05:00 & 65.8 & 0.7 & 0.2 & 0.7 & -5.2 & 0 & -1.3\\\\\n",
       "\t 01.01.2024 06:00 & 67.1 & 0.7 & 0.4 & 0.7 & -5.6 & 0 & -0.8\\\\\n",
       "\\end{tabular}\n"
      ],
      "text/markdown": [
       "\n",
       "A tibble: 6 × 8\n",
       "\n",
       "| datetime &lt;chr&gt; | O3 &lt;dbl&gt; | NO2 &lt;dbl&gt; | PM10 &lt;dbl&gt; | NOx &lt;dbl&gt; | TEMP &lt;dbl&gt; | PREC &lt;dbl&gt; | RAD &lt;dbl&gt; |\n",
       "|---|---|---|---|---|---|---|---|\n",
       "| 01.01.2024 01:00 | 57.7 | 1.9 | 1.2 | 1.9 | -2.2 | 0 | -0.6 |\n",
       "| 01.01.2024 02:00 | 55.2 | 2.1 | 1.5 | 2.1 | -2.8 | 0 | -0.7 |\n",
       "| 01.01.2024 03:00 | 49.9 | 3.7 | 2.2 | 3.7 | -3.3 | 0 | -0.7 |\n",
       "| 01.01.2024 04:00 | 52.1 | 4.5 | 3.0 | 4.6 | -4.2 | 0 | -1.1 |\n",
       "| 01.01.2024 05:00 | 65.8 | 0.7 | 0.2 | 0.7 | -5.2 | 0 | -1.3 |\n",
       "| 01.01.2024 06:00 | 67.1 | 0.7 | 0.4 | 0.7 | -5.6 | 0 | -0.8 |\n",
       "\n"
      ],
      "text/plain": [
       "  datetime         O3   NO2 PM10 NOx TEMP PREC RAD \n",
       "1 01.01.2024 01:00 57.7 1.9 1.2  1.9 -2.2 0    -0.6\n",
       "2 01.01.2024 02:00 55.2 2.1 1.5  2.1 -2.8 0    -0.7\n",
       "3 01.01.2024 03:00 49.9 3.7 2.2  3.7 -3.3 0    -0.7\n",
       "4 01.01.2024 04:00 52.1 4.5 3.0  4.6 -4.2 0    -1.1\n",
       "5 01.01.2024 05:00 65.8 0.7 0.2  0.7 -5.2 0    -1.3\n",
       "6 01.01.2024 06:00 67.1 0.7 0.4  0.7 -5.6 0    -0.8"
      ]
     },
     "metadata": {},
     "output_type": "display_data"
    },
    {
     "name": "stdout",
     "output_type": "stream",
     "text": [
      "\n",
      "BASEL:\n"
     ]
    },
    {
     "data": {
      "text/html": [
       "<table class=\"dataframe\">\n",
       "<caption>A tibble: 6 × 12</caption>\n",
       "<thead>\n",
       "\t<tr><th scope=col>datetime</th><th scope=col>O3</th><th scope=col>NO2</th><th scope=col>SO2</th><th scope=col>PM10</th><th scope=col>PM2.5</th><th scope=col>EC</th><th scope=col>CPC</th><th scope=col>NOx</th><th scope=col>TEMP</th><th scope=col>PREC</th><th scope=col>RAD</th></tr>\n",
       "\t<tr><th scope=col>&lt;chr&gt;</th><th scope=col>&lt;dbl&gt;</th><th scope=col>&lt;dbl&gt;</th><th scope=col>&lt;dbl&gt;</th><th scope=col>&lt;dbl&gt;</th><th scope=col>&lt;dbl&gt;</th><th scope=col>&lt;dbl&gt;</th><th scope=col>&lt;dbl&gt;</th><th scope=col>&lt;dbl&gt;</th><th scope=col>&lt;dbl&gt;</th><th scope=col>&lt;dbl&gt;</th><th scope=col>&lt;dbl&gt;</th></tr>\n",
       "</thead>\n",
       "<tbody>\n",
       "\t<tr><td>01.01.2024 01:00</td><td>60.2</td><td>7.5</td><td>1.6</td><td>35.8</td><td>25.2</td><td>0.4</td><td>10340.6</td><td>8.7</td><td>5.5</td><td>0.0</td><td>0.0</td></tr>\n",
       "\t<tr><td>01.01.2024 02:00</td><td>70.0</td><td>1.9</td><td>0.7</td><td> 7.2</td><td> 4.4</td><td>0.1</td><td> 2394.0</td><td>2.5</td><td>6.6</td><td>0.0</td><td>0.0</td></tr>\n",
       "\t<tr><td>01.01.2024 03:00</td><td>70.3</td><td>1.5</td><td>0.4</td><td> 3.7</td><td> 1.8</td><td>0.0</td><td> 1341.2</td><td>2.1</td><td>5.7</td><td>1.4</td><td>0.0</td></tr>\n",
       "\t<tr><td>01.01.2024 04:00</td><td>67.0</td><td>1.3</td><td>0.3</td><td> 2.0</td><td> 1.0</td><td>0.0</td><td> 1172.6</td><td>2.0</td><td>5.7</td><td>0.0</td><td>0.0</td></tr>\n",
       "\t<tr><td>01.01.2024 05:00</td><td>66.5</td><td>2.0</td><td>0.3</td><td> 2.9</td><td> 1.4</td><td>0.1</td><td> 1308.0</td><td>2.7</td><td>5.7</td><td>0.0</td><td>0.2</td></tr>\n",
       "\t<tr><td>01.01.2024 06:00</td><td>67.1</td><td>2.7</td><td>0.3</td><td> 4.6</td><td> 2.1</td><td>0.1</td><td> 1455.6</td><td>3.3</td><td>5.9</td><td>0.0</td><td>0.0</td></tr>\n",
       "</tbody>\n",
       "</table>\n"
      ],
      "text/latex": [
       "A tibble: 6 × 12\n",
       "\\begin{tabular}{llllllllllll}\n",
       " datetime & O3 & NO2 & SO2 & PM10 & PM2.5 & EC & CPC & NOx & TEMP & PREC & RAD\\\\\n",
       " <chr> & <dbl> & <dbl> & <dbl> & <dbl> & <dbl> & <dbl> & <dbl> & <dbl> & <dbl> & <dbl> & <dbl>\\\\\n",
       "\\hline\n",
       "\t 01.01.2024 01:00 & 60.2 & 7.5 & 1.6 & 35.8 & 25.2 & 0.4 & 10340.6 & 8.7 & 5.5 & 0.0 & 0.0\\\\\n",
       "\t 01.01.2024 02:00 & 70.0 & 1.9 & 0.7 &  7.2 &  4.4 & 0.1 &  2394.0 & 2.5 & 6.6 & 0.0 & 0.0\\\\\n",
       "\t 01.01.2024 03:00 & 70.3 & 1.5 & 0.4 &  3.7 &  1.8 & 0.0 &  1341.2 & 2.1 & 5.7 & 1.4 & 0.0\\\\\n",
       "\t 01.01.2024 04:00 & 67.0 & 1.3 & 0.3 &  2.0 &  1.0 & 0.0 &  1172.6 & 2.0 & 5.7 & 0.0 & 0.0\\\\\n",
       "\t 01.01.2024 05:00 & 66.5 & 2.0 & 0.3 &  2.9 &  1.4 & 0.1 &  1308.0 & 2.7 & 5.7 & 0.0 & 0.2\\\\\n",
       "\t 01.01.2024 06:00 & 67.1 & 2.7 & 0.3 &  4.6 &  2.1 & 0.1 &  1455.6 & 3.3 & 5.9 & 0.0 & 0.0\\\\\n",
       "\\end{tabular}\n"
      ],
      "text/markdown": [
       "\n",
       "A tibble: 6 × 12\n",
       "\n",
       "| datetime &lt;chr&gt; | O3 &lt;dbl&gt; | NO2 &lt;dbl&gt; | SO2 &lt;dbl&gt; | PM10 &lt;dbl&gt; | PM2.5 &lt;dbl&gt; | EC &lt;dbl&gt; | CPC &lt;dbl&gt; | NOx &lt;dbl&gt; | TEMP &lt;dbl&gt; | PREC &lt;dbl&gt; | RAD &lt;dbl&gt; |\n",
       "|---|---|---|---|---|---|---|---|---|---|---|---|\n",
       "| 01.01.2024 01:00 | 60.2 | 7.5 | 1.6 | 35.8 | 25.2 | 0.4 | 10340.6 | 8.7 | 5.5 | 0.0 | 0.0 |\n",
       "| 01.01.2024 02:00 | 70.0 | 1.9 | 0.7 |  7.2 |  4.4 | 0.1 |  2394.0 | 2.5 | 6.6 | 0.0 | 0.0 |\n",
       "| 01.01.2024 03:00 | 70.3 | 1.5 | 0.4 |  3.7 |  1.8 | 0.0 |  1341.2 | 2.1 | 5.7 | 1.4 | 0.0 |\n",
       "| 01.01.2024 04:00 | 67.0 | 1.3 | 0.3 |  2.0 |  1.0 | 0.0 |  1172.6 | 2.0 | 5.7 | 0.0 | 0.0 |\n",
       "| 01.01.2024 05:00 | 66.5 | 2.0 | 0.3 |  2.9 |  1.4 | 0.1 |  1308.0 | 2.7 | 5.7 | 0.0 | 0.2 |\n",
       "| 01.01.2024 06:00 | 67.1 | 2.7 | 0.3 |  4.6 |  2.1 | 0.1 |  1455.6 | 3.3 | 5.9 | 0.0 | 0.0 |\n",
       "\n"
      ],
      "text/plain": [
       "  datetime         O3   NO2 SO2 PM10 PM2.5 EC  CPC     NOx TEMP PREC RAD\n",
       "1 01.01.2024 01:00 60.2 7.5 1.6 35.8 25.2  0.4 10340.6 8.7 5.5  0.0  0.0\n",
       "2 01.01.2024 02:00 70.0 1.9 0.7  7.2  4.4  0.1  2394.0 2.5 6.6  0.0  0.0\n",
       "3 01.01.2024 03:00 70.3 1.5 0.4  3.7  1.8  0.0  1341.2 2.1 5.7  1.4  0.0\n",
       "4 01.01.2024 04:00 67.0 1.3 0.3  2.0  1.0  0.0  1172.6 2.0 5.7  0.0  0.0\n",
       "5 01.01.2024 05:00 66.5 2.0 0.3  2.9  1.4  0.1  1308.0 2.7 5.7  0.0  0.2\n",
       "6 01.01.2024 06:00 67.1 2.7 0.3  4.6  2.1  0.1  1455.6 3.3 5.9  0.0  0.0"
      ]
     },
     "metadata": {},
     "output_type": "display_data"
    }
   ],
   "source": [
    "## ------------------------------------------------------------------------\n",
    "## View first 6 lines\n",
    "cat(\"DAVOS:\\n\")\n",
    "head(DAVOS_data)\n",
    "cat(\"\\nBASEL:\\n\")\n",
    "head(BASEL_data)"
   ]
  },
  {
   "cell_type": "code",
   "execution_count": 53,
   "id": "20f793b6-27dd-415e-97bb-f4634ff48f08",
   "metadata": {},
   "outputs": [
    {
     "name": "stderr",
     "output_type": "stream",
     "text": [
      "Warning message:\n",
      "\" 1 failed to parse.\"\n"
     ]
    }
   ],
   "source": [
    "# Parse the datetime with the 'Europe/Paris' timezone\n",
    "# Parse the datetime column (assuming it's named correctly)\n",
    "##data[[\"datetime\"]] <- parse_date_time(data[[\"datetime\"]], \"%d.%m.%Y %H:%M\", tz = \"Europe/Paris\")\n",
    "\n",
    "# Using $ to access the datetime column \n",
    "## TO DO only once\n",
    "DAVOS_data$datetime <- parse_date_time(DAVOS_data$datetime, \"%d.%m.%Y %H:%M\", tz = \"Europe/Paris\")"
   ]
  },
  {
   "cell_type": "code",
   "execution_count": 54,
   "id": "5cbb71dc-b8d1-4efe-a6cc-e6e43467e447",
   "metadata": {},
   "outputs": [
    {
     "data": {
      "text/html": [
       "2162"
      ],
      "text/latex": [
       "2162"
      ],
      "text/markdown": [
       "2162"
      ],
      "text/plain": [
       "[1] 2162"
      ]
     },
     "metadata": {},
     "output_type": "display_data"
    },
    {
     "data": {
      "text/html": [
       "<table class=\"dataframe\">\n",
       "<caption>A tibble: 1 × 8</caption>\n",
       "<thead>\n",
       "\t<tr><th scope=col>datetime</th><th scope=col>O3</th><th scope=col>NO2</th><th scope=col>PM10</th><th scope=col>NOx</th><th scope=col>TEMP</th><th scope=col>PREC</th><th scope=col>RAD</th></tr>\n",
       "\t<tr><th scope=col>&lt;dttm&gt;</th><th scope=col>&lt;dbl&gt;</th><th scope=col>&lt;dbl&gt;</th><th scope=col>&lt;dbl&gt;</th><th scope=col>&lt;dbl&gt;</th><th scope=col>&lt;dbl&gt;</th><th scope=col>&lt;dbl&gt;</th><th scope=col>&lt;dbl&gt;</th></tr>\n",
       "</thead>\n",
       "<tbody>\n",
       "\t<tr><td>NA</td><td>68.5</td><td>0.6</td><td>0.2</td><td>0.7</td><td>0.3</td><td>1.3</td><td>0</td></tr>\n",
       "</tbody>\n",
       "</table>\n"
      ],
      "text/latex": [
       "A tibble: 1 × 8\n",
       "\\begin{tabular}{llllllll}\n",
       " datetime & O3 & NO2 & PM10 & NOx & TEMP & PREC & RAD\\\\\n",
       " <dttm> & <dbl> & <dbl> & <dbl> & <dbl> & <dbl> & <dbl> & <dbl>\\\\\n",
       "\\hline\n",
       "\t NA & 68.5 & 0.6 & 0.2 & 0.7 & 0.3 & 1.3 & 0\\\\\n",
       "\\end{tabular}\n"
      ],
      "text/markdown": [
       "\n",
       "A tibble: 1 × 8\n",
       "\n",
       "| datetime &lt;dttm&gt; | O3 &lt;dbl&gt; | NO2 &lt;dbl&gt; | PM10 &lt;dbl&gt; | NOx &lt;dbl&gt; | TEMP &lt;dbl&gt; | PREC &lt;dbl&gt; | RAD &lt;dbl&gt; |\n",
       "|---|---|---|---|---|---|---|---|\n",
       "| NA | 68.5 | 0.6 | 0.2 | 0.7 | 0.3 | 1.3 | 0 |\n",
       "\n"
      ],
      "text/plain": [
       "  datetime O3   NO2 PM10 NOx TEMP PREC RAD\n",
       "1 <NA>     68.5 0.6 0.2  0.7 0.3  1.3  0  "
      ]
     },
     "metadata": {},
     "output_type": "display_data"
    }
   ],
   "source": [
    "#checking table rows \n",
    "invalid_rows <- which(is.na(DAVOS_data$datetime))\n",
    "invalid_rows\n",
    "invalid_dates <- DAVOS_data[is.na(DAVOS_data$datetime), ]\n",
    "invalid_dates"
   ]
  },
  {
   "cell_type": "code",
   "execution_count": 55,
   "id": "91650b86-0c3a-43b6-a351-0c272ba19147",
   "metadata": {},
   "outputs": [],
   "source": [
    "## uncomment th eline below to coorect ptential errors\n",
    "DAVOS_data[invalid_rows, \"datetime\"] <- as.POSIXct(\"2024-03-31 02:00:00\")"
   ]
  },
  {
   "cell_type": "code",
   "execution_count": 56,
   "id": "2c3e1f23-24cb-4cbe-b042-6bdcce548791",
   "metadata": {},
   "outputs": [
    {
     "data": {
      "text/html": [
       "<table class=\"dataframe\">\n",
       "<caption>A tibble: 6 × 10</caption>\n",
       "<thead>\n",
       "\t<tr><th scope=col>datetime</th><th scope=col>O3</th><th scope=col>NO2</th><th scope=col>PM10</th><th scope=col>NOx</th><th scope=col>TEMP</th><th scope=col>PREC</th><th scope=col>RAD</th><th scope=col>month</th><th scope=col>date</th></tr>\n",
       "\t<tr><th scope=col>&lt;dttm&gt;</th><th scope=col>&lt;dbl&gt;</th><th scope=col>&lt;dbl&gt;</th><th scope=col>&lt;dbl&gt;</th><th scope=col>&lt;dbl&gt;</th><th scope=col>&lt;dbl&gt;</th><th scope=col>&lt;dbl&gt;</th><th scope=col>&lt;dbl&gt;</th><th scope=col>&lt;dbl&gt;</th><th scope=col>&lt;date&gt;</th></tr>\n",
       "</thead>\n",
       "<tbody>\n",
       "\t<tr><td>2024-01-01 01:00:00</td><td>57.7</td><td>1.9</td><td>1.2</td><td>1.9</td><td>-2.2</td><td>0</td><td>-0.6</td><td>1</td><td>2024-01-01</td></tr>\n",
       "\t<tr><td>2024-01-01 02:00:00</td><td>55.2</td><td>2.1</td><td>1.5</td><td>2.1</td><td>-2.8</td><td>0</td><td>-0.7</td><td>1</td><td>2024-01-01</td></tr>\n",
       "\t<tr><td>2024-01-01 03:00:00</td><td>49.9</td><td>3.7</td><td>2.2</td><td>3.7</td><td>-3.3</td><td>0</td><td>-0.7</td><td>1</td><td>2024-01-01</td></tr>\n",
       "\t<tr><td>2024-01-01 04:00:00</td><td>52.1</td><td>4.5</td><td>3.0</td><td>4.6</td><td>-4.2</td><td>0</td><td>-1.1</td><td>1</td><td>2024-01-01</td></tr>\n",
       "\t<tr><td>2024-01-01 05:00:00</td><td>65.8</td><td>0.7</td><td>0.2</td><td>0.7</td><td>-5.2</td><td>0</td><td>-1.3</td><td>1</td><td>2024-01-01</td></tr>\n",
       "\t<tr><td>2024-01-01 06:00:00</td><td>67.1</td><td>0.7</td><td>0.4</td><td>0.7</td><td>-5.6</td><td>0</td><td>-0.8</td><td>1</td><td>2024-01-01</td></tr>\n",
       "</tbody>\n",
       "</table>\n"
      ],
      "text/latex": [
       "A tibble: 6 × 10\n",
       "\\begin{tabular}{llllllllll}\n",
       " datetime & O3 & NO2 & PM10 & NOx & TEMP & PREC & RAD & month & date\\\\\n",
       " <dttm> & <dbl> & <dbl> & <dbl> & <dbl> & <dbl> & <dbl> & <dbl> & <dbl> & <date>\\\\\n",
       "\\hline\n",
       "\t 2024-01-01 01:00:00 & 57.7 & 1.9 & 1.2 & 1.9 & -2.2 & 0 & -0.6 & 1 & 2024-01-01\\\\\n",
       "\t 2024-01-01 02:00:00 & 55.2 & 2.1 & 1.5 & 2.1 & -2.8 & 0 & -0.7 & 1 & 2024-01-01\\\\\n",
       "\t 2024-01-01 03:00:00 & 49.9 & 3.7 & 2.2 & 3.7 & -3.3 & 0 & -0.7 & 1 & 2024-01-01\\\\\n",
       "\t 2024-01-01 04:00:00 & 52.1 & 4.5 & 3.0 & 4.6 & -4.2 & 0 & -1.1 & 1 & 2024-01-01\\\\\n",
       "\t 2024-01-01 05:00:00 & 65.8 & 0.7 & 0.2 & 0.7 & -5.2 & 0 & -1.3 & 1 & 2024-01-01\\\\\n",
       "\t 2024-01-01 06:00:00 & 67.1 & 0.7 & 0.4 & 0.7 & -5.6 & 0 & -0.8 & 1 & 2024-01-01\\\\\n",
       "\\end{tabular}\n"
      ],
      "text/markdown": [
       "\n",
       "A tibble: 6 × 10\n",
       "\n",
       "| datetime &lt;dttm&gt; | O3 &lt;dbl&gt; | NO2 &lt;dbl&gt; | PM10 &lt;dbl&gt; | NOx &lt;dbl&gt; | TEMP &lt;dbl&gt; | PREC &lt;dbl&gt; | RAD &lt;dbl&gt; | month &lt;dbl&gt; | date &lt;date&gt; |\n",
       "|---|---|---|---|---|---|---|---|---|---|\n",
       "| 2024-01-01 01:00:00 | 57.7 | 1.9 | 1.2 | 1.9 | -2.2 | 0 | -0.6 | 1 | 2024-01-01 |\n",
       "| 2024-01-01 02:00:00 | 55.2 | 2.1 | 1.5 | 2.1 | -2.8 | 0 | -0.7 | 1 | 2024-01-01 |\n",
       "| 2024-01-01 03:00:00 | 49.9 | 3.7 | 2.2 | 3.7 | -3.3 | 0 | -0.7 | 1 | 2024-01-01 |\n",
       "| 2024-01-01 04:00:00 | 52.1 | 4.5 | 3.0 | 4.6 | -4.2 | 0 | -1.1 | 1 | 2024-01-01 |\n",
       "| 2024-01-01 05:00:00 | 65.8 | 0.7 | 0.2 | 0.7 | -5.2 | 0 | -1.3 | 1 | 2024-01-01 |\n",
       "| 2024-01-01 06:00:00 | 67.1 | 0.7 | 0.4 | 0.7 | -5.6 | 0 | -0.8 | 1 | 2024-01-01 |\n",
       "\n"
      ],
      "text/plain": [
       "  datetime            O3   NO2 PM10 NOx TEMP PREC RAD  month date      \n",
       "1 2024-01-01 01:00:00 57.7 1.9 1.2  1.9 -2.2 0    -0.6 1     2024-01-01\n",
       "2 2024-01-01 02:00:00 55.2 2.1 1.5  2.1 -2.8 0    -0.7 1     2024-01-01\n",
       "3 2024-01-01 03:00:00 49.9 3.7 2.2  3.7 -3.3 0    -0.7 1     2024-01-01\n",
       "4 2024-01-01 04:00:00 52.1 4.5 3.0  4.6 -4.2 0    -1.1 1     2024-01-01\n",
       "5 2024-01-01 05:00:00 65.8 0.7 0.2  0.7 -5.2 0    -1.3 1     2024-01-01\n",
       "6 2024-01-01 06:00:00 67.1 0.7 0.4  0.7 -5.6 0    -0.8 1     2024-01-01"
      ]
     },
     "metadata": {},
     "output_type": "display_data"
    }
   ],
   "source": [
    "# Extract the month\n",
    "DAVOS_data[[\"month\"]] <- month(DAVOS_data[[\"datetime\"]])\n",
    "\n",
    "# Extract the date (without time)\n",
    "DAVOS_data[[\"date\"]] <- date(DAVOS_data[[\"datetime\"]])\n",
    "\n",
    "# Check the results\n",
    "head(DAVOS_data)"
   ]
  },
  {
   "cell_type": "code",
   "execution_count": 30,
   "id": "2759c9ce-6a49-4095-bb92-8446916878c9",
   "metadata": {},
   "outputs": [
    {
     "data": {
      "image/png": "[encoded data removed]",
      "text/plain": [
       "plot without title"
      ]
     },
     "metadata": {
      "image/png": {
       "height": 420,
       "width": 420
      }
     },
     "output_type": "display_data"
    }
   ],
   "source": [
    "## ---- fig.width=8, fig.height=5------------------------------------------\n",
    "ggplot(DAVOS_data)+\n",
    "  geom_line(aes(datetime, O3))"
   ]
  },
  {
   "cell_type": "code",
   "execution_count": 29,
   "id": "a9aa3e9d-b991-4edc-b50a-a801a5648b31",
   "metadata": {},
   "outputs": [
    {
     "data": {
      "text/html": [
       "<style>\n",
       ".list-inline {list-style: none; margin:0; padding: 0}\n",
       ".list-inline>li {display: inline-block}\n",
       ".list-inline>li:not(:last-child)::after {content: \"\\00b7\"; padding: 0 .5ex}\n",
       "</style>\n",
       "<ol class=list-inline><li>'POSIXct'</li><li>'POSIXt'</li></ol>\n"
      ],
      "text/latex": [
       "\\begin{enumerate*}\n",
       "\\item 'POSIXct'\n",
       "\\item 'POSIXt'\n",
       "\\end{enumerate*}\n"
      ],
      "text/markdown": [
       "1. 'POSIXct'\n",
       "2. 'POSIXt'\n",
       "\n",
       "\n"
      ],
      "text/plain": [
       "[1] \"POSIXct\" \"POSIXt\" "
      ]
     },
     "metadata": {},
     "output_type": "display_data"
    }
   ],
   "source": [
    "class(DAVOS_data$datetime)"
   ]
  },
  {
   "cell_type": "code",
   "execution_count": 59,
   "id": "0b998713-f7c6-4a79-8196-368b56e671a5",
   "metadata": {},
   "outputs": [
    {
     "name": "stderr",
     "output_type": "stream",
     "text": [
      "Warning message:\n",
      "\" 1 failed to parse.\"\n"
     ]
    },
    {
     "data": {
      "text/html": [
       "<table class=\"dataframe\">\n",
       "<caption>A tibble: 6 × 14</caption>\n",
       "<thead>\n",
       "\t<tr><th scope=col>datetime</th><th scope=col>O3</th><th scope=col>NO2</th><th scope=col>SO2</th><th scope=col>PM10</th><th scope=col>PM2.5</th><th scope=col>EC</th><th scope=col>CPC</th><th scope=col>NOx</th><th scope=col>TEMP</th><th scope=col>PREC</th><th scope=col>RAD</th><th scope=col>month</th><th scope=col>date</th></tr>\n",
       "\t<tr><th scope=col>&lt;dttm&gt;</th><th scope=col>&lt;dbl&gt;</th><th scope=col>&lt;dbl&gt;</th><th scope=col>&lt;dbl&gt;</th><th scope=col>&lt;dbl&gt;</th><th scope=col>&lt;dbl&gt;</th><th scope=col>&lt;dbl&gt;</th><th scope=col>&lt;dbl&gt;</th><th scope=col>&lt;dbl&gt;</th><th scope=col>&lt;dbl&gt;</th><th scope=col>&lt;dbl&gt;</th><th scope=col>&lt;dbl&gt;</th><th scope=col>&lt;dbl&gt;</th><th scope=col>&lt;date&gt;</th></tr>\n",
       "</thead>\n",
       "<tbody>\n",
       "\t<tr><td>2024-01-01 01:00:00</td><td>60.2</td><td>7.5</td><td>1.6</td><td>35.8</td><td>25.2</td><td>0.4</td><td>10340.6</td><td>8.7</td><td>5.5</td><td>0.0</td><td>0.0</td><td>1</td><td>2024-01-01</td></tr>\n",
       "\t<tr><td>2024-01-01 02:00:00</td><td>70.0</td><td>1.9</td><td>0.7</td><td> 7.2</td><td> 4.4</td><td>0.1</td><td> 2394.0</td><td>2.5</td><td>6.6</td><td>0.0</td><td>0.0</td><td>1</td><td>2024-01-01</td></tr>\n",
       "\t<tr><td>2024-01-01 03:00:00</td><td>70.3</td><td>1.5</td><td>0.4</td><td> 3.7</td><td> 1.8</td><td>0.0</td><td> 1341.2</td><td>2.1</td><td>5.7</td><td>1.4</td><td>0.0</td><td>1</td><td>2024-01-01</td></tr>\n",
       "\t<tr><td>2024-01-01 04:00:00</td><td>67.0</td><td>1.3</td><td>0.3</td><td> 2.0</td><td> 1.0</td><td>0.0</td><td> 1172.6</td><td>2.0</td><td>5.7</td><td>0.0</td><td>0.0</td><td>1</td><td>2024-01-01</td></tr>\n",
       "\t<tr><td>2024-01-01 05:00:00</td><td>66.5</td><td>2.0</td><td>0.3</td><td> 2.9</td><td> 1.4</td><td>0.1</td><td> 1308.0</td><td>2.7</td><td>5.7</td><td>0.0</td><td>0.2</td><td>1</td><td>2024-01-01</td></tr>\n",
       "\t<tr><td>2024-01-01 06:00:00</td><td>67.1</td><td>2.7</td><td>0.3</td><td> 4.6</td><td> 2.1</td><td>0.1</td><td> 1455.6</td><td>3.3</td><td>5.9</td><td>0.0</td><td>0.0</td><td>1</td><td>2024-01-01</td></tr>\n",
       "</tbody>\n",
       "</table>\n"
      ],
      "text/latex": [
       "A tibble: 6 × 14\n",
       "\\begin{tabular}{llllllllllllll}\n",
       " datetime & O3 & NO2 & SO2 & PM10 & PM2.5 & EC & CPC & NOx & TEMP & PREC & RAD & month & date\\\\\n",
       " <dttm> & <dbl> & <dbl> & <dbl> & <dbl> & <dbl> & <dbl> & <dbl> & <dbl> & <dbl> & <dbl> & <dbl> & <dbl> & <date>\\\\\n",
       "\\hline\n",
       "\t 2024-01-01 01:00:00 & 60.2 & 7.5 & 1.6 & 35.8 & 25.2 & 0.4 & 10340.6 & 8.7 & 5.5 & 0.0 & 0.0 & 1 & 2024-01-01\\\\\n",
       "\t 2024-01-01 02:00:00 & 70.0 & 1.9 & 0.7 &  7.2 &  4.4 & 0.1 &  2394.0 & 2.5 & 6.6 & 0.0 & 0.0 & 1 & 2024-01-01\\\\\n",
       "\t 2024-01-01 03:00:00 & 70.3 & 1.5 & 0.4 &  3.7 &  1.8 & 0.0 &  1341.2 & 2.1 & 5.7 & 1.4 & 0.0 & 1 & 2024-01-01\\\\\n",
       "\t 2024-01-01 04:00:00 & 67.0 & 1.3 & 0.3 &  2.0 &  1.0 & 0.0 &  1172.6 & 2.0 & 5.7 & 0.0 & 0.0 & 1 & 2024-01-01\\\\\n",
       "\t 2024-01-01 05:00:00 & 66.5 & 2.0 & 0.3 &  2.9 &  1.4 & 0.1 &  1308.0 & 2.7 & 5.7 & 0.0 & 0.2 & 1 & 2024-01-01\\\\\n",
       "\t 2024-01-01 06:00:00 & 67.1 & 2.7 & 0.3 &  4.6 &  2.1 & 0.1 &  1455.6 & 3.3 & 5.9 & 0.0 & 0.0 & 1 & 2024-01-01\\\\\n",
       "\\end{tabular}\n"
      ],
      "text/markdown": [
       "\n",
       "A tibble: 6 × 14\n",
       "\n",
       "| datetime &lt;dttm&gt; | O3 &lt;dbl&gt; | NO2 &lt;dbl&gt; | SO2 &lt;dbl&gt; | PM10 &lt;dbl&gt; | PM2.5 &lt;dbl&gt; | EC &lt;dbl&gt; | CPC &lt;dbl&gt; | NOx &lt;dbl&gt; | TEMP &lt;dbl&gt; | PREC &lt;dbl&gt; | RAD &lt;dbl&gt; | month &lt;dbl&gt; | date &lt;date&gt; |\n",
       "|---|---|---|---|---|---|---|---|---|---|---|---|---|---|\n",
       "| 2024-01-01 01:00:00 | 60.2 | 7.5 | 1.6 | 35.8 | 25.2 | 0.4 | 10340.6 | 8.7 | 5.5 | 0.0 | 0.0 | 1 | 2024-01-01 |\n",
       "| 2024-01-01 02:00:00 | 70.0 | 1.9 | 0.7 |  7.2 |  4.4 | 0.1 |  2394.0 | 2.5 | 6.6 | 0.0 | 0.0 | 1 | 2024-01-01 |\n",
       "| 2024-01-01 03:00:00 | 70.3 | 1.5 | 0.4 |  3.7 |  1.8 | 0.0 |  1341.2 | 2.1 | 5.7 | 1.4 | 0.0 | 1 | 2024-01-01 |\n",
       "| 2024-01-01 04:00:00 | 67.0 | 1.3 | 0.3 |  2.0 |  1.0 | 0.0 |  1172.6 | 2.0 | 5.7 | 0.0 | 0.0 | 1 | 2024-01-01 |\n",
       "| 2024-01-01 05:00:00 | 66.5 | 2.0 | 0.3 |  2.9 |  1.4 | 0.1 |  1308.0 | 2.7 | 5.7 | 0.0 | 0.2 | 1 | 2024-01-01 |\n",
       "| 2024-01-01 06:00:00 | 67.1 | 2.7 | 0.3 |  4.6 |  2.1 | 0.1 |  1455.6 | 3.3 | 5.9 | 0.0 | 0.0 | 1 | 2024-01-01 |\n",
       "\n"
      ],
      "text/plain": [
       "  datetime            O3   NO2 SO2 PM10 PM2.5 EC  CPC     NOx TEMP PREC RAD\n",
       "1 2024-01-01 01:00:00 60.2 7.5 1.6 35.8 25.2  0.4 10340.6 8.7 5.5  0.0  0.0\n",
       "2 2024-01-01 02:00:00 70.0 1.9 0.7  7.2  4.4  0.1  2394.0 2.5 6.6  0.0  0.0\n",
       "3 2024-01-01 03:00:00 70.3 1.5 0.4  3.7  1.8  0.0  1341.2 2.1 5.7  1.4  0.0\n",
       "4 2024-01-01 04:00:00 67.0 1.3 0.3  2.0  1.0  0.0  1172.6 2.0 5.7  0.0  0.0\n",
       "5 2024-01-01 05:00:00 66.5 2.0 0.3  2.9  1.4  0.1  1308.0 2.7 5.7  0.0  0.2\n",
       "6 2024-01-01 06:00:00 67.1 2.7 0.3  4.6  2.1  0.1  1455.6 3.3 5.9  0.0  0.0\n",
       "  month date      \n",
       "1 1     2024-01-01\n",
       "2 1     2024-01-01\n",
       "3 1     2024-01-01\n",
       "4 1     2024-01-01\n",
       "5 1     2024-01-01\n",
       "6 1     2024-01-01"
      ]
     },
     "metadata": {},
     "output_type": "display_data"
    }
   ],
   "source": [
    "# Parse the datetime with the 'Europe/Paris' timezone\n",
    "# Parse the datetime column (assuming it's named correctly)\n",
    "##data[[\"datetime\"]] <- parse_date_time(data[[\"datetime\"]], \"%d.%m.%Y %H:%M\", tz = \"Europe/Paris\")\n",
    "\n",
    "# Using $ to access the datetime column\n",
    "BASEL_data$datetime <- parse_date_time(BASEL_data$datetime, \"%d.%m.%Y %H:%M\", tz = \"Europe/Paris\")"
   ]
  },
  {
   "cell_type": "code",
   "execution_count": 60,
   "id": "5946b27d-1710-4dfb-81d6-e8f76ace296e",
   "metadata": {},
   "outputs": [
    {
     "data": {
      "text/html": [
       "2162"
      ],
      "text/latex": [
       "2162"
      ],
      "text/markdown": [
       "2162"
      ],
      "text/plain": [
       "[1] 2162"
      ]
     },
     "metadata": {},
     "output_type": "display_data"
    },
    {
     "data": {
      "text/html": [
       "<table class=\"dataframe\">\n",
       "<caption>A tibble: 1 × 14</caption>\n",
       "<thead>\n",
       "\t<tr><th scope=col>datetime</th><th scope=col>O3</th><th scope=col>NO2</th><th scope=col>SO2</th><th scope=col>PM10</th><th scope=col>PM2.5</th><th scope=col>EC</th><th scope=col>CPC</th><th scope=col>NOx</th><th scope=col>TEMP</th><th scope=col>PREC</th><th scope=col>RAD</th><th scope=col>month</th><th scope=col>date</th></tr>\n",
       "\t<tr><th scope=col>&lt;dttm&gt;</th><th scope=col>&lt;dbl&gt;</th><th scope=col>&lt;dbl&gt;</th><th scope=col>&lt;dbl&gt;</th><th scope=col>&lt;dbl&gt;</th><th scope=col>&lt;dbl&gt;</th><th scope=col>&lt;dbl&gt;</th><th scope=col>&lt;dbl&gt;</th><th scope=col>&lt;dbl&gt;</th><th scope=col>&lt;dbl&gt;</th><th scope=col>&lt;dbl&gt;</th><th scope=col>&lt;dbl&gt;</th><th scope=col>&lt;dbl&gt;</th><th scope=col>&lt;date&gt;</th></tr>\n",
       "</thead>\n",
       "<tbody>\n",
       "\t<tr><td>NA</td><td>44.9</td><td>15.4</td><td>0.6</td><td>17.4</td><td>11.8</td><td>0.4</td><td>9307.1</td><td>15.7</td><td>8.3</td><td>0</td><td>0</td><td>NA</td><td>NA</td></tr>\n",
       "</tbody>\n",
       "</table>\n"
      ],
      "text/latex": [
       "A tibble: 1 × 14\n",
       "\\begin{tabular}{llllllllllllll}\n",
       " datetime & O3 & NO2 & SO2 & PM10 & PM2.5 & EC & CPC & NOx & TEMP & PREC & RAD & month & date\\\\\n",
       " <dttm> & <dbl> & <dbl> & <dbl> & <dbl> & <dbl> & <dbl> & <dbl> & <dbl> & <dbl> & <dbl> & <dbl> & <dbl> & <date>\\\\\n",
       "\\hline\n",
       "\t NA & 44.9 & 15.4 & 0.6 & 17.4 & 11.8 & 0.4 & 9307.1 & 15.7 & 8.3 & 0 & 0 & NA & NA\\\\\n",
       "\\end{tabular}\n"
      ],
      "text/markdown": [
       "\n",
       "A tibble: 1 × 14\n",
       "\n",
       "| datetime &lt;dttm&gt; | O3 &lt;dbl&gt; | NO2 &lt;dbl&gt; | SO2 &lt;dbl&gt; | PM10 &lt;dbl&gt; | PM2.5 &lt;dbl&gt; | EC &lt;dbl&gt; | CPC &lt;dbl&gt; | NOx &lt;dbl&gt; | TEMP &lt;dbl&gt; | PREC &lt;dbl&gt; | RAD &lt;dbl&gt; | month &lt;dbl&gt; | date &lt;date&gt; |\n",
       "|---|---|---|---|---|---|---|---|---|---|---|---|---|---|\n",
       "| NA | 44.9 | 15.4 | 0.6 | 17.4 | 11.8 | 0.4 | 9307.1 | 15.7 | 8.3 | 0 | 0 | NA | NA |\n",
       "\n"
      ],
      "text/plain": [
       "  datetime O3   NO2  SO2 PM10 PM2.5 EC  CPC    NOx  TEMP PREC RAD month date\n",
       "1 <NA>     44.9 15.4 0.6 17.4 11.8  0.4 9307.1 15.7 8.3  0    0   NA    <NA>"
      ]
     },
     "metadata": {},
     "output_type": "display_data"
    }
   ],
   "source": [
    "#checking table rows \n",
    "invalid_rows <- which(is.na(BASEL_data$datetime))\n",
    "invalid_rows\n",
    "invalid_dates <- BASEL_data[is.na(BASEL_data$datetime), ]\n",
    "invalid_dates"
   ]
  },
  {
   "cell_type": "code",
   "execution_count": 61,
   "id": "2c57eeed-bc1e-4d43-99f2-b5450c92140e",
   "metadata": {},
   "outputs": [],
   "source": [
    "## uncomment th eline below to coorect ptential errors\n",
    "BASEL_data[invalid_rows, \"datetime\"] <- as.POSIXct(\"2024-03-31 02:00:00\")"
   ]
  },
  {
   "cell_type": "code",
   "execution_count": 62,
   "id": "c5b9b145-50b3-4e7c-acb1-6f92e193578c",
   "metadata": {},
   "outputs": [
    {
     "data": {
      "text/html": [
       "<table class=\"dataframe\">\n",
       "<caption>A tibble: 6 × 14</caption>\n",
       "<thead>\n",
       "\t<tr><th scope=col>datetime</th><th scope=col>O3</th><th scope=col>NO2</th><th scope=col>SO2</th><th scope=col>PM10</th><th scope=col>PM2.5</th><th scope=col>EC</th><th scope=col>CPC</th><th scope=col>NOx</th><th scope=col>TEMP</th><th scope=col>PREC</th><th scope=col>RAD</th><th scope=col>month</th><th scope=col>date</th></tr>\n",
       "\t<tr><th scope=col>&lt;dttm&gt;</th><th scope=col>&lt;dbl&gt;</th><th scope=col>&lt;dbl&gt;</th><th scope=col>&lt;dbl&gt;</th><th scope=col>&lt;dbl&gt;</th><th scope=col>&lt;dbl&gt;</th><th scope=col>&lt;dbl&gt;</th><th scope=col>&lt;dbl&gt;</th><th scope=col>&lt;dbl&gt;</th><th scope=col>&lt;dbl&gt;</th><th scope=col>&lt;dbl&gt;</th><th scope=col>&lt;dbl&gt;</th><th scope=col>&lt;dbl&gt;</th><th scope=col>&lt;date&gt;</th></tr>\n",
       "</thead>\n",
       "<tbody>\n",
       "\t<tr><td>2024-01-01 01:00:00</td><td>60.2</td><td>7.5</td><td>1.6</td><td>35.8</td><td>25.2</td><td>0.4</td><td>10340.6</td><td>8.7</td><td>5.5</td><td>0.0</td><td>0.0</td><td>1</td><td>2024-01-01</td></tr>\n",
       "\t<tr><td>2024-01-01 02:00:00</td><td>70.0</td><td>1.9</td><td>0.7</td><td> 7.2</td><td> 4.4</td><td>0.1</td><td> 2394.0</td><td>2.5</td><td>6.6</td><td>0.0</td><td>0.0</td><td>1</td><td>2024-01-01</td></tr>\n",
       "\t<tr><td>2024-01-01 03:00:00</td><td>70.3</td><td>1.5</td><td>0.4</td><td> 3.7</td><td> 1.8</td><td>0.0</td><td> 1341.2</td><td>2.1</td><td>5.7</td><td>1.4</td><td>0.0</td><td>1</td><td>2024-01-01</td></tr>\n",
       "\t<tr><td>2024-01-01 04:00:00</td><td>67.0</td><td>1.3</td><td>0.3</td><td> 2.0</td><td> 1.0</td><td>0.0</td><td> 1172.6</td><td>2.0</td><td>5.7</td><td>0.0</td><td>0.0</td><td>1</td><td>2024-01-01</td></tr>\n",
       "\t<tr><td>2024-01-01 05:00:00</td><td>66.5</td><td>2.0</td><td>0.3</td><td> 2.9</td><td> 1.4</td><td>0.1</td><td> 1308.0</td><td>2.7</td><td>5.7</td><td>0.0</td><td>0.2</td><td>1</td><td>2024-01-01</td></tr>\n",
       "\t<tr><td>2024-01-01 06:00:00</td><td>67.1</td><td>2.7</td><td>0.3</td><td> 4.6</td><td> 2.1</td><td>0.1</td><td> 1455.6</td><td>3.3</td><td>5.9</td><td>0.0</td><td>0.0</td><td>1</td><td>2024-01-01</td></tr>\n",
       "</tbody>\n",
       "</table>\n"
      ],
      "text/latex": [
       "A tibble: 6 × 14\n",
       "\\begin{tabular}{llllllllllllll}\n",
       " datetime & O3 & NO2 & SO2 & PM10 & PM2.5 & EC & CPC & NOx & TEMP & PREC & RAD & month & date\\\\\n",
       " <dttm> & <dbl> & <dbl> & <dbl> & <dbl> & <dbl> & <dbl> & <dbl> & <dbl> & <dbl> & <dbl> & <dbl> & <dbl> & <date>\\\\\n",
       "\\hline\n",
       "\t 2024-01-01 01:00:00 & 60.2 & 7.5 & 1.6 & 35.8 & 25.2 & 0.4 & 10340.6 & 8.7 & 5.5 & 0.0 & 0.0 & 1 & 2024-01-01\\\\\n",
       "\t 2024-01-01 02:00:00 & 70.0 & 1.9 & 0.7 &  7.2 &  4.4 & 0.1 &  2394.0 & 2.5 & 6.6 & 0.0 & 0.0 & 1 & 2024-01-01\\\\\n",
       "\t 2024-01-01 03:00:00 & 70.3 & 1.5 & 0.4 &  3.7 &  1.8 & 0.0 &  1341.2 & 2.1 & 5.7 & 1.4 & 0.0 & 1 & 2024-01-01\\\\\n",
       "\t 2024-01-01 04:00:00 & 67.0 & 1.3 & 0.3 &  2.0 &  1.0 & 0.0 &  1172.6 & 2.0 & 5.7 & 0.0 & 0.0 & 1 & 2024-01-01\\\\\n",
       "\t 2024-01-01 05:00:00 & 66.5 & 2.0 & 0.3 &  2.9 &  1.4 & 0.1 &  1308.0 & 2.7 & 5.7 & 0.0 & 0.2 & 1 & 2024-01-01\\\\\n",
       "\t 2024-01-01 06:00:00 & 67.1 & 2.7 & 0.3 &  4.6 &  2.1 & 0.1 &  1455.6 & 3.3 & 5.9 & 0.0 & 0.0 & 1 & 2024-01-01\\\\\n",
       "\\end{tabular}\n"
      ],
      "text/markdown": [
       "\n",
       "A tibble: 6 × 14\n",
       "\n",
       "| datetime &lt;dttm&gt; | O3 &lt;dbl&gt; | NO2 &lt;dbl&gt; | SO2 &lt;dbl&gt; | PM10 &lt;dbl&gt; | PM2.5 &lt;dbl&gt; | EC &lt;dbl&gt; | CPC &lt;dbl&gt; | NOx &lt;dbl&gt; | TEMP &lt;dbl&gt; | PREC &lt;dbl&gt; | RAD &lt;dbl&gt; | month &lt;dbl&gt; | date &lt;date&gt; |\n",
       "|---|---|---|---|---|---|---|---|---|---|---|---|---|---|\n",
       "| 2024-01-01 01:00:00 | 60.2 | 7.5 | 1.6 | 35.8 | 25.2 | 0.4 | 10340.6 | 8.7 | 5.5 | 0.0 | 0.0 | 1 | 2024-01-01 |\n",
       "| 2024-01-01 02:00:00 | 70.0 | 1.9 | 0.7 |  7.2 |  4.4 | 0.1 |  2394.0 | 2.5 | 6.6 | 0.0 | 0.0 | 1 | 2024-01-01 |\n",
       "| 2024-01-01 03:00:00 | 70.3 | 1.5 | 0.4 |  3.7 |  1.8 | 0.0 |  1341.2 | 2.1 | 5.7 | 1.4 | 0.0 | 1 | 2024-01-01 |\n",
       "| 2024-01-01 04:00:00 | 67.0 | 1.3 | 0.3 |  2.0 |  1.0 | 0.0 |  1172.6 | 2.0 | 5.7 | 0.0 | 0.0 | 1 | 2024-01-01 |\n",
       "| 2024-01-01 05:00:00 | 66.5 | 2.0 | 0.3 |  2.9 |  1.4 | 0.1 |  1308.0 | 2.7 | 5.7 | 0.0 | 0.2 | 1 | 2024-01-01 |\n",
       "| 2024-01-01 06:00:00 | 67.1 | 2.7 | 0.3 |  4.6 |  2.1 | 0.1 |  1455.6 | 3.3 | 5.9 | 0.0 | 0.0 | 1 | 2024-01-01 |\n",
       "\n"
      ],
      "text/plain": [
       "  datetime            O3   NO2 SO2 PM10 PM2.5 EC  CPC     NOx TEMP PREC RAD\n",
       "1 2024-01-01 01:00:00 60.2 7.5 1.6 35.8 25.2  0.4 10340.6 8.7 5.5  0.0  0.0\n",
       "2 2024-01-01 02:00:00 70.0 1.9 0.7  7.2  4.4  0.1  2394.0 2.5 6.6  0.0  0.0\n",
       "3 2024-01-01 03:00:00 70.3 1.5 0.4  3.7  1.8  0.0  1341.2 2.1 5.7  1.4  0.0\n",
       "4 2024-01-01 04:00:00 67.0 1.3 0.3  2.0  1.0  0.0  1172.6 2.0 5.7  0.0  0.0\n",
       "5 2024-01-01 05:00:00 66.5 2.0 0.3  2.9  1.4  0.1  1308.0 2.7 5.7  0.0  0.2\n",
       "6 2024-01-01 06:00:00 67.1 2.7 0.3  4.6  2.1  0.1  1455.6 3.3 5.9  0.0  0.0\n",
       "  month date      \n",
       "1 1     2024-01-01\n",
       "2 1     2024-01-01\n",
       "3 1     2024-01-01\n",
       "4 1     2024-01-01\n",
       "5 1     2024-01-01\n",
       "6 1     2024-01-01"
      ]
     },
     "metadata": {},
     "output_type": "display_data"
    }
   ],
   "source": [
    "# Extract the month\n",
    "BASEL_data[[\"month\"]] <- month(BASEL_data[[\"datetime\"]])\n",
    "\n",
    "# Extract the date (without time)\n",
    "BASEL_data[[\"date\"]] <- date(BASEL_data[[\"datetime\"]])\n",
    "\n",
    "# Check the results\n",
    "head(BASEL_data)"
   ]
  },
  {
   "cell_type": "code",
   "execution_count": 67,
   "id": "a8a7091a-f311-4b63-813e-c6f72e06dc46",
   "metadata": {},
   "outputs": [
    {
     "name": "stderr",
     "output_type": "stream",
     "text": [
      "Warning message:\n",
      "\"\u001b[1m\u001b[22mUsing `size` aesthetic for lines was deprecated in ggplot2 3.4.0.\n",
      "\u001b[36mi\u001b[39m Please use `linewidth` instead.\"\n",
      "Warning message:\n",
      "\"\u001b[1m\u001b[22mThe `size` argument of `element_line()` is deprecated as of ggplot2 3.4.0.\n",
      "\u001b[36mi\u001b[39m Please use the `linewidth` argument instead.\"\n"
     ]
    },
    {
     "data": {
      "image/png": "[encoded data removed]",
      "text/plain": [
       "plot without title"
      ]
     },
     "metadata": {
      "image/png": {
       "height": 360,
       "width": 600
      }
     },
     "output_type": "display_data"
    }
   ],
   "source": [
    "# Load necessary libraries\n",
    "library(ggplot2)\n",
    "\n",
    "# Adjust plot dimensions (useful in RStudio or Jupyter-like environments)\n",
    "options(repr.plot.width = 10, repr.plot.height = 6)\n",
    "\n",
    "# Create the plot with all parameters adjustable\n",
    "plot <- ggplot(BASEL_data) +\n",
    "  geom_line(aes(x = datetime, y = O3), \n",
    "            color = \"blue\",         # Line color\n",
    "            size = 1,               # Line thickness\n",
    "            linetype = \"solid\") +   # Line type (solid, dashed, dotted, etc.)\n",
    "\n",
    "  # Customize titles and labels\n",
    "  labs(\n",
    "    title = \"Ozone Levels Over Time in Basel\",         # Main title\n",
    "    subtitle = \"O3 concentration measured hourly\",     # Subtitle\n",
    "    caption = \"Data source: BASEL monitoring station\", # Caption\n",
    "    x = \"Date-Time\",                                   # X-axis label\n",
    "    y = \"Ozone (O3) concentration (ppb)\"               # Y-axis label\n",
    "  ) +\n",
    "\n",
    "  # Adjust axis scales and breaks\n",
    "  scale_x_datetime(\n",
    "    date_labels = \"%b %d, %H:%M\",    # Format date labels\n",
    "    date_breaks = \"1 day\"            # Set time intervals\n",
    "  ) +\n",
    "  scale_y_continuous(\n",
    "    limits = c(0, 100),              # Set Y-axis range\n",
    "    breaks = seq(0, 100, by = 10),   # Y-axis breaks\n",
    "    expand = expansion(mult = c(0, 0.05)) # Avoid empty space at plot edges\n",
    "  ) +\n",
    "\n",
    "  # Customize axis text, ticks, and fonts\n",
    "  theme(\n",
    "    axis.text.x = element_text(angle = 45, hjust = 1, size = 12, color = \"gray20\"),\n",
    "    axis.text.y = element_text(size = 12, color = \"gray20\"),\n",
    "    axis.title.x = element_text(size = 14, face = \"bold\"),\n",
    "    axis.title.y = element_text(size = 14, face = \"bold\")\n",
    "  ) +\n",
    "\n",
    "  # Add gridlines and panel background\n",
    "  theme_minimal(base_size = 14) +    # Base font size\n",
    "  theme(\n",
    "    panel.grid.major = element_line(color = \"gray80\", size = 0.5),\n",
    "    panel.grid.minor = element_line(color = \"gray90\", size = 0.3),\n",
    "    panel.background = element_rect(fill = \"white\"),\n",
    "    plot.background = element_rect(fill = \"white\", color = NA)\n",
    "  ) +\n",
    "\n",
    "  # Adjust legend (if you add more aesthetics later)\n",
    "  theme(\n",
    "    legend.position = \"right\",               # Legend position: \"top\", \"bottom\", \"left\", \"right\"\n",
    "    legend.title = element_text(size = 12), # Legend title size\n",
    "    legend.text = element_text(size = 10)   # Legend text size\n",
    "  )\n",
    "\n",
    "# Print the plot\n",
    "print(plot)\n",
    "\n",
    "# Save the plot to a file\n",
    "ggsave(\"ozone_plot_basel.png\", plot = plot, width = 10, height = 6, dpi = 300)\n"
   ]
  },
  {
   "cell_type": "code",
   "execution_count": 90,
   "id": "de226a1c-630a-421b-bafc-ce6f883a50f3",
   "metadata": {},
   "outputs": [
    {
     "name": "stderr",
     "output_type": "stream",
     "text": [
      "Warning message:\n",
      "\"\u001b[1m\u001b[22mRemoved 1 row containing missing values (`geom_line()`).\"\n"
     ]
    },
    {
     "data": {
      "text/html": [
       "<strong>png:</strong> 2"
      ],
      "text/latex": [
       "\\textbf{png:} 2"
      ],
      "text/markdown": [
       "**png:** 2"
      ],
      "text/plain": [
       "png \n",
       "  2 "
      ]
     },
     "metadata": {},
     "output_type": "display_data"
    }
   ],
   "source": [
    "## Print to pdf file.\n",
    "pdf(\"outputs/fig1.pdf\")\n",
    "print(ggp)\n",
    "dev.off()\n"
   ]
  },
  {
   "cell_type": "code",
   "execution_count": null,
   "id": "0d18c516-0fef-4442-9743-1ca7dfead569",
   "metadata": {},
   "outputs": [],
   "source": []
  }
 ],
 "metadata": {
  "kernelspec": {
   "display_name": "R",
   "language": "R",
   "name": "ir"
  },
  "language_info": {
   "codemirror_mode": "r",
   "file_extension": ".r",
   "mimetype": "text/x-r-source",
   "name": "R",
   "pygments_lexer": "r",
   "version": "4.1.3"
  }
 },
 "nbformat": 4,
 "nbformat_minor": 5
}
