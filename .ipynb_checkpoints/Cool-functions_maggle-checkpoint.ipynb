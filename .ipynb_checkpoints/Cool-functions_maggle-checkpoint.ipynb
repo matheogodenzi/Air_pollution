{
 "cells": [
  {
   "cell_type": "markdown",
   "id": "dbe45fc5-2d24-405c-898a-968cdca1dfd1",
   "metadata": {},
   "source": [
    "# Cool functions maggle "
   ]
  },
  {
   "cell_type": "markdown",
   "id": "b184b39f-3e20-4fb5-ab38-63c019f63b4b",
   "metadata": {},
   "source": [
    "### Convert datatime"
   ]
  },
  {
   "cell_type": "code",
   "execution_count": null,
   "id": "f7f46843-bd46-4601-b008-89f47a22c4e2",
   "metadata": {},
   "outputs": [],
   "source": [
    "#install \n",
    "#install.packages(\"lubridate\")\n",
    "\n",
    "# Load \n",
    "library(lubridate)\n",
    "\n",
    "# Parse the datetime with the 'Europe/Paris' timezone\n",
    "# Parse the datetime column (assuming it's named correctly)\n",
    "##data[[\"datetime\"]] <- parse_date_time(data[[\"datetime\"]], \"%d.%m.%Y %H:%M\", tz = \"Europe/Paris\")\n",
    "\n",
    "# Using $ to access the datetime column\n",
    "data$datetime <- parse_date_time(data$datetime, \"%d.%m.%Y %H:%M\", tz = \"Europe/Paris\")\n",
    "\n",
    "# Extract the month\n",
    "data[[\"month\"]] <- month(data[[\"datetime\"]])\n",
    "\n",
    "# Extract the date (without time)\n",
    "data[[\"date\"]] <- date(data[[\"datetime\"]])\n",
    "\n",
    "# Check the results\n",
    "head(data)"
   ]
  }
 ],
 "metadata": {
  "kernelspec": {
   "display_name": "R",
   "language": "R",
   "name": "ir"
  },
  "language_info": {
   "codemirror_mode": "r",
   "file_extension": ".r",
   "mimetype": "text/x-r-source",
   "name": "R",
   "pygments_lexer": "r",
   "version": "4.1.3"
  }
 },
 "nbformat": 4,
 "nbformat_minor": 5
}
