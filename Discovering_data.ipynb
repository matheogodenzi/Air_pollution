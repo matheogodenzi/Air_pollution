{
 "cells": [
  {
   "cell_type": "markdown",
   "id": "cb4208e1-5f3f-4c15-bf31-f8a2b284e53f",
   "metadata": {},
   "source": [
    "# Data Viz"
   ]
  },
  {
   "cell_type": "code",
   "execution_count": 10,
   "id": "ac740f7d-a0a2-43a8-b5d9-81aed9435bb0",
   "metadata": {},
   "outputs": [],
   "source": [
    "## ------------------------Installing libraries------------------------------------------------\n",
    "# Install from CRAN\n",
    "#install.packages(\"tidyverse\")\n",
    "#install.packages(\"lubridate\")\n",
    "#install.packages(\"openxlsx\")\n",
    "#install.packages(\"Hmisc\")"
   ]
  },
  {
   "cell_type": "code",
   "execution_count": 11,
   "id": "48ec2943-c46f-4534-837a-28670342f09b",
   "metadata": {},
   "outputs": [],
   "source": [
    "##______________________________ LOADING LIBRARIES________________________\n",
    "library(readr)\n",
    "library(tidyverse)\n",
    "library(lubridate)\n",
    "library(ggplot2)\n",
    "library(openxlsx)"
   ]
  },
  {
   "cell_type": "code",
   "execution_count": 12,
   "id": "c18cd1e2-44eb-4925-ab6c-6b89edd8b3f4",
   "metadata": {},
   "outputs": [],
   "source": [
    "# Functions\n",
    "\n",
    "## This function reads csv data files\n",
    "read_data <- function(filename, delim_f, skip_f) {\n",
    "    \n",
    "    ## Read data file\n",
    "    data <- read_delim(filename, delim=delim_f, skip=skip_f,\n",
    "                   col_names=c(\"datetime\",\"O3\",\"NO2\",\"SO2\",\"CO\",\"PM10\",\"TEMP\",\"PREC\",\"RAD\"), show_col_types = FALSE)\n",
    "    # show_col_types = TRUE shows the column types to explicit what each column contains\n",
    "\n",
    "    return(data)\n",
    "}"
   ]
  },
  {
   "cell_type": "code",
   "execution_count": 13,
   "id": "a6e2c4d3-8bf0-40c7-8e81-0d363b64af9c",
   "metadata": {},
   "outputs": [
    {
     "data": {
      "text/html": [
       "'LC_COLLATE=English_United States.1252;LC_CTYPE=English_United States.1252;LC_MONETARY=English_United States.1252;LC_NUMERIC=C;LC_TIME=English_United States.1252'"
      ],
      "text/latex": [
       "'LC\\_COLLATE=English\\_United States.1252;LC\\_CTYPE=English\\_United States.1252;LC\\_MONETARY=English\\_United States.1252;LC\\_NUMERIC=C;LC\\_TIME=English\\_United States.1252'"
      ],
      "text/markdown": [
       "'LC_COLLATE=English_United States.1252;LC_CTYPE=English_United States.1252;LC_MONETARY=English_United States.1252;LC_NUMERIC=C;LC_TIME=English_United States.1252'"
      ],
      "text/plain": [
       "[1] \"LC_COLLATE=English_United States.1252;LC_CTYPE=English_United States.1252;LC_MONETARY=English_United States.1252;LC_NUMERIC=C;LC_TIME=English_United States.1252\""
      ]
     },
     "metadata": {},
     "output_type": "display_data"
    }
   ],
   "source": [
    "## Specify settings\n",
    "#Sys.setlocale(\"LC_TIME\",\"C\")\n",
    "Sys.setlocale(\"LC_ALL\",\"English\")\n",
    "options(stringsAsFactors=FALSE)\n",
    "theme_set(theme_bw()) # just my preference for plots"
   ]
  },
  {
   "cell_type": "code",
   "execution_count": 14,
   "id": "64b89d0d-df2b-4bd9-a9ed-7e90f9720019",
   "metadata": {},
   "outputs": [
    {
     "data": {
      "text/html": [
       "FALSE"
      ],
      "text/latex": [
       "FALSE"
      ],
      "text/markdown": [
       "FALSE"
      ],
      "text/plain": [
       "[1] FALSE"
      ]
     },
     "metadata": {},
     "output_type": "display_data"
    },
    {
     "data": {
      "text/html": [
       "TRUE"
      ],
      "text/latex": [
       "TRUE"
      ],
      "text/markdown": [
       "TRUE"
      ],
      "text/plain": [
       "[1] TRUE"
      ]
     },
     "metadata": {},
     "output_type": "display_data"
    }
   ],
   "source": [
    "## ------------------LOADING DATA------------------------------------------------------\n",
    "## Define input file (located in same directory)\n",
    "BASEL <- \"./Data/BAS(1).csv\"\n",
    "file.exists(BASEL)\n",
    "\n",
    "DAVOS <- \"./Data/DAV.csv\"\n",
    "file.exists(DAVOS)"
   ]
  },
  {
   "cell_type": "code",
   "execution_count": 15,
   "id": "eba3cc4c-080e-4952-af91-18012c95380f",
   "metadata": {},
   "outputs": [
    {
     "ename": "ERROR",
     "evalue": "Error: './Data/BAS(1).csv' does not exist in current working directory ('C:/Users/matheo/Desktop/EPFL/MA4/Air pollution/Air_pollution').\n",
     "output_type": "error",
     "traceback": [
      "Error: './Data/BAS(1).csv' does not exist in current working directory ('C:/Users/matheo/Desktop/EPFL/MA4/Air pollution/Air_pollution').\nTraceback:\n",
      "1. read_delim(BASEL, delim = \";\", skip = 6, col_names = c(\"datetime\", \n .     \"O3\", \"NO2\", \"SO2\", \"PM10\", \"PM2.5\", \"EC\", \"CPC\", \"NOx\", \n .     \"TEMP\", \"PREC\", \"RAD\"), show_col_types = FALSE)",
      "2. vroom::vroom(file, delim = delim, col_names = col_names, col_types = col_types, \n .     col_select = {\n .         {\n .             col_select\n .         }\n .     }, id = id, .name_repair = name_repair, skip = skip, n_max = n_max, \n .     na = na, quote = quote, comment = comment, skip_empty_rows = skip_empty_rows, \n .     trim_ws = trim_ws, escape_double = escape_double, escape_backslash = escape_backslash, \n .     locale = locale, guess_max = guess_max, progress = progress, \n .     altrep = lazy, show_col_types = show_col_types, num_threads = num_threads)",
      "3. vroom_(file, delim = delim %||% col_types$delim, col_names = col_names, \n .     col_types = col_types, id = id, skip = skip, col_select = col_select, \n .     name_repair = .name_repair, na = na, quote = quote, trim_ws = trim_ws, \n .     escape_double = escape_double, escape_backslash = escape_backslash, \n .     comment = comment, skip_empty_rows = skip_empty_rows, locale = locale, \n .     guess_max = guess_max, n_max = n_max, altrep = vroom_altrep(altrep), \n .     num_threads = num_threads, progress = progress)",
      "4. (function (path, write = FALSE) \n . {\n .     if (is.raw(path)) {\n .         return(rawConnection(path, \"rb\"))\n .     }\n .     if (!is.character(path)) {\n .         return(path)\n .     }\n .     if (is_url(path)) {\n .         if (requireNamespace(\"curl\", quietly = TRUE)) {\n .             con <- curl::curl(path)\n .         }\n .         else {\n .             rlang::inform(\"`curl` package not installed, falling back to using `url()`\")\n .             con <- url(path)\n .         }\n .         ext <- tolower(tools::file_ext(path))\n .         return(switch(ext, zip = , bz2 = , xz = {\n .             close(con)\n .             stop(\"Reading from remote `\", ext, \"` compressed files is not supported,\\n\", \n .                 \"  download the files locally first.\", call. = FALSE)\n .         }, gz = gzcon(con), con))\n .     }\n .     path <- enc2utf8(path)\n .     p <- split_path_ext(basename_utf8(path))\n .     if (write) {\n .         path <- normalizePath_utf8(path, mustWork = FALSE)\n .     }\n .     else {\n .         path <- check_path(path)\n .     }\n .     if (rlang::is_installed(\"archive\")) {\n .         formats <- archive_formats(p$extension)\n .         extension <- p$extension\n .         while (is.null(formats) && nzchar(extension)) {\n .             extension <- split_path_ext(extension)$extension\n .             formats <- archive_formats(extension)\n .         }\n .         if (!is.null(formats)) {\n .             p$extension <- extension\n .             if (write) {\n .                 if (is.null(formats[[1]])) {\n .                   return(archive::file_write(path, filter = formats[[2]]))\n .                 }\n .                 return(archive::archive_write(path, p$path, format = formats[[1]], \n .                   filter = formats[[2]]))\n .             }\n .             if (is.null(formats[[1]])) {\n .                 return(archive::file_read(path, filter = formats[[2]]))\n .             }\n .             return(archive::archive_read(path, format = formats[[1]], \n .                 filter = formats[[2]]))\n .         }\n .     }\n .     if (!write) {\n .         compression <- detect_compression(path)\n .     }\n .     else {\n .         compression <- NA\n .     }\n .     if (is.na(compression)) {\n .         compression <- tools::file_ext(path)\n .     }\n .     if (write && compression == \"zip\") {\n .         stop(\"Can only read from, not write to, .zip\", call. = FALSE)\n .     }\n .     switch(compression, gz = gzfile(path, \"\"), bz2 = bzfile(path, \n .         \"\"), xz = xzfile(path, \"\"), zip = zipfile(path, \"\"), \n .         if (!has_trailing_newline(path)) {\n .             file(path)\n .         } else {\n .             path\n .         })\n . })(\"./Data/BAS(1).csv\")",
      "5. check_path(path)",
      "6. stop(\"'\", path, \"' does not exist\", if (!is_absolute_path(path)) {\n .     paste0(\" in current working directory ('\", getwd(), \"')\")\n . }, \".\", call. = FALSE)"
     ]
    }
   ],
   "source": [
    "##____________________READING DATA_____________\n",
    "#DAVOS_data <- read_data(DAVOS, \";\", 6)\n",
    "DAVOS_data <- read_delim(DAVOS, delim=\";\", skip=6,\n",
    "               col_names=c(\"datetime\",\"O3\",\"NO2\",\"PM10\",\"NOx\",\"TEMP\",\"PREC\",\"RAD\"), show_col_types = FALSE)\n",
    "# BASEL_data <- read_data(BASEL, \";\", 6)\n",
    "## Read data file\n",
    "BASEL_data <- read_delim(BASEL, delim=\";\", skip=6,\n",
    "               col_names=c(\"datetime\",\"O3\",\"NO2\",\"SO2\",\"PM10\",\"PM2.5\",\"EC\", \"CPC\", \"NOx\",\"TEMP\",\"PREC\",\"RAD\"), show_col_types = FALSE)\n",
    "# show_col_types = TRUE shows the column types to explicit what each column contains\n"
   ]
  },
  {
   "cell_type": "code",
   "execution_count": 16,
   "id": "37aa1d32-46ab-4c26-af6d-9365bbaa1d93",
   "metadata": {},
   "outputs": [
    {
     "name": "stdout",
     "output_type": "stream",
     "text": [
      "Davos dataset:\n",
      "spc_tbl_ [8,784 x 8] (S3: spec_tbl_df/tbl_df/tbl/data.frame)\n",
      " $ datetime: chr [1:8784] \"01.01.2024 01:00\" \"01.01.2024 02:00\" \"01.01.2024 03:00\" \"01.01.2024 04:00\" ...\n",
      " $ O3      : num [1:8784] 57.7 55.2 49.9 52.1 65.8 67.1 64 58.4 61.8 59 ...\n",
      " $ NO2     : num [1:8784] 1.9 2.1 3.7 4.5 0.7 0.7 3.4 5.4 1.7 2.9 ...\n",
      " $ PM10    : num [1:8784] 1.2 1.5 2.2 3 0.2 0.4 0.3 0.3 0.3 0.4 ...\n",
      " $ NOx     : num [1:8784] 1.9 2.1 3.7 4.6 0.7 0.7 3.5 5.4 1.8 3.4 ...\n",
      " $ TEMP    : num [1:8784] -2.2 -2.8 -3.3 -4.2 -5.2 -5.6 -5.7 -5.9 -5.7 -5.3 ...\n",
      " $ PREC    : num [1:8784] 0 0 0 0 0 0 0 0 0 0 ...\n",
      " $ RAD     : num [1:8784] -0.6 -0.7 -0.7 -1.1 -1.3 -0.8 -0.6 -0.6 22.6 73.9 ...\n",
      " - attr(*, \"spec\")=\n",
      "  .. cols(\n",
      "  ..   datetime = \u001b[31mcol_character()\u001b[39m,\n",
      "  ..   O3 = \u001b[32mcol_double()\u001b[39m,\n",
      "  ..   NO2 = \u001b[32mcol_double()\u001b[39m,\n",
      "  ..   PM10 = \u001b[32mcol_double()\u001b[39m,\n",
      "  ..   NOx = \u001b[32mcol_double()\u001b[39m,\n",
      "  ..   TEMP = \u001b[32mcol_double()\u001b[39m,\n",
      "  ..   PREC = \u001b[32mcol_double()\u001b[39m,\n",
      "  ..   RAD = \u001b[32mcol_double()\u001b[39m\n",
      "  .. )\n",
      " - attr(*, \"problems\")=<externalptr> \n",
      "\n",
      "Basel dataset:\n"
     ]
    },
    {
     "ename": "ERROR",
     "evalue": "Error in str(BASEL_data): objet 'BASEL_data' introuvable\n",
     "output_type": "error",
     "traceback": [
      "Error in str(BASEL_data): objet 'BASEL_data' introuvable\nTraceback:\n",
      "1. str(BASEL_data)"
     ]
    }
   ],
   "source": [
    "## ------------------------------------------------------------------------\n",
    "## View information stored in object\n",
    "cat(\"Davos dataset:\\n\")\n",
    "str(DAVOS_data)\n",
    "\n",
    "cat(\"\\nBasel dataset:\\n\")\n",
    "str(BASEL_data)"
   ]
  },
  {
   "cell_type": "code",
   "execution_count": 17,
   "id": "e9ba7f0f-aaf6-40cc-975f-0d77fb1e9f72",
   "metadata": {},
   "outputs": [
    {
     "name": "stdout",
     "output_type": "stream",
     "text": [
      "DAVOS:\n"
     ]
    },
    {
     "data": {
      "text/html": [
       "<table class=\"dataframe\">\n",
       "<caption>A tibble: 6 × 8</caption>\n",
       "<thead>\n",
       "\t<tr><th scope=col>datetime</th><th scope=col>O3</th><th scope=col>NO2</th><th scope=col>PM10</th><th scope=col>NOx</th><th scope=col>TEMP</th><th scope=col>PREC</th><th scope=col>RAD</th></tr>\n",
       "\t<tr><th scope=col>&lt;chr&gt;</th><th scope=col>&lt;dbl&gt;</th><th scope=col>&lt;dbl&gt;</th><th scope=col>&lt;dbl&gt;</th><th scope=col>&lt;dbl&gt;</th><th scope=col>&lt;dbl&gt;</th><th scope=col>&lt;dbl&gt;</th><th scope=col>&lt;dbl&gt;</th></tr>\n",
       "</thead>\n",
       "<tbody>\n",
       "\t<tr><td>01.01.2024 01:00</td><td>57.7</td><td>1.9</td><td>1.2</td><td>1.9</td><td>-2.2</td><td>0</td><td>-0.6</td></tr>\n",
       "\t<tr><td>01.01.2024 02:00</td><td>55.2</td><td>2.1</td><td>1.5</td><td>2.1</td><td>-2.8</td><td>0</td><td>-0.7</td></tr>\n",
       "\t<tr><td>01.01.2024 03:00</td><td>49.9</td><td>3.7</td><td>2.2</td><td>3.7</td><td>-3.3</td><td>0</td><td>-0.7</td></tr>\n",
       "\t<tr><td>01.01.2024 04:00</td><td>52.1</td><td>4.5</td><td>3.0</td><td>4.6</td><td>-4.2</td><td>0</td><td>-1.1</td></tr>\n",
       "\t<tr><td>01.01.2024 05:00</td><td>65.8</td><td>0.7</td><td>0.2</td><td>0.7</td><td>-5.2</td><td>0</td><td>-1.3</td></tr>\n",
       "\t<tr><td>01.01.2024 06:00</td><td>67.1</td><td>0.7</td><td>0.4</td><td>0.7</td><td>-5.6</td><td>0</td><td>-0.8</td></tr>\n",
       "</tbody>\n",
       "</table>\n"
      ],
      "text/latex": [
       "A tibble: 6 × 8\n",
       "\\begin{tabular}{llllllll}\n",
       " datetime & O3 & NO2 & PM10 & NOx & TEMP & PREC & RAD\\\\\n",
       " <chr> & <dbl> & <dbl> & <dbl> & <dbl> & <dbl> & <dbl> & <dbl>\\\\\n",
       "\\hline\n",
       "\t 01.01.2024 01:00 & 57.7 & 1.9 & 1.2 & 1.9 & -2.2 & 0 & -0.6\\\\\n",
       "\t 01.01.2024 02:00 & 55.2 & 2.1 & 1.5 & 2.1 & -2.8 & 0 & -0.7\\\\\n",
       "\t 01.01.2024 03:00 & 49.9 & 3.7 & 2.2 & 3.7 & -3.3 & 0 & -0.7\\\\\n",
       "\t 01.01.2024 04:00 & 52.1 & 4.5 & 3.0 & 4.6 & -4.2 & 0 & -1.1\\\\\n",
       "\t 01.01.2024 05:00 & 65.8 & 0.7 & 0.2 & 0.7 & -5.2 & 0 & -1.3\\\\\n",
       "\t 01.01.2024 06:00 & 67.1 & 0.7 & 0.4 & 0.7 & -5.6 & 0 & -0.8\\\\\n",
       "\\end{tabular}\n"
      ],
      "text/markdown": [
       "\n",
       "A tibble: 6 × 8\n",
       "\n",
       "| datetime &lt;chr&gt; | O3 &lt;dbl&gt; | NO2 &lt;dbl&gt; | PM10 &lt;dbl&gt; | NOx &lt;dbl&gt; | TEMP &lt;dbl&gt; | PREC &lt;dbl&gt; | RAD &lt;dbl&gt; |\n",
       "|---|---|---|---|---|---|---|---|\n",
       "| 01.01.2024 01:00 | 57.7 | 1.9 | 1.2 | 1.9 | -2.2 | 0 | -0.6 |\n",
       "| 01.01.2024 02:00 | 55.2 | 2.1 | 1.5 | 2.1 | -2.8 | 0 | -0.7 |\n",
       "| 01.01.2024 03:00 | 49.9 | 3.7 | 2.2 | 3.7 | -3.3 | 0 | -0.7 |\n",
       "| 01.01.2024 04:00 | 52.1 | 4.5 | 3.0 | 4.6 | -4.2 | 0 | -1.1 |\n",
       "| 01.01.2024 05:00 | 65.8 | 0.7 | 0.2 | 0.7 | -5.2 | 0 | -1.3 |\n",
       "| 01.01.2024 06:00 | 67.1 | 0.7 | 0.4 | 0.7 | -5.6 | 0 | -0.8 |\n",
       "\n"
      ],
      "text/plain": [
       "  datetime         O3   NO2 PM10 NOx TEMP PREC RAD \n",
       "1 01.01.2024 01:00 57.7 1.9 1.2  1.9 -2.2 0    -0.6\n",
       "2 01.01.2024 02:00 55.2 2.1 1.5  2.1 -2.8 0    -0.7\n",
       "3 01.01.2024 03:00 49.9 3.7 2.2  3.7 -3.3 0    -0.7\n",
       "4 01.01.2024 04:00 52.1 4.5 3.0  4.6 -4.2 0    -1.1\n",
       "5 01.01.2024 05:00 65.8 0.7 0.2  0.7 -5.2 0    -1.3\n",
       "6 01.01.2024 06:00 67.1 0.7 0.4  0.7 -5.6 0    -0.8"
      ]
     },
     "metadata": {},
     "output_type": "display_data"
    },
    {
     "name": "stdout",
     "output_type": "stream",
     "text": [
      "\n",
      "BASEL:\n"
     ]
    },
    {
     "ename": "ERROR",
     "evalue": "Error in head(BASEL_data): objet 'BASEL_data' introuvable\n",
     "output_type": "error",
     "traceback": [
      "Error in head(BASEL_data): objet 'BASEL_data' introuvable\nTraceback:\n",
      "1. head(BASEL_data)"
     ]
    }
   ],
   "source": [
    "## ------------------------------------------------------------------------\n",
    "## View first 6 lines\n",
    "cat(\"DAVOS:\\n\")\n",
    "head(DAVOS_data)\n",
    "cat(\"\\nBASEL:\\n\")\n",
    "head(BASEL_data)"
   ]
  },
  {
   "cell_type": "code",
   "execution_count": 18,
   "id": "20f793b6-27dd-415e-97bb-f4634ff48f08",
   "metadata": {},
   "outputs": [],
   "source": [
    "# Parse the datetime with the 'Europe/Paris' timezone\n",
    "# Parse the datetime column (assuming it's named correctly)\n",
    "##data[[\"datetime\"]] <- parse_date_time(data[[\"datetime\"]], \"%d.%m.%Y %H:%M\", tz = \"Europe/Paris\")\n",
    "\n",
    "# Using $ to access the datetime column \n",
    "## TO DO only once\n",
    "DAVOS_data$datetime <- parse_date_time(DAVOS_data$datetime, \"%d.%m.%Y %H:%M\", tz = \"Etc/GMT-1\")"
   ]
  },
  {
   "cell_type": "code",
   "execution_count": 19,
   "id": "2c3e1f23-24cb-4cbe-b042-6bdcce548791",
   "metadata": {},
   "outputs": [
    {
     "data": {
      "text/html": [
       "<table class=\"dataframe\">\n",
       "<caption>A tibble: 6 × 10</caption>\n",
       "<thead>\n",
       "\t<tr><th scope=col>datetime</th><th scope=col>O3</th><th scope=col>NO2</th><th scope=col>PM10</th><th scope=col>NOx</th><th scope=col>TEMP</th><th scope=col>PREC</th><th scope=col>RAD</th><th scope=col>month</th><th scope=col>date</th></tr>\n",
       "\t<tr><th scope=col>&lt;dttm&gt;</th><th scope=col>&lt;dbl&gt;</th><th scope=col>&lt;dbl&gt;</th><th scope=col>&lt;dbl&gt;</th><th scope=col>&lt;dbl&gt;</th><th scope=col>&lt;dbl&gt;</th><th scope=col>&lt;dbl&gt;</th><th scope=col>&lt;dbl&gt;</th><th scope=col>&lt;dbl&gt;</th><th scope=col>&lt;date&gt;</th></tr>\n",
       "</thead>\n",
       "<tbody>\n",
       "\t<tr><td>2024-01-01 01:00:00</td><td>57.7</td><td>1.9</td><td>1.2</td><td>1.9</td><td>-2.2</td><td>0</td><td>-0.6</td><td>1</td><td>2024-01-01</td></tr>\n",
       "\t<tr><td>2024-01-01 02:00:00</td><td>55.2</td><td>2.1</td><td>1.5</td><td>2.1</td><td>-2.8</td><td>0</td><td>-0.7</td><td>1</td><td>2024-01-01</td></tr>\n",
       "\t<tr><td>2024-01-01 03:00:00</td><td>49.9</td><td>3.7</td><td>2.2</td><td>3.7</td><td>-3.3</td><td>0</td><td>-0.7</td><td>1</td><td>2024-01-01</td></tr>\n",
       "\t<tr><td>2024-01-01 04:00:00</td><td>52.1</td><td>4.5</td><td>3.0</td><td>4.6</td><td>-4.2</td><td>0</td><td>-1.1</td><td>1</td><td>2024-01-01</td></tr>\n",
       "\t<tr><td>2024-01-01 05:00:00</td><td>65.8</td><td>0.7</td><td>0.2</td><td>0.7</td><td>-5.2</td><td>0</td><td>-1.3</td><td>1</td><td>2024-01-01</td></tr>\n",
       "\t<tr><td>2024-01-01 06:00:00</td><td>67.1</td><td>0.7</td><td>0.4</td><td>0.7</td><td>-5.6</td><td>0</td><td>-0.8</td><td>1</td><td>2024-01-01</td></tr>\n",
       "</tbody>\n",
       "</table>\n"
      ],
      "text/latex": [
       "A tibble: 6 × 10\n",
       "\\begin{tabular}{llllllllll}\n",
       " datetime & O3 & NO2 & PM10 & NOx & TEMP & PREC & RAD & month & date\\\\\n",
       " <dttm> & <dbl> & <dbl> & <dbl> & <dbl> & <dbl> & <dbl> & <dbl> & <dbl> & <date>\\\\\n",
       "\\hline\n",
       "\t 2024-01-01 01:00:00 & 57.7 & 1.9 & 1.2 & 1.9 & -2.2 & 0 & -0.6 & 1 & 2024-01-01\\\\\n",
       "\t 2024-01-01 02:00:00 & 55.2 & 2.1 & 1.5 & 2.1 & -2.8 & 0 & -0.7 & 1 & 2024-01-01\\\\\n",
       "\t 2024-01-01 03:00:00 & 49.9 & 3.7 & 2.2 & 3.7 & -3.3 & 0 & -0.7 & 1 & 2024-01-01\\\\\n",
       "\t 2024-01-01 04:00:00 & 52.1 & 4.5 & 3.0 & 4.6 & -4.2 & 0 & -1.1 & 1 & 2024-01-01\\\\\n",
       "\t 2024-01-01 05:00:00 & 65.8 & 0.7 & 0.2 & 0.7 & -5.2 & 0 & -1.3 & 1 & 2024-01-01\\\\\n",
       "\t 2024-01-01 06:00:00 & 67.1 & 0.7 & 0.4 & 0.7 & -5.6 & 0 & -0.8 & 1 & 2024-01-01\\\\\n",
       "\\end{tabular}\n"
      ],
      "text/markdown": [
       "\n",
       "A tibble: 6 × 10\n",
       "\n",
       "| datetime &lt;dttm&gt; | O3 &lt;dbl&gt; | NO2 &lt;dbl&gt; | PM10 &lt;dbl&gt; | NOx &lt;dbl&gt; | TEMP &lt;dbl&gt; | PREC &lt;dbl&gt; | RAD &lt;dbl&gt; | month &lt;dbl&gt; | date &lt;date&gt; |\n",
       "|---|---|---|---|---|---|---|---|---|---|\n",
       "| 2024-01-01 01:00:00 | 57.7 | 1.9 | 1.2 | 1.9 | -2.2 | 0 | -0.6 | 1 | 2024-01-01 |\n",
       "| 2024-01-01 02:00:00 | 55.2 | 2.1 | 1.5 | 2.1 | -2.8 | 0 | -0.7 | 1 | 2024-01-01 |\n",
       "| 2024-01-01 03:00:00 | 49.9 | 3.7 | 2.2 | 3.7 | -3.3 | 0 | -0.7 | 1 | 2024-01-01 |\n",
       "| 2024-01-01 04:00:00 | 52.1 | 4.5 | 3.0 | 4.6 | -4.2 | 0 | -1.1 | 1 | 2024-01-01 |\n",
       "| 2024-01-01 05:00:00 | 65.8 | 0.7 | 0.2 | 0.7 | -5.2 | 0 | -1.3 | 1 | 2024-01-01 |\n",
       "| 2024-01-01 06:00:00 | 67.1 | 0.7 | 0.4 | 0.7 | -5.6 | 0 | -0.8 | 1 | 2024-01-01 |\n",
       "\n"
      ],
      "text/plain": [
       "  datetime            O3   NO2 PM10 NOx TEMP PREC RAD  month date      \n",
       "1 2024-01-01 01:00:00 57.7 1.9 1.2  1.9 -2.2 0    -0.6 1     2024-01-01\n",
       "2 2024-01-01 02:00:00 55.2 2.1 1.5  2.1 -2.8 0    -0.7 1     2024-01-01\n",
       "3 2024-01-01 03:00:00 49.9 3.7 2.2  3.7 -3.3 0    -0.7 1     2024-01-01\n",
       "4 2024-01-01 04:00:00 52.1 4.5 3.0  4.6 -4.2 0    -1.1 1     2024-01-01\n",
       "5 2024-01-01 05:00:00 65.8 0.7 0.2  0.7 -5.2 0    -1.3 1     2024-01-01\n",
       "6 2024-01-01 06:00:00 67.1 0.7 0.4  0.7 -5.6 0    -0.8 1     2024-01-01"
      ]
     },
     "metadata": {},
     "output_type": "display_data"
    }
   ],
   "source": [
    "# Extract the month\n",
    "DAVOS_data[[\"month\"]] <- month(DAVOS_data[[\"datetime\"]])\n",
    "\n",
    "# Extract the date (without time)\n",
    "DAVOS_data[[\"date\"]] <- date(DAVOS_data[[\"datetime\"]])\n",
    "\n",
    "# Check the results\n",
    "head(DAVOS_data)"
   ]
  },
  {
   "cell_type": "code",
   "execution_count": 20,
   "id": "2759c9ce-6a49-4095-bb92-8446916878c9",
   "metadata": {},
   "outputs": [
    {
     "data": {
      "image/png": "[encoded data removed]",
      "text/plain": [
       "plot without title"
      ]
     },
     "metadata": {
      "image/png": {
       "height": 420,
       "width": 420
      }
     },
     "output_type": "display_data"
    }
   ],
   "source": [
    "## ---- fig.width=8, fig.height=5------------------------------------------\n",
    "ggplot(DAVOS_data)+\n",
    "  geom_line(aes(datetime, O3))"
   ]
  },
  {
   "cell_type": "code",
   "execution_count": 21,
   "id": "0b998713-f7c6-4a79-8196-368b56e671a5",
   "metadata": {},
   "outputs": [
    {
     "ename": "ERROR",
     "evalue": "Error in .num_to_date(x): objet 'BASEL_data' introuvable\n",
     "output_type": "error",
     "traceback": [
      "Error in .num_to_date(x): objet 'BASEL_data' introuvable\nTraceback:\n",
      "1. parse_date_time(BASEL_data$datetime, \"%d.%m.%Y %H:%M\", tz = \"Etc/GMT-1\")",
      "2. .num_to_date(x)"
     ]
    }
   ],
   "source": [
    "# Parse the datetime with the 'Europe/Paris' timezone\n",
    "# Parse the datetime column (assuming it's named correctly)\n",
    "##data[[\"datetime\"]] <- parse_date_time(data[[\"datetime\"]], \"%d.%m.%Y %H:%M\", tz = \"CEST\")\n",
    "\n",
    "# Using $ to access the datetime column\n",
    "BASEL_data$datetime <- parse_date_time(BASEL_data$datetime, \"%d.%m.%Y %H:%M\", tz = \"Etc/GMT-1\")"
   ]
  },
  {
   "cell_type": "code",
   "execution_count": 22,
   "id": "5946b27d-1710-4dfb-81d6-e8f76ace296e",
   "metadata": {},
   "outputs": [
    {
     "ename": "ERROR",
     "evalue": "Error in which(is.na(BASEL_data$datetime)): objet 'BASEL_data' introuvable\n",
     "output_type": "error",
     "traceback": [
      "Error in which(is.na(BASEL_data$datetime)): objet 'BASEL_data' introuvable\nTraceback:\n",
      "1. which(is.na(BASEL_data$datetime))"
     ]
    }
   ],
   "source": [
    "#checking table rows \n",
    "invalid_rows <- which(is.na(BASEL_data$datetime))\n",
    "invalid_rows\n",
    "invalid_dates <- BASEL_data[is.na(BASEL_data$datetime), ]\n",
    "invalid_dates"
   ]
  },
  {
   "cell_type": "code",
   "execution_count": 23,
   "id": "c5b9b145-50b3-4e7c-acb1-6f92e193578c",
   "metadata": {},
   "outputs": [
    {
     "ename": "ERROR",
     "evalue": "Error in month(BASEL_data[[\"datetime\"]]): objet 'BASEL_data' introuvable\n",
     "output_type": "error",
     "traceback": [
      "Error in month(BASEL_data[[\"datetime\"]]): objet 'BASEL_data' introuvable\nTraceback:\n",
      "1. month(BASEL_data[[\"datetime\"]])"
     ]
    }
   ],
   "source": [
    "# Extract the month\n",
    "BASEL_data[[\"month\"]] <- month(BASEL_data[[\"datetime\"]])\n",
    "\n",
    "# Extract the date (without time)\n",
    "BASEL_data[[\"date\"]] <- date(BASEL_data[[\"datetime\"]])\n",
    "\n",
    "# Check the results\n",
    "head(BASEL_data)"
   ]
  },
  {
   "cell_type": "markdown",
   "id": "6f8e96c9-4bc2-45da-8b9c-25555c4a87d2",
   "metadata": {},
   "source": [
    "## Problem 3"
   ]
  },
  {
   "cell_type": "code",
   "execution_count": 24,
   "id": "bcd07196-683f-4e96-8637-96ff71d8aa64",
   "metadata": {},
   "outputs": [
    {
     "data": {
      "text/html": [
       "TRUE"
      ],
      "text/latex": [
       "TRUE"
      ],
      "text/markdown": [
       "TRUE"
      ],
      "text/plain": [
       "[1] TRUE"
      ]
     },
     "metadata": {},
     "output_type": "display_data"
    }
   ],
   "source": [
    "reg_val <- \"./Data/Regulatory_values.xlsx\"\n",
    "file.exists(reg_val)\n",
    "\n",
    "limits.daily <- read.xlsx(reg_val, sheet = 1)"
   ]
  },
  {
   "cell_type": "code",
   "execution_count": 25,
   "id": "256559a8-deda-4d79-895d-deadf49bf831",
   "metadata": {},
   "outputs": [],
   "source": [
    "# Second option\n",
    "limits.daily <- tibble(value=c(100,80,8,50),\n",
    "                       variable=c(\"SO2\",\"NO2\",\"CO\",\"PM10\"))"
   ]
  },
  {
   "cell_type": "code",
   "execution_count": 26,
   "id": "6df2e166-ce75-41b9-8408-c85e8114f6d1",
   "metadata": {},
   "outputs": [
    {
     "data": {
      "text/html": [
       "<table class=\"dataframe\">\n",
       "<caption>A tibble: 4 × 2</caption>\n",
       "<thead>\n",
       "\t<tr><th scope=col>value</th><th scope=col>variable</th></tr>\n",
       "\t<tr><th scope=col>&lt;dbl&gt;</th><th scope=col>&lt;chr&gt;</th></tr>\n",
       "</thead>\n",
       "<tbody>\n",
       "\t<tr><td>100</td><td>SO2 </td></tr>\n",
       "\t<tr><td> 80</td><td>NO2 </td></tr>\n",
       "\t<tr><td>  8</td><td>CO  </td></tr>\n",
       "\t<tr><td> 50</td><td>PM10</td></tr>\n",
       "</tbody>\n",
       "</table>\n"
      ],
      "text/latex": [
       "A tibble: 4 × 2\n",
       "\\begin{tabular}{ll}\n",
       " value & variable\\\\\n",
       " <dbl> & <chr>\\\\\n",
       "\\hline\n",
       "\t 100 & SO2 \\\\\n",
       "\t  80 & NO2 \\\\\n",
       "\t   8 & CO  \\\\\n",
       "\t  50 & PM10\\\\\n",
       "\\end{tabular}\n"
      ],
      "text/markdown": [
       "\n",
       "A tibble: 4 × 2\n",
       "\n",
       "| value &lt;dbl&gt; | variable &lt;chr&gt; |\n",
       "|---|---|\n",
       "| 100 | SO2  |\n",
       "|  80 | NO2  |\n",
       "|   8 | CO   |\n",
       "|  50 | PM10 |\n",
       "\n"
      ],
      "text/plain": [
       "  value variable\n",
       "1 100   SO2     \n",
       "2  80   NO2     \n",
       "3   8   CO      \n",
       "4  50   PM10    "
      ]
     },
     "metadata": {},
     "output_type": "display_data"
    }
   ],
   "source": [
    "limits.daily"
   ]
  },
  {
   "cell_type": "code",
   "execution_count": 27,
   "id": "aa891d5f-c221-40a7-a0b8-dad489ff451c",
   "metadata": {},
   "outputs": [
    {
     "data": {
      "text/html": [
       "'C'"
      ],
      "text/latex": [
       "'C'"
      ],
      "text/markdown": [
       "'C'"
      ],
      "text/plain": [
       "[1] \"C\""
      ]
     },
     "metadata": {},
     "output_type": "display_data"
    }
   ],
   "source": [
    "Sys.setlocale(\"LC_TIME\",\"C\")\n",
    "options(stringsAsFactors=FALSE)\n",
    "options(dplyr.summarise.inform = FALSE)\n",
    "theme_set(theme_bw()) # just my preference for plots"
   ]
  },
  {
   "cell_type": "code",
   "execution_count": 28,
   "id": "2e893f41-2c02-4830-b72c-38214bebb991",
   "metadata": {},
   "outputs": [],
   "source": [
    "month2season <- function(month) {\n",
    "  ## month is an integer (1-12)\n",
    "  ## a factor with levels {\"Winter : DJF\", \"Spring : MAM\", \"Summer : JJA\", \"Autumn : SON\"} is returned\n",
    "  seasons <- c(\"Winter\", \"Spring\", \"Summer\", \"Autumn\")\n",
    "  index <- findInterval(month %% 12, seq(0, 12, 3))\n",
    "  factor(seasons[index], seasons)\n",
    "}\n",
    "\n",
    "wday2type <- function(wday) {\n",
    "  ## wday is an integer with 1 = Monday, 2 = Tuesday, ... and 7 = Sunday\n",
    "  c(\"Weekday\", \"Weekend\")[(unclass(wday) - 1) %/% 5 + 1]\n",
    "}"
   ]
  },
  {
   "cell_type": "code",
   "execution_count": 29,
   "id": "3917c697-57d2-423c-a6ca-bd58207e1e35",
   "metadata": {},
   "outputs": [
    {
     "data": {
      "text/html": [
       "<style>\n",
       ".list-inline {list-style: none; margin:0; padding: 0}\n",
       ".list-inline>li {display: inline-block}\n",
       ".list-inline>li:not(:last-child)::after {content: \"\\00b7\"; padding: 0 .5ex}\n",
       "</style>\n",
       "<ol class=list-inline><li>Winter</li><li>Winter</li><li>Spring</li></ol>\n",
       "\n",
       "<details>\n",
       "\t<summary style=display:list-item;cursor:pointer>\n",
       "\t\t<strong>Levels</strong>:\n",
       "\t</summary>\n",
       "\t<style>\n",
       "\t.list-inline {list-style: none; margin:0; padding: 0}\n",
       "\t.list-inline>li {display: inline-block}\n",
       "\t.list-inline>li:not(:last-child)::after {content: \"\\00b7\"; padding: 0 .5ex}\n",
       "\t</style>\n",
       "\t<ol class=list-inline><li>'Winter'</li><li>'Spring'</li><li>'Summer'</li><li>'Autumn'</li></ol>\n",
       "</details>"
      ],
      "text/latex": [
       "\\begin{enumerate*}\n",
       "\\item Winter\n",
       "\\item Winter\n",
       "\\item Spring\n",
       "\\end{enumerate*}\n",
       "\n",
       "\\emph{Levels}: \\begin{enumerate*}\n",
       "\\item 'Winter'\n",
       "\\item 'Spring'\n",
       "\\item 'Summer'\n",
       "\\item 'Autumn'\n",
       "\\end{enumerate*}\n"
      ],
      "text/markdown": [
       "1. Winter\n",
       "2. Winter\n",
       "3. Spring\n",
       "\n",
       "\n",
       "\n",
       "**Levels**: 1. 'Winter'\n",
       "2. 'Spring'\n",
       "3. 'Summer'\n",
       "4. 'Autumn'\n",
       "\n",
       "\n"
      ],
      "text/plain": [
       "[1] Winter Winter Spring\n",
       "Levels: Winter Spring Summer Autumn"
      ]
     },
     "metadata": {},
     "output_type": "display_data"
    }
   ],
   "source": [
    "month2season(c(1, 2, 3))"
   ]
  },
  {
   "cell_type": "code",
   "execution_count": 30,
   "id": "509c34d3-4d8e-44da-98d6-9e9bb180c5de",
   "metadata": {},
   "outputs": [],
   "source": [
    "read_tseries <- function(filename, timecolumn = \"Date/time\", timeformat = \"%d.%m.%Y %H:%M\", tz = \"Etc/GMT-1\", delta = 3600) {\n",
    "  ## read the table, strip units in column names, rename time column\n",
    "  ##   and change data type of time column from a string of characters to\n",
    "  ##   a numeric type so that we can perform operations on it\n",
    "\n",
    "  data <- read_delim(filename, skip = 5, delim = \";\", locale = locale(encoding = \"Latin1\"), show_col_types = FALSE)\n",
    "\n",
    "  out <- data %>%\n",
    "    rename_with(.fn = function(x) sub(\"[ ].*$\", \"\", x)) %>% # strip units for simplification\n",
    "    rename(datetime = !!timecolumn) %>%\n",
    "    mutate(datetime = parse_date_time(datetime, !!timeformat, !!tz) - !!delta) %>%\n",
    "    mutate(year = year(datetime),\n",
    "           month = month(datetime),\n",
    "           day = day(datetime),\n",
    "           hour = hour(datetime),\n",
    "           dayofwk = wday(datetime, label = TRUE, week_start = 1),\n",
    "           daytype = wday2type(dayofwk),\n",
    "           season = month2season(month),\n",
    "           .after = datetime)\n",
    "}"
   ]
  },
  {
   "cell_type": "code",
   "execution_count": 31,
   "id": "40ebaada-6c1f-4072-861b-dabce3e543b0",
   "metadata": {},
   "outputs": [
    {
     "name": "stderr",
     "output_type": "stream",
     "text": [
      "\u001b[1m\u001b[22mJoining with `by = join_by(site, datetime, year, month, day, hour, dayofwk, daytype, season, O3, NO2, PM10, NOX, TEMP,\n",
      "PREC, RAD)`\n"
     ]
    }
   ],
   "source": [
    "datapath <- file.path(\"Data\")\n",
    "\n",
    "all_data_df <- full_join(\n",
    "  bind_cols(site=\"DAV\", read_tseries(file.path(datapath, \"DAV.csv\"))),\n",
    "  bind_cols(site=\"BAS\", read_tseries(file.path(datapath, \"BAS.csv\")))\n",
    ")"
   ]
  },
  {
   "cell_type": "code",
   "execution_count": 32,
   "id": "f5bf7f96-4625-4e8b-bb36-ea4301466566",
   "metadata": {},
   "outputs": [
    {
     "data": {
      "text/html": [
       "<table class=\"dataframe\">\n",
       "<caption>A tibble: 17568 × 20</caption>\n",
       "<thead>\n",
       "\t<tr><th scope=col>site</th><th scope=col>datetime</th><th scope=col>year</th><th scope=col>month</th><th scope=col>day</th><th scope=col>hour</th><th scope=col>dayofwk</th><th scope=col>daytype</th><th scope=col>season</th><th scope=col>O3</th><th scope=col>NO2</th><th scope=col>PM10</th><th scope=col>NOX</th><th scope=col>TEMP</th><th scope=col>PREC</th><th scope=col>RAD</th><th scope=col>SO2</th><th scope=col>PM2.5</th><th scope=col>EC</th><th scope=col>CPC</th></tr>\n",
       "\t<tr><th scope=col>&lt;chr&gt;</th><th scope=col>&lt;dttm&gt;</th><th scope=col>&lt;dbl&gt;</th><th scope=col>&lt;dbl&gt;</th><th scope=col>&lt;int&gt;</th><th scope=col>&lt;int&gt;</th><th scope=col>&lt;ord&gt;</th><th scope=col>&lt;chr&gt;</th><th scope=col>&lt;fct&gt;</th><th scope=col>&lt;dbl&gt;</th><th scope=col>&lt;dbl&gt;</th><th scope=col>&lt;dbl&gt;</th><th scope=col>&lt;dbl&gt;</th><th scope=col>&lt;dbl&gt;</th><th scope=col>&lt;dbl&gt;</th><th scope=col>&lt;dbl&gt;</th><th scope=col>&lt;dbl&gt;</th><th scope=col>&lt;dbl&gt;</th><th scope=col>&lt;dbl&gt;</th><th scope=col>&lt;dbl&gt;</th></tr>\n",
       "</thead>\n",
       "<tbody>\n",
       "\t<tr><td>DAV</td><td>2024-01-01 00:00:00</td><td>2024</td><td>1</td><td>1</td><td> 0</td><td>Mon</td><td>Weekday</td><td>Winter</td><td>57.7</td><td>1.9</td><td>1.2</td><td>1.9</td><td>-2.2</td><td>0</td><td> -0.6</td><td>NA</td><td>NA</td><td>NA</td><td>NA</td></tr>\n",
       "\t<tr><td>DAV</td><td>2024-01-01 01:00:00</td><td>2024</td><td>1</td><td>1</td><td> 1</td><td>Mon</td><td>Weekday</td><td>Winter</td><td>55.2</td><td>2.1</td><td>1.5</td><td>2.1</td><td>-2.8</td><td>0</td><td> -0.7</td><td>NA</td><td>NA</td><td>NA</td><td>NA</td></tr>\n",
       "\t<tr><td>DAV</td><td>2024-01-01 02:00:00</td><td>2024</td><td>1</td><td>1</td><td> 2</td><td>Mon</td><td>Weekday</td><td>Winter</td><td>49.9</td><td>3.7</td><td>2.2</td><td>3.7</td><td>-3.3</td><td>0</td><td> -0.7</td><td>NA</td><td>NA</td><td>NA</td><td>NA</td></tr>\n",
       "\t<tr><td>DAV</td><td>2024-01-01 03:00:00</td><td>2024</td><td>1</td><td>1</td><td> 3</td><td>Mon</td><td>Weekday</td><td>Winter</td><td>52.1</td><td>4.5</td><td>3.0</td><td>4.6</td><td>-4.2</td><td>0</td><td> -1.1</td><td>NA</td><td>NA</td><td>NA</td><td>NA</td></tr>\n",
       "\t<tr><td>DAV</td><td>2024-01-01 04:00:00</td><td>2024</td><td>1</td><td>1</td><td> 4</td><td>Mon</td><td>Weekday</td><td>Winter</td><td>65.8</td><td>0.7</td><td>0.2</td><td>0.7</td><td>-5.2</td><td>0</td><td> -1.3</td><td>NA</td><td>NA</td><td>NA</td><td>NA</td></tr>\n",
       "\t<tr><td>DAV</td><td>2024-01-01 05:00:00</td><td>2024</td><td>1</td><td>1</td><td> 5</td><td>Mon</td><td>Weekday</td><td>Winter</td><td>67.1</td><td>0.7</td><td>0.4</td><td>0.7</td><td>-5.6</td><td>0</td><td> -0.8</td><td>NA</td><td>NA</td><td>NA</td><td>NA</td></tr>\n",
       "\t<tr><td>DAV</td><td>2024-01-01 06:00:00</td><td>2024</td><td>1</td><td>1</td><td> 6</td><td>Mon</td><td>Weekday</td><td>Winter</td><td>64.0</td><td>3.4</td><td>0.3</td><td>3.5</td><td>-5.7</td><td>0</td><td> -0.6</td><td>NA</td><td>NA</td><td>NA</td><td>NA</td></tr>\n",
       "\t<tr><td>DAV</td><td>2024-01-01 07:00:00</td><td>2024</td><td>1</td><td>1</td><td> 7</td><td>Mon</td><td>Weekday</td><td>Winter</td><td>58.4</td><td>5.4</td><td>0.3</td><td>5.4</td><td>-5.9</td><td>0</td><td> -0.6</td><td>NA</td><td>NA</td><td>NA</td><td>NA</td></tr>\n",
       "\t<tr><td>DAV</td><td>2024-01-01 08:00:00</td><td>2024</td><td>1</td><td>1</td><td> 8</td><td>Mon</td><td>Weekday</td><td>Winter</td><td>61.8</td><td>1.7</td><td>0.3</td><td>1.8</td><td>-5.7</td><td>0</td><td> 22.6</td><td>NA</td><td>NA</td><td>NA</td><td>NA</td></tr>\n",
       "\t<tr><td>DAV</td><td>2024-01-01 09:00:00</td><td>2024</td><td>1</td><td>1</td><td> 9</td><td>Mon</td><td>Weekday</td><td>Winter</td><td>59.0</td><td>2.9</td><td>0.4</td><td>3.4</td><td>-5.3</td><td>0</td><td> 73.9</td><td>NA</td><td>NA</td><td>NA</td><td>NA</td></tr>\n",
       "\t<tr><td>DAV</td><td>2024-01-01 10:00:00</td><td>2024</td><td>1</td><td>1</td><td>10</td><td>Mon</td><td>Weekday</td><td>Winter</td><td>57.8</td><td>3.4</td><td>0.5</td><td>4.4</td><td>-4.3</td><td>0</td><td>169.3</td><td>NA</td><td>NA</td><td>NA</td><td>NA</td></tr>\n",
       "\t<tr><td>DAV</td><td>2024-01-01 11:00:00</td><td>2024</td><td>1</td><td>1</td><td>11</td><td>Mon</td><td>Weekday</td><td>Winter</td><td>53.2</td><td>4.9</td><td>0.7</td><td>7.2</td><td>-3.3</td><td>0</td><td>301.3</td><td>NA</td><td>NA</td><td>NA</td><td>NA</td></tr>\n",
       "\t<tr><td>DAV</td><td>2024-01-01 12:00:00</td><td>2024</td><td>1</td><td>1</td><td>12</td><td>Mon</td><td>Weekday</td><td>Winter</td><td>61.4</td><td>1.8</td><td>0.4</td><td>2.5</td><td>-2.3</td><td>0</td><td>272.5</td><td>NA</td><td>NA</td><td>NA</td><td>NA</td></tr>\n",
       "\t<tr><td>DAV</td><td>2024-01-01 13:00:00</td><td>2024</td><td>1</td><td>1</td><td>13</td><td>Mon</td><td>Weekday</td><td>Winter</td><td>63.6</td><td>1.4</td><td>0.5</td><td>1.7</td><td>-2.4</td><td>0</td><td>129.9</td><td>NA</td><td>NA</td><td>NA</td><td>NA</td></tr>\n",
       "\t<tr><td>DAV</td><td>2024-01-01 14:00:00</td><td>2024</td><td>1</td><td>1</td><td>14</td><td>Mon</td><td>Weekday</td><td>Winter</td><td>62.6</td><td>4.3</td><td>0.6</td><td>5.2</td><td>-2.3</td><td>0</td><td>118.1</td><td>NA</td><td>NA</td><td>NA</td><td>NA</td></tr>\n",
       "\t<tr><td>DAV</td><td>2024-01-01 15:00:00</td><td>2024</td><td>1</td><td>1</td><td>15</td><td>Mon</td><td>Weekday</td><td>Winter</td><td>55.4</td><td>5.8</td><td>0.8</td><td>6.7</td><td>-2.5</td><td>0</td><td> 59.1</td><td>NA</td><td>NA</td><td>NA</td><td>NA</td></tr>\n",
       "\t<tr><td>DAV</td><td>2024-01-01 16:00:00</td><td>2024</td><td>1</td><td>1</td><td>16</td><td>Mon</td><td>Weekday</td><td>Winter</td><td>60.7</td><td>2.8</td><td>0.8</td><td>3.0</td><td>-3.4</td><td>0</td><td> 13.2</td><td>NA</td><td>NA</td><td>NA</td><td>NA</td></tr>\n",
       "\t<tr><td>DAV</td><td>2024-01-01 17:00:00</td><td>2024</td><td>1</td><td>1</td><td>17</td><td>Mon</td><td>Weekday</td><td>Winter</td><td>61.7</td><td>1.6</td><td>1.1</td><td>1.7</td><td>-4.9</td><td>0</td><td> -1.1</td><td>NA</td><td>NA</td><td>NA</td><td>NA</td></tr>\n",
       "\t<tr><td>DAV</td><td>2024-01-01 18:00:00</td><td>2024</td><td>1</td><td>1</td><td>18</td><td>Mon</td><td>Weekday</td><td>Winter</td><td>68.0</td><td>1.4</td><td>0.6</td><td>1.4</td><td>-5.3</td><td>0</td><td> -1.0</td><td>NA</td><td>NA</td><td>NA</td><td>NA</td></tr>\n",
       "\t<tr><td>DAV</td><td>2024-01-01 19:00:00</td><td>2024</td><td>1</td><td>1</td><td>19</td><td>Mon</td><td>Weekday</td><td>Winter</td><td>68.7</td><td>0.8</td><td>0.5</td><td>0.9</td><td>-5.7</td><td>0</td><td> -1.0</td><td>NA</td><td>NA</td><td>NA</td><td>NA</td></tr>\n",
       "\t<tr><td>DAV</td><td>2024-01-01 20:00:00</td><td>2024</td><td>1</td><td>1</td><td>20</td><td>Mon</td><td>Weekday</td><td>Winter</td><td>68.5</td><td>1.3</td><td>0.6</td><td>1.4</td><td>-5.8</td><td>0</td><td> -0.9</td><td>NA</td><td>NA</td><td>NA</td><td>NA</td></tr>\n",
       "\t<tr><td>DAV</td><td>2024-01-01 21:00:00</td><td>2024</td><td>1</td><td>1</td><td>21</td><td>Mon</td><td>Weekday</td><td>Winter</td><td>65.8</td><td>2.3</td><td>2.4</td><td>2.8</td><td>-6.4</td><td>0</td><td> -0.9</td><td>NA</td><td>NA</td><td>NA</td><td>NA</td></tr>\n",
       "\t<tr><td>DAV</td><td>2024-01-01 22:00:00</td><td>2024</td><td>1</td><td>1</td><td>22</td><td>Mon</td><td>Weekday</td><td>Winter</td><td>71.4</td><td>0.4</td><td>0.3</td><td>0.5</td><td>-5.6</td><td>0</td><td> -0.9</td><td>NA</td><td>NA</td><td>NA</td><td>NA</td></tr>\n",
       "\t<tr><td>DAV</td><td>2024-01-01 23:00:00</td><td>2024</td><td>1</td><td>1</td><td>23</td><td>Mon</td><td>Weekday</td><td>Winter</td><td>70.3</td><td>0.4</td><td>0.3</td><td>0.5</td><td>-6.8</td><td>0</td><td> -1.1</td><td>NA</td><td>NA</td><td>NA</td><td>NA</td></tr>\n",
       "\t<tr><td>DAV</td><td>2024-01-02 00:00:00</td><td>2024</td><td>1</td><td>2</td><td> 0</td><td>Tue</td><td>Weekday</td><td>Winter</td><td>72.2</td><td>0.7</td><td>0.2</td><td>0.8</td><td>-6.6</td><td>0</td><td> -0.5</td><td>NA</td><td>NA</td><td>NA</td><td>NA</td></tr>\n",
       "\t<tr><td>DAV</td><td>2024-01-02 01:00:00</td><td>2024</td><td>1</td><td>2</td><td> 1</td><td>Tue</td><td>Weekday</td><td>Winter</td><td>75.6</td><td>0.2</td><td>0.2</td><td>0.3</td><td>-6.0</td><td>0</td><td> -0.7</td><td>NA</td><td>NA</td><td>NA</td><td>NA</td></tr>\n",
       "\t<tr><td>DAV</td><td>2024-01-02 02:00:00</td><td>2024</td><td>1</td><td>2</td><td> 2</td><td>Tue</td><td>Weekday</td><td>Winter</td><td>75.9</td><td>0.5</td><td>0.4</td><td>0.6</td><td>-5.9</td><td>0</td><td> -0.7</td><td>NA</td><td>NA</td><td>NA</td><td>NA</td></tr>\n",
       "\t<tr><td>DAV</td><td>2024-01-02 03:00:00</td><td>2024</td><td>1</td><td>2</td><td> 3</td><td>Tue</td><td>Weekday</td><td>Winter</td><td>71.8</td><td>2.3</td><td>0.4</td><td>2.6</td><td>-6.6</td><td>0</td><td> -0.2</td><td>NA</td><td>NA</td><td>NA</td><td>NA</td></tr>\n",
       "\t<tr><td>DAV</td><td>2024-01-02 04:00:00</td><td>2024</td><td>1</td><td>2</td><td> 4</td><td>Tue</td><td>Weekday</td><td>Winter</td><td>73.8</td><td>1.2</td><td>0.2</td><td>1.2</td><td>-6.1</td><td>0</td><td> -0.1</td><td>NA</td><td>NA</td><td>NA</td><td>NA</td></tr>\n",
       "\t<tr><td>DAV</td><td>2024-01-02 05:00:00</td><td>2024</td><td>1</td><td>2</td><td> 5</td><td>Tue</td><td>Weekday</td><td>Winter</td><td>70.4</td><td>3.6</td><td>0.2</td><td>3.7</td><td>-5.8</td><td>0</td><td>  0.0</td><td>NA</td><td>NA</td><td>NA</td><td>NA</td></tr>\n",
       "\t<tr><td>...</td><td>...</td><td>...</td><td>...</td><td>...</td><td>...</td><td>...</td><td>...</td><td>...</td><td>...</td><td>...</td><td>...</td><td>...</td><td>...</td><td>...</td><td>...</td><td>...</td><td>...</td><td>...</td><td>...</td></tr>\n",
       "\t<tr><td>BAS</td><td>2024-12-30 18:00:00</td><td>2024</td><td>12</td><td>30</td><td>18</td><td>Mon</td><td>Weekday</td><td>Winter</td><td> 5.8</td><td>32.1</td><td>14.4</td><td>34.4</td><td>-0.5</td><td>0</td><td>  0.0</td><td>0.3</td><td>16.8</td><td>0.6</td><td> 5815.7</td></tr>\n",
       "\t<tr><td>BAS</td><td>2024-12-30 19:00:00</td><td>2024</td><td>12</td><td>30</td><td>19</td><td>Mon</td><td>Weekday</td><td>Winter</td><td> 7.3</td><td>30.6</td><td>13.9</td><td>33.0</td><td>-0.7</td><td>0</td><td>  0.0</td><td>0.4</td><td>16.4</td><td>0.6</td><td> 6715.2</td></tr>\n",
       "\t<tr><td>BAS</td><td>2024-12-30 20:00:00</td><td>2024</td><td>12</td><td>30</td><td>20</td><td>Mon</td><td>Weekday</td><td>Winter</td><td> 6.3</td><td>30.0</td><td>13.6</td><td>31.9</td><td>-1.0</td><td>0</td><td>  0.0</td><td>0.5</td><td>16.3</td><td>0.7</td><td> 6380.9</td></tr>\n",
       "\t<tr><td>BAS</td><td>2024-12-30 21:00:00</td><td>2024</td><td>12</td><td>30</td><td>21</td><td>Mon</td><td>Weekday</td><td>Winter</td><td> 7.2</td><td>24.3</td><td>13.9</td><td>25.5</td><td>-2.0</td><td>0</td><td>  0.0</td><td>0.3</td><td>16.7</td><td>0.7</td><td> 5976.5</td></tr>\n",
       "\t<tr><td>BAS</td><td>2024-12-30 22:00:00</td><td>2024</td><td>12</td><td>30</td><td>22</td><td>Mon</td><td>Weekday</td><td>Winter</td><td> 8.4</td><td>20.6</td><td>13.3</td><td>21.5</td><td>-2.8</td><td>0</td><td>  0.0</td><td>0.3</td><td>16.3</td><td>0.7</td><td> 5303.4</td></tr>\n",
       "\t<tr><td>BAS</td><td>2024-12-30 23:00:00</td><td>2024</td><td>12</td><td>30</td><td>23</td><td>Mon</td><td>Weekday</td><td>Winter</td><td> 8.0</td><td>21.1</td><td>13.6</td><td>22.0</td><td>-3.2</td><td>0</td><td>  0.0</td><td>0.2</td><td>16.4</td><td>0.7</td><td> 5421.7</td></tr>\n",
       "\t<tr><td>BAS</td><td>2024-12-31 00:00:00</td><td>2024</td><td>12</td><td>31</td><td> 0</td><td>Tue</td><td>Weekday</td><td>Winter</td><td> 8.4</td><td>19.4</td><td>17.9</td><td>20.3</td><td>-3.6</td><td>0</td><td>  0.0</td><td>0.2</td><td>17.7</td><td>0.7</td><td> 5047.5</td></tr>\n",
       "\t<tr><td>BAS</td><td>2024-12-31 01:00:00</td><td>2024</td><td>12</td><td>31</td><td> 1</td><td>Tue</td><td>Weekday</td><td>Winter</td><td> 9.9</td><td>18.6</td><td>16.2</td><td>19.1</td><td>-3.8</td><td>0</td><td>  0.0</td><td>0.2</td><td>16.5</td><td>0.7</td><td> 4840.7</td></tr>\n",
       "\t<tr><td>BAS</td><td>2024-12-31 02:00:00</td><td>2024</td><td>12</td><td>31</td><td> 2</td><td>Tue</td><td>Weekday</td><td>Winter</td><td>10.7</td><td>18.9</td><td>17.2</td><td>19.7</td><td>-3.7</td><td>0</td><td>  0.0</td><td>0.3</td><td>17.5</td><td>0.6</td><td> 4575.8</td></tr>\n",
       "\t<tr><td>BAS</td><td>2024-12-31 03:00:00</td><td>2024</td><td>12</td><td>31</td><td> 3</td><td>Tue</td><td>Weekday</td><td>Winter</td><td>11.7</td><td>20.4</td><td>15.3</td><td>21.3</td><td>-3.0</td><td>0</td><td>  0.0</td><td>0.5</td><td>15.6</td><td>0.6</td><td> 4708.3</td></tr>\n",
       "\t<tr><td>BAS</td><td>2024-12-31 04:00:00</td><td>2024</td><td>12</td><td>31</td><td> 4</td><td>Tue</td><td>Weekday</td><td>Winter</td><td> 9.6</td><td>24.2</td><td>15.1</td><td>25.8</td><td>-3.0</td><td>0</td><td>  0.0</td><td>0.7</td><td>15.4</td><td>0.5</td><td> 5278.4</td></tr>\n",
       "\t<tr><td>BAS</td><td>2024-12-31 05:00:00</td><td>2024</td><td>12</td><td>31</td><td> 5</td><td>Tue</td><td>Weekday</td><td>Winter</td><td> 8.2</td><td>26.7</td><td>15.7</td><td>29.0</td><td>-2.9</td><td>0</td><td>  0.0</td><td>0.8</td><td>15.8</td><td>0.5</td><td> 5976.5</td></tr>\n",
       "\t<tr><td>BAS</td><td>2024-12-31 06:00:00</td><td>2024</td><td>12</td><td>31</td><td> 6</td><td>Tue</td><td>Weekday</td><td>Winter</td><td> 6.6</td><td>29.4</td><td>16.3</td><td>33.0</td><td>-2.7</td><td>0</td><td>  0.0</td><td>0.9</td><td>16.4</td><td>0.4</td><td> 6841.4</td></tr>\n",
       "\t<tr><td>BAS</td><td>2024-12-31 07:00:00</td><td>2024</td><td>12</td><td>31</td><td> 7</td><td>Tue</td><td>Weekday</td><td>Winter</td><td> 5.4</td><td>30.7</td><td>17.4</td><td>35.6</td><td>-2.7</td><td>0</td><td>  0.0</td><td>0.7</td><td>17.3</td><td>0.4</td><td> 6987.3</td></tr>\n",
       "\t<tr><td>BAS</td><td>2024-12-31 08:00:00</td><td>2024</td><td>12</td><td>31</td><td> 8</td><td>Tue</td><td>Weekday</td><td>Winter</td><td> 7.4</td><td>29.1</td><td>18.3</td><td>36.0</td><td>-2.6</td><td>0</td><td> 10.2</td><td>0.7</td><td>18.3</td><td>0.4</td><td> 7431.9</td></tr>\n",
       "\t<tr><td>BAS</td><td>2024-12-31 09:00:00</td><td>2024</td><td>12</td><td>31</td><td> 9</td><td>Tue</td><td>Weekday</td><td>Winter</td><td>13.9</td><td>23.7</td><td>19.6</td><td>37.2</td><td>-2.0</td><td>0</td><td>105.3</td><td>0.8</td><td>19.1</td><td>0.4</td><td> 7305.2</td></tr>\n",
       "\t<tr><td>BAS</td><td>2024-12-31 10:00:00</td><td>2024</td><td>12</td><td>31</td><td>10</td><td>Tue</td><td>Weekday</td><td>Winter</td><td>18.1</td><td>21.4</td><td>19.4</td><td>39.4</td><td>-0.8</td><td>0</td><td>218.5</td><td>0.9</td><td>18.9</td><td>0.5</td><td> 8069.0</td></tr>\n",
       "\t<tr><td>BAS</td><td>2024-12-31 11:00:00</td><td>2024</td><td>12</td><td>31</td><td>11</td><td>Tue</td><td>Weekday</td><td>Winter</td><td>20.7</td><td>21.2</td><td>19.5</td><td>41.4</td><td> 0.5</td><td>0</td><td>293.2</td><td>1.1</td><td>18.5</td><td>0.5</td><td> 9086.4</td></tr>\n",
       "\t<tr><td>BAS</td><td>2024-12-31 12:00:00</td><td>2024</td><td>12</td><td>31</td><td>12</td><td>Tue</td><td>Weekday</td><td>Winter</td><td>22.8</td><td>20.5</td><td>19.3</td><td>38.7</td><td> 1.8</td><td>0</td><td>317.5</td><td>1.2</td><td>18.5</td><td>0.5</td><td> 8997.9</td></tr>\n",
       "\t<tr><td>BAS</td><td>2024-12-31 13:00:00</td><td>2024</td><td>12</td><td>31</td><td>13</td><td>Tue</td><td>Weekday</td><td>Winter</td><td>22.8</td><td>21.9</td><td>21.2</td><td>39.8</td><td> 2.9</td><td>0</td><td>298.8</td><td>1.5</td><td>19.9</td><td>0.5</td><td> 9252.1</td></tr>\n",
       "\t<tr><td>BAS</td><td>2024-12-31 14:00:00</td><td>2024</td><td>12</td><td>31</td><td>14</td><td>Tue</td><td>Weekday</td><td>Winter</td><td>22.6</td><td>25.4</td><td>21.6</td><td>42.3</td><td> 3.5</td><td>0</td><td>228.5</td><td>1.4</td><td>19.7</td><td>0.5</td><td> 9734.4</td></tr>\n",
       "\t<tr><td>BAS</td><td>2024-12-31 15:00:00</td><td>2024</td><td>12</td><td>31</td><td>15</td><td>Tue</td><td>Weekday</td><td>Winter</td><td>17.0</td><td>29.0</td><td>23.6</td><td>43.9</td><td> 2.9</td><td>0</td><td> 84.5</td><td>1.5</td><td>22.1</td><td>0.6</td><td>10111.0</td></tr>\n",
       "\t<tr><td>BAS</td><td>2024-12-31 16:00:00</td><td>2024</td><td>12</td><td>31</td><td>16</td><td>Tue</td><td>Weekday</td><td>Winter</td><td> 8.8</td><td>33.6</td><td>24.5</td><td>44.1</td><td> 1.6</td><td>0</td><td> 25.7</td><td>1.7</td><td>23.9</td><td>0.8</td><td>10303.5</td></tr>\n",
       "\t<tr><td>BAS</td><td>2024-12-31 17:00:00</td><td>2024</td><td>12</td><td>31</td><td>17</td><td>Tue</td><td>Weekday</td><td>Winter</td><td> 3.4</td><td>37.9</td><td>25.5</td><td>46.5</td><td> 0.5</td><td>0</td><td>  0.0</td><td>1.4</td><td>24.8</td><td>0.9</td><td>11511.7</td></tr>\n",
       "\t<tr><td>BAS</td><td>2024-12-31 18:00:00</td><td>2024</td><td>12</td><td>31</td><td>18</td><td>Tue</td><td>Weekday</td><td>Winter</td><td> 2.7</td><td>37.7</td><td>31.1</td><td>53.6</td><td>-0.3</td><td>0</td><td>  0.0</td><td>1.3</td><td>30.4</td><td>1.2</td><td>14463.4</td></tr>\n",
       "\t<tr><td>BAS</td><td>2024-12-31 19:00:00</td><td>2024</td><td>12</td><td>31</td><td>19</td><td>Tue</td><td>Weekday</td><td>Winter</td><td> 4.1</td><td>37.3</td><td>42.5</td><td>65.4</td><td>-1.3</td><td>0</td><td>  0.0</td><td>1.1</td><td>40.6</td><td>1.7</td><td>20669.3</td></tr>\n",
       "\t<tr><td>BAS</td><td>2024-12-31 20:00:00</td><td>2024</td><td>12</td><td>31</td><td>20</td><td>Tue</td><td>Weekday</td><td>Winter</td><td> 3.0</td><td>36.5</td><td>37.1</td><td>55.1</td><td>-1.1</td><td>0</td><td>  0.0</td><td>1.6</td><td>36.3</td><td>1.4</td><td>19038.3</td></tr>\n",
       "\t<tr><td>BAS</td><td>2024-12-31 21:00:00</td><td>2024</td><td>12</td><td>31</td><td>21</td><td>Tue</td><td>Weekday</td><td>Winter</td><td> 2.2</td><td>35.0</td><td>36.2</td><td>51.6</td><td>-1.4</td><td>0</td><td>  0.0</td><td>1.1</td><td>36.1</td><td>1.2</td><td>15172.2</td></tr>\n",
       "\t<tr><td>BAS</td><td>2024-12-31 22:00:00</td><td>2024</td><td>12</td><td>31</td><td>22</td><td>Tue</td><td>Weekday</td><td>Winter</td><td> 2.6</td><td>34.3</td><td>36.7</td><td>48.5</td><td>-1.8</td><td>0</td><td>  0.0</td><td>1.4</td><td>36.3</td><td>1.2</td><td>16183.8</td></tr>\n",
       "\t<tr><td>BAS</td><td>2024-12-31 23:00:00</td><td>2024</td><td>12</td><td>31</td><td>23</td><td>Tue</td><td>Weekday</td><td>Winter</td><td> 3.0</td><td>34.2</td><td>38.7</td><td>42.5</td><td>-2.1</td><td>0</td><td>  0.0</td><td>1.3</td><td>38.8</td><td>1.1</td><td>15483.7</td></tr>\n",
       "</tbody>\n",
       "</table>\n"
      ],
      "text/latex": [
       "A tibble: 17568 × 20\n",
       "\\begin{tabular}{llllllllllllllllllll}\n",
       " site & datetime & year & month & day & hour & dayofwk & daytype & season & O3 & NO2 & PM10 & NOX & TEMP & PREC & RAD & SO2 & PM2.5 & EC & CPC\\\\\n",
       " <chr> & <dttm> & <dbl> & <dbl> & <int> & <int> & <ord> & <chr> & <fct> & <dbl> & <dbl> & <dbl> & <dbl> & <dbl> & <dbl> & <dbl> & <dbl> & <dbl> & <dbl> & <dbl>\\\\\n",
       "\\hline\n",
       "\t DAV & 2024-01-01 00:00:00 & 2024 & 1 & 1 &  0 & Mon & Weekday & Winter & 57.7 & 1.9 & 1.2 & 1.9 & -2.2 & 0 &  -0.6 & NA & NA & NA & NA\\\\\n",
       "\t DAV & 2024-01-01 01:00:00 & 2024 & 1 & 1 &  1 & Mon & Weekday & Winter & 55.2 & 2.1 & 1.5 & 2.1 & -2.8 & 0 &  -0.7 & NA & NA & NA & NA\\\\\n",
       "\t DAV & 2024-01-01 02:00:00 & 2024 & 1 & 1 &  2 & Mon & Weekday & Winter & 49.9 & 3.7 & 2.2 & 3.7 & -3.3 & 0 &  -0.7 & NA & NA & NA & NA\\\\\n",
       "\t DAV & 2024-01-01 03:00:00 & 2024 & 1 & 1 &  3 & Mon & Weekday & Winter & 52.1 & 4.5 & 3.0 & 4.6 & -4.2 & 0 &  -1.1 & NA & NA & NA & NA\\\\\n",
       "\t DAV & 2024-01-01 04:00:00 & 2024 & 1 & 1 &  4 & Mon & Weekday & Winter & 65.8 & 0.7 & 0.2 & 0.7 & -5.2 & 0 &  -1.3 & NA & NA & NA & NA\\\\\n",
       "\t DAV & 2024-01-01 05:00:00 & 2024 & 1 & 1 &  5 & Mon & Weekday & Winter & 67.1 & 0.7 & 0.4 & 0.7 & -5.6 & 0 &  -0.8 & NA & NA & NA & NA\\\\\n",
       "\t DAV & 2024-01-01 06:00:00 & 2024 & 1 & 1 &  6 & Mon & Weekday & Winter & 64.0 & 3.4 & 0.3 & 3.5 & -5.7 & 0 &  -0.6 & NA & NA & NA & NA\\\\\n",
       "\t DAV & 2024-01-01 07:00:00 & 2024 & 1 & 1 &  7 & Mon & Weekday & Winter & 58.4 & 5.4 & 0.3 & 5.4 & -5.9 & 0 &  -0.6 & NA & NA & NA & NA\\\\\n",
       "\t DAV & 2024-01-01 08:00:00 & 2024 & 1 & 1 &  8 & Mon & Weekday & Winter & 61.8 & 1.7 & 0.3 & 1.8 & -5.7 & 0 &  22.6 & NA & NA & NA & NA\\\\\n",
       "\t DAV & 2024-01-01 09:00:00 & 2024 & 1 & 1 &  9 & Mon & Weekday & Winter & 59.0 & 2.9 & 0.4 & 3.4 & -5.3 & 0 &  73.9 & NA & NA & NA & NA\\\\\n",
       "\t DAV & 2024-01-01 10:00:00 & 2024 & 1 & 1 & 10 & Mon & Weekday & Winter & 57.8 & 3.4 & 0.5 & 4.4 & -4.3 & 0 & 169.3 & NA & NA & NA & NA\\\\\n",
       "\t DAV & 2024-01-01 11:00:00 & 2024 & 1 & 1 & 11 & Mon & Weekday & Winter & 53.2 & 4.9 & 0.7 & 7.2 & -3.3 & 0 & 301.3 & NA & NA & NA & NA\\\\\n",
       "\t DAV & 2024-01-01 12:00:00 & 2024 & 1 & 1 & 12 & Mon & Weekday & Winter & 61.4 & 1.8 & 0.4 & 2.5 & -2.3 & 0 & 272.5 & NA & NA & NA & NA\\\\\n",
       "\t DAV & 2024-01-01 13:00:00 & 2024 & 1 & 1 & 13 & Mon & Weekday & Winter & 63.6 & 1.4 & 0.5 & 1.7 & -2.4 & 0 & 129.9 & NA & NA & NA & NA\\\\\n",
       "\t DAV & 2024-01-01 14:00:00 & 2024 & 1 & 1 & 14 & Mon & Weekday & Winter & 62.6 & 4.3 & 0.6 & 5.2 & -2.3 & 0 & 118.1 & NA & NA & NA & NA\\\\\n",
       "\t DAV & 2024-01-01 15:00:00 & 2024 & 1 & 1 & 15 & Mon & Weekday & Winter & 55.4 & 5.8 & 0.8 & 6.7 & -2.5 & 0 &  59.1 & NA & NA & NA & NA\\\\\n",
       "\t DAV & 2024-01-01 16:00:00 & 2024 & 1 & 1 & 16 & Mon & Weekday & Winter & 60.7 & 2.8 & 0.8 & 3.0 & -3.4 & 0 &  13.2 & NA & NA & NA & NA\\\\\n",
       "\t DAV & 2024-01-01 17:00:00 & 2024 & 1 & 1 & 17 & Mon & Weekday & Winter & 61.7 & 1.6 & 1.1 & 1.7 & -4.9 & 0 &  -1.1 & NA & NA & NA & NA\\\\\n",
       "\t DAV & 2024-01-01 18:00:00 & 2024 & 1 & 1 & 18 & Mon & Weekday & Winter & 68.0 & 1.4 & 0.6 & 1.4 & -5.3 & 0 &  -1.0 & NA & NA & NA & NA\\\\\n",
       "\t DAV & 2024-01-01 19:00:00 & 2024 & 1 & 1 & 19 & Mon & Weekday & Winter & 68.7 & 0.8 & 0.5 & 0.9 & -5.7 & 0 &  -1.0 & NA & NA & NA & NA\\\\\n",
       "\t DAV & 2024-01-01 20:00:00 & 2024 & 1 & 1 & 20 & Mon & Weekday & Winter & 68.5 & 1.3 & 0.6 & 1.4 & -5.8 & 0 &  -0.9 & NA & NA & NA & NA\\\\\n",
       "\t DAV & 2024-01-01 21:00:00 & 2024 & 1 & 1 & 21 & Mon & Weekday & Winter & 65.8 & 2.3 & 2.4 & 2.8 & -6.4 & 0 &  -0.9 & NA & NA & NA & NA\\\\\n",
       "\t DAV & 2024-01-01 22:00:00 & 2024 & 1 & 1 & 22 & Mon & Weekday & Winter & 71.4 & 0.4 & 0.3 & 0.5 & -5.6 & 0 &  -0.9 & NA & NA & NA & NA\\\\\n",
       "\t DAV & 2024-01-01 23:00:00 & 2024 & 1 & 1 & 23 & Mon & Weekday & Winter & 70.3 & 0.4 & 0.3 & 0.5 & -6.8 & 0 &  -1.1 & NA & NA & NA & NA\\\\\n",
       "\t DAV & 2024-01-02 00:00:00 & 2024 & 1 & 2 &  0 & Tue & Weekday & Winter & 72.2 & 0.7 & 0.2 & 0.8 & -6.6 & 0 &  -0.5 & NA & NA & NA & NA\\\\\n",
       "\t DAV & 2024-01-02 01:00:00 & 2024 & 1 & 2 &  1 & Tue & Weekday & Winter & 75.6 & 0.2 & 0.2 & 0.3 & -6.0 & 0 &  -0.7 & NA & NA & NA & NA\\\\\n",
       "\t DAV & 2024-01-02 02:00:00 & 2024 & 1 & 2 &  2 & Tue & Weekday & Winter & 75.9 & 0.5 & 0.4 & 0.6 & -5.9 & 0 &  -0.7 & NA & NA & NA & NA\\\\\n",
       "\t DAV & 2024-01-02 03:00:00 & 2024 & 1 & 2 &  3 & Tue & Weekday & Winter & 71.8 & 2.3 & 0.4 & 2.6 & -6.6 & 0 &  -0.2 & NA & NA & NA & NA\\\\\n",
       "\t DAV & 2024-01-02 04:00:00 & 2024 & 1 & 2 &  4 & Tue & Weekday & Winter & 73.8 & 1.2 & 0.2 & 1.2 & -6.1 & 0 &  -0.1 & NA & NA & NA & NA\\\\\n",
       "\t DAV & 2024-01-02 05:00:00 & 2024 & 1 & 2 &  5 & Tue & Weekday & Winter & 70.4 & 3.6 & 0.2 & 3.7 & -5.8 & 0 &   0.0 & NA & NA & NA & NA\\\\\n",
       "\t ... & ... & ... & ... & ... & ... & ... & ... & ... & ... & ... & ... & ... & ... & ... & ... & ... & ... & ... & ...\\\\\n",
       "\t BAS & 2024-12-30 18:00:00 & 2024 & 12 & 30 & 18 & Mon & Weekday & Winter &  5.8 & 32.1 & 14.4 & 34.4 & -0.5 & 0 &   0.0 & 0.3 & 16.8 & 0.6 &  5815.7\\\\\n",
       "\t BAS & 2024-12-30 19:00:00 & 2024 & 12 & 30 & 19 & Mon & Weekday & Winter &  7.3 & 30.6 & 13.9 & 33.0 & -0.7 & 0 &   0.0 & 0.4 & 16.4 & 0.6 &  6715.2\\\\\n",
       "\t BAS & 2024-12-30 20:00:00 & 2024 & 12 & 30 & 20 & Mon & Weekday & Winter &  6.3 & 30.0 & 13.6 & 31.9 & -1.0 & 0 &   0.0 & 0.5 & 16.3 & 0.7 &  6380.9\\\\\n",
       "\t BAS & 2024-12-30 21:00:00 & 2024 & 12 & 30 & 21 & Mon & Weekday & Winter &  7.2 & 24.3 & 13.9 & 25.5 & -2.0 & 0 &   0.0 & 0.3 & 16.7 & 0.7 &  5976.5\\\\\n",
       "\t BAS & 2024-12-30 22:00:00 & 2024 & 12 & 30 & 22 & Mon & Weekday & Winter &  8.4 & 20.6 & 13.3 & 21.5 & -2.8 & 0 &   0.0 & 0.3 & 16.3 & 0.7 &  5303.4\\\\\n",
       "\t BAS & 2024-12-30 23:00:00 & 2024 & 12 & 30 & 23 & Mon & Weekday & Winter &  8.0 & 21.1 & 13.6 & 22.0 & -3.2 & 0 &   0.0 & 0.2 & 16.4 & 0.7 &  5421.7\\\\\n",
       "\t BAS & 2024-12-31 00:00:00 & 2024 & 12 & 31 &  0 & Tue & Weekday & Winter &  8.4 & 19.4 & 17.9 & 20.3 & -3.6 & 0 &   0.0 & 0.2 & 17.7 & 0.7 &  5047.5\\\\\n",
       "\t BAS & 2024-12-31 01:00:00 & 2024 & 12 & 31 &  1 & Tue & Weekday & Winter &  9.9 & 18.6 & 16.2 & 19.1 & -3.8 & 0 &   0.0 & 0.2 & 16.5 & 0.7 &  4840.7\\\\\n",
       "\t BAS & 2024-12-31 02:00:00 & 2024 & 12 & 31 &  2 & Tue & Weekday & Winter & 10.7 & 18.9 & 17.2 & 19.7 & -3.7 & 0 &   0.0 & 0.3 & 17.5 & 0.6 &  4575.8\\\\\n",
       "\t BAS & 2024-12-31 03:00:00 & 2024 & 12 & 31 &  3 & Tue & Weekday & Winter & 11.7 & 20.4 & 15.3 & 21.3 & -3.0 & 0 &   0.0 & 0.5 & 15.6 & 0.6 &  4708.3\\\\\n",
       "\t BAS & 2024-12-31 04:00:00 & 2024 & 12 & 31 &  4 & Tue & Weekday & Winter &  9.6 & 24.2 & 15.1 & 25.8 & -3.0 & 0 &   0.0 & 0.7 & 15.4 & 0.5 &  5278.4\\\\\n",
       "\t BAS & 2024-12-31 05:00:00 & 2024 & 12 & 31 &  5 & Tue & Weekday & Winter &  8.2 & 26.7 & 15.7 & 29.0 & -2.9 & 0 &   0.0 & 0.8 & 15.8 & 0.5 &  5976.5\\\\\n",
       "\t BAS & 2024-12-31 06:00:00 & 2024 & 12 & 31 &  6 & Tue & Weekday & Winter &  6.6 & 29.4 & 16.3 & 33.0 & -2.7 & 0 &   0.0 & 0.9 & 16.4 & 0.4 &  6841.4\\\\\n",
       "\t BAS & 2024-12-31 07:00:00 & 2024 & 12 & 31 &  7 & Tue & Weekday & Winter &  5.4 & 30.7 & 17.4 & 35.6 & -2.7 & 0 &   0.0 & 0.7 & 17.3 & 0.4 &  6987.3\\\\\n",
       "\t BAS & 2024-12-31 08:00:00 & 2024 & 12 & 31 &  8 & Tue & Weekday & Winter &  7.4 & 29.1 & 18.3 & 36.0 & -2.6 & 0 &  10.2 & 0.7 & 18.3 & 0.4 &  7431.9\\\\\n",
       "\t BAS & 2024-12-31 09:00:00 & 2024 & 12 & 31 &  9 & Tue & Weekday & Winter & 13.9 & 23.7 & 19.6 & 37.2 & -2.0 & 0 & 105.3 & 0.8 & 19.1 & 0.4 &  7305.2\\\\\n",
       "\t BAS & 2024-12-31 10:00:00 & 2024 & 12 & 31 & 10 & Tue & Weekday & Winter & 18.1 & 21.4 & 19.4 & 39.4 & -0.8 & 0 & 218.5 & 0.9 & 18.9 & 0.5 &  8069.0\\\\\n",
       "\t BAS & 2024-12-31 11:00:00 & 2024 & 12 & 31 & 11 & Tue & Weekday & Winter & 20.7 & 21.2 & 19.5 & 41.4 &  0.5 & 0 & 293.2 & 1.1 & 18.5 & 0.5 &  9086.4\\\\\n",
       "\t BAS & 2024-12-31 12:00:00 & 2024 & 12 & 31 & 12 & Tue & Weekday & Winter & 22.8 & 20.5 & 19.3 & 38.7 &  1.8 & 0 & 317.5 & 1.2 & 18.5 & 0.5 &  8997.9\\\\\n",
       "\t BAS & 2024-12-31 13:00:00 & 2024 & 12 & 31 & 13 & Tue & Weekday & Winter & 22.8 & 21.9 & 21.2 & 39.8 &  2.9 & 0 & 298.8 & 1.5 & 19.9 & 0.5 &  9252.1\\\\\n",
       "\t BAS & 2024-12-31 14:00:00 & 2024 & 12 & 31 & 14 & Tue & Weekday & Winter & 22.6 & 25.4 & 21.6 & 42.3 &  3.5 & 0 & 228.5 & 1.4 & 19.7 & 0.5 &  9734.4\\\\\n",
       "\t BAS & 2024-12-31 15:00:00 & 2024 & 12 & 31 & 15 & Tue & Weekday & Winter & 17.0 & 29.0 & 23.6 & 43.9 &  2.9 & 0 &  84.5 & 1.5 & 22.1 & 0.6 & 10111.0\\\\\n",
       "\t BAS & 2024-12-31 16:00:00 & 2024 & 12 & 31 & 16 & Tue & Weekday & Winter &  8.8 & 33.6 & 24.5 & 44.1 &  1.6 & 0 &  25.7 & 1.7 & 23.9 & 0.8 & 10303.5\\\\\n",
       "\t BAS & 2024-12-31 17:00:00 & 2024 & 12 & 31 & 17 & Tue & Weekday & Winter &  3.4 & 37.9 & 25.5 & 46.5 &  0.5 & 0 &   0.0 & 1.4 & 24.8 & 0.9 & 11511.7\\\\\n",
       "\t BAS & 2024-12-31 18:00:00 & 2024 & 12 & 31 & 18 & Tue & Weekday & Winter &  2.7 & 37.7 & 31.1 & 53.6 & -0.3 & 0 &   0.0 & 1.3 & 30.4 & 1.2 & 14463.4\\\\\n",
       "\t BAS & 2024-12-31 19:00:00 & 2024 & 12 & 31 & 19 & Tue & Weekday & Winter &  4.1 & 37.3 & 42.5 & 65.4 & -1.3 & 0 &   0.0 & 1.1 & 40.6 & 1.7 & 20669.3\\\\\n",
       "\t BAS & 2024-12-31 20:00:00 & 2024 & 12 & 31 & 20 & Tue & Weekday & Winter &  3.0 & 36.5 & 37.1 & 55.1 & -1.1 & 0 &   0.0 & 1.6 & 36.3 & 1.4 & 19038.3\\\\\n",
       "\t BAS & 2024-12-31 21:00:00 & 2024 & 12 & 31 & 21 & Tue & Weekday & Winter &  2.2 & 35.0 & 36.2 & 51.6 & -1.4 & 0 &   0.0 & 1.1 & 36.1 & 1.2 & 15172.2\\\\\n",
       "\t BAS & 2024-12-31 22:00:00 & 2024 & 12 & 31 & 22 & Tue & Weekday & Winter &  2.6 & 34.3 & 36.7 & 48.5 & -1.8 & 0 &   0.0 & 1.4 & 36.3 & 1.2 & 16183.8\\\\\n",
       "\t BAS & 2024-12-31 23:00:00 & 2024 & 12 & 31 & 23 & Tue & Weekday & Winter &  3.0 & 34.2 & 38.7 & 42.5 & -2.1 & 0 &   0.0 & 1.3 & 38.8 & 1.1 & 15483.7\\\\\n",
       "\\end{tabular}\n"
      ],
      "text/markdown": [
       "\n",
       "A tibble: 17568 × 20\n",
       "\n",
       "| site &lt;chr&gt; | datetime &lt;dttm&gt; | year &lt;dbl&gt; | month &lt;dbl&gt; | day &lt;int&gt; | hour &lt;int&gt; | dayofwk &lt;ord&gt; | daytype &lt;chr&gt; | season &lt;fct&gt; | O3 &lt;dbl&gt; | NO2 &lt;dbl&gt; | PM10 &lt;dbl&gt; | NOX &lt;dbl&gt; | TEMP &lt;dbl&gt; | PREC &lt;dbl&gt; | RAD &lt;dbl&gt; | SO2 &lt;dbl&gt; | PM2.5 &lt;dbl&gt; | EC &lt;dbl&gt; | CPC &lt;dbl&gt; |\n",
       "|---|---|---|---|---|---|---|---|---|---|---|---|---|---|---|---|---|---|---|---|\n",
       "| DAV | 2024-01-01 00:00:00 | 2024 | 1 | 1 |  0 | Mon | Weekday | Winter | 57.7 | 1.9 | 1.2 | 1.9 | -2.2 | 0 |  -0.6 | NA | NA | NA | NA |\n",
       "| DAV | 2024-01-01 01:00:00 | 2024 | 1 | 1 |  1 | Mon | Weekday | Winter | 55.2 | 2.1 | 1.5 | 2.1 | -2.8 | 0 |  -0.7 | NA | NA | NA | NA |\n",
       "| DAV | 2024-01-01 02:00:00 | 2024 | 1 | 1 |  2 | Mon | Weekday | Winter | 49.9 | 3.7 | 2.2 | 3.7 | -3.3 | 0 |  -0.7 | NA | NA | NA | NA |\n",
       "| DAV | 2024-01-01 03:00:00 | 2024 | 1 | 1 |  3 | Mon | Weekday | Winter | 52.1 | 4.5 | 3.0 | 4.6 | -4.2 | 0 |  -1.1 | NA | NA | NA | NA |\n",
       "| DAV | 2024-01-01 04:00:00 | 2024 | 1 | 1 |  4 | Mon | Weekday | Winter | 65.8 | 0.7 | 0.2 | 0.7 | -5.2 | 0 |  -1.3 | NA | NA | NA | NA |\n",
       "| DAV | 2024-01-01 05:00:00 | 2024 | 1 | 1 |  5 | Mon | Weekday | Winter | 67.1 | 0.7 | 0.4 | 0.7 | -5.6 | 0 |  -0.8 | NA | NA | NA | NA |\n",
       "| DAV | 2024-01-01 06:00:00 | 2024 | 1 | 1 |  6 | Mon | Weekday | Winter | 64.0 | 3.4 | 0.3 | 3.5 | -5.7 | 0 |  -0.6 | NA | NA | NA | NA |\n",
       "| DAV | 2024-01-01 07:00:00 | 2024 | 1 | 1 |  7 | Mon | Weekday | Winter | 58.4 | 5.4 | 0.3 | 5.4 | -5.9 | 0 |  -0.6 | NA | NA | NA | NA |\n",
       "| DAV | 2024-01-01 08:00:00 | 2024 | 1 | 1 |  8 | Mon | Weekday | Winter | 61.8 | 1.7 | 0.3 | 1.8 | -5.7 | 0 |  22.6 | NA | NA | NA | NA |\n",
       "| DAV | 2024-01-01 09:00:00 | 2024 | 1 | 1 |  9 | Mon | Weekday | Winter | 59.0 | 2.9 | 0.4 | 3.4 | -5.3 | 0 |  73.9 | NA | NA | NA | NA |\n",
       "| DAV | 2024-01-01 10:00:00 | 2024 | 1 | 1 | 10 | Mon | Weekday | Winter | 57.8 | 3.4 | 0.5 | 4.4 | -4.3 | 0 | 169.3 | NA | NA | NA | NA |\n",
       "| DAV | 2024-01-01 11:00:00 | 2024 | 1 | 1 | 11 | Mon | Weekday | Winter | 53.2 | 4.9 | 0.7 | 7.2 | -3.3 | 0 | 301.3 | NA | NA | NA | NA |\n",
       "| DAV | 2024-01-01 12:00:00 | 2024 | 1 | 1 | 12 | Mon | Weekday | Winter | 61.4 | 1.8 | 0.4 | 2.5 | -2.3 | 0 | 272.5 | NA | NA | NA | NA |\n",
       "| DAV | 2024-01-01 13:00:00 | 2024 | 1 | 1 | 13 | Mon | Weekday | Winter | 63.6 | 1.4 | 0.5 | 1.7 | -2.4 | 0 | 129.9 | NA | NA | NA | NA |\n",
       "| DAV | 2024-01-01 14:00:00 | 2024 | 1 | 1 | 14 | Mon | Weekday | Winter | 62.6 | 4.3 | 0.6 | 5.2 | -2.3 | 0 | 118.1 | NA | NA | NA | NA |\n",
       "| DAV | 2024-01-01 15:00:00 | 2024 | 1 | 1 | 15 | Mon | Weekday | Winter | 55.4 | 5.8 | 0.8 | 6.7 | -2.5 | 0 |  59.1 | NA | NA | NA | NA |\n",
       "| DAV | 2024-01-01 16:00:00 | 2024 | 1 | 1 | 16 | Mon | Weekday | Winter | 60.7 | 2.8 | 0.8 | 3.0 | -3.4 | 0 |  13.2 | NA | NA | NA | NA |\n",
       "| DAV | 2024-01-01 17:00:00 | 2024 | 1 | 1 | 17 | Mon | Weekday | Winter | 61.7 | 1.6 | 1.1 | 1.7 | -4.9 | 0 |  -1.1 | NA | NA | NA | NA |\n",
       "| DAV | 2024-01-01 18:00:00 | 2024 | 1 | 1 | 18 | Mon | Weekday | Winter | 68.0 | 1.4 | 0.6 | 1.4 | -5.3 | 0 |  -1.0 | NA | NA | NA | NA |\n",
       "| DAV | 2024-01-01 19:00:00 | 2024 | 1 | 1 | 19 | Mon | Weekday | Winter | 68.7 | 0.8 | 0.5 | 0.9 | -5.7 | 0 |  -1.0 | NA | NA | NA | NA |\n",
       "| DAV | 2024-01-01 20:00:00 | 2024 | 1 | 1 | 20 | Mon | Weekday | Winter | 68.5 | 1.3 | 0.6 | 1.4 | -5.8 | 0 |  -0.9 | NA | NA | NA | NA |\n",
       "| DAV | 2024-01-01 21:00:00 | 2024 | 1 | 1 | 21 | Mon | Weekday | Winter | 65.8 | 2.3 | 2.4 | 2.8 | -6.4 | 0 |  -0.9 | NA | NA | NA | NA |\n",
       "| DAV | 2024-01-01 22:00:00 | 2024 | 1 | 1 | 22 | Mon | Weekday | Winter | 71.4 | 0.4 | 0.3 | 0.5 | -5.6 | 0 |  -0.9 | NA | NA | NA | NA |\n",
       "| DAV | 2024-01-01 23:00:00 | 2024 | 1 | 1 | 23 | Mon | Weekday | Winter | 70.3 | 0.4 | 0.3 | 0.5 | -6.8 | 0 |  -1.1 | NA | NA | NA | NA |\n",
       "| DAV | 2024-01-02 00:00:00 | 2024 | 1 | 2 |  0 | Tue | Weekday | Winter | 72.2 | 0.7 | 0.2 | 0.8 | -6.6 | 0 |  -0.5 | NA | NA | NA | NA |\n",
       "| DAV | 2024-01-02 01:00:00 | 2024 | 1 | 2 |  1 | Tue | Weekday | Winter | 75.6 | 0.2 | 0.2 | 0.3 | -6.0 | 0 |  -0.7 | NA | NA | NA | NA |\n",
       "| DAV | 2024-01-02 02:00:00 | 2024 | 1 | 2 |  2 | Tue | Weekday | Winter | 75.9 | 0.5 | 0.4 | 0.6 | -5.9 | 0 |  -0.7 | NA | NA | NA | NA |\n",
       "| DAV | 2024-01-02 03:00:00 | 2024 | 1 | 2 |  3 | Tue | Weekday | Winter | 71.8 | 2.3 | 0.4 | 2.6 | -6.6 | 0 |  -0.2 | NA | NA | NA | NA |\n",
       "| DAV | 2024-01-02 04:00:00 | 2024 | 1 | 2 |  4 | Tue | Weekday | Winter | 73.8 | 1.2 | 0.2 | 1.2 | -6.1 | 0 |  -0.1 | NA | NA | NA | NA |\n",
       "| DAV | 2024-01-02 05:00:00 | 2024 | 1 | 2 |  5 | Tue | Weekday | Winter | 70.4 | 3.6 | 0.2 | 3.7 | -5.8 | 0 |   0.0 | NA | NA | NA | NA |\n",
       "| ... | ... | ... | ... | ... | ... | ... | ... | ... | ... | ... | ... | ... | ... | ... | ... | ... | ... | ... | ... |\n",
       "| BAS | 2024-12-30 18:00:00 | 2024 | 12 | 30 | 18 | Mon | Weekday | Winter |  5.8 | 32.1 | 14.4 | 34.4 | -0.5 | 0 |   0.0 | 0.3 | 16.8 | 0.6 |  5815.7 |\n",
       "| BAS | 2024-12-30 19:00:00 | 2024 | 12 | 30 | 19 | Mon | Weekday | Winter |  7.3 | 30.6 | 13.9 | 33.0 | -0.7 | 0 |   0.0 | 0.4 | 16.4 | 0.6 |  6715.2 |\n",
       "| BAS | 2024-12-30 20:00:00 | 2024 | 12 | 30 | 20 | Mon | Weekday | Winter |  6.3 | 30.0 | 13.6 | 31.9 | -1.0 | 0 |   0.0 | 0.5 | 16.3 | 0.7 |  6380.9 |\n",
       "| BAS | 2024-12-30 21:00:00 | 2024 | 12 | 30 | 21 | Mon | Weekday | Winter |  7.2 | 24.3 | 13.9 | 25.5 | -2.0 | 0 |   0.0 | 0.3 | 16.7 | 0.7 |  5976.5 |\n",
       "| BAS | 2024-12-30 22:00:00 | 2024 | 12 | 30 | 22 | Mon | Weekday | Winter |  8.4 | 20.6 | 13.3 | 21.5 | -2.8 | 0 |   0.0 | 0.3 | 16.3 | 0.7 |  5303.4 |\n",
       "| BAS | 2024-12-30 23:00:00 | 2024 | 12 | 30 | 23 | Mon | Weekday | Winter |  8.0 | 21.1 | 13.6 | 22.0 | -3.2 | 0 |   0.0 | 0.2 | 16.4 | 0.7 |  5421.7 |\n",
       "| BAS | 2024-12-31 00:00:00 | 2024 | 12 | 31 |  0 | Tue | Weekday | Winter |  8.4 | 19.4 | 17.9 | 20.3 | -3.6 | 0 |   0.0 | 0.2 | 17.7 | 0.7 |  5047.5 |\n",
       "| BAS | 2024-12-31 01:00:00 | 2024 | 12 | 31 |  1 | Tue | Weekday | Winter |  9.9 | 18.6 | 16.2 | 19.1 | -3.8 | 0 |   0.0 | 0.2 | 16.5 | 0.7 |  4840.7 |\n",
       "| BAS | 2024-12-31 02:00:00 | 2024 | 12 | 31 |  2 | Tue | Weekday | Winter | 10.7 | 18.9 | 17.2 | 19.7 | -3.7 | 0 |   0.0 | 0.3 | 17.5 | 0.6 |  4575.8 |\n",
       "| BAS | 2024-12-31 03:00:00 | 2024 | 12 | 31 |  3 | Tue | Weekday | Winter | 11.7 | 20.4 | 15.3 | 21.3 | -3.0 | 0 |   0.0 | 0.5 | 15.6 | 0.6 |  4708.3 |\n",
       "| BAS | 2024-12-31 04:00:00 | 2024 | 12 | 31 |  4 | Tue | Weekday | Winter |  9.6 | 24.2 | 15.1 | 25.8 | -3.0 | 0 |   0.0 | 0.7 | 15.4 | 0.5 |  5278.4 |\n",
       "| BAS | 2024-12-31 05:00:00 | 2024 | 12 | 31 |  5 | Tue | Weekday | Winter |  8.2 | 26.7 | 15.7 | 29.0 | -2.9 | 0 |   0.0 | 0.8 | 15.8 | 0.5 |  5976.5 |\n",
       "| BAS | 2024-12-31 06:00:00 | 2024 | 12 | 31 |  6 | Tue | Weekday | Winter |  6.6 | 29.4 | 16.3 | 33.0 | -2.7 | 0 |   0.0 | 0.9 | 16.4 | 0.4 |  6841.4 |\n",
       "| BAS | 2024-12-31 07:00:00 | 2024 | 12 | 31 |  7 | Tue | Weekday | Winter |  5.4 | 30.7 | 17.4 | 35.6 | -2.7 | 0 |   0.0 | 0.7 | 17.3 | 0.4 |  6987.3 |\n",
       "| BAS | 2024-12-31 08:00:00 | 2024 | 12 | 31 |  8 | Tue | Weekday | Winter |  7.4 | 29.1 | 18.3 | 36.0 | -2.6 | 0 |  10.2 | 0.7 | 18.3 | 0.4 |  7431.9 |\n",
       "| BAS | 2024-12-31 09:00:00 | 2024 | 12 | 31 |  9 | Tue | Weekday | Winter | 13.9 | 23.7 | 19.6 | 37.2 | -2.0 | 0 | 105.3 | 0.8 | 19.1 | 0.4 |  7305.2 |\n",
       "| BAS | 2024-12-31 10:00:00 | 2024 | 12 | 31 | 10 | Tue | Weekday | Winter | 18.1 | 21.4 | 19.4 | 39.4 | -0.8 | 0 | 218.5 | 0.9 | 18.9 | 0.5 |  8069.0 |\n",
       "| BAS | 2024-12-31 11:00:00 | 2024 | 12 | 31 | 11 | Tue | Weekday | Winter | 20.7 | 21.2 | 19.5 | 41.4 |  0.5 | 0 | 293.2 | 1.1 | 18.5 | 0.5 |  9086.4 |\n",
       "| BAS | 2024-12-31 12:00:00 | 2024 | 12 | 31 | 12 | Tue | Weekday | Winter | 22.8 | 20.5 | 19.3 | 38.7 |  1.8 | 0 | 317.5 | 1.2 | 18.5 | 0.5 |  8997.9 |\n",
       "| BAS | 2024-12-31 13:00:00 | 2024 | 12 | 31 | 13 | Tue | Weekday | Winter | 22.8 | 21.9 | 21.2 | 39.8 |  2.9 | 0 | 298.8 | 1.5 | 19.9 | 0.5 |  9252.1 |\n",
       "| BAS | 2024-12-31 14:00:00 | 2024 | 12 | 31 | 14 | Tue | Weekday | Winter | 22.6 | 25.4 | 21.6 | 42.3 |  3.5 | 0 | 228.5 | 1.4 | 19.7 | 0.5 |  9734.4 |\n",
       "| BAS | 2024-12-31 15:00:00 | 2024 | 12 | 31 | 15 | Tue | Weekday | Winter | 17.0 | 29.0 | 23.6 | 43.9 |  2.9 | 0 |  84.5 | 1.5 | 22.1 | 0.6 | 10111.0 |\n",
       "| BAS | 2024-12-31 16:00:00 | 2024 | 12 | 31 | 16 | Tue | Weekday | Winter |  8.8 | 33.6 | 24.5 | 44.1 |  1.6 | 0 |  25.7 | 1.7 | 23.9 | 0.8 | 10303.5 |\n",
       "| BAS | 2024-12-31 17:00:00 | 2024 | 12 | 31 | 17 | Tue | Weekday | Winter |  3.4 | 37.9 | 25.5 | 46.5 |  0.5 | 0 |   0.0 | 1.4 | 24.8 | 0.9 | 11511.7 |\n",
       "| BAS | 2024-12-31 18:00:00 | 2024 | 12 | 31 | 18 | Tue | Weekday | Winter |  2.7 | 37.7 | 31.1 | 53.6 | -0.3 | 0 |   0.0 | 1.3 | 30.4 | 1.2 | 14463.4 |\n",
       "| BAS | 2024-12-31 19:00:00 | 2024 | 12 | 31 | 19 | Tue | Weekday | Winter |  4.1 | 37.3 | 42.5 | 65.4 | -1.3 | 0 |   0.0 | 1.1 | 40.6 | 1.7 | 20669.3 |\n",
       "| BAS | 2024-12-31 20:00:00 | 2024 | 12 | 31 | 20 | Tue | Weekday | Winter |  3.0 | 36.5 | 37.1 | 55.1 | -1.1 | 0 |   0.0 | 1.6 | 36.3 | 1.4 | 19038.3 |\n",
       "| BAS | 2024-12-31 21:00:00 | 2024 | 12 | 31 | 21 | Tue | Weekday | Winter |  2.2 | 35.0 | 36.2 | 51.6 | -1.4 | 0 |   0.0 | 1.1 | 36.1 | 1.2 | 15172.2 |\n",
       "| BAS | 2024-12-31 22:00:00 | 2024 | 12 | 31 | 22 | Tue | Weekday | Winter |  2.6 | 34.3 | 36.7 | 48.5 | -1.8 | 0 |   0.0 | 1.4 | 36.3 | 1.2 | 16183.8 |\n",
       "| BAS | 2024-12-31 23:00:00 | 2024 | 12 | 31 | 23 | Tue | Weekday | Winter |  3.0 | 34.2 | 38.7 | 42.5 | -2.1 | 0 |   0.0 | 1.3 | 38.8 | 1.1 | 15483.7 |\n",
       "\n"
      ],
      "text/plain": [
       "      site datetime            year month day hour dayofwk daytype season O3  \n",
       "1     DAV  2024-01-01 00:00:00 2024 1     1    0   Mon     Weekday Winter 57.7\n",
       "2     DAV  2024-01-01 01:00:00 2024 1     1    1   Mon     Weekday Winter 55.2\n",
       "3     DAV  2024-01-01 02:00:00 2024 1     1    2   Mon     Weekday Winter 49.9\n",
       "4     DAV  2024-01-01 03:00:00 2024 1     1    3   Mon     Weekday Winter 52.1\n",
       "5     DAV  2024-01-01 04:00:00 2024 1     1    4   Mon     Weekday Winter 65.8\n",
       "6     DAV  2024-01-01 05:00:00 2024 1     1    5   Mon     Weekday Winter 67.1\n",
       "7     DAV  2024-01-01 06:00:00 2024 1     1    6   Mon     Weekday Winter 64.0\n",
       "8     DAV  2024-01-01 07:00:00 2024 1     1    7   Mon     Weekday Winter 58.4\n",
       "9     DAV  2024-01-01 08:00:00 2024 1     1    8   Mon     Weekday Winter 61.8\n",
       "10    DAV  2024-01-01 09:00:00 2024 1     1    9   Mon     Weekday Winter 59.0\n",
       "11    DAV  2024-01-01 10:00:00 2024 1     1   10   Mon     Weekday Winter 57.8\n",
       "12    DAV  2024-01-01 11:00:00 2024 1     1   11   Mon     Weekday Winter 53.2\n",
       "13    DAV  2024-01-01 12:00:00 2024 1     1   12   Mon     Weekday Winter 61.4\n",
       "14    DAV  2024-01-01 13:00:00 2024 1     1   13   Mon     Weekday Winter 63.6\n",
       "15    DAV  2024-01-01 14:00:00 2024 1     1   14   Mon     Weekday Winter 62.6\n",
       "16    DAV  2024-01-01 15:00:00 2024 1     1   15   Mon     Weekday Winter 55.4\n",
       "17    DAV  2024-01-01 16:00:00 2024 1     1   16   Mon     Weekday Winter 60.7\n",
       "18    DAV  2024-01-01 17:00:00 2024 1     1   17   Mon     Weekday Winter 61.7\n",
       "19    DAV  2024-01-01 18:00:00 2024 1     1   18   Mon     Weekday Winter 68.0\n",
       "20    DAV  2024-01-01 19:00:00 2024 1     1   19   Mon     Weekday Winter 68.7\n",
       "21    DAV  2024-01-01 20:00:00 2024 1     1   20   Mon     Weekday Winter 68.5\n",
       "22    DAV  2024-01-01 21:00:00 2024 1     1   21   Mon     Weekday Winter 65.8\n",
       "23    DAV  2024-01-01 22:00:00 2024 1     1   22   Mon     Weekday Winter 71.4\n",
       "24    DAV  2024-01-01 23:00:00 2024 1     1   23   Mon     Weekday Winter 70.3\n",
       "25    DAV  2024-01-02 00:00:00 2024 1     2    0   Tue     Weekday Winter 72.2\n",
       "26    DAV  2024-01-02 01:00:00 2024 1     2    1   Tue     Weekday Winter 75.6\n",
       "27    DAV  2024-01-02 02:00:00 2024 1     2    2   Tue     Weekday Winter 75.9\n",
       "28    DAV  2024-01-02 03:00:00 2024 1     2    3   Tue     Weekday Winter 71.8\n",
       "29    DAV  2024-01-02 04:00:00 2024 1     2    4   Tue     Weekday Winter 73.8\n",
       "30    DAV  2024-01-02 05:00:00 2024 1     2    5   Tue     Weekday Winter 70.4\n",
       "...   ...  ...                 ...  ...   ... ...  ...     ...     ...    ... \n",
       "17539 BAS  2024-12-30 18:00:00 2024 12    30  18   Mon     Weekday Winter  5.8\n",
       "17540 BAS  2024-12-30 19:00:00 2024 12    30  19   Mon     Weekday Winter  7.3\n",
       "17541 BAS  2024-12-30 20:00:00 2024 12    30  20   Mon     Weekday Winter  6.3\n",
       "17542 BAS  2024-12-30 21:00:00 2024 12    30  21   Mon     Weekday Winter  7.2\n",
       "17543 BAS  2024-12-30 22:00:00 2024 12    30  22   Mon     Weekday Winter  8.4\n",
       "17544 BAS  2024-12-30 23:00:00 2024 12    30  23   Mon     Weekday Winter  8.0\n",
       "17545 BAS  2024-12-31 00:00:00 2024 12    31   0   Tue     Weekday Winter  8.4\n",
       "17546 BAS  2024-12-31 01:00:00 2024 12    31   1   Tue     Weekday Winter  9.9\n",
       "17547 BAS  2024-12-31 02:00:00 2024 12    31   2   Tue     Weekday Winter 10.7\n",
       "17548 BAS  2024-12-31 03:00:00 2024 12    31   3   Tue     Weekday Winter 11.7\n",
       "17549 BAS  2024-12-31 04:00:00 2024 12    31   4   Tue     Weekday Winter  9.6\n",
       "17550 BAS  2024-12-31 05:00:00 2024 12    31   5   Tue     Weekday Winter  8.2\n",
       "17551 BAS  2024-12-31 06:00:00 2024 12    31   6   Tue     Weekday Winter  6.6\n",
       "17552 BAS  2024-12-31 07:00:00 2024 12    31   7   Tue     Weekday Winter  5.4\n",
       "17553 BAS  2024-12-31 08:00:00 2024 12    31   8   Tue     Weekday Winter  7.4\n",
       "17554 BAS  2024-12-31 09:00:00 2024 12    31   9   Tue     Weekday Winter 13.9\n",
       "17555 BAS  2024-12-31 10:00:00 2024 12    31  10   Tue     Weekday Winter 18.1\n",
       "17556 BAS  2024-12-31 11:00:00 2024 12    31  11   Tue     Weekday Winter 20.7\n",
       "17557 BAS  2024-12-31 12:00:00 2024 12    31  12   Tue     Weekday Winter 22.8\n",
       "17558 BAS  2024-12-31 13:00:00 2024 12    31  13   Tue     Weekday Winter 22.8\n",
       "17559 BAS  2024-12-31 14:00:00 2024 12    31  14   Tue     Weekday Winter 22.6\n",
       "17560 BAS  2024-12-31 15:00:00 2024 12    31  15   Tue     Weekday Winter 17.0\n",
       "17561 BAS  2024-12-31 16:00:00 2024 12    31  16   Tue     Weekday Winter  8.8\n",
       "17562 BAS  2024-12-31 17:00:00 2024 12    31  17   Tue     Weekday Winter  3.4\n",
       "17563 BAS  2024-12-31 18:00:00 2024 12    31  18   Tue     Weekday Winter  2.7\n",
       "17564 BAS  2024-12-31 19:00:00 2024 12    31  19   Tue     Weekday Winter  4.1\n",
       "17565 BAS  2024-12-31 20:00:00 2024 12    31  20   Tue     Weekday Winter  3.0\n",
       "17566 BAS  2024-12-31 21:00:00 2024 12    31  21   Tue     Weekday Winter  2.2\n",
       "17567 BAS  2024-12-31 22:00:00 2024 12    31  22   Tue     Weekday Winter  2.6\n",
       "17568 BAS  2024-12-31 23:00:00 2024 12    31  23   Tue     Weekday Winter  3.0\n",
       "      NO2  PM10 NOX  TEMP PREC RAD   SO2 PM2.5 EC  CPC    \n",
       "1     1.9  1.2  1.9  -2.2 0     -0.6 NA  NA    NA  NA     \n",
       "2     2.1  1.5  2.1  -2.8 0     -0.7 NA  NA    NA  NA     \n",
       "3     3.7  2.2  3.7  -3.3 0     -0.7 NA  NA    NA  NA     \n",
       "4     4.5  3.0  4.6  -4.2 0     -1.1 NA  NA    NA  NA     \n",
       "5     0.7  0.2  0.7  -5.2 0     -1.3 NA  NA    NA  NA     \n",
       "6     0.7  0.4  0.7  -5.6 0     -0.8 NA  NA    NA  NA     \n",
       "7     3.4  0.3  3.5  -5.7 0     -0.6 NA  NA    NA  NA     \n",
       "8     5.4  0.3  5.4  -5.9 0     -0.6 NA  NA    NA  NA     \n",
       "9     1.7  0.3  1.8  -5.7 0     22.6 NA  NA    NA  NA     \n",
       "10    2.9  0.4  3.4  -5.3 0     73.9 NA  NA    NA  NA     \n",
       "11    3.4  0.5  4.4  -4.3 0    169.3 NA  NA    NA  NA     \n",
       "12    4.9  0.7  7.2  -3.3 0    301.3 NA  NA    NA  NA     \n",
       "13    1.8  0.4  2.5  -2.3 0    272.5 NA  NA    NA  NA     \n",
       "14    1.4  0.5  1.7  -2.4 0    129.9 NA  NA    NA  NA     \n",
       "15    4.3  0.6  5.2  -2.3 0    118.1 NA  NA    NA  NA     \n",
       "16    5.8  0.8  6.7  -2.5 0     59.1 NA  NA    NA  NA     \n",
       "17    2.8  0.8  3.0  -3.4 0     13.2 NA  NA    NA  NA     \n",
       "18    1.6  1.1  1.7  -4.9 0     -1.1 NA  NA    NA  NA     \n",
       "19    1.4  0.6  1.4  -5.3 0     -1.0 NA  NA    NA  NA     \n",
       "20    0.8  0.5  0.9  -5.7 0     -1.0 NA  NA    NA  NA     \n",
       "21    1.3  0.6  1.4  -5.8 0     -0.9 NA  NA    NA  NA     \n",
       "22    2.3  2.4  2.8  -6.4 0     -0.9 NA  NA    NA  NA     \n",
       "23    0.4  0.3  0.5  -5.6 0     -0.9 NA  NA    NA  NA     \n",
       "24    0.4  0.3  0.5  -6.8 0     -1.1 NA  NA    NA  NA     \n",
       "25    0.7  0.2  0.8  -6.6 0     -0.5 NA  NA    NA  NA     \n",
       "26    0.2  0.2  0.3  -6.0 0     -0.7 NA  NA    NA  NA     \n",
       "27    0.5  0.4  0.6  -5.9 0     -0.7 NA  NA    NA  NA     \n",
       "28    2.3  0.4  2.6  -6.6 0     -0.2 NA  NA    NA  NA     \n",
       "29    1.2  0.2  1.2  -6.1 0     -0.1 NA  NA    NA  NA     \n",
       "30    3.6  0.2  3.7  -5.8 0      0.0 NA  NA    NA  NA     \n",
       "...   ...  ...  ...  ...  ...  ...   ... ...   ... ...    \n",
       "17539 32.1 14.4 34.4 -0.5 0      0.0 0.3 16.8  0.6  5815.7\n",
       "17540 30.6 13.9 33.0 -0.7 0      0.0 0.4 16.4  0.6  6715.2\n",
       "17541 30.0 13.6 31.9 -1.0 0      0.0 0.5 16.3  0.7  6380.9\n",
       "17542 24.3 13.9 25.5 -2.0 0      0.0 0.3 16.7  0.7  5976.5\n",
       "17543 20.6 13.3 21.5 -2.8 0      0.0 0.3 16.3  0.7  5303.4\n",
       "17544 21.1 13.6 22.0 -3.2 0      0.0 0.2 16.4  0.7  5421.7\n",
       "17545 19.4 17.9 20.3 -3.6 0      0.0 0.2 17.7  0.7  5047.5\n",
       "17546 18.6 16.2 19.1 -3.8 0      0.0 0.2 16.5  0.7  4840.7\n",
       "17547 18.9 17.2 19.7 -3.7 0      0.0 0.3 17.5  0.6  4575.8\n",
       "17548 20.4 15.3 21.3 -3.0 0      0.0 0.5 15.6  0.6  4708.3\n",
       "17549 24.2 15.1 25.8 -3.0 0      0.0 0.7 15.4  0.5  5278.4\n",
       "17550 26.7 15.7 29.0 -2.9 0      0.0 0.8 15.8  0.5  5976.5\n",
       "17551 29.4 16.3 33.0 -2.7 0      0.0 0.9 16.4  0.4  6841.4\n",
       "17552 30.7 17.4 35.6 -2.7 0      0.0 0.7 17.3  0.4  6987.3\n",
       "17553 29.1 18.3 36.0 -2.6 0     10.2 0.7 18.3  0.4  7431.9\n",
       "17554 23.7 19.6 37.2 -2.0 0    105.3 0.8 19.1  0.4  7305.2\n",
       "17555 21.4 19.4 39.4 -0.8 0    218.5 0.9 18.9  0.5  8069.0\n",
       "17556 21.2 19.5 41.4  0.5 0    293.2 1.1 18.5  0.5  9086.4\n",
       "17557 20.5 19.3 38.7  1.8 0    317.5 1.2 18.5  0.5  8997.9\n",
       "17558 21.9 21.2 39.8  2.9 0    298.8 1.5 19.9  0.5  9252.1\n",
       "17559 25.4 21.6 42.3  3.5 0    228.5 1.4 19.7  0.5  9734.4\n",
       "17560 29.0 23.6 43.9  2.9 0     84.5 1.5 22.1  0.6 10111.0\n",
       "17561 33.6 24.5 44.1  1.6 0     25.7 1.7 23.9  0.8 10303.5\n",
       "17562 37.9 25.5 46.5  0.5 0      0.0 1.4 24.8  0.9 11511.7\n",
       "17563 37.7 31.1 53.6 -0.3 0      0.0 1.3 30.4  1.2 14463.4\n",
       "17564 37.3 42.5 65.4 -1.3 0      0.0 1.1 40.6  1.7 20669.3\n",
       "17565 36.5 37.1 55.1 -1.1 0      0.0 1.6 36.3  1.4 19038.3\n",
       "17566 35.0 36.2 51.6 -1.4 0      0.0 1.1 36.1  1.2 15172.2\n",
       "17567 34.3 36.7 48.5 -1.8 0      0.0 1.4 36.3  1.2 16183.8\n",
       "17568 34.2 38.7 42.5 -2.1 0      0.0 1.3 38.8  1.1 15483.7"
      ]
     },
     "metadata": {},
     "output_type": "display_data"
    }
   ],
   "source": [
    "all_data_df"
   ]
  },
  {
   "cell_type": "code",
   "execution_count": 33,
   "id": "9c521f82-cf90-41a1-b3f3-b85cd87489b8",
   "metadata": {},
   "outputs": [],
   "source": [
    "write.csv(all_data_df, \"DATA/DAV-BAS.csv\")"
   ]
  },
  {
   "cell_type": "code",
   "execution_count": 34,
   "id": "902f666b-ee6b-440f-8cde-468dc3515387",
   "metadata": {},
   "outputs": [],
   "source": [
    "all_data_lf <- all_data_df %>%\n",
    "  pivot_longer(-c(site, datetime, season, year, month, day, hour, dayofwk, daytype),  # id columns\n",
    "               names_to = \"variable\",\n",
    "               values_to = \"value\")"
   ]
  },
  {
   "cell_type": "code",
   "execution_count": 35,
   "id": "42ec5e63-7d7b-4f27-bea9-f7943ccd7e84",
   "metadata": {},
   "outputs": [
    {
     "data": {
      "text/html": [
       "<table class=\"dataframe\">\n",
       "<caption>A tibble: 193248 × 11</caption>\n",
       "<thead>\n",
       "\t<tr><th scope=col>site</th><th scope=col>datetime</th><th scope=col>year</th><th scope=col>month</th><th scope=col>day</th><th scope=col>hour</th><th scope=col>dayofwk</th><th scope=col>daytype</th><th scope=col>season</th><th scope=col>variable</th><th scope=col>value</th></tr>\n",
       "\t<tr><th scope=col>&lt;chr&gt;</th><th scope=col>&lt;dttm&gt;</th><th scope=col>&lt;dbl&gt;</th><th scope=col>&lt;dbl&gt;</th><th scope=col>&lt;int&gt;</th><th scope=col>&lt;int&gt;</th><th scope=col>&lt;ord&gt;</th><th scope=col>&lt;chr&gt;</th><th scope=col>&lt;fct&gt;</th><th scope=col>&lt;chr&gt;</th><th scope=col>&lt;dbl&gt;</th></tr>\n",
       "</thead>\n",
       "<tbody>\n",
       "\t<tr><td>DAV</td><td>2024-01-01 00:00:00</td><td>2024</td><td>1</td><td>1</td><td>0</td><td>Mon</td><td>Weekday</td><td>Winter</td><td>O3   </td><td>57.7</td></tr>\n",
       "\t<tr><td>DAV</td><td>2024-01-01 00:00:00</td><td>2024</td><td>1</td><td>1</td><td>0</td><td>Mon</td><td>Weekday</td><td>Winter</td><td>NO2  </td><td> 1.9</td></tr>\n",
       "\t<tr><td>DAV</td><td>2024-01-01 00:00:00</td><td>2024</td><td>1</td><td>1</td><td>0</td><td>Mon</td><td>Weekday</td><td>Winter</td><td>PM10 </td><td> 1.2</td></tr>\n",
       "\t<tr><td>DAV</td><td>2024-01-01 00:00:00</td><td>2024</td><td>1</td><td>1</td><td>0</td><td>Mon</td><td>Weekday</td><td>Winter</td><td>NOX  </td><td> 1.9</td></tr>\n",
       "\t<tr><td>DAV</td><td>2024-01-01 00:00:00</td><td>2024</td><td>1</td><td>1</td><td>0</td><td>Mon</td><td>Weekday</td><td>Winter</td><td>TEMP </td><td>-2.2</td></tr>\n",
       "\t<tr><td>DAV</td><td>2024-01-01 00:00:00</td><td>2024</td><td>1</td><td>1</td><td>0</td><td>Mon</td><td>Weekday</td><td>Winter</td><td>PREC </td><td> 0.0</td></tr>\n",
       "\t<tr><td>DAV</td><td>2024-01-01 00:00:00</td><td>2024</td><td>1</td><td>1</td><td>0</td><td>Mon</td><td>Weekday</td><td>Winter</td><td>RAD  </td><td>-0.6</td></tr>\n",
       "\t<tr><td>DAV</td><td>2024-01-01 00:00:00</td><td>2024</td><td>1</td><td>1</td><td>0</td><td>Mon</td><td>Weekday</td><td>Winter</td><td>SO2  </td><td>  NA</td></tr>\n",
       "\t<tr><td>DAV</td><td>2024-01-01 00:00:00</td><td>2024</td><td>1</td><td>1</td><td>0</td><td>Mon</td><td>Weekday</td><td>Winter</td><td>PM2.5</td><td>  NA</td></tr>\n",
       "\t<tr><td>DAV</td><td>2024-01-01 00:00:00</td><td>2024</td><td>1</td><td>1</td><td>0</td><td>Mon</td><td>Weekday</td><td>Winter</td><td>EC   </td><td>  NA</td></tr>\n",
       "\t<tr><td>DAV</td><td>2024-01-01 00:00:00</td><td>2024</td><td>1</td><td>1</td><td>0</td><td>Mon</td><td>Weekday</td><td>Winter</td><td>CPC  </td><td>  NA</td></tr>\n",
       "\t<tr><td>DAV</td><td>2024-01-01 01:00:00</td><td>2024</td><td>1</td><td>1</td><td>1</td><td>Mon</td><td>Weekday</td><td>Winter</td><td>O3   </td><td>55.2</td></tr>\n",
       "\t<tr><td>DAV</td><td>2024-01-01 01:00:00</td><td>2024</td><td>1</td><td>1</td><td>1</td><td>Mon</td><td>Weekday</td><td>Winter</td><td>NO2  </td><td> 2.1</td></tr>\n",
       "\t<tr><td>DAV</td><td>2024-01-01 01:00:00</td><td>2024</td><td>1</td><td>1</td><td>1</td><td>Mon</td><td>Weekday</td><td>Winter</td><td>PM10 </td><td> 1.5</td></tr>\n",
       "\t<tr><td>DAV</td><td>2024-01-01 01:00:00</td><td>2024</td><td>1</td><td>1</td><td>1</td><td>Mon</td><td>Weekday</td><td>Winter</td><td>NOX  </td><td> 2.1</td></tr>\n",
       "\t<tr><td>DAV</td><td>2024-01-01 01:00:00</td><td>2024</td><td>1</td><td>1</td><td>1</td><td>Mon</td><td>Weekday</td><td>Winter</td><td>TEMP </td><td>-2.8</td></tr>\n",
       "\t<tr><td>DAV</td><td>2024-01-01 01:00:00</td><td>2024</td><td>1</td><td>1</td><td>1</td><td>Mon</td><td>Weekday</td><td>Winter</td><td>PREC </td><td> 0.0</td></tr>\n",
       "\t<tr><td>DAV</td><td>2024-01-01 01:00:00</td><td>2024</td><td>1</td><td>1</td><td>1</td><td>Mon</td><td>Weekday</td><td>Winter</td><td>RAD  </td><td>-0.7</td></tr>\n",
       "\t<tr><td>DAV</td><td>2024-01-01 01:00:00</td><td>2024</td><td>1</td><td>1</td><td>1</td><td>Mon</td><td>Weekday</td><td>Winter</td><td>SO2  </td><td>  NA</td></tr>\n",
       "\t<tr><td>DAV</td><td>2024-01-01 01:00:00</td><td>2024</td><td>1</td><td>1</td><td>1</td><td>Mon</td><td>Weekday</td><td>Winter</td><td>PM2.5</td><td>  NA</td></tr>\n",
       "\t<tr><td>DAV</td><td>2024-01-01 01:00:00</td><td>2024</td><td>1</td><td>1</td><td>1</td><td>Mon</td><td>Weekday</td><td>Winter</td><td>EC   </td><td>  NA</td></tr>\n",
       "\t<tr><td>DAV</td><td>2024-01-01 01:00:00</td><td>2024</td><td>1</td><td>1</td><td>1</td><td>Mon</td><td>Weekday</td><td>Winter</td><td>CPC  </td><td>  NA</td></tr>\n",
       "\t<tr><td>DAV</td><td>2024-01-01 02:00:00</td><td>2024</td><td>1</td><td>1</td><td>2</td><td>Mon</td><td>Weekday</td><td>Winter</td><td>O3   </td><td>49.9</td></tr>\n",
       "\t<tr><td>DAV</td><td>2024-01-01 02:00:00</td><td>2024</td><td>1</td><td>1</td><td>2</td><td>Mon</td><td>Weekday</td><td>Winter</td><td>NO2  </td><td> 3.7</td></tr>\n",
       "\t<tr><td>DAV</td><td>2024-01-01 02:00:00</td><td>2024</td><td>1</td><td>1</td><td>2</td><td>Mon</td><td>Weekday</td><td>Winter</td><td>PM10 </td><td> 2.2</td></tr>\n",
       "\t<tr><td>DAV</td><td>2024-01-01 02:00:00</td><td>2024</td><td>1</td><td>1</td><td>2</td><td>Mon</td><td>Weekday</td><td>Winter</td><td>NOX  </td><td> 3.7</td></tr>\n",
       "\t<tr><td>DAV</td><td>2024-01-01 02:00:00</td><td>2024</td><td>1</td><td>1</td><td>2</td><td>Mon</td><td>Weekday</td><td>Winter</td><td>TEMP </td><td>-3.3</td></tr>\n",
       "\t<tr><td>DAV</td><td>2024-01-01 02:00:00</td><td>2024</td><td>1</td><td>1</td><td>2</td><td>Mon</td><td>Weekday</td><td>Winter</td><td>PREC </td><td> 0.0</td></tr>\n",
       "\t<tr><td>DAV</td><td>2024-01-01 02:00:00</td><td>2024</td><td>1</td><td>1</td><td>2</td><td>Mon</td><td>Weekday</td><td>Winter</td><td>RAD  </td><td>-0.7</td></tr>\n",
       "\t<tr><td>DAV</td><td>2024-01-01 02:00:00</td><td>2024</td><td>1</td><td>1</td><td>2</td><td>Mon</td><td>Weekday</td><td>Winter</td><td>SO2  </td><td>  NA</td></tr>\n",
       "\t<tr><td>...</td><td>...</td><td>...</td><td>...</td><td>...</td><td>...</td><td>...</td><td>...</td><td>...</td><td>...</td><td>...</td></tr>\n",
       "\t<tr><td>BAS</td><td>2024-12-31 21:00:00</td><td>2024</td><td>12</td><td>31</td><td>21</td><td>Tue</td><td>Weekday</td><td>Winter</td><td>NOX  </td><td>   51.6</td></tr>\n",
       "\t<tr><td>BAS</td><td>2024-12-31 21:00:00</td><td>2024</td><td>12</td><td>31</td><td>21</td><td>Tue</td><td>Weekday</td><td>Winter</td><td>TEMP </td><td>   -1.4</td></tr>\n",
       "\t<tr><td>BAS</td><td>2024-12-31 21:00:00</td><td>2024</td><td>12</td><td>31</td><td>21</td><td>Tue</td><td>Weekday</td><td>Winter</td><td>PREC </td><td>    0.0</td></tr>\n",
       "\t<tr><td>BAS</td><td>2024-12-31 21:00:00</td><td>2024</td><td>12</td><td>31</td><td>21</td><td>Tue</td><td>Weekday</td><td>Winter</td><td>RAD  </td><td>    0.0</td></tr>\n",
       "\t<tr><td>BAS</td><td>2024-12-31 21:00:00</td><td>2024</td><td>12</td><td>31</td><td>21</td><td>Tue</td><td>Weekday</td><td>Winter</td><td>SO2  </td><td>    1.1</td></tr>\n",
       "\t<tr><td>BAS</td><td>2024-12-31 21:00:00</td><td>2024</td><td>12</td><td>31</td><td>21</td><td>Tue</td><td>Weekday</td><td>Winter</td><td>PM2.5</td><td>   36.1</td></tr>\n",
       "\t<tr><td>BAS</td><td>2024-12-31 21:00:00</td><td>2024</td><td>12</td><td>31</td><td>21</td><td>Tue</td><td>Weekday</td><td>Winter</td><td>EC   </td><td>    1.2</td></tr>\n",
       "\t<tr><td>BAS</td><td>2024-12-31 21:00:00</td><td>2024</td><td>12</td><td>31</td><td>21</td><td>Tue</td><td>Weekday</td><td>Winter</td><td>CPC  </td><td>15172.2</td></tr>\n",
       "\t<tr><td>BAS</td><td>2024-12-31 22:00:00</td><td>2024</td><td>12</td><td>31</td><td>22</td><td>Tue</td><td>Weekday</td><td>Winter</td><td>O3   </td><td>    2.6</td></tr>\n",
       "\t<tr><td>BAS</td><td>2024-12-31 22:00:00</td><td>2024</td><td>12</td><td>31</td><td>22</td><td>Tue</td><td>Weekday</td><td>Winter</td><td>NO2  </td><td>   34.3</td></tr>\n",
       "\t<tr><td>BAS</td><td>2024-12-31 22:00:00</td><td>2024</td><td>12</td><td>31</td><td>22</td><td>Tue</td><td>Weekday</td><td>Winter</td><td>PM10 </td><td>   36.7</td></tr>\n",
       "\t<tr><td>BAS</td><td>2024-12-31 22:00:00</td><td>2024</td><td>12</td><td>31</td><td>22</td><td>Tue</td><td>Weekday</td><td>Winter</td><td>NOX  </td><td>   48.5</td></tr>\n",
       "\t<tr><td>BAS</td><td>2024-12-31 22:00:00</td><td>2024</td><td>12</td><td>31</td><td>22</td><td>Tue</td><td>Weekday</td><td>Winter</td><td>TEMP </td><td>   -1.8</td></tr>\n",
       "\t<tr><td>BAS</td><td>2024-12-31 22:00:00</td><td>2024</td><td>12</td><td>31</td><td>22</td><td>Tue</td><td>Weekday</td><td>Winter</td><td>PREC </td><td>    0.0</td></tr>\n",
       "\t<tr><td>BAS</td><td>2024-12-31 22:00:00</td><td>2024</td><td>12</td><td>31</td><td>22</td><td>Tue</td><td>Weekday</td><td>Winter</td><td>RAD  </td><td>    0.0</td></tr>\n",
       "\t<tr><td>BAS</td><td>2024-12-31 22:00:00</td><td>2024</td><td>12</td><td>31</td><td>22</td><td>Tue</td><td>Weekday</td><td>Winter</td><td>SO2  </td><td>    1.4</td></tr>\n",
       "\t<tr><td>BAS</td><td>2024-12-31 22:00:00</td><td>2024</td><td>12</td><td>31</td><td>22</td><td>Tue</td><td>Weekday</td><td>Winter</td><td>PM2.5</td><td>   36.3</td></tr>\n",
       "\t<tr><td>BAS</td><td>2024-12-31 22:00:00</td><td>2024</td><td>12</td><td>31</td><td>22</td><td>Tue</td><td>Weekday</td><td>Winter</td><td>EC   </td><td>    1.2</td></tr>\n",
       "\t<tr><td>BAS</td><td>2024-12-31 22:00:00</td><td>2024</td><td>12</td><td>31</td><td>22</td><td>Tue</td><td>Weekday</td><td>Winter</td><td>CPC  </td><td>16183.8</td></tr>\n",
       "\t<tr><td>BAS</td><td>2024-12-31 23:00:00</td><td>2024</td><td>12</td><td>31</td><td>23</td><td>Tue</td><td>Weekday</td><td>Winter</td><td>O3   </td><td>    3.0</td></tr>\n",
       "\t<tr><td>BAS</td><td>2024-12-31 23:00:00</td><td>2024</td><td>12</td><td>31</td><td>23</td><td>Tue</td><td>Weekday</td><td>Winter</td><td>NO2  </td><td>   34.2</td></tr>\n",
       "\t<tr><td>BAS</td><td>2024-12-31 23:00:00</td><td>2024</td><td>12</td><td>31</td><td>23</td><td>Tue</td><td>Weekday</td><td>Winter</td><td>PM10 </td><td>   38.7</td></tr>\n",
       "\t<tr><td>BAS</td><td>2024-12-31 23:00:00</td><td>2024</td><td>12</td><td>31</td><td>23</td><td>Tue</td><td>Weekday</td><td>Winter</td><td>NOX  </td><td>   42.5</td></tr>\n",
       "\t<tr><td>BAS</td><td>2024-12-31 23:00:00</td><td>2024</td><td>12</td><td>31</td><td>23</td><td>Tue</td><td>Weekday</td><td>Winter</td><td>TEMP </td><td>   -2.1</td></tr>\n",
       "\t<tr><td>BAS</td><td>2024-12-31 23:00:00</td><td>2024</td><td>12</td><td>31</td><td>23</td><td>Tue</td><td>Weekday</td><td>Winter</td><td>PREC </td><td>    0.0</td></tr>\n",
       "\t<tr><td>BAS</td><td>2024-12-31 23:00:00</td><td>2024</td><td>12</td><td>31</td><td>23</td><td>Tue</td><td>Weekday</td><td>Winter</td><td>RAD  </td><td>    0.0</td></tr>\n",
       "\t<tr><td>BAS</td><td>2024-12-31 23:00:00</td><td>2024</td><td>12</td><td>31</td><td>23</td><td>Tue</td><td>Weekday</td><td>Winter</td><td>SO2  </td><td>    1.3</td></tr>\n",
       "\t<tr><td>BAS</td><td>2024-12-31 23:00:00</td><td>2024</td><td>12</td><td>31</td><td>23</td><td>Tue</td><td>Weekday</td><td>Winter</td><td>PM2.5</td><td>   38.8</td></tr>\n",
       "\t<tr><td>BAS</td><td>2024-12-31 23:00:00</td><td>2024</td><td>12</td><td>31</td><td>23</td><td>Tue</td><td>Weekday</td><td>Winter</td><td>EC   </td><td>    1.1</td></tr>\n",
       "\t<tr><td>BAS</td><td>2024-12-31 23:00:00</td><td>2024</td><td>12</td><td>31</td><td>23</td><td>Tue</td><td>Weekday</td><td>Winter</td><td>CPC  </td><td>15483.7</td></tr>\n",
       "</tbody>\n",
       "</table>\n"
      ],
      "text/latex": [
       "A tibble: 193248 × 11\n",
       "\\begin{tabular}{lllllllllll}\n",
       " site & datetime & year & month & day & hour & dayofwk & daytype & season & variable & value\\\\\n",
       " <chr> & <dttm> & <dbl> & <dbl> & <int> & <int> & <ord> & <chr> & <fct> & <chr> & <dbl>\\\\\n",
       "\\hline\n",
       "\t DAV & 2024-01-01 00:00:00 & 2024 & 1 & 1 & 0 & Mon & Weekday & Winter & O3    & 57.7\\\\\n",
       "\t DAV & 2024-01-01 00:00:00 & 2024 & 1 & 1 & 0 & Mon & Weekday & Winter & NO2   &  1.9\\\\\n",
       "\t DAV & 2024-01-01 00:00:00 & 2024 & 1 & 1 & 0 & Mon & Weekday & Winter & PM10  &  1.2\\\\\n",
       "\t DAV & 2024-01-01 00:00:00 & 2024 & 1 & 1 & 0 & Mon & Weekday & Winter & NOX   &  1.9\\\\\n",
       "\t DAV & 2024-01-01 00:00:00 & 2024 & 1 & 1 & 0 & Mon & Weekday & Winter & TEMP  & -2.2\\\\\n",
       "\t DAV & 2024-01-01 00:00:00 & 2024 & 1 & 1 & 0 & Mon & Weekday & Winter & PREC  &  0.0\\\\\n",
       "\t DAV & 2024-01-01 00:00:00 & 2024 & 1 & 1 & 0 & Mon & Weekday & Winter & RAD   & -0.6\\\\\n",
       "\t DAV & 2024-01-01 00:00:00 & 2024 & 1 & 1 & 0 & Mon & Weekday & Winter & SO2   &   NA\\\\\n",
       "\t DAV & 2024-01-01 00:00:00 & 2024 & 1 & 1 & 0 & Mon & Weekday & Winter & PM2.5 &   NA\\\\\n",
       "\t DAV & 2024-01-01 00:00:00 & 2024 & 1 & 1 & 0 & Mon & Weekday & Winter & EC    &   NA\\\\\n",
       "\t DAV & 2024-01-01 00:00:00 & 2024 & 1 & 1 & 0 & Mon & Weekday & Winter & CPC   &   NA\\\\\n",
       "\t DAV & 2024-01-01 01:00:00 & 2024 & 1 & 1 & 1 & Mon & Weekday & Winter & O3    & 55.2\\\\\n",
       "\t DAV & 2024-01-01 01:00:00 & 2024 & 1 & 1 & 1 & Mon & Weekday & Winter & NO2   &  2.1\\\\\n",
       "\t DAV & 2024-01-01 01:00:00 & 2024 & 1 & 1 & 1 & Mon & Weekday & Winter & PM10  &  1.5\\\\\n",
       "\t DAV & 2024-01-01 01:00:00 & 2024 & 1 & 1 & 1 & Mon & Weekday & Winter & NOX   &  2.1\\\\\n",
       "\t DAV & 2024-01-01 01:00:00 & 2024 & 1 & 1 & 1 & Mon & Weekday & Winter & TEMP  & -2.8\\\\\n",
       "\t DAV & 2024-01-01 01:00:00 & 2024 & 1 & 1 & 1 & Mon & Weekday & Winter & PREC  &  0.0\\\\\n",
       "\t DAV & 2024-01-01 01:00:00 & 2024 & 1 & 1 & 1 & Mon & Weekday & Winter & RAD   & -0.7\\\\\n",
       "\t DAV & 2024-01-01 01:00:00 & 2024 & 1 & 1 & 1 & Mon & Weekday & Winter & SO2   &   NA\\\\\n",
       "\t DAV & 2024-01-01 01:00:00 & 2024 & 1 & 1 & 1 & Mon & Weekday & Winter & PM2.5 &   NA\\\\\n",
       "\t DAV & 2024-01-01 01:00:00 & 2024 & 1 & 1 & 1 & Mon & Weekday & Winter & EC    &   NA\\\\\n",
       "\t DAV & 2024-01-01 01:00:00 & 2024 & 1 & 1 & 1 & Mon & Weekday & Winter & CPC   &   NA\\\\\n",
       "\t DAV & 2024-01-01 02:00:00 & 2024 & 1 & 1 & 2 & Mon & Weekday & Winter & O3    & 49.9\\\\\n",
       "\t DAV & 2024-01-01 02:00:00 & 2024 & 1 & 1 & 2 & Mon & Weekday & Winter & NO2   &  3.7\\\\\n",
       "\t DAV & 2024-01-01 02:00:00 & 2024 & 1 & 1 & 2 & Mon & Weekday & Winter & PM10  &  2.2\\\\\n",
       "\t DAV & 2024-01-01 02:00:00 & 2024 & 1 & 1 & 2 & Mon & Weekday & Winter & NOX   &  3.7\\\\\n",
       "\t DAV & 2024-01-01 02:00:00 & 2024 & 1 & 1 & 2 & Mon & Weekday & Winter & TEMP  & -3.3\\\\\n",
       "\t DAV & 2024-01-01 02:00:00 & 2024 & 1 & 1 & 2 & Mon & Weekday & Winter & PREC  &  0.0\\\\\n",
       "\t DAV & 2024-01-01 02:00:00 & 2024 & 1 & 1 & 2 & Mon & Weekday & Winter & RAD   & -0.7\\\\\n",
       "\t DAV & 2024-01-01 02:00:00 & 2024 & 1 & 1 & 2 & Mon & Weekday & Winter & SO2   &   NA\\\\\n",
       "\t ... & ... & ... & ... & ... & ... & ... & ... & ... & ... & ...\\\\\n",
       "\t BAS & 2024-12-31 21:00:00 & 2024 & 12 & 31 & 21 & Tue & Weekday & Winter & NOX   &    51.6\\\\\n",
       "\t BAS & 2024-12-31 21:00:00 & 2024 & 12 & 31 & 21 & Tue & Weekday & Winter & TEMP  &    -1.4\\\\\n",
       "\t BAS & 2024-12-31 21:00:00 & 2024 & 12 & 31 & 21 & Tue & Weekday & Winter & PREC  &     0.0\\\\\n",
       "\t BAS & 2024-12-31 21:00:00 & 2024 & 12 & 31 & 21 & Tue & Weekday & Winter & RAD   &     0.0\\\\\n",
       "\t BAS & 2024-12-31 21:00:00 & 2024 & 12 & 31 & 21 & Tue & Weekday & Winter & SO2   &     1.1\\\\\n",
       "\t BAS & 2024-12-31 21:00:00 & 2024 & 12 & 31 & 21 & Tue & Weekday & Winter & PM2.5 &    36.1\\\\\n",
       "\t BAS & 2024-12-31 21:00:00 & 2024 & 12 & 31 & 21 & Tue & Weekday & Winter & EC    &     1.2\\\\\n",
       "\t BAS & 2024-12-31 21:00:00 & 2024 & 12 & 31 & 21 & Tue & Weekday & Winter & CPC   & 15172.2\\\\\n",
       "\t BAS & 2024-12-31 22:00:00 & 2024 & 12 & 31 & 22 & Tue & Weekday & Winter & O3    &     2.6\\\\\n",
       "\t BAS & 2024-12-31 22:00:00 & 2024 & 12 & 31 & 22 & Tue & Weekday & Winter & NO2   &    34.3\\\\\n",
       "\t BAS & 2024-12-31 22:00:00 & 2024 & 12 & 31 & 22 & Tue & Weekday & Winter & PM10  &    36.7\\\\\n",
       "\t BAS & 2024-12-31 22:00:00 & 2024 & 12 & 31 & 22 & Tue & Weekday & Winter & NOX   &    48.5\\\\\n",
       "\t BAS & 2024-12-31 22:00:00 & 2024 & 12 & 31 & 22 & Tue & Weekday & Winter & TEMP  &    -1.8\\\\\n",
       "\t BAS & 2024-12-31 22:00:00 & 2024 & 12 & 31 & 22 & Tue & Weekday & Winter & PREC  &     0.0\\\\\n",
       "\t BAS & 2024-12-31 22:00:00 & 2024 & 12 & 31 & 22 & Tue & Weekday & Winter & RAD   &     0.0\\\\\n",
       "\t BAS & 2024-12-31 22:00:00 & 2024 & 12 & 31 & 22 & Tue & Weekday & Winter & SO2   &     1.4\\\\\n",
       "\t BAS & 2024-12-31 22:00:00 & 2024 & 12 & 31 & 22 & Tue & Weekday & Winter & PM2.5 &    36.3\\\\\n",
       "\t BAS & 2024-12-31 22:00:00 & 2024 & 12 & 31 & 22 & Tue & Weekday & Winter & EC    &     1.2\\\\\n",
       "\t BAS & 2024-12-31 22:00:00 & 2024 & 12 & 31 & 22 & Tue & Weekday & Winter & CPC   & 16183.8\\\\\n",
       "\t BAS & 2024-12-31 23:00:00 & 2024 & 12 & 31 & 23 & Tue & Weekday & Winter & O3    &     3.0\\\\\n",
       "\t BAS & 2024-12-31 23:00:00 & 2024 & 12 & 31 & 23 & Tue & Weekday & Winter & NO2   &    34.2\\\\\n",
       "\t BAS & 2024-12-31 23:00:00 & 2024 & 12 & 31 & 23 & Tue & Weekday & Winter & PM10  &    38.7\\\\\n",
       "\t BAS & 2024-12-31 23:00:00 & 2024 & 12 & 31 & 23 & Tue & Weekday & Winter & NOX   &    42.5\\\\\n",
       "\t BAS & 2024-12-31 23:00:00 & 2024 & 12 & 31 & 23 & Tue & Weekday & Winter & TEMP  &    -2.1\\\\\n",
       "\t BAS & 2024-12-31 23:00:00 & 2024 & 12 & 31 & 23 & Tue & Weekday & Winter & PREC  &     0.0\\\\\n",
       "\t BAS & 2024-12-31 23:00:00 & 2024 & 12 & 31 & 23 & Tue & Weekday & Winter & RAD   &     0.0\\\\\n",
       "\t BAS & 2024-12-31 23:00:00 & 2024 & 12 & 31 & 23 & Tue & Weekday & Winter & SO2   &     1.3\\\\\n",
       "\t BAS & 2024-12-31 23:00:00 & 2024 & 12 & 31 & 23 & Tue & Weekday & Winter & PM2.5 &    38.8\\\\\n",
       "\t BAS & 2024-12-31 23:00:00 & 2024 & 12 & 31 & 23 & Tue & Weekday & Winter & EC    &     1.1\\\\\n",
       "\t BAS & 2024-12-31 23:00:00 & 2024 & 12 & 31 & 23 & Tue & Weekday & Winter & CPC   & 15483.7\\\\\n",
       "\\end{tabular}\n"
      ],
      "text/markdown": [
       "\n",
       "A tibble: 193248 × 11\n",
       "\n",
       "| site &lt;chr&gt; | datetime &lt;dttm&gt; | year &lt;dbl&gt; | month &lt;dbl&gt; | day &lt;int&gt; | hour &lt;int&gt; | dayofwk &lt;ord&gt; | daytype &lt;chr&gt; | season &lt;fct&gt; | variable &lt;chr&gt; | value &lt;dbl&gt; |\n",
       "|---|---|---|---|---|---|---|---|---|---|---|\n",
       "| DAV | 2024-01-01 00:00:00 | 2024 | 1 | 1 | 0 | Mon | Weekday | Winter | O3    | 57.7 |\n",
       "| DAV | 2024-01-01 00:00:00 | 2024 | 1 | 1 | 0 | Mon | Weekday | Winter | NO2   |  1.9 |\n",
       "| DAV | 2024-01-01 00:00:00 | 2024 | 1 | 1 | 0 | Mon | Weekday | Winter | PM10  |  1.2 |\n",
       "| DAV | 2024-01-01 00:00:00 | 2024 | 1 | 1 | 0 | Mon | Weekday | Winter | NOX   |  1.9 |\n",
       "| DAV | 2024-01-01 00:00:00 | 2024 | 1 | 1 | 0 | Mon | Weekday | Winter | TEMP  | -2.2 |\n",
       "| DAV | 2024-01-01 00:00:00 | 2024 | 1 | 1 | 0 | Mon | Weekday | Winter | PREC  |  0.0 |\n",
       "| DAV | 2024-01-01 00:00:00 | 2024 | 1 | 1 | 0 | Mon | Weekday | Winter | RAD   | -0.6 |\n",
       "| DAV | 2024-01-01 00:00:00 | 2024 | 1 | 1 | 0 | Mon | Weekday | Winter | SO2   |   NA |\n",
       "| DAV | 2024-01-01 00:00:00 | 2024 | 1 | 1 | 0 | Mon | Weekday | Winter | PM2.5 |   NA |\n",
       "| DAV | 2024-01-01 00:00:00 | 2024 | 1 | 1 | 0 | Mon | Weekday | Winter | EC    |   NA |\n",
       "| DAV | 2024-01-01 00:00:00 | 2024 | 1 | 1 | 0 | Mon | Weekday | Winter | CPC   |   NA |\n",
       "| DAV | 2024-01-01 01:00:00 | 2024 | 1 | 1 | 1 | Mon | Weekday | Winter | O3    | 55.2 |\n",
       "| DAV | 2024-01-01 01:00:00 | 2024 | 1 | 1 | 1 | Mon | Weekday | Winter | NO2   |  2.1 |\n",
       "| DAV | 2024-01-01 01:00:00 | 2024 | 1 | 1 | 1 | Mon | Weekday | Winter | PM10  |  1.5 |\n",
       "| DAV | 2024-01-01 01:00:00 | 2024 | 1 | 1 | 1 | Mon | Weekday | Winter | NOX   |  2.1 |\n",
       "| DAV | 2024-01-01 01:00:00 | 2024 | 1 | 1 | 1 | Mon | Weekday | Winter | TEMP  | -2.8 |\n",
       "| DAV | 2024-01-01 01:00:00 | 2024 | 1 | 1 | 1 | Mon | Weekday | Winter | PREC  |  0.0 |\n",
       "| DAV | 2024-01-01 01:00:00 | 2024 | 1 | 1 | 1 | Mon | Weekday | Winter | RAD   | -0.7 |\n",
       "| DAV | 2024-01-01 01:00:00 | 2024 | 1 | 1 | 1 | Mon | Weekday | Winter | SO2   |   NA |\n",
       "| DAV | 2024-01-01 01:00:00 | 2024 | 1 | 1 | 1 | Mon | Weekday | Winter | PM2.5 |   NA |\n",
       "| DAV | 2024-01-01 01:00:00 | 2024 | 1 | 1 | 1 | Mon | Weekday | Winter | EC    |   NA |\n",
       "| DAV | 2024-01-01 01:00:00 | 2024 | 1 | 1 | 1 | Mon | Weekday | Winter | CPC   |   NA |\n",
       "| DAV | 2024-01-01 02:00:00 | 2024 | 1 | 1 | 2 | Mon | Weekday | Winter | O3    | 49.9 |\n",
       "| DAV | 2024-01-01 02:00:00 | 2024 | 1 | 1 | 2 | Mon | Weekday | Winter | NO2   |  3.7 |\n",
       "| DAV | 2024-01-01 02:00:00 | 2024 | 1 | 1 | 2 | Mon | Weekday | Winter | PM10  |  2.2 |\n",
       "| DAV | 2024-01-01 02:00:00 | 2024 | 1 | 1 | 2 | Mon | Weekday | Winter | NOX   |  3.7 |\n",
       "| DAV | 2024-01-01 02:00:00 | 2024 | 1 | 1 | 2 | Mon | Weekday | Winter | TEMP  | -3.3 |\n",
       "| DAV | 2024-01-01 02:00:00 | 2024 | 1 | 1 | 2 | Mon | Weekday | Winter | PREC  |  0.0 |\n",
       "| DAV | 2024-01-01 02:00:00 | 2024 | 1 | 1 | 2 | Mon | Weekday | Winter | RAD   | -0.7 |\n",
       "| DAV | 2024-01-01 02:00:00 | 2024 | 1 | 1 | 2 | Mon | Weekday | Winter | SO2   |   NA |\n",
       "| ... | ... | ... | ... | ... | ... | ... | ... | ... | ... | ... |\n",
       "| BAS | 2024-12-31 21:00:00 | 2024 | 12 | 31 | 21 | Tue | Weekday | Winter | NOX   |    51.6 |\n",
       "| BAS | 2024-12-31 21:00:00 | 2024 | 12 | 31 | 21 | Tue | Weekday | Winter | TEMP  |    -1.4 |\n",
       "| BAS | 2024-12-31 21:00:00 | 2024 | 12 | 31 | 21 | Tue | Weekday | Winter | PREC  |     0.0 |\n",
       "| BAS | 2024-12-31 21:00:00 | 2024 | 12 | 31 | 21 | Tue | Weekday | Winter | RAD   |     0.0 |\n",
       "| BAS | 2024-12-31 21:00:00 | 2024 | 12 | 31 | 21 | Tue | Weekday | Winter | SO2   |     1.1 |\n",
       "| BAS | 2024-12-31 21:00:00 | 2024 | 12 | 31 | 21 | Tue | Weekday | Winter | PM2.5 |    36.1 |\n",
       "| BAS | 2024-12-31 21:00:00 | 2024 | 12 | 31 | 21 | Tue | Weekday | Winter | EC    |     1.2 |\n",
       "| BAS | 2024-12-31 21:00:00 | 2024 | 12 | 31 | 21 | Tue | Weekday | Winter | CPC   | 15172.2 |\n",
       "| BAS | 2024-12-31 22:00:00 | 2024 | 12 | 31 | 22 | Tue | Weekday | Winter | O3    |     2.6 |\n",
       "| BAS | 2024-12-31 22:00:00 | 2024 | 12 | 31 | 22 | Tue | Weekday | Winter | NO2   |    34.3 |\n",
       "| BAS | 2024-12-31 22:00:00 | 2024 | 12 | 31 | 22 | Tue | Weekday | Winter | PM10  |    36.7 |\n",
       "| BAS | 2024-12-31 22:00:00 | 2024 | 12 | 31 | 22 | Tue | Weekday | Winter | NOX   |    48.5 |\n",
       "| BAS | 2024-12-31 22:00:00 | 2024 | 12 | 31 | 22 | Tue | Weekday | Winter | TEMP  |    -1.8 |\n",
       "| BAS | 2024-12-31 22:00:00 | 2024 | 12 | 31 | 22 | Tue | Weekday | Winter | PREC  |     0.0 |\n",
       "| BAS | 2024-12-31 22:00:00 | 2024 | 12 | 31 | 22 | Tue | Weekday | Winter | RAD   |     0.0 |\n",
       "| BAS | 2024-12-31 22:00:00 | 2024 | 12 | 31 | 22 | Tue | Weekday | Winter | SO2   |     1.4 |\n",
       "| BAS | 2024-12-31 22:00:00 | 2024 | 12 | 31 | 22 | Tue | Weekday | Winter | PM2.5 |    36.3 |\n",
       "| BAS | 2024-12-31 22:00:00 | 2024 | 12 | 31 | 22 | Tue | Weekday | Winter | EC    |     1.2 |\n",
       "| BAS | 2024-12-31 22:00:00 | 2024 | 12 | 31 | 22 | Tue | Weekday | Winter | CPC   | 16183.8 |\n",
       "| BAS | 2024-12-31 23:00:00 | 2024 | 12 | 31 | 23 | Tue | Weekday | Winter | O3    |     3.0 |\n",
       "| BAS | 2024-12-31 23:00:00 | 2024 | 12 | 31 | 23 | Tue | Weekday | Winter | NO2   |    34.2 |\n",
       "| BAS | 2024-12-31 23:00:00 | 2024 | 12 | 31 | 23 | Tue | Weekday | Winter | PM10  |    38.7 |\n",
       "| BAS | 2024-12-31 23:00:00 | 2024 | 12 | 31 | 23 | Tue | Weekday | Winter | NOX   |    42.5 |\n",
       "| BAS | 2024-12-31 23:00:00 | 2024 | 12 | 31 | 23 | Tue | Weekday | Winter | TEMP  |    -2.1 |\n",
       "| BAS | 2024-12-31 23:00:00 | 2024 | 12 | 31 | 23 | Tue | Weekday | Winter | PREC  |     0.0 |\n",
       "| BAS | 2024-12-31 23:00:00 | 2024 | 12 | 31 | 23 | Tue | Weekday | Winter | RAD   |     0.0 |\n",
       "| BAS | 2024-12-31 23:00:00 | 2024 | 12 | 31 | 23 | Tue | Weekday | Winter | SO2   |     1.3 |\n",
       "| BAS | 2024-12-31 23:00:00 | 2024 | 12 | 31 | 23 | Tue | Weekday | Winter | PM2.5 |    38.8 |\n",
       "| BAS | 2024-12-31 23:00:00 | 2024 | 12 | 31 | 23 | Tue | Weekday | Winter | EC    |     1.1 |\n",
       "| BAS | 2024-12-31 23:00:00 | 2024 | 12 | 31 | 23 | Tue | Weekday | Winter | CPC   | 15483.7 |\n",
       "\n"
      ],
      "text/plain": [
       "       site datetime            year month day hour dayofwk daytype season\n",
       "1      DAV  2024-01-01 00:00:00 2024 1     1   0    Mon     Weekday Winter\n",
       "2      DAV  2024-01-01 00:00:00 2024 1     1   0    Mon     Weekday Winter\n",
       "3      DAV  2024-01-01 00:00:00 2024 1     1   0    Mon     Weekday Winter\n",
       "4      DAV  2024-01-01 00:00:00 2024 1     1   0    Mon     Weekday Winter\n",
       "5      DAV  2024-01-01 00:00:00 2024 1     1   0    Mon     Weekday Winter\n",
       "6      DAV  2024-01-01 00:00:00 2024 1     1   0    Mon     Weekday Winter\n",
       "7      DAV  2024-01-01 00:00:00 2024 1     1   0    Mon     Weekday Winter\n",
       "8      DAV  2024-01-01 00:00:00 2024 1     1   0    Mon     Weekday Winter\n",
       "9      DAV  2024-01-01 00:00:00 2024 1     1   0    Mon     Weekday Winter\n",
       "10     DAV  2024-01-01 00:00:00 2024 1     1   0    Mon     Weekday Winter\n",
       "11     DAV  2024-01-01 00:00:00 2024 1     1   0    Mon     Weekday Winter\n",
       "12     DAV  2024-01-01 01:00:00 2024 1     1   1    Mon     Weekday Winter\n",
       "13     DAV  2024-01-01 01:00:00 2024 1     1   1    Mon     Weekday Winter\n",
       "14     DAV  2024-01-01 01:00:00 2024 1     1   1    Mon     Weekday Winter\n",
       "15     DAV  2024-01-01 01:00:00 2024 1     1   1    Mon     Weekday Winter\n",
       "16     DAV  2024-01-01 01:00:00 2024 1     1   1    Mon     Weekday Winter\n",
       "17     DAV  2024-01-01 01:00:00 2024 1     1   1    Mon     Weekday Winter\n",
       "18     DAV  2024-01-01 01:00:00 2024 1     1   1    Mon     Weekday Winter\n",
       "19     DAV  2024-01-01 01:00:00 2024 1     1   1    Mon     Weekday Winter\n",
       "20     DAV  2024-01-01 01:00:00 2024 1     1   1    Mon     Weekday Winter\n",
       "21     DAV  2024-01-01 01:00:00 2024 1     1   1    Mon     Weekday Winter\n",
       "22     DAV  2024-01-01 01:00:00 2024 1     1   1    Mon     Weekday Winter\n",
       "23     DAV  2024-01-01 02:00:00 2024 1     1   2    Mon     Weekday Winter\n",
       "24     DAV  2024-01-01 02:00:00 2024 1     1   2    Mon     Weekday Winter\n",
       "25     DAV  2024-01-01 02:00:00 2024 1     1   2    Mon     Weekday Winter\n",
       "26     DAV  2024-01-01 02:00:00 2024 1     1   2    Mon     Weekday Winter\n",
       "27     DAV  2024-01-01 02:00:00 2024 1     1   2    Mon     Weekday Winter\n",
       "28     DAV  2024-01-01 02:00:00 2024 1     1   2    Mon     Weekday Winter\n",
       "29     DAV  2024-01-01 02:00:00 2024 1     1   2    Mon     Weekday Winter\n",
       "30     DAV  2024-01-01 02:00:00 2024 1     1   2    Mon     Weekday Winter\n",
       "...    ...  ...                 ...  ...   ... ...  ...     ...     ...   \n",
       "193219 BAS  2024-12-31 21:00:00 2024 12    31  21   Tue     Weekday Winter\n",
       "193220 BAS  2024-12-31 21:00:00 2024 12    31  21   Tue     Weekday Winter\n",
       "193221 BAS  2024-12-31 21:00:00 2024 12    31  21   Tue     Weekday Winter\n",
       "193222 BAS  2024-12-31 21:00:00 2024 12    31  21   Tue     Weekday Winter\n",
       "193223 BAS  2024-12-31 21:00:00 2024 12    31  21   Tue     Weekday Winter\n",
       "193224 BAS  2024-12-31 21:00:00 2024 12    31  21   Tue     Weekday Winter\n",
       "193225 BAS  2024-12-31 21:00:00 2024 12    31  21   Tue     Weekday Winter\n",
       "193226 BAS  2024-12-31 21:00:00 2024 12    31  21   Tue     Weekday Winter\n",
       "193227 BAS  2024-12-31 22:00:00 2024 12    31  22   Tue     Weekday Winter\n",
       "193228 BAS  2024-12-31 22:00:00 2024 12    31  22   Tue     Weekday Winter\n",
       "193229 BAS  2024-12-31 22:00:00 2024 12    31  22   Tue     Weekday Winter\n",
       "193230 BAS  2024-12-31 22:00:00 2024 12    31  22   Tue     Weekday Winter\n",
       "193231 BAS  2024-12-31 22:00:00 2024 12    31  22   Tue     Weekday Winter\n",
       "193232 BAS  2024-12-31 22:00:00 2024 12    31  22   Tue     Weekday Winter\n",
       "193233 BAS  2024-12-31 22:00:00 2024 12    31  22   Tue     Weekday Winter\n",
       "193234 BAS  2024-12-31 22:00:00 2024 12    31  22   Tue     Weekday Winter\n",
       "193235 BAS  2024-12-31 22:00:00 2024 12    31  22   Tue     Weekday Winter\n",
       "193236 BAS  2024-12-31 22:00:00 2024 12    31  22   Tue     Weekday Winter\n",
       "193237 BAS  2024-12-31 22:00:00 2024 12    31  22   Tue     Weekday Winter\n",
       "193238 BAS  2024-12-31 23:00:00 2024 12    31  23   Tue     Weekday Winter\n",
       "193239 BAS  2024-12-31 23:00:00 2024 12    31  23   Tue     Weekday Winter\n",
       "193240 BAS  2024-12-31 23:00:00 2024 12    31  23   Tue     Weekday Winter\n",
       "193241 BAS  2024-12-31 23:00:00 2024 12    31  23   Tue     Weekday Winter\n",
       "193242 BAS  2024-12-31 23:00:00 2024 12    31  23   Tue     Weekday Winter\n",
       "193243 BAS  2024-12-31 23:00:00 2024 12    31  23   Tue     Weekday Winter\n",
       "193244 BAS  2024-12-31 23:00:00 2024 12    31  23   Tue     Weekday Winter\n",
       "193245 BAS  2024-12-31 23:00:00 2024 12    31  23   Tue     Weekday Winter\n",
       "193246 BAS  2024-12-31 23:00:00 2024 12    31  23   Tue     Weekday Winter\n",
       "193247 BAS  2024-12-31 23:00:00 2024 12    31  23   Tue     Weekday Winter\n",
       "193248 BAS  2024-12-31 23:00:00 2024 12    31  23   Tue     Weekday Winter\n",
       "       variable value  \n",
       "1      O3       57.7   \n",
       "2      NO2       1.9   \n",
       "3      PM10      1.2   \n",
       "4      NOX       1.9   \n",
       "5      TEMP     -2.2   \n",
       "6      PREC      0.0   \n",
       "7      RAD      -0.6   \n",
       "8      SO2        NA   \n",
       "9      PM2.5      NA   \n",
       "10     EC         NA   \n",
       "11     CPC        NA   \n",
       "12     O3       55.2   \n",
       "13     NO2       2.1   \n",
       "14     PM10      1.5   \n",
       "15     NOX       2.1   \n",
       "16     TEMP     -2.8   \n",
       "17     PREC      0.0   \n",
       "18     RAD      -0.7   \n",
       "19     SO2        NA   \n",
       "20     PM2.5      NA   \n",
       "21     EC         NA   \n",
       "22     CPC        NA   \n",
       "23     O3       49.9   \n",
       "24     NO2       3.7   \n",
       "25     PM10      2.2   \n",
       "26     NOX       3.7   \n",
       "27     TEMP     -3.3   \n",
       "28     PREC      0.0   \n",
       "29     RAD      -0.7   \n",
       "30     SO2        NA   \n",
       "...    ...      ...    \n",
       "193219 NOX         51.6\n",
       "193220 TEMP        -1.4\n",
       "193221 PREC         0.0\n",
       "193222 RAD          0.0\n",
       "193223 SO2          1.1\n",
       "193224 PM2.5       36.1\n",
       "193225 EC           1.2\n",
       "193226 CPC      15172.2\n",
       "193227 O3           2.6\n",
       "193228 NO2         34.3\n",
       "193229 PM10        36.7\n",
       "193230 NOX         48.5\n",
       "193231 TEMP        -1.8\n",
       "193232 PREC         0.0\n",
       "193233 RAD          0.0\n",
       "193234 SO2          1.4\n",
       "193235 PM2.5       36.3\n",
       "193236 EC           1.2\n",
       "193237 CPC      16183.8\n",
       "193238 O3           3.0\n",
       "193239 NO2         34.2\n",
       "193240 PM10        38.7\n",
       "193241 NOX         42.5\n",
       "193242 TEMP        -2.1\n",
       "193243 PREC         0.0\n",
       "193244 RAD          0.0\n",
       "193245 SO2          1.3\n",
       "193246 PM2.5       38.8\n",
       "193247 EC           1.1\n",
       "193248 CPC      15483.7"
      ]
     },
     "metadata": {},
     "output_type": "display_data"
    }
   ],
   "source": [
    "all_data_lf"
   ]
  },
  {
   "cell_type": "code",
   "execution_count": 36,
   "id": "58c34533-cf84-4fd1-9a52-2cd925a67213",
   "metadata": {},
   "outputs": [
    {
     "name": "stderr",
     "output_type": "stream",
     "text": [
      "Warning message:\n",
      "\"\u001b[1m\u001b[22mRemoved 17568 rows containing missing values (`geom_line()`).\"\n"
     ]
    },
    {
     "data": {
      "image/png": "[encoded data removed]",
      "text/plain": [
       "plot without title"
      ]
     },
     "metadata": {
      "image/png": {
       "height": 420,
       "width": 420
      }
     },
     "output_type": "display_data"
    }
   ],
   "source": [
    "  ggplot(all_data_lf)+                                        # `lf` is the data frame\n",
    "  facet_grid(variable~site, scale=\"free_y\")+         # panels created out of these variables\n",
    "  geom_line(aes(datetime, value, color=site))+       # plot `value` vs. `time` as lines\n",
    "  scale_x_datetime(\"2024\", date_labels = \"%b\") +\n",
    "  theme(axis.text.x=element_text(angle=30, hjust=1)) # rotate x-axis labels\n",
    "\n",
    "## geom_line counts the segments and not the actual number of NA values removed"
   ]
  },
  {
   "cell_type": "code",
   "execution_count": 37,
   "id": "cb7bd730-9eb4-45b6-99ce-739fc2c3369e",
   "metadata": {},
   "outputs": [
    {
     "data": {
      "text/html": [
       "36281"
      ],
      "text/latex": [
       "36281"
      ],
      "text/markdown": [
       "36281"
      ],
      "text/plain": [
       "[1] 36281"
      ]
     },
     "metadata": {},
     "output_type": "display_data"
    }
   ],
   "source": [
    "## There are more NA values than segments because we have consecutive Na Values\n",
    "sum(is.na(all_data_lf$value))"
   ]
  },
  {
   "cell_type": "markdown",
   "id": "9e1fb43c-a8e9-406c-ba8c-171e3d566041",
   "metadata": {},
   "source": [
    "## checking data completeness"
   ]
  },
  {
   "cell_type": "code",
   "execution_count": 38,
   "id": "e7227f66-2f70-4d88-84de-df1ec8c5bad3",
   "metadata": {},
   "outputs": [
    {
     "data": {
      "text/html": [
       "<style>\n",
       ".dl-inline {width: auto; margin:0; padding: 0}\n",
       ".dl-inline>dt, .dl-inline>dd {float: none; width: auto; display: inline-block}\n",
       ".dl-inline>dt::after {content: \":\\0020\"; padding-right: .5ex}\n",
       ".dl-inline>dt:not(:first-of-type) {padding-left: .5ex}\n",
       "</style><dl class=dl-inline><dt>datetime</dt><dd>0</dd><dt>O3</dt><dd>18</dd><dt>NO2</dt><dd>22</dd><dt>PM10</dt><dd>98</dd><dt>NOx</dt><dd>22</dd><dt>TEMP</dt><dd>0</dd><dt>PREC</dt><dd>1</dd><dt>RAD</dt><dd>0</dd><dt>month</dt><dd>0</dd><dt>date</dt><dd>0</dd></dl>\n"
      ],
      "text/latex": [
       "\\begin{description*}\n",
       "\\item[datetime] 0\n",
       "\\item[O3] 18\n",
       "\\item[NO2] 22\n",
       "\\item[PM10] 98\n",
       "\\item[NOx] 22\n",
       "\\item[TEMP] 0\n",
       "\\item[PREC] 1\n",
       "\\item[RAD] 0\n",
       "\\item[month] 0\n",
       "\\item[date] 0\n",
       "\\end{description*}\n"
      ],
      "text/markdown": [
       "datetime\n",
       ":   0O3\n",
       ":   18NO2\n",
       ":   22PM10\n",
       ":   98NOx\n",
       ":   22TEMP\n",
       ":   0PREC\n",
       ":   1RAD\n",
       ":   0month\n",
       ":   0date\n",
       ":   0\n",
       "\n"
      ],
      "text/plain": [
       "datetime       O3      NO2     PM10      NOx     TEMP     PREC      RAD \n",
       "       0       18       22       98       22        0        1        0 \n",
       "   month     date \n",
       "       0        0 "
      ]
     },
     "metadata": {},
     "output_type": "display_data"
    }
   ],
   "source": [
    "colSums(is.na(DAVOS_data))"
   ]
  },
  {
   "cell_type": "code",
   "execution_count": 39,
   "id": "f8c205c8-099e-42a5-bbaf-723230dc7733",
   "metadata": {},
   "outputs": [
    {
     "ename": "ERROR",
     "evalue": "Error in is.data.frame(x): objet 'BASEL_data' introuvable\n",
     "output_type": "error",
     "traceback": [
      "Error in is.data.frame(x): objet 'BASEL_data' introuvable\nTraceback:\n",
      "1. colSums(is.na(BASEL_data))",
      "2. is.data.frame(x)"
     ]
    }
   ],
   "source": [
    "colSums(is.na(BASEL_data))"
   ]
  },
  {
   "cell_type": "code",
   "execution_count": 40,
   "id": "d0467266-f1d7-4562-83ab-4f320e04bccd",
   "metadata": {},
   "outputs": [
    {
     "data": {
      "text/html": [
       "<style>\n",
       ".dl-inline {width: auto; margin:0; padding: 0}\n",
       ".dl-inline>dt, .dl-inline>dd {float: none; width: auto; display: inline-block}\n",
       ".dl-inline>dt::after {content: \":\\0020\"; padding-right: .5ex}\n",
       ".dl-inline>dt:not(:first-of-type) {padding-left: .5ex}\n",
       "</style><dl class=dl-inline><dt>site</dt><dd>0</dd><dt>datetime</dt><dd>0</dd><dt>year</dt><dd>0</dd><dt>month</dt><dd>0</dd><dt>day</dt><dd>0</dd><dt>hour</dt><dd>0</dd><dt>dayofwk</dt><dd>0</dd><dt>daytype</dt><dd>0</dd><dt>season</dt><dd>0</dd><dt>O3</dt><dd>85</dd><dt>NO2</dt><dd>96</dd><dt>PM10</dt><dd>211</dd><dt>NOX</dt><dd>96</dd><dt>TEMP</dt><dd>0</dd><dt>PREC</dt><dd>73</dd><dt>RAD</dt><dd>0</dd><dt>SO2</dt><dd>8852</dd><dt>PM2.5</dt><dd>9065</dd><dt>EC</dt><dd>8832</dd><dt>CPC</dt><dd>8971</dd></dl>\n"
      ],
      "text/latex": [
       "\\begin{description*}\n",
       "\\item[site] 0\n",
       "\\item[datetime] 0\n",
       "\\item[year] 0\n",
       "\\item[month] 0\n",
       "\\item[day] 0\n",
       "\\item[hour] 0\n",
       "\\item[dayofwk] 0\n",
       "\\item[daytype] 0\n",
       "\\item[season] 0\n",
       "\\item[O3] 85\n",
       "\\item[NO2] 96\n",
       "\\item[PM10] 211\n",
       "\\item[NOX] 96\n",
       "\\item[TEMP] 0\n",
       "\\item[PREC] 73\n",
       "\\item[RAD] 0\n",
       "\\item[SO2] 8852\n",
       "\\item[PM2.5] 9065\n",
       "\\item[EC] 8832\n",
       "\\item[CPC] 8971\n",
       "\\end{description*}\n"
      ],
      "text/markdown": [
       "site\n",
       ":   0datetime\n",
       ":   0year\n",
       ":   0month\n",
       ":   0day\n",
       ":   0hour\n",
       ":   0dayofwk\n",
       ":   0daytype\n",
       ":   0season\n",
       ":   0O3\n",
       ":   85NO2\n",
       ":   96PM10\n",
       ":   211NOX\n",
       ":   96TEMP\n",
       ":   0PREC\n",
       ":   73RAD\n",
       ":   0SO2\n",
       ":   8852PM2.5\n",
       ":   9065EC\n",
       ":   8832CPC\n",
       ":   8971\n",
       "\n"
      ],
      "text/plain": [
       "    site datetime     year    month      day     hour  dayofwk  daytype \n",
       "       0        0        0        0        0        0        0        0 \n",
       "  season       O3      NO2     PM10      NOX     TEMP     PREC      RAD \n",
       "       0       85       96      211       96        0       73        0 \n",
       "     SO2    PM2.5       EC      CPC \n",
       "    8852     9065     8832     8971 "
      ]
     },
     "metadata": {},
     "output_type": "display_data"
    }
   ],
   "source": [
    "colSums(is.na(all_data_df))"
   ]
  },
  {
   "cell_type": "code",
   "execution_count": 41,
   "id": "2703f316-2221-4157-ba4c-3356689f7e50",
   "metadata": {},
   "outputs": [
    {
     "name": "stderr",
     "output_type": "stream",
     "text": [
      "Warning message:\n",
      "\"\u001b[1m\u001b[22mRemoved 36281 rows containing non-finite values (`stat_boxplot()`).\"\n"
     ]
    },
    {
     "data": {
      "image/png": "[encoded data removed]",
      "text/plain": [
       "plot without title"
      ]
     },
     "metadata": {
      "image/png": {
       "height": 420,
       "width": 420
      }
     },
     "output_type": "display_data"
    }
   ],
   "source": [
    "all_data_lf %>% \n",
    "  mutate(month = factor(month)) %>%\n",
    "  ggplot +\n",
    "  facet_grid(variable ~ site, scale = \"free_y\") +\n",
    "  geom_boxplot(aes(month, value), outlier.size = 0.5, outlier.shape = 3)"
   ]
  },
  {
   "cell_type": "code",
   "execution_count": 42,
   "id": "434cad2e-03d6-4e5b-8698-d67b1ccf57ec",
   "metadata": {},
   "outputs": [
    {
     "data": {
      "image/png": "[encoded data removed]",
      "text/plain": [
       "plot without title"
      ]
     },
     "metadata": {
      "image/png": {
       "height": 420,
       "width": 420
      }
     },
     "output_type": "display_data"
    }
   ],
   "source": [
    "# DAVOS \n",
    "all_data_lf %>%\n",
    "  filter(site==\"DAV\" & !is.na(value) & !is.na(season)) %>%\n",
    "  ggplot +\n",
    "  facet_grid(variable ~ season, scale = \"free_y\") +\n",
    "  geom_boxplot(aes(daytype, value), outlier.size = 0.5, outlier.shape = 3)"
   ]
  },
  {
   "cell_type": "code",
   "execution_count": 43,
   "id": "f58cd8bc-fd73-4aec-bc54-d505a5a02983",
   "metadata": {},
   "outputs": [
    {
     "data": {
      "image/png": "[encoded data removed]",
      "text/plain": [
       "plot without title"
      ]
     },
     "metadata": {
      "image/png": {
       "height": 420,
       "width": 420
      }
     },
     "output_type": "display_data"
    }
   ],
   "source": [
    "# BASEL\n",
    "all_data_lf %>%\n",
    "  filter(site == \"BAS\" & !is.na(value) & !is.na(season)) %>%\n",
    "  ggplot +\n",
    "  facet_grid(variable ~ season, scale = \"free_y\") +\n",
    "  geom_boxplot(aes(daytype, value), outlier.size = 0.5, outlier.shape = 3)"
   ]
  },
  {
   "cell_type": "code",
   "execution_count": 44,
   "id": "b0bc9b91-bff2-4062-ba8c-0da00352e51e",
   "metadata": {},
   "outputs": [
    {
     "data": {
      "image/png": "[encoded data removed]",
      "text/plain": [
       "plot without title"
      ]
     },
     "metadata": {
      "image/png": {
       "height": 420,
       "width": 420
      }
     },
     "output_type": "display_data"
    }
   ],
   "source": [
    "#DAVOS\n",
    "all_data_lf %>%\n",
    "  filter(site==\"DAV\" & !is.na(value) & variable==\"PREC\" & !is.na(season)) %>%\n",
    "  ggplot +\n",
    "  facet_grid(variable ~ season, scale = \"free_y\") +\n",
    "  geom_bar(aes(daytype, value), stat=\"summary\", fun=\"mean\", show.legend = FALSE) +\n",
    "  scale_y_continuous(\"Daily mean precipitation (mm)\", expand=expansion(mult=c(0, 0.1)))"
   ]
  },
  {
   "cell_type": "code",
   "execution_count": 45,
   "id": "35e0cd7f-eea8-45c7-8969-1f6f13547d9e",
   "metadata": {},
   "outputs": [
    {
     "data": {
      "image/png": "[encoded data removed]",
      "text/plain": [
       "plot without title"
      ]
     },
     "metadata": {
      "image/png": {
       "height": 420,
       "width": 420
      }
     },
     "output_type": "display_data"
    }
   ],
   "source": [
    "#DAVOS\n",
    "all_data_lf %>%\n",
    "  filter(site==\"DAV\" & !is.na(value) & variable==\"PREC\" & !is.na(season)) %>%\n",
    "  ggplot +\n",
    "  facet_grid(variable ~ season, scale = \"free_y\") +\n",
    "  geom_bar(aes(daytype, value), stat=\"summary\", fun=\"mean\", show.legend = FALSE) +\n",
    "  scale_y_continuous(\"Daily mean precipitation (mm)\", expand=expansion(mult=c(0, 0.1)))"
   ]
  },
  {
   "cell_type": "code",
   "execution_count": 46,
   "id": "d77c7321-9869-4d89-a385-3f11cedd16db",
   "metadata": {},
   "outputs": [
    {
     "data": {
      "image/png": "[encoded data removed]",
      "text/plain": [
       "plot without title"
      ]
     },
     "metadata": {
      "image/png": {
       "height": 420,
       "width": 420
      }
     },
     "output_type": "display_data"
    }
   ],
   "source": [
    "# BASEL\n",
    "all_data_lf %>%\n",
    "  filter(site==\"BAS\" & !is.na(value) & variable==\"PREC\" & !is.na(season)) %>%\n",
    "  ggplot +\n",
    "  facet_grid(variable ~ season, scale = \"free_y\") +\n",
    "  geom_bar(aes(daytype, value), stat=\"summary\", fun=\"mean\", show.legend = FALSE) +\n",
    "  scale_y_continuous(\"Daily mean precipitation (mm)\", expand=expansion(mult=c(0, 0.1)))"
   ]
  },
  {
   "cell_type": "markdown",
   "id": "c8522980-132c-442c-a75e-b1a49c069f10",
   "metadata": {},
   "source": [
    "## Diurnal variations"
   ]
  },
  {
   "cell_type": "code",
   "execution_count": 47,
   "id": "01fbb3d6-f099-4365-a41d-3661c442ec1e",
   "metadata": {},
   "outputs": [],
   "source": [
    "Percentile <- function(perc) function(x) \n",
    "  ## `perc` is the percentile which should be computed for the numeric vector `x`\n",
    "  quantile(x, perc*1e-2, na.rm=TRUE)"
   ]
  },
  {
   "cell_type": "code",
   "execution_count": 48,
   "id": "42b579f9-6870-4227-8a36-8e10d22db558",
   "metadata": {},
   "outputs": [
    {
     "data": {
      "image/png": "[encoded data removed]",
      "text/plain": [
       "plot without title"
      ]
     },
     "metadata": {
      "image/png": {
       "height": 420,
       "width": 420
      }
     },
     "output_type": "display_data"
    }
   ],
   "source": [
    "all_data_lf %>%\n",
    "  filter(site==\"DAV\" & !is.na(value) & !is.na(season)) %>%\n",
    "  ggplot(aes(x=hour, y=value, group=daytype, color=daytype)) +\n",
    "  facet_grid(variable ~ season, scale = \"free_y\", drop=TRUE) +\n",
    "  geom_line(stat=\"summary\", fun=\"median\")+\n",
    "  geom_errorbar(stat=\"summary\",\n",
    "                fun.min=Percentile(25),\n",
    "                fun.max=Percentile(75))+\n",
    "  ggtitle(\"DAVOS\")"
   ]
  },
  {
   "cell_type": "code",
   "execution_count": 41,
   "id": "f29ae628-9411-4f98-ab8b-7440b67e4196",
   "metadata": {},
   "outputs": [
    {
     "data": {
      "image/png": "[encoded data removed]",
      "text/plain": [
       "plot without title"
      ]
     },
     "metadata": {
      "image/png": {
       "height": 420,
       "width": 420
      }
     },
     "output_type": "display_data"
    }
   ],
   "source": [
    "all_data_lf %>%\n",
    "  filter(site==\"BAS\" & !is.na(value) & !is.na(season)) %>%\n",
    "  ggplot(aes(x=hour, y=value, group=daytype, color=daytype)) +\n",
    "  facet_grid(variable ~ season, scale = \"free_y\", drop=TRUE) +\n",
    "  geom_line(stat=\"summary\", fun=\"median\")+\n",
    "  geom_errorbar(stat=\"summary\",\n",
    "                fun.min=Percentile(25),\n",
    "                fun.max=Percentile(75))+\n",
    "  ggtitle(\"BASEL\")"
   ]
  },
  {
   "cell_type": "code",
   "execution_count": 42,
   "id": "bbc80905-dfee-4c70-a93f-70b112d10f23",
   "metadata": {},
   "outputs": [
    {
     "name": "stderr",
     "output_type": "stream",
     "text": [
      "Warning message:\n",
      "\"\u001b[1m\u001b[22mRemoved 85 rows containing non-finite values (`stat_summary()`).\"\n",
      "Warning message:\n",
      "\"\u001b[1m\u001b[22mRemoved 85 rows containing non-finite values (`stat_summary()`).\"\n"
     ]
    },
    {
     "data": {
      "image/png": "[encoded data removed]",
      "text/plain": [
       "plot without title"
      ]
     },
     "metadata": {
      "image/png": {
       "height": 420,
       "width": 420
      }
     },
     "output_type": "display_data"
    }
   ],
   "source": [
    "all_data_lf %>%\n",
    "  filter(variable==\"O3\" & !is.na(season)) %>%\n",
    "  ggplot(aes(x=hour, y=value, group=daytype, color=daytype)) +\n",
    "  facet_grid(site ~ season, drop=TRUE) +\n",
    "  geom_line(stat=\"summary\", fun=\"median\")+\n",
    "  geom_errorbar(stat=\"summary\",\n",
    "                fun.min=Percentile(25),\n",
    "                fun.max=Percentile(75))+\n",
    "  ggtitle(\"O3\")"
   ]
  },
  {
   "cell_type": "code",
   "execution_count": 46,
   "id": "fd4cb593-7e3e-4b1f-bf8b-6a0ffc782e91",
   "metadata": {},
   "outputs": [
    {
     "name": "stderr",
     "output_type": "stream",
     "text": [
      "Warning message:\n",
      "\"\u001b[1m\u001b[22mRemoved 85 rows containing non-finite values (`stat_summary()`).\"\n",
      "Warning message:\n",
      "\"\u001b[1m\u001b[22mRemoved 85 rows containing non-finite values (`stat_summary()`).\"\n"
     ]
    },
    {
     "data": {
      "image/png": "[encoded data removed]",
      "text/plain": [
       "plot without title"
      ]
     },
     "metadata": {
      "image/png": {
       "height": 420,
       "width": 420
      }
     },
     "output_type": "display_data"
    }
   ],
   "source": [
    "all_data_lf %>%\n",
    "  filter(variable==\"O3\"& !is.na(season)) %>%\n",
    "  ggplot(aes(x=hour, y=value, group=site, color=site)) +\n",
    "  facet_grid(season ~ dayofwk, drop=TRUE) +\n",
    "  geom_line(stat=\"summary\", fun=\"median\")+\n",
    "  geom_errorbar(stat=\"summary\",\n",
    "                fun.min=Percentile(25),\n",
    "                fun.max=Percentile(75))+\n",
    "  ggtitle(\"O3\")"
   ]
  },
  {
   "cell_type": "code",
   "execution_count": 44,
   "id": "05932952-0af6-4b68-b351-b0fe786f1d6f",
   "metadata": {},
   "outputs": [],
   "source": [
    "Ox_lf <- all_data_lf %>% \n",
    "  filter(variable %in% c(\"O3\", \"NO2\") & season==\"Summer\") %>%\n",
    "  pivot_wider(names_from = variable, values_from = value) %>%\n",
    "  mutate(Ox = O3 + NO2) %>%\n",
    "  select(-NO2) %>%\n",
    "  gather(variable, value, c(O3, Ox))"
   ]
  },
  {
   "cell_type": "code",
   "execution_count": 45,
   "id": "fc86e48f-daf6-486c-b831-9d801f691ba3",
   "metadata": {},
   "outputs": [
    {
     "name": "stderr",
     "output_type": "stream",
     "text": [
      "Warning message:\n",
      "\"\u001b[1m\u001b[22mRemoved 27 rows containing non-finite values (`stat_summary()`).\"\n",
      "Warning message:\n",
      "\"\u001b[1m\u001b[22mRemoved 27 rows containing non-finite values (`stat_summary()`).\"\n"
     ]
    },
    {
     "data": {
      "image/png": "[encoded data removed]",
      "text/plain": [
       "plot without title"
      ]
     },
     "metadata": {
      "image/png": {
       "height": 420,
       "width": 420
      }
     },
     "output_type": "display_data"
    }
   ],
   "source": [
    "Ox_lf %>%\n",
    "  ggplot(aes(x=hour, y=value, group=variable, color=variable)) +\n",
    "  facet_grid(site ~ daytype, drop=TRUE) +\n",
    "  geom_line(stat=\"summary\", fun=\"median\")+\n",
    "  geom_errorbar(stat=\"summary\",\n",
    "                fun.min=Percentile(25),\n",
    "                fun.max=Percentile(75))+\n",
    "  ggtitle(\"Summer sum of oxidants\")"
   ]
  },
  {
   "cell_type": "code",
   "execution_count": 45,
   "id": "5d469b59-793d-4cb7-a842-9b57ce5403f7",
   "metadata": {},
   "outputs": [
    {
     "name": "stderr",
     "output_type": "stream",
     "text": [
      "Warning message:\n",
      "\"\u001b[1m\u001b[22mRemoved 17 rows containing non-finite values (`stat_summary()`).\"\n",
      "Warning message:\n",
      "\"\u001b[1m\u001b[22mRemoved 17 rows containing non-finite values (`stat_summary()`).\"\n"
     ]
    },
    {
     "data": {
      "image/png": "[encoded data removed]",
      "text/plain": [
       "plot without title"
      ]
     },
     "metadata": {
      "image/png": {
       "height": 420,
       "width": 420
      }
     },
     "output_type": "display_data"
    }
   ],
   "source": [
    "Ox_lf %>% \n",
    "  pivot_wider(names_from = variable, values_from = value) %>%\n",
    "  mutate(ratio = 1 - O3/Ox) %>%\n",
    "  ggplot(aes(x=hour, y=ratio)) +\n",
    "  facet_grid(site ~ daytype, drop=TRUE) +\n",
    "  geom_line(stat=\"summary\", fun=\"median\")+\n",
    "  geom_errorbar(stat=\"summary\",\n",
    "                fun.min=Percentile(25),\n",
    "                fun.max=Percentile(75)) +\n",
    "  scale_y_continuous(expression(NO[2]/O[x]), limits=c(0, 1))"
   ]
  },
  {
   "cell_type": "markdown",
   "id": "5d8aefef-4f52-4bbb-a956-284d0ceecaa4",
   "metadata": {},
   "source": [
    "# Limit values"
   ]
  },
  {
   "cell_type": "code",
   "execution_count": 46,
   "id": "f4f7f261-a5a5-40b0-8f15-7297201e0126",
   "metadata": {},
   "outputs": [
    {
     "data": {
      "text/html": [
       "TRUE"
      ],
      "text/latex": [
       "TRUE"
      ],
      "text/markdown": [
       "TRUE"
      ],
      "text/plain": [
       "[1] TRUE"
      ]
     },
     "metadata": {},
     "output_type": "display_data"
    },
    {
     "data": {
      "text/html": [
       "<table class=\"dataframe\">\n",
       "<caption>A data.frame: 6 × 4</caption>\n",
       "<thead>\n",
       "\t<tr><th></th><th scope=col>Pollutants</th><th scope=col>Annual.mean.[ug/m3]</th><th scope=col>24h.mean.[ug/m3]</th><th scope=col>Hourly.mean.[ug/m3]</th></tr>\n",
       "\t<tr><th></th><th scope=col>&lt;chr&gt;</th><th scope=col>&lt;dbl&gt;</th><th scope=col>&lt;dbl&gt;</th><th scope=col>&lt;dbl&gt;</th></tr>\n",
       "</thead>\n",
       "<tbody>\n",
       "\t<tr><th scope=row>1</th><td>O3   </td><td>NA</td><td> NA</td><td>120</td></tr>\n",
       "\t<tr><th scope=row>2</th><td>NO2  </td><td>30</td><td> 80</td><td> NA</td></tr>\n",
       "\t<tr><th scope=row>3</th><td>PM10 </td><td>20</td><td> 50</td><td> NA</td></tr>\n",
       "\t<tr><th scope=row>4</th><td>PM2,5</td><td>10</td><td> NA</td><td> NA</td></tr>\n",
       "\t<tr><th scope=row>5</th><td>SO2  </td><td>30</td><td>100</td><td> NA</td></tr>\n",
       "\t<tr><th scope=row>6</th><td>CO   </td><td>NA</td><td>  8</td><td> NA</td></tr>\n",
       "</tbody>\n",
       "</table>\n"
      ],
      "text/latex": [
       "A data.frame: 6 × 4\n",
       "\\begin{tabular}{r|llll}\n",
       "  & Pollutants & Annual.mean.{[}ug/m3{]} & 24h.mean.{[}ug/m3{]} & Hourly.mean.{[}ug/m3{]}\\\\\n",
       "  & <chr> & <dbl> & <dbl> & <dbl>\\\\\n",
       "\\hline\n",
       "\t1 & O3    & NA &  NA & 120\\\\\n",
       "\t2 & NO2   & 30 &  80 &  NA\\\\\n",
       "\t3 & PM10  & 20 &  50 &  NA\\\\\n",
       "\t4 & PM2,5 & 10 &  NA &  NA\\\\\n",
       "\t5 & SO2   & 30 & 100 &  NA\\\\\n",
       "\t6 & CO    & NA &   8 &  NA\\\\\n",
       "\\end{tabular}\n"
      ],
      "text/markdown": [
       "\n",
       "A data.frame: 6 × 4\n",
       "\n",
       "| <!--/--> | Pollutants &lt;chr&gt; | Annual.mean.[ug/m3] &lt;dbl&gt; | 24h.mean.[ug/m3] &lt;dbl&gt; | Hourly.mean.[ug/m3] &lt;dbl&gt; |\n",
       "|---|---|---|---|---|\n",
       "| 1 | O3    | NA |  NA | 120 |\n",
       "| 2 | NO2   | 30 |  80 |  NA |\n",
       "| 3 | PM10  | 20 |  50 |  NA |\n",
       "| 4 | PM2,5 | 10 |  NA |  NA |\n",
       "| 5 | SO2   | 30 | 100 |  NA |\n",
       "| 6 | CO    | NA |   8 |  NA |\n",
       "\n"
      ],
      "text/plain": [
       "  Pollutants Annual.mean.[ug/m3] 24h.mean.[ug/m3] Hourly.mean.[ug/m3]\n",
       "1 O3         NA                   NA              120                \n",
       "2 NO2        30                   80               NA                \n",
       "3 PM10       20                   50               NA                \n",
       "4 PM2,5      10                   NA               NA                \n",
       "5 SO2        30                  100               NA                \n",
       "6 CO         NA                    8               NA                "
      ]
     },
     "metadata": {},
     "output_type": "display_data"
    }
   ],
   "source": [
    "reg_val <- \"./Data/Regulatory_values.xlsx\"\n",
    "file.exists(reg_val)\n",
    "\n",
    "Regulatory_values <- read.xlsx(reg_val, sheet = 1)\n",
    "Regulatory_values"
   ]
  },
  {
   "cell_type": "code",
   "execution_count": 47,
   "id": "3a4802a4-f4af-42b7-aaa1-d0a8d779f3eb",
   "metadata": {},
   "outputs": [],
   "source": [
    "limits.yearly<- tibble(value=c(30, 20, 10, 30),\n",
    "                       variable=c(\"NO2\",\"PM10\", \"PM2.5\", \"SO2\"))"
   ]
  },
  {
   "cell_type": "code",
   "execution_count": 48,
   "id": "50b3846c-56e7-4d65-b171-f462a95fe433",
   "metadata": {},
   "outputs": [],
   "source": [
    "limits.daily <- tibble(value=c(80, 50, 100),\n",
    "                       variable=c(\"NO2\",\"PM10\", \"SO2\"))"
   ]
  },
  {
   "cell_type": "code",
   "execution_count": 49,
   "id": "f2ca9f92-2a2e-42ca-8637-9aa04b16cdb6",
   "metadata": {},
   "outputs": [],
   "source": [
    "limits.hourly<- tibble(value=c(120),\n",
    "                       variable=c(\"O3\"))"
   ]
  },
  {
   "cell_type": "code",
   "execution_count": 50,
   "id": "99f3d42d-f75c-4d94-af53-81b06501c7df",
   "metadata": {},
   "outputs": [],
   "source": [
    "## Mean threshold definition\n",
    "threshold <- 75"
   ]
  },
  {
   "cell_type": "markdown",
   "id": "31462f35-7005-4177-aa20-14c02ecf22af",
   "metadata": {},
   "source": [
    "## Daily limit values"
   ]
  },
  {
   "cell_type": "code",
   "execution_count": 51,
   "id": "6d24ddd8-519a-4456-bf3b-2994e97e162e",
   "metadata": {},
   "outputs": [],
   "source": [
    "daily_lf <- all_data_lf %>%\n",
    "  filter(variable %in% limits.daily[[\"variable\"]]) %>% # select variables\n",
    "  mutate(date = date(datetime)) %>%                   # get the date value\n",
    "  group_by(site, date, variable) %>%\n",
    "  summarize(percent.recovery_daily = length(na.omit(value))/length(value)*1e2,\n",
    "            value = mean(value, na.rm=TRUE)) %>%\n",
    "  ungroup()                                            # undo grouping for future use"
   ]
  },
  {
   "cell_type": "code",
   "execution_count": 52,
   "id": "5077ac91-36b4-46ed-bb74-fa55725ac1f6",
   "metadata": {
    "scrolled": true
   },
   "outputs": [
    {
     "data": {
      "text/html": [
       "<table class=\"dataframe\">\n",
       "<caption>A tibble: 2196 × 5</caption>\n",
       "<thead>\n",
       "\t<tr><th scope=col>site</th><th scope=col>date</th><th scope=col>variable</th><th scope=col>percent.recovery_daily</th><th scope=col>value</th></tr>\n",
       "\t<tr><th scope=col>&lt;chr&gt;</th><th scope=col>&lt;date&gt;</th><th scope=col>&lt;chr&gt;</th><th scope=col>&lt;dbl&gt;</th><th scope=col>&lt;dbl&gt;</th></tr>\n",
       "</thead>\n",
       "<tbody>\n",
       "\t<tr><td>BAS</td><td>2024-01-01</td><td>NO2 </td><td>100.00000</td><td> 6.7166667</td></tr>\n",
       "\t<tr><td>BAS</td><td>2024-01-01</td><td>PM10</td><td>100.00000</td><td> 7.0083333</td></tr>\n",
       "\t<tr><td>BAS</td><td>2024-01-01</td><td>SO2 </td><td>100.00000</td><td> 0.5291667</td></tr>\n",
       "\t<tr><td>BAS</td><td>2024-01-02</td><td>NO2 </td><td>100.00000</td><td> 5.7750000</td></tr>\n",
       "\t<tr><td>BAS</td><td>2024-01-02</td><td>PM10</td><td>100.00000</td><td> 2.4958333</td></tr>\n",
       "\t<tr><td>BAS</td><td>2024-01-02</td><td>SO2 </td><td>100.00000</td><td> 1.0291667</td></tr>\n",
       "\t<tr><td>BAS</td><td>2024-01-03</td><td>NO2 </td><td>100.00000</td><td> 1.2416667</td></tr>\n",
       "\t<tr><td>BAS</td><td>2024-01-03</td><td>PM10</td><td>100.00000</td><td> 2.8958333</td></tr>\n",
       "\t<tr><td>BAS</td><td>2024-01-03</td><td>SO2 </td><td>100.00000</td><td> 0.1166667</td></tr>\n",
       "\t<tr><td>BAS</td><td>2024-01-04</td><td>NO2 </td><td> 95.83333</td><td> 9.3652174</td></tr>\n",
       "\t<tr><td>BAS</td><td>2024-01-04</td><td>PM10</td><td>100.00000</td><td> 6.7833333</td></tr>\n",
       "\t<tr><td>BAS</td><td>2024-01-04</td><td>SO2 </td><td> 95.83333</td><td> 0.3043478</td></tr>\n",
       "\t<tr><td>BAS</td><td>2024-01-05</td><td>NO2 </td><td>100.00000</td><td>32.8916667</td></tr>\n",
       "\t<tr><td>BAS</td><td>2024-01-05</td><td>PM10</td><td>100.00000</td><td>14.3000000</td></tr>\n",
       "\t<tr><td>BAS</td><td>2024-01-05</td><td>SO2 </td><td>100.00000</td><td> 1.5708333</td></tr>\n",
       "\t<tr><td>BAS</td><td>2024-01-06</td><td>NO2 </td><td>100.00000</td><td> 8.1958333</td></tr>\n",
       "\t<tr><td>BAS</td><td>2024-01-06</td><td>PM10</td><td>100.00000</td><td> 8.6291667</td></tr>\n",
       "\t<tr><td>BAS</td><td>2024-01-06</td><td>SO2 </td><td>100.00000</td><td> 0.2791667</td></tr>\n",
       "\t<tr><td>BAS</td><td>2024-01-07</td><td>NO2 </td><td>100.00000</td><td>12.9583333</td></tr>\n",
       "\t<tr><td>BAS</td><td>2024-01-07</td><td>PM10</td><td>100.00000</td><td> 6.5916667</td></tr>\n",
       "\t<tr><td>BAS</td><td>2024-01-07</td><td>SO2 </td><td>100.00000</td><td> 0.2583333</td></tr>\n",
       "\t<tr><td>BAS</td><td>2024-01-08</td><td>NO2 </td><td>100.00000</td><td>12.2833333</td></tr>\n",
       "\t<tr><td>BAS</td><td>2024-01-08</td><td>PM10</td><td>100.00000</td><td> 8.6708333</td></tr>\n",
       "\t<tr><td>BAS</td><td>2024-01-08</td><td>SO2 </td><td>100.00000</td><td> 0.2375000</td></tr>\n",
       "\t<tr><td>BAS</td><td>2024-01-09</td><td>NO2 </td><td>100.00000</td><td>21.4500000</td></tr>\n",
       "\t<tr><td>BAS</td><td>2024-01-09</td><td>PM10</td><td>100.00000</td><td>20.8000000</td></tr>\n",
       "\t<tr><td>BAS</td><td>2024-01-09</td><td>SO2 </td><td>100.00000</td><td> 0.5083333</td></tr>\n",
       "\t<tr><td>BAS</td><td>2024-01-10</td><td>NO2 </td><td>100.00000</td><td>40.3000000</td></tr>\n",
       "\t<tr><td>BAS</td><td>2024-01-10</td><td>PM10</td><td>100.00000</td><td>36.8875000</td></tr>\n",
       "\t<tr><td>BAS</td><td>2024-01-10</td><td>SO2 </td><td>100.00000</td><td> 0.8000000</td></tr>\n",
       "\t<tr><td>...</td><td>...</td><td>...</td><td>...</td><td>...</td></tr>\n",
       "\t<tr><td>DAV</td><td>2024-12-22</td><td>NO2 </td><td>100</td><td>2.1708333</td></tr>\n",
       "\t<tr><td>DAV</td><td>2024-12-22</td><td>PM10</td><td>100</td><td>1.2333333</td></tr>\n",
       "\t<tr><td>DAV</td><td>2024-12-22</td><td>SO2 </td><td>  0</td><td>      NaN</td></tr>\n",
       "\t<tr><td>DAV</td><td>2024-12-23</td><td>NO2 </td><td>100</td><td>1.6250000</td></tr>\n",
       "\t<tr><td>DAV</td><td>2024-12-23</td><td>PM10</td><td>100</td><td>1.9541667</td></tr>\n",
       "\t<tr><td>DAV</td><td>2024-12-23</td><td>SO2 </td><td>  0</td><td>      NaN</td></tr>\n",
       "\t<tr><td>DAV</td><td>2024-12-24</td><td>NO2 </td><td>100</td><td>1.8875000</td></tr>\n",
       "\t<tr><td>DAV</td><td>2024-12-24</td><td>PM10</td><td>100</td><td>1.8666667</td></tr>\n",
       "\t<tr><td>DAV</td><td>2024-12-24</td><td>SO2 </td><td>  0</td><td>      NaN</td></tr>\n",
       "\t<tr><td>DAV</td><td>2024-12-25</td><td>NO2 </td><td>100</td><td>1.6000000</td></tr>\n",
       "\t<tr><td>DAV</td><td>2024-12-25</td><td>PM10</td><td>100</td><td>0.4833333</td></tr>\n",
       "\t<tr><td>DAV</td><td>2024-12-25</td><td>SO2 </td><td>  0</td><td>      NaN</td></tr>\n",
       "\t<tr><td>DAV</td><td>2024-12-26</td><td>NO2 </td><td>100</td><td>1.5833333</td></tr>\n",
       "\t<tr><td>DAV</td><td>2024-12-26</td><td>PM10</td><td>100</td><td>0.4041667</td></tr>\n",
       "\t<tr><td>DAV</td><td>2024-12-26</td><td>SO2 </td><td>  0</td><td>      NaN</td></tr>\n",
       "\t<tr><td>DAV</td><td>2024-12-27</td><td>NO2 </td><td>100</td><td>1.5625000</td></tr>\n",
       "\t<tr><td>DAV</td><td>2024-12-27</td><td>PM10</td><td>100</td><td>0.3583333</td></tr>\n",
       "\t<tr><td>DAV</td><td>2024-12-27</td><td>SO2 </td><td>  0</td><td>      NaN</td></tr>\n",
       "\t<tr><td>DAV</td><td>2024-12-28</td><td>NO2 </td><td>100</td><td>1.3708333</td></tr>\n",
       "\t<tr><td>DAV</td><td>2024-12-28</td><td>PM10</td><td>100</td><td>0.2458333</td></tr>\n",
       "\t<tr><td>DAV</td><td>2024-12-28</td><td>SO2 </td><td>  0</td><td>      NaN</td></tr>\n",
       "\t<tr><td>DAV</td><td>2024-12-29</td><td>NO2 </td><td>100</td><td>1.1458333</td></tr>\n",
       "\t<tr><td>DAV</td><td>2024-12-29</td><td>PM10</td><td>100</td><td>0.2833333</td></tr>\n",
       "\t<tr><td>DAV</td><td>2024-12-29</td><td>SO2 </td><td>  0</td><td>      NaN</td></tr>\n",
       "\t<tr><td>DAV</td><td>2024-12-30</td><td>NO2 </td><td>100</td><td>1.3166667</td></tr>\n",
       "\t<tr><td>DAV</td><td>2024-12-30</td><td>PM10</td><td>100</td><td>0.4083333</td></tr>\n",
       "\t<tr><td>DAV</td><td>2024-12-30</td><td>SO2 </td><td>  0</td><td>      NaN</td></tr>\n",
       "\t<tr><td>DAV</td><td>2024-12-31</td><td>NO2 </td><td>100</td><td>0.9750000</td></tr>\n",
       "\t<tr><td>DAV</td><td>2024-12-31</td><td>PM10</td><td>100</td><td>0.5333333</td></tr>\n",
       "\t<tr><td>DAV</td><td>2024-12-31</td><td>SO2 </td><td>  0</td><td>      NaN</td></tr>\n",
       "</tbody>\n",
       "</table>\n"
      ],
      "text/latex": [
       "A tibble: 2196 × 5\n",
       "\\begin{tabular}{lllll}\n",
       " site & date & variable & percent.recovery\\_daily & value\\\\\n",
       " <chr> & <date> & <chr> & <dbl> & <dbl>\\\\\n",
       "\\hline\n",
       "\t BAS & 2024-01-01 & NO2  & 100.00000 &  6.7166667\\\\\n",
       "\t BAS & 2024-01-01 & PM10 & 100.00000 &  7.0083333\\\\\n",
       "\t BAS & 2024-01-01 & SO2  & 100.00000 &  0.5291667\\\\\n",
       "\t BAS & 2024-01-02 & NO2  & 100.00000 &  5.7750000\\\\\n",
       "\t BAS & 2024-01-02 & PM10 & 100.00000 &  2.4958333\\\\\n",
       "\t BAS & 2024-01-02 & SO2  & 100.00000 &  1.0291667\\\\\n",
       "\t BAS & 2024-01-03 & NO2  & 100.00000 &  1.2416667\\\\\n",
       "\t BAS & 2024-01-03 & PM10 & 100.00000 &  2.8958333\\\\\n",
       "\t BAS & 2024-01-03 & SO2  & 100.00000 &  0.1166667\\\\\n",
       "\t BAS & 2024-01-04 & NO2  &  95.83333 &  9.3652174\\\\\n",
       "\t BAS & 2024-01-04 & PM10 & 100.00000 &  6.7833333\\\\\n",
       "\t BAS & 2024-01-04 & SO2  &  95.83333 &  0.3043478\\\\\n",
       "\t BAS & 2024-01-05 & NO2  & 100.00000 & 32.8916667\\\\\n",
       "\t BAS & 2024-01-05 & PM10 & 100.00000 & 14.3000000\\\\\n",
       "\t BAS & 2024-01-05 & SO2  & 100.00000 &  1.5708333\\\\\n",
       "\t BAS & 2024-01-06 & NO2  & 100.00000 &  8.1958333\\\\\n",
       "\t BAS & 2024-01-06 & PM10 & 100.00000 &  8.6291667\\\\\n",
       "\t BAS & 2024-01-06 & SO2  & 100.00000 &  0.2791667\\\\\n",
       "\t BAS & 2024-01-07 & NO2  & 100.00000 & 12.9583333\\\\\n",
       "\t BAS & 2024-01-07 & PM10 & 100.00000 &  6.5916667\\\\\n",
       "\t BAS & 2024-01-07 & SO2  & 100.00000 &  0.2583333\\\\\n",
       "\t BAS & 2024-01-08 & NO2  & 100.00000 & 12.2833333\\\\\n",
       "\t BAS & 2024-01-08 & PM10 & 100.00000 &  8.6708333\\\\\n",
       "\t BAS & 2024-01-08 & SO2  & 100.00000 &  0.2375000\\\\\n",
       "\t BAS & 2024-01-09 & NO2  & 100.00000 & 21.4500000\\\\\n",
       "\t BAS & 2024-01-09 & PM10 & 100.00000 & 20.8000000\\\\\n",
       "\t BAS & 2024-01-09 & SO2  & 100.00000 &  0.5083333\\\\\n",
       "\t BAS & 2024-01-10 & NO2  & 100.00000 & 40.3000000\\\\\n",
       "\t BAS & 2024-01-10 & PM10 & 100.00000 & 36.8875000\\\\\n",
       "\t BAS & 2024-01-10 & SO2  & 100.00000 &  0.8000000\\\\\n",
       "\t ... & ... & ... & ... & ...\\\\\n",
       "\t DAV & 2024-12-22 & NO2  & 100 & 2.1708333\\\\\n",
       "\t DAV & 2024-12-22 & PM10 & 100 & 1.2333333\\\\\n",
       "\t DAV & 2024-12-22 & SO2  &   0 &       NaN\\\\\n",
       "\t DAV & 2024-12-23 & NO2  & 100 & 1.6250000\\\\\n",
       "\t DAV & 2024-12-23 & PM10 & 100 & 1.9541667\\\\\n",
       "\t DAV & 2024-12-23 & SO2  &   0 &       NaN\\\\\n",
       "\t DAV & 2024-12-24 & NO2  & 100 & 1.8875000\\\\\n",
       "\t DAV & 2024-12-24 & PM10 & 100 & 1.8666667\\\\\n",
       "\t DAV & 2024-12-24 & SO2  &   0 &       NaN\\\\\n",
       "\t DAV & 2024-12-25 & NO2  & 100 & 1.6000000\\\\\n",
       "\t DAV & 2024-12-25 & PM10 & 100 & 0.4833333\\\\\n",
       "\t DAV & 2024-12-25 & SO2  &   0 &       NaN\\\\\n",
       "\t DAV & 2024-12-26 & NO2  & 100 & 1.5833333\\\\\n",
       "\t DAV & 2024-12-26 & PM10 & 100 & 0.4041667\\\\\n",
       "\t DAV & 2024-12-26 & SO2  &   0 &       NaN\\\\\n",
       "\t DAV & 2024-12-27 & NO2  & 100 & 1.5625000\\\\\n",
       "\t DAV & 2024-12-27 & PM10 & 100 & 0.3583333\\\\\n",
       "\t DAV & 2024-12-27 & SO2  &   0 &       NaN\\\\\n",
       "\t DAV & 2024-12-28 & NO2  & 100 & 1.3708333\\\\\n",
       "\t DAV & 2024-12-28 & PM10 & 100 & 0.2458333\\\\\n",
       "\t DAV & 2024-12-28 & SO2  &   0 &       NaN\\\\\n",
       "\t DAV & 2024-12-29 & NO2  & 100 & 1.1458333\\\\\n",
       "\t DAV & 2024-12-29 & PM10 & 100 & 0.2833333\\\\\n",
       "\t DAV & 2024-12-29 & SO2  &   0 &       NaN\\\\\n",
       "\t DAV & 2024-12-30 & NO2  & 100 & 1.3166667\\\\\n",
       "\t DAV & 2024-12-30 & PM10 & 100 & 0.4083333\\\\\n",
       "\t DAV & 2024-12-30 & SO2  &   0 &       NaN\\\\\n",
       "\t DAV & 2024-12-31 & NO2  & 100 & 0.9750000\\\\\n",
       "\t DAV & 2024-12-31 & PM10 & 100 & 0.5333333\\\\\n",
       "\t DAV & 2024-12-31 & SO2  &   0 &       NaN\\\\\n",
       "\\end{tabular}\n"
      ],
      "text/markdown": [
       "\n",
       "A tibble: 2196 × 5\n",
       "\n",
       "| site &lt;chr&gt; | date &lt;date&gt; | variable &lt;chr&gt; | percent.recovery_daily &lt;dbl&gt; | value &lt;dbl&gt; |\n",
       "|---|---|---|---|---|\n",
       "| BAS | 2024-01-01 | NO2  | 100.00000 |  6.7166667 |\n",
       "| BAS | 2024-01-01 | PM10 | 100.00000 |  7.0083333 |\n",
       "| BAS | 2024-01-01 | SO2  | 100.00000 |  0.5291667 |\n",
       "| BAS | 2024-01-02 | NO2  | 100.00000 |  5.7750000 |\n",
       "| BAS | 2024-01-02 | PM10 | 100.00000 |  2.4958333 |\n",
       "| BAS | 2024-01-02 | SO2  | 100.00000 |  1.0291667 |\n",
       "| BAS | 2024-01-03 | NO2  | 100.00000 |  1.2416667 |\n",
       "| BAS | 2024-01-03 | PM10 | 100.00000 |  2.8958333 |\n",
       "| BAS | 2024-01-03 | SO2  | 100.00000 |  0.1166667 |\n",
       "| BAS | 2024-01-04 | NO2  |  95.83333 |  9.3652174 |\n",
       "| BAS | 2024-01-04 | PM10 | 100.00000 |  6.7833333 |\n",
       "| BAS | 2024-01-04 | SO2  |  95.83333 |  0.3043478 |\n",
       "| BAS | 2024-01-05 | NO2  | 100.00000 | 32.8916667 |\n",
       "| BAS | 2024-01-05 | PM10 | 100.00000 | 14.3000000 |\n",
       "| BAS | 2024-01-05 | SO2  | 100.00000 |  1.5708333 |\n",
       "| BAS | 2024-01-06 | NO2  | 100.00000 |  8.1958333 |\n",
       "| BAS | 2024-01-06 | PM10 | 100.00000 |  8.6291667 |\n",
       "| BAS | 2024-01-06 | SO2  | 100.00000 |  0.2791667 |\n",
       "| BAS | 2024-01-07 | NO2  | 100.00000 | 12.9583333 |\n",
       "| BAS | 2024-01-07 | PM10 | 100.00000 |  6.5916667 |\n",
       "| BAS | 2024-01-07 | SO2  | 100.00000 |  0.2583333 |\n",
       "| BAS | 2024-01-08 | NO2  | 100.00000 | 12.2833333 |\n",
       "| BAS | 2024-01-08 | PM10 | 100.00000 |  8.6708333 |\n",
       "| BAS | 2024-01-08 | SO2  | 100.00000 |  0.2375000 |\n",
       "| BAS | 2024-01-09 | NO2  | 100.00000 | 21.4500000 |\n",
       "| BAS | 2024-01-09 | PM10 | 100.00000 | 20.8000000 |\n",
       "| BAS | 2024-01-09 | SO2  | 100.00000 |  0.5083333 |\n",
       "| BAS | 2024-01-10 | NO2  | 100.00000 | 40.3000000 |\n",
       "| BAS | 2024-01-10 | PM10 | 100.00000 | 36.8875000 |\n",
       "| BAS | 2024-01-10 | SO2  | 100.00000 |  0.8000000 |\n",
       "| ... | ... | ... | ... | ... |\n",
       "| DAV | 2024-12-22 | NO2  | 100 | 2.1708333 |\n",
       "| DAV | 2024-12-22 | PM10 | 100 | 1.2333333 |\n",
       "| DAV | 2024-12-22 | SO2  |   0 |       NaN |\n",
       "| DAV | 2024-12-23 | NO2  | 100 | 1.6250000 |\n",
       "| DAV | 2024-12-23 | PM10 | 100 | 1.9541667 |\n",
       "| DAV | 2024-12-23 | SO2  |   0 |       NaN |\n",
       "| DAV | 2024-12-24 | NO2  | 100 | 1.8875000 |\n",
       "| DAV | 2024-12-24 | PM10 | 100 | 1.8666667 |\n",
       "| DAV | 2024-12-24 | SO2  |   0 |       NaN |\n",
       "| DAV | 2024-12-25 | NO2  | 100 | 1.6000000 |\n",
       "| DAV | 2024-12-25 | PM10 | 100 | 0.4833333 |\n",
       "| DAV | 2024-12-25 | SO2  |   0 |       NaN |\n",
       "| DAV | 2024-12-26 | NO2  | 100 | 1.5833333 |\n",
       "| DAV | 2024-12-26 | PM10 | 100 | 0.4041667 |\n",
       "| DAV | 2024-12-26 | SO2  |   0 |       NaN |\n",
       "| DAV | 2024-12-27 | NO2  | 100 | 1.5625000 |\n",
       "| DAV | 2024-12-27 | PM10 | 100 | 0.3583333 |\n",
       "| DAV | 2024-12-27 | SO2  |   0 |       NaN |\n",
       "| DAV | 2024-12-28 | NO2  | 100 | 1.3708333 |\n",
       "| DAV | 2024-12-28 | PM10 | 100 | 0.2458333 |\n",
       "| DAV | 2024-12-28 | SO2  |   0 |       NaN |\n",
       "| DAV | 2024-12-29 | NO2  | 100 | 1.1458333 |\n",
       "| DAV | 2024-12-29 | PM10 | 100 | 0.2833333 |\n",
       "| DAV | 2024-12-29 | SO2  |   0 |       NaN |\n",
       "| DAV | 2024-12-30 | NO2  | 100 | 1.3166667 |\n",
       "| DAV | 2024-12-30 | PM10 | 100 | 0.4083333 |\n",
       "| DAV | 2024-12-30 | SO2  |   0 |       NaN |\n",
       "| DAV | 2024-12-31 | NO2  | 100 | 0.9750000 |\n",
       "| DAV | 2024-12-31 | PM10 | 100 | 0.5333333 |\n",
       "| DAV | 2024-12-31 | SO2  |   0 |       NaN |\n",
       "\n"
      ],
      "text/plain": [
       "     site date       variable percent.recovery_daily value     \n",
       "1    BAS  2024-01-01 NO2      100.00000               6.7166667\n",
       "2    BAS  2024-01-01 PM10     100.00000               7.0083333\n",
       "3    BAS  2024-01-01 SO2      100.00000               0.5291667\n",
       "4    BAS  2024-01-02 NO2      100.00000               5.7750000\n",
       "5    BAS  2024-01-02 PM10     100.00000               2.4958333\n",
       "6    BAS  2024-01-02 SO2      100.00000               1.0291667\n",
       "7    BAS  2024-01-03 NO2      100.00000               1.2416667\n",
       "8    BAS  2024-01-03 PM10     100.00000               2.8958333\n",
       "9    BAS  2024-01-03 SO2      100.00000               0.1166667\n",
       "10   BAS  2024-01-04 NO2       95.83333               9.3652174\n",
       "11   BAS  2024-01-04 PM10     100.00000               6.7833333\n",
       "12   BAS  2024-01-04 SO2       95.83333               0.3043478\n",
       "13   BAS  2024-01-05 NO2      100.00000              32.8916667\n",
       "14   BAS  2024-01-05 PM10     100.00000              14.3000000\n",
       "15   BAS  2024-01-05 SO2      100.00000               1.5708333\n",
       "16   BAS  2024-01-06 NO2      100.00000               8.1958333\n",
       "17   BAS  2024-01-06 PM10     100.00000               8.6291667\n",
       "18   BAS  2024-01-06 SO2      100.00000               0.2791667\n",
       "19   BAS  2024-01-07 NO2      100.00000              12.9583333\n",
       "20   BAS  2024-01-07 PM10     100.00000               6.5916667\n",
       "21   BAS  2024-01-07 SO2      100.00000               0.2583333\n",
       "22   BAS  2024-01-08 NO2      100.00000              12.2833333\n",
       "23   BAS  2024-01-08 PM10     100.00000               8.6708333\n",
       "24   BAS  2024-01-08 SO2      100.00000               0.2375000\n",
       "25   BAS  2024-01-09 NO2      100.00000              21.4500000\n",
       "26   BAS  2024-01-09 PM10     100.00000              20.8000000\n",
       "27   BAS  2024-01-09 SO2      100.00000               0.5083333\n",
       "28   BAS  2024-01-10 NO2      100.00000              40.3000000\n",
       "29   BAS  2024-01-10 PM10     100.00000              36.8875000\n",
       "30   BAS  2024-01-10 SO2      100.00000               0.8000000\n",
       "...  ...  ...        ...      ...                    ...       \n",
       "2167 DAV  2024-12-22 NO2      100                    2.1708333 \n",
       "2168 DAV  2024-12-22 PM10     100                    1.2333333 \n",
       "2169 DAV  2024-12-22 SO2        0                          NaN \n",
       "2170 DAV  2024-12-23 NO2      100                    1.6250000 \n",
       "2171 DAV  2024-12-23 PM10     100                    1.9541667 \n",
       "2172 DAV  2024-12-23 SO2        0                          NaN \n",
       "2173 DAV  2024-12-24 NO2      100                    1.8875000 \n",
       "2174 DAV  2024-12-24 PM10     100                    1.8666667 \n",
       "2175 DAV  2024-12-24 SO2        0                          NaN \n",
       "2176 DAV  2024-12-25 NO2      100                    1.6000000 \n",
       "2177 DAV  2024-12-25 PM10     100                    0.4833333 \n",
       "2178 DAV  2024-12-25 SO2        0                          NaN \n",
       "2179 DAV  2024-12-26 NO2      100                    1.5833333 \n",
       "2180 DAV  2024-12-26 PM10     100                    0.4041667 \n",
       "2181 DAV  2024-12-26 SO2        0                          NaN \n",
       "2182 DAV  2024-12-27 NO2      100                    1.5625000 \n",
       "2183 DAV  2024-12-27 PM10     100                    0.3583333 \n",
       "2184 DAV  2024-12-27 SO2        0                          NaN \n",
       "2185 DAV  2024-12-28 NO2      100                    1.3708333 \n",
       "2186 DAV  2024-12-28 PM10     100                    0.2458333 \n",
       "2187 DAV  2024-12-28 SO2        0                          NaN \n",
       "2188 DAV  2024-12-29 NO2      100                    1.1458333 \n",
       "2189 DAV  2024-12-29 PM10     100                    0.2833333 \n",
       "2190 DAV  2024-12-29 SO2        0                          NaN \n",
       "2191 DAV  2024-12-30 NO2      100                    1.3166667 \n",
       "2192 DAV  2024-12-30 PM10     100                    0.4083333 \n",
       "2193 DAV  2024-12-30 SO2        0                          NaN \n",
       "2194 DAV  2024-12-31 NO2      100                    0.9750000 \n",
       "2195 DAV  2024-12-31 PM10     100                    0.5333333 \n",
       "2196 DAV  2024-12-31 SO2        0                          NaN "
      ]
     },
     "metadata": {},
     "output_type": "display_data"
    }
   ],
   "source": [
    "daily_lf"
   ]
  },
  {
   "cell_type": "code",
   "execution_count": 53,
   "id": "28b12ea8-8b18-42a6-856b-35d9b56be1a7",
   "metadata": {},
   "outputs": [
    {
     "data": {
      "text/html": [
       "<table class=\"dataframe\">\n",
       "<caption>A tibble: 5 × 3</caption>\n",
       "<thead>\n",
       "\t<tr><th scope=col>site</th><th scope=col>variable</th><th scope=col>n</th></tr>\n",
       "\t<tr><th scope=col>&lt;chr&gt;</th><th scope=col>&lt;chr&gt;</th><th scope=col>&lt;int&gt;</th></tr>\n",
       "</thead>\n",
       "<tbody>\n",
       "\t<tr><td>BAS</td><td>NO2 </td><td>  4</td></tr>\n",
       "\t<tr><td>BAS</td><td>PM10</td><td>  5</td></tr>\n",
       "\t<tr><td>BAS</td><td>SO2 </td><td>  2</td></tr>\n",
       "\t<tr><td>DAV</td><td>PM10</td><td>  4</td></tr>\n",
       "\t<tr><td>DAV</td><td>SO2 </td><td>366</td></tr>\n",
       "</tbody>\n",
       "</table>\n"
      ],
      "text/latex": [
       "A tibble: 5 × 3\n",
       "\\begin{tabular}{lll}\n",
       " site & variable & n\\\\\n",
       " <chr> & <chr> & <int>\\\\\n",
       "\\hline\n",
       "\t BAS & NO2  &   4\\\\\n",
       "\t BAS & PM10 &   5\\\\\n",
       "\t BAS & SO2  &   2\\\\\n",
       "\t DAV & PM10 &   4\\\\\n",
       "\t DAV & SO2  & 366\\\\\n",
       "\\end{tabular}\n"
      ],
      "text/markdown": [
       "\n",
       "A tibble: 5 × 3\n",
       "\n",
       "| site &lt;chr&gt; | variable &lt;chr&gt; | n &lt;int&gt; |\n",
       "|---|---|---|\n",
       "| BAS | NO2  |   4 |\n",
       "| BAS | PM10 |   5 |\n",
       "| BAS | SO2  |   2 |\n",
       "| DAV | PM10 |   4 |\n",
       "| DAV | SO2  | 366 |\n",
       "\n"
      ],
      "text/plain": [
       "  site variable n  \n",
       "1 BAS  NO2        4\n",
       "2 BAS  PM10       5\n",
       "3 BAS  SO2        2\n",
       "4 DAV  PM10       4\n",
       "5 DAV  SO2      366"
      ]
     },
     "metadata": {},
     "output_type": "display_data"
    }
   ],
   "source": [
    "# looking at the data that has less than 75% of valid datapoionts\n",
    "daily_lf %>%\n",
    "  filter(percent.recovery_daily < threshold) %>%\n",
    "  count(site, variable)"
   ]
  },
  {
   "cell_type": "code",
   "execution_count": 54,
   "id": "0a114fc7-734d-45af-9791-8974d3294785",
   "metadata": {},
   "outputs": [
    {
     "data": {
      "text/html": [
       "<table class=\"dataframe\">\n",
       "<caption>A tibble: 9 × 5</caption>\n",
       "<thead>\n",
       "\t<tr><th scope=col>site</th><th scope=col>date</th><th scope=col>variable</th><th scope=col>percent.recovery_daily</th><th scope=col>value</th></tr>\n",
       "\t<tr><th scope=col>&lt;chr&gt;</th><th scope=col>&lt;date&gt;</th><th scope=col>&lt;chr&gt;</th><th scope=col>&lt;dbl&gt;</th><th scope=col>&lt;dbl&gt;</th></tr>\n",
       "</thead>\n",
       "<tbody>\n",
       "\t<tr><td>BAS</td><td>2024-10-14</td><td>PM10</td><td> 0.00000</td><td>     NaN</td></tr>\n",
       "\t<tr><td>BAS</td><td>2024-10-21</td><td>PM10</td><td> 0.00000</td><td>     NaN</td></tr>\n",
       "\t<tr><td>BAS</td><td>2024-10-31</td><td>PM10</td><td> 0.00000</td><td>     NaN</td></tr>\n",
       "\t<tr><td>BAS</td><td>2024-12-01</td><td>PM10</td><td>58.33333</td><td>14.64286</td></tr>\n",
       "\t<tr><td>BAS</td><td>2024-12-29</td><td>PM10</td><td>50.00000</td><td>16.20000</td></tr>\n",
       "\t<tr><td>DAV</td><td>2024-10-01</td><td>PM10</td><td> 0.00000</td><td>     NaN</td></tr>\n",
       "\t<tr><td>DAV</td><td>2024-10-14</td><td>PM10</td><td> 0.00000</td><td>     NaN</td></tr>\n",
       "\t<tr><td>DAV</td><td>2024-10-21</td><td>PM10</td><td> 0.00000</td><td>     NaN</td></tr>\n",
       "\t<tr><td>DAV</td><td>2024-10-31</td><td>PM10</td><td> 0.00000</td><td>     NaN</td></tr>\n",
       "</tbody>\n",
       "</table>\n"
      ],
      "text/latex": [
       "A tibble: 9 × 5\n",
       "\\begin{tabular}{lllll}\n",
       " site & date & variable & percent.recovery\\_daily & value\\\\\n",
       " <chr> & <date> & <chr> & <dbl> & <dbl>\\\\\n",
       "\\hline\n",
       "\t BAS & 2024-10-14 & PM10 &  0.00000 &      NaN\\\\\n",
       "\t BAS & 2024-10-21 & PM10 &  0.00000 &      NaN\\\\\n",
       "\t BAS & 2024-10-31 & PM10 &  0.00000 &      NaN\\\\\n",
       "\t BAS & 2024-12-01 & PM10 & 58.33333 & 14.64286\\\\\n",
       "\t BAS & 2024-12-29 & PM10 & 50.00000 & 16.20000\\\\\n",
       "\t DAV & 2024-10-01 & PM10 &  0.00000 &      NaN\\\\\n",
       "\t DAV & 2024-10-14 & PM10 &  0.00000 &      NaN\\\\\n",
       "\t DAV & 2024-10-21 & PM10 &  0.00000 &      NaN\\\\\n",
       "\t DAV & 2024-10-31 & PM10 &  0.00000 &      NaN\\\\\n",
       "\\end{tabular}\n"
      ],
      "text/markdown": [
       "\n",
       "A tibble: 9 × 5\n",
       "\n",
       "| site &lt;chr&gt; | date &lt;date&gt; | variable &lt;chr&gt; | percent.recovery_daily &lt;dbl&gt; | value &lt;dbl&gt; |\n",
       "|---|---|---|---|---|\n",
       "| BAS | 2024-10-14 | PM10 |  0.00000 |      NaN |\n",
       "| BAS | 2024-10-21 | PM10 |  0.00000 |      NaN |\n",
       "| BAS | 2024-10-31 | PM10 |  0.00000 |      NaN |\n",
       "| BAS | 2024-12-01 | PM10 | 58.33333 | 14.64286 |\n",
       "| BAS | 2024-12-29 | PM10 | 50.00000 | 16.20000 |\n",
       "| DAV | 2024-10-01 | PM10 |  0.00000 |      NaN |\n",
       "| DAV | 2024-10-14 | PM10 |  0.00000 |      NaN |\n",
       "| DAV | 2024-10-21 | PM10 |  0.00000 |      NaN |\n",
       "| DAV | 2024-10-31 | PM10 |  0.00000 |      NaN |\n",
       "\n"
      ],
      "text/plain": [
       "  site date       variable percent.recovery_daily value   \n",
       "1 BAS  2024-10-14 PM10      0.00000                    NaN\n",
       "2 BAS  2024-10-21 PM10      0.00000                    NaN\n",
       "3 BAS  2024-10-31 PM10      0.00000                    NaN\n",
       "4 BAS  2024-12-01 PM10     58.33333               14.64286\n",
       "5 BAS  2024-12-29 PM10     50.00000               16.20000\n",
       "6 DAV  2024-10-01 PM10      0.00000                    NaN\n",
       "7 DAV  2024-10-14 PM10      0.00000                    NaN\n",
       "8 DAV  2024-10-21 PM10      0.00000                    NaN\n",
       "9 DAV  2024-10-31 PM10      0.00000                    NaN"
      ]
     },
     "metadata": {},
     "output_type": "display_data"
    }
   ],
   "source": [
    "filter(daily_lf, percent.recovery_daily < threshold & variable==\"PM10\") "
   ]
  },
  {
   "cell_type": "code",
   "execution_count": 55,
   "id": "46f02939-68d4-48b9-9e86-d3f41596e48b",
   "metadata": {},
   "outputs": [
    {
     "data": {
      "image/png": "[encoded data removed]",
      "text/plain": [
       "plot without title"
      ]
     },
     "metadata": {
      "image/png": {
       "height": 420,
       "width": 420
      }
     },
     "output_type": "display_data"
    }
   ],
   "source": [
    "daily_lf %>%\n",
    "  filter(percent.recovery_daily >= threshold) %>%\n",
    "  ggplot+\n",
    "  facet_grid(variable~site, scale=\"free_y\")+  \n",
    "  geom_line(aes(x=date, y=value))+\n",
    "  geom_hline(data=limits.daily, mapping=aes(yintercept=value), linetype=2, color=\"red\")+\n",
    "  scale_x_date(name = \"\", date_labels = \"%b\") +\n",
    "  theme(axis.text.x=element_text(angle=30, hjust=1))"
   ]
  },
  {
   "cell_type": "code",
   "execution_count": 56,
   "id": "5b493f7e-9d32-42a7-9107-182139fea9a5",
   "metadata": {},
   "outputs": [
    {
     "data": {
      "image/png": "[encoded data removed]",
      "text/plain": [
       "plot without title"
      ]
     },
     "metadata": {
      "image/png": {
       "height": 420,
       "width": 420
      }
     },
     "output_type": "display_data"
    }
   ],
   "source": [
    "daily_lf %>%\n",
    "  filter(percent.recovery_daily >= threshold) %>%\n",
    "  ggplot+\n",
    "  facet_grid(variable~site, scale=\"free_y\")+  \n",
    "  geom_line(aes(x=value), stat=\"ecdf\")+\n",
    "  geom_point(aes(x=value), stat=\"ecdf\")+\n",
    "  geom_vline(data=limits.daily, mapping=aes(xintercept=value), linetype=2)"
   ]
  },
  {
   "cell_type": "markdown",
   "id": "f2830274-ca95-4ef9-a247-c7ec89c0b637",
   "metadata": {},
   "source": [
    "## Tables of interest for daily exceeding values"
   ]
  },
  {
   "cell_type": "code",
   "execution_count": 57,
   "id": "47554583-eaa9-4917-9090-bd17c60637b6",
   "metadata": {},
   "outputs": [
    {
     "data": {
      "text/html": [
       "<style>\n",
       ".dl-inline {width: auto; margin:0; padding: 0}\n",
       ".dl-inline>dt, .dl-inline>dd {float: none; width: auto; display: inline-block}\n",
       ".dl-inline>dt::after {content: \":\\0020\"; padding-right: .5ex}\n",
       ".dl-inline>dt:not(:first-of-type) {padding-left: .5ex}\n",
       "</style><dl class=dl-inline><dt>NO2</dt><dd>80</dd><dt>PM10</dt><dd>50</dd><dt>SO2</dt><dd>100</dd></dl>\n"
      ],
      "text/latex": [
       "\\begin{description*}\n",
       "\\item[NO2] 80\n",
       "\\item[PM10] 50\n",
       "\\item[SO2] 100\n",
       "\\end{description*}\n"
      ],
      "text/markdown": [
       "NO2\n",
       ":   80PM10\n",
       ":   50SO2\n",
       ":   100\n",
       "\n"
      ],
      "text/plain": [
       " NO2 PM10  SO2 \n",
       "  80   50  100 "
      ]
     },
     "metadata": {},
     "output_type": "display_data"
    }
   ],
   "source": [
    "(limits.vec <- with(limits.daily, setNames(value, variable)))"
   ]
  },
  {
   "cell_type": "code",
   "execution_count": 58,
   "id": "e8f5d6f2-92e3-4768-8367-794d56408571",
   "metadata": {},
   "outputs": [],
   "source": [
    "exceedances <- daily_lf %>%\n",
    "  filter(percent.recovery_daily >= threshold &\n",
    "         value > limits.vec[as.character(variable)])"
   ]
  },
  {
   "cell_type": "code",
   "execution_count": 59,
   "id": "0c206e0d-cf7c-4f24-8c23-ca3f76a4f684",
   "metadata": {},
   "outputs": [
    {
     "data": {
      "text/html": [
       "<table class=\"dataframe\">\n",
       "<caption>A tibble: 3 × 5</caption>\n",
       "<thead>\n",
       "\t<tr><th scope=col>site</th><th scope=col>date</th><th scope=col>variable</th><th scope=col>percent.recovery_daily</th><th scope=col>value</th></tr>\n",
       "\t<tr><th scope=col>&lt;chr&gt;</th><th scope=col>&lt;date&gt;</th><th scope=col>&lt;chr&gt;</th><th scope=col>&lt;dbl&gt;</th><th scope=col>&lt;dbl&gt;</th></tr>\n",
       "</thead>\n",
       "<tbody>\n",
       "\t<tr><td>DAV</td><td>2024-03-29</td><td>PM10</td><td>100</td><td>133.76250</td></tr>\n",
       "\t<tr><td>DAV</td><td>2024-03-30</td><td>PM10</td><td>100</td><td>107.39583</td></tr>\n",
       "\t<tr><td>DAV</td><td>2024-06-19</td><td>PM10</td><td>100</td><td> 51.05417</td></tr>\n",
       "</tbody>\n",
       "</table>\n"
      ],
      "text/latex": [
       "A tibble: 3 × 5\n",
       "\\begin{tabular}{lllll}\n",
       " site & date & variable & percent.recovery\\_daily & value\\\\\n",
       " <chr> & <date> & <chr> & <dbl> & <dbl>\\\\\n",
       "\\hline\n",
       "\t DAV & 2024-03-29 & PM10 & 100 & 133.76250\\\\\n",
       "\t DAV & 2024-03-30 & PM10 & 100 & 107.39583\\\\\n",
       "\t DAV & 2024-06-19 & PM10 & 100 &  51.05417\\\\\n",
       "\\end{tabular}\n"
      ],
      "text/markdown": [
       "\n",
       "A tibble: 3 × 5\n",
       "\n",
       "| site &lt;chr&gt; | date &lt;date&gt; | variable &lt;chr&gt; | percent.recovery_daily &lt;dbl&gt; | value &lt;dbl&gt; |\n",
       "|---|---|---|---|---|\n",
       "| DAV | 2024-03-29 | PM10 | 100 | 133.76250 |\n",
       "| DAV | 2024-03-30 | PM10 | 100 | 107.39583 |\n",
       "| DAV | 2024-06-19 | PM10 | 100 |  51.05417 |\n",
       "\n"
      ],
      "text/plain": [
       "  site date       variable percent.recovery_daily value    \n",
       "1 DAV  2024-03-29 PM10     100                    133.76250\n",
       "2 DAV  2024-03-30 PM10     100                    107.39583\n",
       "3 DAV  2024-06-19 PM10     100                     51.05417"
      ]
     },
     "metadata": {},
     "output_type": "display_data"
    }
   ],
   "source": [
    "tail(exceedances, 3)"
   ]
  },
  {
   "cell_type": "code",
   "execution_count": 60,
   "id": "0e723de5-314a-4d5d-aba7-3a3d9ca8243f",
   "metadata": {},
   "outputs": [
    {
     "data": {
      "text/html": [
       "<table class=\"dataframe\">\n",
       "<caption>A tibble: 1 × 3</caption>\n",
       "<thead>\n",
       "\t<tr><th scope=col>site</th><th scope=col>variable</th><th scope=col>n</th></tr>\n",
       "\t<tr><th scope=col>&lt;chr&gt;</th><th scope=col>&lt;chr&gt;</th><th scope=col>&lt;int&gt;</th></tr>\n",
       "</thead>\n",
       "<tbody>\n",
       "\t<tr><td>DAV</td><td>PM10</td><td>3</td></tr>\n",
       "</tbody>\n",
       "</table>\n"
      ],
      "text/latex": [
       "A tibble: 1 × 3\n",
       "\\begin{tabular}{lll}\n",
       " site & variable & n\\\\\n",
       " <chr> & <chr> & <int>\\\\\n",
       "\\hline\n",
       "\t DAV & PM10 & 3\\\\\n",
       "\\end{tabular}\n"
      ],
      "text/markdown": [
       "\n",
       "A tibble: 1 × 3\n",
       "\n",
       "| site &lt;chr&gt; | variable &lt;chr&gt; | n &lt;int&gt; |\n",
       "|---|---|---|\n",
       "| DAV | PM10 | 3 |\n",
       "\n"
      ],
      "text/plain": [
       "  site variable n\n",
       "1 DAV  PM10     3"
      ]
     },
     "metadata": {},
     "output_type": "display_data"
    }
   ],
   "source": [
    "exceedances %>%\n",
    "  count(site, variable)"
   ]
  },
  {
   "cell_type": "code",
   "execution_count": 61,
   "id": "630f89e3-3641-4e98-8e49-fb4031243810",
   "metadata": {},
   "outputs": [
    {
     "data": {
      "text/html": [
       "<table class=\"dataframe\">\n",
       "<caption>A tibble: 2 × 4</caption>\n",
       "<thead>\n",
       "\t<tr><th scope=col>site</th><th scope=col>variable</th><th scope=col>month</th><th scope=col>n</th></tr>\n",
       "\t<tr><th scope=col>&lt;chr&gt;</th><th scope=col>&lt;chr&gt;</th><th scope=col>&lt;chr&gt;</th><th scope=col>&lt;int&gt;</th></tr>\n",
       "</thead>\n",
       "<tbody>\n",
       "\t<tr><td>DAV</td><td>PM10</td><td>June </td><td>1</td></tr>\n",
       "\t<tr><td>DAV</td><td>PM10</td><td>March</td><td>2</td></tr>\n",
       "</tbody>\n",
       "</table>\n"
      ],
      "text/latex": [
       "A tibble: 2 × 4\n",
       "\\begin{tabular}{llll}\n",
       " site & variable & month & n\\\\\n",
       " <chr> & <chr> & <chr> & <int>\\\\\n",
       "\\hline\n",
       "\t DAV & PM10 & June  & 1\\\\\n",
       "\t DAV & PM10 & March & 2\\\\\n",
       "\\end{tabular}\n"
      ],
      "text/markdown": [
       "\n",
       "A tibble: 2 × 4\n",
       "\n",
       "| site &lt;chr&gt; | variable &lt;chr&gt; | month &lt;chr&gt; | n &lt;int&gt; |\n",
       "|---|---|---|---|\n",
       "| DAV | PM10 | June  | 1 |\n",
       "| DAV | PM10 | March | 2 |\n",
       "\n"
      ],
      "text/plain": [
       "  site variable month n\n",
       "1 DAV  PM10     June  1\n",
       "2 DAV  PM10     March 2"
      ]
     },
     "metadata": {},
     "output_type": "display_data"
    }
   ],
   "source": [
    "exceedances %>%\n",
    "  mutate(month = months(date)) %>%\n",
    "  count(site, variable, month)"
   ]
  },
  {
   "cell_type": "markdown",
   "id": "0fb5fe0e-f446-46bf-ad5d-0b7ab5361d67",
   "metadata": {},
   "source": [
    "## Yearly limit values"
   ]
  },
  {
   "cell_type": "code",
   "execution_count": 62,
   "id": "7462f422-37b7-464c-8656-4b242ce08ed1",
   "metadata": {},
   "outputs": [],
   "source": [
    "yearly_lf <- all_data_lf %>%\n",
    "  filter(variable %in% limits.yearly[[\"variable\"]]) %>% # select variables\n",
    "  mutate(date = date(datetime)) %>%                   # get the date value\n",
    "  group_by(site, variable) %>%\n",
    "  summarize(percent.recovery_yearly = length(na.omit(value))/length(value)*1e2,\n",
    "            value = mean(value, na.rm=TRUE)) %>%\n",
    "  ungroup()                                            # undo grouping for future use"
   ]
  },
  {
   "cell_type": "code",
   "execution_count": 63,
   "id": "db5b6b45-3811-4641-b664-38a013b93647",
   "metadata": {},
   "outputs": [
    {
     "data": {
      "text/html": [
       "<table class=\"dataframe\">\n",
       "<caption>A tibble: 8 × 4</caption>\n",
       "<thead>\n",
       "\t<tr><th scope=col>site</th><th scope=col>variable</th><th scope=col>percent.recovery_yearly</th><th scope=col>value</th></tr>\n",
       "\t<tr><th scope=col>&lt;chr&gt;</th><th scope=col>&lt;chr&gt;</th><th scope=col>&lt;dbl&gt;</th><th scope=col>&lt;dbl&gt;</th></tr>\n",
       "</thead>\n",
       "<tbody>\n",
       "\t<tr><td>BAS</td><td>NO2  </td><td>99.15756</td><td>12.5449024</td></tr>\n",
       "\t<tr><td>BAS</td><td>PM10 </td><td>98.71357</td><td>11.1924922</td></tr>\n",
       "\t<tr><td>BAS</td><td>PM2.5</td><td>96.80100</td><td> 7.7528755</td></tr>\n",
       "\t<tr><td>BAS</td><td>SO2  </td><td>99.22587</td><td> 0.5051514</td></tr>\n",
       "\t<tr><td>DAV</td><td>NO2  </td><td>99.74954</td><td> 1.9491326</td></tr>\n",
       "\t<tr><td>DAV</td><td>PM10 </td><td>98.88434</td><td> 5.1367833</td></tr>\n",
       "\t<tr><td>DAV</td><td>PM2.5</td><td> 0.00000</td><td>       NaN</td></tr>\n",
       "\t<tr><td>DAV</td><td>SO2  </td><td> 0.00000</td><td>       NaN</td></tr>\n",
       "</tbody>\n",
       "</table>\n"
      ],
      "text/latex": [
       "A tibble: 8 × 4\n",
       "\\begin{tabular}{llll}\n",
       " site & variable & percent.recovery\\_yearly & value\\\\\n",
       " <chr> & <chr> & <dbl> & <dbl>\\\\\n",
       "\\hline\n",
       "\t BAS & NO2   & 99.15756 & 12.5449024\\\\\n",
       "\t BAS & PM10  & 98.71357 & 11.1924922\\\\\n",
       "\t BAS & PM2.5 & 96.80100 &  7.7528755\\\\\n",
       "\t BAS & SO2   & 99.22587 &  0.5051514\\\\\n",
       "\t DAV & NO2   & 99.74954 &  1.9491326\\\\\n",
       "\t DAV & PM10  & 98.88434 &  5.1367833\\\\\n",
       "\t DAV & PM2.5 &  0.00000 &        NaN\\\\\n",
       "\t DAV & SO2   &  0.00000 &        NaN\\\\\n",
       "\\end{tabular}\n"
      ],
      "text/markdown": [
       "\n",
       "A tibble: 8 × 4\n",
       "\n",
       "| site &lt;chr&gt; | variable &lt;chr&gt; | percent.recovery_yearly &lt;dbl&gt; | value &lt;dbl&gt; |\n",
       "|---|---|---|---|\n",
       "| BAS | NO2   | 99.15756 | 12.5449024 |\n",
       "| BAS | PM10  | 98.71357 | 11.1924922 |\n",
       "| BAS | PM2.5 | 96.80100 |  7.7528755 |\n",
       "| BAS | SO2   | 99.22587 |  0.5051514 |\n",
       "| DAV | NO2   | 99.74954 |  1.9491326 |\n",
       "| DAV | PM10  | 98.88434 |  5.1367833 |\n",
       "| DAV | PM2.5 |  0.00000 |        NaN |\n",
       "| DAV | SO2   |  0.00000 |        NaN |\n",
       "\n"
      ],
      "text/plain": [
       "  site variable percent.recovery_yearly value     \n",
       "1 BAS  NO2      99.15756                12.5449024\n",
       "2 BAS  PM10     98.71357                11.1924922\n",
       "3 BAS  PM2.5    96.80100                 7.7528755\n",
       "4 BAS  SO2      99.22587                 0.5051514\n",
       "5 DAV  NO2      99.74954                 1.9491326\n",
       "6 DAV  PM10     98.88434                 5.1367833\n",
       "7 DAV  PM2.5     0.00000                       NaN\n",
       "8 DAV  SO2       0.00000                       NaN"
      ]
     },
     "metadata": {},
     "output_type": "display_data"
    }
   ],
   "source": [
    "yearly_lf"
   ]
  },
  {
   "cell_type": "markdown",
   "id": "74ec76db-bd35-4a5d-acde-eeb124b25ccd",
   "metadata": {},
   "source": [
    "yearly_lf %>%\n",
    "  filter(percent.recovery_yearly >= threshold) %>%\n",
    "  ggplot+\n",
    "  facet_grid(variable~site, scale=\"free_y\")+  \n",
    "  geom_line(aes(y=value))+\n",
    "  geom_hline(data=limits.yearly, mapping=aes(yintercept=value), linetype=2, color=\"red\")+\n",
    "  scale_x_date(name = \"\", date_labels = \"%b\") +\n",
    "  theme(axis.text.x=element_text(angle=30, hjust=1))"
   ]
  },
  {
   "cell_type": "markdown",
   "id": "861fe10f-a232-49c6-a5b4-a770b17c19ec",
   "metadata": {},
   "source": [
    "Yearly values are never exceeded. TODO : create a table in overleaf to compare the obtained results to the limit values"
   ]
  },
  {
   "cell_type": "markdown",
   "id": "73082f95-3eff-4a2c-9044-698536bb3364",
   "metadata": {},
   "source": [
    "## Hourly values"
   ]
  },
  {
   "cell_type": "code",
   "execution_count": 64,
   "id": "7b681336-5e9e-4160-99e0-d10891b30b72",
   "metadata": {},
   "outputs": [],
   "source": [
    "hourly_lf <- all_data_lf %>%\n",
    "  filter(variable %in% limits.hourly[[\"variable\"]]) %>% # select variables\n",
    "  #mutate(date = date(datetime)) %>%                   # get the date value\n",
    "  group_by(site, datetime, variable) %>%\n",
    "  summarize(percent.recovery_hourly = length(na.omit(value))/length(value)*1e2,\n",
    "            value = mean(value, na.rm=TRUE)) %>%\n",
    "  ungroup()                                            # undo grouping for future use"
   ]
  },
  {
   "cell_type": "code",
   "execution_count": 65,
   "id": "9db78980-a2b3-48a1-9193-e9a85a7f8147",
   "metadata": {
    "scrolled": true
   },
   "outputs": [
    {
     "data": {
      "text/html": [
       "<table class=\"dataframe\">\n",
       "<caption>A tibble: 17568 × 5</caption>\n",
       "<thead>\n",
       "\t<tr><th scope=col>site</th><th scope=col>datetime</th><th scope=col>variable</th><th scope=col>percent.recovery_hourly</th><th scope=col>value</th></tr>\n",
       "\t<tr><th scope=col>&lt;chr&gt;</th><th scope=col>&lt;dttm&gt;</th><th scope=col>&lt;chr&gt;</th><th scope=col>&lt;dbl&gt;</th><th scope=col>&lt;dbl&gt;</th></tr>\n",
       "</thead>\n",
       "<tbody>\n",
       "\t<tr><td>BAS</td><td>2024-01-01 00:00:00</td><td>O3</td><td>100</td><td>60.2</td></tr>\n",
       "\t<tr><td>BAS</td><td>2024-01-01 01:00:00</td><td>O3</td><td>100</td><td>70.0</td></tr>\n",
       "\t<tr><td>BAS</td><td>2024-01-01 02:00:00</td><td>O3</td><td>100</td><td>70.3</td></tr>\n",
       "\t<tr><td>BAS</td><td>2024-01-01 03:00:00</td><td>O3</td><td>100</td><td>67.0</td></tr>\n",
       "\t<tr><td>BAS</td><td>2024-01-01 04:00:00</td><td>O3</td><td>100</td><td>66.5</td></tr>\n",
       "\t<tr><td>BAS</td><td>2024-01-01 05:00:00</td><td>O3</td><td>100</td><td>67.1</td></tr>\n",
       "\t<tr><td>BAS</td><td>2024-01-01 06:00:00</td><td>O3</td><td>100</td><td>70.1</td></tr>\n",
       "\t<tr><td>BAS</td><td>2024-01-01 07:00:00</td><td>O3</td><td>100</td><td>71.7</td></tr>\n",
       "\t<tr><td>BAS</td><td>2024-01-01 08:00:00</td><td>O3</td><td>100</td><td>64.6</td></tr>\n",
       "\t<tr><td>BAS</td><td>2024-01-01 09:00:00</td><td>O3</td><td>100</td><td>67.6</td></tr>\n",
       "\t<tr><td>BAS</td><td>2024-01-01 10:00:00</td><td>O3</td><td>100</td><td>68.9</td></tr>\n",
       "\t<tr><td>BAS</td><td>2024-01-01 11:00:00</td><td>O3</td><td>100</td><td>71.2</td></tr>\n",
       "\t<tr><td>BAS</td><td>2024-01-01 12:00:00</td><td>O3</td><td>100</td><td>71.6</td></tr>\n",
       "\t<tr><td>BAS</td><td>2024-01-01 13:00:00</td><td>O3</td><td>100</td><td>70.7</td></tr>\n",
       "\t<tr><td>BAS</td><td>2024-01-01 14:00:00</td><td>O3</td><td>100</td><td>69.9</td></tr>\n",
       "\t<tr><td>BAS</td><td>2024-01-01 15:00:00</td><td>O3</td><td>100</td><td>67.9</td></tr>\n",
       "\t<tr><td>BAS</td><td>2024-01-01 16:00:00</td><td>O3</td><td>100</td><td>64.6</td></tr>\n",
       "\t<tr><td>BAS</td><td>2024-01-01 17:00:00</td><td>O3</td><td>100</td><td>60.5</td></tr>\n",
       "\t<tr><td>BAS</td><td>2024-01-01 18:00:00</td><td>O3</td><td>100</td><td>63.6</td></tr>\n",
       "\t<tr><td>BAS</td><td>2024-01-01 19:00:00</td><td>O3</td><td>100</td><td>61.2</td></tr>\n",
       "\t<tr><td>BAS</td><td>2024-01-01 20:00:00</td><td>O3</td><td>100</td><td>31.9</td></tr>\n",
       "\t<tr><td>BAS</td><td>2024-01-01 21:00:00</td><td>O3</td><td>100</td><td>22.6</td></tr>\n",
       "\t<tr><td>BAS</td><td>2024-01-01 22:00:00</td><td>O3</td><td>100</td><td>27.4</td></tr>\n",
       "\t<tr><td>BAS</td><td>2024-01-01 23:00:00</td><td>O3</td><td>100</td><td>16.2</td></tr>\n",
       "\t<tr><td>BAS</td><td>2024-01-02 00:00:00</td><td>O3</td><td>100</td><td>27.3</td></tr>\n",
       "\t<tr><td>BAS</td><td>2024-01-02 01:00:00</td><td>O3</td><td>100</td><td>34.4</td></tr>\n",
       "\t<tr><td>BAS</td><td>2024-01-02 02:00:00</td><td>O3</td><td>100</td><td>25.2</td></tr>\n",
       "\t<tr><td>BAS</td><td>2024-01-02 03:00:00</td><td>O3</td><td>100</td><td>22.9</td></tr>\n",
       "\t<tr><td>BAS</td><td>2024-01-02 04:00:00</td><td>O3</td><td>100</td><td>25.0</td></tr>\n",
       "\t<tr><td>BAS</td><td>2024-01-02 05:00:00</td><td>O3</td><td>100</td><td>59.9</td></tr>\n",
       "\t<tr><td>...</td><td>...</td><td>...</td><td>...</td><td>...</td></tr>\n",
       "\t<tr><td>DAV</td><td>2024-12-30 18:00:00</td><td>O3</td><td>100</td><td>75.6</td></tr>\n",
       "\t<tr><td>DAV</td><td>2024-12-30 19:00:00</td><td>O3</td><td>100</td><td>78.3</td></tr>\n",
       "\t<tr><td>DAV</td><td>2024-12-30 20:00:00</td><td>O3</td><td>100</td><td>79.0</td></tr>\n",
       "\t<tr><td>DAV</td><td>2024-12-30 21:00:00</td><td>O3</td><td>100</td><td>79.2</td></tr>\n",
       "\t<tr><td>DAV</td><td>2024-12-30 22:00:00</td><td>O3</td><td>100</td><td>79.9</td></tr>\n",
       "\t<tr><td>DAV</td><td>2024-12-30 23:00:00</td><td>O3</td><td>100</td><td>79.4</td></tr>\n",
       "\t<tr><td>DAV</td><td>2024-12-31 00:00:00</td><td>O3</td><td>100</td><td>79.2</td></tr>\n",
       "\t<tr><td>DAV</td><td>2024-12-31 01:00:00</td><td>O3</td><td>100</td><td>80.8</td></tr>\n",
       "\t<tr><td>DAV</td><td>2024-12-31 02:00:00</td><td>O3</td><td>100</td><td>81.0</td></tr>\n",
       "\t<tr><td>DAV</td><td>2024-12-31 03:00:00</td><td>O3</td><td>100</td><td>81.1</td></tr>\n",
       "\t<tr><td>DAV</td><td>2024-12-31 04:00:00</td><td>O3</td><td>100</td><td>80.9</td></tr>\n",
       "\t<tr><td>DAV</td><td>2024-12-31 05:00:00</td><td>O3</td><td>100</td><td>81.5</td></tr>\n",
       "\t<tr><td>DAV</td><td>2024-12-31 06:00:00</td><td>O3</td><td>100</td><td>80.4</td></tr>\n",
       "\t<tr><td>DAV</td><td>2024-12-31 07:00:00</td><td>O3</td><td>100</td><td>79.5</td></tr>\n",
       "\t<tr><td>DAV</td><td>2024-12-31 08:00:00</td><td>O3</td><td>100</td><td>80.1</td></tr>\n",
       "\t<tr><td>DAV</td><td>2024-12-31 09:00:00</td><td>O3</td><td>100</td><td>79.0</td></tr>\n",
       "\t<tr><td>DAV</td><td>2024-12-31 10:00:00</td><td>O3</td><td>100</td><td>77.8</td></tr>\n",
       "\t<tr><td>DAV</td><td>2024-12-31 11:00:00</td><td>O3</td><td>100</td><td>76.7</td></tr>\n",
       "\t<tr><td>DAV</td><td>2024-12-31 12:00:00</td><td>O3</td><td>100</td><td>78.6</td></tr>\n",
       "\t<tr><td>DAV</td><td>2024-12-31 13:00:00</td><td>O3</td><td>100</td><td>77.9</td></tr>\n",
       "\t<tr><td>DAV</td><td>2024-12-31 14:00:00</td><td>O3</td><td>100</td><td>77.4</td></tr>\n",
       "\t<tr><td>DAV</td><td>2024-12-31 15:00:00</td><td>O3</td><td>100</td><td>76.8</td></tr>\n",
       "\t<tr><td>DAV</td><td>2024-12-31 16:00:00</td><td>O3</td><td>100</td><td>77.6</td></tr>\n",
       "\t<tr><td>DAV</td><td>2024-12-31 17:00:00</td><td>O3</td><td>100</td><td>76.6</td></tr>\n",
       "\t<tr><td>DAV</td><td>2024-12-31 18:00:00</td><td>O3</td><td>100</td><td>77.4</td></tr>\n",
       "\t<tr><td>DAV</td><td>2024-12-31 19:00:00</td><td>O3</td><td>100</td><td>74.0</td></tr>\n",
       "\t<tr><td>DAV</td><td>2024-12-31 20:00:00</td><td>O3</td><td>100</td><td>76.1</td></tr>\n",
       "\t<tr><td>DAV</td><td>2024-12-31 21:00:00</td><td>O3</td><td>100</td><td>77.8</td></tr>\n",
       "\t<tr><td>DAV</td><td>2024-12-31 22:00:00</td><td>O3</td><td>100</td><td>78.0</td></tr>\n",
       "\t<tr><td>DAV</td><td>2024-12-31 23:00:00</td><td>O3</td><td>100</td><td>77.4</td></tr>\n",
       "</tbody>\n",
       "</table>\n"
      ],
      "text/latex": [
       "A tibble: 17568 × 5\n",
       "\\begin{tabular}{lllll}\n",
       " site & datetime & variable & percent.recovery\\_hourly & value\\\\\n",
       " <chr> & <dttm> & <chr> & <dbl> & <dbl>\\\\\n",
       "\\hline\n",
       "\t BAS & 2024-01-01 00:00:00 & O3 & 100 & 60.2\\\\\n",
       "\t BAS & 2024-01-01 01:00:00 & O3 & 100 & 70.0\\\\\n",
       "\t BAS & 2024-01-01 02:00:00 & O3 & 100 & 70.3\\\\\n",
       "\t BAS & 2024-01-01 03:00:00 & O3 & 100 & 67.0\\\\\n",
       "\t BAS & 2024-01-01 04:00:00 & O3 & 100 & 66.5\\\\\n",
       "\t BAS & 2024-01-01 05:00:00 & O3 & 100 & 67.1\\\\\n",
       "\t BAS & 2024-01-01 06:00:00 & O3 & 100 & 70.1\\\\\n",
       "\t BAS & 2024-01-01 07:00:00 & O3 & 100 & 71.7\\\\\n",
       "\t BAS & 2024-01-01 08:00:00 & O3 & 100 & 64.6\\\\\n",
       "\t BAS & 2024-01-01 09:00:00 & O3 & 100 & 67.6\\\\\n",
       "\t BAS & 2024-01-01 10:00:00 & O3 & 100 & 68.9\\\\\n",
       "\t BAS & 2024-01-01 11:00:00 & O3 & 100 & 71.2\\\\\n",
       "\t BAS & 2024-01-01 12:00:00 & O3 & 100 & 71.6\\\\\n",
       "\t BAS & 2024-01-01 13:00:00 & O3 & 100 & 70.7\\\\\n",
       "\t BAS & 2024-01-01 14:00:00 & O3 & 100 & 69.9\\\\\n",
       "\t BAS & 2024-01-01 15:00:00 & O3 & 100 & 67.9\\\\\n",
       "\t BAS & 2024-01-01 16:00:00 & O3 & 100 & 64.6\\\\\n",
       "\t BAS & 2024-01-01 17:00:00 & O3 & 100 & 60.5\\\\\n",
       "\t BAS & 2024-01-01 18:00:00 & O3 & 100 & 63.6\\\\\n",
       "\t BAS & 2024-01-01 19:00:00 & O3 & 100 & 61.2\\\\\n",
       "\t BAS & 2024-01-01 20:00:00 & O3 & 100 & 31.9\\\\\n",
       "\t BAS & 2024-01-01 21:00:00 & O3 & 100 & 22.6\\\\\n",
       "\t BAS & 2024-01-01 22:00:00 & O3 & 100 & 27.4\\\\\n",
       "\t BAS & 2024-01-01 23:00:00 & O3 & 100 & 16.2\\\\\n",
       "\t BAS & 2024-01-02 00:00:00 & O3 & 100 & 27.3\\\\\n",
       "\t BAS & 2024-01-02 01:00:00 & O3 & 100 & 34.4\\\\\n",
       "\t BAS & 2024-01-02 02:00:00 & O3 & 100 & 25.2\\\\\n",
       "\t BAS & 2024-01-02 03:00:00 & O3 & 100 & 22.9\\\\\n",
       "\t BAS & 2024-01-02 04:00:00 & O3 & 100 & 25.0\\\\\n",
       "\t BAS & 2024-01-02 05:00:00 & O3 & 100 & 59.9\\\\\n",
       "\t ... & ... & ... & ... & ...\\\\\n",
       "\t DAV & 2024-12-30 18:00:00 & O3 & 100 & 75.6\\\\\n",
       "\t DAV & 2024-12-30 19:00:00 & O3 & 100 & 78.3\\\\\n",
       "\t DAV & 2024-12-30 20:00:00 & O3 & 100 & 79.0\\\\\n",
       "\t DAV & 2024-12-30 21:00:00 & O3 & 100 & 79.2\\\\\n",
       "\t DAV & 2024-12-30 22:00:00 & O3 & 100 & 79.9\\\\\n",
       "\t DAV & 2024-12-30 23:00:00 & O3 & 100 & 79.4\\\\\n",
       "\t DAV & 2024-12-31 00:00:00 & O3 & 100 & 79.2\\\\\n",
       "\t DAV & 2024-12-31 01:00:00 & O3 & 100 & 80.8\\\\\n",
       "\t DAV & 2024-12-31 02:00:00 & O3 & 100 & 81.0\\\\\n",
       "\t DAV & 2024-12-31 03:00:00 & O3 & 100 & 81.1\\\\\n",
       "\t DAV & 2024-12-31 04:00:00 & O3 & 100 & 80.9\\\\\n",
       "\t DAV & 2024-12-31 05:00:00 & O3 & 100 & 81.5\\\\\n",
       "\t DAV & 2024-12-31 06:00:00 & O3 & 100 & 80.4\\\\\n",
       "\t DAV & 2024-12-31 07:00:00 & O3 & 100 & 79.5\\\\\n",
       "\t DAV & 2024-12-31 08:00:00 & O3 & 100 & 80.1\\\\\n",
       "\t DAV & 2024-12-31 09:00:00 & O3 & 100 & 79.0\\\\\n",
       "\t DAV & 2024-12-31 10:00:00 & O3 & 100 & 77.8\\\\\n",
       "\t DAV & 2024-12-31 11:00:00 & O3 & 100 & 76.7\\\\\n",
       "\t DAV & 2024-12-31 12:00:00 & O3 & 100 & 78.6\\\\\n",
       "\t DAV & 2024-12-31 13:00:00 & O3 & 100 & 77.9\\\\\n",
       "\t DAV & 2024-12-31 14:00:00 & O3 & 100 & 77.4\\\\\n",
       "\t DAV & 2024-12-31 15:00:00 & O3 & 100 & 76.8\\\\\n",
       "\t DAV & 2024-12-31 16:00:00 & O3 & 100 & 77.6\\\\\n",
       "\t DAV & 2024-12-31 17:00:00 & O3 & 100 & 76.6\\\\\n",
       "\t DAV & 2024-12-31 18:00:00 & O3 & 100 & 77.4\\\\\n",
       "\t DAV & 2024-12-31 19:00:00 & O3 & 100 & 74.0\\\\\n",
       "\t DAV & 2024-12-31 20:00:00 & O3 & 100 & 76.1\\\\\n",
       "\t DAV & 2024-12-31 21:00:00 & O3 & 100 & 77.8\\\\\n",
       "\t DAV & 2024-12-31 22:00:00 & O3 & 100 & 78.0\\\\\n",
       "\t DAV & 2024-12-31 23:00:00 & O3 & 100 & 77.4\\\\\n",
       "\\end{tabular}\n"
      ],
      "text/markdown": [
       "\n",
       "A tibble: 17568 × 5\n",
       "\n",
       "| site &lt;chr&gt; | datetime &lt;dttm&gt; | variable &lt;chr&gt; | percent.recovery_hourly &lt;dbl&gt; | value &lt;dbl&gt; |\n",
       "|---|---|---|---|---|\n",
       "| BAS | 2024-01-01 00:00:00 | O3 | 100 | 60.2 |\n",
       "| BAS | 2024-01-01 01:00:00 | O3 | 100 | 70.0 |\n",
       "| BAS | 2024-01-01 02:00:00 | O3 | 100 | 70.3 |\n",
       "| BAS | 2024-01-01 03:00:00 | O3 | 100 | 67.0 |\n",
       "| BAS | 2024-01-01 04:00:00 | O3 | 100 | 66.5 |\n",
       "| BAS | 2024-01-01 05:00:00 | O3 | 100 | 67.1 |\n",
       "| BAS | 2024-01-01 06:00:00 | O3 | 100 | 70.1 |\n",
       "| BAS | 2024-01-01 07:00:00 | O3 | 100 | 71.7 |\n",
       "| BAS | 2024-01-01 08:00:00 | O3 | 100 | 64.6 |\n",
       "| BAS | 2024-01-01 09:00:00 | O3 | 100 | 67.6 |\n",
       "| BAS | 2024-01-01 10:00:00 | O3 | 100 | 68.9 |\n",
       "| BAS | 2024-01-01 11:00:00 | O3 | 100 | 71.2 |\n",
       "| BAS | 2024-01-01 12:00:00 | O3 | 100 | 71.6 |\n",
       "| BAS | 2024-01-01 13:00:00 | O3 | 100 | 70.7 |\n",
       "| BAS | 2024-01-01 14:00:00 | O3 | 100 | 69.9 |\n",
       "| BAS | 2024-01-01 15:00:00 | O3 | 100 | 67.9 |\n",
       "| BAS | 2024-01-01 16:00:00 | O3 | 100 | 64.6 |\n",
       "| BAS | 2024-01-01 17:00:00 | O3 | 100 | 60.5 |\n",
       "| BAS | 2024-01-01 18:00:00 | O3 | 100 | 63.6 |\n",
       "| BAS | 2024-01-01 19:00:00 | O3 | 100 | 61.2 |\n",
       "| BAS | 2024-01-01 20:00:00 | O3 | 100 | 31.9 |\n",
       "| BAS | 2024-01-01 21:00:00 | O3 | 100 | 22.6 |\n",
       "| BAS | 2024-01-01 22:00:00 | O3 | 100 | 27.4 |\n",
       "| BAS | 2024-01-01 23:00:00 | O3 | 100 | 16.2 |\n",
       "| BAS | 2024-01-02 00:00:00 | O3 | 100 | 27.3 |\n",
       "| BAS | 2024-01-02 01:00:00 | O3 | 100 | 34.4 |\n",
       "| BAS | 2024-01-02 02:00:00 | O3 | 100 | 25.2 |\n",
       "| BAS | 2024-01-02 03:00:00 | O3 | 100 | 22.9 |\n",
       "| BAS | 2024-01-02 04:00:00 | O3 | 100 | 25.0 |\n",
       "| BAS | 2024-01-02 05:00:00 | O3 | 100 | 59.9 |\n",
       "| ... | ... | ... | ... | ... |\n",
       "| DAV | 2024-12-30 18:00:00 | O3 | 100 | 75.6 |\n",
       "| DAV | 2024-12-30 19:00:00 | O3 | 100 | 78.3 |\n",
       "| DAV | 2024-12-30 20:00:00 | O3 | 100 | 79.0 |\n",
       "| DAV | 2024-12-30 21:00:00 | O3 | 100 | 79.2 |\n",
       "| DAV | 2024-12-30 22:00:00 | O3 | 100 | 79.9 |\n",
       "| DAV | 2024-12-30 23:00:00 | O3 | 100 | 79.4 |\n",
       "| DAV | 2024-12-31 00:00:00 | O3 | 100 | 79.2 |\n",
       "| DAV | 2024-12-31 01:00:00 | O3 | 100 | 80.8 |\n",
       "| DAV | 2024-12-31 02:00:00 | O3 | 100 | 81.0 |\n",
       "| DAV | 2024-12-31 03:00:00 | O3 | 100 | 81.1 |\n",
       "| DAV | 2024-12-31 04:00:00 | O3 | 100 | 80.9 |\n",
       "| DAV | 2024-12-31 05:00:00 | O3 | 100 | 81.5 |\n",
       "| DAV | 2024-12-31 06:00:00 | O3 | 100 | 80.4 |\n",
       "| DAV | 2024-12-31 07:00:00 | O3 | 100 | 79.5 |\n",
       "| DAV | 2024-12-31 08:00:00 | O3 | 100 | 80.1 |\n",
       "| DAV | 2024-12-31 09:00:00 | O3 | 100 | 79.0 |\n",
       "| DAV | 2024-12-31 10:00:00 | O3 | 100 | 77.8 |\n",
       "| DAV | 2024-12-31 11:00:00 | O3 | 100 | 76.7 |\n",
       "| DAV | 2024-12-31 12:00:00 | O3 | 100 | 78.6 |\n",
       "| DAV | 2024-12-31 13:00:00 | O3 | 100 | 77.9 |\n",
       "| DAV | 2024-12-31 14:00:00 | O3 | 100 | 77.4 |\n",
       "| DAV | 2024-12-31 15:00:00 | O3 | 100 | 76.8 |\n",
       "| DAV | 2024-12-31 16:00:00 | O3 | 100 | 77.6 |\n",
       "| DAV | 2024-12-31 17:00:00 | O3 | 100 | 76.6 |\n",
       "| DAV | 2024-12-31 18:00:00 | O3 | 100 | 77.4 |\n",
       "| DAV | 2024-12-31 19:00:00 | O3 | 100 | 74.0 |\n",
       "| DAV | 2024-12-31 20:00:00 | O3 | 100 | 76.1 |\n",
       "| DAV | 2024-12-31 21:00:00 | O3 | 100 | 77.8 |\n",
       "| DAV | 2024-12-31 22:00:00 | O3 | 100 | 78.0 |\n",
       "| DAV | 2024-12-31 23:00:00 | O3 | 100 | 77.4 |\n",
       "\n"
      ],
      "text/plain": [
       "      site datetime            variable percent.recovery_hourly value\n",
       "1     BAS  2024-01-01 00:00:00 O3       100                     60.2 \n",
       "2     BAS  2024-01-01 01:00:00 O3       100                     70.0 \n",
       "3     BAS  2024-01-01 02:00:00 O3       100                     70.3 \n",
       "4     BAS  2024-01-01 03:00:00 O3       100                     67.0 \n",
       "5     BAS  2024-01-01 04:00:00 O3       100                     66.5 \n",
       "6     BAS  2024-01-01 05:00:00 O3       100                     67.1 \n",
       "7     BAS  2024-01-01 06:00:00 O3       100                     70.1 \n",
       "8     BAS  2024-01-01 07:00:00 O3       100                     71.7 \n",
       "9     BAS  2024-01-01 08:00:00 O3       100                     64.6 \n",
       "10    BAS  2024-01-01 09:00:00 O3       100                     67.6 \n",
       "11    BAS  2024-01-01 10:00:00 O3       100                     68.9 \n",
       "12    BAS  2024-01-01 11:00:00 O3       100                     71.2 \n",
       "13    BAS  2024-01-01 12:00:00 O3       100                     71.6 \n",
       "14    BAS  2024-01-01 13:00:00 O3       100                     70.7 \n",
       "15    BAS  2024-01-01 14:00:00 O3       100                     69.9 \n",
       "16    BAS  2024-01-01 15:00:00 O3       100                     67.9 \n",
       "17    BAS  2024-01-01 16:00:00 O3       100                     64.6 \n",
       "18    BAS  2024-01-01 17:00:00 O3       100                     60.5 \n",
       "19    BAS  2024-01-01 18:00:00 O3       100                     63.6 \n",
       "20    BAS  2024-01-01 19:00:00 O3       100                     61.2 \n",
       "21    BAS  2024-01-01 20:00:00 O3       100                     31.9 \n",
       "22    BAS  2024-01-01 21:00:00 O3       100                     22.6 \n",
       "23    BAS  2024-01-01 22:00:00 O3       100                     27.4 \n",
       "24    BAS  2024-01-01 23:00:00 O3       100                     16.2 \n",
       "25    BAS  2024-01-02 00:00:00 O3       100                     27.3 \n",
       "26    BAS  2024-01-02 01:00:00 O3       100                     34.4 \n",
       "27    BAS  2024-01-02 02:00:00 O3       100                     25.2 \n",
       "28    BAS  2024-01-02 03:00:00 O3       100                     22.9 \n",
       "29    BAS  2024-01-02 04:00:00 O3       100                     25.0 \n",
       "30    BAS  2024-01-02 05:00:00 O3       100                     59.9 \n",
       "...   ...  ...                 ...      ...                     ...  \n",
       "17539 DAV  2024-12-30 18:00:00 O3       100                     75.6 \n",
       "17540 DAV  2024-12-30 19:00:00 O3       100                     78.3 \n",
       "17541 DAV  2024-12-30 20:00:00 O3       100                     79.0 \n",
       "17542 DAV  2024-12-30 21:00:00 O3       100                     79.2 \n",
       "17543 DAV  2024-12-30 22:00:00 O3       100                     79.9 \n",
       "17544 DAV  2024-12-30 23:00:00 O3       100                     79.4 \n",
       "17545 DAV  2024-12-31 00:00:00 O3       100                     79.2 \n",
       "17546 DAV  2024-12-31 01:00:00 O3       100                     80.8 \n",
       "17547 DAV  2024-12-31 02:00:00 O3       100                     81.0 \n",
       "17548 DAV  2024-12-31 03:00:00 O3       100                     81.1 \n",
       "17549 DAV  2024-12-31 04:00:00 O3       100                     80.9 \n",
       "17550 DAV  2024-12-31 05:00:00 O3       100                     81.5 \n",
       "17551 DAV  2024-12-31 06:00:00 O3       100                     80.4 \n",
       "17552 DAV  2024-12-31 07:00:00 O3       100                     79.5 \n",
       "17553 DAV  2024-12-31 08:00:00 O3       100                     80.1 \n",
       "17554 DAV  2024-12-31 09:00:00 O3       100                     79.0 \n",
       "17555 DAV  2024-12-31 10:00:00 O3       100                     77.8 \n",
       "17556 DAV  2024-12-31 11:00:00 O3       100                     76.7 \n",
       "17557 DAV  2024-12-31 12:00:00 O3       100                     78.6 \n",
       "17558 DAV  2024-12-31 13:00:00 O3       100                     77.9 \n",
       "17559 DAV  2024-12-31 14:00:00 O3       100                     77.4 \n",
       "17560 DAV  2024-12-31 15:00:00 O3       100                     76.8 \n",
       "17561 DAV  2024-12-31 16:00:00 O3       100                     77.6 \n",
       "17562 DAV  2024-12-31 17:00:00 O3       100                     76.6 \n",
       "17563 DAV  2024-12-31 18:00:00 O3       100                     77.4 \n",
       "17564 DAV  2024-12-31 19:00:00 O3       100                     74.0 \n",
       "17565 DAV  2024-12-31 20:00:00 O3       100                     76.1 \n",
       "17566 DAV  2024-12-31 21:00:00 O3       100                     77.8 \n",
       "17567 DAV  2024-12-31 22:00:00 O3       100                     78.0 \n",
       "17568 DAV  2024-12-31 23:00:00 O3       100                     77.4 "
      ]
     },
     "metadata": {},
     "output_type": "display_data"
    }
   ],
   "source": [
    "hourly_lf"
   ]
  },
  {
   "cell_type": "code",
   "execution_count": 66,
   "id": "fcbb5216-90a3-4299-b1b4-b0e271c75a2d",
   "metadata": {},
   "outputs": [],
   "source": [
    "hourly_lf$datetime <- as.POSIXct(hourly_lf$datetime)"
   ]
  },
  {
   "cell_type": "code",
   "execution_count": 67,
   "id": "88ba0e82-789b-41df-b263-3bdc04b09aad",
   "metadata": {},
   "outputs": [
    {
     "data": {
      "image/png": "[encoded data removed]",
      "text/plain": [
       "plot without title"
      ]
     },
     "metadata": {
      "image/png": {
       "height": 420,
       "width": 420
      }
     },
     "output_type": "display_data"
    }
   ],
   "source": [
    "hourly_lf %>%\n",
    "  filter(percent.recovery_hourly >= threshold) %>%\n",
    "  ggplot(aes(x = datetime, y = value)) +        \n",
    "  facet_grid(variable ~ site, scale = \"free_y\") +  \n",
    "  geom_line() +                                 \n",
    "  geom_hline(data = limits.hourly, aes(yintercept = value), linetype = 2, color = \"red\") + \n",
    "  scale_x_datetime(name = \"\", date_labels = \"%b\") +  # Use scale_x_datetime here\n",
    "  theme(axis.text.x = element_text(angle = 30, hjust = 1))"
   ]
  },
  {
   "cell_type": "code",
   "execution_count": 68,
   "id": "88a3873b-17ae-4a35-aee8-ffc1400ed43f",
   "metadata": {},
   "outputs": [
    {
     "data": {
      "image/png": "[encoded data removed]",
      "text/plain": [
       "plot without title"
      ]
     },
     "metadata": {
      "image/png": {
       "height": 420,
       "width": 420
      }
     },
     "output_type": "display_data"
    }
   ],
   "source": [
    "hourly_lf %>%\n",
    "  filter(percent.recovery_hourly >= threshold) %>%\n",
    "  ggplot+\n",
    "  facet_grid(variable~site, scale=\"free_y\")+  \n",
    "  geom_line(aes(x=value), stat=\"ecdf\")+\n",
    "  geom_point(aes(x=value), stat=\"ecdf\")+\n",
    "  geom_vline(data=limits.hourly, mapping=aes(xintercept=value), linetype=2)"
   ]
  },
  {
   "cell_type": "markdown",
   "id": "5a9a0139-eabb-4f30-8154-548063e1c589",
   "metadata": {},
   "source": [
    "## Tables of hourly exceeding values"
   ]
  },
  {
   "cell_type": "code",
   "execution_count": 69,
   "id": "8caa492a-bd8d-4b88-b164-14a362e0a2fc",
   "metadata": {},
   "outputs": [
    {
     "data": {
      "text/html": [
       "<strong>O3:</strong> 120"
      ],
      "text/latex": [
       "\\textbf{O3:} 120"
      ],
      "text/markdown": [
       "**O3:** 120"
      ],
      "text/plain": [
       " O3 \n",
       "120 "
      ]
     },
     "metadata": {},
     "output_type": "display_data"
    }
   ],
   "source": [
    "(hourly_limits.vec <- with(limits.hourly, setNames(value, variable)))"
   ]
  },
  {
   "cell_type": "code",
   "execution_count": 70,
   "id": "c18960aa-1361-48c4-8284-daf834a4cb48",
   "metadata": {},
   "outputs": [],
   "source": [
    "hourly_exceedances <- hourly_lf %>%\n",
    "  filter(percent.recovery_hourly >= threshold &\n",
    "         value > hourly_limits.vec[as.character(variable)])"
   ]
  },
  {
   "cell_type": "code",
   "execution_count": 71,
   "id": "a096fe24-f72d-4f0e-b044-674ecfb25e42",
   "metadata": {},
   "outputs": [
    {
     "data": {
      "text/html": [
       "<table class=\"dataframe\">\n",
       "<caption>A tibble: 6 × 5</caption>\n",
       "<thead>\n",
       "\t<tr><th scope=col>site</th><th scope=col>datetime</th><th scope=col>variable</th><th scope=col>percent.recovery_hourly</th><th scope=col>value</th></tr>\n",
       "\t<tr><th scope=col>&lt;chr&gt;</th><th scope=col>&lt;dttm&gt;</th><th scope=col>&lt;chr&gt;</th><th scope=col>&lt;dbl&gt;</th><th scope=col>&lt;dbl&gt;</th></tr>\n",
       "</thead>\n",
       "<tbody>\n",
       "\t<tr><td>BAS</td><td>2024-04-13 13:00:00</td><td>O3</td><td>100</td><td>123.2</td></tr>\n",
       "\t<tr><td>BAS</td><td>2024-04-13 14:00:00</td><td>O3</td><td>100</td><td>129.9</td></tr>\n",
       "\t<tr><td>BAS</td><td>2024-04-13 15:00:00</td><td>O3</td><td>100</td><td>134.7</td></tr>\n",
       "\t<tr><td>BAS</td><td>2024-04-13 16:00:00</td><td>O3</td><td>100</td><td>134.0</td></tr>\n",
       "\t<tr><td>BAS</td><td>2024-04-13 17:00:00</td><td>O3</td><td>100</td><td>138.0</td></tr>\n",
       "\t<tr><td>BAS</td><td>2024-05-10 16:00:00</td><td>O3</td><td>100</td><td>121.8</td></tr>\n",
       "</tbody>\n",
       "</table>\n"
      ],
      "text/latex": [
       "A tibble: 6 × 5\n",
       "\\begin{tabular}{lllll}\n",
       " site & datetime & variable & percent.recovery\\_hourly & value\\\\\n",
       " <chr> & <dttm> & <chr> & <dbl> & <dbl>\\\\\n",
       "\\hline\n",
       "\t BAS & 2024-04-13 13:00:00 & O3 & 100 & 123.2\\\\\n",
       "\t BAS & 2024-04-13 14:00:00 & O3 & 100 & 129.9\\\\\n",
       "\t BAS & 2024-04-13 15:00:00 & O3 & 100 & 134.7\\\\\n",
       "\t BAS & 2024-04-13 16:00:00 & O3 & 100 & 134.0\\\\\n",
       "\t BAS & 2024-04-13 17:00:00 & O3 & 100 & 138.0\\\\\n",
       "\t BAS & 2024-05-10 16:00:00 & O3 & 100 & 121.8\\\\\n",
       "\\end{tabular}\n"
      ],
      "text/markdown": [
       "\n",
       "A tibble: 6 × 5\n",
       "\n",
       "| site &lt;chr&gt; | datetime &lt;dttm&gt; | variable &lt;chr&gt; | percent.recovery_hourly &lt;dbl&gt; | value &lt;dbl&gt; |\n",
       "|---|---|---|---|---|\n",
       "| BAS | 2024-04-13 13:00:00 | O3 | 100 | 123.2 |\n",
       "| BAS | 2024-04-13 14:00:00 | O3 | 100 | 129.9 |\n",
       "| BAS | 2024-04-13 15:00:00 | O3 | 100 | 134.7 |\n",
       "| BAS | 2024-04-13 16:00:00 | O3 | 100 | 134.0 |\n",
       "| BAS | 2024-04-13 17:00:00 | O3 | 100 | 138.0 |\n",
       "| BAS | 2024-05-10 16:00:00 | O3 | 100 | 121.8 |\n",
       "\n"
      ],
      "text/plain": [
       "  site datetime            variable percent.recovery_hourly value\n",
       "1 BAS  2024-04-13 13:00:00 O3       100                     123.2\n",
       "2 BAS  2024-04-13 14:00:00 O3       100                     129.9\n",
       "3 BAS  2024-04-13 15:00:00 O3       100                     134.7\n",
       "4 BAS  2024-04-13 16:00:00 O3       100                     134.0\n",
       "5 BAS  2024-04-13 17:00:00 O3       100                     138.0\n",
       "6 BAS  2024-05-10 16:00:00 O3       100                     121.8"
      ]
     },
     "metadata": {},
     "output_type": "display_data"
    }
   ],
   "source": [
    "head(hourly_exceedances)"
   ]
  },
  {
   "cell_type": "code",
   "execution_count": 72,
   "id": "6354b6df-1c0c-40e7-9a85-8717857826f9",
   "metadata": {},
   "outputs": [
    {
     "data": {
      "text/html": [
       "<table class=\"dataframe\">\n",
       "<caption>A tibble: 6 × 5</caption>\n",
       "<thead>\n",
       "\t<tr><th scope=col>site</th><th scope=col>datetime</th><th scope=col>variable</th><th scope=col>percent.recovery_hourly</th><th scope=col>value</th></tr>\n",
       "\t<tr><th scope=col>&lt;chr&gt;</th><th scope=col>&lt;dttm&gt;</th><th scope=col>&lt;chr&gt;</th><th scope=col>&lt;dbl&gt;</th><th scope=col>&lt;dbl&gt;</th></tr>\n",
       "</thead>\n",
       "<tbody>\n",
       "\t<tr><td>BAS</td><td>2024-09-01 12:00:00</td><td>O3</td><td>100</td><td>125.3</td></tr>\n",
       "\t<tr><td>BAS</td><td>2024-09-01 13:00:00</td><td>O3</td><td>100</td><td>131.4</td></tr>\n",
       "\t<tr><td>BAS</td><td>2024-09-01 14:00:00</td><td>O3</td><td>100</td><td>133.6</td></tr>\n",
       "\t<tr><td>BAS</td><td>2024-09-01 15:00:00</td><td>O3</td><td>100</td><td>139.8</td></tr>\n",
       "\t<tr><td>BAS</td><td>2024-09-01 16:00:00</td><td>O3</td><td>100</td><td>126.0</td></tr>\n",
       "\t<tr><td>BAS</td><td>2024-09-01 21:00:00</td><td>O3</td><td>100</td><td>121.4</td></tr>\n",
       "</tbody>\n",
       "</table>\n"
      ],
      "text/latex": [
       "A tibble: 6 × 5\n",
       "\\begin{tabular}{lllll}\n",
       " site & datetime & variable & percent.recovery\\_hourly & value\\\\\n",
       " <chr> & <dttm> & <chr> & <dbl> & <dbl>\\\\\n",
       "\\hline\n",
       "\t BAS & 2024-09-01 12:00:00 & O3 & 100 & 125.3\\\\\n",
       "\t BAS & 2024-09-01 13:00:00 & O3 & 100 & 131.4\\\\\n",
       "\t BAS & 2024-09-01 14:00:00 & O3 & 100 & 133.6\\\\\n",
       "\t BAS & 2024-09-01 15:00:00 & O3 & 100 & 139.8\\\\\n",
       "\t BAS & 2024-09-01 16:00:00 & O3 & 100 & 126.0\\\\\n",
       "\t BAS & 2024-09-01 21:00:00 & O3 & 100 & 121.4\\\\\n",
       "\\end{tabular}\n"
      ],
      "text/markdown": [
       "\n",
       "A tibble: 6 × 5\n",
       "\n",
       "| site &lt;chr&gt; | datetime &lt;dttm&gt; | variable &lt;chr&gt; | percent.recovery_hourly &lt;dbl&gt; | value &lt;dbl&gt; |\n",
       "|---|---|---|---|---|\n",
       "| BAS | 2024-09-01 12:00:00 | O3 | 100 | 125.3 |\n",
       "| BAS | 2024-09-01 13:00:00 | O3 | 100 | 131.4 |\n",
       "| BAS | 2024-09-01 14:00:00 | O3 | 100 | 133.6 |\n",
       "| BAS | 2024-09-01 15:00:00 | O3 | 100 | 139.8 |\n",
       "| BAS | 2024-09-01 16:00:00 | O3 | 100 | 126.0 |\n",
       "| BAS | 2024-09-01 21:00:00 | O3 | 100 | 121.4 |\n",
       "\n"
      ],
      "text/plain": [
       "  site datetime            variable percent.recovery_hourly value\n",
       "1 BAS  2024-09-01 12:00:00 O3       100                     125.3\n",
       "2 BAS  2024-09-01 13:00:00 O3       100                     131.4\n",
       "3 BAS  2024-09-01 14:00:00 O3       100                     133.6\n",
       "4 BAS  2024-09-01 15:00:00 O3       100                     139.8\n",
       "5 BAS  2024-09-01 16:00:00 O3       100                     126.0\n",
       "6 BAS  2024-09-01 21:00:00 O3       100                     121.4"
      ]
     },
     "metadata": {},
     "output_type": "display_data"
    }
   ],
   "source": [
    "tail(hourly_exceedances)"
   ]
  },
  {
   "cell_type": "code",
   "execution_count": 73,
   "id": "cf192c4b-d535-497b-8cbb-44f5cf325153",
   "metadata": {},
   "outputs": [
    {
     "data": {
      "text/html": [
       "<table class=\"dataframe\">\n",
       "<caption>A tibble: 1 × 3</caption>\n",
       "<thead>\n",
       "\t<tr><th scope=col>site</th><th scope=col>variable</th><th scope=col>n</th></tr>\n",
       "\t<tr><th scope=col>&lt;chr&gt;</th><th scope=col>&lt;chr&gt;</th><th scope=col>&lt;int&gt;</th></tr>\n",
       "</thead>\n",
       "<tbody>\n",
       "\t<tr><td>BAS</td><td>O3</td><td>109</td></tr>\n",
       "</tbody>\n",
       "</table>\n"
      ],
      "text/latex": [
       "A tibble: 1 × 3\n",
       "\\begin{tabular}{lll}\n",
       " site & variable & n\\\\\n",
       " <chr> & <chr> & <int>\\\\\n",
       "\\hline\n",
       "\t BAS & O3 & 109\\\\\n",
       "\\end{tabular}\n"
      ],
      "text/markdown": [
       "\n",
       "A tibble: 1 × 3\n",
       "\n",
       "| site &lt;chr&gt; | variable &lt;chr&gt; | n &lt;int&gt; |\n",
       "|---|---|---|\n",
       "| BAS | O3 | 109 |\n",
       "\n"
      ],
      "text/plain": [
       "  site variable n  \n",
       "1 BAS  O3       109"
      ]
     },
     "metadata": {},
     "output_type": "display_data"
    }
   ],
   "source": [
    "hourly_exceedances %>%\n",
    "  count(site, variable)"
   ]
  },
  {
   "cell_type": "code",
   "execution_count": 74,
   "id": "8203f722-126f-4964-8761-c2c89ae6c133",
   "metadata": {},
   "outputs": [
    {
     "data": {
      "text/html": [
       "<table class=\"dataframe\">\n",
       "<caption>A tibble: 6 × 4</caption>\n",
       "<thead>\n",
       "\t<tr><th scope=col>site</th><th scope=col>variable</th><th scope=col>month</th><th scope=col>n</th></tr>\n",
       "\t<tr><th scope=col>&lt;chr&gt;</th><th scope=col>&lt;chr&gt;</th><th scope=col>&lt;chr&gt;</th><th scope=col>&lt;int&gt;</th></tr>\n",
       "</thead>\n",
       "<tbody>\n",
       "\t<tr><td>BAS</td><td>O3</td><td>April    </td><td> 5</td></tr>\n",
       "\t<tr><td>BAS</td><td>O3</td><td>August   </td><td>52</td></tr>\n",
       "\t<tr><td>BAS</td><td>O3</td><td>July     </td><td>24</td></tr>\n",
       "\t<tr><td>BAS</td><td>O3</td><td>June     </td><td> 7</td></tr>\n",
       "\t<tr><td>BAS</td><td>O3</td><td>May      </td><td>15</td></tr>\n",
       "\t<tr><td>BAS</td><td>O3</td><td>September</td><td> 6</td></tr>\n",
       "</tbody>\n",
       "</table>\n"
      ],
      "text/latex": [
       "A tibble: 6 × 4\n",
       "\\begin{tabular}{llll}\n",
       " site & variable & month & n\\\\\n",
       " <chr> & <chr> & <chr> & <int>\\\\\n",
       "\\hline\n",
       "\t BAS & O3 & April     &  5\\\\\n",
       "\t BAS & O3 & August    & 52\\\\\n",
       "\t BAS & O3 & July      & 24\\\\\n",
       "\t BAS & O3 & June      &  7\\\\\n",
       "\t BAS & O3 & May       & 15\\\\\n",
       "\t BAS & O3 & September &  6\\\\\n",
       "\\end{tabular}\n"
      ],
      "text/markdown": [
       "\n",
       "A tibble: 6 × 4\n",
       "\n",
       "| site &lt;chr&gt; | variable &lt;chr&gt; | month &lt;chr&gt; | n &lt;int&gt; |\n",
       "|---|---|---|---|\n",
       "| BAS | O3 | April     |  5 |\n",
       "| BAS | O3 | August    | 52 |\n",
       "| BAS | O3 | July      | 24 |\n",
       "| BAS | O3 | June      |  7 |\n",
       "| BAS | O3 | May       | 15 |\n",
       "| BAS | O3 | September |  6 |\n",
       "\n"
      ],
      "text/plain": [
       "  site variable month     n \n",
       "1 BAS  O3       April      5\n",
       "2 BAS  O3       August    52\n",
       "3 BAS  O3       July      24\n",
       "4 BAS  O3       June       7\n",
       "5 BAS  O3       May       15\n",
       "6 BAS  O3       September  6"
      ]
     },
     "metadata": {},
     "output_type": "display_data"
    }
   ],
   "source": [
    "hourly_exceedances %>%\n",
    "  mutate(month = months(datetime)) %>%\n",
    "  count(site, variable, month)"
   ]
  },
  {
   "cell_type": "code",
   "execution_count": null,
   "id": "c392da57-e373-4a14-9b79-6656c208dee0",
   "metadata": {},
   "outputs": [],
   "source": []
  },
  {
   "cell_type": "code",
   "execution_count": null,
   "id": "d1f91196-01a8-41d9-90c6-a00832e5237e",
   "metadata": {},
   "outputs": [],
   "source": []
  },
  {
   "cell_type": "code",
   "execution_count": null,
   "id": "94bfd09d-5562-40a4-877c-78c6bdaac793",
   "metadata": {},
   "outputs": [],
   "source": []
  }
 ],
 "metadata": {
  "kernelspec": {
   "display_name": "R",
   "language": "R",
   "name": "ir"
  },
  "language_info": {
   "codemirror_mode": "r",
   "file_extension": ".r",
   "mimetype": "text/x-r-source",
   "name": "R",
   "pygments_lexer": "r",
   "version": "4.3.3"
  }
 },
 "nbformat": 4,
 "nbformat_minor": 5
}
