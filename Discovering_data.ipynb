{
 "cells": [
  {
   "cell_type": "markdown",
   "id": "cb4208e1-5f3f-4c15-bf31-f8a2b284e53f",
   "metadata": {},
   "source": [
    "# Data Viz"
   ]
  },
  {
   "cell_type": "code",
   "execution_count": 29,
   "id": "ac740f7d-a0a2-43a8-b5d9-81aed9435bb0",
   "metadata": {},
   "outputs": [
    {
     "name": "stderr",
     "output_type": "stream",
     "text": [
      "Installation du package dans 'C:/Users/matheo/Documents/R/win-library/4.1'\n",
      "(car 'lib' n'est pas spécifié)\n",
      "\n",
      "installation de la dépendance 'zip'\n",
      "\n",
      "\n"
     ]
    },
    {
     "name": "stdout",
     "output_type": "stream",
     "text": [
      "\n",
      "  Des versions binaires sont disponibles mais les versions des sources\n",
      "  sont plus récentes:\n",
      "          binary source needs_compilation\n",
      "zip        2.3.0  2.3.2              TRUE\n",
      "openxlsx 4.2.5.2  4.2.8              TRUE\n",
      "\n",
      "  Binaries will be installed\n",
      "package 'zip' successfully unpacked and MD5 sums checked\n",
      "package 'openxlsx' successfully unpacked and MD5 sums checked\n",
      "\n",
      "The downloaded binary packages are in\n",
      "\tC:\\Users\\matheo\\AppData\\Local\\Temp\\RtmpighMhU\\downloaded_packages\n"
     ]
    }
   ],
   "source": [
    "## ------------------------Installing libraries------------------------------------------------\n",
    "# Install from CRAN\n",
    "#install.packages(\"tidyverse\")\n",
    "#install.packages(\"lubridate\")\n",
    "install.packages(\"openxlsx\")"
   ]
  },
  {
   "cell_type": "code",
   "execution_count": 30,
   "id": "48ec2943-c46f-4534-837a-28670342f09b",
   "metadata": {},
   "outputs": [],
   "source": [
    "##______________________________ LOADING LIBRARIES________________________\n",
    "library(readr)\n",
    "library(tidyverse)\n",
    "library(lubridate)\n",
    "library(ggplot2)\n",
    "library(openxlsx)"
   ]
  },
  {
   "cell_type": "code",
   "execution_count": 3,
   "id": "c18cd1e2-44eb-4925-ab6c-6b89edd8b3f4",
   "metadata": {},
   "outputs": [],
   "source": [
    "# Functions\n",
    "\n",
    "## This function reads csv data files\n",
    "read_data <- function(filename, delim_f, skip_f) {\n",
    "    \n",
    "    ## Read data file\n",
    "    data <- read_delim(filename, delim=delim_f, skip=skip_f,\n",
    "                   col_names=c(\"datetime\",\"O3\",\"NO2\",\"SO2\",\"CO\",\"PM10\",\"TEMP\",\"PREC\",\"RAD\"), show_col_types = FALSE)\n",
    "    # show_col_types = TRUE shows the column types to explicit what each column contains\n",
    "\n",
    "    return(data)\n",
    "}"
   ]
  },
  {
   "cell_type": "code",
   "execution_count": 4,
   "id": "a6e2c4d3-8bf0-40c7-8e81-0d363b64af9c",
   "metadata": {},
   "outputs": [
    {
     "data": {
      "text/html": [
       "'C'"
      ],
      "text/latex": [
       "'C'"
      ],
      "text/markdown": [
       "'C'"
      ],
      "text/plain": [
       "[1] \"C\""
      ]
     },
     "metadata": {},
     "output_type": "display_data"
    }
   ],
   "source": [
    "## Specify settings\n",
    "Sys.setlocale(\"LC_TIME\",\"C\")\n",
    "options(stringsAsFactors=FALSE)\n",
    "theme_set(theme_bw()) # just my preference for plots"
   ]
  },
  {
   "cell_type": "code",
   "execution_count": 5,
   "id": "64b89d0d-df2b-4bd9-a9ed-7e90f9720019",
   "metadata": {},
   "outputs": [
    {
     "data": {
      "text/html": [
       "TRUE"
      ],
      "text/latex": [
       "TRUE"
      ],
      "text/markdown": [
       "TRUE"
      ],
      "text/plain": [
       "[1] TRUE"
      ]
     },
     "metadata": {},
     "output_type": "display_data"
    },
    {
     "data": {
      "text/html": [
       "TRUE"
      ],
      "text/latex": [
       "TRUE"
      ],
      "text/markdown": [
       "TRUE"
      ],
      "text/plain": [
       "[1] TRUE"
      ]
     },
     "metadata": {},
     "output_type": "display_data"
    }
   ],
   "source": [
    "## ------------------LOADING DATA------------------------------------------------------\n",
    "## Define input file (located in same directory)\n",
    "BASEL <- \"./Data/BAS(1).csv\"\n",
    "file.exists(BASEL)\n",
    "\n",
    "DAVOS <- \"./Data/DAV.csv\"\n",
    "file.exists(DAVOS)"
   ]
  },
  {
   "cell_type": "code",
   "execution_count": 6,
   "id": "eba3cc4c-080e-4952-af91-18012c95380f",
   "metadata": {},
   "outputs": [],
   "source": [
    "##____________________READING DATA_____________\n",
    "#DAVOS_data <- read_data(DAVOS, \";\", 6)\n",
    "DAVOS_data <- read_delim(DAVOS, delim=\";\", skip=6,\n",
    "               col_names=c(\"datetime\",\"O3\",\"NO2\",\"PM10\",\"NOx\",\"TEMP\",\"PREC\",\"RAD\"), show_col_types = FALSE)\n",
    "# BASEL_data <- read_data(BASEL, \";\", 6)\n",
    "## Read data file\n",
    "BASEL_data <- read_delim(BASEL, delim=\";\", skip=6,\n",
    "               col_names=c(\"datetime\",\"O3\",\"NO2\",\"SO2\",\"PM10\",\"PM2.5\",\"EC\", \"CPC\", \"NOx\",\"TEMP\",\"PREC\",\"RAD\"), show_col_types = FALSE)\n",
    "# show_col_types = TRUE shows the column types to explicit what each column contains\n"
   ]
  },
  {
   "cell_type": "code",
   "execution_count": 7,
   "id": "37aa1d32-46ab-4c26-af6d-9365bbaa1d93",
   "metadata": {},
   "outputs": [
    {
     "name": "stdout",
     "output_type": "stream",
     "text": [
      "Davos dataset:\n",
      "spc_tbl_ [8,784 x 8] (S3: spec_tbl_df/tbl_df/tbl/data.frame)\n",
      " $ datetime: chr [1:8784] \"01.01.2024 01:00\" \"01.01.2024 02:00\" \"01.01.2024 03:00\" \"01.01.2024 04:00\" ...\n",
      " $ O3      : num [1:8784] 57.7 55.2 49.9 52.1 65.8 67.1 64 58.4 61.8 59 ...\n",
      " $ NO2     : num [1:8784] 1.9 2.1 3.7 4.5 0.7 0.7 3.4 5.4 1.7 2.9 ...\n",
      " $ PM10    : num [1:8784] 1.2 1.5 2.2 3 0.2 0.4 0.3 0.3 0.3 0.4 ...\n",
      " $ NOx     : num [1:8784] 1.9 2.1 3.7 4.6 0.7 0.7 3.5 5.4 1.8 3.4 ...\n",
      " $ TEMP    : num [1:8784] -2.2 -2.8 -3.3 -4.2 -5.2 -5.6 -5.7 -5.9 -5.7 -5.3 ...\n",
      " $ PREC    : num [1:8784] 0 0 0 0 0 0 0 0 0 0 ...\n",
      " $ RAD     : num [1:8784] -0.6 -0.7 -0.7 -1.1 -1.3 -0.8 -0.6 -0.6 22.6 73.9 ...\n",
      " - attr(*, \"spec\")=\n",
      "  .. cols(\n",
      "  ..   datetime = \u001b[31mcol_character()\u001b[39m,\n",
      "  ..   O3 = \u001b[32mcol_double()\u001b[39m,\n",
      "  ..   NO2 = \u001b[32mcol_double()\u001b[39m,\n",
      "  ..   PM10 = \u001b[32mcol_double()\u001b[39m,\n",
      "  ..   NOx = \u001b[32mcol_double()\u001b[39m,\n",
      "  ..   TEMP = \u001b[32mcol_double()\u001b[39m,\n",
      "  ..   PREC = \u001b[32mcol_double()\u001b[39m,\n",
      "  ..   RAD = \u001b[32mcol_double()\u001b[39m\n",
      "  .. )\n",
      " - attr(*, \"problems\")=<externalptr> \n",
      "\n",
      "Basel dataset:\n",
      "spc_tbl_ [8,784 x 12] (S3: spec_tbl_df/tbl_df/tbl/data.frame)\n",
      " $ datetime: chr [1:8784] \"01.01.2024 01:00\" \"01.01.2024 02:00\" \"01.01.2024 03:00\" \"01.01.2024 04:00\" ...\n",
      " $ O3      : num [1:8784] 60.2 70 70.3 67 66.5 67.1 70.1 71.7 64.6 67.6 ...\n",
      " $ NO2     : num [1:8784] 7.5 1.9 1.5 1.3 2 2.7 2 1.5 2.6 2.1 ...\n",
      " $ SO2     : num [1:8784] 1.6 0.7 0.4 0.3 0.3 0.3 0.2 0.2 0.2 0.2 ...\n",
      " $ PM10    : num [1:8784] 35.8 7.2 3.7 2 2.9 4.6 3.1 4.6 4.8 5.7 ...\n",
      " $ PM2.5   : num [1:8784] 25.2 4.4 1.8 1 1.4 2.1 1.5 2.1 2.1 2.5 ...\n",
      " $ EC      : num [1:8784] 0.4 0.1 0 0 0.1 0.1 0 0 0 0.1 ...\n",
      " $ CPC     : num [1:8784] 10341 2394 1341 1173 1308 ...\n",
      " $ NOx     : num [1:8784] 8.7 2.5 2.1 2 2.7 3.3 2.8 2.3 3.4 2.9 ...\n",
      " $ TEMP    : num [1:8784] 5.5 6.6 5.7 5.7 5.7 5.9 6.1 6.6 5.5 6.8 ...\n",
      " $ PREC    : num [1:8784] 0 0 1.4 0 0 0 0 0 0 0 ...\n",
      " $ RAD     : num [1:8784] 0 0 0 0 0.2 0 0 0 14.5 95.5 ...\n",
      " - attr(*, \"spec\")=\n",
      "  .. cols(\n",
      "  ..   datetime = \u001b[31mcol_character()\u001b[39m,\n",
      "  ..   O3 = \u001b[32mcol_double()\u001b[39m,\n",
      "  ..   NO2 = \u001b[32mcol_double()\u001b[39m,\n",
      "  ..   SO2 = \u001b[32mcol_double()\u001b[39m,\n",
      "  ..   PM10 = \u001b[32mcol_double()\u001b[39m,\n",
      "  ..   PM2.5 = \u001b[32mcol_double()\u001b[39m,\n",
      "  ..   EC = \u001b[32mcol_double()\u001b[39m,\n",
      "  ..   CPC = \u001b[32mcol_double()\u001b[39m,\n",
      "  ..   NOx = \u001b[32mcol_double()\u001b[39m,\n",
      "  ..   TEMP = \u001b[32mcol_double()\u001b[39m,\n",
      "  ..   PREC = \u001b[32mcol_double()\u001b[39m,\n",
      "  ..   RAD = \u001b[32mcol_double()\u001b[39m\n",
      "  .. )\n",
      " - attr(*, \"problems\")=<externalptr> \n"
     ]
    }
   ],
   "source": [
    "## ------------------------------------------------------------------------\n",
    "## View information stored in object\n",
    "cat(\"Davos dataset:\\n\")\n",
    "str(DAVOS_data)\n",
    "\n",
    "cat(\"\\nBasel dataset:\\n\")\n",
    "str(BASEL_data)"
   ]
  },
  {
   "cell_type": "code",
   "execution_count": 8,
   "id": "e9ba7f0f-aaf6-40cc-975f-0d77fb1e9f72",
   "metadata": {},
   "outputs": [
    {
     "name": "stdout",
     "output_type": "stream",
     "text": [
      "DAVOS:\n"
     ]
    },
    {
     "data": {
      "text/html": [
       "<table class=\"dataframe\">\n",
       "<caption>A tibble: 6 × 8</caption>\n",
       "<thead>\n",
       "\t<tr><th scope=col>datetime</th><th scope=col>O3</th><th scope=col>NO2</th><th scope=col>PM10</th><th scope=col>NOx</th><th scope=col>TEMP</th><th scope=col>PREC</th><th scope=col>RAD</th></tr>\n",
       "\t<tr><th scope=col>&lt;chr&gt;</th><th scope=col>&lt;dbl&gt;</th><th scope=col>&lt;dbl&gt;</th><th scope=col>&lt;dbl&gt;</th><th scope=col>&lt;dbl&gt;</th><th scope=col>&lt;dbl&gt;</th><th scope=col>&lt;dbl&gt;</th><th scope=col>&lt;dbl&gt;</th></tr>\n",
       "</thead>\n",
       "<tbody>\n",
       "\t<tr><td>01.01.2024 01:00</td><td>57.7</td><td>1.9</td><td>1.2</td><td>1.9</td><td>-2.2</td><td>0</td><td>-0.6</td></tr>\n",
       "\t<tr><td>01.01.2024 02:00</td><td>55.2</td><td>2.1</td><td>1.5</td><td>2.1</td><td>-2.8</td><td>0</td><td>-0.7</td></tr>\n",
       "\t<tr><td>01.01.2024 03:00</td><td>49.9</td><td>3.7</td><td>2.2</td><td>3.7</td><td>-3.3</td><td>0</td><td>-0.7</td></tr>\n",
       "\t<tr><td>01.01.2024 04:00</td><td>52.1</td><td>4.5</td><td>3.0</td><td>4.6</td><td>-4.2</td><td>0</td><td>-1.1</td></tr>\n",
       "\t<tr><td>01.01.2024 05:00</td><td>65.8</td><td>0.7</td><td>0.2</td><td>0.7</td><td>-5.2</td><td>0</td><td>-1.3</td></tr>\n",
       "\t<tr><td>01.01.2024 06:00</td><td>67.1</td><td>0.7</td><td>0.4</td><td>0.7</td><td>-5.6</td><td>0</td><td>-0.8</td></tr>\n",
       "</tbody>\n",
       "</table>\n"
      ],
      "text/latex": [
       "A tibble: 6 × 8\n",
       "\\begin{tabular}{llllllll}\n",
       " datetime & O3 & NO2 & PM10 & NOx & TEMP & PREC & RAD\\\\\n",
       " <chr> & <dbl> & <dbl> & <dbl> & <dbl> & <dbl> & <dbl> & <dbl>\\\\\n",
       "\\hline\n",
       "\t 01.01.2024 01:00 & 57.7 & 1.9 & 1.2 & 1.9 & -2.2 & 0 & -0.6\\\\\n",
       "\t 01.01.2024 02:00 & 55.2 & 2.1 & 1.5 & 2.1 & -2.8 & 0 & -0.7\\\\\n",
       "\t 01.01.2024 03:00 & 49.9 & 3.7 & 2.2 & 3.7 & -3.3 & 0 & -0.7\\\\\n",
       "\t 01.01.2024 04:00 & 52.1 & 4.5 & 3.0 & 4.6 & -4.2 & 0 & -1.1\\\\\n",
       "\t 01.01.2024 05:00 & 65.8 & 0.7 & 0.2 & 0.7 & -5.2 & 0 & -1.3\\\\\n",
       "\t 01.01.2024 06:00 & 67.1 & 0.7 & 0.4 & 0.7 & -5.6 & 0 & -0.8\\\\\n",
       "\\end{tabular}\n"
      ],
      "text/markdown": [
       "\n",
       "A tibble: 6 × 8\n",
       "\n",
       "| datetime &lt;chr&gt; | O3 &lt;dbl&gt; | NO2 &lt;dbl&gt; | PM10 &lt;dbl&gt; | NOx &lt;dbl&gt; | TEMP &lt;dbl&gt; | PREC &lt;dbl&gt; | RAD &lt;dbl&gt; |\n",
       "|---|---|---|---|---|---|---|---|\n",
       "| 01.01.2024 01:00 | 57.7 | 1.9 | 1.2 | 1.9 | -2.2 | 0 | -0.6 |\n",
       "| 01.01.2024 02:00 | 55.2 | 2.1 | 1.5 | 2.1 | -2.8 | 0 | -0.7 |\n",
       "| 01.01.2024 03:00 | 49.9 | 3.7 | 2.2 | 3.7 | -3.3 | 0 | -0.7 |\n",
       "| 01.01.2024 04:00 | 52.1 | 4.5 | 3.0 | 4.6 | -4.2 | 0 | -1.1 |\n",
       "| 01.01.2024 05:00 | 65.8 | 0.7 | 0.2 | 0.7 | -5.2 | 0 | -1.3 |\n",
       "| 01.01.2024 06:00 | 67.1 | 0.7 | 0.4 | 0.7 | -5.6 | 0 | -0.8 |\n",
       "\n"
      ],
      "text/plain": [
       "  datetime         O3   NO2 PM10 NOx TEMP PREC RAD \n",
       "1 01.01.2024 01:00 57.7 1.9 1.2  1.9 -2.2 0    -0.6\n",
       "2 01.01.2024 02:00 55.2 2.1 1.5  2.1 -2.8 0    -0.7\n",
       "3 01.01.2024 03:00 49.9 3.7 2.2  3.7 -3.3 0    -0.7\n",
       "4 01.01.2024 04:00 52.1 4.5 3.0  4.6 -4.2 0    -1.1\n",
       "5 01.01.2024 05:00 65.8 0.7 0.2  0.7 -5.2 0    -1.3\n",
       "6 01.01.2024 06:00 67.1 0.7 0.4  0.7 -5.6 0    -0.8"
      ]
     },
     "metadata": {},
     "output_type": "display_data"
    },
    {
     "name": "stdout",
     "output_type": "stream",
     "text": [
      "\n",
      "BASEL:\n"
     ]
    },
    {
     "data": {
      "text/html": [
       "<table class=\"dataframe\">\n",
       "<caption>A tibble: 6 × 12</caption>\n",
       "<thead>\n",
       "\t<tr><th scope=col>datetime</th><th scope=col>O3</th><th scope=col>NO2</th><th scope=col>SO2</th><th scope=col>PM10</th><th scope=col>PM2.5</th><th scope=col>EC</th><th scope=col>CPC</th><th scope=col>NOx</th><th scope=col>TEMP</th><th scope=col>PREC</th><th scope=col>RAD</th></tr>\n",
       "\t<tr><th scope=col>&lt;chr&gt;</th><th scope=col>&lt;dbl&gt;</th><th scope=col>&lt;dbl&gt;</th><th scope=col>&lt;dbl&gt;</th><th scope=col>&lt;dbl&gt;</th><th scope=col>&lt;dbl&gt;</th><th scope=col>&lt;dbl&gt;</th><th scope=col>&lt;dbl&gt;</th><th scope=col>&lt;dbl&gt;</th><th scope=col>&lt;dbl&gt;</th><th scope=col>&lt;dbl&gt;</th><th scope=col>&lt;dbl&gt;</th></tr>\n",
       "</thead>\n",
       "<tbody>\n",
       "\t<tr><td>01.01.2024 01:00</td><td>60.2</td><td>7.5</td><td>1.6</td><td>35.8</td><td>25.2</td><td>0.4</td><td>10340.6</td><td>8.7</td><td>5.5</td><td>0.0</td><td>0.0</td></tr>\n",
       "\t<tr><td>01.01.2024 02:00</td><td>70.0</td><td>1.9</td><td>0.7</td><td> 7.2</td><td> 4.4</td><td>0.1</td><td> 2394.0</td><td>2.5</td><td>6.6</td><td>0.0</td><td>0.0</td></tr>\n",
       "\t<tr><td>01.01.2024 03:00</td><td>70.3</td><td>1.5</td><td>0.4</td><td> 3.7</td><td> 1.8</td><td>0.0</td><td> 1341.2</td><td>2.1</td><td>5.7</td><td>1.4</td><td>0.0</td></tr>\n",
       "\t<tr><td>01.01.2024 04:00</td><td>67.0</td><td>1.3</td><td>0.3</td><td> 2.0</td><td> 1.0</td><td>0.0</td><td> 1172.6</td><td>2.0</td><td>5.7</td><td>0.0</td><td>0.0</td></tr>\n",
       "\t<tr><td>01.01.2024 05:00</td><td>66.5</td><td>2.0</td><td>0.3</td><td> 2.9</td><td> 1.4</td><td>0.1</td><td> 1308.0</td><td>2.7</td><td>5.7</td><td>0.0</td><td>0.2</td></tr>\n",
       "\t<tr><td>01.01.2024 06:00</td><td>67.1</td><td>2.7</td><td>0.3</td><td> 4.6</td><td> 2.1</td><td>0.1</td><td> 1455.6</td><td>3.3</td><td>5.9</td><td>0.0</td><td>0.0</td></tr>\n",
       "</tbody>\n",
       "</table>\n"
      ],
      "text/latex": [
       "A tibble: 6 × 12\n",
       "\\begin{tabular}{llllllllllll}\n",
       " datetime & O3 & NO2 & SO2 & PM10 & PM2.5 & EC & CPC & NOx & TEMP & PREC & RAD\\\\\n",
       " <chr> & <dbl> & <dbl> & <dbl> & <dbl> & <dbl> & <dbl> & <dbl> & <dbl> & <dbl> & <dbl> & <dbl>\\\\\n",
       "\\hline\n",
       "\t 01.01.2024 01:00 & 60.2 & 7.5 & 1.6 & 35.8 & 25.2 & 0.4 & 10340.6 & 8.7 & 5.5 & 0.0 & 0.0\\\\\n",
       "\t 01.01.2024 02:00 & 70.0 & 1.9 & 0.7 &  7.2 &  4.4 & 0.1 &  2394.0 & 2.5 & 6.6 & 0.0 & 0.0\\\\\n",
       "\t 01.01.2024 03:00 & 70.3 & 1.5 & 0.4 &  3.7 &  1.8 & 0.0 &  1341.2 & 2.1 & 5.7 & 1.4 & 0.0\\\\\n",
       "\t 01.01.2024 04:00 & 67.0 & 1.3 & 0.3 &  2.0 &  1.0 & 0.0 &  1172.6 & 2.0 & 5.7 & 0.0 & 0.0\\\\\n",
       "\t 01.01.2024 05:00 & 66.5 & 2.0 & 0.3 &  2.9 &  1.4 & 0.1 &  1308.0 & 2.7 & 5.7 & 0.0 & 0.2\\\\\n",
       "\t 01.01.2024 06:00 & 67.1 & 2.7 & 0.3 &  4.6 &  2.1 & 0.1 &  1455.6 & 3.3 & 5.9 & 0.0 & 0.0\\\\\n",
       "\\end{tabular}\n"
      ],
      "text/markdown": [
       "\n",
       "A tibble: 6 × 12\n",
       "\n",
       "| datetime &lt;chr&gt; | O3 &lt;dbl&gt; | NO2 &lt;dbl&gt; | SO2 &lt;dbl&gt; | PM10 &lt;dbl&gt; | PM2.5 &lt;dbl&gt; | EC &lt;dbl&gt; | CPC &lt;dbl&gt; | NOx &lt;dbl&gt; | TEMP &lt;dbl&gt; | PREC &lt;dbl&gt; | RAD &lt;dbl&gt; |\n",
       "|---|---|---|---|---|---|---|---|---|---|---|---|\n",
       "| 01.01.2024 01:00 | 60.2 | 7.5 | 1.6 | 35.8 | 25.2 | 0.4 | 10340.6 | 8.7 | 5.5 | 0.0 | 0.0 |\n",
       "| 01.01.2024 02:00 | 70.0 | 1.9 | 0.7 |  7.2 |  4.4 | 0.1 |  2394.0 | 2.5 | 6.6 | 0.0 | 0.0 |\n",
       "| 01.01.2024 03:00 | 70.3 | 1.5 | 0.4 |  3.7 |  1.8 | 0.0 |  1341.2 | 2.1 | 5.7 | 1.4 | 0.0 |\n",
       "| 01.01.2024 04:00 | 67.0 | 1.3 | 0.3 |  2.0 |  1.0 | 0.0 |  1172.6 | 2.0 | 5.7 | 0.0 | 0.0 |\n",
       "| 01.01.2024 05:00 | 66.5 | 2.0 | 0.3 |  2.9 |  1.4 | 0.1 |  1308.0 | 2.7 | 5.7 | 0.0 | 0.2 |\n",
       "| 01.01.2024 06:00 | 67.1 | 2.7 | 0.3 |  4.6 |  2.1 | 0.1 |  1455.6 | 3.3 | 5.9 | 0.0 | 0.0 |\n",
       "\n"
      ],
      "text/plain": [
       "  datetime         O3   NO2 SO2 PM10 PM2.5 EC  CPC     NOx TEMP PREC RAD\n",
       "1 01.01.2024 01:00 60.2 7.5 1.6 35.8 25.2  0.4 10340.6 8.7 5.5  0.0  0.0\n",
       "2 01.01.2024 02:00 70.0 1.9 0.7  7.2  4.4  0.1  2394.0 2.5 6.6  0.0  0.0\n",
       "3 01.01.2024 03:00 70.3 1.5 0.4  3.7  1.8  0.0  1341.2 2.1 5.7  1.4  0.0\n",
       "4 01.01.2024 04:00 67.0 1.3 0.3  2.0  1.0  0.0  1172.6 2.0 5.7  0.0  0.0\n",
       "5 01.01.2024 05:00 66.5 2.0 0.3  2.9  1.4  0.1  1308.0 2.7 5.7  0.0  0.2\n",
       "6 01.01.2024 06:00 67.1 2.7 0.3  4.6  2.1  0.1  1455.6 3.3 5.9  0.0  0.0"
      ]
     },
     "metadata": {},
     "output_type": "display_data"
    }
   ],
   "source": [
    "## ------------------------------------------------------------------------\n",
    "## View first 6 lines\n",
    "cat(\"DAVOS:\\n\")\n",
    "head(DAVOS_data)\n",
    "cat(\"\\nBASEL:\\n\")\n",
    "head(BASEL_data)"
   ]
  },
  {
   "cell_type": "code",
   "execution_count": 9,
   "id": "20f793b6-27dd-415e-97bb-f4634ff48f08",
   "metadata": {},
   "outputs": [
    {
     "name": "stderr",
     "output_type": "stream",
     "text": [
      "Warning message:\n",
      "\" 1 failed to parse.\"\n"
     ]
    }
   ],
   "source": [
    "# Parse the datetime with the 'Europe/Paris' timezone\n",
    "# Parse the datetime column (assuming it's named correctly)\n",
    "##data[[\"datetime\"]] <- parse_date_time(data[[\"datetime\"]], \"%d.%m.%Y %H:%M\", tz = \"Europe/Paris\")\n",
    "\n",
    "# Using $ to access the datetime column \n",
    "## TO DO only once\n",
    "DAVOS_data$datetime <- parse_date_time(DAVOS_data$datetime, \"%d.%m.%Y %H:%M\", tz = \"Europe/Paris\")"
   ]
  },
  {
   "cell_type": "code",
   "execution_count": 10,
   "id": "5cbb71dc-b8d1-4efe-a6cc-e6e43467e447",
   "metadata": {},
   "outputs": [
    {
     "data": {
      "text/html": [
       "2162"
      ],
      "text/latex": [
       "2162"
      ],
      "text/markdown": [
       "2162"
      ],
      "text/plain": [
       "[1] 2162"
      ]
     },
     "metadata": {},
     "output_type": "display_data"
    },
    {
     "data": {
      "text/html": [
       "<table class=\"dataframe\">\n",
       "<caption>A tibble: 1 × 8</caption>\n",
       "<thead>\n",
       "\t<tr><th scope=col>datetime</th><th scope=col>O3</th><th scope=col>NO2</th><th scope=col>PM10</th><th scope=col>NOx</th><th scope=col>TEMP</th><th scope=col>PREC</th><th scope=col>RAD</th></tr>\n",
       "\t<tr><th scope=col>&lt;dttm&gt;</th><th scope=col>&lt;dbl&gt;</th><th scope=col>&lt;dbl&gt;</th><th scope=col>&lt;dbl&gt;</th><th scope=col>&lt;dbl&gt;</th><th scope=col>&lt;dbl&gt;</th><th scope=col>&lt;dbl&gt;</th><th scope=col>&lt;dbl&gt;</th></tr>\n",
       "</thead>\n",
       "<tbody>\n",
       "\t<tr><td>NA</td><td>68.5</td><td>0.6</td><td>0.2</td><td>0.7</td><td>0.3</td><td>1.3</td><td>0</td></tr>\n",
       "</tbody>\n",
       "</table>\n"
      ],
      "text/latex": [
       "A tibble: 1 × 8\n",
       "\\begin{tabular}{llllllll}\n",
       " datetime & O3 & NO2 & PM10 & NOx & TEMP & PREC & RAD\\\\\n",
       " <dttm> & <dbl> & <dbl> & <dbl> & <dbl> & <dbl> & <dbl> & <dbl>\\\\\n",
       "\\hline\n",
       "\t NA & 68.5 & 0.6 & 0.2 & 0.7 & 0.3 & 1.3 & 0\\\\\n",
       "\\end{tabular}\n"
      ],
      "text/markdown": [
       "\n",
       "A tibble: 1 × 8\n",
       "\n",
       "| datetime &lt;dttm&gt; | O3 &lt;dbl&gt; | NO2 &lt;dbl&gt; | PM10 &lt;dbl&gt; | NOx &lt;dbl&gt; | TEMP &lt;dbl&gt; | PREC &lt;dbl&gt; | RAD &lt;dbl&gt; |\n",
       "|---|---|---|---|---|---|---|---|\n",
       "| NA | 68.5 | 0.6 | 0.2 | 0.7 | 0.3 | 1.3 | 0 |\n",
       "\n"
      ],
      "text/plain": [
       "  datetime O3   NO2 PM10 NOx TEMP PREC RAD\n",
       "1 <NA>     68.5 0.6 0.2  0.7 0.3  1.3  0  "
      ]
     },
     "metadata": {},
     "output_type": "display_data"
    }
   ],
   "source": [
    "#checking table rows \n",
    "invalid_rows <- which(is.na(DAVOS_data$datetime))\n",
    "invalid_rows\n",
    "invalid_dates <- DAVOS_data[is.na(DAVOS_data$datetime), ]\n",
    "invalid_dates"
   ]
  },
  {
   "cell_type": "code",
   "execution_count": 11,
   "id": "91650b86-0c3a-43b6-a351-0c272ba19147",
   "metadata": {},
   "outputs": [],
   "source": [
    "## uncomment th eline below to coorect ptential errors\n",
    "DAVOS_data[invalid_rows, \"datetime\"] <- as.POSIXct(\"2024-03-31 02:00:00\")"
   ]
  },
  {
   "cell_type": "code",
   "execution_count": 12,
   "id": "2c3e1f23-24cb-4cbe-b042-6bdcce548791",
   "metadata": {},
   "outputs": [
    {
     "data": {
      "text/html": [
       "<table class=\"dataframe\">\n",
       "<caption>A tibble: 6 × 10</caption>\n",
       "<thead>\n",
       "\t<tr><th scope=col>datetime</th><th scope=col>O3</th><th scope=col>NO2</th><th scope=col>PM10</th><th scope=col>NOx</th><th scope=col>TEMP</th><th scope=col>PREC</th><th scope=col>RAD</th><th scope=col>month</th><th scope=col>date</th></tr>\n",
       "\t<tr><th scope=col>&lt;dttm&gt;</th><th scope=col>&lt;dbl&gt;</th><th scope=col>&lt;dbl&gt;</th><th scope=col>&lt;dbl&gt;</th><th scope=col>&lt;dbl&gt;</th><th scope=col>&lt;dbl&gt;</th><th scope=col>&lt;dbl&gt;</th><th scope=col>&lt;dbl&gt;</th><th scope=col>&lt;dbl&gt;</th><th scope=col>&lt;date&gt;</th></tr>\n",
       "</thead>\n",
       "<tbody>\n",
       "\t<tr><td>2024-01-01 01:00:00</td><td>57.7</td><td>1.9</td><td>1.2</td><td>1.9</td><td>-2.2</td><td>0</td><td>-0.6</td><td>1</td><td>2024-01-01</td></tr>\n",
       "\t<tr><td>2024-01-01 02:00:00</td><td>55.2</td><td>2.1</td><td>1.5</td><td>2.1</td><td>-2.8</td><td>0</td><td>-0.7</td><td>1</td><td>2024-01-01</td></tr>\n",
       "\t<tr><td>2024-01-01 03:00:00</td><td>49.9</td><td>3.7</td><td>2.2</td><td>3.7</td><td>-3.3</td><td>0</td><td>-0.7</td><td>1</td><td>2024-01-01</td></tr>\n",
       "\t<tr><td>2024-01-01 04:00:00</td><td>52.1</td><td>4.5</td><td>3.0</td><td>4.6</td><td>-4.2</td><td>0</td><td>-1.1</td><td>1</td><td>2024-01-01</td></tr>\n",
       "\t<tr><td>2024-01-01 05:00:00</td><td>65.8</td><td>0.7</td><td>0.2</td><td>0.7</td><td>-5.2</td><td>0</td><td>-1.3</td><td>1</td><td>2024-01-01</td></tr>\n",
       "\t<tr><td>2024-01-01 06:00:00</td><td>67.1</td><td>0.7</td><td>0.4</td><td>0.7</td><td>-5.6</td><td>0</td><td>-0.8</td><td>1</td><td>2024-01-01</td></tr>\n",
       "</tbody>\n",
       "</table>\n"
      ],
      "text/latex": [
       "A tibble: 6 × 10\n",
       "\\begin{tabular}{llllllllll}\n",
       " datetime & O3 & NO2 & PM10 & NOx & TEMP & PREC & RAD & month & date\\\\\n",
       " <dttm> & <dbl> & <dbl> & <dbl> & <dbl> & <dbl> & <dbl> & <dbl> & <dbl> & <date>\\\\\n",
       "\\hline\n",
       "\t 2024-01-01 01:00:00 & 57.7 & 1.9 & 1.2 & 1.9 & -2.2 & 0 & -0.6 & 1 & 2024-01-01\\\\\n",
       "\t 2024-01-01 02:00:00 & 55.2 & 2.1 & 1.5 & 2.1 & -2.8 & 0 & -0.7 & 1 & 2024-01-01\\\\\n",
       "\t 2024-01-01 03:00:00 & 49.9 & 3.7 & 2.2 & 3.7 & -3.3 & 0 & -0.7 & 1 & 2024-01-01\\\\\n",
       "\t 2024-01-01 04:00:00 & 52.1 & 4.5 & 3.0 & 4.6 & -4.2 & 0 & -1.1 & 1 & 2024-01-01\\\\\n",
       "\t 2024-01-01 05:00:00 & 65.8 & 0.7 & 0.2 & 0.7 & -5.2 & 0 & -1.3 & 1 & 2024-01-01\\\\\n",
       "\t 2024-01-01 06:00:00 & 67.1 & 0.7 & 0.4 & 0.7 & -5.6 & 0 & -0.8 & 1 & 2024-01-01\\\\\n",
       "\\end{tabular}\n"
      ],
      "text/markdown": [
       "\n",
       "A tibble: 6 × 10\n",
       "\n",
       "| datetime &lt;dttm&gt; | O3 &lt;dbl&gt; | NO2 &lt;dbl&gt; | PM10 &lt;dbl&gt; | NOx &lt;dbl&gt; | TEMP &lt;dbl&gt; | PREC &lt;dbl&gt; | RAD &lt;dbl&gt; | month &lt;dbl&gt; | date &lt;date&gt; |\n",
       "|---|---|---|---|---|---|---|---|---|---|\n",
       "| 2024-01-01 01:00:00 | 57.7 | 1.9 | 1.2 | 1.9 | -2.2 | 0 | -0.6 | 1 | 2024-01-01 |\n",
       "| 2024-01-01 02:00:00 | 55.2 | 2.1 | 1.5 | 2.1 | -2.8 | 0 | -0.7 | 1 | 2024-01-01 |\n",
       "| 2024-01-01 03:00:00 | 49.9 | 3.7 | 2.2 | 3.7 | -3.3 | 0 | -0.7 | 1 | 2024-01-01 |\n",
       "| 2024-01-01 04:00:00 | 52.1 | 4.5 | 3.0 | 4.6 | -4.2 | 0 | -1.1 | 1 | 2024-01-01 |\n",
       "| 2024-01-01 05:00:00 | 65.8 | 0.7 | 0.2 | 0.7 | -5.2 | 0 | -1.3 | 1 | 2024-01-01 |\n",
       "| 2024-01-01 06:00:00 | 67.1 | 0.7 | 0.4 | 0.7 | -5.6 | 0 | -0.8 | 1 | 2024-01-01 |\n",
       "\n"
      ],
      "text/plain": [
       "  datetime            O3   NO2 PM10 NOx TEMP PREC RAD  month date      \n",
       "1 2024-01-01 01:00:00 57.7 1.9 1.2  1.9 -2.2 0    -0.6 1     2024-01-01\n",
       "2 2024-01-01 02:00:00 55.2 2.1 1.5  2.1 -2.8 0    -0.7 1     2024-01-01\n",
       "3 2024-01-01 03:00:00 49.9 3.7 2.2  3.7 -3.3 0    -0.7 1     2024-01-01\n",
       "4 2024-01-01 04:00:00 52.1 4.5 3.0  4.6 -4.2 0    -1.1 1     2024-01-01\n",
       "5 2024-01-01 05:00:00 65.8 0.7 0.2  0.7 -5.2 0    -1.3 1     2024-01-01\n",
       "6 2024-01-01 06:00:00 67.1 0.7 0.4  0.7 -5.6 0    -0.8 1     2024-01-01"
      ]
     },
     "metadata": {},
     "output_type": "display_data"
    }
   ],
   "source": [
    "# Extract the month\n",
    "DAVOS_data[[\"month\"]] <- month(DAVOS_data[[\"datetime\"]])\n",
    "\n",
    "# Extract the date (without time)\n",
    "DAVOS_data[[\"date\"]] <- date(DAVOS_data[[\"datetime\"]])\n",
    "\n",
    "# Check the results\n",
    "head(DAVOS_data)"
   ]
  },
  {
   "cell_type": "code",
   "execution_count": 13,
   "id": "916814d7-56b4-440b-a943-42631d9f62e3",
   "metadata": {},
   "outputs": [
    {
     "data": {
      "text/html": [],
      "text/latex": [],
      "text/markdown": [],
      "text/plain": [
       "integer(0)"
      ]
     },
     "metadata": {},
     "output_type": "display_data"
    },
    {
     "data": {
      "text/html": [
       "<table class=\"dataframe\">\n",
       "<caption>A tibble: 0 × 10</caption>\n",
       "<thead>\n",
       "\t<tr><th scope=col>datetime</th><th scope=col>O3</th><th scope=col>NO2</th><th scope=col>PM10</th><th scope=col>NOx</th><th scope=col>TEMP</th><th scope=col>PREC</th><th scope=col>RAD</th><th scope=col>month</th><th scope=col>date</th></tr>\n",
       "\t<tr><th scope=col>&lt;dttm&gt;</th><th scope=col>&lt;dbl&gt;</th><th scope=col>&lt;dbl&gt;</th><th scope=col>&lt;dbl&gt;</th><th scope=col>&lt;dbl&gt;</th><th scope=col>&lt;dbl&gt;</th><th scope=col>&lt;dbl&gt;</th><th scope=col>&lt;dbl&gt;</th><th scope=col>&lt;dbl&gt;</th><th scope=col>&lt;date&gt;</th></tr>\n",
       "</thead>\n",
       "<tbody>\n",
       "</tbody>\n",
       "</table>\n"
      ],
      "text/latex": [
       "A tibble: 0 × 10\n",
       "\\begin{tabular}{llllllllll}\n",
       " datetime & O3 & NO2 & PM10 & NOx & TEMP & PREC & RAD & month & date\\\\\n",
       " <dttm> & <dbl> & <dbl> & <dbl> & <dbl> & <dbl> & <dbl> & <dbl> & <dbl> & <date>\\\\\n",
       "\\hline\n",
       "\\end{tabular}\n"
      ],
      "text/markdown": [
       "\n",
       "A tibble: 0 × 10\n",
       "\n",
       "| datetime &lt;dttm&gt; | O3 &lt;dbl&gt; | NO2 &lt;dbl&gt; | PM10 &lt;dbl&gt; | NOx &lt;dbl&gt; | TEMP &lt;dbl&gt; | PREC &lt;dbl&gt; | RAD &lt;dbl&gt; | month &lt;dbl&gt; | date &lt;date&gt; |\n",
       "|---|---|---|---|---|---|---|---|---|---|\n",
       "\n"
      ],
      "text/plain": [
       "     datetime O3 NO2 PM10 NOx TEMP PREC RAD month date"
      ]
     },
     "metadata": {},
     "output_type": "display_data"
    }
   ],
   "source": [
    "# Second check to make sure the file is fixed : #checking table rows \n",
    "invalid_rows <- which(is.na(DAVOS_data$datetime))\n",
    "invalid_rows\n",
    "invalid_dates <- DAVOS_data[is.na(DAVOS_data$datetime), ]\n",
    "invalid_dates"
   ]
  },
  {
   "cell_type": "code",
   "execution_count": 14,
   "id": "2759c9ce-6a49-4095-bb92-8446916878c9",
   "metadata": {},
   "outputs": [
    {
     "data": {
      "image/png": "[encoded data removed]",
      "text/plain": [
       "plot without title"
      ]
     },
     "metadata": {
      "image/png": {
       "height": 420,
       "width": 420
      }
     },
     "output_type": "display_data"
    }
   ],
   "source": [
    "## ---- fig.width=8, fig.height=5------------------------------------------\n",
    "ggplot(DAVOS_data)+\n",
    "  geom_line(aes(datetime, O3))"
   ]
  },
  {
   "cell_type": "code",
   "execution_count": 15,
   "id": "a9aa3e9d-b991-4edc-b50a-a801a5648b31",
   "metadata": {},
   "outputs": [
    {
     "data": {
      "text/html": [
       "<style>\n",
       ".list-inline {list-style: none; margin:0; padding: 0}\n",
       ".list-inline>li {display: inline-block}\n",
       ".list-inline>li:not(:last-child)::after {content: \"\\00b7\"; padding: 0 .5ex}\n",
       "</style>\n",
       "<ol class=list-inline><li>'POSIXct'</li><li>'POSIXt'</li></ol>\n"
      ],
      "text/latex": [
       "\\begin{enumerate*}\n",
       "\\item 'POSIXct'\n",
       "\\item 'POSIXt'\n",
       "\\end{enumerate*}\n"
      ],
      "text/markdown": [
       "1. 'POSIXct'\n",
       "2. 'POSIXt'\n",
       "\n",
       "\n"
      ],
      "text/plain": [
       "[1] \"POSIXct\" \"POSIXt\" "
      ]
     },
     "metadata": {},
     "output_type": "display_data"
    }
   ],
   "source": [
    "class(DAVOS_data$datetime)"
   ]
  },
  {
   "cell_type": "code",
   "execution_count": 16,
   "id": "0b998713-f7c6-4a79-8196-368b56e671a5",
   "metadata": {},
   "outputs": [
    {
     "name": "stderr",
     "output_type": "stream",
     "text": [
      "Warning message:\n",
      "\" 1 failed to parse.\"\n"
     ]
    }
   ],
   "source": [
    "# Parse the datetime with the 'Europe/Paris' timezone\n",
    "# Parse the datetime column (assuming it's named correctly)\n",
    "##data[[\"datetime\"]] <- parse_date_time(data[[\"datetime\"]], \"%d.%m.%Y %H:%M\", tz = \"Europe/Paris\")\n",
    "\n",
    "# Using $ to access the datetime column\n",
    "BASEL_data$datetime <- parse_date_time(BASEL_data$datetime, \"%d.%m.%Y %H:%M\", tz = \"Europe/Paris\")"
   ]
  },
  {
   "cell_type": "code",
   "execution_count": 17,
   "id": "5946b27d-1710-4dfb-81d6-e8f76ace296e",
   "metadata": {},
   "outputs": [
    {
     "data": {
      "text/html": [
       "2162"
      ],
      "text/latex": [
       "2162"
      ],
      "text/markdown": [
       "2162"
      ],
      "text/plain": [
       "[1] 2162"
      ]
     },
     "metadata": {},
     "output_type": "display_data"
    },
    {
     "data": {
      "text/html": [
       "<table class=\"dataframe\">\n",
       "<caption>A tibble: 1 × 12</caption>\n",
       "<thead>\n",
       "\t<tr><th scope=col>datetime</th><th scope=col>O3</th><th scope=col>NO2</th><th scope=col>SO2</th><th scope=col>PM10</th><th scope=col>PM2.5</th><th scope=col>EC</th><th scope=col>CPC</th><th scope=col>NOx</th><th scope=col>TEMP</th><th scope=col>PREC</th><th scope=col>RAD</th></tr>\n",
       "\t<tr><th scope=col>&lt;dttm&gt;</th><th scope=col>&lt;dbl&gt;</th><th scope=col>&lt;dbl&gt;</th><th scope=col>&lt;dbl&gt;</th><th scope=col>&lt;dbl&gt;</th><th scope=col>&lt;dbl&gt;</th><th scope=col>&lt;dbl&gt;</th><th scope=col>&lt;dbl&gt;</th><th scope=col>&lt;dbl&gt;</th><th scope=col>&lt;dbl&gt;</th><th scope=col>&lt;dbl&gt;</th><th scope=col>&lt;dbl&gt;</th></tr>\n",
       "</thead>\n",
       "<tbody>\n",
       "\t<tr><td>NA</td><td>44.9</td><td>15.4</td><td>0.6</td><td>17.4</td><td>11.8</td><td>0.4</td><td>9307.1</td><td>15.7</td><td>8.3</td><td>0</td><td>0</td></tr>\n",
       "</tbody>\n",
       "</table>\n"
      ],
      "text/latex": [
       "A tibble: 1 × 12\n",
       "\\begin{tabular}{llllllllllll}\n",
       " datetime & O3 & NO2 & SO2 & PM10 & PM2.5 & EC & CPC & NOx & TEMP & PREC & RAD\\\\\n",
       " <dttm> & <dbl> & <dbl> & <dbl> & <dbl> & <dbl> & <dbl> & <dbl> & <dbl> & <dbl> & <dbl> & <dbl>\\\\\n",
       "\\hline\n",
       "\t NA & 44.9 & 15.4 & 0.6 & 17.4 & 11.8 & 0.4 & 9307.1 & 15.7 & 8.3 & 0 & 0\\\\\n",
       "\\end{tabular}\n"
      ],
      "text/markdown": [
       "\n",
       "A tibble: 1 × 12\n",
       "\n",
       "| datetime &lt;dttm&gt; | O3 &lt;dbl&gt; | NO2 &lt;dbl&gt; | SO2 &lt;dbl&gt; | PM10 &lt;dbl&gt; | PM2.5 &lt;dbl&gt; | EC &lt;dbl&gt; | CPC &lt;dbl&gt; | NOx &lt;dbl&gt; | TEMP &lt;dbl&gt; | PREC &lt;dbl&gt; | RAD &lt;dbl&gt; |\n",
       "|---|---|---|---|---|---|---|---|---|---|---|---|\n",
       "| NA | 44.9 | 15.4 | 0.6 | 17.4 | 11.8 | 0.4 | 9307.1 | 15.7 | 8.3 | 0 | 0 |\n",
       "\n"
      ],
      "text/plain": [
       "  datetime O3   NO2  SO2 PM10 PM2.5 EC  CPC    NOx  TEMP PREC RAD\n",
       "1 <NA>     44.9 15.4 0.6 17.4 11.8  0.4 9307.1 15.7 8.3  0    0  "
      ]
     },
     "metadata": {},
     "output_type": "display_data"
    }
   ],
   "source": [
    "#checking table rows \n",
    "invalid_rows <- which(is.na(BASEL_data$datetime))\n",
    "invalid_rows\n",
    "invalid_dates <- BASEL_data[is.na(BASEL_data$datetime), ]\n",
    "invalid_dates"
   ]
  },
  {
   "cell_type": "code",
   "execution_count": 18,
   "id": "2c57eeed-bc1e-4d43-99f2-b5450c92140e",
   "metadata": {},
   "outputs": [],
   "source": [
    "## uncomment th eline below to coorect ptential errors\n",
    "BASEL_data[invalid_rows, \"datetime\"] <- as.POSIXct(\"2024-03-31 02:00:00\")"
   ]
  },
  {
   "cell_type": "code",
   "execution_count": 19,
   "id": "c5b9b145-50b3-4e7c-acb1-6f92e193578c",
   "metadata": {},
   "outputs": [
    {
     "data": {
      "text/html": [
       "<table class=\"dataframe\">\n",
       "<caption>A tibble: 6 × 14</caption>\n",
       "<thead>\n",
       "\t<tr><th scope=col>datetime</th><th scope=col>O3</th><th scope=col>NO2</th><th scope=col>SO2</th><th scope=col>PM10</th><th scope=col>PM2.5</th><th scope=col>EC</th><th scope=col>CPC</th><th scope=col>NOx</th><th scope=col>TEMP</th><th scope=col>PREC</th><th scope=col>RAD</th><th scope=col>month</th><th scope=col>date</th></tr>\n",
       "\t<tr><th scope=col>&lt;dttm&gt;</th><th scope=col>&lt;dbl&gt;</th><th scope=col>&lt;dbl&gt;</th><th scope=col>&lt;dbl&gt;</th><th scope=col>&lt;dbl&gt;</th><th scope=col>&lt;dbl&gt;</th><th scope=col>&lt;dbl&gt;</th><th scope=col>&lt;dbl&gt;</th><th scope=col>&lt;dbl&gt;</th><th scope=col>&lt;dbl&gt;</th><th scope=col>&lt;dbl&gt;</th><th scope=col>&lt;dbl&gt;</th><th scope=col>&lt;dbl&gt;</th><th scope=col>&lt;date&gt;</th></tr>\n",
       "</thead>\n",
       "<tbody>\n",
       "\t<tr><td>2024-01-01 01:00:00</td><td>60.2</td><td>7.5</td><td>1.6</td><td>35.8</td><td>25.2</td><td>0.4</td><td>10340.6</td><td>8.7</td><td>5.5</td><td>0.0</td><td>0.0</td><td>1</td><td>2024-01-01</td></tr>\n",
       "\t<tr><td>2024-01-01 02:00:00</td><td>70.0</td><td>1.9</td><td>0.7</td><td> 7.2</td><td> 4.4</td><td>0.1</td><td> 2394.0</td><td>2.5</td><td>6.6</td><td>0.0</td><td>0.0</td><td>1</td><td>2024-01-01</td></tr>\n",
       "\t<tr><td>2024-01-01 03:00:00</td><td>70.3</td><td>1.5</td><td>0.4</td><td> 3.7</td><td> 1.8</td><td>0.0</td><td> 1341.2</td><td>2.1</td><td>5.7</td><td>1.4</td><td>0.0</td><td>1</td><td>2024-01-01</td></tr>\n",
       "\t<tr><td>2024-01-01 04:00:00</td><td>67.0</td><td>1.3</td><td>0.3</td><td> 2.0</td><td> 1.0</td><td>0.0</td><td> 1172.6</td><td>2.0</td><td>5.7</td><td>0.0</td><td>0.0</td><td>1</td><td>2024-01-01</td></tr>\n",
       "\t<tr><td>2024-01-01 05:00:00</td><td>66.5</td><td>2.0</td><td>0.3</td><td> 2.9</td><td> 1.4</td><td>0.1</td><td> 1308.0</td><td>2.7</td><td>5.7</td><td>0.0</td><td>0.2</td><td>1</td><td>2024-01-01</td></tr>\n",
       "\t<tr><td>2024-01-01 06:00:00</td><td>67.1</td><td>2.7</td><td>0.3</td><td> 4.6</td><td> 2.1</td><td>0.1</td><td> 1455.6</td><td>3.3</td><td>5.9</td><td>0.0</td><td>0.0</td><td>1</td><td>2024-01-01</td></tr>\n",
       "</tbody>\n",
       "</table>\n"
      ],
      "text/latex": [
       "A tibble: 6 × 14\n",
       "\\begin{tabular}{llllllllllllll}\n",
       " datetime & O3 & NO2 & SO2 & PM10 & PM2.5 & EC & CPC & NOx & TEMP & PREC & RAD & month & date\\\\\n",
       " <dttm> & <dbl> & <dbl> & <dbl> & <dbl> & <dbl> & <dbl> & <dbl> & <dbl> & <dbl> & <dbl> & <dbl> & <dbl> & <date>\\\\\n",
       "\\hline\n",
       "\t 2024-01-01 01:00:00 & 60.2 & 7.5 & 1.6 & 35.8 & 25.2 & 0.4 & 10340.6 & 8.7 & 5.5 & 0.0 & 0.0 & 1 & 2024-01-01\\\\\n",
       "\t 2024-01-01 02:00:00 & 70.0 & 1.9 & 0.7 &  7.2 &  4.4 & 0.1 &  2394.0 & 2.5 & 6.6 & 0.0 & 0.0 & 1 & 2024-01-01\\\\\n",
       "\t 2024-01-01 03:00:00 & 70.3 & 1.5 & 0.4 &  3.7 &  1.8 & 0.0 &  1341.2 & 2.1 & 5.7 & 1.4 & 0.0 & 1 & 2024-01-01\\\\\n",
       "\t 2024-01-01 04:00:00 & 67.0 & 1.3 & 0.3 &  2.0 &  1.0 & 0.0 &  1172.6 & 2.0 & 5.7 & 0.0 & 0.0 & 1 & 2024-01-01\\\\\n",
       "\t 2024-01-01 05:00:00 & 66.5 & 2.0 & 0.3 &  2.9 &  1.4 & 0.1 &  1308.0 & 2.7 & 5.7 & 0.0 & 0.2 & 1 & 2024-01-01\\\\\n",
       "\t 2024-01-01 06:00:00 & 67.1 & 2.7 & 0.3 &  4.6 &  2.1 & 0.1 &  1455.6 & 3.3 & 5.9 & 0.0 & 0.0 & 1 & 2024-01-01\\\\\n",
       "\\end{tabular}\n"
      ],
      "text/markdown": [
       "\n",
       "A tibble: 6 × 14\n",
       "\n",
       "| datetime &lt;dttm&gt; | O3 &lt;dbl&gt; | NO2 &lt;dbl&gt; | SO2 &lt;dbl&gt; | PM10 &lt;dbl&gt; | PM2.5 &lt;dbl&gt; | EC &lt;dbl&gt; | CPC &lt;dbl&gt; | NOx &lt;dbl&gt; | TEMP &lt;dbl&gt; | PREC &lt;dbl&gt; | RAD &lt;dbl&gt; | month &lt;dbl&gt; | date &lt;date&gt; |\n",
       "|---|---|---|---|---|---|---|---|---|---|---|---|---|---|\n",
       "| 2024-01-01 01:00:00 | 60.2 | 7.5 | 1.6 | 35.8 | 25.2 | 0.4 | 10340.6 | 8.7 | 5.5 | 0.0 | 0.0 | 1 | 2024-01-01 |\n",
       "| 2024-01-01 02:00:00 | 70.0 | 1.9 | 0.7 |  7.2 |  4.4 | 0.1 |  2394.0 | 2.5 | 6.6 | 0.0 | 0.0 | 1 | 2024-01-01 |\n",
       "| 2024-01-01 03:00:00 | 70.3 | 1.5 | 0.4 |  3.7 |  1.8 | 0.0 |  1341.2 | 2.1 | 5.7 | 1.4 | 0.0 | 1 | 2024-01-01 |\n",
       "| 2024-01-01 04:00:00 | 67.0 | 1.3 | 0.3 |  2.0 |  1.0 | 0.0 |  1172.6 | 2.0 | 5.7 | 0.0 | 0.0 | 1 | 2024-01-01 |\n",
       "| 2024-01-01 05:00:00 | 66.5 | 2.0 | 0.3 |  2.9 |  1.4 | 0.1 |  1308.0 | 2.7 | 5.7 | 0.0 | 0.2 | 1 | 2024-01-01 |\n",
       "| 2024-01-01 06:00:00 | 67.1 | 2.7 | 0.3 |  4.6 |  2.1 | 0.1 |  1455.6 | 3.3 | 5.9 | 0.0 | 0.0 | 1 | 2024-01-01 |\n",
       "\n"
      ],
      "text/plain": [
       "  datetime            O3   NO2 SO2 PM10 PM2.5 EC  CPC     NOx TEMP PREC RAD\n",
       "1 2024-01-01 01:00:00 60.2 7.5 1.6 35.8 25.2  0.4 10340.6 8.7 5.5  0.0  0.0\n",
       "2 2024-01-01 02:00:00 70.0 1.9 0.7  7.2  4.4  0.1  2394.0 2.5 6.6  0.0  0.0\n",
       "3 2024-01-01 03:00:00 70.3 1.5 0.4  3.7  1.8  0.0  1341.2 2.1 5.7  1.4  0.0\n",
       "4 2024-01-01 04:00:00 67.0 1.3 0.3  2.0  1.0  0.0  1172.6 2.0 5.7  0.0  0.0\n",
       "5 2024-01-01 05:00:00 66.5 2.0 0.3  2.9  1.4  0.1  1308.0 2.7 5.7  0.0  0.2\n",
       "6 2024-01-01 06:00:00 67.1 2.7 0.3  4.6  2.1  0.1  1455.6 3.3 5.9  0.0  0.0\n",
       "  month date      \n",
       "1 1     2024-01-01\n",
       "2 1     2024-01-01\n",
       "3 1     2024-01-01\n",
       "4 1     2024-01-01\n",
       "5 1     2024-01-01\n",
       "6 1     2024-01-01"
      ]
     },
     "metadata": {},
     "output_type": "display_data"
    }
   ],
   "source": [
    "# Extract the month\n",
    "BASEL_data[[\"month\"]] <- month(BASEL_data[[\"datetime\"]])\n",
    "\n",
    "# Extract the date (without time)\n",
    "BASEL_data[[\"date\"]] <- date(BASEL_data[[\"datetime\"]])\n",
    "\n",
    "# Check the results\n",
    "head(BASEL_data)"
   ]
  },
  {
   "cell_type": "code",
   "execution_count": 21,
   "id": "66f6e7cb-7737-49fd-86f1-75c4e75f47a1",
   "metadata": {},
   "outputs": [
    {
     "data": {
      "text/html": [],
      "text/latex": [],
      "text/markdown": [],
      "text/plain": [
       "integer(0)"
      ]
     },
     "metadata": {},
     "output_type": "display_data"
    },
    {
     "data": {
      "text/html": [
       "<table class=\"dataframe\">\n",
       "<caption>A tibble: 0 × 14</caption>\n",
       "<thead>\n",
       "\t<tr><th scope=col>datetime</th><th scope=col>O3</th><th scope=col>NO2</th><th scope=col>SO2</th><th scope=col>PM10</th><th scope=col>PM2.5</th><th scope=col>EC</th><th scope=col>CPC</th><th scope=col>NOx</th><th scope=col>TEMP</th><th scope=col>PREC</th><th scope=col>RAD</th><th scope=col>month</th><th scope=col>date</th></tr>\n",
       "\t<tr><th scope=col>&lt;dttm&gt;</th><th scope=col>&lt;dbl&gt;</th><th scope=col>&lt;dbl&gt;</th><th scope=col>&lt;dbl&gt;</th><th scope=col>&lt;dbl&gt;</th><th scope=col>&lt;dbl&gt;</th><th scope=col>&lt;dbl&gt;</th><th scope=col>&lt;dbl&gt;</th><th scope=col>&lt;dbl&gt;</th><th scope=col>&lt;dbl&gt;</th><th scope=col>&lt;dbl&gt;</th><th scope=col>&lt;dbl&gt;</th><th scope=col>&lt;dbl&gt;</th><th scope=col>&lt;date&gt;</th></tr>\n",
       "</thead>\n",
       "<tbody>\n",
       "</tbody>\n",
       "</table>\n"
      ],
      "text/latex": [
       "A tibble: 0 × 14\n",
       "\\begin{tabular}{llllllllllllll}\n",
       " datetime & O3 & NO2 & SO2 & PM10 & PM2.5 & EC & CPC & NOx & TEMP & PREC & RAD & month & date\\\\\n",
       " <dttm> & <dbl> & <dbl> & <dbl> & <dbl> & <dbl> & <dbl> & <dbl> & <dbl> & <dbl> & <dbl> & <dbl> & <dbl> & <date>\\\\\n",
       "\\hline\n",
       "\\end{tabular}\n"
      ],
      "text/markdown": [
       "\n",
       "A tibble: 0 × 14\n",
       "\n",
       "| datetime &lt;dttm&gt; | O3 &lt;dbl&gt; | NO2 &lt;dbl&gt; | SO2 &lt;dbl&gt; | PM10 &lt;dbl&gt; | PM2.5 &lt;dbl&gt; | EC &lt;dbl&gt; | CPC &lt;dbl&gt; | NOx &lt;dbl&gt; | TEMP &lt;dbl&gt; | PREC &lt;dbl&gt; | RAD &lt;dbl&gt; | month &lt;dbl&gt; | date &lt;date&gt; |\n",
       "|---|---|---|---|---|---|---|---|---|---|---|---|---|---|\n",
       "\n"
      ],
      "text/plain": [
       "     datetime O3 NO2 SO2 PM10 PM2.5 EC CPC NOx TEMP PREC RAD month date"
      ]
     },
     "metadata": {},
     "output_type": "display_data"
    }
   ],
   "source": [
    "#second check to make sure everything is fixed\n",
    "invalid_rows <- which(is.na(BASEL_data$datetime))\n",
    "invalid_rows\n",
    "invalid_dates <- BASEL_data[is.na(BASEL_data$datetime), ]\n",
    "invalid_dates"
   ]
  },
  {
   "cell_type": "markdown",
   "id": "6f8e96c9-4bc2-45da-8b9c-25555c4a87d2",
   "metadata": {},
   "source": [
    "## Problem 3"
   ]
  },
  {
   "cell_type": "code",
   "execution_count": 69,
   "id": "bcd07196-683f-4e96-8637-96ff71d8aa64",
   "metadata": {},
   "outputs": [
    {
     "data": {
      "text/html": [
       "TRUE"
      ],
      "text/latex": [
       "TRUE"
      ],
      "text/markdown": [
       "TRUE"
      ],
      "text/plain": [
       "[1] TRUE"
      ]
     },
     "metadata": {},
     "output_type": "display_data"
    }
   ],
   "source": [
    "reg_val <- \"./Data/Regulatory_values.xlsx\"\n",
    "file.exists(reg_val)\n",
    "\n",
    "limits.daily <- read.xlsx(reg_val, sheet = 1)"
   ]
  },
  {
   "cell_type": "code",
   "execution_count": 70,
   "id": "256559a8-deda-4d79-895d-deadf49bf831",
   "metadata": {},
   "outputs": [],
   "source": [
    "# Second option\n",
    "limits.daily <- tibble(value=c(100,80,8,50),\n",
    "                       variable=c(\"SO2\",\"NO2\",\"CO\",\"PM10\"))"
   ]
  },
  {
   "cell_type": "code",
   "execution_count": 71,
   "id": "6df2e166-ce75-41b9-8408-c85e8114f6d1",
   "metadata": {},
   "outputs": [
    {
     "data": {
      "text/html": [
       "<table class=\"dataframe\">\n",
       "<caption>A tibble: 4 × 2</caption>\n",
       "<thead>\n",
       "\t<tr><th scope=col>value</th><th scope=col>variable</th></tr>\n",
       "\t<tr><th scope=col>&lt;dbl&gt;</th><th scope=col>&lt;chr&gt;</th></tr>\n",
       "</thead>\n",
       "<tbody>\n",
       "\t<tr><td>100</td><td>SO2 </td></tr>\n",
       "\t<tr><td> 80</td><td>NO2 </td></tr>\n",
       "\t<tr><td>  8</td><td>CO  </td></tr>\n",
       "\t<tr><td> 50</td><td>PM10</td></tr>\n",
       "</tbody>\n",
       "</table>\n"
      ],
      "text/latex": [
       "A tibble: 4 × 2\n",
       "\\begin{tabular}{ll}\n",
       " value & variable\\\\\n",
       " <dbl> & <chr>\\\\\n",
       "\\hline\n",
       "\t 100 & SO2 \\\\\n",
       "\t  80 & NO2 \\\\\n",
       "\t   8 & CO  \\\\\n",
       "\t  50 & PM10\\\\\n",
       "\\end{tabular}\n"
      ],
      "text/markdown": [
       "\n",
       "A tibble: 4 × 2\n",
       "\n",
       "| value &lt;dbl&gt; | variable &lt;chr&gt; |\n",
       "|---|---|\n",
       "| 100 | SO2  |\n",
       "|  80 | NO2  |\n",
       "|   8 | CO   |\n",
       "|  50 | PM10 |\n",
       "\n"
      ],
      "text/plain": [
       "  value variable\n",
       "1 100   SO2     \n",
       "2  80   NO2     \n",
       "3   8   CO      \n",
       "4  50   PM10    "
      ]
     },
     "metadata": {},
     "output_type": "display_data"
    }
   ],
   "source": [
    "limits.daily"
   ]
  },
  {
   "cell_type": "code",
   "execution_count": 72,
   "id": "aa891d5f-c221-40a7-a0b8-dad489ff451c",
   "metadata": {},
   "outputs": [
    {
     "data": {
      "text/html": [
       "'C'"
      ],
      "text/latex": [
       "'C'"
      ],
      "text/markdown": [
       "'C'"
      ],
      "text/plain": [
       "[1] \"C\""
      ]
     },
     "metadata": {},
     "output_type": "display_data"
    }
   ],
   "source": [
    "Sys.setlocale(\"LC_TIME\",\"C\")\n",
    "options(stringsAsFactors=FALSE)\n",
    "options(dplyr.summarise.inform = FALSE)\n",
    "theme_set(theme_bw()) # just my preference for plots"
   ]
  },
  {
   "cell_type": "code",
   "execution_count": 73,
   "id": "2e893f41-2c02-4830-b72c-38214bebb991",
   "metadata": {},
   "outputs": [],
   "source": [
    "month2season <- function(month) {\n",
    "  ## month is an integer (1-12)\n",
    "  ## a factor with levels {\"Winter : DJF\", \"Spring : MAM\", \"Summer : JJA\", \"Autumn : SON\"} is returned\n",
    "  seasons <- c(\"Winter\", \"Spring\", \"Summer\", \"Autumn\")\n",
    "  index <- findInterval(month %% 12, seq(0, 12, 3))\n",
    "  factor(seasons[index], seasons)\n",
    "}\n",
    "\n",
    "wday2type <- function(wday) {\n",
    "  ## wday is an integer with 1 = Monday, 2 = Tuesday, ... and 7 = Sunday\n",
    "  c(\"Weekday\", \"Weekend\")[(unclass(wday) - 1) %/% 5 + 1]\n",
    "}"
   ]
  },
  {
   "cell_type": "code",
   "execution_count": 74,
   "id": "3917c697-57d2-423c-a6ca-bd58207e1e35",
   "metadata": {},
   "outputs": [
    {
     "data": {
      "text/html": [
       "<style>\n",
       ".list-inline {list-style: none; margin:0; padding: 0}\n",
       ".list-inline>li {display: inline-block}\n",
       ".list-inline>li:not(:last-child)::after {content: \"\\00b7\"; padding: 0 .5ex}\n",
       "</style>\n",
       "<ol class=list-inline><li>Winter</li><li>Winter</li><li>Spring</li></ol>\n",
       "\n",
       "<details>\n",
       "\t<summary style=display:list-item;cursor:pointer>\n",
       "\t\t<strong>Levels</strong>:\n",
       "\t</summary>\n",
       "\t<style>\n",
       "\t.list-inline {list-style: none; margin:0; padding: 0}\n",
       "\t.list-inline>li {display: inline-block}\n",
       "\t.list-inline>li:not(:last-child)::after {content: \"\\00b7\"; padding: 0 .5ex}\n",
       "\t</style>\n",
       "\t<ol class=list-inline><li>'Winter'</li><li>'Spring'</li><li>'Summer'</li><li>'Autumn'</li></ol>\n",
       "</details>"
      ],
      "text/latex": [
       "\\begin{enumerate*}\n",
       "\\item Winter\n",
       "\\item Winter\n",
       "\\item Spring\n",
       "\\end{enumerate*}\n",
       "\n",
       "\\emph{Levels}: \\begin{enumerate*}\n",
       "\\item 'Winter'\n",
       "\\item 'Spring'\n",
       "\\item 'Summer'\n",
       "\\item 'Autumn'\n",
       "\\end{enumerate*}\n"
      ],
      "text/markdown": [
       "1. Winter\n",
       "2. Winter\n",
       "3. Spring\n",
       "\n",
       "\n",
       "\n",
       "**Levels**: 1. 'Winter'\n",
       "2. 'Spring'\n",
       "3. 'Summer'\n",
       "4. 'Autumn'\n",
       "\n",
       "\n"
      ],
      "text/plain": [
       "[1] Winter Winter Spring\n",
       "Levels: Winter Spring Summer Autumn"
      ]
     },
     "metadata": {},
     "output_type": "display_data"
    }
   ],
   "source": [
    "month2season(c(1, 2, 3))"
   ]
  },
  {
   "cell_type": "code",
   "execution_count": 160,
   "id": "509c34d3-4d8e-44da-98d6-9e9bb180c5de",
   "metadata": {},
   "outputs": [],
   "source": [
    "read_tseries <- function(filename, timecolumn = \"Date/time\", timeformat = \"%d.%m.%Y %H:%M\", tz = \"Europe/Paris\", delta = 3600) {\n",
    "  ## read the table, strip units in column names, rename time column\n",
    "  ##   and change data type of time column from a string of characters to\n",
    "  ##   a numeric type so that we can perform operations on it\n",
    "\n",
    "  data <- read_delim(filename, skip = 5, delim = \";\", locale = locale(encoding = \"Latin1\"), show_col_types = FALSE)\n",
    "\n",
    "  out <- data %>%\n",
    "    rename_with(.fn = function(x) sub(\"[ ].*$\", \"\", x)) %>% # strip units for simplification\n",
    "    rename(datetime = !!timecolumn) %>%\n",
    "    mutate(datetime = parse_date_time(datetime, !!timeformat, !!tz) - !!delta) %>%\n",
    "    mutate(year = year(datetime),\n",
    "           month = month(datetime),\n",
    "           day = day(datetime),\n",
    "           hour = hour(datetime),\n",
    "           dayofwk = wday(datetime, label = TRUE, week_start = 1),\n",
    "           daytype = wday2type(dayofwk),\n",
    "           season = month2season(month),\n",
    "           .after = datetime)\n",
    "}"
   ]
  },
  {
   "cell_type": "code",
   "execution_count": 161,
   "id": "40ebaada-6c1f-4072-861b-dabce3e543b0",
   "metadata": {},
   "outputs": [
    {
     "name": "stderr",
     "output_type": "stream",
     "text": [
      "Warning message:\n",
      "\"\u001b[1m\u001b[22mThere was 1 warning in `mutate()`.\n",
      "\u001b[1m\u001b[22m\u001b[36mi\u001b[39m In argument: `datetime = -...`.\n",
      "Caused by warning:\n",
      "\u001b[33m!\u001b[39m  1 failed to parse.\"\n",
      "Warning message:\n",
      "\"\u001b[1m\u001b[22mThere was 1 warning in `mutate()`.\n",
      "\u001b[1m\u001b[22m\u001b[36mi\u001b[39m In argument: `datetime = -...`.\n",
      "Caused by warning:\n",
      "\u001b[33m!\u001b[39m  1 failed to parse.\"\n",
      "\u001b[1m\u001b[22mJoining with `by = join_by(site, datetime, year, month, day, hour, dayofwk, daytype, season, O3, NO2, PM10, NOX, TEMP,\n",
      "PREC, RAD)`\n"
     ]
    }
   ],
   "source": [
    "datapath <- file.path(\"Data\")\n",
    "\n",
    "all_data_df <- full_join(\n",
    "  bind_cols(site=\"DAV\", read_tseries(file.path(datapath, \"DAV.csv\"))),\n",
    "  bind_cols(site=\"BAS\", read_tseries(file.path(datapath, \"BAS(1).csv\")))\n",
    ")"
   ]
  },
  {
   "cell_type": "code",
   "execution_count": 162,
   "id": "f5bf7f96-4625-4e8b-bb36-ea4301466566",
   "metadata": {},
   "outputs": [
    {
     "data": {
      "text/html": [
       "<table class=\"dataframe\">\n",
       "<caption>A tibble: 17568 × 20</caption>\n",
       "<thead>\n",
       "\t<tr><th scope=col>site</th><th scope=col>datetime</th><th scope=col>year</th><th scope=col>month</th><th scope=col>day</th><th scope=col>hour</th><th scope=col>dayofwk</th><th scope=col>daytype</th><th scope=col>season</th><th scope=col>O3</th><th scope=col>NO2</th><th scope=col>PM10</th><th scope=col>NOX</th><th scope=col>TEMP</th><th scope=col>PREC</th><th scope=col>RAD</th><th scope=col>SO2</th><th scope=col>PM2.5</th><th scope=col>EC</th><th scope=col>CPC</th></tr>\n",
       "\t<tr><th scope=col>&lt;chr&gt;</th><th scope=col>&lt;dttm&gt;</th><th scope=col>&lt;dbl&gt;</th><th scope=col>&lt;dbl&gt;</th><th scope=col>&lt;int&gt;</th><th scope=col>&lt;int&gt;</th><th scope=col>&lt;ord&gt;</th><th scope=col>&lt;chr&gt;</th><th scope=col>&lt;fct&gt;</th><th scope=col>&lt;dbl&gt;</th><th scope=col>&lt;dbl&gt;</th><th scope=col>&lt;dbl&gt;</th><th scope=col>&lt;dbl&gt;</th><th scope=col>&lt;dbl&gt;</th><th scope=col>&lt;dbl&gt;</th><th scope=col>&lt;dbl&gt;</th><th scope=col>&lt;dbl&gt;</th><th scope=col>&lt;dbl&gt;</th><th scope=col>&lt;dbl&gt;</th><th scope=col>&lt;dbl&gt;</th></tr>\n",
       "</thead>\n",
       "<tbody>\n",
       "\t<tr><td>DAV</td><td>2024-01-01 00:00:00</td><td>2024</td><td>1</td><td>1</td><td> 0</td><td>Mon</td><td>Weekday</td><td>Winter</td><td>57.7</td><td>1.9</td><td>1.2</td><td>1.9</td><td>-2.2</td><td>0</td><td> -0.6</td><td>NA</td><td>NA</td><td>NA</td><td>NA</td></tr>\n",
       "\t<tr><td>DAV</td><td>2024-01-01 01:00:00</td><td>2024</td><td>1</td><td>1</td><td> 1</td><td>Mon</td><td>Weekday</td><td>Winter</td><td>55.2</td><td>2.1</td><td>1.5</td><td>2.1</td><td>-2.8</td><td>0</td><td> -0.7</td><td>NA</td><td>NA</td><td>NA</td><td>NA</td></tr>\n",
       "\t<tr><td>DAV</td><td>2024-01-01 02:00:00</td><td>2024</td><td>1</td><td>1</td><td> 2</td><td>Mon</td><td>Weekday</td><td>Winter</td><td>49.9</td><td>3.7</td><td>2.2</td><td>3.7</td><td>-3.3</td><td>0</td><td> -0.7</td><td>NA</td><td>NA</td><td>NA</td><td>NA</td></tr>\n",
       "\t<tr><td>DAV</td><td>2024-01-01 03:00:00</td><td>2024</td><td>1</td><td>1</td><td> 3</td><td>Mon</td><td>Weekday</td><td>Winter</td><td>52.1</td><td>4.5</td><td>3.0</td><td>4.6</td><td>-4.2</td><td>0</td><td> -1.1</td><td>NA</td><td>NA</td><td>NA</td><td>NA</td></tr>\n",
       "\t<tr><td>DAV</td><td>2024-01-01 04:00:00</td><td>2024</td><td>1</td><td>1</td><td> 4</td><td>Mon</td><td>Weekday</td><td>Winter</td><td>65.8</td><td>0.7</td><td>0.2</td><td>0.7</td><td>-5.2</td><td>0</td><td> -1.3</td><td>NA</td><td>NA</td><td>NA</td><td>NA</td></tr>\n",
       "\t<tr><td>DAV</td><td>2024-01-01 05:00:00</td><td>2024</td><td>1</td><td>1</td><td> 5</td><td>Mon</td><td>Weekday</td><td>Winter</td><td>67.1</td><td>0.7</td><td>0.4</td><td>0.7</td><td>-5.6</td><td>0</td><td> -0.8</td><td>NA</td><td>NA</td><td>NA</td><td>NA</td></tr>\n",
       "\t<tr><td>DAV</td><td>2024-01-01 06:00:00</td><td>2024</td><td>1</td><td>1</td><td> 6</td><td>Mon</td><td>Weekday</td><td>Winter</td><td>64.0</td><td>3.4</td><td>0.3</td><td>3.5</td><td>-5.7</td><td>0</td><td> -0.6</td><td>NA</td><td>NA</td><td>NA</td><td>NA</td></tr>\n",
       "\t<tr><td>DAV</td><td>2024-01-01 07:00:00</td><td>2024</td><td>1</td><td>1</td><td> 7</td><td>Mon</td><td>Weekday</td><td>Winter</td><td>58.4</td><td>5.4</td><td>0.3</td><td>5.4</td><td>-5.9</td><td>0</td><td> -0.6</td><td>NA</td><td>NA</td><td>NA</td><td>NA</td></tr>\n",
       "\t<tr><td>DAV</td><td>2024-01-01 08:00:00</td><td>2024</td><td>1</td><td>1</td><td> 8</td><td>Mon</td><td>Weekday</td><td>Winter</td><td>61.8</td><td>1.7</td><td>0.3</td><td>1.8</td><td>-5.7</td><td>0</td><td> 22.6</td><td>NA</td><td>NA</td><td>NA</td><td>NA</td></tr>\n",
       "\t<tr><td>DAV</td><td>2024-01-01 09:00:00</td><td>2024</td><td>1</td><td>1</td><td> 9</td><td>Mon</td><td>Weekday</td><td>Winter</td><td>59.0</td><td>2.9</td><td>0.4</td><td>3.4</td><td>-5.3</td><td>0</td><td> 73.9</td><td>NA</td><td>NA</td><td>NA</td><td>NA</td></tr>\n",
       "\t<tr><td>DAV</td><td>2024-01-01 10:00:00</td><td>2024</td><td>1</td><td>1</td><td>10</td><td>Mon</td><td>Weekday</td><td>Winter</td><td>57.8</td><td>3.4</td><td>0.5</td><td>4.4</td><td>-4.3</td><td>0</td><td>169.3</td><td>NA</td><td>NA</td><td>NA</td><td>NA</td></tr>\n",
       "\t<tr><td>DAV</td><td>2024-01-01 11:00:00</td><td>2024</td><td>1</td><td>1</td><td>11</td><td>Mon</td><td>Weekday</td><td>Winter</td><td>53.2</td><td>4.9</td><td>0.7</td><td>7.2</td><td>-3.3</td><td>0</td><td>301.3</td><td>NA</td><td>NA</td><td>NA</td><td>NA</td></tr>\n",
       "\t<tr><td>DAV</td><td>2024-01-01 12:00:00</td><td>2024</td><td>1</td><td>1</td><td>12</td><td>Mon</td><td>Weekday</td><td>Winter</td><td>61.4</td><td>1.8</td><td>0.4</td><td>2.5</td><td>-2.3</td><td>0</td><td>272.5</td><td>NA</td><td>NA</td><td>NA</td><td>NA</td></tr>\n",
       "\t<tr><td>DAV</td><td>2024-01-01 13:00:00</td><td>2024</td><td>1</td><td>1</td><td>13</td><td>Mon</td><td>Weekday</td><td>Winter</td><td>63.6</td><td>1.4</td><td>0.5</td><td>1.7</td><td>-2.4</td><td>0</td><td>129.9</td><td>NA</td><td>NA</td><td>NA</td><td>NA</td></tr>\n",
       "\t<tr><td>DAV</td><td>2024-01-01 14:00:00</td><td>2024</td><td>1</td><td>1</td><td>14</td><td>Mon</td><td>Weekday</td><td>Winter</td><td>62.6</td><td>4.3</td><td>0.6</td><td>5.2</td><td>-2.3</td><td>0</td><td>118.1</td><td>NA</td><td>NA</td><td>NA</td><td>NA</td></tr>\n",
       "\t<tr><td>DAV</td><td>2024-01-01 15:00:00</td><td>2024</td><td>1</td><td>1</td><td>15</td><td>Mon</td><td>Weekday</td><td>Winter</td><td>55.4</td><td>5.8</td><td>0.8</td><td>6.7</td><td>-2.5</td><td>0</td><td> 59.1</td><td>NA</td><td>NA</td><td>NA</td><td>NA</td></tr>\n",
       "\t<tr><td>DAV</td><td>2024-01-01 16:00:00</td><td>2024</td><td>1</td><td>1</td><td>16</td><td>Mon</td><td>Weekday</td><td>Winter</td><td>60.7</td><td>2.8</td><td>0.8</td><td>3.0</td><td>-3.4</td><td>0</td><td> 13.2</td><td>NA</td><td>NA</td><td>NA</td><td>NA</td></tr>\n",
       "\t<tr><td>DAV</td><td>2024-01-01 17:00:00</td><td>2024</td><td>1</td><td>1</td><td>17</td><td>Mon</td><td>Weekday</td><td>Winter</td><td>61.7</td><td>1.6</td><td>1.1</td><td>1.7</td><td>-4.9</td><td>0</td><td> -1.1</td><td>NA</td><td>NA</td><td>NA</td><td>NA</td></tr>\n",
       "\t<tr><td>DAV</td><td>2024-01-01 18:00:00</td><td>2024</td><td>1</td><td>1</td><td>18</td><td>Mon</td><td>Weekday</td><td>Winter</td><td>68.0</td><td>1.4</td><td>0.6</td><td>1.4</td><td>-5.3</td><td>0</td><td> -1.0</td><td>NA</td><td>NA</td><td>NA</td><td>NA</td></tr>\n",
       "\t<tr><td>DAV</td><td>2024-01-01 19:00:00</td><td>2024</td><td>1</td><td>1</td><td>19</td><td>Mon</td><td>Weekday</td><td>Winter</td><td>68.7</td><td>0.8</td><td>0.5</td><td>0.9</td><td>-5.7</td><td>0</td><td> -1.0</td><td>NA</td><td>NA</td><td>NA</td><td>NA</td></tr>\n",
       "\t<tr><td>DAV</td><td>2024-01-01 20:00:00</td><td>2024</td><td>1</td><td>1</td><td>20</td><td>Mon</td><td>Weekday</td><td>Winter</td><td>68.5</td><td>1.3</td><td>0.6</td><td>1.4</td><td>-5.8</td><td>0</td><td> -0.9</td><td>NA</td><td>NA</td><td>NA</td><td>NA</td></tr>\n",
       "\t<tr><td>DAV</td><td>2024-01-01 21:00:00</td><td>2024</td><td>1</td><td>1</td><td>21</td><td>Mon</td><td>Weekday</td><td>Winter</td><td>65.8</td><td>2.3</td><td>2.4</td><td>2.8</td><td>-6.4</td><td>0</td><td> -0.9</td><td>NA</td><td>NA</td><td>NA</td><td>NA</td></tr>\n",
       "\t<tr><td>DAV</td><td>2024-01-01 22:00:00</td><td>2024</td><td>1</td><td>1</td><td>22</td><td>Mon</td><td>Weekday</td><td>Winter</td><td>71.4</td><td>0.4</td><td>0.3</td><td>0.5</td><td>-5.6</td><td>0</td><td> -0.9</td><td>NA</td><td>NA</td><td>NA</td><td>NA</td></tr>\n",
       "\t<tr><td>DAV</td><td>2024-01-01 23:00:00</td><td>2024</td><td>1</td><td>1</td><td>23</td><td>Mon</td><td>Weekday</td><td>Winter</td><td>70.3</td><td>0.4</td><td>0.3</td><td>0.5</td><td>-6.8</td><td>0</td><td> -1.1</td><td>NA</td><td>NA</td><td>NA</td><td>NA</td></tr>\n",
       "\t<tr><td>DAV</td><td>2024-01-02 00:00:00</td><td>2024</td><td>1</td><td>2</td><td> 0</td><td>Tue</td><td>Weekday</td><td>Winter</td><td>72.2</td><td>0.7</td><td>0.2</td><td>0.8</td><td>-6.6</td><td>0</td><td> -0.5</td><td>NA</td><td>NA</td><td>NA</td><td>NA</td></tr>\n",
       "\t<tr><td>DAV</td><td>2024-01-02 01:00:00</td><td>2024</td><td>1</td><td>2</td><td> 1</td><td>Tue</td><td>Weekday</td><td>Winter</td><td>75.6</td><td>0.2</td><td>0.2</td><td>0.3</td><td>-6.0</td><td>0</td><td> -0.7</td><td>NA</td><td>NA</td><td>NA</td><td>NA</td></tr>\n",
       "\t<tr><td>DAV</td><td>2024-01-02 02:00:00</td><td>2024</td><td>1</td><td>2</td><td> 2</td><td>Tue</td><td>Weekday</td><td>Winter</td><td>75.9</td><td>0.5</td><td>0.4</td><td>0.6</td><td>-5.9</td><td>0</td><td> -0.7</td><td>NA</td><td>NA</td><td>NA</td><td>NA</td></tr>\n",
       "\t<tr><td>DAV</td><td>2024-01-02 03:00:00</td><td>2024</td><td>1</td><td>2</td><td> 3</td><td>Tue</td><td>Weekday</td><td>Winter</td><td>71.8</td><td>2.3</td><td>0.4</td><td>2.6</td><td>-6.6</td><td>0</td><td> -0.2</td><td>NA</td><td>NA</td><td>NA</td><td>NA</td></tr>\n",
       "\t<tr><td>DAV</td><td>2024-01-02 04:00:00</td><td>2024</td><td>1</td><td>2</td><td> 4</td><td>Tue</td><td>Weekday</td><td>Winter</td><td>73.8</td><td>1.2</td><td>0.2</td><td>1.2</td><td>-6.1</td><td>0</td><td> -0.1</td><td>NA</td><td>NA</td><td>NA</td><td>NA</td></tr>\n",
       "\t<tr><td>DAV</td><td>2024-01-02 05:00:00</td><td>2024</td><td>1</td><td>2</td><td> 5</td><td>Tue</td><td>Weekday</td><td>Winter</td><td>70.4</td><td>3.6</td><td>0.2</td><td>3.7</td><td>-5.8</td><td>0</td><td>  0.0</td><td>NA</td><td>NA</td><td>NA</td><td>NA</td></tr>\n",
       "\t<tr><td>...</td><td>...</td><td>...</td><td>...</td><td>...</td><td>...</td><td>...</td><td>...</td><td>...</td><td>...</td><td>...</td><td>...</td><td>...</td><td>...</td><td>...</td><td>...</td><td>...</td><td>...</td><td>...</td><td>...</td></tr>\n",
       "\t<tr><td>BAS</td><td>2024-12-30 18:00:00</td><td>2024</td><td>12</td><td>30</td><td>18</td><td>Mon</td><td>Weekday</td><td>Winter</td><td> 5.8</td><td>32.1</td><td>14.4</td><td>34.4</td><td>-0.5</td><td>0</td><td>  0.0</td><td>0.3</td><td>16.8</td><td>0.6</td><td> 5815.7</td></tr>\n",
       "\t<tr><td>BAS</td><td>2024-12-30 19:00:00</td><td>2024</td><td>12</td><td>30</td><td>19</td><td>Mon</td><td>Weekday</td><td>Winter</td><td> 7.3</td><td>30.6</td><td>13.9</td><td>33.0</td><td>-0.7</td><td>0</td><td>  0.0</td><td>0.4</td><td>16.4</td><td>0.6</td><td> 6715.2</td></tr>\n",
       "\t<tr><td>BAS</td><td>2024-12-30 20:00:00</td><td>2024</td><td>12</td><td>30</td><td>20</td><td>Mon</td><td>Weekday</td><td>Winter</td><td> 6.3</td><td>30.0</td><td>13.6</td><td>31.9</td><td>-1.0</td><td>0</td><td>  0.0</td><td>0.5</td><td>16.3</td><td>0.7</td><td> 6380.9</td></tr>\n",
       "\t<tr><td>BAS</td><td>2024-12-30 21:00:00</td><td>2024</td><td>12</td><td>30</td><td>21</td><td>Mon</td><td>Weekday</td><td>Winter</td><td> 7.2</td><td>24.3</td><td>13.9</td><td>25.5</td><td>-2.0</td><td>0</td><td>  0.0</td><td>0.3</td><td>16.7</td><td>0.7</td><td> 5976.5</td></tr>\n",
       "\t<tr><td>BAS</td><td>2024-12-30 22:00:00</td><td>2024</td><td>12</td><td>30</td><td>22</td><td>Mon</td><td>Weekday</td><td>Winter</td><td> 8.4</td><td>20.6</td><td>13.3</td><td>21.5</td><td>-2.8</td><td>0</td><td>  0.0</td><td>0.3</td><td>16.3</td><td>0.7</td><td> 5303.4</td></tr>\n",
       "\t<tr><td>BAS</td><td>2024-12-30 23:00:00</td><td>2024</td><td>12</td><td>30</td><td>23</td><td>Mon</td><td>Weekday</td><td>Winter</td><td> 8.0</td><td>21.1</td><td>13.6</td><td>22.0</td><td>-3.2</td><td>0</td><td>  0.0</td><td>0.2</td><td>16.4</td><td>0.7</td><td> 5421.7</td></tr>\n",
       "\t<tr><td>BAS</td><td>2024-12-31 00:00:00</td><td>2024</td><td>12</td><td>31</td><td> 0</td><td>Tue</td><td>Weekday</td><td>Winter</td><td> 8.4</td><td>19.4</td><td>17.9</td><td>20.3</td><td>-3.6</td><td>0</td><td>  0.0</td><td>0.2</td><td>17.7</td><td>0.7</td><td> 5047.5</td></tr>\n",
       "\t<tr><td>BAS</td><td>2024-12-31 01:00:00</td><td>2024</td><td>12</td><td>31</td><td> 1</td><td>Tue</td><td>Weekday</td><td>Winter</td><td> 9.9</td><td>18.6</td><td>16.2</td><td>19.1</td><td>-3.8</td><td>0</td><td>  0.0</td><td>0.2</td><td>16.5</td><td>0.7</td><td> 4840.7</td></tr>\n",
       "\t<tr><td>BAS</td><td>2024-12-31 02:00:00</td><td>2024</td><td>12</td><td>31</td><td> 2</td><td>Tue</td><td>Weekday</td><td>Winter</td><td>10.7</td><td>18.9</td><td>17.2</td><td>19.7</td><td>-3.7</td><td>0</td><td>  0.0</td><td>0.3</td><td>17.5</td><td>0.6</td><td> 4575.8</td></tr>\n",
       "\t<tr><td>BAS</td><td>2024-12-31 03:00:00</td><td>2024</td><td>12</td><td>31</td><td> 3</td><td>Tue</td><td>Weekday</td><td>Winter</td><td>11.7</td><td>20.4</td><td>15.3</td><td>21.3</td><td>-3.0</td><td>0</td><td>  0.0</td><td>0.5</td><td>15.6</td><td>0.6</td><td> 4708.3</td></tr>\n",
       "\t<tr><td>BAS</td><td>2024-12-31 04:00:00</td><td>2024</td><td>12</td><td>31</td><td> 4</td><td>Tue</td><td>Weekday</td><td>Winter</td><td> 9.6</td><td>24.2</td><td>15.1</td><td>25.8</td><td>-3.0</td><td>0</td><td>  0.0</td><td>0.7</td><td>15.4</td><td>0.5</td><td> 5278.4</td></tr>\n",
       "\t<tr><td>BAS</td><td>2024-12-31 05:00:00</td><td>2024</td><td>12</td><td>31</td><td> 5</td><td>Tue</td><td>Weekday</td><td>Winter</td><td> 8.2</td><td>26.7</td><td>15.7</td><td>29.0</td><td>-2.9</td><td>0</td><td>  0.0</td><td>0.8</td><td>15.8</td><td>0.5</td><td> 5976.5</td></tr>\n",
       "\t<tr><td>BAS</td><td>2024-12-31 06:00:00</td><td>2024</td><td>12</td><td>31</td><td> 6</td><td>Tue</td><td>Weekday</td><td>Winter</td><td> 6.6</td><td>29.4</td><td>16.3</td><td>33.0</td><td>-2.7</td><td>0</td><td>  0.0</td><td>0.9</td><td>16.4</td><td>0.4</td><td> 6841.4</td></tr>\n",
       "\t<tr><td>BAS</td><td>2024-12-31 07:00:00</td><td>2024</td><td>12</td><td>31</td><td> 7</td><td>Tue</td><td>Weekday</td><td>Winter</td><td> 5.4</td><td>30.7</td><td>17.4</td><td>35.6</td><td>-2.7</td><td>0</td><td>  0.0</td><td>0.7</td><td>17.3</td><td>0.4</td><td> 6987.3</td></tr>\n",
       "\t<tr><td>BAS</td><td>2024-12-31 08:00:00</td><td>2024</td><td>12</td><td>31</td><td> 8</td><td>Tue</td><td>Weekday</td><td>Winter</td><td> 7.4</td><td>29.1</td><td>18.3</td><td>36.0</td><td>-2.6</td><td>0</td><td> 10.2</td><td>0.7</td><td>18.3</td><td>0.4</td><td> 7431.9</td></tr>\n",
       "\t<tr><td>BAS</td><td>2024-12-31 09:00:00</td><td>2024</td><td>12</td><td>31</td><td> 9</td><td>Tue</td><td>Weekday</td><td>Winter</td><td>13.9</td><td>23.7</td><td>19.6</td><td>37.2</td><td>-2.0</td><td>0</td><td>105.3</td><td>0.8</td><td>19.1</td><td>0.4</td><td> 7305.2</td></tr>\n",
       "\t<tr><td>BAS</td><td>2024-12-31 10:00:00</td><td>2024</td><td>12</td><td>31</td><td>10</td><td>Tue</td><td>Weekday</td><td>Winter</td><td>18.1</td><td>21.4</td><td>19.4</td><td>39.4</td><td>-0.8</td><td>0</td><td>218.5</td><td>0.9</td><td>18.9</td><td>0.5</td><td> 8069.0</td></tr>\n",
       "\t<tr><td>BAS</td><td>2024-12-31 11:00:00</td><td>2024</td><td>12</td><td>31</td><td>11</td><td>Tue</td><td>Weekday</td><td>Winter</td><td>20.7</td><td>21.2</td><td>19.5</td><td>41.4</td><td> 0.5</td><td>0</td><td>293.2</td><td>1.1</td><td>18.5</td><td>0.5</td><td> 9086.4</td></tr>\n",
       "\t<tr><td>BAS</td><td>2024-12-31 12:00:00</td><td>2024</td><td>12</td><td>31</td><td>12</td><td>Tue</td><td>Weekday</td><td>Winter</td><td>22.8</td><td>20.5</td><td>19.3</td><td>38.7</td><td> 1.8</td><td>0</td><td>317.5</td><td>1.2</td><td>18.5</td><td>0.5</td><td> 8997.9</td></tr>\n",
       "\t<tr><td>BAS</td><td>2024-12-31 13:00:00</td><td>2024</td><td>12</td><td>31</td><td>13</td><td>Tue</td><td>Weekday</td><td>Winter</td><td>22.8</td><td>21.9</td><td>21.2</td><td>39.8</td><td> 2.9</td><td>0</td><td>298.8</td><td>1.5</td><td>19.9</td><td>0.5</td><td> 9252.1</td></tr>\n",
       "\t<tr><td>BAS</td><td>2024-12-31 14:00:00</td><td>2024</td><td>12</td><td>31</td><td>14</td><td>Tue</td><td>Weekday</td><td>Winter</td><td>22.6</td><td>25.4</td><td>21.6</td><td>42.3</td><td> 3.5</td><td>0</td><td>228.5</td><td>1.4</td><td>19.7</td><td>0.5</td><td> 9734.4</td></tr>\n",
       "\t<tr><td>BAS</td><td>2024-12-31 15:00:00</td><td>2024</td><td>12</td><td>31</td><td>15</td><td>Tue</td><td>Weekday</td><td>Winter</td><td>17.0</td><td>29.0</td><td>23.6</td><td>43.9</td><td> 2.9</td><td>0</td><td> 84.5</td><td>1.5</td><td>22.1</td><td>0.6</td><td>10111.0</td></tr>\n",
       "\t<tr><td>BAS</td><td>2024-12-31 16:00:00</td><td>2024</td><td>12</td><td>31</td><td>16</td><td>Tue</td><td>Weekday</td><td>Winter</td><td> 8.8</td><td>33.6</td><td>24.5</td><td>44.1</td><td> 1.6</td><td>0</td><td> 25.7</td><td>1.7</td><td>23.9</td><td>0.8</td><td>10303.5</td></tr>\n",
       "\t<tr><td>BAS</td><td>2024-12-31 17:00:00</td><td>2024</td><td>12</td><td>31</td><td>17</td><td>Tue</td><td>Weekday</td><td>Winter</td><td> 3.4</td><td>37.9</td><td>25.5</td><td>46.5</td><td> 0.5</td><td>0</td><td>  0.0</td><td>1.4</td><td>24.8</td><td>0.9</td><td>11511.7</td></tr>\n",
       "\t<tr><td>BAS</td><td>2024-12-31 18:00:00</td><td>2024</td><td>12</td><td>31</td><td>18</td><td>Tue</td><td>Weekday</td><td>Winter</td><td> 2.7</td><td>37.7</td><td>31.1</td><td>53.6</td><td>-0.3</td><td>0</td><td>  0.0</td><td>1.3</td><td>30.4</td><td>1.2</td><td>14463.4</td></tr>\n",
       "\t<tr><td>BAS</td><td>2024-12-31 19:00:00</td><td>2024</td><td>12</td><td>31</td><td>19</td><td>Tue</td><td>Weekday</td><td>Winter</td><td> 4.1</td><td>37.3</td><td>42.5</td><td>65.4</td><td>-1.3</td><td>0</td><td>  0.0</td><td>1.1</td><td>40.6</td><td>1.7</td><td>20669.3</td></tr>\n",
       "\t<tr><td>BAS</td><td>2024-12-31 20:00:00</td><td>2024</td><td>12</td><td>31</td><td>20</td><td>Tue</td><td>Weekday</td><td>Winter</td><td> 3.0</td><td>36.5</td><td>37.1</td><td>55.1</td><td>-1.1</td><td>0</td><td>  0.0</td><td>1.6</td><td>36.3</td><td>1.4</td><td>19038.3</td></tr>\n",
       "\t<tr><td>BAS</td><td>2024-12-31 21:00:00</td><td>2024</td><td>12</td><td>31</td><td>21</td><td>Tue</td><td>Weekday</td><td>Winter</td><td> 2.2</td><td>35.0</td><td>36.2</td><td>51.6</td><td>-1.4</td><td>0</td><td>  0.0</td><td>1.1</td><td>36.1</td><td>1.2</td><td>15172.2</td></tr>\n",
       "\t<tr><td>BAS</td><td>2024-12-31 22:00:00</td><td>2024</td><td>12</td><td>31</td><td>22</td><td>Tue</td><td>Weekday</td><td>Winter</td><td> 2.6</td><td>34.3</td><td>36.7</td><td>48.5</td><td>-1.8</td><td>0</td><td>  0.0</td><td>1.4</td><td>36.3</td><td>1.2</td><td>16183.8</td></tr>\n",
       "\t<tr><td>BAS</td><td>2024-12-31 23:00:00</td><td>2024</td><td>12</td><td>31</td><td>23</td><td>Tue</td><td>Weekday</td><td>Winter</td><td> 3.0</td><td>34.2</td><td>38.7</td><td>42.5</td><td>-2.1</td><td>0</td><td>  0.0</td><td>1.3</td><td>38.8</td><td>1.1</td><td>15483.7</td></tr>\n",
       "</tbody>\n",
       "</table>\n"
      ],
      "text/latex": [
       "A tibble: 17568 × 20\n",
       "\\begin{tabular}{llllllllllllllllllll}\n",
       " site & datetime & year & month & day & hour & dayofwk & daytype & season & O3 & NO2 & PM10 & NOX & TEMP & PREC & RAD & SO2 & PM2.5 & EC & CPC\\\\\n",
       " <chr> & <dttm> & <dbl> & <dbl> & <int> & <int> & <ord> & <chr> & <fct> & <dbl> & <dbl> & <dbl> & <dbl> & <dbl> & <dbl> & <dbl> & <dbl> & <dbl> & <dbl> & <dbl>\\\\\n",
       "\\hline\n",
       "\t DAV & 2024-01-01 00:00:00 & 2024 & 1 & 1 &  0 & Mon & Weekday & Winter & 57.7 & 1.9 & 1.2 & 1.9 & -2.2 & 0 &  -0.6 & NA & NA & NA & NA\\\\\n",
       "\t DAV & 2024-01-01 01:00:00 & 2024 & 1 & 1 &  1 & Mon & Weekday & Winter & 55.2 & 2.1 & 1.5 & 2.1 & -2.8 & 0 &  -0.7 & NA & NA & NA & NA\\\\\n",
       "\t DAV & 2024-01-01 02:00:00 & 2024 & 1 & 1 &  2 & Mon & Weekday & Winter & 49.9 & 3.7 & 2.2 & 3.7 & -3.3 & 0 &  -0.7 & NA & NA & NA & NA\\\\\n",
       "\t DAV & 2024-01-01 03:00:00 & 2024 & 1 & 1 &  3 & Mon & Weekday & Winter & 52.1 & 4.5 & 3.0 & 4.6 & -4.2 & 0 &  -1.1 & NA & NA & NA & NA\\\\\n",
       "\t DAV & 2024-01-01 04:00:00 & 2024 & 1 & 1 &  4 & Mon & Weekday & Winter & 65.8 & 0.7 & 0.2 & 0.7 & -5.2 & 0 &  -1.3 & NA & NA & NA & NA\\\\\n",
       "\t DAV & 2024-01-01 05:00:00 & 2024 & 1 & 1 &  5 & Mon & Weekday & Winter & 67.1 & 0.7 & 0.4 & 0.7 & -5.6 & 0 &  -0.8 & NA & NA & NA & NA\\\\\n",
       "\t DAV & 2024-01-01 06:00:00 & 2024 & 1 & 1 &  6 & Mon & Weekday & Winter & 64.0 & 3.4 & 0.3 & 3.5 & -5.7 & 0 &  -0.6 & NA & NA & NA & NA\\\\\n",
       "\t DAV & 2024-01-01 07:00:00 & 2024 & 1 & 1 &  7 & Mon & Weekday & Winter & 58.4 & 5.4 & 0.3 & 5.4 & -5.9 & 0 &  -0.6 & NA & NA & NA & NA\\\\\n",
       "\t DAV & 2024-01-01 08:00:00 & 2024 & 1 & 1 &  8 & Mon & Weekday & Winter & 61.8 & 1.7 & 0.3 & 1.8 & -5.7 & 0 &  22.6 & NA & NA & NA & NA\\\\\n",
       "\t DAV & 2024-01-01 09:00:00 & 2024 & 1 & 1 &  9 & Mon & Weekday & Winter & 59.0 & 2.9 & 0.4 & 3.4 & -5.3 & 0 &  73.9 & NA & NA & NA & NA\\\\\n",
       "\t DAV & 2024-01-01 10:00:00 & 2024 & 1 & 1 & 10 & Mon & Weekday & Winter & 57.8 & 3.4 & 0.5 & 4.4 & -4.3 & 0 & 169.3 & NA & NA & NA & NA\\\\\n",
       "\t DAV & 2024-01-01 11:00:00 & 2024 & 1 & 1 & 11 & Mon & Weekday & Winter & 53.2 & 4.9 & 0.7 & 7.2 & -3.3 & 0 & 301.3 & NA & NA & NA & NA\\\\\n",
       "\t DAV & 2024-01-01 12:00:00 & 2024 & 1 & 1 & 12 & Mon & Weekday & Winter & 61.4 & 1.8 & 0.4 & 2.5 & -2.3 & 0 & 272.5 & NA & NA & NA & NA\\\\\n",
       "\t DAV & 2024-01-01 13:00:00 & 2024 & 1 & 1 & 13 & Mon & Weekday & Winter & 63.6 & 1.4 & 0.5 & 1.7 & -2.4 & 0 & 129.9 & NA & NA & NA & NA\\\\\n",
       "\t DAV & 2024-01-01 14:00:00 & 2024 & 1 & 1 & 14 & Mon & Weekday & Winter & 62.6 & 4.3 & 0.6 & 5.2 & -2.3 & 0 & 118.1 & NA & NA & NA & NA\\\\\n",
       "\t DAV & 2024-01-01 15:00:00 & 2024 & 1 & 1 & 15 & Mon & Weekday & Winter & 55.4 & 5.8 & 0.8 & 6.7 & -2.5 & 0 &  59.1 & NA & NA & NA & NA\\\\\n",
       "\t DAV & 2024-01-01 16:00:00 & 2024 & 1 & 1 & 16 & Mon & Weekday & Winter & 60.7 & 2.8 & 0.8 & 3.0 & -3.4 & 0 &  13.2 & NA & NA & NA & NA\\\\\n",
       "\t DAV & 2024-01-01 17:00:00 & 2024 & 1 & 1 & 17 & Mon & Weekday & Winter & 61.7 & 1.6 & 1.1 & 1.7 & -4.9 & 0 &  -1.1 & NA & NA & NA & NA\\\\\n",
       "\t DAV & 2024-01-01 18:00:00 & 2024 & 1 & 1 & 18 & Mon & Weekday & Winter & 68.0 & 1.4 & 0.6 & 1.4 & -5.3 & 0 &  -1.0 & NA & NA & NA & NA\\\\\n",
       "\t DAV & 2024-01-01 19:00:00 & 2024 & 1 & 1 & 19 & Mon & Weekday & Winter & 68.7 & 0.8 & 0.5 & 0.9 & -5.7 & 0 &  -1.0 & NA & NA & NA & NA\\\\\n",
       "\t DAV & 2024-01-01 20:00:00 & 2024 & 1 & 1 & 20 & Mon & Weekday & Winter & 68.5 & 1.3 & 0.6 & 1.4 & -5.8 & 0 &  -0.9 & NA & NA & NA & NA\\\\\n",
       "\t DAV & 2024-01-01 21:00:00 & 2024 & 1 & 1 & 21 & Mon & Weekday & Winter & 65.8 & 2.3 & 2.4 & 2.8 & -6.4 & 0 &  -0.9 & NA & NA & NA & NA\\\\\n",
       "\t DAV & 2024-01-01 22:00:00 & 2024 & 1 & 1 & 22 & Mon & Weekday & Winter & 71.4 & 0.4 & 0.3 & 0.5 & -5.6 & 0 &  -0.9 & NA & NA & NA & NA\\\\\n",
       "\t DAV & 2024-01-01 23:00:00 & 2024 & 1 & 1 & 23 & Mon & Weekday & Winter & 70.3 & 0.4 & 0.3 & 0.5 & -6.8 & 0 &  -1.1 & NA & NA & NA & NA\\\\\n",
       "\t DAV & 2024-01-02 00:00:00 & 2024 & 1 & 2 &  0 & Tue & Weekday & Winter & 72.2 & 0.7 & 0.2 & 0.8 & -6.6 & 0 &  -0.5 & NA & NA & NA & NA\\\\\n",
       "\t DAV & 2024-01-02 01:00:00 & 2024 & 1 & 2 &  1 & Tue & Weekday & Winter & 75.6 & 0.2 & 0.2 & 0.3 & -6.0 & 0 &  -0.7 & NA & NA & NA & NA\\\\\n",
       "\t DAV & 2024-01-02 02:00:00 & 2024 & 1 & 2 &  2 & Tue & Weekday & Winter & 75.9 & 0.5 & 0.4 & 0.6 & -5.9 & 0 &  -0.7 & NA & NA & NA & NA\\\\\n",
       "\t DAV & 2024-01-02 03:00:00 & 2024 & 1 & 2 &  3 & Tue & Weekday & Winter & 71.8 & 2.3 & 0.4 & 2.6 & -6.6 & 0 &  -0.2 & NA & NA & NA & NA\\\\\n",
       "\t DAV & 2024-01-02 04:00:00 & 2024 & 1 & 2 &  4 & Tue & Weekday & Winter & 73.8 & 1.2 & 0.2 & 1.2 & -6.1 & 0 &  -0.1 & NA & NA & NA & NA\\\\\n",
       "\t DAV & 2024-01-02 05:00:00 & 2024 & 1 & 2 &  5 & Tue & Weekday & Winter & 70.4 & 3.6 & 0.2 & 3.7 & -5.8 & 0 &   0.0 & NA & NA & NA & NA\\\\\n",
       "\t ... & ... & ... & ... & ... & ... & ... & ... & ... & ... & ... & ... & ... & ... & ... & ... & ... & ... & ... & ...\\\\\n",
       "\t BAS & 2024-12-30 18:00:00 & 2024 & 12 & 30 & 18 & Mon & Weekday & Winter &  5.8 & 32.1 & 14.4 & 34.4 & -0.5 & 0 &   0.0 & 0.3 & 16.8 & 0.6 &  5815.7\\\\\n",
       "\t BAS & 2024-12-30 19:00:00 & 2024 & 12 & 30 & 19 & Mon & Weekday & Winter &  7.3 & 30.6 & 13.9 & 33.0 & -0.7 & 0 &   0.0 & 0.4 & 16.4 & 0.6 &  6715.2\\\\\n",
       "\t BAS & 2024-12-30 20:00:00 & 2024 & 12 & 30 & 20 & Mon & Weekday & Winter &  6.3 & 30.0 & 13.6 & 31.9 & -1.0 & 0 &   0.0 & 0.5 & 16.3 & 0.7 &  6380.9\\\\\n",
       "\t BAS & 2024-12-30 21:00:00 & 2024 & 12 & 30 & 21 & Mon & Weekday & Winter &  7.2 & 24.3 & 13.9 & 25.5 & -2.0 & 0 &   0.0 & 0.3 & 16.7 & 0.7 &  5976.5\\\\\n",
       "\t BAS & 2024-12-30 22:00:00 & 2024 & 12 & 30 & 22 & Mon & Weekday & Winter &  8.4 & 20.6 & 13.3 & 21.5 & -2.8 & 0 &   0.0 & 0.3 & 16.3 & 0.7 &  5303.4\\\\\n",
       "\t BAS & 2024-12-30 23:00:00 & 2024 & 12 & 30 & 23 & Mon & Weekday & Winter &  8.0 & 21.1 & 13.6 & 22.0 & -3.2 & 0 &   0.0 & 0.2 & 16.4 & 0.7 &  5421.7\\\\\n",
       "\t BAS & 2024-12-31 00:00:00 & 2024 & 12 & 31 &  0 & Tue & Weekday & Winter &  8.4 & 19.4 & 17.9 & 20.3 & -3.6 & 0 &   0.0 & 0.2 & 17.7 & 0.7 &  5047.5\\\\\n",
       "\t BAS & 2024-12-31 01:00:00 & 2024 & 12 & 31 &  1 & Tue & Weekday & Winter &  9.9 & 18.6 & 16.2 & 19.1 & -3.8 & 0 &   0.0 & 0.2 & 16.5 & 0.7 &  4840.7\\\\\n",
       "\t BAS & 2024-12-31 02:00:00 & 2024 & 12 & 31 &  2 & Tue & Weekday & Winter & 10.7 & 18.9 & 17.2 & 19.7 & -3.7 & 0 &   0.0 & 0.3 & 17.5 & 0.6 &  4575.8\\\\\n",
       "\t BAS & 2024-12-31 03:00:00 & 2024 & 12 & 31 &  3 & Tue & Weekday & Winter & 11.7 & 20.4 & 15.3 & 21.3 & -3.0 & 0 &   0.0 & 0.5 & 15.6 & 0.6 &  4708.3\\\\\n",
       "\t BAS & 2024-12-31 04:00:00 & 2024 & 12 & 31 &  4 & Tue & Weekday & Winter &  9.6 & 24.2 & 15.1 & 25.8 & -3.0 & 0 &   0.0 & 0.7 & 15.4 & 0.5 &  5278.4\\\\\n",
       "\t BAS & 2024-12-31 05:00:00 & 2024 & 12 & 31 &  5 & Tue & Weekday & Winter &  8.2 & 26.7 & 15.7 & 29.0 & -2.9 & 0 &   0.0 & 0.8 & 15.8 & 0.5 &  5976.5\\\\\n",
       "\t BAS & 2024-12-31 06:00:00 & 2024 & 12 & 31 &  6 & Tue & Weekday & Winter &  6.6 & 29.4 & 16.3 & 33.0 & -2.7 & 0 &   0.0 & 0.9 & 16.4 & 0.4 &  6841.4\\\\\n",
       "\t BAS & 2024-12-31 07:00:00 & 2024 & 12 & 31 &  7 & Tue & Weekday & Winter &  5.4 & 30.7 & 17.4 & 35.6 & -2.7 & 0 &   0.0 & 0.7 & 17.3 & 0.4 &  6987.3\\\\\n",
       "\t BAS & 2024-12-31 08:00:00 & 2024 & 12 & 31 &  8 & Tue & Weekday & Winter &  7.4 & 29.1 & 18.3 & 36.0 & -2.6 & 0 &  10.2 & 0.7 & 18.3 & 0.4 &  7431.9\\\\\n",
       "\t BAS & 2024-12-31 09:00:00 & 2024 & 12 & 31 &  9 & Tue & Weekday & Winter & 13.9 & 23.7 & 19.6 & 37.2 & -2.0 & 0 & 105.3 & 0.8 & 19.1 & 0.4 &  7305.2\\\\\n",
       "\t BAS & 2024-12-31 10:00:00 & 2024 & 12 & 31 & 10 & Tue & Weekday & Winter & 18.1 & 21.4 & 19.4 & 39.4 & -0.8 & 0 & 218.5 & 0.9 & 18.9 & 0.5 &  8069.0\\\\\n",
       "\t BAS & 2024-12-31 11:00:00 & 2024 & 12 & 31 & 11 & Tue & Weekday & Winter & 20.7 & 21.2 & 19.5 & 41.4 &  0.5 & 0 & 293.2 & 1.1 & 18.5 & 0.5 &  9086.4\\\\\n",
       "\t BAS & 2024-12-31 12:00:00 & 2024 & 12 & 31 & 12 & Tue & Weekday & Winter & 22.8 & 20.5 & 19.3 & 38.7 &  1.8 & 0 & 317.5 & 1.2 & 18.5 & 0.5 &  8997.9\\\\\n",
       "\t BAS & 2024-12-31 13:00:00 & 2024 & 12 & 31 & 13 & Tue & Weekday & Winter & 22.8 & 21.9 & 21.2 & 39.8 &  2.9 & 0 & 298.8 & 1.5 & 19.9 & 0.5 &  9252.1\\\\\n",
       "\t BAS & 2024-12-31 14:00:00 & 2024 & 12 & 31 & 14 & Tue & Weekday & Winter & 22.6 & 25.4 & 21.6 & 42.3 &  3.5 & 0 & 228.5 & 1.4 & 19.7 & 0.5 &  9734.4\\\\\n",
       "\t BAS & 2024-12-31 15:00:00 & 2024 & 12 & 31 & 15 & Tue & Weekday & Winter & 17.0 & 29.0 & 23.6 & 43.9 &  2.9 & 0 &  84.5 & 1.5 & 22.1 & 0.6 & 10111.0\\\\\n",
       "\t BAS & 2024-12-31 16:00:00 & 2024 & 12 & 31 & 16 & Tue & Weekday & Winter &  8.8 & 33.6 & 24.5 & 44.1 &  1.6 & 0 &  25.7 & 1.7 & 23.9 & 0.8 & 10303.5\\\\\n",
       "\t BAS & 2024-12-31 17:00:00 & 2024 & 12 & 31 & 17 & Tue & Weekday & Winter &  3.4 & 37.9 & 25.5 & 46.5 &  0.5 & 0 &   0.0 & 1.4 & 24.8 & 0.9 & 11511.7\\\\\n",
       "\t BAS & 2024-12-31 18:00:00 & 2024 & 12 & 31 & 18 & Tue & Weekday & Winter &  2.7 & 37.7 & 31.1 & 53.6 & -0.3 & 0 &   0.0 & 1.3 & 30.4 & 1.2 & 14463.4\\\\\n",
       "\t BAS & 2024-12-31 19:00:00 & 2024 & 12 & 31 & 19 & Tue & Weekday & Winter &  4.1 & 37.3 & 42.5 & 65.4 & -1.3 & 0 &   0.0 & 1.1 & 40.6 & 1.7 & 20669.3\\\\\n",
       "\t BAS & 2024-12-31 20:00:00 & 2024 & 12 & 31 & 20 & Tue & Weekday & Winter &  3.0 & 36.5 & 37.1 & 55.1 & -1.1 & 0 &   0.0 & 1.6 & 36.3 & 1.4 & 19038.3\\\\\n",
       "\t BAS & 2024-12-31 21:00:00 & 2024 & 12 & 31 & 21 & Tue & Weekday & Winter &  2.2 & 35.0 & 36.2 & 51.6 & -1.4 & 0 &   0.0 & 1.1 & 36.1 & 1.2 & 15172.2\\\\\n",
       "\t BAS & 2024-12-31 22:00:00 & 2024 & 12 & 31 & 22 & Tue & Weekday & Winter &  2.6 & 34.3 & 36.7 & 48.5 & -1.8 & 0 &   0.0 & 1.4 & 36.3 & 1.2 & 16183.8\\\\\n",
       "\t BAS & 2024-12-31 23:00:00 & 2024 & 12 & 31 & 23 & Tue & Weekday & Winter &  3.0 & 34.2 & 38.7 & 42.5 & -2.1 & 0 &   0.0 & 1.3 & 38.8 & 1.1 & 15483.7\\\\\n",
       "\\end{tabular}\n"
      ],
      "text/markdown": [
       "\n",
       "A tibble: 17568 × 20\n",
       "\n",
       "| site &lt;chr&gt; | datetime &lt;dttm&gt; | year &lt;dbl&gt; | month &lt;dbl&gt; | day &lt;int&gt; | hour &lt;int&gt; | dayofwk &lt;ord&gt; | daytype &lt;chr&gt; | season &lt;fct&gt; | O3 &lt;dbl&gt; | NO2 &lt;dbl&gt; | PM10 &lt;dbl&gt; | NOX &lt;dbl&gt; | TEMP &lt;dbl&gt; | PREC &lt;dbl&gt; | RAD &lt;dbl&gt; | SO2 &lt;dbl&gt; | PM2.5 &lt;dbl&gt; | EC &lt;dbl&gt; | CPC &lt;dbl&gt; |\n",
       "|---|---|---|---|---|---|---|---|---|---|---|---|---|---|---|---|---|---|---|---|\n",
       "| DAV | 2024-01-01 00:00:00 | 2024 | 1 | 1 |  0 | Mon | Weekday | Winter | 57.7 | 1.9 | 1.2 | 1.9 | -2.2 | 0 |  -0.6 | NA | NA | NA | NA |\n",
       "| DAV | 2024-01-01 01:00:00 | 2024 | 1 | 1 |  1 | Mon | Weekday | Winter | 55.2 | 2.1 | 1.5 | 2.1 | -2.8 | 0 |  -0.7 | NA | NA | NA | NA |\n",
       "| DAV | 2024-01-01 02:00:00 | 2024 | 1 | 1 |  2 | Mon | Weekday | Winter | 49.9 | 3.7 | 2.2 | 3.7 | -3.3 | 0 |  -0.7 | NA | NA | NA | NA |\n",
       "| DAV | 2024-01-01 03:00:00 | 2024 | 1 | 1 |  3 | Mon | Weekday | Winter | 52.1 | 4.5 | 3.0 | 4.6 | -4.2 | 0 |  -1.1 | NA | NA | NA | NA |\n",
       "| DAV | 2024-01-01 04:00:00 | 2024 | 1 | 1 |  4 | Mon | Weekday | Winter | 65.8 | 0.7 | 0.2 | 0.7 | -5.2 | 0 |  -1.3 | NA | NA | NA | NA |\n",
       "| DAV | 2024-01-01 05:00:00 | 2024 | 1 | 1 |  5 | Mon | Weekday | Winter | 67.1 | 0.7 | 0.4 | 0.7 | -5.6 | 0 |  -0.8 | NA | NA | NA | NA |\n",
       "| DAV | 2024-01-01 06:00:00 | 2024 | 1 | 1 |  6 | Mon | Weekday | Winter | 64.0 | 3.4 | 0.3 | 3.5 | -5.7 | 0 |  -0.6 | NA | NA | NA | NA |\n",
       "| DAV | 2024-01-01 07:00:00 | 2024 | 1 | 1 |  7 | Mon | Weekday | Winter | 58.4 | 5.4 | 0.3 | 5.4 | -5.9 | 0 |  -0.6 | NA | NA | NA | NA |\n",
       "| DAV | 2024-01-01 08:00:00 | 2024 | 1 | 1 |  8 | Mon | Weekday | Winter | 61.8 | 1.7 | 0.3 | 1.8 | -5.7 | 0 |  22.6 | NA | NA | NA | NA |\n",
       "| DAV | 2024-01-01 09:00:00 | 2024 | 1 | 1 |  9 | Mon | Weekday | Winter | 59.0 | 2.9 | 0.4 | 3.4 | -5.3 | 0 |  73.9 | NA | NA | NA | NA |\n",
       "| DAV | 2024-01-01 10:00:00 | 2024 | 1 | 1 | 10 | Mon | Weekday | Winter | 57.8 | 3.4 | 0.5 | 4.4 | -4.3 | 0 | 169.3 | NA | NA | NA | NA |\n",
       "| DAV | 2024-01-01 11:00:00 | 2024 | 1 | 1 | 11 | Mon | Weekday | Winter | 53.2 | 4.9 | 0.7 | 7.2 | -3.3 | 0 | 301.3 | NA | NA | NA | NA |\n",
       "| DAV | 2024-01-01 12:00:00 | 2024 | 1 | 1 | 12 | Mon | Weekday | Winter | 61.4 | 1.8 | 0.4 | 2.5 | -2.3 | 0 | 272.5 | NA | NA | NA | NA |\n",
       "| DAV | 2024-01-01 13:00:00 | 2024 | 1 | 1 | 13 | Mon | Weekday | Winter | 63.6 | 1.4 | 0.5 | 1.7 | -2.4 | 0 | 129.9 | NA | NA | NA | NA |\n",
       "| DAV | 2024-01-01 14:00:00 | 2024 | 1 | 1 | 14 | Mon | Weekday | Winter | 62.6 | 4.3 | 0.6 | 5.2 | -2.3 | 0 | 118.1 | NA | NA | NA | NA |\n",
       "| DAV | 2024-01-01 15:00:00 | 2024 | 1 | 1 | 15 | Mon | Weekday | Winter | 55.4 | 5.8 | 0.8 | 6.7 | -2.5 | 0 |  59.1 | NA | NA | NA | NA |\n",
       "| DAV | 2024-01-01 16:00:00 | 2024 | 1 | 1 | 16 | Mon | Weekday | Winter | 60.7 | 2.8 | 0.8 | 3.0 | -3.4 | 0 |  13.2 | NA | NA | NA | NA |\n",
       "| DAV | 2024-01-01 17:00:00 | 2024 | 1 | 1 | 17 | Mon | Weekday | Winter | 61.7 | 1.6 | 1.1 | 1.7 | -4.9 | 0 |  -1.1 | NA | NA | NA | NA |\n",
       "| DAV | 2024-01-01 18:00:00 | 2024 | 1 | 1 | 18 | Mon | Weekday | Winter | 68.0 | 1.4 | 0.6 | 1.4 | -5.3 | 0 |  -1.0 | NA | NA | NA | NA |\n",
       "| DAV | 2024-01-01 19:00:00 | 2024 | 1 | 1 | 19 | Mon | Weekday | Winter | 68.7 | 0.8 | 0.5 | 0.9 | -5.7 | 0 |  -1.0 | NA | NA | NA | NA |\n",
       "| DAV | 2024-01-01 20:00:00 | 2024 | 1 | 1 | 20 | Mon | Weekday | Winter | 68.5 | 1.3 | 0.6 | 1.4 | -5.8 | 0 |  -0.9 | NA | NA | NA | NA |\n",
       "| DAV | 2024-01-01 21:00:00 | 2024 | 1 | 1 | 21 | Mon | Weekday | Winter | 65.8 | 2.3 | 2.4 | 2.8 | -6.4 | 0 |  -0.9 | NA | NA | NA | NA |\n",
       "| DAV | 2024-01-01 22:00:00 | 2024 | 1 | 1 | 22 | Mon | Weekday | Winter | 71.4 | 0.4 | 0.3 | 0.5 | -5.6 | 0 |  -0.9 | NA | NA | NA | NA |\n",
       "| DAV | 2024-01-01 23:00:00 | 2024 | 1 | 1 | 23 | Mon | Weekday | Winter | 70.3 | 0.4 | 0.3 | 0.5 | -6.8 | 0 |  -1.1 | NA | NA | NA | NA |\n",
       "| DAV | 2024-01-02 00:00:00 | 2024 | 1 | 2 |  0 | Tue | Weekday | Winter | 72.2 | 0.7 | 0.2 | 0.8 | -6.6 | 0 |  -0.5 | NA | NA | NA | NA |\n",
       "| DAV | 2024-01-02 01:00:00 | 2024 | 1 | 2 |  1 | Tue | Weekday | Winter | 75.6 | 0.2 | 0.2 | 0.3 | -6.0 | 0 |  -0.7 | NA | NA | NA | NA |\n",
       "| DAV | 2024-01-02 02:00:00 | 2024 | 1 | 2 |  2 | Tue | Weekday | Winter | 75.9 | 0.5 | 0.4 | 0.6 | -5.9 | 0 |  -0.7 | NA | NA | NA | NA |\n",
       "| DAV | 2024-01-02 03:00:00 | 2024 | 1 | 2 |  3 | Tue | Weekday | Winter | 71.8 | 2.3 | 0.4 | 2.6 | -6.6 | 0 |  -0.2 | NA | NA | NA | NA |\n",
       "| DAV | 2024-01-02 04:00:00 | 2024 | 1 | 2 |  4 | Tue | Weekday | Winter | 73.8 | 1.2 | 0.2 | 1.2 | -6.1 | 0 |  -0.1 | NA | NA | NA | NA |\n",
       "| DAV | 2024-01-02 05:00:00 | 2024 | 1 | 2 |  5 | Tue | Weekday | Winter | 70.4 | 3.6 | 0.2 | 3.7 | -5.8 | 0 |   0.0 | NA | NA | NA | NA |\n",
       "| ... | ... | ... | ... | ... | ... | ... | ... | ... | ... | ... | ... | ... | ... | ... | ... | ... | ... | ... | ... |\n",
       "| BAS | 2024-12-30 18:00:00 | 2024 | 12 | 30 | 18 | Mon | Weekday | Winter |  5.8 | 32.1 | 14.4 | 34.4 | -0.5 | 0 |   0.0 | 0.3 | 16.8 | 0.6 |  5815.7 |\n",
       "| BAS | 2024-12-30 19:00:00 | 2024 | 12 | 30 | 19 | Mon | Weekday | Winter |  7.3 | 30.6 | 13.9 | 33.0 | -0.7 | 0 |   0.0 | 0.4 | 16.4 | 0.6 |  6715.2 |\n",
       "| BAS | 2024-12-30 20:00:00 | 2024 | 12 | 30 | 20 | Mon | Weekday | Winter |  6.3 | 30.0 | 13.6 | 31.9 | -1.0 | 0 |   0.0 | 0.5 | 16.3 | 0.7 |  6380.9 |\n",
       "| BAS | 2024-12-30 21:00:00 | 2024 | 12 | 30 | 21 | Mon | Weekday | Winter |  7.2 | 24.3 | 13.9 | 25.5 | -2.0 | 0 |   0.0 | 0.3 | 16.7 | 0.7 |  5976.5 |\n",
       "| BAS | 2024-12-30 22:00:00 | 2024 | 12 | 30 | 22 | Mon | Weekday | Winter |  8.4 | 20.6 | 13.3 | 21.5 | -2.8 | 0 |   0.0 | 0.3 | 16.3 | 0.7 |  5303.4 |\n",
       "| BAS | 2024-12-30 23:00:00 | 2024 | 12 | 30 | 23 | Mon | Weekday | Winter |  8.0 | 21.1 | 13.6 | 22.0 | -3.2 | 0 |   0.0 | 0.2 | 16.4 | 0.7 |  5421.7 |\n",
       "| BAS | 2024-12-31 00:00:00 | 2024 | 12 | 31 |  0 | Tue | Weekday | Winter |  8.4 | 19.4 | 17.9 | 20.3 | -3.6 | 0 |   0.0 | 0.2 | 17.7 | 0.7 |  5047.5 |\n",
       "| BAS | 2024-12-31 01:00:00 | 2024 | 12 | 31 |  1 | Tue | Weekday | Winter |  9.9 | 18.6 | 16.2 | 19.1 | -3.8 | 0 |   0.0 | 0.2 | 16.5 | 0.7 |  4840.7 |\n",
       "| BAS | 2024-12-31 02:00:00 | 2024 | 12 | 31 |  2 | Tue | Weekday | Winter | 10.7 | 18.9 | 17.2 | 19.7 | -3.7 | 0 |   0.0 | 0.3 | 17.5 | 0.6 |  4575.8 |\n",
       "| BAS | 2024-12-31 03:00:00 | 2024 | 12 | 31 |  3 | Tue | Weekday | Winter | 11.7 | 20.4 | 15.3 | 21.3 | -3.0 | 0 |   0.0 | 0.5 | 15.6 | 0.6 |  4708.3 |\n",
       "| BAS | 2024-12-31 04:00:00 | 2024 | 12 | 31 |  4 | Tue | Weekday | Winter |  9.6 | 24.2 | 15.1 | 25.8 | -3.0 | 0 |   0.0 | 0.7 | 15.4 | 0.5 |  5278.4 |\n",
       "| BAS | 2024-12-31 05:00:00 | 2024 | 12 | 31 |  5 | Tue | Weekday | Winter |  8.2 | 26.7 | 15.7 | 29.0 | -2.9 | 0 |   0.0 | 0.8 | 15.8 | 0.5 |  5976.5 |\n",
       "| BAS | 2024-12-31 06:00:00 | 2024 | 12 | 31 |  6 | Tue | Weekday | Winter |  6.6 | 29.4 | 16.3 | 33.0 | -2.7 | 0 |   0.0 | 0.9 | 16.4 | 0.4 |  6841.4 |\n",
       "| BAS | 2024-12-31 07:00:00 | 2024 | 12 | 31 |  7 | Tue | Weekday | Winter |  5.4 | 30.7 | 17.4 | 35.6 | -2.7 | 0 |   0.0 | 0.7 | 17.3 | 0.4 |  6987.3 |\n",
       "| BAS | 2024-12-31 08:00:00 | 2024 | 12 | 31 |  8 | Tue | Weekday | Winter |  7.4 | 29.1 | 18.3 | 36.0 | -2.6 | 0 |  10.2 | 0.7 | 18.3 | 0.4 |  7431.9 |\n",
       "| BAS | 2024-12-31 09:00:00 | 2024 | 12 | 31 |  9 | Tue | Weekday | Winter | 13.9 | 23.7 | 19.6 | 37.2 | -2.0 | 0 | 105.3 | 0.8 | 19.1 | 0.4 |  7305.2 |\n",
       "| BAS | 2024-12-31 10:00:00 | 2024 | 12 | 31 | 10 | Tue | Weekday | Winter | 18.1 | 21.4 | 19.4 | 39.4 | -0.8 | 0 | 218.5 | 0.9 | 18.9 | 0.5 |  8069.0 |\n",
       "| BAS | 2024-12-31 11:00:00 | 2024 | 12 | 31 | 11 | Tue | Weekday | Winter | 20.7 | 21.2 | 19.5 | 41.4 |  0.5 | 0 | 293.2 | 1.1 | 18.5 | 0.5 |  9086.4 |\n",
       "| BAS | 2024-12-31 12:00:00 | 2024 | 12 | 31 | 12 | Tue | Weekday | Winter | 22.8 | 20.5 | 19.3 | 38.7 |  1.8 | 0 | 317.5 | 1.2 | 18.5 | 0.5 |  8997.9 |\n",
       "| BAS | 2024-12-31 13:00:00 | 2024 | 12 | 31 | 13 | Tue | Weekday | Winter | 22.8 | 21.9 | 21.2 | 39.8 |  2.9 | 0 | 298.8 | 1.5 | 19.9 | 0.5 |  9252.1 |\n",
       "| BAS | 2024-12-31 14:00:00 | 2024 | 12 | 31 | 14 | Tue | Weekday | Winter | 22.6 | 25.4 | 21.6 | 42.3 |  3.5 | 0 | 228.5 | 1.4 | 19.7 | 0.5 |  9734.4 |\n",
       "| BAS | 2024-12-31 15:00:00 | 2024 | 12 | 31 | 15 | Tue | Weekday | Winter | 17.0 | 29.0 | 23.6 | 43.9 |  2.9 | 0 |  84.5 | 1.5 | 22.1 | 0.6 | 10111.0 |\n",
       "| BAS | 2024-12-31 16:00:00 | 2024 | 12 | 31 | 16 | Tue | Weekday | Winter |  8.8 | 33.6 | 24.5 | 44.1 |  1.6 | 0 |  25.7 | 1.7 | 23.9 | 0.8 | 10303.5 |\n",
       "| BAS | 2024-12-31 17:00:00 | 2024 | 12 | 31 | 17 | Tue | Weekday | Winter |  3.4 | 37.9 | 25.5 | 46.5 |  0.5 | 0 |   0.0 | 1.4 | 24.8 | 0.9 | 11511.7 |\n",
       "| BAS | 2024-12-31 18:00:00 | 2024 | 12 | 31 | 18 | Tue | Weekday | Winter |  2.7 | 37.7 | 31.1 | 53.6 | -0.3 | 0 |   0.0 | 1.3 | 30.4 | 1.2 | 14463.4 |\n",
       "| BAS | 2024-12-31 19:00:00 | 2024 | 12 | 31 | 19 | Tue | Weekday | Winter |  4.1 | 37.3 | 42.5 | 65.4 | -1.3 | 0 |   0.0 | 1.1 | 40.6 | 1.7 | 20669.3 |\n",
       "| BAS | 2024-12-31 20:00:00 | 2024 | 12 | 31 | 20 | Tue | Weekday | Winter |  3.0 | 36.5 | 37.1 | 55.1 | -1.1 | 0 |   0.0 | 1.6 | 36.3 | 1.4 | 19038.3 |\n",
       "| BAS | 2024-12-31 21:00:00 | 2024 | 12 | 31 | 21 | Tue | Weekday | Winter |  2.2 | 35.0 | 36.2 | 51.6 | -1.4 | 0 |   0.0 | 1.1 | 36.1 | 1.2 | 15172.2 |\n",
       "| BAS | 2024-12-31 22:00:00 | 2024 | 12 | 31 | 22 | Tue | Weekday | Winter |  2.6 | 34.3 | 36.7 | 48.5 | -1.8 | 0 |   0.0 | 1.4 | 36.3 | 1.2 | 16183.8 |\n",
       "| BAS | 2024-12-31 23:00:00 | 2024 | 12 | 31 | 23 | Tue | Weekday | Winter |  3.0 | 34.2 | 38.7 | 42.5 | -2.1 | 0 |   0.0 | 1.3 | 38.8 | 1.1 | 15483.7 |\n",
       "\n"
      ],
      "text/plain": [
       "      site datetime            year month day hour dayofwk daytype season O3  \n",
       "1     DAV  2024-01-01 00:00:00 2024 1     1    0   Mon     Weekday Winter 57.7\n",
       "2     DAV  2024-01-01 01:00:00 2024 1     1    1   Mon     Weekday Winter 55.2\n",
       "3     DAV  2024-01-01 02:00:00 2024 1     1    2   Mon     Weekday Winter 49.9\n",
       "4     DAV  2024-01-01 03:00:00 2024 1     1    3   Mon     Weekday Winter 52.1\n",
       "5     DAV  2024-01-01 04:00:00 2024 1     1    4   Mon     Weekday Winter 65.8\n",
       "6     DAV  2024-01-01 05:00:00 2024 1     1    5   Mon     Weekday Winter 67.1\n",
       "7     DAV  2024-01-01 06:00:00 2024 1     1    6   Mon     Weekday Winter 64.0\n",
       "8     DAV  2024-01-01 07:00:00 2024 1     1    7   Mon     Weekday Winter 58.4\n",
       "9     DAV  2024-01-01 08:00:00 2024 1     1    8   Mon     Weekday Winter 61.8\n",
       "10    DAV  2024-01-01 09:00:00 2024 1     1    9   Mon     Weekday Winter 59.0\n",
       "11    DAV  2024-01-01 10:00:00 2024 1     1   10   Mon     Weekday Winter 57.8\n",
       "12    DAV  2024-01-01 11:00:00 2024 1     1   11   Mon     Weekday Winter 53.2\n",
       "13    DAV  2024-01-01 12:00:00 2024 1     1   12   Mon     Weekday Winter 61.4\n",
       "14    DAV  2024-01-01 13:00:00 2024 1     1   13   Mon     Weekday Winter 63.6\n",
       "15    DAV  2024-01-01 14:00:00 2024 1     1   14   Mon     Weekday Winter 62.6\n",
       "16    DAV  2024-01-01 15:00:00 2024 1     1   15   Mon     Weekday Winter 55.4\n",
       "17    DAV  2024-01-01 16:00:00 2024 1     1   16   Mon     Weekday Winter 60.7\n",
       "18    DAV  2024-01-01 17:00:00 2024 1     1   17   Mon     Weekday Winter 61.7\n",
       "19    DAV  2024-01-01 18:00:00 2024 1     1   18   Mon     Weekday Winter 68.0\n",
       "20    DAV  2024-01-01 19:00:00 2024 1     1   19   Mon     Weekday Winter 68.7\n",
       "21    DAV  2024-01-01 20:00:00 2024 1     1   20   Mon     Weekday Winter 68.5\n",
       "22    DAV  2024-01-01 21:00:00 2024 1     1   21   Mon     Weekday Winter 65.8\n",
       "23    DAV  2024-01-01 22:00:00 2024 1     1   22   Mon     Weekday Winter 71.4\n",
       "24    DAV  2024-01-01 23:00:00 2024 1     1   23   Mon     Weekday Winter 70.3\n",
       "25    DAV  2024-01-02 00:00:00 2024 1     2    0   Tue     Weekday Winter 72.2\n",
       "26    DAV  2024-01-02 01:00:00 2024 1     2    1   Tue     Weekday Winter 75.6\n",
       "27    DAV  2024-01-02 02:00:00 2024 1     2    2   Tue     Weekday Winter 75.9\n",
       "28    DAV  2024-01-02 03:00:00 2024 1     2    3   Tue     Weekday Winter 71.8\n",
       "29    DAV  2024-01-02 04:00:00 2024 1     2    4   Tue     Weekday Winter 73.8\n",
       "30    DAV  2024-01-02 05:00:00 2024 1     2    5   Tue     Weekday Winter 70.4\n",
       "...   ...  ...                 ...  ...   ... ...  ...     ...     ...    ... \n",
       "17539 BAS  2024-12-30 18:00:00 2024 12    30  18   Mon     Weekday Winter  5.8\n",
       "17540 BAS  2024-12-30 19:00:00 2024 12    30  19   Mon     Weekday Winter  7.3\n",
       "17541 BAS  2024-12-30 20:00:00 2024 12    30  20   Mon     Weekday Winter  6.3\n",
       "17542 BAS  2024-12-30 21:00:00 2024 12    30  21   Mon     Weekday Winter  7.2\n",
       "17543 BAS  2024-12-30 22:00:00 2024 12    30  22   Mon     Weekday Winter  8.4\n",
       "17544 BAS  2024-12-30 23:00:00 2024 12    30  23   Mon     Weekday Winter  8.0\n",
       "17545 BAS  2024-12-31 00:00:00 2024 12    31   0   Tue     Weekday Winter  8.4\n",
       "17546 BAS  2024-12-31 01:00:00 2024 12    31   1   Tue     Weekday Winter  9.9\n",
       "17547 BAS  2024-12-31 02:00:00 2024 12    31   2   Tue     Weekday Winter 10.7\n",
       "17548 BAS  2024-12-31 03:00:00 2024 12    31   3   Tue     Weekday Winter 11.7\n",
       "17549 BAS  2024-12-31 04:00:00 2024 12    31   4   Tue     Weekday Winter  9.6\n",
       "17550 BAS  2024-12-31 05:00:00 2024 12    31   5   Tue     Weekday Winter  8.2\n",
       "17551 BAS  2024-12-31 06:00:00 2024 12    31   6   Tue     Weekday Winter  6.6\n",
       "17552 BAS  2024-12-31 07:00:00 2024 12    31   7   Tue     Weekday Winter  5.4\n",
       "17553 BAS  2024-12-31 08:00:00 2024 12    31   8   Tue     Weekday Winter  7.4\n",
       "17554 BAS  2024-12-31 09:00:00 2024 12    31   9   Tue     Weekday Winter 13.9\n",
       "17555 BAS  2024-12-31 10:00:00 2024 12    31  10   Tue     Weekday Winter 18.1\n",
       "17556 BAS  2024-12-31 11:00:00 2024 12    31  11   Tue     Weekday Winter 20.7\n",
       "17557 BAS  2024-12-31 12:00:00 2024 12    31  12   Tue     Weekday Winter 22.8\n",
       "17558 BAS  2024-12-31 13:00:00 2024 12    31  13   Tue     Weekday Winter 22.8\n",
       "17559 BAS  2024-12-31 14:00:00 2024 12    31  14   Tue     Weekday Winter 22.6\n",
       "17560 BAS  2024-12-31 15:00:00 2024 12    31  15   Tue     Weekday Winter 17.0\n",
       "17561 BAS  2024-12-31 16:00:00 2024 12    31  16   Tue     Weekday Winter  8.8\n",
       "17562 BAS  2024-12-31 17:00:00 2024 12    31  17   Tue     Weekday Winter  3.4\n",
       "17563 BAS  2024-12-31 18:00:00 2024 12    31  18   Tue     Weekday Winter  2.7\n",
       "17564 BAS  2024-12-31 19:00:00 2024 12    31  19   Tue     Weekday Winter  4.1\n",
       "17565 BAS  2024-12-31 20:00:00 2024 12    31  20   Tue     Weekday Winter  3.0\n",
       "17566 BAS  2024-12-31 21:00:00 2024 12    31  21   Tue     Weekday Winter  2.2\n",
       "17567 BAS  2024-12-31 22:00:00 2024 12    31  22   Tue     Weekday Winter  2.6\n",
       "17568 BAS  2024-12-31 23:00:00 2024 12    31  23   Tue     Weekday Winter  3.0\n",
       "      NO2  PM10 NOX  TEMP PREC RAD   SO2 PM2.5 EC  CPC    \n",
       "1     1.9  1.2  1.9  -2.2 0     -0.6 NA  NA    NA  NA     \n",
       "2     2.1  1.5  2.1  -2.8 0     -0.7 NA  NA    NA  NA     \n",
       "3     3.7  2.2  3.7  -3.3 0     -0.7 NA  NA    NA  NA     \n",
       "4     4.5  3.0  4.6  -4.2 0     -1.1 NA  NA    NA  NA     \n",
       "5     0.7  0.2  0.7  -5.2 0     -1.3 NA  NA    NA  NA     \n",
       "6     0.7  0.4  0.7  -5.6 0     -0.8 NA  NA    NA  NA     \n",
       "7     3.4  0.3  3.5  -5.7 0     -0.6 NA  NA    NA  NA     \n",
       "8     5.4  0.3  5.4  -5.9 0     -0.6 NA  NA    NA  NA     \n",
       "9     1.7  0.3  1.8  -5.7 0     22.6 NA  NA    NA  NA     \n",
       "10    2.9  0.4  3.4  -5.3 0     73.9 NA  NA    NA  NA     \n",
       "11    3.4  0.5  4.4  -4.3 0    169.3 NA  NA    NA  NA     \n",
       "12    4.9  0.7  7.2  -3.3 0    301.3 NA  NA    NA  NA     \n",
       "13    1.8  0.4  2.5  -2.3 0    272.5 NA  NA    NA  NA     \n",
       "14    1.4  0.5  1.7  -2.4 0    129.9 NA  NA    NA  NA     \n",
       "15    4.3  0.6  5.2  -2.3 0    118.1 NA  NA    NA  NA     \n",
       "16    5.8  0.8  6.7  -2.5 0     59.1 NA  NA    NA  NA     \n",
       "17    2.8  0.8  3.0  -3.4 0     13.2 NA  NA    NA  NA     \n",
       "18    1.6  1.1  1.7  -4.9 0     -1.1 NA  NA    NA  NA     \n",
       "19    1.4  0.6  1.4  -5.3 0     -1.0 NA  NA    NA  NA     \n",
       "20    0.8  0.5  0.9  -5.7 0     -1.0 NA  NA    NA  NA     \n",
       "21    1.3  0.6  1.4  -5.8 0     -0.9 NA  NA    NA  NA     \n",
       "22    2.3  2.4  2.8  -6.4 0     -0.9 NA  NA    NA  NA     \n",
       "23    0.4  0.3  0.5  -5.6 0     -0.9 NA  NA    NA  NA     \n",
       "24    0.4  0.3  0.5  -6.8 0     -1.1 NA  NA    NA  NA     \n",
       "25    0.7  0.2  0.8  -6.6 0     -0.5 NA  NA    NA  NA     \n",
       "26    0.2  0.2  0.3  -6.0 0     -0.7 NA  NA    NA  NA     \n",
       "27    0.5  0.4  0.6  -5.9 0     -0.7 NA  NA    NA  NA     \n",
       "28    2.3  0.4  2.6  -6.6 0     -0.2 NA  NA    NA  NA     \n",
       "29    1.2  0.2  1.2  -6.1 0     -0.1 NA  NA    NA  NA     \n",
       "30    3.6  0.2  3.7  -5.8 0      0.0 NA  NA    NA  NA     \n",
       "...   ...  ...  ...  ...  ...  ...   ... ...   ... ...    \n",
       "17539 32.1 14.4 34.4 -0.5 0      0.0 0.3 16.8  0.6  5815.7\n",
       "17540 30.6 13.9 33.0 -0.7 0      0.0 0.4 16.4  0.6  6715.2\n",
       "17541 30.0 13.6 31.9 -1.0 0      0.0 0.5 16.3  0.7  6380.9\n",
       "17542 24.3 13.9 25.5 -2.0 0      0.0 0.3 16.7  0.7  5976.5\n",
       "17543 20.6 13.3 21.5 -2.8 0      0.0 0.3 16.3  0.7  5303.4\n",
       "17544 21.1 13.6 22.0 -3.2 0      0.0 0.2 16.4  0.7  5421.7\n",
       "17545 19.4 17.9 20.3 -3.6 0      0.0 0.2 17.7  0.7  5047.5\n",
       "17546 18.6 16.2 19.1 -3.8 0      0.0 0.2 16.5  0.7  4840.7\n",
       "17547 18.9 17.2 19.7 -3.7 0      0.0 0.3 17.5  0.6  4575.8\n",
       "17548 20.4 15.3 21.3 -3.0 0      0.0 0.5 15.6  0.6  4708.3\n",
       "17549 24.2 15.1 25.8 -3.0 0      0.0 0.7 15.4  0.5  5278.4\n",
       "17550 26.7 15.7 29.0 -2.9 0      0.0 0.8 15.8  0.5  5976.5\n",
       "17551 29.4 16.3 33.0 -2.7 0      0.0 0.9 16.4  0.4  6841.4\n",
       "17552 30.7 17.4 35.6 -2.7 0      0.0 0.7 17.3  0.4  6987.3\n",
       "17553 29.1 18.3 36.0 -2.6 0     10.2 0.7 18.3  0.4  7431.9\n",
       "17554 23.7 19.6 37.2 -2.0 0    105.3 0.8 19.1  0.4  7305.2\n",
       "17555 21.4 19.4 39.4 -0.8 0    218.5 0.9 18.9  0.5  8069.0\n",
       "17556 21.2 19.5 41.4  0.5 0    293.2 1.1 18.5  0.5  9086.4\n",
       "17557 20.5 19.3 38.7  1.8 0    317.5 1.2 18.5  0.5  8997.9\n",
       "17558 21.9 21.2 39.8  2.9 0    298.8 1.5 19.9  0.5  9252.1\n",
       "17559 25.4 21.6 42.3  3.5 0    228.5 1.4 19.7  0.5  9734.4\n",
       "17560 29.0 23.6 43.9  2.9 0     84.5 1.5 22.1  0.6 10111.0\n",
       "17561 33.6 24.5 44.1  1.6 0     25.7 1.7 23.9  0.8 10303.5\n",
       "17562 37.9 25.5 46.5  0.5 0      0.0 1.4 24.8  0.9 11511.7\n",
       "17563 37.7 31.1 53.6 -0.3 0      0.0 1.3 30.4  1.2 14463.4\n",
       "17564 37.3 42.5 65.4 -1.3 0      0.0 1.1 40.6  1.7 20669.3\n",
       "17565 36.5 37.1 55.1 -1.1 0      0.0 1.6 36.3  1.4 19038.3\n",
       "17566 35.0 36.2 51.6 -1.4 0      0.0 1.1 36.1  1.2 15172.2\n",
       "17567 34.3 36.7 48.5 -1.8 0      0.0 1.4 36.3  1.2 16183.8\n",
       "17568 34.2 38.7 42.5 -2.1 0      0.0 1.3 38.8  1.1 15483.7"
      ]
     },
     "metadata": {},
     "output_type": "display_data"
    }
   ],
   "source": [
    "all_data_df"
   ]
  },
  {
   "cell_type": "code",
   "execution_count": 163,
   "id": "825c1a38-09d2-4711-a67b-5aba84b71152",
   "metadata": {
    "scrolled": true
   },
   "outputs": [
    {
     "data": {
      "text/html": [
       "<style>\n",
       ".list-inline {list-style: none; margin:0; padding: 0}\n",
       ".list-inline>li {display: inline-block}\n",
       ".list-inline>li:not(:last-child)::after {content: \"\\00b7\"; padding: 0 .5ex}\n",
       "</style>\n",
       "<ol class=list-inline><li>2162</li><li>10946</li></ol>\n"
      ],
      "text/latex": [
       "\\begin{enumerate*}\n",
       "\\item 2162\n",
       "\\item 10946\n",
       "\\end{enumerate*}\n"
      ],
      "text/markdown": [
       "1. 2162\n",
       "2. 10946\n",
       "\n",
       "\n"
      ],
      "text/plain": [
       "[1]  2162 10946"
      ]
     },
     "metadata": {},
     "output_type": "display_data"
    },
    {
     "data": {
      "text/html": [
       "<table class=\"dataframe\">\n",
       "<caption>A tibble: 2 × 20</caption>\n",
       "<thead>\n",
       "\t<tr><th scope=col>site</th><th scope=col>datetime</th><th scope=col>year</th><th scope=col>month</th><th scope=col>day</th><th scope=col>hour</th><th scope=col>dayofwk</th><th scope=col>daytype</th><th scope=col>season</th><th scope=col>O3</th><th scope=col>NO2</th><th scope=col>PM10</th><th scope=col>NOX</th><th scope=col>TEMP</th><th scope=col>PREC</th><th scope=col>RAD</th><th scope=col>SO2</th><th scope=col>PM2.5</th><th scope=col>EC</th><th scope=col>CPC</th></tr>\n",
       "\t<tr><th scope=col>&lt;chr&gt;</th><th scope=col>&lt;dttm&gt;</th><th scope=col>&lt;dbl&gt;</th><th scope=col>&lt;dbl&gt;</th><th scope=col>&lt;int&gt;</th><th scope=col>&lt;int&gt;</th><th scope=col>&lt;ord&gt;</th><th scope=col>&lt;chr&gt;</th><th scope=col>&lt;fct&gt;</th><th scope=col>&lt;dbl&gt;</th><th scope=col>&lt;dbl&gt;</th><th scope=col>&lt;dbl&gt;</th><th scope=col>&lt;dbl&gt;</th><th scope=col>&lt;dbl&gt;</th><th scope=col>&lt;dbl&gt;</th><th scope=col>&lt;dbl&gt;</th><th scope=col>&lt;dbl&gt;</th><th scope=col>&lt;dbl&gt;</th><th scope=col>&lt;dbl&gt;</th><th scope=col>&lt;dbl&gt;</th></tr>\n",
       "</thead>\n",
       "<tbody>\n",
       "\t<tr><td>DAV</td><td>NA</td><td>NA</td><td>NA</td><td>NA</td><td>NA</td><td>NA</td><td>NA</td><td>NA</td><td>68.5</td><td> 0.6</td><td> 0.2</td><td> 0.7</td><td>0.3</td><td>1.3</td><td>0</td><td> NA</td><td>  NA</td><td> NA</td><td>    NA</td></tr>\n",
       "\t<tr><td>BAS</td><td>NA</td><td>NA</td><td>NA</td><td>NA</td><td>NA</td><td>NA</td><td>NA</td><td>NA</td><td>44.9</td><td>15.4</td><td>17.4</td><td>15.7</td><td>8.3</td><td>0.0</td><td>0</td><td>0.6</td><td>11.8</td><td>0.4</td><td>9307.1</td></tr>\n",
       "</tbody>\n",
       "</table>\n"
      ],
      "text/latex": [
       "A tibble: 2 × 20\n",
       "\\begin{tabular}{llllllllllllllllllll}\n",
       " site & datetime & year & month & day & hour & dayofwk & daytype & season & O3 & NO2 & PM10 & NOX & TEMP & PREC & RAD & SO2 & PM2.5 & EC & CPC\\\\\n",
       " <chr> & <dttm> & <dbl> & <dbl> & <int> & <int> & <ord> & <chr> & <fct> & <dbl> & <dbl> & <dbl> & <dbl> & <dbl> & <dbl> & <dbl> & <dbl> & <dbl> & <dbl> & <dbl>\\\\\n",
       "\\hline\n",
       "\t DAV & NA & NA & NA & NA & NA & NA & NA & NA & 68.5 &  0.6 &  0.2 &  0.7 & 0.3 & 1.3 & 0 &  NA &   NA &  NA &     NA\\\\\n",
       "\t BAS & NA & NA & NA & NA & NA & NA & NA & NA & 44.9 & 15.4 & 17.4 & 15.7 & 8.3 & 0.0 & 0 & 0.6 & 11.8 & 0.4 & 9307.1\\\\\n",
       "\\end{tabular}\n"
      ],
      "text/markdown": [
       "\n",
       "A tibble: 2 × 20\n",
       "\n",
       "| site &lt;chr&gt; | datetime &lt;dttm&gt; | year &lt;dbl&gt; | month &lt;dbl&gt; | day &lt;int&gt; | hour &lt;int&gt; | dayofwk &lt;ord&gt; | daytype &lt;chr&gt; | season &lt;fct&gt; | O3 &lt;dbl&gt; | NO2 &lt;dbl&gt; | PM10 &lt;dbl&gt; | NOX &lt;dbl&gt; | TEMP &lt;dbl&gt; | PREC &lt;dbl&gt; | RAD &lt;dbl&gt; | SO2 &lt;dbl&gt; | PM2.5 &lt;dbl&gt; | EC &lt;dbl&gt; | CPC &lt;dbl&gt; |\n",
       "|---|---|---|---|---|---|---|---|---|---|---|---|---|---|---|---|---|---|---|---|\n",
       "| DAV | NA | NA | NA | NA | NA | NA | NA | NA | 68.5 |  0.6 |  0.2 |  0.7 | 0.3 | 1.3 | 0 |  NA |   NA |  NA |     NA |\n",
       "| BAS | NA | NA | NA | NA | NA | NA | NA | NA | 44.9 | 15.4 | 17.4 | 15.7 | 8.3 | 0.0 | 0 | 0.6 | 11.8 | 0.4 | 9307.1 |\n",
       "\n"
      ],
      "text/plain": [
       "  site datetime year month day hour dayofwk daytype season O3   NO2  PM10 NOX \n",
       "1 DAV  <NA>     NA   NA    NA  NA   NA      NA      NA     68.5  0.6  0.2  0.7\n",
       "2 BAS  <NA>     NA   NA    NA  NA   NA      NA      NA     44.9 15.4 17.4 15.7\n",
       "  TEMP PREC RAD SO2 PM2.5 EC  CPC   \n",
       "1 0.3  1.3  0    NA   NA   NA     NA\n",
       "2 8.3  0.0  0   0.6 11.8  0.4 9307.1"
      ]
     },
     "metadata": {},
     "output_type": "display_data"
    }
   ],
   "source": [
    "#checking table rows \n",
    "invalid_rows <- which(is.na(all_data_df$datetime))\n",
    "invalid_rows\n",
    "invalid_dates <- all_data_df[is.na(all_data_df$datetime), ]\n",
    "invalid_dates"
   ]
  },
  {
   "cell_type": "code",
   "execution_count": 171,
   "id": "9c521f82-cf90-41a1-b3f3-b85cd87489b8",
   "metadata": {},
   "outputs": [],
   "source": [
    "saveRDS(all_data_df, \"DATA/DAV-BAS.rds\")"
   ]
  },
  {
   "cell_type": "code",
   "execution_count": 173,
   "id": "902f666b-ee6b-440f-8cde-468dc3515387",
   "metadata": {},
   "outputs": [],
   "source": [
    "all_data_lf <- all_data_df %>%\n",
    "  pivot_longer(-c(site, datetime, season, year, month, day, hour, dayofwk, daytype),  # id columns\n",
    "               names_to = \"variable\",\n",
    "               values_to = \"value\")"
   ]
  },
  {
   "cell_type": "code",
   "execution_count": 174,
   "id": "42ec5e63-7d7b-4f27-bea9-f7943ccd7e84",
   "metadata": {},
   "outputs": [
    {
     "data": {
      "text/html": [
       "<table class=\"dataframe\">\n",
       "<caption>A tibble: 193248 × 11</caption>\n",
       "<thead>\n",
       "\t<tr><th scope=col>site</th><th scope=col>datetime</th><th scope=col>year</th><th scope=col>month</th><th scope=col>day</th><th scope=col>hour</th><th scope=col>dayofwk</th><th scope=col>daytype</th><th scope=col>season</th><th scope=col>variable</th><th scope=col>value</th></tr>\n",
       "\t<tr><th scope=col>&lt;chr&gt;</th><th scope=col>&lt;dttm&gt;</th><th scope=col>&lt;dbl&gt;</th><th scope=col>&lt;dbl&gt;</th><th scope=col>&lt;int&gt;</th><th scope=col>&lt;int&gt;</th><th scope=col>&lt;ord&gt;</th><th scope=col>&lt;chr&gt;</th><th scope=col>&lt;fct&gt;</th><th scope=col>&lt;chr&gt;</th><th scope=col>&lt;dbl&gt;</th></tr>\n",
       "</thead>\n",
       "<tbody>\n",
       "\t<tr><td>DAV</td><td>2024-01-01 00:00:00</td><td>2024</td><td>1</td><td>1</td><td>0</td><td>Mon</td><td>Weekday</td><td>Winter</td><td>O3   </td><td>57.7</td></tr>\n",
       "\t<tr><td>DAV</td><td>2024-01-01 00:00:00</td><td>2024</td><td>1</td><td>1</td><td>0</td><td>Mon</td><td>Weekday</td><td>Winter</td><td>NO2  </td><td> 1.9</td></tr>\n",
       "\t<tr><td>DAV</td><td>2024-01-01 00:00:00</td><td>2024</td><td>1</td><td>1</td><td>0</td><td>Mon</td><td>Weekday</td><td>Winter</td><td>PM10 </td><td> 1.2</td></tr>\n",
       "\t<tr><td>DAV</td><td>2024-01-01 00:00:00</td><td>2024</td><td>1</td><td>1</td><td>0</td><td>Mon</td><td>Weekday</td><td>Winter</td><td>NOX  </td><td> 1.9</td></tr>\n",
       "\t<tr><td>DAV</td><td>2024-01-01 00:00:00</td><td>2024</td><td>1</td><td>1</td><td>0</td><td>Mon</td><td>Weekday</td><td>Winter</td><td>TEMP </td><td>-2.2</td></tr>\n",
       "\t<tr><td>DAV</td><td>2024-01-01 00:00:00</td><td>2024</td><td>1</td><td>1</td><td>0</td><td>Mon</td><td>Weekday</td><td>Winter</td><td>PREC </td><td> 0.0</td></tr>\n",
       "\t<tr><td>DAV</td><td>2024-01-01 00:00:00</td><td>2024</td><td>1</td><td>1</td><td>0</td><td>Mon</td><td>Weekday</td><td>Winter</td><td>RAD  </td><td>-0.6</td></tr>\n",
       "\t<tr><td>DAV</td><td>2024-01-01 00:00:00</td><td>2024</td><td>1</td><td>1</td><td>0</td><td>Mon</td><td>Weekday</td><td>Winter</td><td>SO2  </td><td>  NA</td></tr>\n",
       "\t<tr><td>DAV</td><td>2024-01-01 00:00:00</td><td>2024</td><td>1</td><td>1</td><td>0</td><td>Mon</td><td>Weekday</td><td>Winter</td><td>PM2.5</td><td>  NA</td></tr>\n",
       "\t<tr><td>DAV</td><td>2024-01-01 00:00:00</td><td>2024</td><td>1</td><td>1</td><td>0</td><td>Mon</td><td>Weekday</td><td>Winter</td><td>EC   </td><td>  NA</td></tr>\n",
       "\t<tr><td>DAV</td><td>2024-01-01 00:00:00</td><td>2024</td><td>1</td><td>1</td><td>0</td><td>Mon</td><td>Weekday</td><td>Winter</td><td>CPC  </td><td>  NA</td></tr>\n",
       "\t<tr><td>DAV</td><td>2024-01-01 01:00:00</td><td>2024</td><td>1</td><td>1</td><td>1</td><td>Mon</td><td>Weekday</td><td>Winter</td><td>O3   </td><td>55.2</td></tr>\n",
       "\t<tr><td>DAV</td><td>2024-01-01 01:00:00</td><td>2024</td><td>1</td><td>1</td><td>1</td><td>Mon</td><td>Weekday</td><td>Winter</td><td>NO2  </td><td> 2.1</td></tr>\n",
       "\t<tr><td>DAV</td><td>2024-01-01 01:00:00</td><td>2024</td><td>1</td><td>1</td><td>1</td><td>Mon</td><td>Weekday</td><td>Winter</td><td>PM10 </td><td> 1.5</td></tr>\n",
       "\t<tr><td>DAV</td><td>2024-01-01 01:00:00</td><td>2024</td><td>1</td><td>1</td><td>1</td><td>Mon</td><td>Weekday</td><td>Winter</td><td>NOX  </td><td> 2.1</td></tr>\n",
       "\t<tr><td>DAV</td><td>2024-01-01 01:00:00</td><td>2024</td><td>1</td><td>1</td><td>1</td><td>Mon</td><td>Weekday</td><td>Winter</td><td>TEMP </td><td>-2.8</td></tr>\n",
       "\t<tr><td>DAV</td><td>2024-01-01 01:00:00</td><td>2024</td><td>1</td><td>1</td><td>1</td><td>Mon</td><td>Weekday</td><td>Winter</td><td>PREC </td><td> 0.0</td></tr>\n",
       "\t<tr><td>DAV</td><td>2024-01-01 01:00:00</td><td>2024</td><td>1</td><td>1</td><td>1</td><td>Mon</td><td>Weekday</td><td>Winter</td><td>RAD  </td><td>-0.7</td></tr>\n",
       "\t<tr><td>DAV</td><td>2024-01-01 01:00:00</td><td>2024</td><td>1</td><td>1</td><td>1</td><td>Mon</td><td>Weekday</td><td>Winter</td><td>SO2  </td><td>  NA</td></tr>\n",
       "\t<tr><td>DAV</td><td>2024-01-01 01:00:00</td><td>2024</td><td>1</td><td>1</td><td>1</td><td>Mon</td><td>Weekday</td><td>Winter</td><td>PM2.5</td><td>  NA</td></tr>\n",
       "\t<tr><td>DAV</td><td>2024-01-01 01:00:00</td><td>2024</td><td>1</td><td>1</td><td>1</td><td>Mon</td><td>Weekday</td><td>Winter</td><td>EC   </td><td>  NA</td></tr>\n",
       "\t<tr><td>DAV</td><td>2024-01-01 01:00:00</td><td>2024</td><td>1</td><td>1</td><td>1</td><td>Mon</td><td>Weekday</td><td>Winter</td><td>CPC  </td><td>  NA</td></tr>\n",
       "\t<tr><td>DAV</td><td>2024-01-01 02:00:00</td><td>2024</td><td>1</td><td>1</td><td>2</td><td>Mon</td><td>Weekday</td><td>Winter</td><td>O3   </td><td>49.9</td></tr>\n",
       "\t<tr><td>DAV</td><td>2024-01-01 02:00:00</td><td>2024</td><td>1</td><td>1</td><td>2</td><td>Mon</td><td>Weekday</td><td>Winter</td><td>NO2  </td><td> 3.7</td></tr>\n",
       "\t<tr><td>DAV</td><td>2024-01-01 02:00:00</td><td>2024</td><td>1</td><td>1</td><td>2</td><td>Mon</td><td>Weekday</td><td>Winter</td><td>PM10 </td><td> 2.2</td></tr>\n",
       "\t<tr><td>DAV</td><td>2024-01-01 02:00:00</td><td>2024</td><td>1</td><td>1</td><td>2</td><td>Mon</td><td>Weekday</td><td>Winter</td><td>NOX  </td><td> 3.7</td></tr>\n",
       "\t<tr><td>DAV</td><td>2024-01-01 02:00:00</td><td>2024</td><td>1</td><td>1</td><td>2</td><td>Mon</td><td>Weekday</td><td>Winter</td><td>TEMP </td><td>-3.3</td></tr>\n",
       "\t<tr><td>DAV</td><td>2024-01-01 02:00:00</td><td>2024</td><td>1</td><td>1</td><td>2</td><td>Mon</td><td>Weekday</td><td>Winter</td><td>PREC </td><td> 0.0</td></tr>\n",
       "\t<tr><td>DAV</td><td>2024-01-01 02:00:00</td><td>2024</td><td>1</td><td>1</td><td>2</td><td>Mon</td><td>Weekday</td><td>Winter</td><td>RAD  </td><td>-0.7</td></tr>\n",
       "\t<tr><td>DAV</td><td>2024-01-01 02:00:00</td><td>2024</td><td>1</td><td>1</td><td>2</td><td>Mon</td><td>Weekday</td><td>Winter</td><td>SO2  </td><td>  NA</td></tr>\n",
       "\t<tr><td>...</td><td>...</td><td>...</td><td>...</td><td>...</td><td>...</td><td>...</td><td>...</td><td>...</td><td>...</td><td>...</td></tr>\n",
       "\t<tr><td>BAS</td><td>2024-12-31 21:00:00</td><td>2024</td><td>12</td><td>31</td><td>21</td><td>Tue</td><td>Weekday</td><td>Winter</td><td>NOX  </td><td>   51.6</td></tr>\n",
       "\t<tr><td>BAS</td><td>2024-12-31 21:00:00</td><td>2024</td><td>12</td><td>31</td><td>21</td><td>Tue</td><td>Weekday</td><td>Winter</td><td>TEMP </td><td>   -1.4</td></tr>\n",
       "\t<tr><td>BAS</td><td>2024-12-31 21:00:00</td><td>2024</td><td>12</td><td>31</td><td>21</td><td>Tue</td><td>Weekday</td><td>Winter</td><td>PREC </td><td>    0.0</td></tr>\n",
       "\t<tr><td>BAS</td><td>2024-12-31 21:00:00</td><td>2024</td><td>12</td><td>31</td><td>21</td><td>Tue</td><td>Weekday</td><td>Winter</td><td>RAD  </td><td>    0.0</td></tr>\n",
       "\t<tr><td>BAS</td><td>2024-12-31 21:00:00</td><td>2024</td><td>12</td><td>31</td><td>21</td><td>Tue</td><td>Weekday</td><td>Winter</td><td>SO2  </td><td>    1.1</td></tr>\n",
       "\t<tr><td>BAS</td><td>2024-12-31 21:00:00</td><td>2024</td><td>12</td><td>31</td><td>21</td><td>Tue</td><td>Weekday</td><td>Winter</td><td>PM2.5</td><td>   36.1</td></tr>\n",
       "\t<tr><td>BAS</td><td>2024-12-31 21:00:00</td><td>2024</td><td>12</td><td>31</td><td>21</td><td>Tue</td><td>Weekday</td><td>Winter</td><td>EC   </td><td>    1.2</td></tr>\n",
       "\t<tr><td>BAS</td><td>2024-12-31 21:00:00</td><td>2024</td><td>12</td><td>31</td><td>21</td><td>Tue</td><td>Weekday</td><td>Winter</td><td>CPC  </td><td>15172.2</td></tr>\n",
       "\t<tr><td>BAS</td><td>2024-12-31 22:00:00</td><td>2024</td><td>12</td><td>31</td><td>22</td><td>Tue</td><td>Weekday</td><td>Winter</td><td>O3   </td><td>    2.6</td></tr>\n",
       "\t<tr><td>BAS</td><td>2024-12-31 22:00:00</td><td>2024</td><td>12</td><td>31</td><td>22</td><td>Tue</td><td>Weekday</td><td>Winter</td><td>NO2  </td><td>   34.3</td></tr>\n",
       "\t<tr><td>BAS</td><td>2024-12-31 22:00:00</td><td>2024</td><td>12</td><td>31</td><td>22</td><td>Tue</td><td>Weekday</td><td>Winter</td><td>PM10 </td><td>   36.7</td></tr>\n",
       "\t<tr><td>BAS</td><td>2024-12-31 22:00:00</td><td>2024</td><td>12</td><td>31</td><td>22</td><td>Tue</td><td>Weekday</td><td>Winter</td><td>NOX  </td><td>   48.5</td></tr>\n",
       "\t<tr><td>BAS</td><td>2024-12-31 22:00:00</td><td>2024</td><td>12</td><td>31</td><td>22</td><td>Tue</td><td>Weekday</td><td>Winter</td><td>TEMP </td><td>   -1.8</td></tr>\n",
       "\t<tr><td>BAS</td><td>2024-12-31 22:00:00</td><td>2024</td><td>12</td><td>31</td><td>22</td><td>Tue</td><td>Weekday</td><td>Winter</td><td>PREC </td><td>    0.0</td></tr>\n",
       "\t<tr><td>BAS</td><td>2024-12-31 22:00:00</td><td>2024</td><td>12</td><td>31</td><td>22</td><td>Tue</td><td>Weekday</td><td>Winter</td><td>RAD  </td><td>    0.0</td></tr>\n",
       "\t<tr><td>BAS</td><td>2024-12-31 22:00:00</td><td>2024</td><td>12</td><td>31</td><td>22</td><td>Tue</td><td>Weekday</td><td>Winter</td><td>SO2  </td><td>    1.4</td></tr>\n",
       "\t<tr><td>BAS</td><td>2024-12-31 22:00:00</td><td>2024</td><td>12</td><td>31</td><td>22</td><td>Tue</td><td>Weekday</td><td>Winter</td><td>PM2.5</td><td>   36.3</td></tr>\n",
       "\t<tr><td>BAS</td><td>2024-12-31 22:00:00</td><td>2024</td><td>12</td><td>31</td><td>22</td><td>Tue</td><td>Weekday</td><td>Winter</td><td>EC   </td><td>    1.2</td></tr>\n",
       "\t<tr><td>BAS</td><td>2024-12-31 22:00:00</td><td>2024</td><td>12</td><td>31</td><td>22</td><td>Tue</td><td>Weekday</td><td>Winter</td><td>CPC  </td><td>16183.8</td></tr>\n",
       "\t<tr><td>BAS</td><td>2024-12-31 23:00:00</td><td>2024</td><td>12</td><td>31</td><td>23</td><td>Tue</td><td>Weekday</td><td>Winter</td><td>O3   </td><td>    3.0</td></tr>\n",
       "\t<tr><td>BAS</td><td>2024-12-31 23:00:00</td><td>2024</td><td>12</td><td>31</td><td>23</td><td>Tue</td><td>Weekday</td><td>Winter</td><td>NO2  </td><td>   34.2</td></tr>\n",
       "\t<tr><td>BAS</td><td>2024-12-31 23:00:00</td><td>2024</td><td>12</td><td>31</td><td>23</td><td>Tue</td><td>Weekday</td><td>Winter</td><td>PM10 </td><td>   38.7</td></tr>\n",
       "\t<tr><td>BAS</td><td>2024-12-31 23:00:00</td><td>2024</td><td>12</td><td>31</td><td>23</td><td>Tue</td><td>Weekday</td><td>Winter</td><td>NOX  </td><td>   42.5</td></tr>\n",
       "\t<tr><td>BAS</td><td>2024-12-31 23:00:00</td><td>2024</td><td>12</td><td>31</td><td>23</td><td>Tue</td><td>Weekday</td><td>Winter</td><td>TEMP </td><td>   -2.1</td></tr>\n",
       "\t<tr><td>BAS</td><td>2024-12-31 23:00:00</td><td>2024</td><td>12</td><td>31</td><td>23</td><td>Tue</td><td>Weekday</td><td>Winter</td><td>PREC </td><td>    0.0</td></tr>\n",
       "\t<tr><td>BAS</td><td>2024-12-31 23:00:00</td><td>2024</td><td>12</td><td>31</td><td>23</td><td>Tue</td><td>Weekday</td><td>Winter</td><td>RAD  </td><td>    0.0</td></tr>\n",
       "\t<tr><td>BAS</td><td>2024-12-31 23:00:00</td><td>2024</td><td>12</td><td>31</td><td>23</td><td>Tue</td><td>Weekday</td><td>Winter</td><td>SO2  </td><td>    1.3</td></tr>\n",
       "\t<tr><td>BAS</td><td>2024-12-31 23:00:00</td><td>2024</td><td>12</td><td>31</td><td>23</td><td>Tue</td><td>Weekday</td><td>Winter</td><td>PM2.5</td><td>   38.8</td></tr>\n",
       "\t<tr><td>BAS</td><td>2024-12-31 23:00:00</td><td>2024</td><td>12</td><td>31</td><td>23</td><td>Tue</td><td>Weekday</td><td>Winter</td><td>EC   </td><td>    1.1</td></tr>\n",
       "\t<tr><td>BAS</td><td>2024-12-31 23:00:00</td><td>2024</td><td>12</td><td>31</td><td>23</td><td>Tue</td><td>Weekday</td><td>Winter</td><td>CPC  </td><td>15483.7</td></tr>\n",
       "</tbody>\n",
       "</table>\n"
      ],
      "text/latex": [
       "A tibble: 193248 × 11\n",
       "\\begin{tabular}{lllllllllll}\n",
       " site & datetime & year & month & day & hour & dayofwk & daytype & season & variable & value\\\\\n",
       " <chr> & <dttm> & <dbl> & <dbl> & <int> & <int> & <ord> & <chr> & <fct> & <chr> & <dbl>\\\\\n",
       "\\hline\n",
       "\t DAV & 2024-01-01 00:00:00 & 2024 & 1 & 1 & 0 & Mon & Weekday & Winter & O3    & 57.7\\\\\n",
       "\t DAV & 2024-01-01 00:00:00 & 2024 & 1 & 1 & 0 & Mon & Weekday & Winter & NO2   &  1.9\\\\\n",
       "\t DAV & 2024-01-01 00:00:00 & 2024 & 1 & 1 & 0 & Mon & Weekday & Winter & PM10  &  1.2\\\\\n",
       "\t DAV & 2024-01-01 00:00:00 & 2024 & 1 & 1 & 0 & Mon & Weekday & Winter & NOX   &  1.9\\\\\n",
       "\t DAV & 2024-01-01 00:00:00 & 2024 & 1 & 1 & 0 & Mon & Weekday & Winter & TEMP  & -2.2\\\\\n",
       "\t DAV & 2024-01-01 00:00:00 & 2024 & 1 & 1 & 0 & Mon & Weekday & Winter & PREC  &  0.0\\\\\n",
       "\t DAV & 2024-01-01 00:00:00 & 2024 & 1 & 1 & 0 & Mon & Weekday & Winter & RAD   & -0.6\\\\\n",
       "\t DAV & 2024-01-01 00:00:00 & 2024 & 1 & 1 & 0 & Mon & Weekday & Winter & SO2   &   NA\\\\\n",
       "\t DAV & 2024-01-01 00:00:00 & 2024 & 1 & 1 & 0 & Mon & Weekday & Winter & PM2.5 &   NA\\\\\n",
       "\t DAV & 2024-01-01 00:00:00 & 2024 & 1 & 1 & 0 & Mon & Weekday & Winter & EC    &   NA\\\\\n",
       "\t DAV & 2024-01-01 00:00:00 & 2024 & 1 & 1 & 0 & Mon & Weekday & Winter & CPC   &   NA\\\\\n",
       "\t DAV & 2024-01-01 01:00:00 & 2024 & 1 & 1 & 1 & Mon & Weekday & Winter & O3    & 55.2\\\\\n",
       "\t DAV & 2024-01-01 01:00:00 & 2024 & 1 & 1 & 1 & Mon & Weekday & Winter & NO2   &  2.1\\\\\n",
       "\t DAV & 2024-01-01 01:00:00 & 2024 & 1 & 1 & 1 & Mon & Weekday & Winter & PM10  &  1.5\\\\\n",
       "\t DAV & 2024-01-01 01:00:00 & 2024 & 1 & 1 & 1 & Mon & Weekday & Winter & NOX   &  2.1\\\\\n",
       "\t DAV & 2024-01-01 01:00:00 & 2024 & 1 & 1 & 1 & Mon & Weekday & Winter & TEMP  & -2.8\\\\\n",
       "\t DAV & 2024-01-01 01:00:00 & 2024 & 1 & 1 & 1 & Mon & Weekday & Winter & PREC  &  0.0\\\\\n",
       "\t DAV & 2024-01-01 01:00:00 & 2024 & 1 & 1 & 1 & Mon & Weekday & Winter & RAD   & -0.7\\\\\n",
       "\t DAV & 2024-01-01 01:00:00 & 2024 & 1 & 1 & 1 & Mon & Weekday & Winter & SO2   &   NA\\\\\n",
       "\t DAV & 2024-01-01 01:00:00 & 2024 & 1 & 1 & 1 & Mon & Weekday & Winter & PM2.5 &   NA\\\\\n",
       "\t DAV & 2024-01-01 01:00:00 & 2024 & 1 & 1 & 1 & Mon & Weekday & Winter & EC    &   NA\\\\\n",
       "\t DAV & 2024-01-01 01:00:00 & 2024 & 1 & 1 & 1 & Mon & Weekday & Winter & CPC   &   NA\\\\\n",
       "\t DAV & 2024-01-01 02:00:00 & 2024 & 1 & 1 & 2 & Mon & Weekday & Winter & O3    & 49.9\\\\\n",
       "\t DAV & 2024-01-01 02:00:00 & 2024 & 1 & 1 & 2 & Mon & Weekday & Winter & NO2   &  3.7\\\\\n",
       "\t DAV & 2024-01-01 02:00:00 & 2024 & 1 & 1 & 2 & Mon & Weekday & Winter & PM10  &  2.2\\\\\n",
       "\t DAV & 2024-01-01 02:00:00 & 2024 & 1 & 1 & 2 & Mon & Weekday & Winter & NOX   &  3.7\\\\\n",
       "\t DAV & 2024-01-01 02:00:00 & 2024 & 1 & 1 & 2 & Mon & Weekday & Winter & TEMP  & -3.3\\\\\n",
       "\t DAV & 2024-01-01 02:00:00 & 2024 & 1 & 1 & 2 & Mon & Weekday & Winter & PREC  &  0.0\\\\\n",
       "\t DAV & 2024-01-01 02:00:00 & 2024 & 1 & 1 & 2 & Mon & Weekday & Winter & RAD   & -0.7\\\\\n",
       "\t DAV & 2024-01-01 02:00:00 & 2024 & 1 & 1 & 2 & Mon & Weekday & Winter & SO2   &   NA\\\\\n",
       "\t ... & ... & ... & ... & ... & ... & ... & ... & ... & ... & ...\\\\\n",
       "\t BAS & 2024-12-31 21:00:00 & 2024 & 12 & 31 & 21 & Tue & Weekday & Winter & NOX   &    51.6\\\\\n",
       "\t BAS & 2024-12-31 21:00:00 & 2024 & 12 & 31 & 21 & Tue & Weekday & Winter & TEMP  &    -1.4\\\\\n",
       "\t BAS & 2024-12-31 21:00:00 & 2024 & 12 & 31 & 21 & Tue & Weekday & Winter & PREC  &     0.0\\\\\n",
       "\t BAS & 2024-12-31 21:00:00 & 2024 & 12 & 31 & 21 & Tue & Weekday & Winter & RAD   &     0.0\\\\\n",
       "\t BAS & 2024-12-31 21:00:00 & 2024 & 12 & 31 & 21 & Tue & Weekday & Winter & SO2   &     1.1\\\\\n",
       "\t BAS & 2024-12-31 21:00:00 & 2024 & 12 & 31 & 21 & Tue & Weekday & Winter & PM2.5 &    36.1\\\\\n",
       "\t BAS & 2024-12-31 21:00:00 & 2024 & 12 & 31 & 21 & Tue & Weekday & Winter & EC    &     1.2\\\\\n",
       "\t BAS & 2024-12-31 21:00:00 & 2024 & 12 & 31 & 21 & Tue & Weekday & Winter & CPC   & 15172.2\\\\\n",
       "\t BAS & 2024-12-31 22:00:00 & 2024 & 12 & 31 & 22 & Tue & Weekday & Winter & O3    &     2.6\\\\\n",
       "\t BAS & 2024-12-31 22:00:00 & 2024 & 12 & 31 & 22 & Tue & Weekday & Winter & NO2   &    34.3\\\\\n",
       "\t BAS & 2024-12-31 22:00:00 & 2024 & 12 & 31 & 22 & Tue & Weekday & Winter & PM10  &    36.7\\\\\n",
       "\t BAS & 2024-12-31 22:00:00 & 2024 & 12 & 31 & 22 & Tue & Weekday & Winter & NOX   &    48.5\\\\\n",
       "\t BAS & 2024-12-31 22:00:00 & 2024 & 12 & 31 & 22 & Tue & Weekday & Winter & TEMP  &    -1.8\\\\\n",
       "\t BAS & 2024-12-31 22:00:00 & 2024 & 12 & 31 & 22 & Tue & Weekday & Winter & PREC  &     0.0\\\\\n",
       "\t BAS & 2024-12-31 22:00:00 & 2024 & 12 & 31 & 22 & Tue & Weekday & Winter & RAD   &     0.0\\\\\n",
       "\t BAS & 2024-12-31 22:00:00 & 2024 & 12 & 31 & 22 & Tue & Weekday & Winter & SO2   &     1.4\\\\\n",
       "\t BAS & 2024-12-31 22:00:00 & 2024 & 12 & 31 & 22 & Tue & Weekday & Winter & PM2.5 &    36.3\\\\\n",
       "\t BAS & 2024-12-31 22:00:00 & 2024 & 12 & 31 & 22 & Tue & Weekday & Winter & EC    &     1.2\\\\\n",
       "\t BAS & 2024-12-31 22:00:00 & 2024 & 12 & 31 & 22 & Tue & Weekday & Winter & CPC   & 16183.8\\\\\n",
       "\t BAS & 2024-12-31 23:00:00 & 2024 & 12 & 31 & 23 & Tue & Weekday & Winter & O3    &     3.0\\\\\n",
       "\t BAS & 2024-12-31 23:00:00 & 2024 & 12 & 31 & 23 & Tue & Weekday & Winter & NO2   &    34.2\\\\\n",
       "\t BAS & 2024-12-31 23:00:00 & 2024 & 12 & 31 & 23 & Tue & Weekday & Winter & PM10  &    38.7\\\\\n",
       "\t BAS & 2024-12-31 23:00:00 & 2024 & 12 & 31 & 23 & Tue & Weekday & Winter & NOX   &    42.5\\\\\n",
       "\t BAS & 2024-12-31 23:00:00 & 2024 & 12 & 31 & 23 & Tue & Weekday & Winter & TEMP  &    -2.1\\\\\n",
       "\t BAS & 2024-12-31 23:00:00 & 2024 & 12 & 31 & 23 & Tue & Weekday & Winter & PREC  &     0.0\\\\\n",
       "\t BAS & 2024-12-31 23:00:00 & 2024 & 12 & 31 & 23 & Tue & Weekday & Winter & RAD   &     0.0\\\\\n",
       "\t BAS & 2024-12-31 23:00:00 & 2024 & 12 & 31 & 23 & Tue & Weekday & Winter & SO2   &     1.3\\\\\n",
       "\t BAS & 2024-12-31 23:00:00 & 2024 & 12 & 31 & 23 & Tue & Weekday & Winter & PM2.5 &    38.8\\\\\n",
       "\t BAS & 2024-12-31 23:00:00 & 2024 & 12 & 31 & 23 & Tue & Weekday & Winter & EC    &     1.1\\\\\n",
       "\t BAS & 2024-12-31 23:00:00 & 2024 & 12 & 31 & 23 & Tue & Weekday & Winter & CPC   & 15483.7\\\\\n",
       "\\end{tabular}\n"
      ],
      "text/markdown": [
       "\n",
       "A tibble: 193248 × 11\n",
       "\n",
       "| site &lt;chr&gt; | datetime &lt;dttm&gt; | year &lt;dbl&gt; | month &lt;dbl&gt; | day &lt;int&gt; | hour &lt;int&gt; | dayofwk &lt;ord&gt; | daytype &lt;chr&gt; | season &lt;fct&gt; | variable &lt;chr&gt; | value &lt;dbl&gt; |\n",
       "|---|---|---|---|---|---|---|---|---|---|---|\n",
       "| DAV | 2024-01-01 00:00:00 | 2024 | 1 | 1 | 0 | Mon | Weekday | Winter | O3    | 57.7 |\n",
       "| DAV | 2024-01-01 00:00:00 | 2024 | 1 | 1 | 0 | Mon | Weekday | Winter | NO2   |  1.9 |\n",
       "| DAV | 2024-01-01 00:00:00 | 2024 | 1 | 1 | 0 | Mon | Weekday | Winter | PM10  |  1.2 |\n",
       "| DAV | 2024-01-01 00:00:00 | 2024 | 1 | 1 | 0 | Mon | Weekday | Winter | NOX   |  1.9 |\n",
       "| DAV | 2024-01-01 00:00:00 | 2024 | 1 | 1 | 0 | Mon | Weekday | Winter | TEMP  | -2.2 |\n",
       "| DAV | 2024-01-01 00:00:00 | 2024 | 1 | 1 | 0 | Mon | Weekday | Winter | PREC  |  0.0 |\n",
       "| DAV | 2024-01-01 00:00:00 | 2024 | 1 | 1 | 0 | Mon | Weekday | Winter | RAD   | -0.6 |\n",
       "| DAV | 2024-01-01 00:00:00 | 2024 | 1 | 1 | 0 | Mon | Weekday | Winter | SO2   |   NA |\n",
       "| DAV | 2024-01-01 00:00:00 | 2024 | 1 | 1 | 0 | Mon | Weekday | Winter | PM2.5 |   NA |\n",
       "| DAV | 2024-01-01 00:00:00 | 2024 | 1 | 1 | 0 | Mon | Weekday | Winter | EC    |   NA |\n",
       "| DAV | 2024-01-01 00:00:00 | 2024 | 1 | 1 | 0 | Mon | Weekday | Winter | CPC   |   NA |\n",
       "| DAV | 2024-01-01 01:00:00 | 2024 | 1 | 1 | 1 | Mon | Weekday | Winter | O3    | 55.2 |\n",
       "| DAV | 2024-01-01 01:00:00 | 2024 | 1 | 1 | 1 | Mon | Weekday | Winter | NO2   |  2.1 |\n",
       "| DAV | 2024-01-01 01:00:00 | 2024 | 1 | 1 | 1 | Mon | Weekday | Winter | PM10  |  1.5 |\n",
       "| DAV | 2024-01-01 01:00:00 | 2024 | 1 | 1 | 1 | Mon | Weekday | Winter | NOX   |  2.1 |\n",
       "| DAV | 2024-01-01 01:00:00 | 2024 | 1 | 1 | 1 | Mon | Weekday | Winter | TEMP  | -2.8 |\n",
       "| DAV | 2024-01-01 01:00:00 | 2024 | 1 | 1 | 1 | Mon | Weekday | Winter | PREC  |  0.0 |\n",
       "| DAV | 2024-01-01 01:00:00 | 2024 | 1 | 1 | 1 | Mon | Weekday | Winter | RAD   | -0.7 |\n",
       "| DAV | 2024-01-01 01:00:00 | 2024 | 1 | 1 | 1 | Mon | Weekday | Winter | SO2   |   NA |\n",
       "| DAV | 2024-01-01 01:00:00 | 2024 | 1 | 1 | 1 | Mon | Weekday | Winter | PM2.5 |   NA |\n",
       "| DAV | 2024-01-01 01:00:00 | 2024 | 1 | 1 | 1 | Mon | Weekday | Winter | EC    |   NA |\n",
       "| DAV | 2024-01-01 01:00:00 | 2024 | 1 | 1 | 1 | Mon | Weekday | Winter | CPC   |   NA |\n",
       "| DAV | 2024-01-01 02:00:00 | 2024 | 1 | 1 | 2 | Mon | Weekday | Winter | O3    | 49.9 |\n",
       "| DAV | 2024-01-01 02:00:00 | 2024 | 1 | 1 | 2 | Mon | Weekday | Winter | NO2   |  3.7 |\n",
       "| DAV | 2024-01-01 02:00:00 | 2024 | 1 | 1 | 2 | Mon | Weekday | Winter | PM10  |  2.2 |\n",
       "| DAV | 2024-01-01 02:00:00 | 2024 | 1 | 1 | 2 | Mon | Weekday | Winter | NOX   |  3.7 |\n",
       "| DAV | 2024-01-01 02:00:00 | 2024 | 1 | 1 | 2 | Mon | Weekday | Winter | TEMP  | -3.3 |\n",
       "| DAV | 2024-01-01 02:00:00 | 2024 | 1 | 1 | 2 | Mon | Weekday | Winter | PREC  |  0.0 |\n",
       "| DAV | 2024-01-01 02:00:00 | 2024 | 1 | 1 | 2 | Mon | Weekday | Winter | RAD   | -0.7 |\n",
       "| DAV | 2024-01-01 02:00:00 | 2024 | 1 | 1 | 2 | Mon | Weekday | Winter | SO2   |   NA |\n",
       "| ... | ... | ... | ... | ... | ... | ... | ... | ... | ... | ... |\n",
       "| BAS | 2024-12-31 21:00:00 | 2024 | 12 | 31 | 21 | Tue | Weekday | Winter | NOX   |    51.6 |\n",
       "| BAS | 2024-12-31 21:00:00 | 2024 | 12 | 31 | 21 | Tue | Weekday | Winter | TEMP  |    -1.4 |\n",
       "| BAS | 2024-12-31 21:00:00 | 2024 | 12 | 31 | 21 | Tue | Weekday | Winter | PREC  |     0.0 |\n",
       "| BAS | 2024-12-31 21:00:00 | 2024 | 12 | 31 | 21 | Tue | Weekday | Winter | RAD   |     0.0 |\n",
       "| BAS | 2024-12-31 21:00:00 | 2024 | 12 | 31 | 21 | Tue | Weekday | Winter | SO2   |     1.1 |\n",
       "| BAS | 2024-12-31 21:00:00 | 2024 | 12 | 31 | 21 | Tue | Weekday | Winter | PM2.5 |    36.1 |\n",
       "| BAS | 2024-12-31 21:00:00 | 2024 | 12 | 31 | 21 | Tue | Weekday | Winter | EC    |     1.2 |\n",
       "| BAS | 2024-12-31 21:00:00 | 2024 | 12 | 31 | 21 | Tue | Weekday | Winter | CPC   | 15172.2 |\n",
       "| BAS | 2024-12-31 22:00:00 | 2024 | 12 | 31 | 22 | Tue | Weekday | Winter | O3    |     2.6 |\n",
       "| BAS | 2024-12-31 22:00:00 | 2024 | 12 | 31 | 22 | Tue | Weekday | Winter | NO2   |    34.3 |\n",
       "| BAS | 2024-12-31 22:00:00 | 2024 | 12 | 31 | 22 | Tue | Weekday | Winter | PM10  |    36.7 |\n",
       "| BAS | 2024-12-31 22:00:00 | 2024 | 12 | 31 | 22 | Tue | Weekday | Winter | NOX   |    48.5 |\n",
       "| BAS | 2024-12-31 22:00:00 | 2024 | 12 | 31 | 22 | Tue | Weekday | Winter | TEMP  |    -1.8 |\n",
       "| BAS | 2024-12-31 22:00:00 | 2024 | 12 | 31 | 22 | Tue | Weekday | Winter | PREC  |     0.0 |\n",
       "| BAS | 2024-12-31 22:00:00 | 2024 | 12 | 31 | 22 | Tue | Weekday | Winter | RAD   |     0.0 |\n",
       "| BAS | 2024-12-31 22:00:00 | 2024 | 12 | 31 | 22 | Tue | Weekday | Winter | SO2   |     1.4 |\n",
       "| BAS | 2024-12-31 22:00:00 | 2024 | 12 | 31 | 22 | Tue | Weekday | Winter | PM2.5 |    36.3 |\n",
       "| BAS | 2024-12-31 22:00:00 | 2024 | 12 | 31 | 22 | Tue | Weekday | Winter | EC    |     1.2 |\n",
       "| BAS | 2024-12-31 22:00:00 | 2024 | 12 | 31 | 22 | Tue | Weekday | Winter | CPC   | 16183.8 |\n",
       "| BAS | 2024-12-31 23:00:00 | 2024 | 12 | 31 | 23 | Tue | Weekday | Winter | O3    |     3.0 |\n",
       "| BAS | 2024-12-31 23:00:00 | 2024 | 12 | 31 | 23 | Tue | Weekday | Winter | NO2   |    34.2 |\n",
       "| BAS | 2024-12-31 23:00:00 | 2024 | 12 | 31 | 23 | Tue | Weekday | Winter | PM10  |    38.7 |\n",
       "| BAS | 2024-12-31 23:00:00 | 2024 | 12 | 31 | 23 | Tue | Weekday | Winter | NOX   |    42.5 |\n",
       "| BAS | 2024-12-31 23:00:00 | 2024 | 12 | 31 | 23 | Tue | Weekday | Winter | TEMP  |    -2.1 |\n",
       "| BAS | 2024-12-31 23:00:00 | 2024 | 12 | 31 | 23 | Tue | Weekday | Winter | PREC  |     0.0 |\n",
       "| BAS | 2024-12-31 23:00:00 | 2024 | 12 | 31 | 23 | Tue | Weekday | Winter | RAD   |     0.0 |\n",
       "| BAS | 2024-12-31 23:00:00 | 2024 | 12 | 31 | 23 | Tue | Weekday | Winter | SO2   |     1.3 |\n",
       "| BAS | 2024-12-31 23:00:00 | 2024 | 12 | 31 | 23 | Tue | Weekday | Winter | PM2.5 |    38.8 |\n",
       "| BAS | 2024-12-31 23:00:00 | 2024 | 12 | 31 | 23 | Tue | Weekday | Winter | EC    |     1.1 |\n",
       "| BAS | 2024-12-31 23:00:00 | 2024 | 12 | 31 | 23 | Tue | Weekday | Winter | CPC   | 15483.7 |\n",
       "\n"
      ],
      "text/plain": [
       "       site datetime            year month day hour dayofwk daytype season\n",
       "1      DAV  2024-01-01 00:00:00 2024 1     1   0    Mon     Weekday Winter\n",
       "2      DAV  2024-01-01 00:00:00 2024 1     1   0    Mon     Weekday Winter\n",
       "3      DAV  2024-01-01 00:00:00 2024 1     1   0    Mon     Weekday Winter\n",
       "4      DAV  2024-01-01 00:00:00 2024 1     1   0    Mon     Weekday Winter\n",
       "5      DAV  2024-01-01 00:00:00 2024 1     1   0    Mon     Weekday Winter\n",
       "6      DAV  2024-01-01 00:00:00 2024 1     1   0    Mon     Weekday Winter\n",
       "7      DAV  2024-01-01 00:00:00 2024 1     1   0    Mon     Weekday Winter\n",
       "8      DAV  2024-01-01 00:00:00 2024 1     1   0    Mon     Weekday Winter\n",
       "9      DAV  2024-01-01 00:00:00 2024 1     1   0    Mon     Weekday Winter\n",
       "10     DAV  2024-01-01 00:00:00 2024 1     1   0    Mon     Weekday Winter\n",
       "11     DAV  2024-01-01 00:00:00 2024 1     1   0    Mon     Weekday Winter\n",
       "12     DAV  2024-01-01 01:00:00 2024 1     1   1    Mon     Weekday Winter\n",
       "13     DAV  2024-01-01 01:00:00 2024 1     1   1    Mon     Weekday Winter\n",
       "14     DAV  2024-01-01 01:00:00 2024 1     1   1    Mon     Weekday Winter\n",
       "15     DAV  2024-01-01 01:00:00 2024 1     1   1    Mon     Weekday Winter\n",
       "16     DAV  2024-01-01 01:00:00 2024 1     1   1    Mon     Weekday Winter\n",
       "17     DAV  2024-01-01 01:00:00 2024 1     1   1    Mon     Weekday Winter\n",
       "18     DAV  2024-01-01 01:00:00 2024 1     1   1    Mon     Weekday Winter\n",
       "19     DAV  2024-01-01 01:00:00 2024 1     1   1    Mon     Weekday Winter\n",
       "20     DAV  2024-01-01 01:00:00 2024 1     1   1    Mon     Weekday Winter\n",
       "21     DAV  2024-01-01 01:00:00 2024 1     1   1    Mon     Weekday Winter\n",
       "22     DAV  2024-01-01 01:00:00 2024 1     1   1    Mon     Weekday Winter\n",
       "23     DAV  2024-01-01 02:00:00 2024 1     1   2    Mon     Weekday Winter\n",
       "24     DAV  2024-01-01 02:00:00 2024 1     1   2    Mon     Weekday Winter\n",
       "25     DAV  2024-01-01 02:00:00 2024 1     1   2    Mon     Weekday Winter\n",
       "26     DAV  2024-01-01 02:00:00 2024 1     1   2    Mon     Weekday Winter\n",
       "27     DAV  2024-01-01 02:00:00 2024 1     1   2    Mon     Weekday Winter\n",
       "28     DAV  2024-01-01 02:00:00 2024 1     1   2    Mon     Weekday Winter\n",
       "29     DAV  2024-01-01 02:00:00 2024 1     1   2    Mon     Weekday Winter\n",
       "30     DAV  2024-01-01 02:00:00 2024 1     1   2    Mon     Weekday Winter\n",
       "...    ...  ...                 ...  ...   ... ...  ...     ...     ...   \n",
       "193219 BAS  2024-12-31 21:00:00 2024 12    31  21   Tue     Weekday Winter\n",
       "193220 BAS  2024-12-31 21:00:00 2024 12    31  21   Tue     Weekday Winter\n",
       "193221 BAS  2024-12-31 21:00:00 2024 12    31  21   Tue     Weekday Winter\n",
       "193222 BAS  2024-12-31 21:00:00 2024 12    31  21   Tue     Weekday Winter\n",
       "193223 BAS  2024-12-31 21:00:00 2024 12    31  21   Tue     Weekday Winter\n",
       "193224 BAS  2024-12-31 21:00:00 2024 12    31  21   Tue     Weekday Winter\n",
       "193225 BAS  2024-12-31 21:00:00 2024 12    31  21   Tue     Weekday Winter\n",
       "193226 BAS  2024-12-31 21:00:00 2024 12    31  21   Tue     Weekday Winter\n",
       "193227 BAS  2024-12-31 22:00:00 2024 12    31  22   Tue     Weekday Winter\n",
       "193228 BAS  2024-12-31 22:00:00 2024 12    31  22   Tue     Weekday Winter\n",
       "193229 BAS  2024-12-31 22:00:00 2024 12    31  22   Tue     Weekday Winter\n",
       "193230 BAS  2024-12-31 22:00:00 2024 12    31  22   Tue     Weekday Winter\n",
       "193231 BAS  2024-12-31 22:00:00 2024 12    31  22   Tue     Weekday Winter\n",
       "193232 BAS  2024-12-31 22:00:00 2024 12    31  22   Tue     Weekday Winter\n",
       "193233 BAS  2024-12-31 22:00:00 2024 12    31  22   Tue     Weekday Winter\n",
       "193234 BAS  2024-12-31 22:00:00 2024 12    31  22   Tue     Weekday Winter\n",
       "193235 BAS  2024-12-31 22:00:00 2024 12    31  22   Tue     Weekday Winter\n",
       "193236 BAS  2024-12-31 22:00:00 2024 12    31  22   Tue     Weekday Winter\n",
       "193237 BAS  2024-12-31 22:00:00 2024 12    31  22   Tue     Weekday Winter\n",
       "193238 BAS  2024-12-31 23:00:00 2024 12    31  23   Tue     Weekday Winter\n",
       "193239 BAS  2024-12-31 23:00:00 2024 12    31  23   Tue     Weekday Winter\n",
       "193240 BAS  2024-12-31 23:00:00 2024 12    31  23   Tue     Weekday Winter\n",
       "193241 BAS  2024-12-31 23:00:00 2024 12    31  23   Tue     Weekday Winter\n",
       "193242 BAS  2024-12-31 23:00:00 2024 12    31  23   Tue     Weekday Winter\n",
       "193243 BAS  2024-12-31 23:00:00 2024 12    31  23   Tue     Weekday Winter\n",
       "193244 BAS  2024-12-31 23:00:00 2024 12    31  23   Tue     Weekday Winter\n",
       "193245 BAS  2024-12-31 23:00:00 2024 12    31  23   Tue     Weekday Winter\n",
       "193246 BAS  2024-12-31 23:00:00 2024 12    31  23   Tue     Weekday Winter\n",
       "193247 BAS  2024-12-31 23:00:00 2024 12    31  23   Tue     Weekday Winter\n",
       "193248 BAS  2024-12-31 23:00:00 2024 12    31  23   Tue     Weekday Winter\n",
       "       variable value  \n",
       "1      O3       57.7   \n",
       "2      NO2       1.9   \n",
       "3      PM10      1.2   \n",
       "4      NOX       1.9   \n",
       "5      TEMP     -2.2   \n",
       "6      PREC      0.0   \n",
       "7      RAD      -0.6   \n",
       "8      SO2        NA   \n",
       "9      PM2.5      NA   \n",
       "10     EC         NA   \n",
       "11     CPC        NA   \n",
       "12     O3       55.2   \n",
       "13     NO2       2.1   \n",
       "14     PM10      1.5   \n",
       "15     NOX       2.1   \n",
       "16     TEMP     -2.8   \n",
       "17     PREC      0.0   \n",
       "18     RAD      -0.7   \n",
       "19     SO2        NA   \n",
       "20     PM2.5      NA   \n",
       "21     EC         NA   \n",
       "22     CPC        NA   \n",
       "23     O3       49.9   \n",
       "24     NO2       3.7   \n",
       "25     PM10      2.2   \n",
       "26     NOX       3.7   \n",
       "27     TEMP     -3.3   \n",
       "28     PREC      0.0   \n",
       "29     RAD      -0.7   \n",
       "30     SO2        NA   \n",
       "...    ...      ...    \n",
       "193219 NOX         51.6\n",
       "193220 TEMP        -1.4\n",
       "193221 PREC         0.0\n",
       "193222 RAD          0.0\n",
       "193223 SO2          1.1\n",
       "193224 PM2.5       36.1\n",
       "193225 EC           1.2\n",
       "193226 CPC      15172.2\n",
       "193227 O3           2.6\n",
       "193228 NO2         34.3\n",
       "193229 PM10        36.7\n",
       "193230 NOX         48.5\n",
       "193231 TEMP        -1.8\n",
       "193232 PREC         0.0\n",
       "193233 RAD          0.0\n",
       "193234 SO2          1.4\n",
       "193235 PM2.5       36.3\n",
       "193236 EC           1.2\n",
       "193237 CPC      16183.8\n",
       "193238 O3           3.0\n",
       "193239 NO2         34.2\n",
       "193240 PM10        38.7\n",
       "193241 NOX         42.5\n",
       "193242 TEMP        -2.1\n",
       "193243 PREC         0.0\n",
       "193244 RAD          0.0\n",
       "193245 SO2          1.3\n",
       "193246 PM2.5       38.8\n",
       "193247 EC           1.1\n",
       "193248 CPC      15483.7"
      ]
     },
     "metadata": {},
     "output_type": "display_data"
    }
   ],
   "source": [
    "all_data_lf"
   ]
  },
  {
   "cell_type": "code",
   "execution_count": 185,
   "id": "58c34533-cf84-4fd1-9a52-2cd925a67213",
   "metadata": {},
   "outputs": [
    {
     "name": "stderr",
     "output_type": "stream",
     "text": [
      "Warning message:\n",
      "\"\u001b[1m\u001b[22mRemoved 17568 rows containing missing values (`geom_line()`).\"\n"
     ]
    },
    {
     "data": {
      "image/png": "[encoded data removed]",
      "text/plain": [
       "plot without title"
      ]
     },
     "metadata": {
      "image/png": {
       "height": 420,
       "width": 420
      }
     },
     "output_type": "display_data"
    }
   ],
   "source": [
    "  ggplot(all_data_lf)+                                        # `lf` is the data frame\n",
    "  facet_grid(variable~site, scale=\"free_y\")+         # panels created out of these variables\n",
    "  geom_line(aes(datetime, value, color=site))+       # plot `value` vs. `time` as lines\n",
    "  scale_x_datetime(\"2024\", date_labels = \"%b\") +\n",
    "  theme(axis.text.x=element_text(angle=30, hjust=1)) # rotate x-axis labels"
   ]
  },
  {
   "cell_type": "markdown",
   "id": "9e1fb43c-a8e9-406c-ba8c-171e3d566041",
   "metadata": {},
   "source": [
    "## checking data completeness"
   ]
  },
  {
   "cell_type": "code",
   "execution_count": 180,
   "id": "e7227f66-2f70-4d88-84de-df1ec8c5bad3",
   "metadata": {},
   "outputs": [
    {
     "data": {
      "text/html": [
       "<style>\n",
       ".dl-inline {width: auto; margin:0; padding: 0}\n",
       ".dl-inline>dt, .dl-inline>dd {float: none; width: auto; display: inline-block}\n",
       ".dl-inline>dt::after {content: \":\\0020\"; padding-right: .5ex}\n",
       ".dl-inline>dt:not(:first-of-type) {padding-left: .5ex}\n",
       "</style><dl class=dl-inline><dt>datetime</dt><dd>0</dd><dt>O3</dt><dd>18</dd><dt>NO2</dt><dd>22</dd><dt>PM10</dt><dd>98</dd><dt>NOx</dt><dd>22</dd><dt>TEMP</dt><dd>0</dd><dt>PREC</dt><dd>1</dd><dt>RAD</dt><dd>0</dd><dt>month</dt><dd>0</dd><dt>date</dt><dd>0</dd></dl>\n"
      ],
      "text/latex": [
       "\\begin{description*}\n",
       "\\item[datetime] 0\n",
       "\\item[O3] 18\n",
       "\\item[NO2] 22\n",
       "\\item[PM10] 98\n",
       "\\item[NOx] 22\n",
       "\\item[TEMP] 0\n",
       "\\item[PREC] 1\n",
       "\\item[RAD] 0\n",
       "\\item[month] 0\n",
       "\\item[date] 0\n",
       "\\end{description*}\n"
      ],
      "text/markdown": [
       "datetime\n",
       ":   0O3\n",
       ":   18NO2\n",
       ":   22PM10\n",
       ":   98NOx\n",
       ":   22TEMP\n",
       ":   0PREC\n",
       ":   1RAD\n",
       ":   0month\n",
       ":   0date\n",
       ":   0\n",
       "\n"
      ],
      "text/plain": [
       "datetime       O3      NO2     PM10      NOx     TEMP     PREC      RAD \n",
       "       0       18       22       98       22        0        1        0 \n",
       "   month     date \n",
       "       0        0 "
      ]
     },
     "metadata": {},
     "output_type": "display_data"
    }
   ],
   "source": [
    "colSums(is.na(DAVOS_data))"
   ]
  },
  {
   "cell_type": "code",
   "execution_count": 181,
   "id": "f8c205c8-099e-42a5-bbaf-723230dc7733",
   "metadata": {},
   "outputs": [
    {
     "data": {
      "text/html": [
       "<style>\n",
       ".dl-inline {width: auto; margin:0; padding: 0}\n",
       ".dl-inline>dt, .dl-inline>dd {float: none; width: auto; display: inline-block}\n",
       ".dl-inline>dt::after {content: \":\\0020\"; padding-right: .5ex}\n",
       ".dl-inline>dt:not(:first-of-type) {padding-left: .5ex}\n",
       "</style><dl class=dl-inline><dt>datetime</dt><dd>0</dd><dt>O3</dt><dd>67</dd><dt>NO2</dt><dd>74</dd><dt>SO2</dt><dd>68</dd><dt>PM10</dt><dd>113</dd><dt>PM2.5</dt><dd>281</dd><dt>EC</dt><dd>48</dd><dt>CPC</dt><dd>187</dd><dt>NOx</dt><dd>74</dd><dt>TEMP</dt><dd>0</dd><dt>PREC</dt><dd>72</dd><dt>RAD</dt><dd>0</dd><dt>month</dt><dd>0</dd><dt>date</dt><dd>0</dd></dl>\n"
      ],
      "text/latex": [
       "\\begin{description*}\n",
       "\\item[datetime] 0\n",
       "\\item[O3] 67\n",
       "\\item[NO2] 74\n",
       "\\item[SO2] 68\n",
       "\\item[PM10] 113\n",
       "\\item[PM2.5] 281\n",
       "\\item[EC] 48\n",
       "\\item[CPC] 187\n",
       "\\item[NOx] 74\n",
       "\\item[TEMP] 0\n",
       "\\item[PREC] 72\n",
       "\\item[RAD] 0\n",
       "\\item[month] 0\n",
       "\\item[date] 0\n",
       "\\end{description*}\n"
      ],
      "text/markdown": [
       "datetime\n",
       ":   0O3\n",
       ":   67NO2\n",
       ":   74SO2\n",
       ":   68PM10\n",
       ":   113PM2.5\n",
       ":   281EC\n",
       ":   48CPC\n",
       ":   187NOx\n",
       ":   74TEMP\n",
       ":   0PREC\n",
       ":   72RAD\n",
       ":   0month\n",
       ":   0date\n",
       ":   0\n",
       "\n"
      ],
      "text/plain": [
       "datetime       O3      NO2      SO2     PM10    PM2.5       EC      CPC \n",
       "       0       67       74       68      113      281       48      187 \n",
       "     NOx     TEMP     PREC      RAD    month     date \n",
       "      74        0       72        0        0        0 "
      ]
     },
     "metadata": {},
     "output_type": "display_data"
    }
   ],
   "source": [
    "colSums(is.na(BASEL_data))"
   ]
  },
  {
   "cell_type": "code",
   "execution_count": 183,
   "id": "d0467266-f1d7-4562-83ab-4f320e04bccd",
   "metadata": {},
   "outputs": [
    {
     "data": {
      "text/html": [
       "<style>\n",
       ".dl-inline {width: auto; margin:0; padding: 0}\n",
       ".dl-inline>dt, .dl-inline>dd {float: none; width: auto; display: inline-block}\n",
       ".dl-inline>dt::after {content: \":\\0020\"; padding-right: .5ex}\n",
       ".dl-inline>dt:not(:first-of-type) {padding-left: .5ex}\n",
       "</style><dl class=dl-inline><dt>site</dt><dd>0</dd><dt>datetime</dt><dd>0</dd><dt>year</dt><dd>2</dd><dt>month</dt><dd>2</dd><dt>day</dt><dd>2</dd><dt>hour</dt><dd>2</dd><dt>dayofwk</dt><dd>2</dd><dt>daytype</dt><dd>2</dd><dt>season</dt><dd>2</dd><dt>O3</dt><dd>85</dd><dt>NO2</dt><dd>96</dd><dt>PM10</dt><dd>211</dd><dt>NOX</dt><dd>96</dd><dt>TEMP</dt><dd>0</dd><dt>PREC</dt><dd>73</dd><dt>RAD</dt><dd>0</dd><dt>SO2</dt><dd>8852</dd><dt>PM2.5</dt><dd>9065</dd><dt>EC</dt><dd>8832</dd><dt>CPC</dt><dd>8971</dd></dl>\n"
      ],
      "text/latex": [
       "\\begin{description*}\n",
       "\\item[site] 0\n",
       "\\item[datetime] 0\n",
       "\\item[year] 2\n",
       "\\item[month] 2\n",
       "\\item[day] 2\n",
       "\\item[hour] 2\n",
       "\\item[dayofwk] 2\n",
       "\\item[daytype] 2\n",
       "\\item[season] 2\n",
       "\\item[O3] 85\n",
       "\\item[NO2] 96\n",
       "\\item[PM10] 211\n",
       "\\item[NOX] 96\n",
       "\\item[TEMP] 0\n",
       "\\item[PREC] 73\n",
       "\\item[RAD] 0\n",
       "\\item[SO2] 8852\n",
       "\\item[PM2.5] 9065\n",
       "\\item[EC] 8832\n",
       "\\item[CPC] 8971\n",
       "\\end{description*}\n"
      ],
      "text/markdown": [
       "site\n",
       ":   0datetime\n",
       ":   0year\n",
       ":   2month\n",
       ":   2day\n",
       ":   2hour\n",
       ":   2dayofwk\n",
       ":   2daytype\n",
       ":   2season\n",
       ":   2O3\n",
       ":   85NO2\n",
       ":   96PM10\n",
       ":   211NOX\n",
       ":   96TEMP\n",
       ":   0PREC\n",
       ":   73RAD\n",
       ":   0SO2\n",
       ":   8852PM2.5\n",
       ":   9065EC\n",
       ":   8832CPC\n",
       ":   8971\n",
       "\n"
      ],
      "text/plain": [
       "    site datetime     year    month      day     hour  dayofwk  daytype \n",
       "       0        0        2        2        2        2        2        2 \n",
       "  season       O3      NO2     PM10      NOX     TEMP     PREC      RAD \n",
       "       2       85       96      211       96        0       73        0 \n",
       "     SO2    PM2.5       EC      CPC \n",
       "    8852     9065     8832     8971 "
      ]
     },
     "metadata": {},
     "output_type": "display_data"
    }
   ],
   "source": [
    "colSums(is.na(all_data_df))"
   ]
  },
  {
   "cell_type": "code",
   "execution_count": 186,
   "id": "2703f316-2221-4157-ba4c-3356689f7e50",
   "metadata": {},
   "outputs": [
    {
     "name": "stderr",
     "output_type": "stream",
     "text": [
      "Warning message:\n",
      "\"\u001b[1m\u001b[22mRemoved 36281 rows containing non-finite values (`stat_boxplot()`).\"\n"
     ]
    },
    {
     "data": {
      "image/png": "[encoded data removed]",
      "text/plain": [
       "plot without title"
      ]
     },
     "metadata": {
      "image/png": {
       "height": 420,
       "width": 420
      }
     },
     "output_type": "display_data"
    }
   ],
   "source": [
    "lf %>% \n",
    "  mutate(month = factor(month)) %>%\n",
    "  ggplot +\n",
    "  facet_grid(variable ~ site, scale = \"free_y\") +\n",
    "  geom_boxplot(aes(month, value), outlier.size = 0.5, outlier.shape = 3)"
   ]
  },
  {
   "cell_type": "code",
   "execution_count": 188,
   "id": "434cad2e-03d6-4e5b-8698-d67b1ccf57ec",
   "metadata": {},
   "outputs": [
    {
     "data": {
      "image/png": "[encoded data removed]",
      "text/plain": [
       "plot without title"
      ]
     },
     "metadata": {
      "image/png": {
       "height": 420,
       "width": 420
      }
     },
     "output_type": "display_data"
    }
   ],
   "source": [
    "# DAVOS \n",
    "lf %>%\n",
    "  filter(site==\"DAV\" & !is.na(value)) %>%\n",
    "  ggplot +\n",
    "  facet_grid(variable ~ season, scale = \"free_y\") +\n",
    "  geom_boxplot(aes(daytype, value), outlier.size = 0.5, outlier.shape = 3)"
   ]
  },
  {
   "cell_type": "code",
   "execution_count": 189,
   "id": "b39a19b6-9f24-4e8d-979d-7cbef44640c2",
   "metadata": {},
   "outputs": [
    {
     "data": {
      "image/png": "[encoded data removed]",
      "text/plain": [
       "plot without title"
      ]
     },
     "metadata": {
      "image/png": {
       "height": 420,
       "width": 420
      }
     },
     "output_type": "display_data"
    }
   ],
   "source": [
    "# BASEL \n",
    "lf %>%\n",
    "  filter(site==\"BAS\" & !is.na(value)) %>%\n",
    "  ggplot +\n",
    "  facet_grid(variable ~ season, scale = \"free_y\") +\n",
    "  geom_boxplot(aes(daytype, value), outlier.size = 0.5, outlier.shape = 3)"
   ]
  },
  {
   "cell_type": "code",
   "execution_count": 191,
   "id": "b0bc9b91-bff2-4062-ba8c-0da00352e51e",
   "metadata": {},
   "outputs": [
    {
     "data": {
      "image/png": "[encoded data removed]",
      "text/plain": [
       "plot without title"
      ]
     },
     "metadata": {
      "image/png": {
       "height": 420,
       "width": 420
      }
     },
     "output_type": "display_data"
    }
   ],
   "source": [
    "lf %>%\n",
    "  filter(site==\"DAV\" & !is.na(value) & variable==\"PREC\") %>%\n",
    "  ggplot +\n",
    "  facet_grid(variable ~ season, scale = \"free_y\") +\n",
    "  geom_bar(aes(daytype, value), stat=\"summary\", fun=\"mean\", show.legend = FALSE) +\n",
    "  scale_y_continuous(\"Daily mean precipitation (mm)\", expand=expansion(mult=c(0, 0.1)))"
   ]
  },
  {
   "cell_type": "code",
   "execution_count": null,
   "id": "22574d15-83b1-48d7-a95b-9590c2d9c121",
   "metadata": {},
   "outputs": [],
   "source": []
  }
 ],
 "metadata": {
  "kernelspec": {
   "display_name": "R",
   "language": "R",
   "name": "ir"
  },
  "language_info": {
   "codemirror_mode": "r",
   "file_extension": ".r",
   "mimetype": "text/x-r-source",
   "name": "R",
   "pygments_lexer": "r",
   "version": "4.1.3"
  }
 },
 "nbformat": 4,
 "nbformat_minor": 5
}
